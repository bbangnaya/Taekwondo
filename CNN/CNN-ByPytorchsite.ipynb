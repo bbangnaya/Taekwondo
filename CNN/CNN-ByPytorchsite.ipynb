{
 "cells": [
  {
   "cell_type": "code",
   "execution_count": 20,
   "id": "e159e2b1",
   "metadata": {},
   "outputs": [],
   "source": [
    "import torch\n",
    "import torch.nn.functional as F\n",
    "from torch.utils.data import Dataset\n",
    "from torch.utils.data import DataLoader"
   ]
  },
  {
   "cell_type": "code",
   "execution_count": 21,
   "id": "528efe26",
   "metadata": {},
   "outputs": [],
   "source": [
    "# Dataset 상속\n",
    "class CustomDataset(Dataset): \n",
    "  def __init__(self):\n",
    "    self.x_data = [[73, 80, 75],\n",
    "                   [93, 88, 93],\n",
    "                   [89, 91, 90],\n",
    "                   [96, 98, 100],\n",
    "                   [73, 66, 70]]\n",
    "    self.y_data = [[152], [185], [180], [196], [142]]\n",
    "\n",
    "  # 총 데이터의 개수를 리턴\n",
    "  def __len__(self): \n",
    "    return len(self.x_data)\n",
    "\n",
    "  # 인덱스를 입력받아 그에 맵핑되는 입출력 데이터를 파이토치의 Tensor 형태로 리턴\n",
    "  def __getitem__(self, idx): \n",
    "    x = torch.FloatTensor(self.x_data[idx])\n",
    "    y = torch.FloatTensor(self.y_data[idx])\n",
    "    return x, y"
   ]
  },
  {
   "cell_type": "code",
   "execution_count": 22,
   "id": "5498039b",
   "metadata": {},
   "outputs": [],
   "source": [
    "dataset = CustomDataset()\n",
    "dataloader = DataLoader(dataset, batch_size=2, shuffle=True)"
   ]
  },
  {
   "cell_type": "code",
   "execution_count": 23,
   "id": "91244eb1",
   "metadata": {},
   "outputs": [],
   "source": [
    "model = torch.nn.Linear(3,1)\n",
    "optimizer = torch.optim.SGD(model.parameters(), lr=1e-5) "
   ]
  },
  {
   "cell_type": "code",
   "execution_count": 24,
   "id": "f89db551",
   "metadata": {},
   "outputs": [
    {
     "name": "stdout",
     "output_type": "stream",
     "text": [
      "Epoch    0/20 Batch 1/3 Cost: 58424.925781\n",
      "Epoch    0/20 Batch 2/3 Cost: 41601.789062\n",
      "Epoch    0/20 Batch 3/3 Cost: 12167.805664\n",
      "Epoch    1/20 Batch 1/3 Cost: 1627.612427\n",
      "Epoch    1/20 Batch 2/3 Cost: 601.304565\n",
      "Epoch    1/20 Batch 3/3 Cost: 251.627716\n",
      "Epoch    2/20 Batch 1/3 Cost: 43.810959\n",
      "Epoch    2/20 Batch 2/3 Cost: 10.234465\n",
      "Epoch    2/20 Batch 3/3 Cost: 12.471990\n",
      "Epoch    3/20 Batch 1/3 Cost: 0.083632\n",
      "Epoch    3/20 Batch 2/3 Cost: 4.610258\n",
      "Epoch    3/20 Batch 3/3 Cost: 0.028905\n",
      "Epoch    4/20 Batch 1/3 Cost: 0.498635\n",
      "Epoch    4/20 Batch 2/3 Cost: 1.650578\n",
      "Epoch    4/20 Batch 3/3 Cost: 2.422465\n",
      "Epoch    5/20 Batch 1/3 Cost: 2.551644\n",
      "Epoch    5/20 Batch 2/3 Cost: 0.888944\n",
      "Epoch    5/20 Batch 3/3 Cost: 0.003505\n",
      "Epoch    6/20 Batch 1/3 Cost: 2.303836\n",
      "Epoch    6/20 Batch 2/3 Cost: 0.722229\n",
      "Epoch    6/20 Batch 3/3 Cost: 0.026627\n",
      "Epoch    7/20 Batch 1/3 Cost: 2.043596\n",
      "Epoch    7/20 Batch 2/3 Cost: 0.932809\n",
      "Epoch    7/20 Batch 3/3 Cost: 1.926164\n",
      "Epoch    8/20 Batch 1/3 Cost: 1.250857\n",
      "Epoch    8/20 Batch 2/3 Cost: 0.494636\n",
      "Epoch    8/20 Batch 3/3 Cost: 4.462669\n",
      "Epoch    9/20 Batch 1/3 Cost: 1.328900\n",
      "Epoch    9/20 Batch 2/3 Cost: 2.427368\n",
      "Epoch    9/20 Batch 3/3 Cost: 0.533495\n",
      "Epoch   10/20 Batch 1/3 Cost: 2.757399\n",
      "Epoch   10/20 Batch 2/3 Cost: 1.940761\n",
      "Epoch   10/20 Batch 3/3 Cost: 0.020385\n",
      "Epoch   11/20 Batch 1/3 Cost: 0.093327\n",
      "Epoch   11/20 Batch 2/3 Cost: 1.240079\n",
      "Epoch   11/20 Batch 3/3 Cost: 3.723046\n",
      "Epoch   12/20 Batch 1/3 Cost: 1.601690\n",
      "Epoch   12/20 Batch 2/3 Cost: 0.254061\n",
      "Epoch   12/20 Batch 3/3 Cost: 3.099407\n",
      "Epoch   13/20 Batch 1/3 Cost: 1.297125\n",
      "Epoch   13/20 Batch 2/3 Cost: 0.079389\n",
      "Epoch   13/20 Batch 3/3 Cost: 4.075179\n",
      "Epoch   14/20 Batch 1/3 Cost: 1.124382\n",
      "Epoch   14/20 Batch 2/3 Cost: 2.513423\n",
      "Epoch   14/20 Batch 3/3 Cost: 1.420976\n",
      "Epoch   15/20 Batch 1/3 Cost: 1.429224\n",
      "Epoch   15/20 Batch 2/3 Cost: 0.764563\n",
      "Epoch   15/20 Batch 3/3 Cost: 3.023319\n",
      "Epoch   16/20 Batch 1/3 Cost: 2.769798\n",
      "Epoch   16/20 Batch 2/3 Cost: 1.766107\n",
      "Epoch   16/20 Batch 3/3 Cost: 0.617453\n",
      "Epoch   17/20 Batch 1/3 Cost: 0.918946\n",
      "Epoch   17/20 Batch 2/3 Cost: 2.854926\n",
      "Epoch   17/20 Batch 3/3 Cost: 0.653824\n",
      "Epoch   18/20 Batch 1/3 Cost: 2.615055\n",
      "Epoch   18/20 Batch 2/3 Cost: 1.999520\n",
      "Epoch   18/20 Batch 3/3 Cost: 0.019909\n",
      "Epoch   19/20 Batch 1/3 Cost: 0.567824\n",
      "Epoch   19/20 Batch 2/3 Cost: 2.498741\n",
      "Epoch   19/20 Batch 3/3 Cost: 1.150670\n",
      "Epoch   20/20 Batch 1/3 Cost: 2.425285\n",
      "Epoch   20/20 Batch 2/3 Cost: 0.460373\n",
      "Epoch   20/20 Batch 3/3 Cost: 1.021106\n"
     ]
    }
   ],
   "source": [
    "nb_epochs = 20\n",
    "for epoch in range(nb_epochs + 1):\n",
    "  for batch_idx, samples in enumerate(dataloader):\n",
    "    # print(batch_idx)\n",
    "    # print(samples)\n",
    "    x_train, y_train = samples\n",
    "    # H(x) 계산\n",
    "    prediction = model(x_train)\n",
    "\n",
    "    # cost 계산\n",
    "    cost = F.mse_loss(prediction, y_train)\n",
    "\n",
    "    # cost로 H(x) 계산\n",
    "    optimizer.zero_grad()\n",
    "    cost.backward()\n",
    "    optimizer.step()\n",
    "\n",
    "    print('Epoch {:4d}/{} Batch {}/{} Cost: {:.6f}'.format(\n",
    "        epoch, nb_epochs, batch_idx+1, len(dataloader),\n",
    "        cost.item()\n",
    "        ))"
   ]
  }
 ],
 "metadata": {
  "interpreter": {
   "hash": "89bb52cca1f6c3426a3b04b89aa4cce21001bfd22c9f333046fd1dfb4c2a71c6"
  },
  "kernelspec": {
   "display_name": "Python 3.9.7 ('project')",
   "language": "python",
   "name": "python3"
  },
  "language_info": {
   "codemirror_mode": {
    "name": "ipython",
    "version": 3
   },
   "file_extension": ".py",
   "mimetype": "text/x-python",
   "name": "python",
   "nbconvert_exporter": "python",
   "pygments_lexer": "ipython3",
   "version": "3.9.7"
  }
 },
 "nbformat": 4,
 "nbformat_minor": 5
}
