{
 "cells": [
  {
   "cell_type": "code",
   "execution_count": 1,
   "id": "9ba93bf4",
   "metadata": {},
   "outputs": [],
   "source": [
    "# https://wikidocs.net/63618\n",
    "import torch\n",
    "from torch.utils.data import Dataset, DataLoader\n",
    "import numpy as np\n",
    "\n",
    "import torchvision\n",
    "from torchvision import transforms, datasets\n",
    "import torchvision.datasets as dsets\n",
    "import torchvision.transforms as transforms\n",
    "from torchvision.io import read_image\n",
    "\n",
    "\n",
    "\n",
    "import torch.nn.init\n",
    "from ast import increment_lineno\n",
    "\n",
    "from PIL import Image\n",
    "import matplotlib\n",
    "import matplotlib.pyplot as plt\n",
    "\n",
    "\n",
    "import torch.nn as nn\n",
    "import torch.nn.functional as F\n",
    "\n",
    "import os\n",
    "import pandas as pd\n",
    "\n",
    "import cv2\n"
   ]
  },
  {
   "cell_type": "code",
   "execution_count": 2,
   "id": "b9239461",
   "metadata": {},
   "outputs": [
    {
     "name": "stdout",
     "output_type": "stream",
     "text": [
      "Using Pytorch version: 1.11.0 Device: cuda\n"
     ]
    }
   ],
   "source": [
    "# 2. 딥러닝 모델 설계할 때 활용하는 장비 확인\n",
    "if torch.cuda.is_available():\n",
    "     DEVICE=torch.device('cuda')\n",
    "else:\n",
    "     DEVICE=torch.device('cpu')\n",
    "\n",
    "print('Using Pytorch version:',torch.__version__,'Device:',DEVICE)"
   ]
  },
  {
   "cell_type": "code",
   "execution_count": 3,
   "id": "458180ae",
   "metadata": {},
   "outputs": [],
   "source": [
    "learning_rate = 0.001\n",
    "training_epochs = 15\n",
    "batch_size = 32"
   ]
  },
  {
   "cell_type": "code",
   "execution_count": 4,
   "id": "1314f9e9",
   "metadata": {},
   "outputs": [],
   "source": [
    "class CustomImageDataset(Dataset):\n",
    "    def __init__(self, csv_file, img_dir, transform=None, target_transform=None):\n",
    "        self.img_labels = pd.read_csv(csv_file)         # annotation_file을 csv_file로 바꿈\n",
    "        self.img_dir = img_dir\n",
    "        self.transform = transform\n",
    "        self.target_transform = target_transform\n",
    "\n",
    "    def __len__(self):\n",
    "        return len(self.img_labels)\n",
    "\n",
    "    def __getitem__(self, idx):\n",
    "        img_path = os.path.join(self.img_dir, self.img_labels.iloc[idx, 1])\n",
    "        image = read_image(img_path)\n",
    "        label = self.img_labels.iloc[idx, 0]\n",
    "        if self.transform:\n",
    "            image = self.transform(image)\n",
    "        if self.target_transform:\n",
    "            label = self.target_transform(label)\n",
    "        if self.transform:\n",
    "            sample = {'image': image, 'label': label}\n",
    "        \n",
    "        return sample\n",
    "    \n",
    "        "
   ]
  },
  {
   "cell_type": "code",
   "execution_count": 5,
   "id": "24df3bd9",
   "metadata": {},
   "outputs": [],
   "source": [
    "train_data = CustomImageDataset(\"../train.csv\",\n",
    "                                   \".././Taekwondo/DataSet/train_/\",\n",
    "                                   transform=transforms.Compose([transforms.Resize((32,32)),\n",
    "                            transforms.ToPILImage(),transforms.ToTensor(),\n",
    "                            transforms.Normalize((0.5,0.5,0.5),(0.5,0.5,0.5))\n",
    "                            ]))\n",
    "test_data = CustomImageDataset(\"../test.csv\",\n",
    "                               \".././Taekwondo/DataSet/test_/\",\n",
    "                               transform=transforms.Compose([transforms.Resize((32,32)),\n",
    "                            transforms.ToPILImage(),transforms.ToTensor(),\n",
    "                            transforms.Normalize((0.5,0.5,0.5),(0.5,0.5,0.5))\n",
    "                            ]))\n"
   ]
  },
  {
   "cell_type": "code",
   "execution_count": 6,
   "id": "81f58818",
   "metadata": {},
   "outputs": [
    {
     "data": {
      "text/plain": [
       "{'image': tensor([[[-0.0824, -0.0824, -0.0745,  ..., -0.0196, -0.0667, -0.1451],\n",
       "          [-0.0745, -0.0353, -0.0353,  ..., -0.0275, -0.1137, -0.1137],\n",
       "          [-0.0118,  0.0039,  0.0118,  ..., -0.0745, -0.0588, -0.0118],\n",
       "          ...,\n",
       "          [-0.0353, -0.0510,  0.0039,  ..., -0.0510, -0.0275, -0.0588],\n",
       "          [-0.0196, -0.0118, -0.0353,  ..., -0.0431, -0.0353, -0.0745],\n",
       "          [-0.0902, -0.0353, -0.0118,  ..., -0.0275, -0.0510, -0.0431]],\n",
       " \n",
       "         [[ 0.0039, -0.0196, -0.0118,  ...,  0.0588,  0.0118, -0.0353],\n",
       "          [ 0.0118,  0.0275,  0.0275,  ...,  0.0510, -0.0196, -0.0196],\n",
       "          [ 0.0745,  0.0667,  0.0745,  ...,  0.0039,  0.0196,  0.0824],\n",
       "          ...,\n",
       "          [ 0.0667,  0.0510,  0.0980,  ...,  0.0353,  0.0588,  0.0275],\n",
       "          [ 0.0824,  0.0902,  0.0588,  ...,  0.0431,  0.0667,  0.0118],\n",
       "          [ 0.0118,  0.0588,  0.0824,  ...,  0.0588,  0.0353,  0.0588]],\n",
       " \n",
       "         [[-0.1059, -0.1059, -0.0980,  ..., -0.0039, -0.0510, -0.1373],\n",
       "          [-0.0980, -0.0588, -0.0588,  ..., -0.0118, -0.1137, -0.1137],\n",
       "          [-0.0353, -0.0196, -0.0118,  ..., -0.0588, -0.0431,  0.0039],\n",
       "          ...,\n",
       "          [-0.0902, -0.0902, -0.0588,  ..., -0.0902, -0.0667, -0.0980],\n",
       "          [-0.0745, -0.0510, -0.0980,  ..., -0.0824, -0.0745, -0.1137],\n",
       "          [-0.1451, -0.0980, -0.0745,  ..., -0.0667, -0.0902, -0.0824]]]),\n",
       " 'label': 0}"
      ]
     },
     "execution_count": 6,
     "metadata": {},
     "output_type": "execute_result"
    }
   ],
   "source": [
    "# 이미지, 라벨 출력용\n",
    "train_data[0]\n",
    "train_data[1]\n",
    "train_data[0]"
   ]
  },
  {
   "cell_type": "code",
   "execution_count": 7,
   "id": "f6c094ed",
   "metadata": {},
   "outputs": [
    {
     "name": "stdout",
     "output_type": "stream",
     "text": [
      "3931\n",
      "0 torch.Size([3, 32, 32]) 0\n",
      "1 torch.Size([3, 32, 32]) 0\n",
      "2 torch.Size([3, 32, 32]) 0\n",
      "3 torch.Size([3, 32, 32]) 0\n",
      "4 torch.Size([3, 32, 32]) 0\n",
      "5 torch.Size([3, 32, 32]) 0\n",
      "6 torch.Size([3, 32, 32]) 0\n",
      "7 torch.Size([3, 32, 32]) 0\n",
      "8 torch.Size([3, 32, 32]) 0\n",
      "9 torch.Size([3, 32, 32]) 0\n",
      "10 torch.Size([3, 32, 32]) 0\n"
     ]
    }
   ],
   "source": [
    "# train_data 개수와 크기\n",
    "print(len(train_data))\n",
    "for i in range(len(train_data)):\n",
    "    sample = train_data[i]\n",
    "    print(i,sample['image'].size(),sample['label'])\n",
    "    if i == 10:\n",
    "          break"
   ]
  },
  {
   "cell_type": "code",
   "execution_count": 24,
   "id": "b2f44ee8",
   "metadata": {},
   "outputs": [],
   "source": [
    "# 데이터 전처리화\n",
    "# https://data-panic.tistory.com/13\n",
    "# https://tutorials.pytorch.kr/beginner/data_loading_tutorial.html\n",
    "# 하위 폴더가 존재해야 함. 하위 폴더 만들어보자(0~7)\n",
    "\n",
    "root = \".././Taekwondo/DataSet/train_Image\"\n",
    "test_root = \".././Taekwondo/DataSet/test_Image\"\n",
    "\n",
    "trans = transforms.Compose([transforms.Resize((32,32)),\n",
    "                            transforms.ToTensor(),\n",
    "                            ])\n",
    "\n",
    "tests = transforms.Compose([transforms.Resize((32,32)),\n",
    "                            transforms.ToTensor(),\n",
    "                            ])\n",
    "\n",
    "test_dataset = torchvision.datasets.ImageFolder(root = test_root,\n",
    "                                           transform = tests)\n",
    "\n",
    "trainset = torchvision.datasets.ImageFolder(root = root,\n",
    "                                           transform = trans)\n",
    "\n",
    "train_loader = torch.utils.data.DataLoader(dataset=trainset,\n",
    "                                          batch_size=batch_size,\n",
    "                                          shuffle=True,\n",
    "                                          drop_last=True)\n",
    "\n",
    "test_loader = torch.utils.data.DataLoader(dataset=test_dataset,\n",
    "                                          batch_size=batch_size,\n",
    "                                          shuffle=True,\n",
    "                                          drop_last=True)\n"
   ]
  },
  {
   "cell_type": "code",
   "execution_count": 9,
   "id": "72e4ed8b",
   "metadata": {},
   "outputs": [
    {
     "name": "stdout",
     "output_type": "stream",
     "text": [
      "X_train: torch.Size([32, 3, 32, 32]) type: torch.FloatTensor\n",
      "Y_train: torch.Size([32]) type: torch.LongTensor\n"
     ]
    },
    {
     "data": {
      "image/png": "[encoded data removed]",
      "text/plain": [
       "<Figure size 720x72 with 10 Axes>"
      ]
     },
     "metadata": {
      "needs_background": "light"
     },
     "output_type": "display_data"
    }
   ],
   "source": [
    "# 5. 데이터 확인하기\n",
    "for(X_train,Y_train)in train_loader:\n",
    "    print('X_train:',X_train.size(),'type:', X_train.type())\n",
    "    print('Y_train:',Y_train.size(),'type:', Y_train.type())\n",
    "    break\n",
    "\n",
    "pltsize = 1\n",
    "plt.figure(figsize=(10 * pltsize, pltsize))\n",
    "\n",
    "for i in range(10):\n",
    "    plt.subplot(1,10,i+1)     # 여러 그래프 그리기, 첫숫자 : 행, 둘째 : 열\n",
    "    plt.axis('off')           # 축없음\n",
    "    plt.imshow(np.transpose(X_train[i],(1,2,0)))\n",
    "    plt.title('Class: ' + str(Y_train[i].item()))\n",
    "# imshow : 이미지 출력"
   ]
  },
  {
   "cell_type": "code",
   "execution_count": 10,
   "id": "e90d5600",
   "metadata": {},
   "outputs": [
    {
     "name": "stdout",
     "output_type": "stream",
     "text": [
      "3936\n"
     ]
    },
    {
     "data": {
      "text/plain": [
       "(tensor([[[0.4863, 0.4941, 0.4980,  ..., 0.5255, 0.4941, 0.4314],\n",
       "          [0.4980, 0.5059, 0.5098,  ..., 0.5098, 0.4471, 0.4510],\n",
       "          [0.4863, 0.5255, 0.5373,  ..., 0.4667, 0.4824, 0.5373],\n",
       "          ...,\n",
       "          [0.5608, 0.5765, 0.5843,  ..., 0.5490, 0.5490, 0.5412],\n",
       "          [0.5608, 0.5725, 0.5765,  ..., 0.5490, 0.5412, 0.5373],\n",
       "          [0.5529, 0.5647, 0.5765,  ..., 0.5529, 0.5412, 0.5333]],\n",
       " \n",
       "         [[0.5294, 0.5255, 0.5294,  ..., 0.5647, 0.5373, 0.4784],\n",
       "          [0.5373, 0.5373, 0.5412,  ..., 0.5490, 0.4902, 0.4941],\n",
       "          [0.5255, 0.5569, 0.5686,  ..., 0.5059, 0.5255, 0.5765],\n",
       "          ...,\n",
       "          [0.6078, 0.6118, 0.6157,  ..., 0.5922, 0.5922, 0.5843],\n",
       "          [0.6039, 0.6118, 0.6118,  ..., 0.5922, 0.5843, 0.5804],\n",
       "          [0.6000, 0.6039, 0.6118,  ..., 0.5961, 0.5843, 0.5765]],\n",
       " \n",
       "         [[0.4824, 0.4824, 0.4863,  ..., 0.5333, 0.4941, 0.4314],\n",
       "          [0.4863, 0.4941, 0.4980,  ..., 0.5176, 0.4510, 0.4549],\n",
       "          [0.4745, 0.5137, 0.5255,  ..., 0.4745, 0.4902, 0.5412],\n",
       "          ...,\n",
       "          [0.5294, 0.5373, 0.5451,  ..., 0.5294, 0.5294, 0.5216],\n",
       "          [0.5294, 0.5333, 0.5373,  ..., 0.5294, 0.5216, 0.5176],\n",
       "          [0.5216, 0.5294, 0.5373,  ..., 0.5333, 0.5216, 0.5137]]]),\n",
       " 6)"
      ]
     },
     "execution_count": 10,
     "metadata": {},
     "output_type": "execute_result"
    }
   ],
   "source": [
    "# 데이터 전처리화 테스트\n",
    "print(len(trainset))\n",
    "trainset.__getitem__(3000)"
   ]
  },
  {
   "cell_type": "code",
   "execution_count": 11,
   "id": "e5cf0b18",
   "metadata": {},
   "outputs": [
    {
     "data": {
      "text/plain": [
       "['A01', 'A04', 'A05', 'A06', 'A07', 'A08', 'A10', 'A14']"
      ]
     },
     "execution_count": 11,
     "metadata": {},
     "output_type": "execute_result"
    }
   ],
   "source": [
    "classes = trainset.classes\n",
    "classes"
   ]
  },
  {
   "cell_type": "code",
   "execution_count": 12,
   "id": "41d4a101",
   "metadata": {},
   "outputs": [],
   "source": [
    "#train_loader = torch.utils.data.DataLoader(dataset=train_data,\n",
    "#                                          batch_size=batch_size,\n",
    "#                                          shuffle=True,\n",
    "#                                          drop_last=True)"
   ]
  },
  {
   "cell_type": "code",
   "execution_count": 13,
   "id": "dde5b914",
   "metadata": {},
   "outputs": [],
   "source": [
    "# DataLoader(torch.utils.data.DataLodaer) 설명\n",
    "# https://acdongpgm.tistory.com/233\n",
    "# 데이터의 접근하려면 python 의 내장함수 iter 와 next 을 사용하여 접근할 수 있다.\n",
    "# train_features, train_labels = next(iter(train_loader))\n",
    "#\n",
    "# train_loader                       # \n",
    "\n",
    "# print(train_features[0])           \n",
    "# train_labels[0]                    # 라벨링 보여주기\n",
    "# print(train_features[0].shape)\n",
    "# 채널 3, 가로 \n",
    "# torch.Tensor(1,3,32,32)"
   ]
  },
  {
   "cell_type": "code",
   "execution_count": 14,
   "id": "a4f215a2",
   "metadata": {},
   "outputs": [],
   "source": [
    "class CNN(torch.nn.Module):\n",
    "\n",
    "    def __init__(self):\n",
    "        super(CNN, self).__init__()\n",
    "        self.keep_prob = 0.5\n",
    "        # L1 ImgIn shape=(?, 32, 32, 3)\n",
    "        #    ImgIn shape=(?, height, width, channel)\n",
    "        #    Conv     -> (?, 32, 32, 32)\n",
    "        #    Pool     -> (?, 16, 16, 32)\n",
    "        self.layer1 = torch.nn.Sequential(\n",
    "            torch.nn.Conv2d(3, 32, kernel_size=3, stride=1, padding=1),\n",
    "            # 입력채널 3, 출력 채널 32, \n",
    "            torch.nn.ReLU(),\n",
    "            torch.nn.MaxPool2d(kernel_size=2, stride=2))\n",
    "        # L2 ImgIn shape=(?, 16, 16, 32)\n",
    "        #    Conv      ->(?, 16, 16, 64)\n",
    "        #    Pool      ->(?, 8, 8, 64)\n",
    "        self.layer2 = torch.nn.Sequential(\n",
    "            torch.nn.Conv2d(32, 64, kernel_size=3, stride=1, padding=1),\n",
    "            torch.nn.ReLU(),\n",
    "            torch.nn.MaxPool2d(kernel_size=2, stride=2))\n",
    "        # L3 ImgIn shape=(?, 8, 8, 64)\n",
    "        #    Conv      ->(?, 8, 8, 128)\n",
    "        #    Pool      ->(?, 4, 4, 128)\n",
    "        self.layer3 = torch.nn.Sequential(\n",
    "            torch.nn.Conv2d(64, 128, kernel_size=3, stride=1, padding=1),\n",
    "            torch.nn.ReLU(),\n",
    "            torch.nn.MaxPool2d(kernel_size=2, stride=2, padding=1))\n",
    "\n",
    "        # L4 FC 4x4x128 inputs -> 625 outputs\n",
    "        self.fc1 = torch.nn.Linear(3200, 625, bias=True)\n",
    "        torch.nn.init.xavier_uniform_(self.fc1.weight)\n",
    "        self.layer4 = torch.nn.Sequential(\n",
    "            self.fc1,\n",
    "            torch.nn.ReLU(),\n",
    "            torch.nn.Dropout(p=1 - self.keep_prob))\n",
    "        # L5 Final FC 625 inputs -> 10 outputs\n",
    "        self.fc2 = torch.nn.Linear(625, 10, bias=True)\n",
    "        torch.nn.init.xavier_uniform_(self.fc2.weight)\n",
    "\n",
    "    def forward(self, x):\n",
    "        out = self.layer1(x)\n",
    "        out = self.layer2(out)\n",
    "        out = self.layer3(out)\n",
    "        out = out.view(out.size(0), -1)   # Flatten them for FC\n",
    "        out = self.layer4(out)\n",
    "        out = self.fc2(out)\n",
    "        return out"
   ]
  },
  {
   "cell_type": "code",
   "execution_count": 15,
   "id": "bae240ab",
   "metadata": {},
   "outputs": [],
   "source": [
    "# CNN 모델 정의\n",
    "model = CNN().to(DEVICE) \n",
    "model\n",
    "test_input = torch.Tensor(1,3,32,32) # batchsize, RGB channel, W, H\n",
    "\n",
    "# test_out = CNN(test_input)\n",
    "# TypeError: __init__() takes 1 positional argument but 2 were given\n",
    "# __init__은 매개변수가 1개인데 2개를 줬다. "
   ]
  },
  {
   "cell_type": "code",
   "execution_count": 16,
   "id": "146c4595",
   "metadata": {},
   "outputs": [],
   "source": [
    "criterion = torch.nn.CrossEntropyLoss().to(DEVICE)     # 비용 함수에 소프트맥스 함수 포함되어져 있음.\n",
    "optimizer = torch.optim.Adam(model.parameters(), lr=learning_rate)"
   ]
  },
  {
   "cell_type": "code",
   "execution_count": 17,
   "id": "a54c52c5",
   "metadata": {},
   "outputs": [
    {
     "name": "stdout",
     "output_type": "stream",
     "text": [
      "총 배치의 수 : 123\n"
     ]
    }
   ],
   "source": [
    "total_batch = len(train_loader)\n",
    "print('총 배치의 수 : {}'.format(total_batch))\n",
    "\n",
    "# (batch_size, total_batch)\n",
    "# (100, 39)\n",
    "# (10, 393)\n",
    "# (16, 245)"
   ]
  },
  {
   "cell_type": "code",
   "execution_count": 18,
   "id": "d5359f5b",
   "metadata": {},
   "outputs": [],
   "source": [
    "# 타입 테스트 용\n",
    "# for (X, Y) in train_loader:\n",
    "#     print(X.type())"
   ]
  },
  {
   "cell_type": "code",
   "execution_count": 22,
   "id": "bc368539",
   "metadata": {},
   "outputs": [
    {
     "name": "stdout",
     "output_type": "stream",
     "text": [
      "[Epoch:    1] cost = 2.08271766\n",
      "[Epoch:    2] cost = 2.08204794\n",
      "[Epoch:    3] cost = 2.08280373\n",
      "[Epoch:    4] cost = 2.08259034\n",
      "[Epoch:    5] cost = 2.0820179\n"
     ]
    }
   ],
   "source": [
    "for epoch in range(5):\n",
    "    avg_cost = 0.0\n",
    "\n",
    "    for X, Y in train_loader: \n",
    "        # 미니 배치 단위로 꺼내온다. X는 미니 배치, Y는 레이블.\n",
    "        # image is already size of (32x32), no reshape\n",
    "        # label is not one-hot encoded\n",
    "        X = X.to(DEVICE).float()               # float() 붙이니까 해결\n",
    "        Y = Y.to(DEVICE)              # float() 붙이니까 해결\n",
    "\n",
    "        optimizer.zero_grad()\n",
    "        hypothesis = model(X)\n",
    "        cost = criterion(hypothesis, Y)\n",
    "        cost.backward()\n",
    "        optimizer.step()\n",
    "\n",
    "        avg_cost += cost / total_batch\n",
    "\n",
    "    print('[Epoch: {:>4}] cost = {:>.9}'.format(epoch + 1, avg_cost))\n",
    "    \n",
    "for e in range(5):\n",
    "    for images, labels in train_loader:   \n",
    "        if torch.cuda.is_available():\n",
    "            images, labels = images.cuda(), labels.cuda()   "
   ]
  },
  {
   "cell_type": "code",
   "execution_count": null,
   "id": "f5f63b9a",
   "metadata": {},
   "outputs": [],
   "source": [
    "# 오류 보고서\n",
    "# case 1 \n",
    "#  self.layer1 = torch.nn.Sequential(\n",
    "#             torch.nn.Conv2d(1, 32, kernel_size=3, stride=1, padding=1),\n",
    "# Given groups=1, weight of size [32, 1, 3, 3], expected input[100, 3, 424, 776] to have 1 channels, but got 3 channels instead\n",
    "# 이 오류는 우리가 1 채널만 필요한데 3채널을 줬다는 뜻이다. \n",
    "# 참조 링크 : https://discuss.pytorch.org/t/runtimeerror-given-groups-1-weight-64-3-3-3-so-expected-input-16-64-256-256-to-have-3-channels-but-got-64-channels-instead/12765\n",
    "\n",
    "# case 2 \n",
    "#  self.layer1 = torch.nn.Sequential(\n",
    "#             torch.nn.Conv2d(3, 32, kernel_size=3, stride=1, padding=1),\n",
    "# Input type (torch.cuda.ByteTensor) and weight type (torch.cuda.FloatTensor) should be the same\n",
    "# 자료형 안맞음, float로 해결 가능\n",
    "\n",
    "# case 3\n",
    "#  학습시키는 블록에 다음을 수정했다.\n",
    "#         X = X.to(DEVICE).float()\n",
    "#         Y = Y.to(DEVICE).float()\n",
    "# 오류코드는 다음과 같다.\n",
    "# CUDA out of memory. Tried to allocate 3.92 GiB (GPU 0; 6.00 GiB total capacity; \n",
    "# 4.48 GiB already allocated; 0 bytes free; 4.50 GiB reserved in total by PyTorch) \n",
    "# If reserved memory is >> allocated memory try setting max_split_size_mb to avoid fragmentation.  \n",
    "# See documentation for Memory Management and PYTORCH_CUDA_ALLOC_CONF\n",
    "# 메모리가 부족하다고 뜬다. \n",
    "\n",
    "# case 4(case 3 적용한 상태)\n",
    "# batch_size 바꿔보기. batch_size = 10\n",
    "# 그런데 총 배치의 수 : 393 가 떴다. 원래는 39였는데... 뭔가 불안\n",
    "# RuntimeError >> mat1 and mat2 shapes cannot be multiplied (10x677376 and 2048x625)\n",
    "# https://stackoverflow.com/questions/68447264/pytorch-mat1-and-mat2-shapes-cannot-be-multiplied\n",
    "\n",
    "# case 5\n",
    "\n",
    "\n"
   ]
  },
  {
   "cell_type": "code",
   "execution_count": null,
   "id": "6d35e57a",
   "metadata": {},
   "outputs": [],
   "source": [
    "test_loader = torch.utils.data.DataLoader(dataset=trainset,\n",
    "                                          batch_size=batch_size,\n",
    "                                          shuffle=True,\n",
    "                                          drop_last=True)"
   ]
  },
  {
   "cell_type": "code",
   "execution_count": 31,
   "id": "0a9104f7",
   "metadata": {},
   "outputs": [
    {
     "ename": "AttributeError",
     "evalue": "'CustomImageDataset' object has no attribute 'view'",
     "output_type": "error",
     "traceback": [
      "\u001b[1;31m---------------------------------------------------------------------------\u001b[0m",
      "\u001b[1;31mAttributeError\u001b[0m                            Traceback (most recent call last)",
      "Input \u001b[1;32mIn [31]\u001b[0m, in \u001b[0;36m<cell line: 2>\u001b[1;34m()\u001b[0m\n\u001b[0;32m      1\u001b[0m \u001b[38;5;66;03m# 학습을 진행하지 않을 것이므로 torch.no_grad()\u001b[39;00m\n\u001b[0;32m      2\u001b[0m \u001b[38;5;28;01mwith\u001b[39;00m torch\u001b[38;5;241m.\u001b[39mno_grad():\n\u001b[1;32m----> 3\u001b[0m     X_test \u001b[38;5;241m=\u001b[39m \u001b[43mtest_data\u001b[49m\u001b[38;5;241;43m.\u001b[39;49m\u001b[43mview\u001b[49m(\u001b[38;5;28mlen\u001b[39m(test_data), \u001b[38;5;241m3\u001b[39m, \u001b[38;5;241m32\u001b[39m, \u001b[38;5;241m32\u001b[39m)\u001b[38;5;241m.\u001b[39mfloat()\u001b[38;5;241m.\u001b[39mto(DEVICE)\n\u001b[0;32m      4\u001b[0m     Y_test \u001b[38;5;241m=\u001b[39m test_data\n\u001b[0;32m      6\u001b[0m     prediction \u001b[38;5;241m=\u001b[39m model(X_test)\n",
      "\u001b[1;31mAttributeError\u001b[0m: 'CustomImageDataset' object has no attribute 'view'"
     ]
    }
   ],
   "source": [
    "# 학습을 진행하지 않을 것이므로 torch.no_grad()\n",
    "with torch.no_grad():\n",
    "    X_test = test_data.view(len(test_data), 3, 32, 32).float().to(DEVICE)\n",
    "    Y_test = test_data\n",
    "\n",
    "    prediction = model(X_test)\n",
    "    correct_prediction = torch.argmax(prediction, 1) == Y_test\n",
    "    accuracy = correct_prediction.float().mean()\n",
    "    print('Accuracy:', accuracy.item())"
   ]
  },
  {
   "cell_type": "code",
   "execution_count": null,
   "id": "c4c48c24",
   "metadata": {},
   "outputs": [],
   "source": []
  },
  {
   "cell_type": "code",
   "execution_count": null,
   "id": "36314744",
   "metadata": {},
   "outputs": [],
   "source": []
  }
 ],
 "metadata": {
  "kernelspec": {
   "display_name": "project",
   "language": "python",
   "name": "project"
  },
  "language_info": {
   "codemirror_mode": {
    "name": "ipython",
    "version": 3
   },
   "file_extension": ".py",
   "mimetype": "text/x-python",
   "name": "python",
   "nbconvert_exporter": "python",
   "pygments_lexer": "ipython3",
   "version": "3.9.7"
  }
 },
 "nbformat": 4,
 "nbformat_minor": 5
}
