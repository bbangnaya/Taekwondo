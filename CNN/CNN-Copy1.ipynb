{
 "cells": [
  {
   "cell_type": "code",
   "execution_count": 1,
   "id": "e159e2b1",
   "metadata": {},
   "outputs": [],
   "source": [
    "#1. module import\n",
    "from ast import increment_lineno\n",
    "import numpy as np\n",
    "import matplotlib\n",
    "import matplotlib.pyplot as plt\n",
    "from PIL import Image\n",
    "import torch\n",
    "from torch.utils.data import Dataset, DataLoader\n",
    "import torch.nn as nn\n",
    "import torch.nn.functional as F\n",
    "import torchvision\n",
    "from torchvision import transforms, datasets\n",
    "import os\n",
    "import pandas as pd\n",
    "from torchvision.io import read_image"
   ]
  },
  {
   "cell_type": "code",
   "execution_count": 2,
   "id": "c9eb5fa9",
   "metadata": {},
   "outputs": [
    {
     "name": "stdout",
     "output_type": "stream",
     "text": [
      "Using Pytorch version: 1.11.0 Device: cuda\n"
     ]
    }
   ],
   "source": [
    "# 2. 딥러닝 모델 설계할 때 활용하는 장비 확인\n",
    "if torch.cuda.is_available():\n",
    "     DEVICE=torch.device('cuda')\n",
    "else:\n",
    "     DEVICE=torch.device('cpu')\n",
    "\n",
    "print('Using Pytorch version:',torch.__version__,'Device:',DEVICE)"
   ]
  },
  {
   "cell_type": "code",
   "execution_count": 3,
   "id": "d080f445",
   "metadata": {},
   "outputs": [],
   "source": [
    "BATCH_SIZE = 16\n",
    "EPOCHS = 200"
   ]
  },
  {
   "cell_type": "code",
   "execution_count": 4,
   "id": "b452e366",
   "metadata": {},
   "outputs": [],
   "source": [
    "class CustomImageDataset(Dataset):\n",
    "    def __init__(self, annotations_file, img_dir, transform=None, target_transform=None):\n",
    "        self.img_labels = pd.read_csv(annotations_file)\n",
    "        self.img_dir = img_dir\n",
    "        self.transform = transform\n",
    "        self.target_transform = target_transform\n",
    "\n",
    "    def __len__(self):\n",
    "        return len(self.img_labels)\n",
    "\n",
    "    def __getitem__(self, idx):\n",
    "        img_path = os.path.join(self.img_dir, self.img_labels.iloc[idx, 1])\n",
    "        image = read_image(img_path)\n",
    "        label = self.img_labels.iloc[idx, 0]\n",
    "        if self.transform:\n",
    "            image = self.transform(image)\n",
    "        if self.target_transform:\n",
    "            label = self.target_transform(label)\n",
    "        return image, label\n",
    "        "
   ]
  },
  {
   "cell_type": "code",
   "execution_count": 8,
   "id": "09ac2986",
   "metadata": {},
   "outputs": [],
   "source": [
    "train_data = CustomImageDataset(\"./train.csv\",\n",
    "                                   \"./Taekwondo/DataSet/train_Image\",\n",
    "                                   None, None)\n",
    "test_data = CustomImageDataset(\"./test.csv\",\n",
    "                               \"./Taekwondo/DataSet/test_Image\",\n",
    "                               None, None)\n",
    "\n",
    "\n",
    "train_loader = DataLoader(training_data, \n",
    "                          batch_size=128,\n",
    "                          shuffle=True, \n",
    "                          num_workers=4)\n",
    "\n",
    "test_loader = DataLoader(test_data, \n",
    "                         batch_size=128, \n",
    "                         shuffle=False, \n",
    "                         num_workers=4)\n",
    "\n"
   ]
  },
  {
   "cell_type": "code",
   "execution_count": 5,
   "id": "b96820f1",
   "metadata": {},
   "outputs": [],
   "source": [
    "data_transforms = { 'train_Image' : transforms.Compose([\n",
    "                       transforms.RandomResizedCrop(424), \n",
    "                       transforms.RandomHorizontalFlip(), \n",
    "                       transforms.ToTensor(),\n",
    "                       transforms.Normalize([0.5,0.5,0.5],[0.5,0.5,0.5])\n",
    "                          ]), \n",
    "                   'test_Image' : transforms.Compose([\n",
    "                       transforms.CenterCrop(424), \n",
    "                       transforms.Resize((776*424)), \n",
    "                       transforms.ToTensor(),\n",
    "                       transforms.Normalize([0.5,0.5,0.5],[0.5,0.5,0.5])\n",
    "                   ]),\n",
    "}\n",
    "\n",
    "image_datasets = {x: datasets.ImageFolder(\"./Taekwondo/DataSet\",\n",
    "                                         data_transforms[x]) \n",
    "                  for x in ['train_Image', 'test_Image']}\n",
    "dataloaders = {x : torch.utils.data.DataLoader(image_datasets[x],\n",
    "                                              batch_size = BATCH_SIZE,\n",
    "                                              num_workers = 0,\n",
    "                                              shuffle=True)for x in ['train_Image', 'test_Image']}\n",
    "\n"
   ]
  },
  {
   "cell_type": "code",
   "execution_count": 6,
   "id": "1af3781d",
   "metadata": {},
   "outputs": [
    {
     "name": "stdout",
     "output_type": "stream",
     "text": [
      "X_train: torch.Size([16, 3, 424, 424]) type: torch.FloatTensor\n",
      "Y_train: torch.Size([16]) type: torch.LongTensor\n"
     ]
    }
   ],
   "source": [
    "for(X_train,Y_train)in dataloaders['train_Image']:\n",
    "    print('X_train:',X_train.size(),'type:', X_train.type())\n",
    "    print('Y_train:',Y_train.size(),'type:', Y_train.type())\n",
    "    break"
   ]
  },
  {
   "cell_type": "code",
   "execution_count": 7,
   "id": "33d09225",
   "metadata": {},
   "outputs": [
    {
     "name": "stderr",
     "output_type": "stream",
     "text": [
      "Clipping input data to the valid range for imshow with RGB data ([0..1] for floats or [0..255] for integers).\n",
      "Clipping input data to the valid range for imshow with RGB data ([0..1] for floats or [0..255] for integers).\n",
      "Clipping input data to the valid range for imshow with RGB data ([0..1] for floats or [0..255] for integers).\n",
      "Clipping input data to the valid range for imshow with RGB data ([0..1] for floats or [0..255] for integers).\n",
      "Clipping input data to the valid range for imshow with RGB data ([0..1] for floats or [0..255] for integers).\n",
      "Clipping input data to the valid range for imshow with RGB data ([0..1] for floats or [0..255] for integers).\n",
      "Clipping input data to the valid range for imshow with RGB data ([0..1] for floats or [0..255] for integers).\n",
      "Clipping input data to the valid range for imshow with RGB data ([0..1] for floats or [0..255] for integers).\n",
      "Clipping input data to the valid range for imshow with RGB data ([0..1] for floats or [0..255] for integers).\n",
      "Clipping input data to the valid range for imshow with RGB data ([0..1] for floats or [0..255] for integers).\n"
     ]
    },
    {
     "data": {
      "image/png": "[encoded data removed]",
      "text/plain": [
       "<Figure size 720x72 with 10 Axes>"
      ]
     },
     "metadata": {
      "needs_background": "light"
     },
     "output_type": "display_data"
    }
   ],
   "source": [
    "# 5. 데이터 확인하기(2)\n",
    "pltsize = 1\n",
    "plt.figure(figsize=(10 * pltsize, pltsize))\n",
    "\n",
    "for i in range(10):\n",
    "    plt.subplot(1,10,i+1)     # 여러 그래프 그리기, 첫숫자 : 행, 둘째 : 열\n",
    "    plt.axis('off')           # 축없음\n",
    "    plt.imshow(np.transpose(X_train[i],(1,2,0)))\n",
    "    plt.title('Class: ' + str(Y_train[i].item()))\n",
    "# imshow : 이미지 출력"
   ]
  },
  {
   "cell_type": "code",
   "execution_count": 5,
   "id": "75c6387d",
   "metadata": {},
   "outputs": [],
   "source": [
    "class CNN(nn.Module):                 # nn.Module을 상속받는 Net클래스 생성\n",
    "    def __init__(self):   \n",
    "        super(CNN,self).__init__()\n",
    "        self.conv1 = nn.Conv2d(in_channels = 3, \n",
    "                               out_channels = 16, \n",
    "                               kernel_size = 5)\n",
    "        self.conv2 = nn.Conv2d(in_channels = 16, \n",
    "                               out_channels = 32, \n",
    "                               kernel_size = 3)\n",
    "        self.conv3 = nn.Conv2d(in_channels = 32, \n",
    "                               out_channels = 64, \n",
    "                               kernel_size = 3)\n",
    "        self.conv4 = nn.Conv2d(in_channels = 64, \n",
    "                               out_channels = 128, \n",
    "                               kernel_size = 3)\n",
    "        # 2차원 이미지 데이터를 nn.Conv2d메서드를 이용해 Convolution연산을 하는 filter를 정의\n",
    "        \n",
    "        # in_channels = 3\n",
    "        # 채널 수를 이미지의 채널수와 맞춰야 한다. RGB 채널은 채널수 = 3 이다.\n",
    "        \n",
    "        # out_channels = 8\n",
    "        # Convolution연산을 진행하는 필터 개수\n",
    "        # 여기서 설정해주는 Filter개수만큼 Output의 depth가 정해집니다.\n",
    "        # 여기서는 depth가 8인 Feature Map이 생성\n",
    "        \n",
    "        # kernel_size = 3\n",
    "        # Filter의 크기. 스칼라 값으로 설정하려면 가로 * 세로 크기인 Filter를 이용.\n",
    "        # kernel_size = 3이면 3*3 의 필터가 이미지 위를 돌아다니면서 겹치는 영역에 대해\n",
    "        # 9개의 픽셀 값과  Filter내에 있는 9개의 파라미터 값을 Convolution연산으로 진행.\n",
    "    \n",
    "        self.pool = nn.MaxPool2d(kernel_size = 2,\n",
    "                                 stride = 2)\n",
    "        self.fc1=nn.Linear(1024,128) # (input node수, output node수)\n",
    "        self.fc2=nn.Linear(128,8)   # 이전 output node수 = 다음 input node수\n",
    "        \n",
    "    def forward(self,x):\n",
    "        x = self.conv1(x)\n",
    "        x = F.relu(x)\n",
    "        x = self.pool(x)\n",
    "        x = self.conv2(x)\n",
    "        x = F.relu(x)\n",
    "        x = self.pool(x)\n",
    "        x = self.conv3(x)\n",
    "        x = F.relu(x)\n",
    "        x = self.pool(x)\n",
    "        x = self.conv4(x)\n",
    "        x = F.relu(x)\n",
    "        x = self.pool(x)\n",
    "        \n",
    "        x = x.view(-1, 8 * 8 * 16)\n",
    "        # 최종 생성된 Feature Map 의 모양은 8*8*16 크기이므로 이를 펼치기 위해 view 함수를 이용해 \n",
    "        # Feature Map을 1차원 데이터로 변환\n",
    "        x = self.fc1(x)\n",
    "        x = F.relu(x)\n",
    "        x = self.fc2(x)\n",
    "        x = F.log_softmax(x,dim=1)\n",
    "        return x\n",
    "\n"
   ]
  },
  {
   "cell_type": "code",
   "execution_count": 6,
   "id": "cab2aca4",
   "metadata": {},
   "outputs": [
    {
     "name": "stdout",
     "output_type": "stream",
     "text": [
      "CNN(\n",
      "  (conv1): Conv2d(3, 16, kernel_size=(5, 5), stride=(1, 1))\n",
      "  (conv2): Conv2d(16, 32, kernel_size=(3, 3), stride=(1, 1))\n",
      "  (conv3): Conv2d(32, 64, kernel_size=(3, 3), stride=(1, 1))\n",
      "  (conv4): Conv2d(64, 128, kernel_size=(3, 3), stride=(1, 1))\n",
      "  (pool): MaxPool2d(kernel_size=2, stride=2, padding=0, dilation=1, ceil_mode=False)\n",
      "  (fc1): Linear(in_features=1024, out_features=128, bias=True)\n",
      "  (fc2): Linear(in_features=128, out_features=8, bias=True)\n",
      ")\n"
     ]
    }
   ],
   "source": [
    "model=CNN().to(DEVICE)                  # MLP모델을 기존에 선정한 'DEVICE'에 할당합니다. \n",
    "optimizer = torch.optim.Adam(model.parameters(),lr=0.001)\n",
    "# Back Propagation을 이용해 파라미터를 업데이트할 때 이용하는 Optimizer를 정의합니다.\n",
    "# SGD알고리즘을 이용하며 Learning Rate = 0.01, momentum=0.5로 설정\n",
    "criterion=nn.CrossEntropyLoss()\n",
    "# MLP모델의 output값과 계산될 Label값은 Class를 표현하는 원-핫 인코딩 값입니다.\n",
    "# MLP모델의 output값과 원-핫 인코딩 값과의 Loss는 CrossEntropy를 이용해 계산하기 위해\n",
    "# criterion은 nn.CrossEntropyLoss() 로 설정. \n",
    "\n",
    "print(model)\n",
    "\n"
   ]
  },
  {
   "cell_type": "code",
   "execution_count": 7,
   "id": "0c8551f5",
   "metadata": {},
   "outputs": [],
   "source": [
    "def train(model, train_loader, optimizer, log_interval):\n",
    "    model.train()         # 학습상태로 지정\n",
    "    for batch_idx,(image, label) in enumerate(train_loader):\n",
    "        image=image.to(DEVICE)\n",
    "        label=label.to(DEVICE)\n",
    "        optimizer.zero_grad()\n",
    "        output=model(image)\n",
    "        loss=criterion(output,label)\n",
    "        loss.backward()\n",
    "        optimizer.step()\n",
    "        \n",
    "        if batch_idx % log_interval==0:\n",
    "            print(\"Train Epoch: {}[{}/{}({:.0f}%)]\\tTrain Loss: {:.6f}\"\n",
    "                  .format(Epoch,batch_idx * len(image),\n",
    "                len(train_loader.dataset),100.*batch_idx/len(train_loader),loss.item()))\n",
    "\n"
   ]
  },
  {
   "cell_type": "code",
   "execution_count": 8,
   "id": "9e06af96",
   "metadata": {},
   "outputs": [],
   "source": [
    "def evaluate(model,test_loader):\n",
    "    model.eval()                  # 평가상태로 지정\n",
    "    test_loss=0\n",
    "    correct=0\n",
    "    \n",
    "    with torch.no_grad():\n",
    "        for image, label in test_loader:\n",
    "            image=image.to(DEVICE)              # 8과 동일\n",
    "            label=label.to(DEVICE)              # 8과 동일\n",
    "            output=model(image)                 # 8과 동일\n",
    "            test_loss+=criterion(output,label).item()\n",
    "            prediction = output.max(1,keepdim = True)[1]\n",
    "            # MLP 모델의 output값은 크기가 10인 벡터값입니다. \n",
    "            # 계산된 벡터값 내 가장 큰 값인 위치에 대해 해당 위치에 대응하는 클래스로 예측했다고 판단합니다.\n",
    "            correct += prediction.eq(label.view_as(prediction)).sum().item()\n",
    "            # MLP모델이 최종으로 예측한 클래스 값과 실제 레이블이 의미하는 클래스가 맞으면 correct에 더해 올바르게 예측한 횟수를 저장\n",
    "                        \n",
    "    test_loss /= len(test_loader.dataset)\n",
    "    # 현재까지 계산된 test_loss 값을 test_loader내에 존재하는 Mini-Batch 개수(=10)만큼 나눠 평균 Loss값으로 계산.\n",
    "    test_accuracy=100.*correct / len(test_loader.dataset)\n",
    "    # test_loader 데이터중 얼마나 맞췄는지를 계산해 정확도를 계산합니다.\n",
    "    return test_loss, test_accuracy\n",
    "\n"
   ]
  },
  {
   "cell_type": "code",
   "execution_count": null,
   "id": "9a23e164",
   "metadata": {},
   "outputs": [],
   "source": [
    "for Epoch in range(1,EPOCHS + 1):\n",
    "    train(model,train_loader,optimizer,log_interval = 200)\n",
    "    test_loss, test_accuracy=evaluate(model, test_loader)\n",
    "    print(\"\\n[EPOCH: {}], \\tTest Loss: {:.4f}, \\tTest Accuracy: {:.2f} %\\n\".\n",
    "        format(Epoch,test_loss,test_accuracy))\n"
   ]
  },
  {
   "cell_type": "code",
   "execution_count": null,
   "id": "e015e562",
   "metadata": {},
   "outputs": [],
   "source": []
  },
  {
   "cell_type": "code",
   "execution_count": null,
   "id": "8533cebf",
   "metadata": {},
   "outputs": [],
   "source": []
  },
  {
   "cell_type": "code",
   "execution_count": null,
   "id": "55623af4",
   "metadata": {},
   "outputs": [],
   "source": []
  }
 ],
 "metadata": {
  "kernelspec": {
   "display_name": "project",
   "language": "python",
   "name": "project"
  },
  "language_info": {
   "codemirror_mode": {
    "name": "ipython",
    "version": 3
   },
   "file_extension": ".py",
   "mimetype": "text/x-python",
   "name": "python",
   "nbconvert_exporter": "python",
   "pygments_lexer": "ipython3",
   "version": "3.9.7"
  }
 },
 "nbformat": 4,
 "nbformat_minor": 5
}
