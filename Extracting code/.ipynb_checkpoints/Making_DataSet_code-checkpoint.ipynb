{
 "cells": [
  {
   "cell_type": "code",
   "execution_count": 1,
   "id": "fe7d53bb",
   "metadata": {},
   "outputs": [],
   "source": [
    "# CSV 추출 필요 라이브러리\n",
    "import os\n",
    "import pandas as pd\n",
    "import time\n",
    "from tqdm import tqdm\n",
    "from tqdm import notebook\n",
    "from PIL import Image\n",
    "import numpy as np\n",
    "import cv2\n",
    "import os"
   ]
  },
  {
   "cell_type": "code",
   "execution_count": 14,
   "id": "47329c69",
   "metadata": {},
   "outputs": [],
   "source": [
    "# ======================= 폴더 생성 필요 라이브러리 및 초기값 ======================= #\n",
    "DataSet_path = \".././Taekwondo/DataSet\" \n",
    "train_path = \".././Taekwondo/train\"\n",
    "test_path = \".././Taekwondo/test\" \n",
    "Actionfolder_name = \"/A\"          # 맨 앞에 / 존재 \n",
    "train_image_folder = \"/train_Image\"\n",
    "test_image_folder = \"/test_Image\"\n",
    "Action_Num = [1,4,5,6,7,8,10,14]\n",
    "train_folder = \"/train_\"\n",
    "test_folder = \"/test_\"\n",
    "\n",
    "\n",
    "# =========================== 폴더 생성 ============================ #\n",
    "os.mkdir(DataSet_path)                      # DataSet 폴더 생성\n",
    "os.mkdir(DataSet_path + train_image_folder) # train_Image 폴더 생성\n",
    "os.mkdir(DataSet_path + test_image_folder)  # test_Image 폴더 생성\n",
    "\n",
    "os.mkdir(DataSet_path + train_folder)  # train_ 폴더 생성\n",
    "os.mkdir(DataSet_path + test_folder)  # test_ 폴더 생성\n",
    "\n",
    "count=0\n",
    "\n",
    "for num in Action_Num:\n",
    "    # print(\"Iterating(반복 중): \" + \"A\" + str(num).zfill(2) + \" folder\")\n",
    "    # for문으로 A01~A14까지 생성\n",
    "    Dataset_train_Image_folder = DataSet_path + train_image_folder + Actionfolder_name + str(num).zfill(2)\n",
    "    Dataset_test_Image_folder = DataSet_path + test_image_folder + Actionfolder_name + str(num).zfill(2)\n",
    "\n",
    "    # 비디오 경로\n",
    "    # train_Video_path = train_path + Actionfolder_name + str(num).zfill(2)\n",
    "    # test_Video_path = test_path + Actionfolder_name + str(num).zfill(2)\n",
    "    \n",
    "    os.mkdir(Dataset_train_Image_folder)        # for문으로 train_Image 내부에 A01~A14 폴더 생성\n",
    "    os.mkdir(Dataset_test_Image_folder)         # for문으로 test_Image 내부에 A01~A14 폴더 생성\n",
    "    "
   ]
  },
  {
   "cell_type": "code",
   "execution_count": 11,
   "id": "70a30ea5",
   "metadata": {},
   "outputs": [
    {
     "name": "stdout",
     "output_type": "stream",
     "text": [
      ".././Taekwondo/train/A01\n"
     ]
    }
   ],
   "source": [
    "print(train_path + Actionfolder_name + str(num).zfill(2))"
   ]
  },
  {
   "cell_type": "code",
   "execution_count": 13,
   "id": "3f572a3a",
   "metadata": {},
   "outputs": [
    {
     "name": "stdout",
     "output_type": "stream",
     "text": [
      "1\n",
      "/A01\n",
      ".././Taekwondo/train/A14\n",
      ".././Taekwondo/train/A01\n",
      "4\n",
      "/A04\n",
      ".././Taekwondo/train/A14\n",
      ".././Taekwondo/train/A04\n",
      "5\n",
      "/A05\n",
      ".././Taekwondo/train/A14\n",
      ".././Taekwondo/train/A05\n",
      "6\n",
      "/A06\n",
      ".././Taekwondo/train/A14\n",
      ".././Taekwondo/train/A06\n",
      "7\n",
      "/A07\n",
      ".././Taekwondo/train/A14\n",
      ".././Taekwondo/train/A07\n",
      "8\n",
      "/A08\n",
      ".././Taekwondo/train/A14\n",
      ".././Taekwondo/train/A08\n",
      "10\n",
      "/A10\n",
      ".././Taekwondo/train/A14\n",
      ".././Taekwondo/train/A10\n",
      "14\n",
      "/A14\n",
      ".././Taekwondo/train/A14\n",
      ".././Taekwondo/train/A14\n"
     ]
    }
   ],
   "source": [
    "for num in Action_Num:\n",
    "    print(num)\n",
    "    print(Actionfolder_name + str(num).zfill(2))\n",
    "    print(train_Video_path)\n",
    "    print(train_path + Actionfolder_name + str(num).zfill(2))\n"
   ]
  },
  {
   "cell_type": "code",
   "execution_count": null,
   "id": "748bb29f",
   "metadata": {},
   "outputs": [
    {
     "data": {
      "application/vnd.jupyter.widget-view+json": {
       "model_id": "c32bdb93db374be1868a2a4568c2d551",
       "version_major": 2,
       "version_minor": 0
      },
      "text/plain": [
       "Extracting train_Image from  A01:   0%|          | 0/488 [00:00<?, ?it/s]"
      ]
     },
     "metadata": {},
     "output_type": "display_data"
    },
    {
     "data": {
      "application/vnd.jupyter.widget-view+json": {
       "model_id": "d8ef0b53e29148d59f2204077fdf8466",
       "version_major": 2,
       "version_minor": 0
      },
      "text/plain": [
       "Extracting train_Image from  A04:   0%|          | 0/492 [00:00<?, ?it/s]"
      ]
     },
     "metadata": {},
     "output_type": "display_data"
    },
    {
     "data": {
      "application/vnd.jupyter.widget-view+json": {
       "model_id": "f81bcba9597d4a5eaa80cf17eee03603",
       "version_major": 2,
       "version_minor": 0
      },
      "text/plain": [
       "Extracting train_Image from  A05:   0%|          | 0/492 [00:00<?, ?it/s]"
      ]
     },
     "metadata": {},
     "output_type": "display_data"
    },
    {
     "data": {
      "application/vnd.jupyter.widget-view+json": {
       "model_id": "788d3456234f4823b8808979b7f2d6aa",
       "version_major": 2,
       "version_minor": 0
      },
      "text/plain": [
       "Extracting train_Image from  A06:   0%|          | 0/492 [00:00<?, ?it/s]"
      ]
     },
     "metadata": {},
     "output_type": "display_data"
    },
    {
     "data": {
      "application/vnd.jupyter.widget-view+json": {
       "model_id": "9c6b079b8ffc481a8d39b90d6d7d32d0",
       "version_major": 2,
       "version_minor": 0
      },
      "text/plain": [
       "Extracting train_Image from  A07:   0%|          | 0/492 [00:00<?, ?it/s]"
      ]
     },
     "metadata": {},
     "output_type": "display_data"
    }
   ],
   "source": [
    "# ========================== train 프레임 추출 => train_ =========================== #\n",
    "count = 0\n",
    "for num in Action_Num:\n",
    "    for file in notebook.tqdm(os.listdir(train_path + Actionfolder_name + str(num).zfill(2)), desc = 'Extracting train_Image from  A' + str(num).zfill(2)):        # 로딩바 & 파일이름 변수file에 저장 \n",
    "        video = cv2.VideoCapture(os.path.join(train_path + Actionfolder_name + str(num).zfill(2), file))              # 비디오 경로\n",
    "        while(video.isOpened()):\n",
    "            ret, image = video.read()\n",
    "            if(video.get(cv2.CAP_PROP_POS_FRAMES) == video.get(cv2.CAP_PROP_FRAME_COUNT)):  # 현재프레임과 총프레임 비교\n",
    "                video.set(cv2.CAP_PROP_POS_FRAMES, 0)                                       # 현재 프레임 0으로 초기화\n",
    "                cv2.imwrite(f'.././Taekwondo/DataSet/train_/frame{count}.jpg', image)    # 추출\n",
    "                count += 1\n",
    "                break\n",
    "                \n",
    "                "
   ]
  },
  {
   "cell_type": "code",
   "execution_count": 3,
   "id": "1b219d7d",
   "metadata": {},
   "outputs": [
    {
     "data": {
      "application/vnd.jupyter.widget-view+json": {
       "model_id": "f04892d38293477cbf049873cb6550d9",
       "version_major": 2,
       "version_minor": 0
      },
      "text/plain": [
       "Extracting train_Image from  A01:   0%|          | 0/492 [00:00<?, ?it/s]"
      ]
     },
     "metadata": {},
     "output_type": "display_data"
    },
    {
     "ename": "KeyboardInterrupt",
     "evalue": "",
     "output_type": "error",
     "traceback": [
      "\u001b[1;31m---------------------------------------------------------------------------\u001b[0m",
      "\u001b[1;31mKeyboardInterrupt\u001b[0m                         Traceback (most recent call last)",
      "Input \u001b[1;32mIn [3]\u001b[0m, in \u001b[0;36m<cell line: 3>\u001b[1;34m()\u001b[0m\n\u001b[0;32m      5\u001b[0m video \u001b[38;5;241m=\u001b[39m cv2\u001b[38;5;241m.\u001b[39mVideoCapture(os\u001b[38;5;241m.\u001b[39mpath\u001b[38;5;241m.\u001b[39mjoin(train_Video_path, file))              \u001b[38;5;66;03m# 비디오 경로\u001b[39;00m\n\u001b[0;32m      6\u001b[0m \u001b[38;5;28;01mwhile\u001b[39;00m(video\u001b[38;5;241m.\u001b[39misOpened()):\n\u001b[1;32m----> 7\u001b[0m     ret, image \u001b[38;5;241m=\u001b[39m \u001b[43mvideo\u001b[49m\u001b[38;5;241;43m.\u001b[39;49m\u001b[43mread\u001b[49m\u001b[43m(\u001b[49m\u001b[43m)\u001b[49m\n\u001b[0;32m      8\u001b[0m     \u001b[38;5;28;01mif\u001b[39;00m(video\u001b[38;5;241m.\u001b[39mget(cv2\u001b[38;5;241m.\u001b[39mCAP_PROP_POS_FRAMES) \u001b[38;5;241m==\u001b[39m video\u001b[38;5;241m.\u001b[39mget(cv2\u001b[38;5;241m.\u001b[39mCAP_PROP_FRAME_COUNT)):  \u001b[38;5;66;03m# 현재프레임과 총프레임 비교\u001b[39;00m\n\u001b[0;32m      9\u001b[0m         video\u001b[38;5;241m.\u001b[39mset(cv2\u001b[38;5;241m.\u001b[39mCAP_PROP_POS_FRAMES, \u001b[38;5;241m0\u001b[39m)                                       \u001b[38;5;66;03m# 현재 프레임 0으로 초기화\u001b[39;00m\n",
      "\u001b[1;31mKeyboardInterrupt\u001b[0m: "
     ]
    }
   ],
   "source": [
    "# ========================== train 프레임 추출  => train_Image  =========================== #\n",
    "count = 0\n",
    "for num in Action_Num:\n",
    "    for file in notebook.tqdm(os.listdir(train_path + Actionfolder_name + str(num).zfill(2)), desc = 'Extracting train_Image from  A' + str(num).zfill(2)):        # 로딩바 & 파일이름 변수file에 저장 \n",
    "        video = cv2.VideoCapture(os.path.join(train_path + Actionfolder_name + str(num).zfill(2), file))              # 비디오 경로\n",
    "        while(video.isOpened()):\n",
    "            ret, image = video.read()\n",
    "            if(video.get(cv2.CAP_PROP_POS_FRAMES) == video.get(cv2.CAP_PROP_FRAME_COUNT)):  # 현재프레임과 총프레임 비교\n",
    "                video.set(cv2.CAP_PROP_POS_FRAMES, 0)                                       # 현재 프레임 0으로 초기화\n",
    "                cv2.imwrite(f'.././Taekwondo/DataSet/train_Image/{ \"A\" + str(num).zfill(2) }/frame{count}.jpg', image)    # 추출\n",
    "                count += 1\n",
    "                break"
   ]
  },
  {
   "cell_type": "code",
   "execution_count": 4,
   "id": "79c2e128",
   "metadata": {},
   "outputs": [
    {
     "data": {
      "application/vnd.jupyter.widget-view+json": {
       "model_id": "8111bb5a75004c1899012b092fcf02ed",
       "version_major": 2,
       "version_minor": 0
      },
      "text/plain": [
       "Extracting test_Image from  A01:   0%|          | 0/48 [00:00<?, ?it/s]"
      ]
     },
     "metadata": {},
     "output_type": "display_data"
    },
    {
     "data": {
      "application/vnd.jupyter.widget-view+json": {
       "model_id": "b53397c0fdc74e8383ab3de03b1f7a09",
       "version_major": 2,
       "version_minor": 0
      },
      "text/plain": [
       "Extracting test_Image from  A04:   0%|          | 0/48 [00:00<?, ?it/s]"
      ]
     },
     "metadata": {},
     "output_type": "display_data"
    },
    {
     "data": {
      "application/vnd.jupyter.widget-view+json": {
       "model_id": "0b614c3635aa4e5490ff2b94fcc357e7",
       "version_major": 2,
       "version_minor": 0
      },
      "text/plain": [
       "Extracting test_Image from  A05:   0%|          | 0/48 [00:00<?, ?it/s]"
      ]
     },
     "metadata": {},
     "output_type": "display_data"
    },
    {
     "data": {
      "application/vnd.jupyter.widget-view+json": {
       "model_id": "b582d63533bf4d2cb68a223f667c62c5",
       "version_major": 2,
       "version_minor": 0
      },
      "text/plain": [
       "Extracting test_Image from  A06:   0%|          | 0/48 [00:00<?, ?it/s]"
      ]
     },
     "metadata": {},
     "output_type": "display_data"
    },
    {
     "data": {
      "application/vnd.jupyter.widget-view+json": {
       "model_id": "bb871fb68c9e433fb290d07033b988c6",
       "version_major": 2,
       "version_minor": 0
      },
      "text/plain": [
       "Extracting test_Image from  A07:   0%|          | 0/48 [00:00<?, ?it/s]"
      ]
     },
     "metadata": {},
     "output_type": "display_data"
    },
    {
     "data": {
      "application/vnd.jupyter.widget-view+json": {
       "model_id": "cad5d08fd92c40e2b9ebc8d039d97d36",
       "version_major": 2,
       "version_minor": 0
      },
      "text/plain": [
       "Extracting test_Image from  A08:   0%|          | 0/48 [00:00<?, ?it/s]"
      ]
     },
     "metadata": {},
     "output_type": "display_data"
    },
    {
     "data": {
      "application/vnd.jupyter.widget-view+json": {
       "model_id": "4b77b6dd327044a8b1b4c50fba701fe7",
       "version_major": 2,
       "version_minor": 0
      },
      "text/plain": [
       "Extracting test_Image from  A10:   0%|          | 0/48 [00:00<?, ?it/s]"
      ]
     },
     "metadata": {},
     "output_type": "display_data"
    },
    {
     "data": {
      "application/vnd.jupyter.widget-view+json": {
       "model_id": "46c709e2f93f4a78875ded992dbdd65e",
       "version_major": 2,
       "version_minor": 0
      },
      "text/plain": [
       "Extracting test_Image from  A14:   0%|          | 0/48 [00:00<?, ?it/s]"
      ]
     },
     "metadata": {},
     "output_type": "display_data"
    }
   ],
   "source": [
    "# ========================== test 프레임 추출 =========================== #\n",
    "count = 0\n",
    "for num in Action_Num:\n",
    "    for file in notebook.tqdm(os.listdir(test_Video_path), desc = 'Extracting test_Image from  A' + str(num).zfill(2)):        # 로딩바 & 파일이름 변수file에 저장 \n",
    "        video = cv2.VideoCapture(os.path.join(test_Video_path, file))              # 비디오 경로\n",
    "        while(video.isOpened()):\n",
    "            ret, image = video.read()\n",
    "            if(video.get(cv2.CAP_PROP_POS_FRAMES) == video.get(cv2.CAP_PROP_FRAME_COUNT)):  # 현재프레임과 총프레임 비교\n",
    "                video.set(cv2.CAP_PROP_POS_FRAMES, 0)                                       # 현재 프레임 0으로 초기화\n",
    "                cv2.imwrite(f'.././Taekwondo/DataSet/test_Image/{ \"A\" + str(num).zfill(2) }/frame{count}.jpg', image)    # 추출\n",
    "                count += 1\n",
    "                break"
   ]
  },
  {
   "cell_type": "code",
   "execution_count": 24,
   "id": "f7006e1e",
   "metadata": {},
   "outputs": [
    {
     "data": {
      "application/vnd.jupyter.widget-view+json": {
       "model_id": "564bd2305065409899a69d7356019c3c",
       "version_major": 2,
       "version_minor": 0
      },
      "text/plain": [
       "Extracting CSV from  A01:   0%|          | 0/492 [00:00<?, ?it/s]"
      ]
     },
     "metadata": {},
     "output_type": "display_data"
    },
    {
     "data": {
      "application/vnd.jupyter.widget-view+json": {
       "model_id": "cea603e6799c4b05be6a3c33ac38ffd4",
       "version_major": 2,
       "version_minor": 0
      },
      "text/plain": [
       "Extracting CSV from  A04:   0%|          | 0/492 [00:00<?, ?it/s]"
      ]
     },
     "metadata": {},
     "output_type": "display_data"
    },
    {
     "data": {
      "application/vnd.jupyter.widget-view+json": {
       "model_id": "85897a427cfd41dba6b74242c0d8d3dd",
       "version_major": 2,
       "version_minor": 0
      },
      "text/plain": [
       "Extracting CSV from  A05:   0%|          | 0/492 [00:00<?, ?it/s]"
      ]
     },
     "metadata": {},
     "output_type": "display_data"
    },
    {
     "data": {
      "application/vnd.jupyter.widget-view+json": {
       "model_id": "6879af829da945e29581acc3bad1d179",
       "version_major": 2,
       "version_minor": 0
      },
      "text/plain": [
       "Extracting CSV from  A06:   0%|          | 0/492 [00:00<?, ?it/s]"
      ]
     },
     "metadata": {},
     "output_type": "display_data"
    },
    {
     "data": {
      "application/vnd.jupyter.widget-view+json": {
       "model_id": "a2380586842244f9b45a26aff252c3b2",
       "version_major": 2,
       "version_minor": 0
      },
      "text/plain": [
       "Extracting CSV from  A07:   0%|          | 0/492 [00:00<?, ?it/s]"
      ]
     },
     "metadata": {},
     "output_type": "display_data"
    },
    {
     "data": {
      "application/vnd.jupyter.widget-view+json": {
       "model_id": "6f719b6f2f8a43a889fc0586cb364026",
       "version_major": 2,
       "version_minor": 0
      },
      "text/plain": [
       "Extracting CSV from  A08:   0%|          | 0/492 [00:00<?, ?it/s]"
      ]
     },
     "metadata": {},
     "output_type": "display_data"
    },
    {
     "data": {
      "application/vnd.jupyter.widget-view+json": {
       "model_id": "614c6d9841d04e2a8725f650f1c9b626",
       "version_major": 2,
       "version_minor": 0
      },
      "text/plain": [
       "Extracting CSV from  A10:   0%|          | 0/492 [00:00<?, ?it/s]"
      ]
     },
     "metadata": {},
     "output_type": "display_data"
    },
    {
     "data": {
      "application/vnd.jupyter.widget-view+json": {
       "model_id": "c33ac189c3c94174b7a7dd80f5c5637b",
       "version_major": 2,
       "version_minor": 0
      },
      "text/plain": [
       "Extracting CSV from  A14:   0%|          | 0/492 [00:00<?, ?it/s]"
      ]
     },
     "metadata": {},
     "output_type": "display_data"
    }
   ],
   "source": [
    "# train의 csv 추출\n",
    "columnNames = list()\n",
    "columnNames.append('label')\n",
    "Action_Num = [1,4,5,6,7,8,10,14]\n",
    "\n",
    "for i in range(784):\n",
    "    pixel = str(i)\n",
    "    columnNames.append(pixel)\n",
    "train_data = pd.DataFrame(columns = columnNames)\n",
    "num_images = 0\n",
    "\n",
    "for num in Action_Num:\n",
    "    # print(\"Iterating: \" + str(i) + \" folder\")\n",
    "    for file in notebook.tqdm(os.listdir(Dataset_train_Image_folder), desc = 'Extracting CSV from  A' + str(num).zfill(2)):\n",
    "        img = Image.open(os.path.join(Dataset_train_Image_folder, file))\n",
    "        img = img.resize((28, 28), Image.NEAREST)\n",
    "        img.load()\n",
    "        imgdata = np.asarray(img, dtype=\"int32\")\n",
    "       \n",
    "        data = []\n",
    "        data.append(str(num).zfill(2))\n",
    "        for y in range(32):\n",
    "            for x in range(32):\n",
    "                data.append(imgdata[x][y])\n",
    "\n",
    "        train_data.loc[num_images] = data\n",
    "\n",
    "        num_images += 1\n",
    "\n",
    "train_data.to_csv(\"train_converted.csv\", index=False)\n"
   ]
  },
  {
   "cell_type": "code",
   "execution_count": 23,
   "id": "3b267ed5",
   "metadata": {},
   "outputs": [
    {
     "data": {
      "application/vnd.jupyter.widget-view+json": {
       "model_id": "e6a289ebf2cb41c1bdc9a334cf157def",
       "version_major": 2,
       "version_minor": 0
      },
      "text/plain": [
       "Extracting CSV from  A01:   0%|          | 0/48 [00:00<?, ?it/s]"
      ]
     },
     "metadata": {},
     "output_type": "display_data"
    },
    {
     "data": {
      "application/vnd.jupyter.widget-view+json": {
       "model_id": "eba55990294e471e8e1d16cafec041c5",
       "version_major": 2,
       "version_minor": 0
      },
      "text/plain": [
       "Extracting CSV from  A04:   0%|          | 0/48 [00:00<?, ?it/s]"
      ]
     },
     "metadata": {},
     "output_type": "display_data"
    },
    {
     "data": {
      "application/vnd.jupyter.widget-view+json": {
       "model_id": "4590e90ab78a40dc9790ef6f4ec38563",
       "version_major": 2,
       "version_minor": 0
      },
      "text/plain": [
       "Extracting CSV from  A05:   0%|          | 0/48 [00:00<?, ?it/s]"
      ]
     },
     "metadata": {},
     "output_type": "display_data"
    },
    {
     "data": {
      "application/vnd.jupyter.widget-view+json": {
       "model_id": "c7ddf554956041878c53863d098d1d3d",
       "version_major": 2,
       "version_minor": 0
      },
      "text/plain": [
       "Extracting CSV from  A06:   0%|          | 0/48 [00:00<?, ?it/s]"
      ]
     },
     "metadata": {},
     "output_type": "display_data"
    },
    {
     "data": {
      "application/vnd.jupyter.widget-view+json": {
       "model_id": "0ad8b1237f32444c9b735cfb1ebdb441",
       "version_major": 2,
       "version_minor": 0
      },
      "text/plain": [
       "Extracting CSV from  A07:   0%|          | 0/48 [00:00<?, ?it/s]"
      ]
     },
     "metadata": {},
     "output_type": "display_data"
    },
    {
     "data": {
      "application/vnd.jupyter.widget-view+json": {
       "model_id": "ffe0bccbdee64e5da53daf0648ebe382",
       "version_major": 2,
       "version_minor": 0
      },
      "text/plain": [
       "Extracting CSV from  A08:   0%|          | 0/48 [00:00<?, ?it/s]"
      ]
     },
     "metadata": {},
     "output_type": "display_data"
    },
    {
     "data": {
      "application/vnd.jupyter.widget-view+json": {
       "model_id": "7f6f5852a8ad4f5a86703f753d3c89d7",
       "version_major": 2,
       "version_minor": 0
      },
      "text/plain": [
       "Extracting CSV from  A10:   0%|          | 0/48 [00:00<?, ?it/s]"
      ]
     },
     "metadata": {},
     "output_type": "display_data"
    },
    {
     "data": {
      "application/vnd.jupyter.widget-view+json": {
       "model_id": "354d97c648f04af8a5d7b6a1db1b0258",
       "version_major": 2,
       "version_minor": 0
      },
      "text/plain": [
       "Extracting CSV from  A14:   0%|          | 0/48 [00:00<?, ?it/s]"
      ]
     },
     "metadata": {},
     "output_type": "display_data"
    }
   ],
   "source": [
    "# test의 csv 추출\n",
    "columnNames = list()\n",
    "columnNames.append('label')\n",
    "Action_Num = [1,4,5,6,7,8,10,14]\n",
    "for i in range(784):\n",
    "    pixel = str(i)\n",
    "    columnNames.append(pixel)\n",
    "test_data = pd.DataFrame(columns = columnNames)\n",
    "num_images = 0\n",
    "\n",
    "for num in Action_Num:\n",
    "    # print(\"Iterating: \" + str(i) + \" folder\")\n",
    "    for file in notebook.tqdm(os.listdir(Dataset_test_Image_folder), \n",
    "                              desc = 'Extracting CSV from  A' + str(num).zfill(2)):\n",
    "        img = Image.open(os.path.join(Dataset_test_Image_folder, file))\n",
    "        img = img.resize((28, 28), Image.NEAREST)\n",
    "        img.load()\n",
    "        imgdata = np.asarray(img, dtype=\"int32\")\n",
    "       \n",
    "        data = []\n",
    "        data.append(str(num).zfill(2))\n",
    "        for y in range(28):\n",
    "            for x in range(28):\n",
    "                data.append(imgdata[x][y])\n",
    "\n",
    "        test_data.loc[num_images] = data\n",
    "\n",
    "        num_images += 1\n",
    "\n",
    "test_data.to_csv(\"test_converted.csv\", index=False)"
   ]
  },
  {
   "cell_type": "code",
   "execution_count": null,
   "id": "0c36ca49",
   "metadata": {},
   "outputs": [],
   "source": [
    "import os\n",
    "import pandas as pd\n",
    "import time\n",
    "from tqdm import tqdm\n",
    "from PIL import Image\n",
    "import numpy as np\n",
    "\n",
    "columnNames = list()\n",
    "\n",
    "columnNames.append('label')\n",
    "\n",
    "columnNames.append('image')\n",
    "\n",
    "train_data = pd.DataFrame(columns = columnNames)\n",
    "\n",
    "num_images = 0\n",
    "\n",
    "for i in range(0, 8):\n",
    "\n",
    "    print(\"Iterating: \" + str(i) + \" folder\")\n",
    "\n",
    "    for file in tqdm(os.listdir(str(i))):\n",
    "        img = Image.open(os.path.join(str(i), file))\n",
    "        img.load()\n",
    "        imgdata = np.asarray(img, dtype=\"int32\")\n",
    "        \n",
    "        data = []\n",
    "        data.append(str(i))\n",
    "        data.append(file)\n",
    "\n",
    "        train_data.loc[num_images] = data\n",
    "\n",
    "        num_images += 1\n",
    "\n",
    "train_data.to_csv(\"train_converted.csv\", index=False)\n"
   ]
  }
 ],
 "metadata": {
  "kernelspec": {
   "display_name": "project",
   "language": "python",
   "name": "project"
  },
  "language_info": {
   "codemirror_mode": {
    "name": "ipython",
    "version": 3
   },
   "file_extension": ".py",
   "mimetype": "text/x-python",
   "name": "python",
   "nbconvert_exporter": "python",
   "pygments_lexer": "ipython3",
   "version": "3.9.7"
  }
 },
 "nbformat": 4,
 "nbformat_minor": 5
}
