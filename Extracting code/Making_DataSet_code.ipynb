{
 "cells": [
  {
   "cell_type": "code",
   "execution_count": 2,
   "id": "fe7d53bb",
   "metadata": {},
   "outputs": [],
   "source": [
    "# CSV 추출 필요 라이브러리\n",
    "import os\n",
    "import pandas as pd\n",
    "import time\n",
    "from tqdm import tqdm\n",
    "from tqdm import notebook\n",
    "from PIL import Image\n",
    "import numpy as np\n",
    "import cv2\n",
    "import os"
   ]
  },
  {
   "cell_type": "code",
   "execution_count": 4,
   "id": "47329c69",
   "metadata": {},
   "outputs": [],
   "source": [
    "# ======================= 폴더 생성 필요 라이브러리 및 초기값 ======================= #\n",
    "DataSet_path = \"./Taekwondo/DataSet\" \n",
    "train_path = \"./Taekwondo/train\"\n",
    "test_path = \"./Taekwondo/test\" \n",
    "Actionfolder_name = \"/A\"          # 맨 앞에 / 존재 \n",
    "train_image_folder = \"/train_Image\"\n",
    "test_image_folder = \"/test_Image\"\n",
    "Action_Num = [1,4,5,6,7,8,10,14]\n",
    "\n",
    "os.mkdir(DataSet_path)                      # DataSet 폴더 생성\n",
    "os.mkdir(DataSet_path + train_image_folder) # train_Image 폴더 생성\n",
    "os.mkdir(DataSet_path + test_image_folder)  # test_Image 폴더 생성\n",
    "\n",
    "count=0\n",
    "# =========================== 폴더 생성 ============================ #\n",
    "for num in Action_Num:\n",
    "    # print(\"Iterating(반복 중): \" + \"A\" + str(num).zfill(2) + \" folder\")\n",
    "    # for문으로 A01~A14까지 생성\n",
    "    Dataset_train_Image_folder = DataSet_path + train_image_folder + Actionfolder_name + str(num).zfill(2)\n",
    "    Dataset_test_Image_folder = DataSet_path + test_image_folder + Actionfolder_name + str(num).zfill(2)\n",
    "\n",
    "    # 비디오 경로\n",
    "    train_Video_path = train_path + Actionfolder_name + str(num).zfill(2)\n",
    "    test_Video_path = test_path + Actionfolder_name + str(num).zfill(2)\n",
    "    \n",
    "    os.mkdir(Dataset_train_Image_folder)        # for문으로 train_Image 내부에 A01~A14 폴더 생성\n",
    "    os.mkdir(Dataset_test_Image_folder)         # for문으로 test_Image 내부에 A01~A14 폴더 생성\n",
    "    "
   ]
  },
  {
   "cell_type": "code",
   "execution_count": 8,
   "id": "1b219d7d",
   "metadata": {},
   "outputs": [
    {
     "data": {
      "application/vnd.jupyter.widget-view+json": {
       "model_id": "f7eb91a68f0e4a4ea70726b1f6dfc48a",
       "version_major": 2,
       "version_minor": 0
      },
      "text/plain": [
       "Extracting train_Image from  A01:   0%|          | 0/492 [00:00<?, ?it/s]"
      ]
     },
     "metadata": {},
     "output_type": "display_data"
    },
    {
     "data": {
      "application/vnd.jupyter.widget-view+json": {
       "model_id": "83b5e058449242449a7f80eb3c28f47c",
       "version_major": 2,
       "version_minor": 0
      },
      "text/plain": [
       "Extracting train_Image from  A04:   0%|          | 0/492 [00:00<?, ?it/s]"
      ]
     },
     "metadata": {},
     "output_type": "display_data"
    },
    {
     "data": {
      "application/vnd.jupyter.widget-view+json": {
       "model_id": "e665f2686b0c4f508f49d474e74dbbfb",
       "version_major": 2,
       "version_minor": 0
      },
      "text/plain": [
       "Extracting train_Image from  A05:   0%|          | 0/492 [00:00<?, ?it/s]"
      ]
     },
     "metadata": {},
     "output_type": "display_data"
    },
    {
     "data": {
      "application/vnd.jupyter.widget-view+json": {
       "model_id": "ab9a1c783b314ee1b591ead3154800e6",
       "version_major": 2,
       "version_minor": 0
      },
      "text/plain": [
       "Extracting train_Image from  A06:   0%|          | 0/492 [00:00<?, ?it/s]"
      ]
     },
     "metadata": {},
     "output_type": "display_data"
    },
    {
     "data": {
      "application/vnd.jupyter.widget-view+json": {
       "model_id": "5a776ca0bf6f40228f6662083d23a7cf",
       "version_major": 2,
       "version_minor": 0
      },
      "text/plain": [
       "Extracting train_Image from  A07:   0%|          | 0/492 [00:00<?, ?it/s]"
      ]
     },
     "metadata": {},
     "output_type": "display_data"
    },
    {
     "data": {
      "application/vnd.jupyter.widget-view+json": {
       "model_id": "b5955be3fb4a42ee88b3d8417e473021",
       "version_major": 2,
       "version_minor": 0
      },
      "text/plain": [
       "Extracting train_Image from  A08:   0%|          | 0/492 [00:00<?, ?it/s]"
      ]
     },
     "metadata": {},
     "output_type": "display_data"
    },
    {
     "data": {
      "application/vnd.jupyter.widget-view+json": {
       "model_id": "2edd4c9cf2f94a1bbf9da98ecda8ab82",
       "version_major": 2,
       "version_minor": 0
      },
      "text/plain": [
       "Extracting train_Image from  A10:   0%|          | 0/492 [00:00<?, ?it/s]"
      ]
     },
     "metadata": {},
     "output_type": "display_data"
    },
    {
     "data": {
      "application/vnd.jupyter.widget-view+json": {
       "model_id": "57470b3fda01476aa1e801d4f9bd18f9",
       "version_major": 2,
       "version_minor": 0
      },
      "text/plain": [
       "Extracting train_Image from  A14:   0%|          | 0/492 [00:00<?, ?it/s]"
      ]
     },
     "metadata": {},
     "output_type": "display_data"
    }
   ],
   "source": [
    "# ========================== train 프레임 추출 =========================== #\n",
    "count = 0\n",
    "for num in Action_Num:\n",
    "    for file in notebook.tqdm(os.listdir(train_Video_path), desc = 'Extracting train_Image from  A' + str(num).zfill(2)):        # 로딩바 & 파일이름 변수file에 저장 \n",
    "        video = cv2.VideoCapture(os.path.join(train_Video_path, file))              # 비디오 경로\n",
    "        # 비디오는 해당 코드와 같은 폴더에 있어야 한다.\n",
    "        while(video.isOpened()):\n",
    "            ret, image = video.read()\n",
    "            if(video.get(cv2.CAP_PROP_POS_FRAMES) == video.get(cv2.CAP_PROP_FRAME_COUNT)):  # 현재프레임과 총프레임 비교\n",
    "                video.set(cv2.CAP_PROP_POS_FRAMES, 0)                                       # 현재 프레임 0으로 초기화\n",
    "                cv2.imwrite(f'./Taekwondo/DataSet/train_Image/{ \"A\" + str(num).zfill(2) }/frame{count}.png', image)    # 추출\n",
    "                count += 1\n",
    "                break"
   ]
  },
  {
   "cell_type": "code",
   "execution_count": 7,
   "id": "79c2e128",
   "metadata": {},
   "outputs": [
    {
     "data": {
      "application/vnd.jupyter.widget-view+json": {
       "model_id": "7d88c249dd2f4ee8a9d5f2eed1d5bae0",
       "version_major": 2,
       "version_minor": 0
      },
      "text/plain": [
       "Extracting test_Image from  A01:   0%|          | 0/48 [00:00<?, ?it/s]"
      ]
     },
     "metadata": {},
     "output_type": "display_data"
    },
    {
     "data": {
      "application/vnd.jupyter.widget-view+json": {
       "model_id": "b752154e31a74dcfb92bf2f18d9c610c",
       "version_major": 2,
       "version_minor": 0
      },
      "text/plain": [
       "Extracting test_Image from  A04:   0%|          | 0/48 [00:00<?, ?it/s]"
      ]
     },
     "metadata": {},
     "output_type": "display_data"
    },
    {
     "data": {
      "application/vnd.jupyter.widget-view+json": {
       "model_id": "2e4faa9e69a2485e892f5c1fe3dee211",
       "version_major": 2,
       "version_minor": 0
      },
      "text/plain": [
       "Extracting test_Image from  A05:   0%|          | 0/48 [00:00<?, ?it/s]"
      ]
     },
     "metadata": {},
     "output_type": "display_data"
    },
    {
     "data": {
      "application/vnd.jupyter.widget-view+json": {
       "model_id": "b1f610ec764246dbb3183a4ae66ba357",
       "version_major": 2,
       "version_minor": 0
      },
      "text/plain": [
       "Extracting test_Image from  A06:   0%|          | 0/48 [00:00<?, ?it/s]"
      ]
     },
     "metadata": {},
     "output_type": "display_data"
    },
    {
     "data": {
      "application/vnd.jupyter.widget-view+json": {
       "model_id": "de3264dc0b534ea3a686b274f1f39bb9",
       "version_major": 2,
       "version_minor": 0
      },
      "text/plain": [
       "Extracting test_Image from  A07:   0%|          | 0/48 [00:00<?, ?it/s]"
      ]
     },
     "metadata": {},
     "output_type": "display_data"
    },
    {
     "data": {
      "application/vnd.jupyter.widget-view+json": {
       "model_id": "25a2c29a40484ec8b1452d371015af7f",
       "version_major": 2,
       "version_minor": 0
      },
      "text/plain": [
       "Extracting test_Image from  A08:   0%|          | 0/48 [00:00<?, ?it/s]"
      ]
     },
     "metadata": {},
     "output_type": "display_data"
    },
    {
     "data": {
      "application/vnd.jupyter.widget-view+json": {
       "model_id": "7da15227777a4705b4b60a252b7848f5",
       "version_major": 2,
       "version_minor": 0
      },
      "text/plain": [
       "Extracting test_Image from  A10:   0%|          | 0/48 [00:00<?, ?it/s]"
      ]
     },
     "metadata": {},
     "output_type": "display_data"
    },
    {
     "data": {
      "application/vnd.jupyter.widget-view+json": {
       "model_id": "c072a7b2a39a4911b9650511e4a17658",
       "version_major": 2,
       "version_minor": 0
      },
      "text/plain": [
       "Extracting test_Image from  A14:   0%|          | 0/48 [00:00<?, ?it/s]"
      ]
     },
     "metadata": {},
     "output_type": "display_data"
    }
   ],
   "source": [
    "# ========================== test 프레임 추출 =========================== #\n",
    "count = 0\n",
    "for num in Action_Num:\n",
    "    for file in notebook.tqdm(os.listdir(test_Video_path), desc = 'Extracting test_Image from  A' + str(num).zfill(2)):        # 로딩바 & 파일이름 변수file에 저장 \n",
    "        video = cv2.VideoCapture(os.path.join(test_Video_path, file))              # 비디오 경로\n",
    "        # 비디오는 해당 코드와 같은 폴더에 있어야 한다.\n",
    "        while(video.isOpened()):\n",
    "            ret, image = video.read()\n",
    "            if(video.get(cv2.CAP_PROP_POS_FRAMES) == video.get(cv2.CAP_PROP_FRAME_COUNT)):  # 현재프레임과 총프레임 비교\n",
    "                video.set(cv2.CAP_PROP_POS_FRAMES, 0)                                       # 현재 프레임 0으로 초기화\n",
    "                cv2.imwrite(f'./Taekwondo/DataSet/test_Image/{ \"A\" + str(num).zfill(2) }/frame{count}.png', image)    # 추출\n",
    "                count += 1\n",
    "                break"
   ]
  },
  {
   "cell_type": "code",
   "execution_count": 24,
   "id": "f7006e1e",
   "metadata": {},
   "outputs": [
    {
     "data": {
      "application/vnd.jupyter.widget-view+json": {
       "model_id": "564bd2305065409899a69d7356019c3c",
       "version_major": 2,
       "version_minor": 0
      },
      "text/plain": [
       "Extracting CSV from  A01:   0%|          | 0/492 [00:00<?, ?it/s]"
      ]
     },
     "metadata": {},
     "output_type": "display_data"
    },
    {
     "data": {
      "application/vnd.jupyter.widget-view+json": {
       "model_id": "cea603e6799c4b05be6a3c33ac38ffd4",
       "version_major": 2,
       "version_minor": 0
      },
      "text/plain": [
       "Extracting CSV from  A04:   0%|          | 0/492 [00:00<?, ?it/s]"
      ]
     },
     "metadata": {},
     "output_type": "display_data"
    },
    {
     "data": {
      "application/vnd.jupyter.widget-view+json": {
       "model_id": "85897a427cfd41dba6b74242c0d8d3dd",
       "version_major": 2,
       "version_minor": 0
      },
      "text/plain": [
       "Extracting CSV from  A05:   0%|          | 0/492 [00:00<?, ?it/s]"
      ]
     },
     "metadata": {},
     "output_type": "display_data"
    },
    {
     "data": {
      "application/vnd.jupyter.widget-view+json": {
       "model_id": "6879af829da945e29581acc3bad1d179",
       "version_major": 2,
       "version_minor": 0
      },
      "text/plain": [
       "Extracting CSV from  A06:   0%|          | 0/492 [00:00<?, ?it/s]"
      ]
     },
     "metadata": {},
     "output_type": "display_data"
    },
    {
     "data": {
      "application/vnd.jupyter.widget-view+json": {
       "model_id": "a2380586842244f9b45a26aff252c3b2",
       "version_major": 2,
       "version_minor": 0
      },
      "text/plain": [
       "Extracting CSV from  A07:   0%|          | 0/492 [00:00<?, ?it/s]"
      ]
     },
     "metadata": {},
     "output_type": "display_data"
    },
    {
     "data": {
      "application/vnd.jupyter.widget-view+json": {
       "model_id": "6f719b6f2f8a43a889fc0586cb364026",
       "version_major": 2,
       "version_minor": 0
      },
      "text/plain": [
       "Extracting CSV from  A08:   0%|          | 0/492 [00:00<?, ?it/s]"
      ]
     },
     "metadata": {},
     "output_type": "display_data"
    },
    {
     "data": {
      "application/vnd.jupyter.widget-view+json": {
       "model_id": "614c6d9841d04e2a8725f650f1c9b626",
       "version_major": 2,
       "version_minor": 0
      },
      "text/plain": [
       "Extracting CSV from  A10:   0%|          | 0/492 [00:00<?, ?it/s]"
      ]
     },
     "metadata": {},
     "output_type": "display_data"
    },
    {
     "data": {
      "application/vnd.jupyter.widget-view+json": {
       "model_id": "c33ac189c3c94174b7a7dd80f5c5637b",
       "version_major": 2,
       "version_minor": 0
      },
      "text/plain": [
       "Extracting CSV from  A14:   0%|          | 0/492 [00:00<?, ?it/s]"
      ]
     },
     "metadata": {},
     "output_type": "display_data"
    }
   ],
   "source": [
    "# train의 csv 추출\n",
    "columnNames = list()\n",
    "columnNames.append('label')\n",
    "Action_Num = [1,4,5,6,7,8,10,14]\n",
    "\n",
    "for i in range(784):\n",
    "    pixel = str(i)\n",
    "    columnNames.append(pixel)\n",
    "train_data = pd.DataFrame(columns = columnNames)\n",
    "num_images = 0\n",
    "\n",
    "for num in Action_Num:\n",
    "    # print(\"Iterating: \" + str(i) + \" folder\")\n",
    "    for file in notebook.tqdm(os.listdir(Dataset_train_Image_folder), desc = 'Extracting CSV from  A' + str(num).zfill(2)):\n",
    "        img = Image.open(os.path.join(Dataset_train_Image_folder, file))\n",
    "        img = img.resize((28, 28), Image.NEAREST)\n",
    "        img.load()\n",
    "        imgdata = np.asarray(img, dtype=\"int32\")\n",
    "       \n",
    "        data = []\n",
    "        data.append(str(num).zfill(2))\n",
    "        for y in range(28):\n",
    "            for x in range(28):\n",
    "                data.append(imgdata[x][y])\n",
    "\n",
    "        train_data.loc[num_images] = data\n",
    "\n",
    "        num_images += 1\n",
    "\n",
    "train_data.to_csv(\"train_converted.csv\", index=False)\n"
   ]
  },
  {
   "cell_type": "code",
   "execution_count": 23,
   "id": "3b267ed5",
   "metadata": {},
   "outputs": [
    {
     "data": {
      "application/vnd.jupyter.widget-view+json": {
       "model_id": "e6a289ebf2cb41c1bdc9a334cf157def",
       "version_major": 2,
       "version_minor": 0
      },
      "text/plain": [
       "Extracting CSV from  A01:   0%|          | 0/48 [00:00<?, ?it/s]"
      ]
     },
     "metadata": {},
     "output_type": "display_data"
    },
    {
     "data": {
      "application/vnd.jupyter.widget-view+json": {
       "model_id": "eba55990294e471e8e1d16cafec041c5",
       "version_major": 2,
       "version_minor": 0
      },
      "text/plain": [
       "Extracting CSV from  A04:   0%|          | 0/48 [00:00<?, ?it/s]"
      ]
     },
     "metadata": {},
     "output_type": "display_data"
    },
    {
     "data": {
      "application/vnd.jupyter.widget-view+json": {
       "model_id": "4590e90ab78a40dc9790ef6f4ec38563",
       "version_major": 2,
       "version_minor": 0
      },
      "text/plain": [
       "Extracting CSV from  A05:   0%|          | 0/48 [00:00<?, ?it/s]"
      ]
     },
     "metadata": {},
     "output_type": "display_data"
    },
    {
     "data": {
      "application/vnd.jupyter.widget-view+json": {
       "model_id": "c7ddf554956041878c53863d098d1d3d",
       "version_major": 2,
       "version_minor": 0
      },
      "text/plain": [
       "Extracting CSV from  A06:   0%|          | 0/48 [00:00<?, ?it/s]"
      ]
     },
     "metadata": {},
     "output_type": "display_data"
    },
    {
     "data": {
      "application/vnd.jupyter.widget-view+json": {
       "model_id": "0ad8b1237f32444c9b735cfb1ebdb441",
       "version_major": 2,
       "version_minor": 0
      },
      "text/plain": [
       "Extracting CSV from  A07:   0%|          | 0/48 [00:00<?, ?it/s]"
      ]
     },
     "metadata": {},
     "output_type": "display_data"
    },
    {
     "data": {
      "application/vnd.jupyter.widget-view+json": {
       "model_id": "ffe0bccbdee64e5da53daf0648ebe382",
       "version_major": 2,
       "version_minor": 0
      },
      "text/plain": [
       "Extracting CSV from  A08:   0%|          | 0/48 [00:00<?, ?it/s]"
      ]
     },
     "metadata": {},
     "output_type": "display_data"
    },
    {
     "data": {
      "application/vnd.jupyter.widget-view+json": {
       "model_id": "7f6f5852a8ad4f5a86703f753d3c89d7",
       "version_major": 2,
       "version_minor": 0
      },
      "text/plain": [
       "Extracting CSV from  A10:   0%|          | 0/48 [00:00<?, ?it/s]"
      ]
     },
     "metadata": {},
     "output_type": "display_data"
    },
    {
     "data": {
      "application/vnd.jupyter.widget-view+json": {
       "model_id": "354d97c648f04af8a5d7b6a1db1b0258",
       "version_major": 2,
       "version_minor": 0
      },
      "text/plain": [
       "Extracting CSV from  A14:   0%|          | 0/48 [00:00<?, ?it/s]"
      ]
     },
     "metadata": {},
     "output_type": "display_data"
    }
   ],
   "source": [
    "# test의 csv 추출\n",
    "columnNames = list()\n",
    "columnNames.append('label')\n",
    "Action_Num = [1,4,5,6,7,8,10,14]\n",
    "for i in range(784):\n",
    "    pixel = str(i)\n",
    "    columnNames.append(pixel)\n",
    "test_data = pd.DataFrame(columns = columnNames)\n",
    "num_images = 0\n",
    "\n",
    "for num in Action_Num:\n",
    "    # print(\"Iterating: \" + str(i) + \" folder\")\n",
    "    for file in notebook.tqdm(os.listdir(Dataset_test_Image_folder), \n",
    "                              desc = 'Extracting CSV from  A' + str(num).zfill(2)):\n",
    "        img = Image.open(os.path.join(Dataset_test_Image_folder, file))\n",
    "        img = img.resize((28, 28), Image.NEAREST)\n",
    "        img.load()\n",
    "        imgdata = np.asarray(img, dtype=\"int32\")\n",
    "       \n",
    "        data = []\n",
    "        data.append(str(num).zfill(2))\n",
    "        for y in range(28):\n",
    "            for x in range(28):\n",
    "                data.append(imgdata[x][y])\n",
    "\n",
    "        test_data.loc[num_images] = data\n",
    "\n",
    "        num_images += 1\n",
    "\n",
    "test_data.to_csv(\"test_converted.csv\", index=False)"
   ]
  },
  {
   "cell_type": "code",
   "execution_count": null,
   "id": "0c36ca49",
   "metadata": {},
   "outputs": [],
   "source": []
  }
 ],
 "metadata": {
  "kernelspec": {
   "display_name": "project",
   "language": "python",
   "name": "project"
  },
  "language_info": {
   "codemirror_mode": {
    "name": "ipython",
    "version": 3
   },
   "file_extension": ".py",
   "mimetype": "text/x-python",
   "name": "python",
   "nbconvert_exporter": "python",
   "pygments_lexer": "ipython3",
   "version": "3.9.7"
  }
 },
 "nbformat": 4,
 "nbformat_minor": 5
}
