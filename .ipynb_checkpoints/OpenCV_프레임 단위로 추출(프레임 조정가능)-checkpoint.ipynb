{
 "cells": [
  {
   "cell_type": "code",
   "execution_count": 6,
   "id": "37457da5",
   "metadata": {
    "scrolled": true
   },
   "outputs": [
    {
     "name": "stdout",
     "output_type": "stream",
     "text": [
      "Saved frame number : 1\n",
      "Saved frame0.jpg\n",
      "Saved frame number : 2\n",
      "Saved frame1.jpg\n",
      "Saved frame number : 3\n",
      "Saved frame2.jpg\n",
      "Saved frame number : 4\n",
      "Saved frame3.jpg\n",
      "Saved frame number : 5\n",
      "Saved frame4.jpg\n",
      "Saved frame number : 6\n",
      "Saved frame5.jpg\n",
      "Saved frame number : 7\n",
      "Saved frame6.jpg\n",
      "Saved frame number : 8\n",
      "Saved frame7.jpg\n",
      "Saved frame number : 9\n",
      "Saved frame8.jpg\n",
      "Saved frame number : 10\n",
      "Saved frame9.jpg\n",
      "Saved frame number : 11\n",
      "Saved frame10.jpg\n",
      "Saved frame number : 12\n",
      "Saved frame11.jpg\n",
      "Saved frame number : 13\n",
      "Saved frame12.jpg\n",
      "Saved frame number : 14\n",
      "Saved frame13.jpg\n",
      "Saved frame number : 15\n",
      "Saved frame14.jpg\n",
      "Saved frame number : 16\n",
      "Saved frame15.jpg\n",
      "Saved frame number : 17\n",
      "Saved frame16.jpg\n",
      "Saved frame number : 18\n",
      "Saved frame17.jpg\n",
      "Saved frame number : 19\n",
      "Saved frame18.jpg\n",
      "Saved frame number : 20\n",
      "Saved frame19.jpg\n",
      "Saved frame number : 21\n",
      "Saved frame20.jpg\n",
      "Saved frame number : 22\n",
      "Saved frame21.jpg\n",
      "Saved frame number : 23\n",
      "Saved frame22.jpg\n",
      "Saved frame number : 24\n",
      "Saved frame23.jpg\n",
      "Saved frame number : 24\n"
     ]
    },
    {
     "ename": "error",
     "evalue": "OpenCV(4.5.5) D:\\a\\opencv-python\\opencv-python\\opencv\\modules\\imgcodecs\\src\\loadsave.cpp:801: error: (-215:Assertion failed) !_img.empty() in function 'cv::imwrite'\n",
     "output_type": "error",
     "traceback": [
      "\u001b[1;31m---------------------------------------------------------------------------\u001b[0m",
      "\u001b[1;31merror\u001b[0m                                     Traceback (most recent call last)",
      "Input \u001b[1;32mIn [6]\u001b[0m, in \u001b[0;36m<cell line: 5>\u001b[1;34m()\u001b[0m\n\u001b[0;32m      7\u001b[0m \u001b[38;5;28;01mif\u001b[39;00m(\u001b[38;5;28mint\u001b[39m(vidcap\u001b[38;5;241m.\u001b[39mget(\u001b[38;5;241m1\u001b[39m)) \u001b[38;5;241m%\u001b[39m \u001b[38;5;241m1\u001b[39m \u001b[38;5;241m==\u001b[39m \u001b[38;5;241m0\u001b[39m):\n\u001b[0;32m      8\u001b[0m     \u001b[38;5;28mprint\u001b[39m(\u001b[38;5;124m'\u001b[39m\u001b[38;5;124mSaved frame number : \u001b[39m\u001b[38;5;124m'\u001b[39m \u001b[38;5;241m+\u001b[39m \u001b[38;5;28mstr\u001b[39m(\u001b[38;5;28mint\u001b[39m(vidcap\u001b[38;5;241m.\u001b[39mget(\u001b[38;5;241m1\u001b[39m))))\n\u001b[1;32m----> 9\u001b[0m     \u001b[43mcv2\u001b[49m\u001b[38;5;241;43m.\u001b[39;49m\u001b[43mimwrite\u001b[49m\u001b[43m(\u001b[49m\u001b[38;5;124;43m'\u001b[39;49m\u001b[38;5;124;43m../data/Taekwondo/train/frame\u001b[39;49m\u001b[38;5;132;43;01m%d\u001b[39;49;00m\u001b[38;5;124;43m.png\u001b[39;49m\u001b[38;5;124;43m'\u001b[39;49m\u001b[43m \u001b[49m\u001b[38;5;241;43m%\u001b[39;49m\u001b[43m \u001b[49m\u001b[43mcount\u001b[49m\u001b[43m,\u001b[49m\u001b[43m \u001b[49m\u001b[43mimage\u001b[49m\u001b[43m)\u001b[49m\n\u001b[0;32m     10\u001b[0m     \u001b[38;5;28mprint\u001b[39m(\u001b[38;5;124m'\u001b[39m\u001b[38;5;124mSaved frame\u001b[39m\u001b[38;5;132;01m%d\u001b[39;00m\u001b[38;5;124m.jpg\u001b[39m\u001b[38;5;124m'\u001b[39m \u001b[38;5;241m%\u001b[39m count)\n\u001b[0;32m     11\u001b[0m     count \u001b[38;5;241m+\u001b[39m\u001b[38;5;241m=\u001b[39m \u001b[38;5;241m1\u001b[39m\n",
      "\u001b[1;31merror\u001b[0m: OpenCV(4.5.5) D:\\a\\opencv-python\\opencv-python\\opencv\\modules\\imgcodecs\\src\\loadsave.cpp:801: error: (-215:Assertion failed) !_img.empty() in function 'cv::imwrite'\n"
     ]
    }
   ],
   "source": [
    "# 1프레임단위로 추출하는 코드\n",
    "import cv2\n",
    "vidcap = cv2.VideoCapture('C:/Users/user/Desktop/Taekwondo/test/A01/T38_A01_S01.mp4')\n",
    "count = 0\n",
    "while(vidcap.isOpened()):\n",
    "    ret, image = vidcap.read()\n",
    "    if(int(vidcap.get(1)) % 1 == 0):\n",
    "        print('Saved frame number : ' + str(int(vidcap.get(1))))\n",
    "        cv2.imwrite('../data/Taekwondo/train/frame%d.png' % count, image)\n",
    "        print('Saved frame%d.jpg' % count)\n",
    "        count += 1"
   ]
  },
  {
   "cell_type": "code",
   "execution_count": 5,
   "id": "d05a5fce",
   "metadata": {},
   "outputs": [
    {
     "name": "stdout",
     "output_type": "stream",
     "text": [
      "Saved frame number : 12\n",
      "Saved frame0.jpg\n",
      "Saved frame number : 24\n",
      "Saved frame1.jpg\n",
      "Saved frame number : 24\n"
     ]
    },
    {
     "ename": "error",
     "evalue": "OpenCV(4.5.5) D:\\a\\opencv-python\\opencv-python\\opencv\\modules\\imgcodecs\\src\\loadsave.cpp:801: error: (-215:Assertion failed) !_img.empty() in function 'cv::imwrite'\n",
     "output_type": "error",
     "traceback": [
      "\u001b[1;31m---------------------------------------------------------------------------\u001b[0m",
      "\u001b[1;31merror\u001b[0m                                     Traceback (most recent call last)",
      "Input \u001b[1;32mIn [5]\u001b[0m, in \u001b[0;36m<cell line: 5>\u001b[1;34m()\u001b[0m\n\u001b[0;32m      7\u001b[0m \u001b[38;5;28;01mif\u001b[39;00m(\u001b[38;5;28mint\u001b[39m(vidcap\u001b[38;5;241m.\u001b[39mget(\u001b[38;5;241m1\u001b[39m)) \u001b[38;5;241m%\u001b[39m \u001b[38;5;241m12\u001b[39m \u001b[38;5;241m==\u001b[39m \u001b[38;5;241m0\u001b[39m):             \u001b[38;5;66;03m# 여기가 프레임 수정하는 코드\u001b[39;00m\n\u001b[0;32m      8\u001b[0m     \u001b[38;5;28mprint\u001b[39m(\u001b[38;5;124m'\u001b[39m\u001b[38;5;124mSaved frame number : \u001b[39m\u001b[38;5;124m'\u001b[39m \u001b[38;5;241m+\u001b[39m \u001b[38;5;28mstr\u001b[39m(\u001b[38;5;28mint\u001b[39m(vidcap\u001b[38;5;241m.\u001b[39mget(\u001b[38;5;241m1\u001b[39m))))\n\u001b[1;32m----> 9\u001b[0m     \u001b[43mcv2\u001b[49m\u001b[38;5;241;43m.\u001b[39;49m\u001b[43mimwrite\u001b[49m\u001b[43m(\u001b[49m\u001b[38;5;124;43m\"\u001b[39;49m\u001b[38;5;124;43m../data/Taekwondo/train/frame\u001b[39;49m\u001b[38;5;132;43;01m%d\u001b[39;49;00m\u001b[38;5;124;43m.png\u001b[39;49m\u001b[38;5;124;43m\"\u001b[39;49m\u001b[43m \u001b[49m\u001b[38;5;241;43m%\u001b[39;49m\u001b[43m \u001b[49m\u001b[43mcount\u001b[49m\u001b[43m,\u001b[49m\u001b[43m \u001b[49m\u001b[43mimage\u001b[49m\u001b[43m)\u001b[49m\n\u001b[0;32m     10\u001b[0m     \u001b[38;5;28mprint\u001b[39m(\u001b[38;5;124m'\u001b[39m\u001b[38;5;124mSaved frame\u001b[39m\u001b[38;5;132;01m%d\u001b[39;00m\u001b[38;5;124m.jpg\u001b[39m\u001b[38;5;124m'\u001b[39m \u001b[38;5;241m%\u001b[39m count)\n\u001b[0;32m     11\u001b[0m     count \u001b[38;5;241m+\u001b[39m\u001b[38;5;241m=\u001b[39m \u001b[38;5;241m1\u001b[39m\n",
      "\u001b[1;31merror\u001b[0m: OpenCV(4.5.5) D:\\a\\opencv-python\\opencv-python\\opencv\\modules\\imgcodecs\\src\\loadsave.cpp:801: error: (-215:Assertion failed) !_img.empty() in function 'cv::imwrite'\n"
     ]
    }
   ],
   "source": [
    "# 12프레임단위로 추출하는 코드\n",
    "import cv2\n",
    "vidcap = cv2.VideoCapture('C:/Users/user/Desktop/Taekwondo/test/A01/T38_A01_S01.mp4')\n",
    "count = 0\n",
    "\n",
    "while(vidcap.isOpened()):\n",
    "    ret, image = vidcap.read()\n",
    "    if(int(vidcap.get(1)) % 20 == 0):             # 여기가 프레임 수정하는 코드\n",
    "        print('Saved frame number : ' + str(int(vidcap.get(1))))\n",
    "        cv2.imwrite(\"../data/Taekwondo/train/frame%d.png\" % count, image)\n",
    "        print('Saved frame%d.jpg' % count)\n",
    "        count += 1"
   ]
  },
  {
   "cell_type": "code",
   "execution_count": null,
   "id": "bb3057ac",
   "metadata": {},
   "outputs": [],
   "source": [
    "# https://shilan.tistory.com/entry/Python%EC%9D%84-%EC%9D%B4%EC%9A%A9%ED%95%98%EC%97%AC-%EB%8F%99%EC%98%81%EC%83%81%EC%9C%BC%EB%A1%9C%EB%B6%80%ED%84%B0-%EC%9D%B4%EB%AF%B8%EC%A7%80%EC%B6%94%EC%B6%9C-Pythonv27-OpenCV-Windows"
   ]
  }
 ],
 "metadata": {
  "kernelspec": {
   "display_name": "project",
   "language": "python",
   "name": "project"
  },
  "language_info": {
   "codemirror_mode": {
    "name": "ipython",
    "version": 3
   },
   "file_extension": ".py",
   "mimetype": "text/x-python",
   "name": "python",
   "nbconvert_exporter": "python",
   "pygments_lexer": "ipython3",
   "version": "3.9.7"
  }
 },
 "nbformat": 4,
 "nbformat_minor": 5
}
