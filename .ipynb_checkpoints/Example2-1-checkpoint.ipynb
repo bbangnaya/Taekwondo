{
 "cells": [
  {
   "cell_type": "code",
   "execution_count": 2,
   "id": "b36f2fce",
   "metadata": {},
   "outputs": [],
   "source": [
    "#1. module import\n",
    "import numpy as np                         # 파이썬에서 쓰이는 또다른 자료형\n",
    "# numpy 타입의 np 생성 np를 통해 접근한다. \n",
    "import torch\n",
    "import torch.nn as nn\n",
    "import torch.nn.functional as F\n",
    "from torchvision import transforms, datasets       # torchvision 클래스에 있는 transforms, datasets 함수"
   ]
  },
  {
   "cell_type": "code",
   "execution_count": 3,
   "id": "2d24b5f3",
   "metadata": {},
   "outputs": [],
   "source": [
    "# 이미지 전처리에 관련된 부분은 torchvision 에서 제공하는 transforms"
   ]
  },
  {
   "cell_type": "code",
   "execution_count": 4,
   "id": "b9e48ae5",
   "metadata": {},
   "outputs": [],
   "source": [
    "import matplotlib.pyplot as plt      # 그리는 라이브러리"
   ]
  },
  {
   "cell_type": "code",
   "execution_count": 5,
   "id": "61241183",
   "metadata": {},
   "outputs": [
    {
     "name": "stdout",
     "output_type": "stream",
     "text": [
      "Using Pytorch version: 1.11.0 Device: cuda\n"
     ]
    }
   ],
   "source": [
    "if torch.cuda.is_available():\n",
    "     DEVICE=torch.device('cuda')\n",
    "else:\n",
    "     DEVICE=torch.device('cpu')\n",
    "\n",
    "print('Using Pytorch version:',torch.__version__,'Device:',DEVICE)"
   ]
  },
  {
   "cell_type": "code",
   "execution_count": 6,
   "id": "876ab6ed",
   "metadata": {},
   "outputs": [],
   "source": [
    "BATCH_SIZE=32        # MLP모델을 학습할 때 필요한 데이터 개수의 단위\n",
    "EPOCHS=10\n",
    "# 존재하는 Mini-batch를 전부 이용하는 횟수\n",
    "# 하이퍼 파라미터를 지정할 때는 보통 대문자로 표기.\n",
    "# 하이퍼 파라미터란 모델링할 때 사용자가 직접 세팅해주는 값\n",
    "\n",
    "#  첫줄은 Mini-batch 1개 단위에 대해 데이터가 32개로 구성돼 있는 것을 의미.\n",
    "#  위 예는 이제 32개의 데이터로 1회 학습을 하고\n",
    "#  EPOCHS 수, 즉 10회독을 돌린다고 생각하면 된다.\n"
   ]
  },
  {
   "cell_type": "code",
   "execution_count": 7,
   "id": "8ff12b1e",
   "metadata": {},
   "outputs": [],
   "source": [
    "# 3. MNIST 데이터 다운로드(Train ste, Test set 분리하기)\n",
    "train_dataset = datasets.MNIST(root=\"../data/MNIST\",\n",
    "                                train = True, download=True,\n",
    "                                transform=transforms.ToTensor())\n",
    "test_dataset = datasets.MNIST(root=\"../data/MNIST\",\n",
    "                                train = False,\n",
    "                                transform=transforms.ToTensor())\n",
    "train_loader = torch.utils.data.DataLoader(dataset = train_dataset,\n",
    "                                           batch_size = BATCH_SIZE,\n",
    "                                           shuffle=True)\n",
    "test_loader=torch.utils.data.DataLoader(dataset=test_dataset,\n",
    "                                        batch_size = BATCH_SIZE,\n",
    "                                        shuffle=True)\n",
    "\n",
    "#  root : 데이터가 저장될 장소를 지정합니다. 여기서 '../'은 상위 폴더를 의미합니다.\n",
    "#         이 예제에서는 코드가 실행되는 디렉터리의 상위 디렉터리에 존재하는 data 폴더 내 \n",
    "#         MNIST폴더에 저장하는 내용입니다.\n",
    "#  train : 대상 데이터가 MLP모델을 학습하기 위해 이용하는 학습 데이터인지\n",
    "#          MLP모델의 학습된 이후 성능을 검증하기 위한 검증용 데이터인지를 지정합니다.\n",
    "#  train = true 로 표기한 데이터는 학습용 데이터셋인 train_dataset 으로 설정.\n",
    "#  train = false 로 표기한 데이터는 검증용 데이터셋인 test_dataset 으로 설정.\n",
    "#  download : 해당 데이터를 인터넷에서 다운로드해 이용할 것인지를 지정.\n",
    "#  transform : 데이터를 다운로드할 때, 이미지 데이터에 대한 기본적인 전처리를\n",
    "#              동시에 진행할 수 있습니다. 여기서 torch모듈로 설계한 MLP의 Input으로 이용되기\n",
    "#              때문에 'ToTensor()' 메서드를 이용해 'tensor'형태로 변경합니다. \n",
    "#  또한 한픽셀은 0~255 범위의 스칼라 값으로 구성돼있는데, 이를 0~1범위에서\n",
    "#  정규화 과정이 진행됩니다. 데이터값이 커지면 불안정하거나 과적합되는 방향으로\n",
    "#  학습이 진행될 우려가 있기 때문에 정규화 과정을 이용해 Input으로 이용하는 것을\n",
    "#  권장합니다. \n",
    "#  shuffle : 데이터의 순서를 섞는다. "
   ]
  },
  {
   "cell_type": "code",
   "execution_count": 8,
   "id": "badb1c5e",
   "metadata": {},
   "outputs": [
    {
     "name": "stdout",
     "output_type": "stream",
     "text": [
      "X_train: torch.Size([32, 1, 28, 28]) type: torch.FloatTensor\n",
      "y_train: torch.Size([32]) type: torch.LongTensor\n"
     ]
    }
   ],
   "source": [
    "# 4. 데이터 확인하기(1)\n",
    "for(X_train,y_train)in train_loader:\n",
    "    print('X_train:',X_train.size(),'type:',X_train.type())\n",
    "    print('y_train:',y_train.size(),'type:',y_train.type())\n",
    "    break"
   ]
  },
  {
   "cell_type": "code",
   "execution_count": 9,
   "id": "738ea696",
   "metadata": {},
   "outputs": [
    {
     "data": {
      "image/png": "[encoded data removed]",
      "text/plain": [
       "<Figure size 720x72 with 10 Axes>"
      ]
     },
     "metadata": {
      "needs_background": "light"
     },
     "output_type": "display_data"
    }
   ],
   "source": [
    "# 5. 데이터 확인하기(2)\n",
    "pltsize=1\n",
    "plt.figure(figsize=(10*pltsize,pltsize))\n",
    "for i in range(10):\n",
    "    plt.subplot(1,10,i+1)     # 여러 그래프 그리기, 첫숫자 : 행, 둘째 : 열\n",
    "    plt.axis('off')           # 축없음\n",
    "    plt.imshow(X_train[i,:,:,:].numpy().reshape(28,28),cmap=\"gray_r\")\n",
    "    plt.title('Class: ' + str(y_train[i].item()))\n",
    "    \n",
    "    \n",
    "    # imshow : 이미지 출력"
   ]
  },
  {
   "cell_type": "code",
   "execution_count": 10,
   "id": "5a7f209c",
   "metadata": {},
   "outputs": [],
   "source": [
    "# 6. MLP(Multi Layer Perceptron) 모델 설계하기\n",
    "class Net(nn.Module):                 # nn.Module을 상속받는 Net클래스 생성\n",
    "    def __init__(self):   \n",
    "        # https://engineer-mole.tistory.com/190\n",
    "        # https://wikidocs.net/89\n",
    "        # 함수 기본구조\n",
    "        # def 함수이름 (매개변수):\n",
    "        # C#에 비유하면 self는 this, __init__은 생성자이다. \n",
    "        super(Net,self).__init__()\n",
    "        # super : 상속받은 부모 클래스\n",
    "        self.fc1=nn.Linear(28*28,512) # (input node수, output node수)\n",
    "        self.fc2=nn.Linear(512,256)   # 이전 output node수 = 다음 input node수\n",
    "        self.fc3=nn.Linear(256,10)\n",
    "        \n",
    "    def forward(self,x): # MLP모델의 Forward Propagation을 정의\n",
    "# 설계한 MLP 모델에 데이터를 입력했을 때\n",
    "# output을 계산하기까지의 과정을 나열한 것.\n",
    "        x=x.view(-1,28*28) # 8. 2차원 데이터를 1차원 데이터로 변환하기 위해\n",
    "    # view메서드를 이용해 784크기의 1차원 데이터로 변환해 진행\n",
    "    # https://wikidocs.net/52846\n",
    "        x=self.fc1(x)\n",
    "        x=F.sigmoid(x)\n",
    "        x=self.fc2(x)\n",
    "        x=F.sigmoid(x)\n",
    "        x=self.fc3(x)\n",
    "        x=F.log_softmax(x,dim=1)\n",
    "        return x\n",
    "    "
   ]
  },
  {
   "cell_type": "code",
   "execution_count": 11,
   "id": "f6042d25",
   "metadata": {},
   "outputs": [
    {
     "name": "stdout",
     "output_type": "stream",
     "text": [
      "Net(\n",
      "  (fc1): Linear(in_features=784, out_features=512, bias=True)\n",
      "  (fc2): Linear(in_features=512, out_features=256, bias=True)\n",
      "  (fc3): Linear(in_features=256, out_features=10, bias=True)\n",
      ")\n"
     ]
    }
   ],
   "source": [
    "#7.Optimizer, Object Function 설정하기\n",
    "model=Net().to(DEVICE)                  # MLP모델을 기존에 선정한 'DEVICE'에 할당합니다. \n",
    "optimizer = torch.optim.SGD(model.parameters(),lr=0.01,momentum=0.5)\n",
    "# Back Propagation을 이용해 파라미터를 업데이트할 때 이용하는 Optimizer를 정의합니다.\n",
    "# SGD알고리즘을 이용하며 Learning Rate = 0.01, momentum=0.5로 설정\n",
    "criterion=nn.CrossEntropyLoss()\n",
    "# MLP모델의 output값과 계산될 Label값은 Class를 표현하는 원-핫 인코딩 값입니다.\n",
    "# MLP모델의 output값과 원-핫 인코딩 값과의 Loss는 CrossEntropy를 이용해 계산하기 위해\n",
    "# criterion은 nn.CrossEntropyLoss() 로 설정. \n",
    "\n",
    "print(model)"
   ]
  },
  {
   "cell_type": "code",
   "execution_count": 12,
   "id": "acbb0bf6",
   "metadata": {},
   "outputs": [],
   "source": [
    "#8. MLP모델 학습을 진행하며 \"학습 데이터\"에 대한 모델 성능을 확인하는 함수 정의(train_loader)\n",
    "def train(model, train_loader,optimizer,log_interval):\n",
    "    model.train()         # 학습상태로 지정\n",
    "    for batch_idx,(image, label) in enumerate(train_loader):\n",
    "        image=image.to(DEVICE)\n",
    "        label=label.to(DEVICE)\n",
    "        optimizer.zero_grad()\n",
    "        output=model(image)\n",
    "        loss=criterion(output,label)\n",
    "        loss.backward()\n",
    "        optimizer.step()\n",
    "        \n",
    "        if batch_idx % log_interval==0:\n",
    "            print(\"Train Epoch: {}[{}/{}({:.0f}%)]\\tTrain Loss: {:.6f}\"\n",
    "                  .format(Epoch,batch_idx * len(image),\n",
    "                len(train_loader.dataset),100.*batch_idx/len(train_loader),loss.item()))"
   ]
  },
  {
   "cell_type": "code",
   "execution_count": 13,
   "id": "8c16da00",
   "metadata": {},
   "outputs": [],
   "source": [
    "#9. 학습되는 과정속에서 \"검증데이터\"에 대한 모델 성능을 확인하는 함수 정의(test_loader)\n",
    "def evaluate(model,test_loader):\n",
    "    model.eval()                  # 평가상태로 지정\n",
    "    test_loss=0\n",
    "    correct=0\n",
    "    \n",
    "    with torch.no_grad():\n",
    "        for image, label in test_loader:\n",
    "            image=image.to(DEVICE)              # 8과 동일\n",
    "            label=label.to(DEVICE)              # 8과 동일\n",
    "            output=model(image)                 # 8과 동일\n",
    "            test_loss+=criterion(output,label).item()\n",
    "            prediction = output.max(1,keepdim = True)[1]\n",
    "            # MLP 모델의 output값은 크기가 10인 벡터값입니다. \n",
    "            # 계산된 벡터값 내 가장 큰 값인 위치에 대해 해당 위치에 대응하는 클래스로 예측했다고 판단합니다.\n",
    "            correct += prediction.eq(label.view_as(prediction)).sum().item()\n",
    "            # MLP모델이 최종으로 예측한 클래스 값과 실제 레이블이 의미하는 클래스가 맞으면 correct에 더해 올바르게 예측한 횟수를 저장\n",
    "                        \n",
    "    test_loss /= len(test_loader.dataset)\n",
    "    # 현재까지 계산된 test_loss 값을 test_loader내에 존재하는 Mini-Batch 개수(=10)만큼 나눠 평균 Loss값으로 계산.\n",
    "    test_accuracy=100.*correct / len(test_loader.dataset)\n",
    "    # test_loader 데이터중 얼마나 맞췄는지를 계산해 정확도를 계산합니다.\n",
    "    return test_loss, test_accuracy"
   ]
  },
  {
   "cell_type": "code",
   "execution_count": 14,
   "id": "be5679ed",
   "metadata": {},
   "outputs": [
    {
     "name": "stderr",
     "output_type": "stream",
     "text": [
      "C:\\Anaconda3\\envs\\project\\lib\\site-packages\\torch\\nn\\functional.py:1944: UserWarning: nn.functional.sigmoid is deprecated. Use torch.sigmoid instead.\n",
      "  warnings.warn(\"nn.functional.sigmoid is deprecated. Use torch.sigmoid instead.\")\n"
     ]
    },
    {
     "name": "stdout",
     "output_type": "stream",
     "text": [
      "Train Epoch: 1[0/60000(0%)]\tTrain Loss: 2.460994\n",
      "Train Epoch: 1[6400/60000(11%)]\tTrain Loss: 2.335274\n",
      "Train Epoch: 1[12800/60000(21%)]\tTrain Loss: 2.303890\n",
      "Train Epoch: 1[19200/60000(32%)]\tTrain Loss: 2.350613\n",
      "Train Epoch: 1[25600/60000(43%)]\tTrain Loss: 2.317577\n",
      "Train Epoch: 1[32000/60000(53%)]\tTrain Loss: 2.282811\n",
      "Train Epoch: 1[38400/60000(64%)]\tTrain Loss: 2.233741\n",
      "Train Epoch: 1[44800/60000(75%)]\tTrain Loss: 2.254257\n",
      "Train Epoch: 1[51200/60000(85%)]\tTrain Loss: 2.216396\n",
      "Train Epoch: 1[57600/60000(96%)]\tTrain Loss: 2.230133\n",
      "\n",
      "[EPOCH: 1], \tTest Loss: 0.0700, \tTest Accuracy: 19.36 %\n",
      "\n",
      "Train Epoch: 2[0/60000(0%)]\tTrain Loss: 2.255351\n",
      "Train Epoch: 2[6400/60000(11%)]\tTrain Loss: 2.181179\n",
      "Train Epoch: 2[12800/60000(21%)]\tTrain Loss: 2.128358\n",
      "Train Epoch: 2[19200/60000(32%)]\tTrain Loss: 2.045670\n",
      "Train Epoch: 2[25600/60000(43%)]\tTrain Loss: 2.009012\n",
      "Train Epoch: 2[32000/60000(53%)]\tTrain Loss: 1.871280\n",
      "Train Epoch: 2[38400/60000(64%)]\tTrain Loss: 1.642077\n",
      "Train Epoch: 2[44800/60000(75%)]\tTrain Loss: 1.441821\n",
      "Train Epoch: 2[51200/60000(85%)]\tTrain Loss: 1.467337\n",
      "Train Epoch: 2[57600/60000(96%)]\tTrain Loss: 1.288437\n",
      "\n",
      "[EPOCH: 2], \tTest Loss: 0.0398, \tTest Accuracy: 60.23 %\n",
      "\n",
      "Train Epoch: 3[0/60000(0%)]\tTrain Loss: 1.293674\n",
      "Train Epoch: 3[6400/60000(11%)]\tTrain Loss: 1.292653\n",
      "Train Epoch: 3[12800/60000(21%)]\tTrain Loss: 1.188130\n",
      "Train Epoch: 3[19200/60000(32%)]\tTrain Loss: 1.135482\n",
      "Train Epoch: 3[25600/60000(43%)]\tTrain Loss: 0.891055\n",
      "Train Epoch: 3[32000/60000(53%)]\tTrain Loss: 0.863098\n",
      "Train Epoch: 3[38400/60000(64%)]\tTrain Loss: 0.788088\n",
      "Train Epoch: 3[44800/60000(75%)]\tTrain Loss: 0.849594\n",
      "Train Epoch: 3[51200/60000(85%)]\tTrain Loss: 0.918918\n",
      "Train Epoch: 3[57600/60000(96%)]\tTrain Loss: 0.595863\n",
      "\n",
      "[EPOCH: 3], \tTest Loss: 0.0229, \tTest Accuracy: 78.12 %\n",
      "\n",
      "Train Epoch: 4[0/60000(0%)]\tTrain Loss: 0.653662\n",
      "Train Epoch: 4[6400/60000(11%)]\tTrain Loss: 0.863342\n",
      "Train Epoch: 4[12800/60000(21%)]\tTrain Loss: 0.761242\n",
      "Train Epoch: 4[19200/60000(32%)]\tTrain Loss: 0.730046\n",
      "Train Epoch: 4[25600/60000(43%)]\tTrain Loss: 0.798606\n",
      "Train Epoch: 4[32000/60000(53%)]\tTrain Loss: 0.723484\n",
      "Train Epoch: 4[38400/60000(64%)]\tTrain Loss: 0.628285\n",
      "Train Epoch: 4[44800/60000(75%)]\tTrain Loss: 1.011485\n",
      "Train Epoch: 4[51200/60000(85%)]\tTrain Loss: 0.690906\n",
      "Train Epoch: 4[57600/60000(96%)]\tTrain Loss: 0.484196\n",
      "\n",
      "[EPOCH: 4], \tTest Loss: 0.0171, \tTest Accuracy: 84.28 %\n",
      "\n",
      "Train Epoch: 5[0/60000(0%)]\tTrain Loss: 0.395503\n",
      "Train Epoch: 5[6400/60000(11%)]\tTrain Loss: 0.438923\n",
      "Train Epoch: 5[12800/60000(21%)]\tTrain Loss: 0.560134\n",
      "Train Epoch: 5[19200/60000(32%)]\tTrain Loss: 0.624399\n",
      "Train Epoch: 5[25600/60000(43%)]\tTrain Loss: 0.816181\n",
      "Train Epoch: 5[32000/60000(53%)]\tTrain Loss: 0.501065\n",
      "Train Epoch: 5[38400/60000(64%)]\tTrain Loss: 0.398168\n",
      "Train Epoch: 5[44800/60000(75%)]\tTrain Loss: 0.326010\n",
      "Train Epoch: 5[51200/60000(85%)]\tTrain Loss: 0.279941\n",
      "Train Epoch: 5[57600/60000(96%)]\tTrain Loss: 0.480177\n",
      "\n",
      "[EPOCH: 5], \tTest Loss: 0.0144, \tTest Accuracy: 86.77 %\n",
      "\n",
      "Train Epoch: 6[0/60000(0%)]\tTrain Loss: 0.509406\n",
      "Train Epoch: 6[6400/60000(11%)]\tTrain Loss: 0.218589\n",
      "Train Epoch: 6[12800/60000(21%)]\tTrain Loss: 0.320695\n",
      "Train Epoch: 6[19200/60000(32%)]\tTrain Loss: 0.616700\n",
      "Train Epoch: 6[25600/60000(43%)]\tTrain Loss: 0.575671\n",
      "Train Epoch: 6[32000/60000(53%)]\tTrain Loss: 0.663945\n",
      "Train Epoch: 6[38400/60000(64%)]\tTrain Loss: 0.686278\n",
      "Train Epoch: 6[44800/60000(75%)]\tTrain Loss: 0.440198\n",
      "Train Epoch: 6[51200/60000(85%)]\tTrain Loss: 0.395927\n",
      "Train Epoch: 6[57600/60000(96%)]\tTrain Loss: 0.269817\n",
      "\n",
      "[EPOCH: 6], \tTest Loss: 0.0129, \tTest Accuracy: 87.98 %\n",
      "\n",
      "Train Epoch: 7[0/60000(0%)]\tTrain Loss: 0.233708\n",
      "Train Epoch: 7[6400/60000(11%)]\tTrain Loss: 0.645422\n",
      "Train Epoch: 7[12800/60000(21%)]\tTrain Loss: 0.430875\n",
      "Train Epoch: 7[19200/60000(32%)]\tTrain Loss: 0.386949\n",
      "Train Epoch: 7[25600/60000(43%)]\tTrain Loss: 0.454434\n",
      "Train Epoch: 7[32000/60000(53%)]\tTrain Loss: 0.503734\n",
      "Train Epoch: 7[38400/60000(64%)]\tTrain Loss: 0.396244\n",
      "Train Epoch: 7[44800/60000(75%)]\tTrain Loss: 0.466698\n",
      "Train Epoch: 7[51200/60000(85%)]\tTrain Loss: 0.356554\n",
      "Train Epoch: 7[57600/60000(96%)]\tTrain Loss: 0.342689\n",
      "\n",
      "[EPOCH: 7], \tTest Loss: 0.0120, \tTest Accuracy: 88.87 %\n",
      "\n",
      "Train Epoch: 8[0/60000(0%)]\tTrain Loss: 0.530727\n",
      "Train Epoch: 8[6400/60000(11%)]\tTrain Loss: 0.462108\n",
      "Train Epoch: 8[12800/60000(21%)]\tTrain Loss: 0.298001\n",
      "Train Epoch: 8[19200/60000(32%)]\tTrain Loss: 0.447629\n",
      "Train Epoch: 8[25600/60000(43%)]\tTrain Loss: 0.403407\n",
      "Train Epoch: 8[32000/60000(53%)]\tTrain Loss: 0.391030\n",
      "Train Epoch: 8[38400/60000(64%)]\tTrain Loss: 0.563840\n",
      "Train Epoch: 8[44800/60000(75%)]\tTrain Loss: 0.280636\n",
      "Train Epoch: 8[51200/60000(85%)]\tTrain Loss: 0.393794\n",
      "Train Epoch: 8[57600/60000(96%)]\tTrain Loss: 0.461196\n",
      "\n",
      "[EPOCH: 8], \tTest Loss: 0.0114, \tTest Accuracy: 89.45 %\n",
      "\n",
      "Train Epoch: 9[0/60000(0%)]\tTrain Loss: 0.629661\n",
      "Train Epoch: 9[6400/60000(11%)]\tTrain Loss: 0.324385\n",
      "Train Epoch: 9[12800/60000(21%)]\tTrain Loss: 0.141394\n",
      "Train Epoch: 9[19200/60000(32%)]\tTrain Loss: 0.571568\n",
      "Train Epoch: 9[25600/60000(43%)]\tTrain Loss: 0.392079\n",
      "Train Epoch: 9[32000/60000(53%)]\tTrain Loss: 0.402581\n",
      "Train Epoch: 9[38400/60000(64%)]\tTrain Loss: 0.441622\n",
      "Train Epoch: 9[44800/60000(75%)]\tTrain Loss: 0.640847\n",
      "Train Epoch: 9[51200/60000(85%)]\tTrain Loss: 0.380736\n",
      "Train Epoch: 9[57600/60000(96%)]\tTrain Loss: 0.308420\n",
      "\n",
      "[EPOCH: 9], \tTest Loss: 0.0109, \tTest Accuracy: 89.79 %\n",
      "\n",
      "Train Epoch: 10[0/60000(0%)]\tTrain Loss: 0.354275\n",
      "Train Epoch: 10[6400/60000(11%)]\tTrain Loss: 0.473702\n",
      "Train Epoch: 10[12800/60000(21%)]\tTrain Loss: 0.359128\n",
      "Train Epoch: 10[19200/60000(32%)]\tTrain Loss: 0.360488\n",
      "Train Epoch: 10[25600/60000(43%)]\tTrain Loss: 0.648857\n",
      "Train Epoch: 10[32000/60000(53%)]\tTrain Loss: 0.201989\n",
      "Train Epoch: 10[38400/60000(64%)]\tTrain Loss: 0.351852\n",
      "Train Epoch: 10[44800/60000(75%)]\tTrain Loss: 0.181698\n",
      "Train Epoch: 10[51200/60000(85%)]\tTrain Loss: 0.671168\n",
      "Train Epoch: 10[57600/60000(96%)]\tTrain Loss: 0.222304\n",
      "\n",
      "[EPOCH: 10], \tTest Loss: 0.0107, \tTest Accuracy: 89.97 %\n",
      "\n",
      "Train Epoch: 11[0/60000(0%)]\tTrain Loss: 0.696829\n",
      "Train Epoch: 11[6400/60000(11%)]\tTrain Loss: 0.489655\n",
      "Train Epoch: 11[12800/60000(21%)]\tTrain Loss: 0.287762\n",
      "Train Epoch: 11[19200/60000(32%)]\tTrain Loss: 0.433154\n",
      "Train Epoch: 11[25600/60000(43%)]\tTrain Loss: 0.557880\n",
      "Train Epoch: 11[32000/60000(53%)]\tTrain Loss: 0.389797\n",
      "Train Epoch: 11[38400/60000(64%)]\tTrain Loss: 0.322201\n",
      "Train Epoch: 11[44800/60000(75%)]\tTrain Loss: 0.321400\n",
      "Train Epoch: 11[51200/60000(85%)]\tTrain Loss: 0.136634\n",
      "Train Epoch: 11[57600/60000(96%)]\tTrain Loss: 0.300442\n",
      "\n",
      "[EPOCH: 11], \tTest Loss: 0.0103, \tTest Accuracy: 90.48 %\n",
      "\n",
      "Train Epoch: 12[0/60000(0%)]\tTrain Loss: 0.267935\n",
      "Train Epoch: 12[6400/60000(11%)]\tTrain Loss: 0.194734\n",
      "Train Epoch: 12[12800/60000(21%)]\tTrain Loss: 0.122914\n",
      "Train Epoch: 12[19200/60000(32%)]\tTrain Loss: 0.416633\n",
      "Train Epoch: 12[25600/60000(43%)]\tTrain Loss: 0.168906\n",
      "Train Epoch: 12[32000/60000(53%)]\tTrain Loss: 0.131711\n",
      "Train Epoch: 12[38400/60000(64%)]\tTrain Loss: 0.330739\n",
      "Train Epoch: 12[44800/60000(75%)]\tTrain Loss: 0.191500\n",
      "Train Epoch: 12[51200/60000(85%)]\tTrain Loss: 0.329304\n",
      "Train Epoch: 12[57600/60000(96%)]\tTrain Loss: 0.353443\n",
      "\n",
      "[EPOCH: 12], \tTest Loss: 0.0099, \tTest Accuracy: 90.78 %\n",
      "\n",
      "Train Epoch: 13[0/60000(0%)]\tTrain Loss: 0.134072\n",
      "Train Epoch: 13[6400/60000(11%)]\tTrain Loss: 0.399531\n",
      "Train Epoch: 13[12800/60000(21%)]\tTrain Loss: 0.209887\n",
      "Train Epoch: 13[19200/60000(32%)]\tTrain Loss: 0.549284\n",
      "Train Epoch: 13[25600/60000(43%)]\tTrain Loss: 0.225939\n"
     ]
    },
    {
     "ename": "KeyboardInterrupt",
     "evalue": "",
     "output_type": "error",
     "traceback": [
      "\u001b[1;31m---------------------------------------------------------------------------\u001b[0m",
      "\u001b[1;31mKeyboardInterrupt\u001b[0m                         Traceback (most recent call last)",
      "Input \u001b[1;32mIn [14]\u001b[0m, in \u001b[0;36m<cell line: 2>\u001b[1;34m()\u001b[0m\n\u001b[0;32m      1\u001b[0m \u001b[38;5;66;03m#10. MLP학습을 실행하면서 Train, Test set의 Loss및 Test set Accuracy를 확인하기\u001b[39;00m\n\u001b[0;32m      2\u001b[0m \u001b[38;5;28;01mfor\u001b[39;00m Epoch \u001b[38;5;129;01min\u001b[39;00m \u001b[38;5;28mrange\u001b[39m(\u001b[38;5;241m1\u001b[39m,EPOCHS\u001b[38;5;241m+\u001b[39m\u001b[38;5;241m1\u001b[39m):\n\u001b[1;32m----> 3\u001b[0m     \u001b[43mtrain\u001b[49m\u001b[43m(\u001b[49m\u001b[43mmodel\u001b[49m\u001b[43m,\u001b[49m\u001b[43mtrain_loader\u001b[49m\u001b[43m,\u001b[49m\u001b[43moptimizer\u001b[49m\u001b[43m,\u001b[49m\u001b[43mlog_interval\u001b[49m\u001b[43m \u001b[49m\u001b[38;5;241;43m=\u001b[39;49m\u001b[43m \u001b[49m\u001b[38;5;241;43m200\u001b[39;49m\u001b[43m)\u001b[49m\n\u001b[0;32m      4\u001b[0m     test_loss, test_accuracy\u001b[38;5;241m=\u001b[39mevaluate(model, test_loader)\n\u001b[0;32m      5\u001b[0m     \u001b[38;5;28mprint\u001b[39m(\u001b[38;5;124m\"\u001b[39m\u001b[38;5;130;01m\\n\u001b[39;00m\u001b[38;5;124m[EPOCH: \u001b[39m\u001b[38;5;132;01m{}\u001b[39;00m\u001b[38;5;124m], \u001b[39m\u001b[38;5;130;01m\\t\u001b[39;00m\u001b[38;5;124mTest Loss: \u001b[39m\u001b[38;5;132;01m{:.4f}\u001b[39;00m\u001b[38;5;124m, \u001b[39m\u001b[38;5;130;01m\\t\u001b[39;00m\u001b[38;5;124mTest Accuracy: \u001b[39m\u001b[38;5;132;01m{:.2f}\u001b[39;00m\u001b[38;5;124m \u001b[39m\u001b[38;5;124m%\u001b[39m\u001b[38;5;130;01m\\n\u001b[39;00m\u001b[38;5;124m\"\u001b[39m\u001b[38;5;241m.\u001b[39m\n\u001b[0;32m      6\u001b[0m           \u001b[38;5;28mformat\u001b[39m(Epoch,test_loss,test_accuracy))\n",
      "Input \u001b[1;32mIn [12]\u001b[0m, in \u001b[0;36mtrain\u001b[1;34m(model, train_loader, optimizer, log_interval)\u001b[0m\n\u001b[0;32m      2\u001b[0m \u001b[38;5;28;01mdef\u001b[39;00m \u001b[38;5;21mtrain\u001b[39m(model, train_loader,optimizer,log_interval):\n\u001b[0;32m      3\u001b[0m     model\u001b[38;5;241m.\u001b[39mtrain()         \u001b[38;5;66;03m# 학습상태로 지정\u001b[39;00m\n\u001b[1;32m----> 4\u001b[0m     \u001b[38;5;28;01mfor\u001b[39;00m batch_idx,(image, label) \u001b[38;5;129;01min\u001b[39;00m \u001b[38;5;28menumerate\u001b[39m(train_loader):\n\u001b[0;32m      5\u001b[0m         image\u001b[38;5;241m=\u001b[39mimage\u001b[38;5;241m.\u001b[39mto(DEVICE)\n\u001b[0;32m      6\u001b[0m         label\u001b[38;5;241m=\u001b[39mlabel\u001b[38;5;241m.\u001b[39mto(DEVICE)\n",
      "File \u001b[1;32mC:\\Anaconda3\\envs\\project\\lib\\site-packages\\torch\\utils\\data\\dataloader.py:530\u001b[0m, in \u001b[0;36m_BaseDataLoaderIter.__next__\u001b[1;34m(self)\u001b[0m\n\u001b[0;32m    528\u001b[0m \u001b[38;5;28;01mif\u001b[39;00m \u001b[38;5;28mself\u001b[39m\u001b[38;5;241m.\u001b[39m_sampler_iter \u001b[38;5;129;01mis\u001b[39;00m \u001b[38;5;28;01mNone\u001b[39;00m:\n\u001b[0;32m    529\u001b[0m     \u001b[38;5;28mself\u001b[39m\u001b[38;5;241m.\u001b[39m_reset()\n\u001b[1;32m--> 530\u001b[0m data \u001b[38;5;241m=\u001b[39m \u001b[38;5;28;43mself\u001b[39;49m\u001b[38;5;241;43m.\u001b[39;49m\u001b[43m_next_data\u001b[49m\u001b[43m(\u001b[49m\u001b[43m)\u001b[49m\n\u001b[0;32m    531\u001b[0m \u001b[38;5;28mself\u001b[39m\u001b[38;5;241m.\u001b[39m_num_yielded \u001b[38;5;241m+\u001b[39m\u001b[38;5;241m=\u001b[39m \u001b[38;5;241m1\u001b[39m\n\u001b[0;32m    532\u001b[0m \u001b[38;5;28;01mif\u001b[39;00m \u001b[38;5;28mself\u001b[39m\u001b[38;5;241m.\u001b[39m_dataset_kind \u001b[38;5;241m==\u001b[39m _DatasetKind\u001b[38;5;241m.\u001b[39mIterable \u001b[38;5;129;01mand\u001b[39;00m \\\n\u001b[0;32m    533\u001b[0m         \u001b[38;5;28mself\u001b[39m\u001b[38;5;241m.\u001b[39m_IterableDataset_len_called \u001b[38;5;129;01mis\u001b[39;00m \u001b[38;5;129;01mnot\u001b[39;00m \u001b[38;5;28;01mNone\u001b[39;00m \u001b[38;5;129;01mand\u001b[39;00m \\\n\u001b[0;32m    534\u001b[0m         \u001b[38;5;28mself\u001b[39m\u001b[38;5;241m.\u001b[39m_num_yielded \u001b[38;5;241m>\u001b[39m \u001b[38;5;28mself\u001b[39m\u001b[38;5;241m.\u001b[39m_IterableDataset_len_called:\n",
      "File \u001b[1;32mC:\\Anaconda3\\envs\\project\\lib\\site-packages\\torch\\utils\\data\\dataloader.py:570\u001b[0m, in \u001b[0;36m_SingleProcessDataLoaderIter._next_data\u001b[1;34m(self)\u001b[0m\n\u001b[0;32m    568\u001b[0m \u001b[38;5;28;01mdef\u001b[39;00m \u001b[38;5;21m_next_data\u001b[39m(\u001b[38;5;28mself\u001b[39m):\n\u001b[0;32m    569\u001b[0m     index \u001b[38;5;241m=\u001b[39m \u001b[38;5;28mself\u001b[39m\u001b[38;5;241m.\u001b[39m_next_index()  \u001b[38;5;66;03m# may raise StopIteration\u001b[39;00m\n\u001b[1;32m--> 570\u001b[0m     data \u001b[38;5;241m=\u001b[39m \u001b[38;5;28;43mself\u001b[39;49m\u001b[38;5;241;43m.\u001b[39;49m\u001b[43m_dataset_fetcher\u001b[49m\u001b[38;5;241;43m.\u001b[39;49m\u001b[43mfetch\u001b[49m\u001b[43m(\u001b[49m\u001b[43mindex\u001b[49m\u001b[43m)\u001b[49m  \u001b[38;5;66;03m# may raise StopIteration\u001b[39;00m\n\u001b[0;32m    571\u001b[0m     \u001b[38;5;28;01mif\u001b[39;00m \u001b[38;5;28mself\u001b[39m\u001b[38;5;241m.\u001b[39m_pin_memory:\n\u001b[0;32m    572\u001b[0m         data \u001b[38;5;241m=\u001b[39m _utils\u001b[38;5;241m.\u001b[39mpin_memory\u001b[38;5;241m.\u001b[39mpin_memory(data)\n",
      "File \u001b[1;32mC:\\Anaconda3\\envs\\project\\lib\\site-packages\\torch\\utils\\data\\_utils\\fetch.py:49\u001b[0m, in \u001b[0;36m_MapDatasetFetcher.fetch\u001b[1;34m(self, possibly_batched_index)\u001b[0m\n\u001b[0;32m     47\u001b[0m \u001b[38;5;28;01mdef\u001b[39;00m \u001b[38;5;21mfetch\u001b[39m(\u001b[38;5;28mself\u001b[39m, possibly_batched_index):\n\u001b[0;32m     48\u001b[0m     \u001b[38;5;28;01mif\u001b[39;00m \u001b[38;5;28mself\u001b[39m\u001b[38;5;241m.\u001b[39mauto_collation:\n\u001b[1;32m---> 49\u001b[0m         data \u001b[38;5;241m=\u001b[39m [\u001b[38;5;28mself\u001b[39m\u001b[38;5;241m.\u001b[39mdataset[idx] \u001b[38;5;28;01mfor\u001b[39;00m idx \u001b[38;5;129;01min\u001b[39;00m possibly_batched_index]\n\u001b[0;32m     50\u001b[0m     \u001b[38;5;28;01melse\u001b[39;00m:\n\u001b[0;32m     51\u001b[0m         data \u001b[38;5;241m=\u001b[39m \u001b[38;5;28mself\u001b[39m\u001b[38;5;241m.\u001b[39mdataset[possibly_batched_index]\n",
      "File \u001b[1;32mC:\\Anaconda3\\envs\\project\\lib\\site-packages\\torch\\utils\\data\\_utils\\fetch.py:49\u001b[0m, in \u001b[0;36m<listcomp>\u001b[1;34m(.0)\u001b[0m\n\u001b[0;32m     47\u001b[0m \u001b[38;5;28;01mdef\u001b[39;00m \u001b[38;5;21mfetch\u001b[39m(\u001b[38;5;28mself\u001b[39m, possibly_batched_index):\n\u001b[0;32m     48\u001b[0m     \u001b[38;5;28;01mif\u001b[39;00m \u001b[38;5;28mself\u001b[39m\u001b[38;5;241m.\u001b[39mauto_collation:\n\u001b[1;32m---> 49\u001b[0m         data \u001b[38;5;241m=\u001b[39m [\u001b[38;5;28;43mself\u001b[39;49m\u001b[38;5;241;43m.\u001b[39;49m\u001b[43mdataset\u001b[49m\u001b[43m[\u001b[49m\u001b[43midx\u001b[49m\u001b[43m]\u001b[49m \u001b[38;5;28;01mfor\u001b[39;00m idx \u001b[38;5;129;01min\u001b[39;00m possibly_batched_index]\n\u001b[0;32m     50\u001b[0m     \u001b[38;5;28;01melse\u001b[39;00m:\n\u001b[0;32m     51\u001b[0m         data \u001b[38;5;241m=\u001b[39m \u001b[38;5;28mself\u001b[39m\u001b[38;5;241m.\u001b[39mdataset[possibly_batched_index]\n",
      "File \u001b[1;32mC:\\Anaconda3\\envs\\project\\lib\\site-packages\\torchvision\\datasets\\mnist.py:145\u001b[0m, in \u001b[0;36mMNIST.__getitem__\u001b[1;34m(self, index)\u001b[0m\n\u001b[0;32m    142\u001b[0m img \u001b[38;5;241m=\u001b[39m Image\u001b[38;5;241m.\u001b[39mfromarray(img\u001b[38;5;241m.\u001b[39mnumpy(), mode\u001b[38;5;241m=\u001b[39m\u001b[38;5;124m\"\u001b[39m\u001b[38;5;124mL\u001b[39m\u001b[38;5;124m\"\u001b[39m)\n\u001b[0;32m    144\u001b[0m \u001b[38;5;28;01mif\u001b[39;00m \u001b[38;5;28mself\u001b[39m\u001b[38;5;241m.\u001b[39mtransform \u001b[38;5;129;01mis\u001b[39;00m \u001b[38;5;129;01mnot\u001b[39;00m \u001b[38;5;28;01mNone\u001b[39;00m:\n\u001b[1;32m--> 145\u001b[0m     img \u001b[38;5;241m=\u001b[39m \u001b[38;5;28;43mself\u001b[39;49m\u001b[38;5;241;43m.\u001b[39;49m\u001b[43mtransform\u001b[49m\u001b[43m(\u001b[49m\u001b[43mimg\u001b[49m\u001b[43m)\u001b[49m\n\u001b[0;32m    147\u001b[0m \u001b[38;5;28;01mif\u001b[39;00m \u001b[38;5;28mself\u001b[39m\u001b[38;5;241m.\u001b[39mtarget_transform \u001b[38;5;129;01mis\u001b[39;00m \u001b[38;5;129;01mnot\u001b[39;00m \u001b[38;5;28;01mNone\u001b[39;00m:\n\u001b[0;32m    148\u001b[0m     target \u001b[38;5;241m=\u001b[39m \u001b[38;5;28mself\u001b[39m\u001b[38;5;241m.\u001b[39mtarget_transform(target)\n",
      "File \u001b[1;32mC:\\Anaconda3\\envs\\project\\lib\\site-packages\\torchvision\\transforms\\transforms.py:135\u001b[0m, in \u001b[0;36mToTensor.__call__\u001b[1;34m(self, pic)\u001b[0m\n\u001b[0;32m    127\u001b[0m \u001b[38;5;28;01mdef\u001b[39;00m \u001b[38;5;21m__call__\u001b[39m(\u001b[38;5;28mself\u001b[39m, pic):\n\u001b[0;32m    128\u001b[0m     \u001b[38;5;124;03m\"\"\"\u001b[39;00m\n\u001b[0;32m    129\u001b[0m \u001b[38;5;124;03m    Args:\u001b[39;00m\n\u001b[0;32m    130\u001b[0m \u001b[38;5;124;03m        pic (PIL Image or numpy.ndarray): Image to be converted to tensor.\u001b[39;00m\n\u001b[1;32m   (...)\u001b[0m\n\u001b[0;32m    133\u001b[0m \u001b[38;5;124;03m        Tensor: Converted image.\u001b[39;00m\n\u001b[0;32m    134\u001b[0m \u001b[38;5;124;03m    \"\"\"\u001b[39;00m\n\u001b[1;32m--> 135\u001b[0m     \u001b[38;5;28;01mreturn\u001b[39;00m \u001b[43mF\u001b[49m\u001b[38;5;241;43m.\u001b[39;49m\u001b[43mto_tensor\u001b[49m\u001b[43m(\u001b[49m\u001b[43mpic\u001b[49m\u001b[43m)\u001b[49m\n",
      "File \u001b[1;32mC:\\Anaconda3\\envs\\project\\lib\\site-packages\\torchvision\\transforms\\functional.py:151\u001b[0m, in \u001b[0;36mto_tensor\u001b[1;34m(pic)\u001b[0m\n\u001b[0;32m    149\u001b[0m \u001b[38;5;28;01mif\u001b[39;00m pic\u001b[38;5;241m.\u001b[39mmode \u001b[38;5;241m==\u001b[39m \u001b[38;5;124m\"\u001b[39m\u001b[38;5;124m1\u001b[39m\u001b[38;5;124m\"\u001b[39m:\n\u001b[0;32m    150\u001b[0m     img \u001b[38;5;241m=\u001b[39m \u001b[38;5;241m255\u001b[39m \u001b[38;5;241m*\u001b[39m img\n\u001b[1;32m--> 151\u001b[0m img \u001b[38;5;241m=\u001b[39m \u001b[43mimg\u001b[49m\u001b[38;5;241;43m.\u001b[39;49m\u001b[43mview\u001b[49m\u001b[43m(\u001b[49m\u001b[43mpic\u001b[49m\u001b[38;5;241;43m.\u001b[39;49m\u001b[43msize\u001b[49m\u001b[43m[\u001b[49m\u001b[38;5;241;43m1\u001b[39;49m\u001b[43m]\u001b[49m\u001b[43m,\u001b[49m\u001b[43m \u001b[49m\u001b[43mpic\u001b[49m\u001b[38;5;241;43m.\u001b[39;49m\u001b[43msize\u001b[49m\u001b[43m[\u001b[49m\u001b[38;5;241;43m0\u001b[39;49m\u001b[43m]\u001b[49m\u001b[43m,\u001b[49m\u001b[43m \u001b[49m\u001b[38;5;28;43mlen\u001b[39;49m\u001b[43m(\u001b[49m\u001b[43mpic\u001b[49m\u001b[38;5;241;43m.\u001b[39;49m\u001b[43mgetbands\u001b[49m\u001b[43m(\u001b[49m\u001b[43m)\u001b[49m\u001b[43m)\u001b[49m\u001b[43m)\u001b[49m\n\u001b[0;32m    152\u001b[0m \u001b[38;5;66;03m# put it from HWC to CHW format\u001b[39;00m\n\u001b[0;32m    153\u001b[0m img \u001b[38;5;241m=\u001b[39m img\u001b[38;5;241m.\u001b[39mpermute((\u001b[38;5;241m2\u001b[39m, \u001b[38;5;241m0\u001b[39m, \u001b[38;5;241m1\u001b[39m))\u001b[38;5;241m.\u001b[39mcontiguous()\n",
      "\u001b[1;31mKeyboardInterrupt\u001b[0m: "
     ]
    }
   ],
   "source": [
    "#10. MLP학습을 실행하면서 Train, Test set의 Loss및 Test set Accuracy를 확인하기\n",
    "for Epoch in range(1,EPOCHS+1):\n",
    "    train(model,train_loader,optimizer,log_interval = 200)\n",
    "    test_loss, test_accuracy=evaluate(model, test_loader)\n",
    "    print(\"\\n[EPOCH: {}], \\tTest Loss: {:.4f}, \\tTest Accuracy: {:.2f} %\\n\".\n",
    "          format(Epoch,test_loss,test_accuracy))"
   ]
  },
  {
   "cell_type": "code",
   "execution_count": null,
   "id": "96e5ea96",
   "metadata": {},
   "outputs": [],
   "source": []
  }
 ],
 "metadata": {
  "kernelspec": {
   "display_name": "project",
   "language": "python",
   "name": "project"
  },
  "language_info": {
   "codemirror_mode": {
    "name": "ipython",
    "version": 3
   },
   "file_extension": ".py",
   "mimetype": "text/x-python",
   "name": "python",
   "nbconvert_exporter": "python",
   "pygments_lexer": "ipython3",
   "version": "3.9.7"
  }
 },
 "nbformat": 4,
 "nbformat_minor": 5
}
