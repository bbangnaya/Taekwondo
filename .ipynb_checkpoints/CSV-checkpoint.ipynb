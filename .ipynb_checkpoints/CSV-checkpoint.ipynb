{
 "cells": [
  {
   "cell_type": "code",
   "execution_count": 1,
   "id": "e7a4a5f2",
   "metadata": {
    "scrolled": true
   },
   "outputs": [],
   "source": [
    "import cv2\n",
    "import pandas as pd\n",
    "\n",
    "import os\n",
    "import pandas as pd\n",
    "import time\n",
    "from tqdm import tqdm\n",
    "from PIL import Image\n",
    "import numpy as np\n",
    "\n",
    "# ========================= CSV 파일만들기 ======================== #\n",
    "columnNames = list()\n",
    "\n",
    "columnNames.append('label')               # list의 마지막에 인자로 label 글씨 추가\n",
    "\n",
    "for i in range(784):\n",
    "    pixel = str(i)\n",
    "    columnNames.append(pixel)\n",
    "\n",
    "train_data = pd.DataFrame(columns = columnNames)\n",
    "\n",
    "num_images = 0"
   ]
  },
  {
   "cell_type": "code",
   "execution_count": 3,
   "id": "57a851a4",
   "metadata": {},
   "outputs": [],
   "source": [
    "# 폴더만 생성하는 코드\n",
    "import os \n",
    "\n",
    "DataSet_path = \"C:/Users/user/Desktop/Taekwondo/DataSet\" \n",
    "train_path = \"C:/Users/user/Desktop/Taekwondo/train\" \n",
    "Actionfolder_name = \"/A\"          # 맨 앞에 / 존재 \n",
    "Action_Num = [1,4,5,6,7,8,10,14]\n",
    "\n",
    "for num in Action_Num:\n",
    "    Dataset_train_ImageFolder_path = DataSet_path + Actionfolder_name + str(num).zfill(2)\n",
    "    train_Video_path = train_path + Actionfolder_name + str(num).zfill(2)\n",
    "    os.mkdir(Dataset_train_ImageFolder_path)"
   ]
  },
  {
   "cell_type": "code",
   "execution_count": 3,
   "id": "47672684",
   "metadata": {},
   "outputs": [
    {
     "data": {
      "application/vnd.jupyter.widget-view+json": {
       "model_id": "999579d0e7c74dcfb5089a4dd7dceb61",
       "version_major": 2,
       "version_minor": 0
      },
      "text/plain": [
       "Extracting Image from  A01:   0%|          | 0/488 [00:00<?, ?it/s]"
      ]
     },
     "metadata": {},
     "output_type": "display_data"
    },
    {
     "data": {
      "application/vnd.jupyter.widget-view+json": {
       "model_id": "57f809fc26b54161918f9b0e7002fcaa",
       "version_major": 2,
       "version_minor": 0
      },
      "text/plain": [
       "Extracting Image from  A04:   0%|          | 0/492 [00:00<?, ?it/s]"
      ]
     },
     "metadata": {},
     "output_type": "display_data"
    },
    {
     "data": {
      "application/vnd.jupyter.widget-view+json": {
       "model_id": "d5ba746ebeb943ddb71174b2083f1ef0",
       "version_major": 2,
       "version_minor": 0
      },
      "text/plain": [
       "Extracting Image from  A05:   0%|          | 0/492 [00:00<?, ?it/s]"
      ]
     },
     "metadata": {},
     "output_type": "display_data"
    },
    {
     "data": {
      "application/vnd.jupyter.widget-view+json": {
       "model_id": "8ca2e884f834472d9f85171da4fe7669",
       "version_major": 2,
       "version_minor": 0
      },
      "text/plain": [
       "Extracting Image from  A06:   0%|          | 0/492 [00:00<?, ?it/s]"
      ]
     },
     "metadata": {},
     "output_type": "display_data"
    },
    {
     "data": {
      "application/vnd.jupyter.widget-view+json": {
       "model_id": "5e5366223c554494aa49f2ae0c647bfa",
       "version_major": 2,
       "version_minor": 0
      },
      "text/plain": [
       "Extracting Image from  A07:   0%|          | 0/492 [00:00<?, ?it/s]"
      ]
     },
     "metadata": {},
     "output_type": "display_data"
    },
    {
     "data": {
      "application/vnd.jupyter.widget-view+json": {
       "model_id": "b96efb3d85244b8fb5fb6e7d27d07a1b",
       "version_major": 2,
       "version_minor": 0
      },
      "text/plain": [
       "Extracting Image from  A08:   0%|          | 0/492 [00:00<?, ?it/s]"
      ]
     },
     "metadata": {},
     "output_type": "display_data"
    },
    {
     "data": {
      "application/vnd.jupyter.widget-view+json": {
       "model_id": "fc24e09006524d69a235bde9e4d0f5ff",
       "version_major": 2,
       "version_minor": 0
      },
      "text/plain": [
       "Extracting Image from  A10:   0%|          | 0/492 [00:00<?, ?it/s]"
      ]
     },
     "metadata": {},
     "output_type": "display_data"
    },
    {
     "data": {
      "application/vnd.jupyter.widget-view+json": {
       "model_id": "e2a392c6addc41ef9ae5b1f51daa1b8a",
       "version_major": 2,
       "version_minor": 0
      },
      "text/plain": [
       "Extracting Image from  A14:   0%|          | 0/492 [00:00<?, ?it/s]"
      ]
     },
     "metadata": {},
     "output_type": "display_data"
    }
   ],
   "source": [
    "# train 비디오 이미지 추출 성공 코드\n",
    "# ======================= 폴더 생성 필요 라이브러리 및 초기값 ======================= #\n",
    "import cv2\n",
    "import os \n",
    "\n",
    "DataSet_path = \"C:/Users/user/Desktop/Taekwondo/DataSet\" \n",
    "train_path = \"C:/Users/user/Desktop/Taekwondo/train\" \n",
    "Actionfolder_name = \"/A\"          # 맨 앞에 / 존재 \n",
    "image_folder = \"/Image\"\n",
    "# csv_folder = \"/csv\"\n",
    "Action_Num = [1,4,5,6,7,8,10,14]\n",
    "\n",
    "os.mkdir(DataSet_path + image_folder)\n",
    "# os.mkdir(DataSet_path + csv_folder)\n",
    "\n",
    "# ======================= 프레임 추출 필요 라이브러리 ===================== #\n",
    "from tqdm import notebook\n",
    "import time\n",
    "\n",
    "count=0\n",
    "# =========================== 폴더 생성 ============================ #\n",
    "for num in Action_Num:\n",
    "    # print(\"Iterating(반복 중): \" + \"A\" + str(num).zfill(2) + \" folder\")\n",
    "    Dataset_train_ImageFolder_path = DataSet_path + image_folder + Actionfolder_name + str(num).zfill(2)\n",
    "    # Dataset_train_csv_path = DataSet_path + csv_folder + Actionfolder_name + str(num).zfill(2)\n",
    "    train_Video_path = train_path + Actionfolder_name + str(num).zfill(2)\n",
    "    os.mkdir(Dataset_train_ImageFolder_path)\n",
    "    # os.mkdir(Dataset_train_csv_path)\n",
    "# ========================== 프레임 추출 =========================== #\n",
    "    for file in notebook.tqdm(os.listdir(\"A\"+ str(num).zfill(2)), desc = 'Extracting train Image from  A' + str(num).zfill(2)):        # 로딩바 & 파일이름 변수file에 저장 \n",
    "        video = cv2.VideoCapture(os.path.join(train_Video_path, file))              # 비디오 경로\n",
    "        # 비디오는 해당 코드와 같은 폴더에 있어야 한다.\n",
    "        while(video.isOpened()):\n",
    "            ret, image = video.read()\n",
    "            if(video.get(cv2.CAP_PROP_POS_FRAMES) == video.get(cv2.CAP_PROP_FRAME_COUNT)):  # 현재프레임과 총프레임 비교\n",
    "                video.set(cv2.CAP_PROP_POS_FRAMES, 0)                                       # 현재 프레임 0으로 초기화\n",
    "                cv2.imwrite(f'C:/Users/user/Desktop/Taekwondo/DataSet/Image/{ \"A\" + str(num).zfill(2) }/frame{count}.png', image)    # 추출\n",
    "                count += 1\n",
    "                break"
   ]
  },
  {
   "cell_type": "code",
   "execution_count": 1,
   "id": "b1c2c764",
   "metadata": {},
   "outputs": [
    {
     "data": {
      "application/vnd.jupyter.widget-view+json": {
       "model_id": "26d2b36651dc4c509fa5b6baf33f6d7b",
       "version_major": 2,
       "version_minor": 0
      },
      "text/plain": [
       "Extracting Image from  A01:   0%|          | 0/488 [00:00<?, ?it/s]"
      ]
     },
     "metadata": {},
     "output_type": "display_data"
    },
    {
     "data": {
      "application/vnd.jupyter.widget-view+json": {
       "model_id": "5dee78a736ea43568283c02159f11f09",
       "version_major": 2,
       "version_minor": 0
      },
      "text/plain": [
       "Extracting Image from  A04:   0%|          | 0/492 [00:00<?, ?it/s]"
      ]
     },
     "metadata": {},
     "output_type": "display_data"
    },
    {
     "data": {
      "application/vnd.jupyter.widget-view+json": {
       "model_id": "ebd21e7f6e11474b8dba013915089500",
       "version_major": 2,
       "version_minor": 0
      },
      "text/plain": [
       "Extracting Image from  A05:   0%|          | 0/492 [00:00<?, ?it/s]"
      ]
     },
     "metadata": {},
     "output_type": "display_data"
    },
    {
     "data": {
      "application/vnd.jupyter.widget-view+json": {
       "model_id": "935afbd06c95436ebcf5d53b7da94e7e",
       "version_major": 2,
       "version_minor": 0
      },
      "text/plain": [
       "Extracting Image from  A06:   0%|          | 0/492 [00:00<?, ?it/s]"
      ]
     },
     "metadata": {},
     "output_type": "display_data"
    },
    {
     "data": {
      "application/vnd.jupyter.widget-view+json": {
       "model_id": "b14e777fe50e45f789e8467cf0fb0468",
       "version_major": 2,
       "version_minor": 0
      },
      "text/plain": [
       "Extracting Image from  A07:   0%|          | 0/492 [00:00<?, ?it/s]"
      ]
     },
     "metadata": {},
     "output_type": "display_data"
    },
    {
     "data": {
      "application/vnd.jupyter.widget-view+json": {
       "model_id": "6b8617ed5fd04c78ac8e466e33df8301",
       "version_major": 2,
       "version_minor": 0
      },
      "text/plain": [
       "Extracting Image from  A08:   0%|          | 0/492 [00:00<?, ?it/s]"
      ]
     },
     "metadata": {},
     "output_type": "display_data"
    },
    {
     "data": {
      "application/vnd.jupyter.widget-view+json": {
       "model_id": "ec8d1f639c094edfba6e5b5d14ca51e7",
       "version_major": 2,
       "version_minor": 0
      },
      "text/plain": [
       "Extracting Image from  A10:   0%|          | 0/492 [00:00<?, ?it/s]"
      ]
     },
     "metadata": {},
     "output_type": "display_data"
    },
    {
     "data": {
      "application/vnd.jupyter.widget-view+json": {
       "model_id": "7243551252054a94bad260daaa6e31e2",
       "version_major": 2,
       "version_minor": 0
      },
      "text/plain": [
       "Extracting Image from  A14:   0%|          | 0/492 [00:00<?, ?it/s]"
      ]
     },
     "metadata": {},
     "output_type": "display_data"
    }
   ],
   "source": [
    "# test 비디오 이미지 추출 성공 코드\n",
    "# ======================= 폴더 생성 필요 라이브러리 및 초기값 ======================= #\n",
    "import cv2\n",
    "import os \n",
    "\n",
    "DataSet_path = \"C:/Users/user/Desktop/Taekwondo/DataSet\" \n",
    "test_path = \"C:/Users/user/Desktop/Taekwondo/test\" \n",
    "Actionfolder_name = \"/A\"          # 맨 앞에 / 존재 \n",
    "test_image_folder = \"/test_Image\"\n",
    "Action_Num = [1,4,5,6,7,8,10,14]\n",
    "\n",
    "os.mkdir(DataSet_path + test_image_folder)\n",
    "\n",
    "# ======================= 프레임 추출 필요 라이브러리 ===================== #\n",
    "from tqdm import notebook\n",
    "import time\n",
    "\n",
    "count=0\n",
    "# =========================== 폴더 생성 ============================ #\n",
    "for num in Action_Num:\n",
    "    # print(\"Iterating(반복 중): \" + \"A\" + str(num).zfill(2) + \" folder\")\n",
    "    Dataset_test_ImageFolder_path = DataSet_path + test_image_folder + Actionfolder_name + str(num).zfill(2)\n",
    "    # Dataset_train_csv_path = DataSet_path + csv_folder + Actionfolder_name + str(num).zfill(2)\n",
    "    test_Video_path = test_path + Actionfolder_name + str(num).zfill(2)\n",
    "    os.mkdir(Dataset_test_ImageFolder_path)\n",
    "    # os.mkdir(Dataset_train_csv_path)\n",
    "# ========================== 프레임 추출 =========================== #\n",
    "    for file in notebook.tqdm(os.listdir(\"A\"+ str(num).zfill(2)), desc = 'Extracting test Image from  A' + str(num).zfill(2)):        # 로딩바 & 파일이름 변수file에 저장 \n",
    "        video = cv2.VideoCapture(os.path.join(test_Video_path, file))              # 비디오 경로\n",
    "        # 비디오는 해당 코드와 같은 폴더에 있어야 한다.\n",
    "        while(video.isOpened()):\n",
    "            ret, image = video.read()\n",
    "            if(video.get(cv2.CAP_PROP_POS_FRAMES) == video.get(cv2.CAP_PROP_FRAME_COUNT)):  # 현재프레임과 총프레임 비교\n",
    "                video.set(cv2.CAP_PROP_POS_FRAMES, 0)                                       # 현재 프레임 0으로 초기화\n",
    "                cv2.imwrite(f'C:/Users/user/Desktop/Taekwondo/DataSet/test_Image/{ \"A\" + str(num).zfill(2) }/frame{count}.png', image)    # 추출\n",
    "                count += 1\n",
    "                break"
   ]
  },
  {
   "cell_type": "code",
   "execution_count": 6,
   "id": "d3be8a22",
   "metadata": {},
   "outputs": [
    {
     "data": {
      "application/vnd.jupyter.widget-view+json": {
       "model_id": "48eb0331861e457082d9112f45451e11",
       "version_major": 2,
       "version_minor": 0
      },
      "text/plain": [
       "Extracting CSV from  A01:   0%|          | 0/488 [00:00<?, ?it/s]"
      ]
     },
     "metadata": {},
     "output_type": "display_data"
    },
    {
     "ename": "FileNotFoundError",
     "evalue": "[Errno 2] No such file or directory: 'C:/Users/user/Desktop/Taekwondo/DataSet/Image/A14\\\\T01_A01_S01.mp4'",
     "output_type": "error",
     "traceback": [
      "\u001b[1;31m---------------------------------------------------------------------------\u001b[0m",
      "\u001b[1;31mFileNotFoundError\u001b[0m                         Traceback (most recent call last)",
      "Input \u001b[1;32mIn [6]\u001b[0m, in \u001b[0;36m<cell line: 20>\u001b[1;34m()\u001b[0m\n\u001b[0;32m     20\u001b[0m \u001b[38;5;28;01mfor\u001b[39;00m num \u001b[38;5;129;01min\u001b[39;00m Action_Num:\n\u001b[0;32m     21\u001b[0m     \u001b[38;5;66;03m# print(\"Iterating: \" + str(i) + \" folder\")\u001b[39;00m\n\u001b[0;32m     22\u001b[0m     \u001b[38;5;28;01mfor\u001b[39;00m file \u001b[38;5;129;01min\u001b[39;00m notebook\u001b[38;5;241m.\u001b[39mtqdm(os\u001b[38;5;241m.\u001b[39mlistdir(\u001b[38;5;124m\"\u001b[39m\u001b[38;5;124mA\u001b[39m\u001b[38;5;124m\"\u001b[39m\u001b[38;5;241m+\u001b[39m \u001b[38;5;28mstr\u001b[39m(num)\u001b[38;5;241m.\u001b[39mzfill(\u001b[38;5;241m2\u001b[39m)), desc \u001b[38;5;241m=\u001b[39m \u001b[38;5;124m'\u001b[39m\u001b[38;5;124mExtracting CSV from  A\u001b[39m\u001b[38;5;124m'\u001b[39m \u001b[38;5;241m+\u001b[39m \u001b[38;5;28mstr\u001b[39m(num)\u001b[38;5;241m.\u001b[39mzfill(\u001b[38;5;241m2\u001b[39m)):\n\u001b[1;32m---> 23\u001b[0m         img \u001b[38;5;241m=\u001b[39m \u001b[43mImage\u001b[49m\u001b[38;5;241;43m.\u001b[39;49m\u001b[43mopen\u001b[49m\u001b[43m(\u001b[49m\u001b[43mos\u001b[49m\u001b[38;5;241;43m.\u001b[39;49m\u001b[43mpath\u001b[49m\u001b[38;5;241;43m.\u001b[39;49m\u001b[43mjoin\u001b[49m\u001b[43m(\u001b[49m\u001b[43mDataset_train_ImageFolder_path\u001b[49m\u001b[43m,\u001b[49m\u001b[43m \u001b[49m\u001b[43mfile\u001b[49m\u001b[43m)\u001b[49m\u001b[43m)\u001b[49m\n\u001b[0;32m     24\u001b[0m         img \u001b[38;5;241m=\u001b[39m img\u001b[38;5;241m.\u001b[39mresize((\u001b[38;5;241m28\u001b[39m, \u001b[38;5;241m28\u001b[39m), Image\u001b[38;5;241m.\u001b[39mNEAREST)\n\u001b[0;32m     25\u001b[0m         img\u001b[38;5;241m.\u001b[39mload()\n",
      "File \u001b[1;32mC:\\Anaconda3\\envs\\project\\lib\\site-packages\\PIL\\Image.py:2953\u001b[0m, in \u001b[0;36mopen\u001b[1;34m(fp, mode, formats)\u001b[0m\n\u001b[0;32m   2950\u001b[0m     filename \u001b[38;5;241m=\u001b[39m fp\n\u001b[0;32m   2952\u001b[0m \u001b[38;5;28;01mif\u001b[39;00m filename:\n\u001b[1;32m-> 2953\u001b[0m     fp \u001b[38;5;241m=\u001b[39m \u001b[43mbuiltins\u001b[49m\u001b[38;5;241;43m.\u001b[39;49m\u001b[43mopen\u001b[49m\u001b[43m(\u001b[49m\u001b[43mfilename\u001b[49m\u001b[43m,\u001b[49m\u001b[43m \u001b[49m\u001b[38;5;124;43m\"\u001b[39;49m\u001b[38;5;124;43mrb\u001b[39;49m\u001b[38;5;124;43m\"\u001b[39;49m\u001b[43m)\u001b[49m\n\u001b[0;32m   2954\u001b[0m     exclusive_fp \u001b[38;5;241m=\u001b[39m \u001b[38;5;28;01mTrue\u001b[39;00m\n\u001b[0;32m   2956\u001b[0m \u001b[38;5;28;01mtry\u001b[39;00m:\n",
      "\u001b[1;31mFileNotFoundError\u001b[0m: [Errno 2] No such file or directory: 'C:/Users/user/Desktop/Taekwondo/DataSet/Image/A14\\\\T01_A01_S01.mp4'"
     ]
    }
   ],
   "source": [
    "import cv2\n",
    "import pandas as pd\n",
    "\n",
    "import os\n",
    "import pandas as pd\n",
    "import time\n",
    "from tqdm import tqdm\n",
    "from PIL import Image\n",
    "import numpy as np\n",
    "\n",
    "columnNames = list()\n",
    "columnNames.append('label')\n",
    "\n",
    "for i in range(784):\n",
    "    pixel = str(i)\n",
    "    columnNames.append(pixel)\n",
    "train_data = pd.DataFrame(columns = columnNames)\n",
    "num_images = 0\n",
    "# =================== csv 추출 ==============\n",
    "for num in Action_Num:\n",
    "    # print(\"Iterating: \" + str(i) + \" folder\")\n",
    "    for file in notebook.tqdm(os.listdir(\"A\"+ str(num).zfill(2)), desc = 'Extracting CSV from  A' + str(num).zfill(2)):\n",
    "        img = Image.open(os.path.join(Dataset_train_ImageFolder_path, file))\n",
    "        img = img.resize((28, 28), Image.NEAREST)\n",
    "        img.load()\n",
    "        imgdata = np.asarray(img, dtype=\"int32\")\n",
    "       \n",
    "        data = []\n",
    "        data.append(\"A\"+ str(num).zfill(2))\n",
    "        for y in range(28):\n",
    "            for x in range(28):\n",
    "                data.append(imgdata[x][y])\n",
    "\n",
    "        train_data.loc[num_images] = data\n",
    "\n",
    "        num_images += 1\n",
    "\n",
    "train_data.to_csv(\"train_converted.csv\", index=False)"
   ]
  },
  {
   "cell_type": "code",
   "execution_count": null,
   "id": "fe7d53bb",
   "metadata": {},
   "outputs": [],
   "source": []
  }
 ],
 "metadata": {
  "kernelspec": {
   "display_name": "project",
   "language": "python",
   "name": "project"
  },
  "language_info": {
   "codemirror_mode": {
    "name": "ipython",
    "version": 3
   },
   "file_extension": ".py",
   "mimetype": "text/x-python",
   "name": "python",
   "nbconvert_exporter": "python",
   "pygments_lexer": "ipython3",
   "version": "3.9.7"
  }
 },
 "nbformat": 4,
 "nbformat_minor": 5
}
