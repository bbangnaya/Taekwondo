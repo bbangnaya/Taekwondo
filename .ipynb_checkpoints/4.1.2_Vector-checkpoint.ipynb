{
 "cells": [
  {
   "cell_type": "code",
   "execution_count": 1,
   "id": "d2dc696c",
   "metadata": {},
   "outputs": [],
   "source": [
    "import torch"
   ]
  },
  {
   "cell_type": "code",
   "execution_count": 2,
   "id": "136a2d74",
   "metadata": {},
   "outputs": [
    {
     "name": "stdout",
     "output_type": "stream",
     "text": [
      "tensor([1., 2., 3.])\n"
     ]
    }
   ],
   "source": [
    "vector1 = torch.tensor([1.,2.,3.])\n",
    "print(vector1)"
   ]
  },
  {
   "cell_type": "code",
   "execution_count": 3,
   "id": "c624a1fa",
   "metadata": {},
   "outputs": [
    {
     "name": "stdout",
     "output_type": "stream",
     "text": [
      "tensor([4., 5., 6.])\n"
     ]
    }
   ],
   "source": [
    "vector2= torch.tensor([4.,5.,6.])\n",
    "print(vector2)"
   ]
  },
  {
   "cell_type": "code",
   "execution_count": 4,
   "id": "a0c03b8b",
   "metadata": {},
   "outputs": [
    {
     "name": "stdout",
     "output_type": "stream",
     "text": [
      "tensor([5., 7., 9.])\n"
     ]
    }
   ],
   "source": [
    "add_vector=vector1+vector2\n",
    "print(add_vector)"
   ]
  },
  {
   "cell_type": "code",
   "execution_count": 5,
   "id": "88dca088",
   "metadata": {},
   "outputs": [
    {
     "name": "stdout",
     "output_type": "stream",
     "text": [
      "tensor([-3., -3., -3.])\n"
     ]
    }
   ],
   "source": [
    "sub_vector=vector1 - vector2\n",
    "print(sub_vector)"
   ]
  },
  {
   "cell_type": "code",
   "execution_count": 6,
   "id": "5bb004a8",
   "metadata": {},
   "outputs": [
    {
     "data": {
      "text/plain": [
       "tensor([ 4., 10., 18.])"
      ]
     },
     "execution_count": 6,
     "metadata": {},
     "output_type": "execute_result"
    }
   ],
   "source": [
    "torch.mul(vector1,vector2)"
   ]
  },
  {
   "cell_type": "code",
   "execution_count": 7,
   "id": "7f78e016",
   "metadata": {},
   "outputs": [
    {
     "data": {
      "text/plain": [
       "tensor([0.2500, 0.4000, 0.5000])"
      ]
     },
     "execution_count": 7,
     "metadata": {},
     "output_type": "execute_result"
    }
   ],
   "source": [
    "torch.div(vector1,vector2)"
   ]
  },
  {
   "cell_type": "code",
   "execution_count": 8,
   "id": "a4921334",
   "metadata": {},
   "outputs": [
    {
     "data": {
      "text/plain": [
       "tensor(32.)"
      ]
     },
     "execution_count": 8,
     "metadata": {},
     "output_type": "execute_result"
    }
   ],
   "source": [
    "torch.dot(vector1,vector2)"
   ]
  },
  {
   "cell_type": "code",
   "execution_count": null,
   "id": "4a87fbae",
   "metadata": {},
   "outputs": [],
   "source": []
  }
 ],
 "metadata": {
  "kernelspec": {
   "display_name": "Python 3 (ipykernel)",
   "language": "python",
   "name": "python3"
  },
  "language_info": {
   "codemirror_mode": {
    "name": "ipython",
    "version": 3
   },
   "file_extension": ".py",
   "mimetype": "text/x-python",
   "name": "python",
   "nbconvert_exporter": "python",
   "pygments_lexer": "ipython3",
   "version": "3.9.7"
  }
 },
 "nbformat": 4,
 "nbformat_minor": 5
}
