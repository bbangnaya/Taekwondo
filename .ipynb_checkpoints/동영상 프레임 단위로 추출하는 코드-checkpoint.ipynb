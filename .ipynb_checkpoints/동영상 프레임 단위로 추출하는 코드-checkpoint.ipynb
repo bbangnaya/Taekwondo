{
 "cells": [
  {
   "cell_type": "code",
   "execution_count": 12,
   "id": "bc1c96e0",
   "metadata": {
    "scrolled": false
   },
   "outputs": [
    {
     "name": "stdout",
     "output_type": "stream",
     "text": [
      "saved image 1.jpg\n",
      "saved image 2.jpg\n",
      "saved image 3.jpg\n",
      "saved image 4.jpg\n",
      "saved image 5.jpg\n",
      "saved image 6.jpg\n",
      "saved image 7.jpg\n",
      "saved image 8.jpg\n",
      "saved image 9.jpg\n",
      "saved image 10.jpg\n",
      "saved image 11.jpg\n",
      "saved image 12.jpg\n",
      "saved image 13.jpg\n",
      "saved image 14.jpg\n",
      "saved image 15.jpg\n",
      "saved image 16.jpg\n",
      "saved image 17.jpg\n",
      "saved image 18.jpg\n",
      "saved image 19.jpg\n",
      "saved image 20.jpg\n",
      "saved image 21.jpg\n"
     ]
    },
    {
     "ename": "error",
     "evalue": "OpenCV(4.5.5) D:\\a\\opencv-python\\opencv-python\\opencv\\modules\\imgcodecs\\src\\loadsave.cpp:801: error: (-215:Assertion failed) !_img.empty() in function 'cv::imwrite'\n",
     "output_type": "error",
     "traceback": [
      "\u001b[1;31m---------------------------------------------------------------------------\u001b[0m",
      "\u001b[1;31merror\u001b[0m                                     Traceback (most recent call last)",
      "Input \u001b[1;32mIn [12]\u001b[0m, in \u001b[0;36m<cell line: 8>\u001b[1;34m()\u001b[0m\n\u001b[0;32m      8\u001b[0m \u001b[38;5;28;01mwhile\u001b[39;00m success:\n\u001b[0;32m      9\u001b[0m   success,image \u001b[38;5;241m=\u001b[39m vidcap\u001b[38;5;241m.\u001b[39mread()\n\u001b[1;32m---> 10\u001b[0m   \u001b[43mcv2\u001b[49m\u001b[38;5;241;43m.\u001b[39;49m\u001b[43mimwrite\u001b[49m\u001b[43m(\u001b[49m\u001b[38;5;124;43m\"\u001b[39;49m\u001b[38;5;124;43m../data/Taekwondo/test/frame\u001b[39;49m\u001b[38;5;132;43;01m%d\u001b[39;49;00m\u001b[38;5;124;43m.png\u001b[39;49m\u001b[38;5;124;43m\"\u001b[39;49m\u001b[43m \u001b[49m\u001b[38;5;241;43m%\u001b[39;49m\u001b[43m \u001b[49m\u001b[43mcount\u001b[49m\u001b[43m,\u001b[49m\u001b[43m \u001b[49m\u001b[43mimage\u001b[49m\u001b[43m)\u001b[49m\n\u001b[0;32m     11\u001b[0m   \u001b[38;5;28mprint\u001b[39m(\u001b[38;5;124m\"\u001b[39m\u001b[38;5;124msaved image \u001b[39m\u001b[38;5;132;01m%d\u001b[39;00m\u001b[38;5;124m.jpg\u001b[39m\u001b[38;5;124m\"\u001b[39m \u001b[38;5;241m%\u001b[39m count)\n\u001b[0;32m     13\u001b[0m   \u001b[38;5;28;01mif\u001b[39;00m cv2\u001b[38;5;241m.\u001b[39mwaitKey(\u001b[38;5;241m0\u001b[39m) \u001b[38;5;241m==\u001b[39m \u001b[38;5;241m27\u001b[39m:                    \n",
      "\u001b[1;31merror\u001b[0m: OpenCV(4.5.5) D:\\a\\opencv-python\\opencv-python\\opencv\\modules\\imgcodecs\\src\\loadsave.cpp:801: error: (-215:Assertion failed) !_img.empty() in function 'cv::imwrite'\n"
     ]
    }
   ],
   "source": [
    "import cv2\n",
    "vidcap = cv2.VideoCapture('C:/Users/user/Desktop/Taekwondo/test/A01/T38_A01_S02.mp4')\n",
    "success,image = vidcap.read()\n",
    "\n",
    "count = 1\n",
    "success = True\n",
    "\n",
    "while success:\n",
    "  success,image = vidcap.read()\n",
    "  cv2.imwrite(\"../data/Taekwondo/test/frame%d.png\" % count, image)\n",
    "  # save frame as JPEG file\n",
    "  print(\"saved image %d.jpg\" % count)\n",
    "\n",
    "  if cv2.waitKey(0) == 1:                    \n",
    "      break\n",
    "  count += 1"
   ]
  },
  {
   "cell_type": "code",
   "execution_count": null,
   "id": "611479f9",
   "metadata": {},
   "outputs": [],
   "source": []
  }
 ],
 "metadata": {
  "kernelspec": {
   "display_name": "project",
   "language": "python",
   "name": "project"
  },
  "language_info": {
   "codemirror_mode": {
    "name": "ipython",
    "version": 3
   },
   "file_extension": ".py",
   "mimetype": "text/x-python",
   "name": "python",
   "nbconvert_exporter": "python",
   "pygments_lexer": "ipython3",
   "version": "3.9.7"
  }
 },
 "nbformat": 4,
 "nbformat_minor": 5
}
