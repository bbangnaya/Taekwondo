{
 "cells": [
  {
   "cell_type": "code",
   "execution_count": 2,
   "id": "b36f2fce",
   "metadata": {},
   "outputs": [],
   "source": [
    "#1. module import\n",
    "import numpy as np                         # 파이썬에서 쓰이는 또다른 자료형\n",
    "# numpy 타입의 np 생성 np를 통해 접근한다. \n",
    "import torch\n",
    "import torch.nn as nn\n",
    "import torch.nn.functional as F\n",
    "from torchvision import transforms, datasets       # torchvision 클래스에 있는 transforms, datasets 함수"
   ]
  },
  {
   "cell_type": "code",
   "execution_count": 3,
   "id": "2d24b5f3",
   "metadata": {},
   "outputs": [],
   "source": [
    "# 이미지 전처리에 관련된 부분은 torchvision 에서 제공하는 transforms"
   ]
  },
  {
   "cell_type": "code",
   "execution_count": 4,
   "id": "b9e48ae5",
   "metadata": {},
   "outputs": [],
   "source": [
    "import matplotlib.pyplot as plt      # 그리는 라이브러리"
   ]
  },
  {
   "cell_type": "code",
   "execution_count": 5,
   "id": "61241183",
   "metadata": {},
   "outputs": [
    {
     "name": "stdout",
     "output_type": "stream",
     "text": [
      "Using Pytorch version: 1.11.0 Device: cuda\n"
     ]
    }
   ],
   "source": [
    "if torch.cuda.is_available():\n",
    "     DEVICE=torch.device('cuda')\n",
    "else:\n",
    "     DEVICE=torch.device('cpu')\n",
    "\n",
    "print('Using Pytorch version:',torch.__version__,'Device:',DEVICE)"
   ]
  },
  {
   "cell_type": "code",
   "execution_count": 15,
   "id": "876ab6ed",
   "metadata": {},
   "outputs": [],
   "source": [
    "BATCH_SIZE=32        # MLP모델을 학습할 때 필요한 데이터 개수의 단위\n",
    "EPOCHS=10\n",
    "# 존재하는 Mini-batch를 전부 이용하는 횟수\n",
    "# 하이퍼 파라미터를 지정할 때는 보통 대문자로 표기.\n",
    "# 하이퍼 파라미터란 모델링할 때 사용자가 직접 세팅해주는 값\n",
    "\n",
    "#  첫줄은 Mini-batch 1개 단위에 대해 데이터가 32개로 구성돼 있는 것을 의미.\n",
    "#  위 예는 이제 32개의 데이터로 1회 학습을 하고\n",
    "#  EPOCHS 수, 즉 10회독을 돌린다고 생각하면 된다.\n"
   ]
  },
  {
   "cell_type": "code",
   "execution_count": 7,
   "id": "8ff12b1e",
   "metadata": {},
   "outputs": [],
   "source": [
    "# 3. MNIST 데이터 다운로드(Train ste, Test set 분리하기)\n",
    "train_dataset = datasets.MNIST(root=\"../data/MNIST\",\n",
    "                                train = True, download=True,\n",
    "                                transform=transforms.ToTensor())\n",
    "test_dataset = datasets.MNIST(root=\"../data/MNIST\",\n",
    "                                train = False,\n",
    "                                transform=transforms.ToTensor())\n",
    "train_loader = torch.utils.data.DataLoader(dataset = train_dataset,\n",
    "                                           batch_size = BATCH_SIZE,\n",
    "                                           shuffle=True)\n",
    "test_loader=torch.utils.data.DataLoader(dataset=test_dataset,\n",
    "                                        batch_size = BATCH_SIZE,\n",
    "                                        shuffle=True)\n",
    "\n",
    "#  root : 데이터가 저장될 장소를 지정합니다. 여기서 '../'은 상위 폴더를 의미합니다.\n",
    "#         이 예제에서는 코드가 실행되는 디렉터리의 상위 디렉터리에 존재하는 data 폴더 내 \n",
    "#         MNIST폴더에 저장하는 내용입니다.\n",
    "#  train : 대상 데이터가 MLP모델을 학습하기 위해 이용하는 학습 데이터인지\n",
    "#          MLP모델의 학습된 이후 성능을 검증하기 위한 검증용 데이터인지를 지정합니다.\n",
    "#  train = true 로 표기한 데이터는 학습용 데이터셋인 train_dataset 으로 설정.\n",
    "#  train = false 로 표기한 데이터는 검증용 데이터셋인 test_dataset 으로 설정.\n",
    "#  download : 해당 데이터를 인터넷에서 다운로드해 이용할 것인지를 지정.\n",
    "#  transform : 데이터를 다운로드할 때, 이미지 데이터에 대한 기본적인 전처리를\n",
    "#              동시에 진행할 수 있습니다. 여기서 torch모듈로 설계한 MLP의 Input으로 이용되기\n",
    "#              때문에 'ToTensor()' 메서드를 이용해 'tensor'형태로 변경합니다. \n",
    "#  또한 한픽셀은 0~255 범위의 스칼라 값으로 구성돼있는데, 이를 0~1범위에서\n",
    "#  정규화 과정이 진행됩니다. 데이터값이 커지면 불안정하거나 과적합되는 방향으로\n",
    "#  학습이 진행될 우려가 있기 때문에 정규화 과정을 이용해 Input으로 이용하는 것을\n",
    "#  권장합니다. \n",
    "#  shuffle : 데이터의 순서를 섞는다. "
   ]
  },
  {
   "cell_type": "code",
   "execution_count": 8,
   "id": "badb1c5e",
   "metadata": {},
   "outputs": [
    {
     "name": "stdout",
     "output_type": "stream",
     "text": [
      "X_train: torch.Size([32, 1, 28, 28]) type: torch.FloatTensor\n",
      "y_train: torch.Size([32]) type: torch.LongTensor\n"
     ]
    }
   ],
   "source": [
    "# 4. 데이터 확인하기(1)\n",
    "for(X_train,y_train)in train_loader:\n",
    "    print('X_train:',X_train.size(),'type:',X_train.type())\n",
    "    print('y_train:',y_train.size(),'type:',y_train.type())\n",
    "    break"
   ]
  },
  {
   "cell_type": "code",
   "execution_count": 9,
   "id": "738ea696",
   "metadata": {},
   "outputs": [
    {
     "data": {
      "image/png": "[encoded data removed]",
      "text/plain": [
       "<Figure size 720x72 with 10 Axes>"
      ]
     },
     "metadata": {
      "needs_background": "light"
     },
     "output_type": "display_data"
    }
   ],
   "source": [
    "# 5. 데이터 확인하기(2)\n",
    "pltsize=1\n",
    "plt.figure(figsize=(10*pltsize,pltsize))\n",
    "for i in range(10):\n",
    "    plt.subplot(1,10,i+1)     # 여러 그래프 그리기, 첫숫자 : 행, 둘째 : 열\n",
    "    plt.axis('off')           # 축없음\n",
    "    plt.imshow(X_train[i,:,:,:].numpy().reshape(28,28),cmap=\"gray_r\")\n",
    "    plt.title('Class: ' + str(y_train[i].item()))\n",
    "    \n",
    "    \n",
    "    # imshow : 이미지 출력"
   ]
  },
  {
   "cell_type": "code",
   "execution_count": 10,
   "id": "5a7f209c",
   "metadata": {},
   "outputs": [],
   "source": [
    "# 6. MLP(Multi Layer Perceptron) 모델 설계하기\n",
    "class Net(nn.Module):                 # nn.Module을 상속받는 Net클래스 생성\n",
    "    def __init__(self):   \n",
    "        # https://engineer-mole.tistory.com/190\n",
    "        # https://wikidocs.net/89\n",
    "        # 함수 기본구조\n",
    "        # def 함수이름 (매개변수):\n",
    "        # C#에 비유하면 self는 this, __init__은 생성자이다. \n",
    "        super(Net,self).__init__()\n",
    "        # super : 상속받은 부모 클래스\n",
    "        self.fc1=nn.Linear(28*28,512) # (input node수, output node수)\n",
    "        self.fc2=nn.Linear(512,256)   # 이전 output node수 = 다음 input node수\n",
    "        self.fc3=nn.Linear(256,10)\n",
    "        \n",
    "    def forward(self,x): # MLP모델의 Forward Propagation을 정의\n",
    "# 설계한 MLP 모델에 데이터를 입력했을 때\n",
    "# output을 계산하기까지의 과정을 나열한 것.\n",
    "        x=x.view(-1,28*28) # 8. 2차원 데이터를 1차원 데이터로 변환하기 위해\n",
    "    # view메서드를 이용해 784크기의 1차원 데이터로 변환해 진행\n",
    "    # https://wikidocs.net/52846\n",
    "        x=self.fc1(x)\n",
    "        x=F.sigmoid(x)\n",
    "        x=self.fc2(x)\n",
    "        x=F.sigmoid(x)\n",
    "        x=self.fc3(x)\n",
    "        x=F.log_softmax(x,dim=1)\n",
    "        return x\n",
    "    "
   ]
  },
  {
   "cell_type": "code",
   "execution_count": 11,
   "id": "f6042d25",
   "metadata": {},
   "outputs": [
    {
     "name": "stdout",
     "output_type": "stream",
     "text": [
      "Net(\n",
      "  (fc1): Linear(in_features=784, out_features=512, bias=True)\n",
      "  (fc2): Linear(in_features=512, out_features=256, bias=True)\n",
      "  (fc3): Linear(in_features=256, out_features=10, bias=True)\n",
      ")\n"
     ]
    }
   ],
   "source": [
    "#7.Optimizer, Object Function 설정하기\n",
    "model=Net().to(DEVICE)                  # MLP모델을 기존에 선정한 'DEVICE'에 할당합니다. \n",
    "optimizer = torch.optim.SGD(model.parameters(),lr=0.01,momentum=0.5)\n",
    "# Back Propagation을 이용해 파라미터를 업데이트할 때 이용하는 Optimizer를 정의합니다.\n",
    "# SGD알고리즘을 이용하며 Learning Rate = 0.01, momentum=0.5로 설정\n",
    "criterion=nn.CrossEntropyLoss()\n",
    "# MLP모델의 output값과 계산될 Label값은 Class를 표현하는 원-핫 인코딩 값입니다.\n",
    "# MLP모델의 output값과 원-핫 인코딩 값과의 Loss는 CrossEntropy를 이용해 계산하기 위해\n",
    "# criterion은 nn.CrossEntropyLoss() 로 설정. \n",
    "\n",
    "print(model)"
   ]
  },
  {
   "cell_type": "code",
   "execution_count": 12,
   "id": "acbb0bf6",
   "metadata": {},
   "outputs": [],
   "source": [
    "#8. MLP모델 학습을 진행하며 \"학습 데이터\"에 대한 모델 성능을 확인하는 함수 정의(train_loader)\n",
    "def train(model, train_loader,optimizer,log_interval):\n",
    "    model.train()         # 학습상태로 지정\n",
    "    for batch_idx,(image, label) in enumerate(train_loader):\n",
    "        image=image.to(DEVICE)\n",
    "        label=label.to(DEVICE)\n",
    "        optimizer.zero_grad()\n",
    "        output=model(image)\n",
    "        loss=criterion(output,label)\n",
    "        loss.backward()\n",
    "        optimizer.step()\n",
    "        \n",
    "        if batch_idx % log_interval==0:\n",
    "            print(\"Train Epoch: {}[{}/{}({:.0f}%)]\\tTrain Loss: {:.6f}\"\n",
    "                  .format(Epoch,batch_idx * len(image),\n",
    "                len(train_loader.dataset),100.*batch_idx/len(train_loader),loss.item()))"
   ]
  },
  {
   "cell_type": "code",
   "execution_count": 13,
   "id": "8c16da00",
   "metadata": {},
   "outputs": [],
   "source": [
    "#9. 학습되는 과정속에서 \"검증데이터\"에 대한 모델 성능을 확인하는 함수 정의(test_loader)\n",
    "def evaluate(model,test_loader):\n",
    "    model.eval()                  # 평가상태로 지정\n",
    "    test_loss=0\n",
    "    correct=0\n",
    "    \n",
    "    with torch.no_grad():\n",
    "        for image, label in test_loader:\n",
    "            image=image.to(DEVICE)              # 8과 동일\n",
    "            label=label.to(DEVICE)              # 8과 동일\n",
    "            output=model(image)                 # 8과 동일\n",
    "            test_loss+=criterion(output,label).item()\n",
    "            prediction = output.max(1,keepdim = True)[1]\n",
    "            # MLP 모델의 output값은 크기가 10인 벡터값입니다. \n",
    "            # 계산된 벡터값 내 가장 큰 값인 위치에 대해 해당 위치에 대응하는 클래스로 예측했다고 판단합니다.\n",
    "            correct += prediction.eq(label.view_as(prediction)).sum().item()\n",
    "            # MLP모델이 최종으로 예측한 클래스 값과 실제 레이블이 의미하는 클래스가 맞으면 correct에 더해 올바르게 예측한 횟수를 저장\n",
    "                        \n",
    "    test_loss /= len(test_loader.dataset)\n",
    "    # 현재까지 계산된 test_loss 값을 test_loader내에 존재하는 Mini-Batch 개수(=10)만큼 나눠 평균 Loss값으로 계산.\n",
    "    test_accuracy=100.*correct / len(test_loader.dataset)\n",
    "    # test_loader 데이터중 얼마나 맞췄는지를 계산해 정확도를 계산합니다.\n",
    "    return test_loss, test_accuracy"
   ]
  },
  {
   "cell_type": "code",
   "execution_count": 16,
   "id": "be5679ed",
   "metadata": {},
   "outputs": [
    {
     "name": "stdout",
     "output_type": "stream",
     "text": [
      "Train Epoch: 1[0/60000(0%)]\tTrain Loss: 0.224836\n",
      "Train Epoch: 1[6400/60000(11%)]\tTrain Loss: 0.297327\n",
      "Train Epoch: 1[12800/60000(21%)]\tTrain Loss: 0.514591\n",
      "Train Epoch: 1[19200/60000(32%)]\tTrain Loss: 0.353398\n",
      "Train Epoch: 1[25600/60000(43%)]\tTrain Loss: 0.526513\n",
      "Train Epoch: 1[32000/60000(53%)]\tTrain Loss: 0.069961\n",
      "Train Epoch: 1[38400/60000(64%)]\tTrain Loss: 0.386558\n",
      "Train Epoch: 1[44800/60000(75%)]\tTrain Loss: 0.513294\n",
      "Train Epoch: 1[51200/60000(85%)]\tTrain Loss: 0.466610\n",
      "Train Epoch: 1[57600/60000(96%)]\tTrain Loss: 0.364642\n",
      "\n",
      "[EPOCH: 1], \tTest Loss: 0.0096, \tTest Accuracy: 91.04 %\n",
      "\n",
      "Train Epoch: 2[0/60000(0%)]\tTrain Loss: 0.199315\n",
      "Train Epoch: 2[6400/60000(11%)]\tTrain Loss: 0.529653\n",
      "Train Epoch: 2[12800/60000(21%)]\tTrain Loss: 0.465505\n",
      "Train Epoch: 2[19200/60000(32%)]\tTrain Loss: 0.265137\n",
      "Train Epoch: 2[25600/60000(43%)]\tTrain Loss: 0.216197\n",
      "Train Epoch: 2[32000/60000(53%)]\tTrain Loss: 0.148335\n",
      "Train Epoch: 2[38400/60000(64%)]\tTrain Loss: 0.311722\n",
      "Train Epoch: 2[44800/60000(75%)]\tTrain Loss: 0.219283\n",
      "Train Epoch: 2[51200/60000(85%)]\tTrain Loss: 0.222551\n",
      "Train Epoch: 2[57600/60000(96%)]\tTrain Loss: 0.236146\n",
      "\n",
      "[EPOCH: 2], \tTest Loss: 0.0094, \tTest Accuracy: 91.20 %\n",
      "\n",
      "Train Epoch: 3[0/60000(0%)]\tTrain Loss: 0.232289\n",
      "Train Epoch: 3[6400/60000(11%)]\tTrain Loss: 0.287712\n",
      "Train Epoch: 3[12800/60000(21%)]\tTrain Loss: 0.357563\n",
      "Train Epoch: 3[19200/60000(32%)]\tTrain Loss: 0.170829\n",
      "Train Epoch: 3[25600/60000(43%)]\tTrain Loss: 0.171105\n",
      "Train Epoch: 3[32000/60000(53%)]\tTrain Loss: 0.242033\n",
      "Train Epoch: 3[38400/60000(64%)]\tTrain Loss: 0.411497\n",
      "Train Epoch: 3[44800/60000(75%)]\tTrain Loss: 0.595336\n",
      "Train Epoch: 3[51200/60000(85%)]\tTrain Loss: 0.228670\n",
      "Train Epoch: 3[57600/60000(96%)]\tTrain Loss: 0.264911\n",
      "\n",
      "[EPOCH: 3], \tTest Loss: 0.0093, \tTest Accuracy: 91.63 %\n",
      "\n",
      "Train Epoch: 4[0/60000(0%)]\tTrain Loss: 0.748235\n",
      "Train Epoch: 4[6400/60000(11%)]\tTrain Loss: 0.072668\n",
      "Train Epoch: 4[12800/60000(21%)]\tTrain Loss: 0.353421\n",
      "Train Epoch: 4[19200/60000(32%)]\tTrain Loss: 0.114827\n",
      "Train Epoch: 4[25600/60000(43%)]\tTrain Loss: 0.538936\n",
      "Train Epoch: 4[32000/60000(53%)]\tTrain Loss: 0.315417\n",
      "Train Epoch: 4[38400/60000(64%)]\tTrain Loss: 0.146270\n",
      "Train Epoch: 4[44800/60000(75%)]\tTrain Loss: 0.267452\n",
      "Train Epoch: 4[51200/60000(85%)]\tTrain Loss: 0.547376\n",
      "Train Epoch: 4[57600/60000(96%)]\tTrain Loss: 0.414052\n",
      "\n",
      "[EPOCH: 4], \tTest Loss: 0.0091, \tTest Accuracy: 91.65 %\n",
      "\n",
      "Train Epoch: 5[0/60000(0%)]\tTrain Loss: 0.420048\n",
      "Train Epoch: 5[6400/60000(11%)]\tTrain Loss: 0.254349\n",
      "Train Epoch: 5[12800/60000(21%)]\tTrain Loss: 0.583271\n",
      "Train Epoch: 5[19200/60000(32%)]\tTrain Loss: 0.119324\n",
      "Train Epoch: 5[25600/60000(43%)]\tTrain Loss: 0.377126\n",
      "Train Epoch: 5[32000/60000(53%)]\tTrain Loss: 0.300400\n",
      "Train Epoch: 5[38400/60000(64%)]\tTrain Loss: 0.165652\n",
      "Train Epoch: 5[44800/60000(75%)]\tTrain Loss: 0.223648\n",
      "Train Epoch: 5[51200/60000(85%)]\tTrain Loss: 0.224570\n",
      "Train Epoch: 5[57600/60000(96%)]\tTrain Loss: 0.470367\n",
      "\n",
      "[EPOCH: 5], \tTest Loss: 0.0089, \tTest Accuracy: 91.75 %\n",
      "\n",
      "Train Epoch: 6[0/60000(0%)]\tTrain Loss: 0.261198\n",
      "Train Epoch: 6[6400/60000(11%)]\tTrain Loss: 0.183824\n",
      "Train Epoch: 6[12800/60000(21%)]\tTrain Loss: 0.311976\n",
      "Train Epoch: 6[19200/60000(32%)]\tTrain Loss: 0.285612\n",
      "Train Epoch: 6[25600/60000(43%)]\tTrain Loss: 0.419969\n",
      "Train Epoch: 6[32000/60000(53%)]\tTrain Loss: 0.592142\n",
      "Train Epoch: 6[38400/60000(64%)]\tTrain Loss: 0.223511\n",
      "Train Epoch: 6[44800/60000(75%)]\tTrain Loss: 0.298087\n",
      "Train Epoch: 6[51200/60000(85%)]\tTrain Loss: 0.303540\n",
      "Train Epoch: 6[57600/60000(96%)]\tTrain Loss: 0.428690\n",
      "\n",
      "[EPOCH: 6], \tTest Loss: 0.0086, \tTest Accuracy: 91.83 %\n",
      "\n",
      "Train Epoch: 7[0/60000(0%)]\tTrain Loss: 0.364888\n",
      "Train Epoch: 7[6400/60000(11%)]\tTrain Loss: 0.386284\n",
      "Train Epoch: 7[12800/60000(21%)]\tTrain Loss: 0.090312\n",
      "Train Epoch: 7[19200/60000(32%)]\tTrain Loss: 0.438820\n",
      "Train Epoch: 7[25600/60000(43%)]\tTrain Loss: 0.265518\n",
      "Train Epoch: 7[32000/60000(53%)]\tTrain Loss: 0.365961\n",
      "Train Epoch: 7[38400/60000(64%)]\tTrain Loss: 0.572903\n",
      "Train Epoch: 7[44800/60000(75%)]\tTrain Loss: 0.187879\n",
      "Train Epoch: 7[51200/60000(85%)]\tTrain Loss: 0.627950\n",
      "Train Epoch: 7[57600/60000(96%)]\tTrain Loss: 0.174039\n",
      "\n",
      "[EPOCH: 7], \tTest Loss: 0.0085, \tTest Accuracy: 92.00 %\n",
      "\n",
      "Train Epoch: 8[0/60000(0%)]\tTrain Loss: 0.243629\n",
      "Train Epoch: 8[6400/60000(11%)]\tTrain Loss: 0.559504\n",
      "Train Epoch: 8[12800/60000(21%)]\tTrain Loss: 0.116218\n",
      "Train Epoch: 8[19200/60000(32%)]\tTrain Loss: 0.697467\n",
      "Train Epoch: 8[25600/60000(43%)]\tTrain Loss: 0.539597\n",
      "Train Epoch: 8[32000/60000(53%)]\tTrain Loss: 0.676265\n",
      "Train Epoch: 8[38400/60000(64%)]\tTrain Loss: 0.221692\n",
      "Train Epoch: 8[44800/60000(75%)]\tTrain Loss: 0.205255\n",
      "Train Epoch: 8[51200/60000(85%)]\tTrain Loss: 0.117439\n",
      "Train Epoch: 8[57600/60000(96%)]\tTrain Loss: 0.316345\n",
      "\n",
      "[EPOCH: 8], \tTest Loss: 0.0084, \tTest Accuracy: 92.05 %\n",
      "\n",
      "Train Epoch: 9[0/60000(0%)]\tTrain Loss: 0.217079\n",
      "Train Epoch: 9[6400/60000(11%)]\tTrain Loss: 0.377788\n",
      "Train Epoch: 9[12800/60000(21%)]\tTrain Loss: 0.379744\n",
      "Train Epoch: 9[19200/60000(32%)]\tTrain Loss: 0.175547\n",
      "Train Epoch: 9[25600/60000(43%)]\tTrain Loss: 0.189031\n",
      "Train Epoch: 9[32000/60000(53%)]\tTrain Loss: 0.126737\n",
      "Train Epoch: 9[38400/60000(64%)]\tTrain Loss: 0.354842\n",
      "Train Epoch: 9[44800/60000(75%)]\tTrain Loss: 0.075098\n",
      "Train Epoch: 9[51200/60000(85%)]\tTrain Loss: 0.328759\n",
      "Train Epoch: 9[57600/60000(96%)]\tTrain Loss: 0.229106\n",
      "\n",
      "[EPOCH: 9], \tTest Loss: 0.0083, \tTest Accuracy: 92.22 %\n",
      "\n",
      "Train Epoch: 10[0/60000(0%)]\tTrain Loss: 0.352548\n",
      "Train Epoch: 10[6400/60000(11%)]\tTrain Loss: 0.282661\n",
      "Train Epoch: 10[12800/60000(21%)]\tTrain Loss: 0.222558\n",
      "Train Epoch: 10[19200/60000(32%)]\tTrain Loss: 0.360309\n",
      "Train Epoch: 10[25600/60000(43%)]\tTrain Loss: 0.393467\n",
      "Train Epoch: 10[32000/60000(53%)]\tTrain Loss: 0.630221\n",
      "Train Epoch: 10[38400/60000(64%)]\tTrain Loss: 0.264802\n",
      "Train Epoch: 10[44800/60000(75%)]\tTrain Loss: 0.246001\n",
      "Train Epoch: 10[51200/60000(85%)]\tTrain Loss: 0.377332\n",
      "Train Epoch: 10[57600/60000(96%)]\tTrain Loss: 0.105719\n",
      "\n",
      "[EPOCH: 10], \tTest Loss: 0.0082, \tTest Accuracy: 92.48 %\n",
      "\n"
     ]
    }
   ],
   "source": [
    "#10. MLP학습을 실행하면서 Train, Test set의 Loss및 Test set Accuracy를 확인하기\n",
    "for Epoch in range(1,EPOCHS+1):\n",
    "    train(model,train_loader,optimizer,log_interval = 200)\n",
    "    test_loss, test_accuracy=evaluate(model, test_loader)\n",
    "    print(\"\\n[EPOCH: {}], \\tTest Loss: {:.4f}, \\tTest Accuracy: {:.2f} %\\n\".\n",
    "          format(Epoch,test_loss,test_accuracy))"
   ]
  },
  {
   "cell_type": "code",
   "execution_count": null,
   "id": "96e5ea96",
   "metadata": {},
   "outputs": [],
   "source": []
  }
 ],
 "metadata": {
  "kernelspec": {
   "display_name": "project",
   "language": "python",
   "name": "project"
  },
  "language_info": {
   "codemirror_mode": {
    "name": "ipython",
    "version": 3
   },
   "file_extension": ".py",
   "mimetype": "text/x-python",
   "name": "python",
   "nbconvert_exporter": "python",
   "pygments_lexer": "ipython3",
   "version": "3.9.7"
  }
 },
 "nbformat": 4,
 "nbformat_minor": 5
}
