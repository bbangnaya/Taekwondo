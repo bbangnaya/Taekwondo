{
 "cells": [
  {
   "cell_type": "code",
   "execution_count": null,
   "id": "2247ee5b",
   "metadata": {},
   "outputs": [],
   "source": [
    "# 3. Data Augmentation 이 적용된 CIFAR-10 데이터 다운로드\n",
    "\n",
    "train_dataset = datasets.CIFAR10(root = \"../data/CIFAR_10\",\n",
    "                                 train = True,\n",
    "                                 download = True,\n",
    "                                 transform = transforms.Compose([\n",
    "                                 transforms.RandomResizedCrop(224),\n",
    "                                 transforms.RandomHorizontalFlip(),\n",
    "                                 transforms.ToTensor(),\n",
    "                                 transforms.Normalize((0.5, 0.5, 0.5), (0.5, 0.5, 0.5))]))\n",
    "\n",
    "\n",
    "test_dataset = datasets.CIFAR10(root = \"../data/CIFAR_10\",\n",
    "                                train = True,\n",
    "                                download = True,\n",
    "                                transform = transforms.Compose([\n",
    "                                transforms.RandomHorizontalFlip(),\n",
    "                                transforms.ToTensor(),\n",
    "                                transforms.Normalize((0.5, 0.5, 0.5), (0.5, 0.5, 0.5))]))\n",
    "\n",
    "train_loader = torch.utils.data.DataLoader(dataset = train_dataset, \n",
    "                                           batch_size = BATCH_SIZE, \n",
    "                                           shuffle = False)\n",
    "test_loader = torch.utils.data.DataLoader(dataset = test_dataset, \n",
    "                                           batch_size = BATCH_SIZE, \n",
    "                                           shuffle = False)"
   ]
  },
  {
   "cell_type": "code",
   "execution_count": null,
   "id": "8f3bee97",
   "metadata": {},
   "outputs": [],
   "source": [
    "# 데이터 전처리화\n",
    "# https://data-panic.tistory.com/13\n",
    "# https://tutorials.pytorch.kr/beginner/data_loading_tutorial.html\n",
    "# 하위 폴더가 존재해야 함. 하위 폴더 만들어보자(0~7)\n",
    "\n",
    "train_root = \".././Taekwondo/DataSet/train_Image\"\n",
    "test_root = \".././Taekwondo/DataSet/test_Image\"\n",
    "\n",
    "trains = transforms.Compose([transforms.Resize((32,32)),\n",
    "                            transforms.RandomResizedCrop(224),\n",
    "                            transforms.RandomHorizontalFlip(),\n",
    "                            transforms.ToTensor(),\n",
    "                            transforms.Normalize((0.5,0.5,0.5),(0.5,0.5,0.5))\n",
    "                            ])\n",
    "tests = transforms.Compose([transforms.CenterCrop(224),\n",
    "                            transforms.Resize(256),\n",
    "                            transforms.ToTensor(),\n",
    "                            transforms.Normalize((0.5,0.5,0.5),(0.5,0.5,0.5))\n",
    "                            ])\n",
    "\n",
    "train_dataset = torchvision.datasets.ImageFolder(root = train_root,\n",
    "                                           transform = trains)\n",
    "test_dataset = torchvision.datasets.ImageFolder(root = test_root,\n",
    "                                           transform = tests)\n",
    "\n",
    "train_loader = torch.utils.data.DataLoader(dataset=train_dataset,\n",
    "                                           batch_size=BATCH_SIZE,\n",
    "                                           shuffle=True)\n",
    "test_loader = torch.utils.data.DataLoader(dataset = test_dataset, \n",
    "                                          batch_size = BATCH_SIZE, \n",
    "                                          shuffle = True)\n",
    "\n"
   ]
  }
 ],
 "metadata": {
  "kernelspec": {
   "display_name": "project",
   "language": "python",
   "name": "project"
  },
  "language_info": {
   "codemirror_mode": {
    "name": "ipython",
    "version": 3
   },
   "file_extension": ".py",
   "mimetype": "text/x-python",
   "name": "python",
   "nbconvert_exporter": "python",
   "pygments_lexer": "ipython3",
   "version": "3.9.7"
  }
 },
 "nbformat": 4,
 "nbformat_minor": 5
}
