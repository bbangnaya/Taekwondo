{
 "cells": [
  {
   "cell_type": "code",
   "execution_count": 26,
   "id": "b1a5f6e2",
   "metadata": {},
   "outputs": [
    {
     "name": "stdout",
     "output_type": "stream",
     "text": [
      "(274, 192, 3)\n",
      "-1\n"
     ]
    }
   ],
   "source": [
    "import cv2\n",
    "import numpy as np\n",
    "\n",
    "img = cv2.imread('.././Taekwondo/DataSet/train_/frame0.jpg')\n",
    "x=501; y=106; w=192; h=274      # roi 좌표\n",
    "roi = img[y:y+h, x:x+w]         # roi 지정        ---①\n",
    "\n",
    "print(roi.shape)                # roi shape, (50,50,3)\n",
    "cv2.rectangle(roi, (0,0), (x+w, y+h), (0,255,0)) # roi 전체에 사각형 그리기 ---②\n",
    "# (0, 0)은 좌측 상단이며, (h-1, w-1)은 우측 하단입니다. \n",
    "# roi 이미지의 좌측 상단부터 우측 하단까지를 꼭짓점으로 갖는 사각형을 그려준다는 것입니다. \n",
    "# RGB 값인 (0, 255, 0)은 녹색을 나타냅니다.\n",
    "cv2.imshow(\"img\", img)\n",
    "\n",
    "key = cv2.waitKey(0)\n",
    "print(key)\n",
    "cv2.destroyAllWindows()"
   ]
  },
  {
   "cell_type": "code",
   "execution_count": 21,
   "id": "7869ec54",
   "metadata": {},
   "outputs": [
    {
     "name": "stdout",
     "output_type": "stream",
     "text": [
      "x:501, y:106, w:192, h:274\n",
      "croped.\n"
     ]
    }
   ],
   "source": [
    "import cv2\n",
    "import numpy as np\n",
    "\n",
    "isDragging = False                      # 마우스 드래그 상태 저장 \n",
    "x0, y0, w, h = -1,-1,-1,-1              # 영역 선택 좌표 저장\n",
    "blue, red = (255,0,0),(0,0,255)         # 색상 값 \n",
    "\n",
    "def onMouse(event,x,y,flags,param):     # 마우스 이벤트 핸들 함수  ---①\n",
    "    global isDragging, x0, y0, img      # 전역변수 참조\n",
    "    if event == cv2.EVENT_LBUTTONDOWN:  # 왼쪽 마우스 버튼 다운, 드래그 시작 ---②\n",
    "        isDragging = True\n",
    "        x0 = x\n",
    "        y0 = y\n",
    "    elif event == cv2.EVENT_MOUSEMOVE:  # 마우스 움직임 ---③\n",
    "        if isDragging:                  # 드래그 진행 중\n",
    "            img_draw = img.copy()       # 사각형 그림 표현을 위한 이미지 복제\n",
    "            cv2.rectangle(img_draw, (x0, y0), (x, y), blue, 2) # 드래그 진행 영역 표시\n",
    "            cv2.imshow('img', img_draw) # 사각형 표시된 그림 화면 출력\n",
    "    elif event == cv2.EVENT_LBUTTONUP:  # 왼쪽 마우스 버튼 업 ---④\n",
    "        if isDragging:                  # 드래그 중지\n",
    "            isDragging = False          \n",
    "            w = x - x0                  # 드래그 영역 폭 계산\n",
    "            h = y - y0                  # 드래그 영역 높이 계산\n",
    "            print(\"x:%d, y:%d, w:%d, h:%d\" % (x0, y0, w, h))\n",
    "            if w > 0 and h > 0:         # 폭과 높이가 양수이면 드래그 방향이 옳음 ---⑤\n",
    "                img_draw = img.copy()   # 선택 영역에 사각형 그림을 표시할 이미지 복제\n",
    "                # 선택 영역에 빨간 사각형 표시\n",
    "                cv2.rectangle(img_draw, (x0, y0), (x, y), red, 2) \n",
    "                cv2.imshow('img', img_draw) # 빨간 사각형 그려진 이미지 화면 출력\n",
    "                roi = img[y0:y0+h, x0:x0+w] # 원본 이미지에서 선택 영영만 ROI로 지정 ---⑥\n",
    "                cv2.imshow('cropped', roi)  # ROI 지정 영역을 새창으로 표시\n",
    "                cv2.moveWindow('cropped', 0, 0) # 새창을 화면 좌측 상단에 이동\n",
    "                cv2.imwrite('./cropped.jpg', roi)   # ROI 영역만 파일로 저장 ---⑦\n",
    "                print(\"croped.\")\n",
    "            else:\n",
    "                cv2.imshow('img', img)  # 드래그 방향이 잘못된 경우 사각형 그림ㅇㅣ 없는 원본 이미지 출력\n",
    "                print(\"좌측 상단에서 우측 하단으로 영역을 드래그 하세요.\")\n",
    "\n",
    "img = cv2.imread('.././Taekwondo/DataSet/train_/frame0.jpg')\n",
    "cv2.imshow('img', img)\n",
    "cv2.setMouseCallback('img', onMouse) # 마우스 이벤트 등록 ---⑧\n",
    "cv2.waitKey()\n",
    "cv2.destroyAllWindows()"
   ]
  },
  {
   "cell_type": "code",
   "execution_count": 1,
   "id": "a014e832",
   "metadata": {},
   "outputs": [
    {
     "ename": "ModuleNotFoundError",
     "evalue": "No module named 'albumentations'",
     "output_type": "error",
     "traceback": [
      "\u001b[1;31m---------------------------------------------------------------------------\u001b[0m",
      "\u001b[1;31mModuleNotFoundError\u001b[0m                       Traceback (most recent call last)",
      "Input \u001b[1;32mIn [1]\u001b[0m, in \u001b[0;36m<cell line: 1>\u001b[1;34m()\u001b[0m\n\u001b[1;32m----> 1\u001b[0m \u001b[38;5;28;01mimport\u001b[39;00m \u001b[38;5;21;01malbumentations\u001b[39;00m \u001b[38;5;28;01mas\u001b[39;00m \u001b[38;5;21;01mA\u001b[39;00m\n\u001b[0;32m      2\u001b[0m \u001b[38;5;28;01mfrom\u001b[39;00m \u001b[38;5;21;01malbumentations\u001b[39;00m\u001b[38;5;21;01m.\u001b[39;00m\u001b[38;5;21;01mpytorch\u001b[39;00m \u001b[38;5;28;01mimport\u001b[39;00m ToTensorV2\n\u001b[0;32m      3\u001b[0m \u001b[38;5;28;01mimport\u001b[39;00m \u001b[38;5;21;01mcv2\u001b[39;00m\n",
      "\u001b[1;31mModuleNotFoundError\u001b[0m: No module named 'albumentations'"
     ]
    }
   ],
   "source": [
    "import albumentations as A\n",
    "from albumentations.pytorch import ToTensorV2\n",
    "import cv2\n",
    "import os\n",
    "import numpy as np\n",
    "from PIL import Image"
   ]
  },
  {
   "cell_type": "code",
   "execution_count": null,
   "id": "c4fc16cb",
   "metadata": {},
   "outputs": [],
   "source": [
    "image = cv2.imread(img_path)\n",
    "image = cv2.cvtColor(image, cv2.COLOR_BGR2RGB) # (500, 335)\n",
    "\n",
    "bboxes = np.loadtxt(fname=label_path, delimiter=\" \",ndmin=2)\n",
    "bboxes = np.roll(bboxes, 4, axis=1).tolist()  # [[0.641, 0.5705705705705706, 0.718, 0.8408408408408409, 6.0]]"
   ]
  },
  {
   "cell_type": "code",
   "execution_count": null,
   "id": "2accd9a1",
   "metadata": {},
   "outputs": [],
   "source": [
    "RandomResizedCrop(size,\n",
    "                  scale = (0.08, 1.0),\n",
    "                  ratio = (3/4, 4/3),\n",
    "                  interpolation)"
   ]
  },
  {
   "cell_type": "code",
   "execution_count": null,
   "id": "c15263b1",
   "metadata": {},
   "outputs": [],
   "source": [
    "root = \".././Taekwondo/DataSet/train_Image\"\n",
    "test_root = \".././Taekwondo/DataSet/test_Image\"\n",
    "\n",
    "trans = transforms.Compose([transforms.Resize((32,32)),\n",
    "                            transforms.ToTensor(),\n",
    "                            ])\n",
    "\n",
    "tests = transforms.Compose([transforms.Resize((32,32)),\n",
    "                            transforms.ToTensor(),\n",
    "                            ])\n",
    "\n",
    "test_dataset = torchvision.datasets.ImageFolder(root = test_root,\n",
    "                                           transform = tests)\n",
    "\n",
    "trainset = torchvision.datasets.ImageFolder(root = root,\n",
    "                                           transform = trans)\n",
    "\n",
    "train_loader = torch.utils.data.DataLoader(dataset=trainset,\n",
    "                                          batch_size=BATCH_SIZE,\n",
    "                                          shuffle=True,\n",
    "                                          drop_last=True)\n",
    "\n",
    "test_loader = torch.utils.data.DataLoader(dataset=test_dataset,\n",
    "                                          batch_size=BATCH_SIZE,\n",
    "                                          shuffle=True,\n",
    "                                          drop_last=True)"
   ]
  },
  {
   "cell_type": "code",
   "execution_count": null,
   "id": "bf619024",
   "metadata": {},
   "outputs": [],
   "source": []
  },
  {
   "cell_type": "code",
   "execution_count": 3,
   "id": "f932708d",
   "metadata": {},
   "outputs": [
    {
     "data": {
      "application/vnd.jupyter.widget-view+json": {
       "model_id": "9b8ad7635df7450a900a913135e96884",
       "version_major": 2,
       "version_minor": 0
      },
      "text/plain": [
       "iterate range 100:   0%|          | 0/1000 [00:00<?, ?it/s]"
      ]
     },
     "metadata": {},
     "output_type": "display_data"
    }
   ],
   "source": [
    "from tqdm import notebook\n",
    "import time \n",
    "\n",
    "for i in notebook.tqdm(range(1000), desc='iterate range 100'):\n",
    "    time.sleep(0.01)"
   ]
  },
  {
   "cell_type": "code",
   "execution_count": 6,
   "id": "39538e27",
   "metadata": {},
   "outputs": [],
   "source": [
    "import os \n",
    "os.makedirs(\"a/b/c/d\")\n",
    "# a안에 b안에 c안에 d 폴더 생성\n",
    "# 하지만, a/b/c/d가 모두 이미 존재하는 폴더라면 오류 발생.\n"
   ]
  },
  {
   "cell_type": "code",
   "execution_count": null,
   "id": "a6c1fa78",
   "metadata": {},
   "outputs": [],
   "source": [
    "# 폴더생성 기본 코드\n",
    "import os \n",
    "os.mkdir(\"C:/Users/user/Desktop/Taekwondo/DataSet/GoodFolder1\") "
   ]
  },
  {
   "cell_type": "code",
   "execution_count": 5,
   "id": "28d763a6",
   "metadata": {},
   "outputs": [
    {
     "name": "stdout",
     "output_type": "stream",
     "text": [
      "현재 위치 : ./\n"
     ]
    }
   ],
   "source": [
    "# 현재 위치 알아내는 코드\n",
    "import os \n",
    "current_path = os.getcwd() \n",
    "print(\"현재 위치 : \" + current_path)\n",
    "\n",
    "# 출처: https://blockdmask.tistory.com/554 [개발자 지망생]"
   ]
  },
  {
   "cell_type": "code",
   "execution_count": null,
   "id": "ed3dafe1",
   "metadata": {},
   "outputs": [],
   "source": [
    "# 12프레임단위로 추출하는 코드\n",
    "import cv2\n",
    "for()\n",
    "vidcap = cv2.VideoCapture('C:/Users/user/Desktop/Taekwondo/test/A01')\n",
    "file_name = 'T38_A01_S01.mp4'\n",
    "count = 0\n",
    "\n",
    "while(vidcap.isOpened()):\n",
    "    ret, image = vidcap.read()\n",
    "    if(int(vidcap.get(1)) % 20 == 0):             # 여기가 프레임 수정하는 코드\n",
    "        print('Saved frame number : ' + str(int(vidcap.get(1))))\n",
    "        cv2.imwrite(\"../data/Taekwondo/train/frame%d.png\" % count, image)\n",
    "        print('Saved frame%d.jpg' % count)\n",
    "        count += 1\n",
    "        "
   ]
  },
  {
   "cell_type": "code",
   "execution_count": null,
   "id": "b0d27c0a",
   "metadata": {},
   "outputs": [],
   "source": [
    "for Set in range(2, 10):\n",
    "        os.mkdir(my_path + file_name + str(Set))\n",
    "    file_name = 'T38_A01_S01.mp4'\n",
    "    print('T%d_A%d_S%d.jpg',%Trainer, %Action,%Set)"
   ]
  },
  {
   "cell_type": "code",
   "execution_count": null,
   "id": "d018d515",
   "metadata": {},
   "outputs": [],
   "source": [
    "# 12프레임단위로 추출하는 코드\n",
    "import cv2\n",
    "vidcap = cv2.VideoCapture('C:/Users/user/Desktop/Taekwondo/test/A01/T38_A01_S01.mp4')\n",
    "\n",
    "Trainer= 1\n",
    "Action = 1\n",
    "Set = 0\n",
    "\n",
    "for Action in range(1,9):\n",
    "    video_path = \"C:/Users/user/Desktop/Taekwondo/DataSet/A01\"\n",
    "    \n",
    "    # 비디오 생성 경로 변경 코드 필요\n",
    "    \n",
    "    \n",
    "# 이미지 추출\n",
    "while(vidcap.isOpened()):\n",
    "    ret, image = vidcap.read()\n",
    "    if(int(vidcap.get(1)) % 12 == 0):             # 여기가 프레임 수정하는 코드\n",
    "        print('Saved frame number : ' + str(int(vidcap.get(1))))\n",
    "        cv2.imwrite('video_path + T%d_A%d_S%d.jpg', % Trainer, % Action,% Set, image)\n",
    "        # 바뀌는 비디오 경로 + 바뀌는 파일명\n",
    "        print('Saved frame%d.jpg' % count)\n",
    "        Set += 1    # 여기서 파일명을 바꿔준다."
   ]
  },
  {
   "cell_type": "code",
   "execution_count": 2,
   "id": "38c9feb7",
   "metadata": {},
   "outputs": [
    {
     "name": "stdout",
     "output_type": "stream",
     "text": [
      "Saved frame number : 12\n",
      "Saved T1_A1_S0.jpg\n",
      "Saved frame number : 24\n",
      "Saved T1_A1_S1.jpg\n",
      "Saved frame number : 24\n"
     ]
    },
    {
     "ename": "error",
     "evalue": "OpenCV(4.5.5) D:\\a\\opencv-python\\opencv-python\\opencv\\modules\\imgcodecs\\src\\loadsave.cpp:801: error: (-215:Assertion failed) !_img.empty() in function 'cv::imwrite'\n",
     "output_type": "error",
     "traceback": [
      "\u001b[1;31m---------------------------------------------------------------------------\u001b[0m",
      "\u001b[1;31merror\u001b[0m                                     Traceback (most recent call last)",
      "Input \u001b[1;32mIn [2]\u001b[0m, in \u001b[0;36m<cell line: 15>\u001b[1;34m()\u001b[0m\n\u001b[0;32m     18\u001b[0m \u001b[38;5;28mprint\u001b[39m(\u001b[38;5;124m'\u001b[39m\u001b[38;5;124mSaved frame number : \u001b[39m\u001b[38;5;124m'\u001b[39m \u001b[38;5;241m+\u001b[39m \u001b[38;5;28mstr\u001b[39m(\u001b[38;5;28mint\u001b[39m(vidcap\u001b[38;5;241m.\u001b[39mget(\u001b[38;5;241m1\u001b[39m))))\n\u001b[0;32m     19\u001b[0m \u001b[38;5;66;03m#cv2.imwrite('img_path + T%d_A%d_S%d.jpg' %(Trainer, Action, Set), image)\u001b[39;00m\n\u001b[1;32m---> 20\u001b[0m \u001b[43mcv2\u001b[49m\u001b[38;5;241;43m.\u001b[39;49m\u001b[43mimwrite\u001b[49m\u001b[43m(\u001b[49m\u001b[38;5;124;43m'\u001b[39;49m\u001b[38;5;124;43mC:/Users/user/Desktop/Taekwondo/DataSet/A01/T\u001b[39;49m\u001b[38;5;132;43;01m%d\u001b[39;49;00m\u001b[38;5;124;43m_A\u001b[39;49m\u001b[38;5;132;43;01m%d\u001b[39;49;00m\u001b[38;5;124;43m_S\u001b[39;49m\u001b[38;5;132;43;01m%d\u001b[39;49;00m\u001b[38;5;124;43m.jpg\u001b[39;49m\u001b[38;5;124;43m'\u001b[39;49m\u001b[43m \u001b[49m\u001b[38;5;241;43m%\u001b[39;49m\u001b[43m(\u001b[49m\u001b[43mTrainer\u001b[49m\u001b[43m,\u001b[49m\u001b[43m \u001b[49m\u001b[43mAction\u001b[49m\u001b[43m,\u001b[49m\u001b[43m \u001b[49m\u001b[43mSet\u001b[49m\u001b[43m)\u001b[49m\u001b[43m,\u001b[49m\u001b[43m \u001b[49m\u001b[43mimage\u001b[49m\u001b[43m)\u001b[49m\n\u001b[0;32m     21\u001b[0m \u001b[38;5;66;03m# 바뀌는 비디오 경로 + 바뀌는 파일명\u001b[39;00m\n\u001b[0;32m     22\u001b[0m \u001b[38;5;28mprint\u001b[39m(\u001b[38;5;124m'\u001b[39m\u001b[38;5;124mSaved T\u001b[39m\u001b[38;5;132;01m%d\u001b[39;00m\u001b[38;5;124m_A\u001b[39m\u001b[38;5;132;01m%d\u001b[39;00m\u001b[38;5;124m_S\u001b[39m\u001b[38;5;132;01m%d\u001b[39;00m\u001b[38;5;124m.jpg\u001b[39m\u001b[38;5;124m'\u001b[39m \u001b[38;5;241m%\u001b[39m(Trainer, Action, Set))\n",
      "\u001b[1;31merror\u001b[0m: OpenCV(4.5.5) D:\\a\\opencv-python\\opencv-python\\opencv\\modules\\imgcodecs\\src\\loadsave.cpp:801: error: (-215:Assertion failed) !_img.empty() in function 'cv::imwrite'\n"
     ]
    }
   ],
   "source": [
    "# 12프레임단위로 추출하는 코드(성공)\n",
    "import cv2\n",
    "vidcap = cv2.VideoCapture('C:/Users/user/Desktop/Taekwondo/test/A01/T38_A01_S01.mp4')\n",
    "# cv2.VideoCapture 공부해서 여러 파일 자동으로 읽어들일 수 있는지 확인\n",
    "\n",
    "Trainer= 1\n",
    "Action = 1\n",
    "Set = 0\n",
    "# 생성되는 이미지 파일경로, \n",
    "# for문으로 폴더내에 모든 영상추출하면 \n",
    "# 폴더생성 -> path 수정해서 추출\n",
    "img_path = \"C:/Users/user/Desktop/Taekwondo/DataSet/A01/\"\n",
    "    \n",
    "# 이미지 추출\n",
    "while(vidcap.isOpened()):\n",
    "    ret, image = vidcap.read()\n",
    "    if(int(vidcap.get(1)) % 12 == 0):             # 여기가 프레임 수정하는 코드\n",
    "        print('Saved frame number : ' + str(int(vidcap.get(1))))\n",
    "        #cv2.imwrite('img_path + T%d_A%d_S%d.jpg' %(Trainer, Action, Set), image)\n",
    "        cv2.imwrite('C:/Users/user/Desktop/Taekwondo/DataSet/A01/T%d_A%d_S%d.jpg' %(Trainer, Action, Set), image)\n",
    "        # 바뀌는 비디오 경로 + 바뀌는 파일명\n",
    "        print('Saved T%d_A%d_S%d.jpg' %(Trainer, Action, Set))\n",
    "        Set += 1    # 여기서 파일명을 바꿔준다."
   ]
  },
  {
   "cell_type": "code",
   "execution_count": 13,
   "id": "3f91c7b6",
   "metadata": {},
   "outputs": [
    {
     "name": "stdout",
     "output_type": "stream",
     "text": [
      "Saved frame number : 12\n",
      "Saved T1_A1_S0.jpg\n",
      "Saved frame number : 24\n",
      "Saved T1_A1_S1.jpg\n",
      "Saved frame number : 24\n"
     ]
    },
    {
     "ename": "error",
     "evalue": "OpenCV(4.5.5) D:\\a\\opencv-python\\opencv-python\\opencv\\modules\\imgcodecs\\src\\loadsave.cpp:801: error: (-215:Assertion failed) !_img.empty() in function 'cv::imwrite'\n",
     "output_type": "error",
     "traceback": [
      "\u001b[1;31m---------------------------------------------------------------------------\u001b[0m",
      "\u001b[1;31merror\u001b[0m                                     Traceback (most recent call last)",
      "Input \u001b[1;32mIn [13]\u001b[0m, in \u001b[0;36m<cell line: 15>\u001b[1;34m()\u001b[0m\n\u001b[0;32m     18\u001b[0m \u001b[38;5;28mprint\u001b[39m(\u001b[38;5;124m'\u001b[39m\u001b[38;5;124mSaved frame number : \u001b[39m\u001b[38;5;124m'\u001b[39m \u001b[38;5;241m+\u001b[39m \u001b[38;5;28mstr\u001b[39m(\u001b[38;5;28mint\u001b[39m(vidcap\u001b[38;5;241m.\u001b[39mget(\u001b[38;5;241m1\u001b[39m))))\n\u001b[0;32m     19\u001b[0m \u001b[38;5;66;03m# cv2.imwrite('img_path + T%d_A%d_S%d.jpg' %(Trainer, Action, Set), image)\u001b[39;00m\n\u001b[1;32m---> 20\u001b[0m \u001b[43mcv2\u001b[49m\u001b[38;5;241;43m.\u001b[39;49m\u001b[43mimwrite\u001b[49m\u001b[43m(\u001b[49m\u001b[38;5;124;43m'\u001b[39;49m\u001b[38;5;124;43mC:/Users/user/Desktop/Taekwondo/DataSet/A01/T\u001b[39;49m\u001b[38;5;132;43;01m%d\u001b[39;49;00m\u001b[38;5;124;43m_A\u001b[39;49m\u001b[38;5;132;43;01m%d\u001b[39;49;00m\u001b[38;5;124;43m_S\u001b[39;49m\u001b[38;5;132;43;01m%d\u001b[39;49;00m\u001b[38;5;124;43m.jpg\u001b[39;49m\u001b[38;5;124;43m'\u001b[39;49m\u001b[43m \u001b[49m\u001b[38;5;241;43m%\u001b[39;49m\u001b[43m(\u001b[49m\u001b[43mTrainer\u001b[49m\u001b[43m,\u001b[49m\u001b[43m \u001b[49m\u001b[43mAction\u001b[49m\u001b[43m,\u001b[49m\u001b[43m \u001b[49m\u001b[43mSet\u001b[49m\u001b[43m)\u001b[49m\u001b[43m,\u001b[49m\u001b[43m \u001b[49m\u001b[43mimage\u001b[49m\u001b[43m)\u001b[49m\n\u001b[0;32m     21\u001b[0m \u001b[38;5;66;03m# 바뀌는 비디오 경로 + 바뀌는 파일명\u001b[39;00m\n\u001b[0;32m     22\u001b[0m \u001b[38;5;28mprint\u001b[39m(\u001b[38;5;124m'\u001b[39m\u001b[38;5;124mSaved T\u001b[39m\u001b[38;5;132;01m%d\u001b[39;00m\u001b[38;5;124m_A\u001b[39m\u001b[38;5;132;01m%d\u001b[39;00m\u001b[38;5;124m_S\u001b[39m\u001b[38;5;132;01m%d\u001b[39;00m\u001b[38;5;124m.jpg\u001b[39m\u001b[38;5;124m'\u001b[39m \u001b[38;5;241m%\u001b[39m(Trainer, Action, Set))\n",
      "\u001b[1;31merror\u001b[0m: OpenCV(4.5.5) D:\\a\\opencv-python\\opencv-python\\opencv\\modules\\imgcodecs\\src\\loadsave.cpp:801: error: (-215:Assertion failed) !_img.empty() in function 'cv::imwrite'\n"
     ]
    }
   ],
   "source": [
    "# 12프레임단위로 추출하는 코드(성공+복사본)\n",
    "import cv2\n",
    "vidcap = cv2.VideoCapture('C:/Users/user/Desktop/Taekwondo/test/A01/T38_A01_S01.mp4')\n",
    "# cv2.VideoCapture 공부해서 여러 파일 자동으로 읽어들일 수 있는지 확인\n",
    "\n",
    "Trainer= 1\n",
    "Action = 1\n",
    "Set = 0\n",
    "# 생성되는 이미지 파일경로, \n",
    "# for문으로 폴더내에 모든 영상추출하면 \n",
    "# 폴더생성 -> path 수정해서 추출\n",
    "img_path = \"C:/Users/user/Desktop/Taekwondo/DataSet/A01\"\n",
    "    \n",
    "# 이미지 추출\n",
    "while(vidcap.isOpened()):\n",
    "    ret, image = vidcap.read()\n",
    "    if(int(vidcap.get(1)) % 12 == 0):             # 여기가 프레임 수정하는 코드\n",
    "        print('Saved frame number : ' + str(int(vidcap.get(1))))\n",
    "        # cv2.imwrite('img_path + T%d_A%d_S%d.jpg' %(Trainer, Action, Set), image)\n",
    "        cv2.imwrite('C:/Users/user/Desktop/Taekwondo/DataSet/A01/T%d_A%d_S%d.jpg' %(Trainer, Action, Set), image)\n",
    "        # 바뀌는 비디오 경로 + 바뀌는 파일명\n",
    "        print('Saved T%d_A%d_S%d.jpg' %(Trainer, Action, Set))\n",
    "        Set += 1    # 여기서 파일명을 바꿔준다."
   ]
  },
  {
   "cell_type": "code",
   "execution_count": 4,
   "id": "c19832ea",
   "metadata": {},
   "outputs": [
    {
     "ename": "SyntaxError",
     "evalue": "invalid syntax (3267929076.py, line 16)",
     "output_type": "error",
     "traceback": [
      "\u001b[1;36m  Input \u001b[1;32mIn [4]\u001b[1;36m\u001b[0m\n\u001b[1;33m    count++\u001b[0m\n\u001b[1;37m           ^\u001b[0m\n\u001b[1;31mSyntaxError\u001b[0m\u001b[1;31m:\u001b[0m invalid syntax\n"
     ]
    }
   ],
   "source": [
    "# 12프레임단위로 추출하는 코드(수정중)\n",
    "import cv2\n",
    "vidcap = cv2.VideoCapture('C:/Users/user/Desktop/Taekwondo/test/A01/T38_A01_S01.mp4')\n",
    "# cv2.VideoCapture 공부해서 여러 파일 자동으로 읽어들일 수 있는지 확인\n",
    "\n",
    "Trainer= 1\n",
    "Action = 1\n",
    "Set = 0\n",
    "# 생성되는 이미지 파일경로, \n",
    "# for문으로 폴더내에 모든 영상추출하면 \n",
    "# 폴더생성 -> path 수정해서 추출\n",
    "for Action in range(1,9):\n",
    "    count=0\n",
    "    img_path = \"C:/Users/user/Desktop/Taekwondo/DataSet/\" + \"folder_name + str(num).zfill(2)\"\n",
    "    img = \"/T%d_A%d_S%d_count\"\n",
    "    count++\n",
    "    \n",
    "# 이미지 추출\n",
    "while(vidcap.isOpened()):\n",
    "    ret, image = vidcap.read()\n",
    "    if(int(vidcap.get(1)) % 12 == 0):             # 여기가 프레임 수정하는 코드\n",
    "        print('Saved frame number : ' + str(int(vidcap.get(1))))\n",
    "        # cv2.imwrite('img_path + T%d_A%d_S%d.jpg' %(Trainer, Action, Set), image)\n",
    "        cv2.imwrite('C:/Users/user/Desktop/Taekwondo/DataSet/A01/T%d_A%d_S%d.jpg' %(Trainer, Action, Set), image)\n",
    "        # 바뀌는 비디오 경로 + 바뀌는 파일명\n",
    "        print('Saved T%d_A%d_S%d.jpg' %(Trainer, Action, Set))\n",
    "        Set += 1    # 여기서 파일명을 바꿔준다."
   ]
  },
  {
   "cell_type": "code",
   "execution_count": 4,
   "id": "687abc7f",
   "metadata": {},
   "outputs": [
    {
     "data": {
      "application/vnd.jupyter.widget-view+json": {
       "model_id": "306b22451988487a93d65b44d263d024",
       "version_major": 2,
       "version_minor": 0
      },
      "text/plain": [
       "iterate range 100:   0%|          | 0/100 [00:00<?, ?it/s]"
      ]
     },
     "metadata": {},
     "output_type": "display_data"
    }
   ],
   "source": [
    "from tqdm import notebook\n",
    "import time \n",
    "\n",
    "for i in notebook.tqdm(range(100), desc='iterate range 100'):\n",
    "    time.sleep(0.01)"
   ]
  },
  {
   "cell_type": "code",
   "execution_count": 20,
   "id": "18e6fd19",
   "metadata": {},
   "outputs": [
    {
     "name": "stdout",
     "output_type": "stream",
     "text": [
      "텐서의 크기 : torch.Size([1, 1, 28, 28])\n"
     ]
    }
   ],
   "source": [
    "# size 연구 \n",
    "import torch\n",
    "import torch.nn as nn\n",
    "\n",
    "# 배치 크기 × 채널 × 높이(height) × 너비(widht)의 크기의 텐서를 선언\n",
    "inputs = torch.Tensor(1, 1, 28, 28)\n",
    "print('텐서의 크기 : {}'.format(inputs.shape))"
   ]
  },
  {
   "cell_type": "code",
   "execution_count": 17,
   "id": "29af9f2c",
   "metadata": {},
   "outputs": [
    {
     "name": "stdout",
     "output_type": "stream",
     "text": [
      "Conv2d(1, 32, kernel_size=(3, 3), stride=(1, 1), padding=(1, 1))\n"
     ]
    }
   ],
   "source": [
    "# 합성곱층과 풀링 선언하기\n",
    "conv1 = nn.Conv2d(1, 32, 3, padding=1)\n",
    "print(conv1)"
   ]
  },
  {
   "cell_type": "code",
   "execution_count": 18,
   "id": "3bef52d6",
   "metadata": {},
   "outputs": [
    {
     "name": "stdout",
     "output_type": "stream",
     "text": [
      "MaxPool2d(kernel_size=2, stride=2, padding=0, dilation=1, ceil_mode=False)\n"
     ]
    }
   ],
   "source": [
    "pool = nn.MaxPool2d(2)\n",
    "print(pool)"
   ]
  },
  {
   "cell_type": "code",
   "execution_count": 21,
   "id": "e515cb05",
   "metadata": {},
   "outputs": [
    {
     "name": "stdout",
     "output_type": "stream",
     "text": [
      "torch.Size([1, 32, 28, 28])\n"
     ]
    }
   ],
   "source": [
    "out = conv1(inputs)\n",
    "print(out.shape)\n",
    "\n",
    "# inputs = torch.Tensor(1, 1, 32, 32) 은 오류가 없다.\n",
    "# inputs = torch.Tensor(1, 3, 32, 32) 이면 오류 뜬다.\n",
    "# RuntimeError: Given groups=1, weight of size [32, 1, 3, 3], expected input[1, 3, 32, 32] to have 1 channels, \n",
    "# but got 3 channels instead"
   ]
  },
  {
   "cell_type": "code",
   "execution_count": null,
   "id": "c971d749",
   "metadata": {},
   "outputs": [],
   "source": []
  }
 ],
 "metadata": {
  "kernelspec": {
   "display_name": "project",
   "language": "python",
   "name": "project"
  },
  "language_info": {
   "codemirror_mode": {
    "name": "ipython",
    "version": 3
   },
   "file_extension": ".py",
   "mimetype": "text/x-python",
   "name": "python",
   "nbconvert_exporter": "python",
   "pygments_lexer": "ipython3",
   "version": "3.9.7"
  }
 },
 "nbformat": 4,
 "nbformat_minor": 5
}
