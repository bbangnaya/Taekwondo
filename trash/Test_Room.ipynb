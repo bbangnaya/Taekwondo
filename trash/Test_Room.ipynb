{
 "cells": [
  {
   "cell_type": "code",
   "execution_count": 5,
   "id": "8948292e",
   "metadata": {},
   "outputs": [
    {
     "name": "stdout",
     "output_type": "stream",
     "text": [
      "10\n"
     ]
    }
   ],
   "source": [
    "Action_Num = [1,4,5,6,7,8,10,14]\n",
    "print(str(Action_Num[6]).zfill(2))"
   ]
  },
  {
   "cell_type": "code",
   "execution_count": 6,
   "id": "39538e27",
   "metadata": {},
   "outputs": [],
   "source": [
    "import os \n",
    "os.makedirs(\"a/b/c/d\")\n",
    "# a안에 b안에 c안에 d 폴더 생성\n",
    "# 하지만, a/b/c/d가 모두 이미 존재하는 폴더라면 오류 발생.\n"
   ]
  },
  {
   "cell_type": "code",
   "execution_count": null,
   "id": "a6c1fa78",
   "metadata": {},
   "outputs": [],
   "source": [
    "# 폴더생성 기본 코드\n",
    "import os \n",
    "os.mkdir(\"C:/Users/user/Desktop/Taekwondo/DataSet/GoodFolder1\") "
   ]
  },
  {
   "cell_type": "code",
   "execution_count": 5,
   "id": "28d763a6",
   "metadata": {},
   "outputs": [
    {
     "name": "stdout",
     "output_type": "stream",
     "text": [
      "현재 위치 : ./\n"
     ]
    }
   ],
   "source": [
    "# 현재 위치 알아내는 코드\n",
    "import os \n",
    "current_path = os.getcwd() \n",
    "print(\"현재 위치 : \" + current_path)\n",
    "\n",
    "# 출처: https://blockdmask.tistory.com/554 [개발자 지망생]"
   ]
  },
  {
   "cell_type": "code",
   "execution_count": null,
   "id": "ed3dafe1",
   "metadata": {},
   "outputs": [],
   "source": [
    "# 12프레임단위로 추출하는 코드\n",
    "import cv2\n",
    "for()\n",
    "vidcap = cv2.VideoCapture('C:/Users/user/Desktop/Taekwondo/test/A01')\n",
    "file_name = 'T38_A01_S01.mp4'\n",
    "count = 0\n",
    "\n",
    "while(vidcap.isOpened()):\n",
    "    ret, image = vidcap.read()\n",
    "    if(int(vidcap.get(1)) % 20 == 0):             # 여기가 프레임 수정하는 코드\n",
    "        print('Saved frame number : ' + str(int(vidcap.get(1))))\n",
    "        cv2.imwrite(\"../data/Taekwondo/train/frame%d.png\" % count, image)\n",
    "        print('Saved frame%d.jpg' % count)\n",
    "        count += 1\n",
    "        "
   ]
  },
  {
   "cell_type": "code",
   "execution_count": null,
   "id": "b0d27c0a",
   "metadata": {},
   "outputs": [],
   "source": [
    "for Set in range(2, 10):\n",
    "        os.mkdir(my_path + file_name + str(Set))\n",
    "    file_name = 'T38_A01_S01.mp4'\n",
    "    print('T%d_A%d_S%d.jpg',%Trainer, %Action,%Set)"
   ]
  },
  {
   "cell_type": "code",
   "execution_count": null,
   "id": "d018d515",
   "metadata": {},
   "outputs": [],
   "source": [
    "# 12프레임단위로 추출하는 코드\n",
    "import cv2\n",
    "vidcap = cv2.VideoCapture('C:/Users/user/Desktop/Taekwondo/test/A01/T38_A01_S01.mp4')\n",
    "\n",
    "Trainer= 1\n",
    "Action = 1\n",
    "Set = 0\n",
    "\n",
    "for Action in range(1,9):\n",
    "    video_path = \"C:/Users/user/Desktop/Taekwondo/DataSet/A01\"\n",
    "    \n",
    "    # 비디오 생성 경로 변경 코드 필요\n",
    "    \n",
    "    \n",
    "# 이미지 추출\n",
    "while(vidcap.isOpened()):\n",
    "    ret, image = vidcap.read()\n",
    "    if(int(vidcap.get(1)) % 12 == 0):             # 여기가 프레임 수정하는 코드\n",
    "        print('Saved frame number : ' + str(int(vidcap.get(1))))\n",
    "        cv2.imwrite('video_path + T%d_A%d_S%d.jpg', % Trainer, % Action,% Set, image)\n",
    "        # 바뀌는 비디오 경로 + 바뀌는 파일명\n",
    "        print('Saved frame%d.jpg' % count)\n",
    "        Set += 1    # 여기서 파일명을 바꿔준다."
   ]
  },
  {
   "cell_type": "code",
   "execution_count": 2,
   "id": "38c9feb7",
   "metadata": {},
   "outputs": [
    {
     "name": "stdout",
     "output_type": "stream",
     "text": [
      "Saved frame number : 12\n",
      "Saved T1_A1_S0.jpg\n",
      "Saved frame number : 24\n",
      "Saved T1_A1_S1.jpg\n",
      "Saved frame number : 24\n"
     ]
    },
    {
     "ename": "error",
     "evalue": "OpenCV(4.5.5) D:\\a\\opencv-python\\opencv-python\\opencv\\modules\\imgcodecs\\src\\loadsave.cpp:801: error: (-215:Assertion failed) !_img.empty() in function 'cv::imwrite'\n",
     "output_type": "error",
     "traceback": [
      "\u001b[1;31m---------------------------------------------------------------------------\u001b[0m",
      "\u001b[1;31merror\u001b[0m                                     Traceback (most recent call last)",
      "Input \u001b[1;32mIn [2]\u001b[0m, in \u001b[0;36m<cell line: 15>\u001b[1;34m()\u001b[0m\n\u001b[0;32m     18\u001b[0m \u001b[38;5;28mprint\u001b[39m(\u001b[38;5;124m'\u001b[39m\u001b[38;5;124mSaved frame number : \u001b[39m\u001b[38;5;124m'\u001b[39m \u001b[38;5;241m+\u001b[39m \u001b[38;5;28mstr\u001b[39m(\u001b[38;5;28mint\u001b[39m(vidcap\u001b[38;5;241m.\u001b[39mget(\u001b[38;5;241m1\u001b[39m))))\n\u001b[0;32m     19\u001b[0m \u001b[38;5;66;03m#cv2.imwrite('img_path + T%d_A%d_S%d.jpg' %(Trainer, Action, Set), image)\u001b[39;00m\n\u001b[1;32m---> 20\u001b[0m \u001b[43mcv2\u001b[49m\u001b[38;5;241;43m.\u001b[39;49m\u001b[43mimwrite\u001b[49m\u001b[43m(\u001b[49m\u001b[38;5;124;43m'\u001b[39;49m\u001b[38;5;124;43mC:/Users/user/Desktop/Taekwondo/DataSet/A01/T\u001b[39;49m\u001b[38;5;132;43;01m%d\u001b[39;49;00m\u001b[38;5;124;43m_A\u001b[39;49m\u001b[38;5;132;43;01m%d\u001b[39;49;00m\u001b[38;5;124;43m_S\u001b[39;49m\u001b[38;5;132;43;01m%d\u001b[39;49;00m\u001b[38;5;124;43m.jpg\u001b[39;49m\u001b[38;5;124;43m'\u001b[39;49m\u001b[43m \u001b[49m\u001b[38;5;241;43m%\u001b[39;49m\u001b[43m(\u001b[49m\u001b[43mTrainer\u001b[49m\u001b[43m,\u001b[49m\u001b[43m \u001b[49m\u001b[43mAction\u001b[49m\u001b[43m,\u001b[49m\u001b[43m \u001b[49m\u001b[43mSet\u001b[49m\u001b[43m)\u001b[49m\u001b[43m,\u001b[49m\u001b[43m \u001b[49m\u001b[43mimage\u001b[49m\u001b[43m)\u001b[49m\n\u001b[0;32m     21\u001b[0m \u001b[38;5;66;03m# 바뀌는 비디오 경로 + 바뀌는 파일명\u001b[39;00m\n\u001b[0;32m     22\u001b[0m \u001b[38;5;28mprint\u001b[39m(\u001b[38;5;124m'\u001b[39m\u001b[38;5;124mSaved T\u001b[39m\u001b[38;5;132;01m%d\u001b[39;00m\u001b[38;5;124m_A\u001b[39m\u001b[38;5;132;01m%d\u001b[39;00m\u001b[38;5;124m_S\u001b[39m\u001b[38;5;132;01m%d\u001b[39;00m\u001b[38;5;124m.jpg\u001b[39m\u001b[38;5;124m'\u001b[39m \u001b[38;5;241m%\u001b[39m(Trainer, Action, Set))\n",
      "\u001b[1;31merror\u001b[0m: OpenCV(4.5.5) D:\\a\\opencv-python\\opencv-python\\opencv\\modules\\imgcodecs\\src\\loadsave.cpp:801: error: (-215:Assertion failed) !_img.empty() in function 'cv::imwrite'\n"
     ]
    }
   ],
   "source": [
    "# 12프레임단위로 추출하는 코드(성공)\n",
    "import cv2\n",
    "vidcap = cv2.VideoCapture('C:/Users/user/Desktop/Taekwondo/test/A01/T38_A01_S01.mp4')\n",
    "# cv2.VideoCapture 공부해서 여러 파일 자동으로 읽어들일 수 있는지 확인\n",
    "\n",
    "Trainer= 1\n",
    "Action = 1\n",
    "Set = 0\n",
    "# 생성되는 이미지 파일경로, \n",
    "# for문으로 폴더내에 모든 영상추출하면 \n",
    "# 폴더생성 -> path 수정해서 추출\n",
    "img_path = \"C:/Users/user/Desktop/Taekwondo/DataSet/A01/\"\n",
    "    \n",
    "# 이미지 추출\n",
    "while(vidcap.isOpened()):\n",
    "    ret, image = vidcap.read()\n",
    "    if(int(vidcap.get(1)) % 12 == 0):             # 여기가 프레임 수정하는 코드\n",
    "        print('Saved frame number : ' + str(int(vidcap.get(1))))\n",
    "        #cv2.imwrite('img_path + T%d_A%d_S%d.jpg' %(Trainer, Action, Set), image)\n",
    "        cv2.imwrite('C:/Users/user/Desktop/Taekwondo/DataSet/A01/T%d_A%d_S%d.jpg' %(Trainer, Action, Set), image)\n",
    "        # 바뀌는 비디오 경로 + 바뀌는 파일명\n",
    "        print('Saved T%d_A%d_S%d.jpg' %(Trainer, Action, Set))\n",
    "        Set += 1    # 여기서 파일명을 바꿔준다."
   ]
  },
  {
   "cell_type": "code",
   "execution_count": 13,
   "id": "3f91c7b6",
   "metadata": {},
   "outputs": [
    {
     "name": "stdout",
     "output_type": "stream",
     "text": [
      "Saved frame number : 12\n",
      "Saved T1_A1_S0.jpg\n",
      "Saved frame number : 24\n",
      "Saved T1_A1_S1.jpg\n",
      "Saved frame number : 24\n"
     ]
    },
    {
     "ename": "error",
     "evalue": "OpenCV(4.5.5) D:\\a\\opencv-python\\opencv-python\\opencv\\modules\\imgcodecs\\src\\loadsave.cpp:801: error: (-215:Assertion failed) !_img.empty() in function 'cv::imwrite'\n",
     "output_type": "error",
     "traceback": [
      "\u001b[1;31m---------------------------------------------------------------------------\u001b[0m",
      "\u001b[1;31merror\u001b[0m                                     Traceback (most recent call last)",
      "Input \u001b[1;32mIn [13]\u001b[0m, in \u001b[0;36m<cell line: 15>\u001b[1;34m()\u001b[0m\n\u001b[0;32m     18\u001b[0m \u001b[38;5;28mprint\u001b[39m(\u001b[38;5;124m'\u001b[39m\u001b[38;5;124mSaved frame number : \u001b[39m\u001b[38;5;124m'\u001b[39m \u001b[38;5;241m+\u001b[39m \u001b[38;5;28mstr\u001b[39m(\u001b[38;5;28mint\u001b[39m(vidcap\u001b[38;5;241m.\u001b[39mget(\u001b[38;5;241m1\u001b[39m))))\n\u001b[0;32m     19\u001b[0m \u001b[38;5;66;03m# cv2.imwrite('img_path + T%d_A%d_S%d.jpg' %(Trainer, Action, Set), image)\u001b[39;00m\n\u001b[1;32m---> 20\u001b[0m \u001b[43mcv2\u001b[49m\u001b[38;5;241;43m.\u001b[39;49m\u001b[43mimwrite\u001b[49m\u001b[43m(\u001b[49m\u001b[38;5;124;43m'\u001b[39;49m\u001b[38;5;124;43mC:/Users/user/Desktop/Taekwondo/DataSet/A01/T\u001b[39;49m\u001b[38;5;132;43;01m%d\u001b[39;49;00m\u001b[38;5;124;43m_A\u001b[39;49m\u001b[38;5;132;43;01m%d\u001b[39;49;00m\u001b[38;5;124;43m_S\u001b[39;49m\u001b[38;5;132;43;01m%d\u001b[39;49;00m\u001b[38;5;124;43m.jpg\u001b[39;49m\u001b[38;5;124;43m'\u001b[39;49m\u001b[43m \u001b[49m\u001b[38;5;241;43m%\u001b[39;49m\u001b[43m(\u001b[49m\u001b[43mTrainer\u001b[49m\u001b[43m,\u001b[49m\u001b[43m \u001b[49m\u001b[43mAction\u001b[49m\u001b[43m,\u001b[49m\u001b[43m \u001b[49m\u001b[43mSet\u001b[49m\u001b[43m)\u001b[49m\u001b[43m,\u001b[49m\u001b[43m \u001b[49m\u001b[43mimage\u001b[49m\u001b[43m)\u001b[49m\n\u001b[0;32m     21\u001b[0m \u001b[38;5;66;03m# 바뀌는 비디오 경로 + 바뀌는 파일명\u001b[39;00m\n\u001b[0;32m     22\u001b[0m \u001b[38;5;28mprint\u001b[39m(\u001b[38;5;124m'\u001b[39m\u001b[38;5;124mSaved T\u001b[39m\u001b[38;5;132;01m%d\u001b[39;00m\u001b[38;5;124m_A\u001b[39m\u001b[38;5;132;01m%d\u001b[39;00m\u001b[38;5;124m_S\u001b[39m\u001b[38;5;132;01m%d\u001b[39;00m\u001b[38;5;124m.jpg\u001b[39m\u001b[38;5;124m'\u001b[39m \u001b[38;5;241m%\u001b[39m(Trainer, Action, Set))\n",
      "\u001b[1;31merror\u001b[0m: OpenCV(4.5.5) D:\\a\\opencv-python\\opencv-python\\opencv\\modules\\imgcodecs\\src\\loadsave.cpp:801: error: (-215:Assertion failed) !_img.empty() in function 'cv::imwrite'\n"
     ]
    }
   ],
   "source": [
    "# 12프레임단위로 추출하는 코드(성공+복사본)\n",
    "import cv2\n",
    "vidcap = cv2.VideoCapture('C:/Users/user/Desktop/Taekwondo/test/A01/T38_A01_S01.mp4')\n",
    "# cv2.VideoCapture 공부해서 여러 파일 자동으로 읽어들일 수 있는지 확인\n",
    "\n",
    "Trainer= 1\n",
    "Action = 1\n",
    "Set = 0\n",
    "# 생성되는 이미지 파일경로, \n",
    "# for문으로 폴더내에 모든 영상추출하면 \n",
    "# 폴더생성 -> path 수정해서 추출\n",
    "img_path = \"C:/Users/user/Desktop/Taekwondo/DataSet/A01\"\n",
    "    \n",
    "# 이미지 추출\n",
    "while(vidcap.isOpened()):\n",
    "    ret, image = vidcap.read()\n",
    "    if(int(vidcap.get(1)) % 12 == 0):             # 여기가 프레임 수정하는 코드\n",
    "        print('Saved frame number : ' + str(int(vidcap.get(1))))\n",
    "        # cv2.imwrite('img_path + T%d_A%d_S%d.jpg' %(Trainer, Action, Set), image)\n",
    "        cv2.imwrite('C:/Users/user/Desktop/Taekwondo/DataSet/A01/T%d_A%d_S%d.jpg' %(Trainer, Action, Set), image)\n",
    "        # 바뀌는 비디오 경로 + 바뀌는 파일명\n",
    "        print('Saved T%d_A%d_S%d.jpg' %(Trainer, Action, Set))\n",
    "        Set += 1    # 여기서 파일명을 바꿔준다."
   ]
  },
  {
   "cell_type": "code",
   "execution_count": 4,
   "id": "c19832ea",
   "metadata": {},
   "outputs": [
    {
     "ename": "SyntaxError",
     "evalue": "invalid syntax (3267929076.py, line 16)",
     "output_type": "error",
     "traceback": [
      "\u001b[1;36m  Input \u001b[1;32mIn [4]\u001b[1;36m\u001b[0m\n\u001b[1;33m    count++\u001b[0m\n\u001b[1;37m           ^\u001b[0m\n\u001b[1;31mSyntaxError\u001b[0m\u001b[1;31m:\u001b[0m invalid syntax\n"
     ]
    }
   ],
   "source": [
    "# 12프레임단위로 추출하는 코드(수정중)\n",
    "import cv2\n",
    "vidcap = cv2.VideoCapture('C:/Users/user/Desktop/Taekwondo/test/A01/T38_A01_S01.mp4')\n",
    "# cv2.VideoCapture 공부해서 여러 파일 자동으로 읽어들일 수 있는지 확인\n",
    "\n",
    "Trainer= 1\n",
    "Action = 1\n",
    "Set = 0\n",
    "# 생성되는 이미지 파일경로, \n",
    "# for문으로 폴더내에 모든 영상추출하면 \n",
    "# 폴더생성 -> path 수정해서 추출\n",
    "for Action in range(1,9):\n",
    "    count=0\n",
    "    img_path = \"C:/Users/user/Desktop/Taekwondo/DataSet/\" + \"folder_name + str(num).zfill(2)\"\n",
    "    img = \"/T%d_A%d_S%d_count\"\n",
    "    count++\n",
    "    \n",
    "# 이미지 추출\n",
    "while(vidcap.isOpened()):\n",
    "    ret, image = vidcap.read()\n",
    "    if(int(vidcap.get(1)) % 12 == 0):             # 여기가 프레임 수정하는 코드\n",
    "        print('Saved frame number : ' + str(int(vidcap.get(1))))\n",
    "        # cv2.imwrite('img_path + T%d_A%d_S%d.jpg' %(Trainer, Action, Set), image)\n",
    "        cv2.imwrite('C:/Users/user/Desktop/Taekwondo/DataSet/A01/T%d_A%d_S%d.jpg' %(Trainer, Action, Set), image)\n",
    "        # 바뀌는 비디오 경로 + 바뀌는 파일명\n",
    "        print('Saved T%d_A%d_S%d.jpg' %(Trainer, Action, Set))\n",
    "        Set += 1    # 여기서 파일명을 바꿔준다."
   ]
  },
  {
   "cell_type": "code",
   "execution_count": 4,
   "id": "687abc7f",
   "metadata": {},
   "outputs": [
    {
     "data": {
      "application/vnd.jupyter.widget-view+json": {
       "model_id": "306b22451988487a93d65b44d263d024",
       "version_major": 2,
       "version_minor": 0
      },
      "text/plain": [
       "iterate range 100:   0%|          | 0/100 [00:00<?, ?it/s]"
      ]
     },
     "metadata": {},
     "output_type": "display_data"
    }
   ],
   "source": [
    "from tqdm import notebook\n",
    "import time \n",
    "\n",
    "for i in notebook.tqdm(range(100), desc='iterate range 100'):\n",
    "    time.sleep(0.01)"
   ]
  },
  {
   "cell_type": "code",
   "execution_count": 2,
   "id": "f4aa7386",
   "metadata": {
    "scrolled": false
   },
   "outputs": [
    {
     "name": "stdout",
     "output_type": "stream",
     "text": [
      "Iterating: 0 folder\n"
     ]
    },
    {
     "name": "stderr",
     "output_type": "stream",
     "text": [
      "  1%|▌                                                                                 | 3/488 [00:00<00:20, 23.87it/s]"
     ]
    },
    {
     "name": "stdout",
     "output_type": "stream",
     "text": [
      "Saved frame number : 0\n",
      "Saved frame0.jpg\n",
      "Saved frame number : 0\n",
      "Saved frame1.jpg\n",
      "Saved frame number : 0\n",
      "Saved frame2.jpg\n",
      "Saved frame number : 0\n",
      "Saved frame3.jpg\n",
      "Saved frame number : 0\n",
      "Saved frame4.jpg\n",
      "Saved frame number : 0\n"
     ]
    },
    {
     "name": "stderr",
     "output_type": "stream",
     "text": [
      "\r",
      "  1%|█                                                                                 | 6/488 [00:00<00:19, 24.45it/s]"
     ]
    },
    {
     "name": "stdout",
     "output_type": "stream",
     "text": [
      "Saved frame5.jpg\n",
      "Saved frame number : 0\n",
      "Saved frame6.jpg\n",
      "Saved frame number : 0\n",
      "Saved frame7.jpg\n"
     ]
    },
    {
     "name": "stderr",
     "output_type": "stream",
     "text": [
      "\r",
      "  2%|█▌                                                                                | 9/488 [00:00<00:23, 20.06it/s]"
     ]
    },
    {
     "name": "stdout",
     "output_type": "stream",
     "text": [
      "Saved frame number : 0\n",
      "Saved frame8.jpg\n",
      "Saved frame number : 0\n",
      "Saved frame9.jpg\n",
      "Saved frame number : 0\n",
      "Saved frame10.jpg\n"
     ]
    },
    {
     "name": "stderr",
     "output_type": "stream",
     "text": [
      "\r",
      "  2%|█▉                                                                               | 12/488 [00:00<00:27, 17.28it/s]"
     ]
    },
    {
     "name": "stdout",
     "output_type": "stream",
     "text": [
      "Saved frame number : 0\n",
      "Saved frame11.jpg\n"
     ]
    },
    {
     "name": "stderr",
     "output_type": "stream",
     "text": [
      "\r",
      "  3%|██▎                                                                              | 14/488 [00:00<00:28, 16.92it/s]"
     ]
    },
    {
     "name": "stdout",
     "output_type": "stream",
     "text": [
      "Saved frame number : 0\n",
      "Saved frame12.jpg\n",
      "Saved frame number : 0\n",
      "Saved frame13.jpg\n",
      "Saved frame number : 0\n",
      "Saved frame14.jpg\n"
     ]
    },
    {
     "name": "stderr",
     "output_type": "stream",
     "text": [
      "\r",
      "  3%|██▊                                                                              | 17/488 [00:00<00:24, 19.49it/s]"
     ]
    },
    {
     "name": "stdout",
     "output_type": "stream",
     "text": [
      "Saved frame number : 0\n",
      "Saved frame15.jpg\n",
      "Saved frame number : 0\n",
      "Saved frame16.jpg\n"
     ]
    },
    {
     "name": "stderr",
     "output_type": "stream",
     "text": [
      "\r",
      "  4%|███▎                                                                             | 20/488 [00:00<00:22, 21.13it/s]"
     ]
    },
    {
     "name": "stdout",
     "output_type": "stream",
     "text": [
      "Saved frame number : 0\n",
      "Saved frame17.jpg\n",
      "Saved frame number : 0\n",
      "Saved frame18.jpg\n",
      "Saved frame number : 0\n",
      "Saved frame19.jpg\n",
      "Saved frame number : 0\n",
      "Saved frame20.jpg\n",
      "Saved frame number : 0\n",
      "Saved frame21.jpg\n",
      "Saved frame number : 0\n"
     ]
    },
    {
     "name": "stderr",
     "output_type": "stream",
     "text": [
      "\r",
      "  5%|███▊                                                                             | 23/488 [00:01<00:20, 22.29it/s]"
     ]
    },
    {
     "name": "stdout",
     "output_type": "stream",
     "text": [
      "Saved frame22.jpg\n",
      "Saved frame number : 0\n",
      "Saved frame23.jpg\n",
      "Saved frame number : 0\n",
      "Saved frame24.jpg\n",
      "Saved frame number : 0\n"
     ]
    },
    {
     "name": "stderr",
     "output_type": "stream",
     "text": [
      "\r",
      "  5%|████▎                                                                            | 26/488 [00:01<00:20, 22.76it/s]"
     ]
    },
    {
     "name": "stdout",
     "output_type": "stream",
     "text": [
      "Saved frame25.jpg\n",
      "Saved frame number : 0\n",
      "Saved frame26.jpg\n"
     ]
    },
    {
     "name": "stderr",
     "output_type": "stream",
     "text": [
      "\r",
      "  6%|████▊                                                                            | 29/488 [00:01<00:21, 21.54it/s]"
     ]
    },
    {
     "name": "stdout",
     "output_type": "stream",
     "text": [
      "Saved frame number : 0\n",
      "Saved frame27.jpg\n",
      "Saved frame number : 0\n",
      "Saved frame28.jpg\n",
      "Saved frame number : 0\n",
      "Saved frame29.jpg\n",
      "Saved frame number : 0\n",
      "Saved frame30.jpg\n",
      "Saved frame number : 0\n"
     ]
    },
    {
     "name": "stderr",
     "output_type": "stream",
     "text": [
      "  7%|█████▊                                                                           | 35/488 [00:01<00:19, 23.14it/s]"
     ]
    },
    {
     "name": "stdout",
     "output_type": "stream",
     "text": [
      "Saved frame31.jpg\n",
      "Saved frame number : 0\n",
      "Saved frame32.jpg\n",
      "Saved frame number : 0\n",
      "Saved frame33.jpg\n",
      "Saved frame number : 0\n",
      "Saved frame34.jpg\n",
      "Saved frame number : 0\n",
      "Saved frame35.jpg\n",
      "Saved frame number : 0\n",
      "Saved frame36.jpg\n"
     ]
    },
    {
     "name": "stderr",
     "output_type": "stream",
     "text": [
      "  8%|██████▊                                                                          | 41/488 [00:01<00:18, 24.16it/s]"
     ]
    },
    {
     "name": "stdout",
     "output_type": "stream",
     "text": [
      "Saved frame number : 0\n",
      "Saved frame37.jpg\n",
      "Saved frame number : 0\n",
      "Saved frame38.jpg\n",
      "Saved frame number : 0\n",
      "Saved frame39.jpg\n",
      "Saved frame number : 0\n",
      "Saved frame40.jpg\n",
      "Saved frame number : 0\n",
      "Saved frame41.jpg\n",
      "Saved frame number : 0\n"
     ]
    },
    {
     "name": "stderr",
     "output_type": "stream",
     "text": [
      "\r",
      "  9%|███████▎                                                                         | 44/488 [00:01<00:17, 24.70it/s]"
     ]
    },
    {
     "name": "stdout",
     "output_type": "stream",
     "text": [
      "Saved frame42.jpg\n",
      "Saved frame number : 0\n",
      "Saved frame43.jpg\n",
      "Saved frame number : 0\n",
      "Saved frame44.jpg\n",
      "Saved frame number : 0\n",
      "Saved frame45.jpg\n",
      "Saved frame number : 0\n"
     ]
    },
    {
     "name": "stderr",
     "output_type": "stream",
     "text": [
      "\r",
      " 10%|███████▊                                                                         | 47/488 [00:02<00:17, 25.12it/s]"
     ]
    },
    {
     "name": "stdout",
     "output_type": "stream",
     "text": [
      "Saved frame46.jpg\n",
      "Saved frame number : 0\n"
     ]
    },
    {
     "name": "stderr",
     "output_type": "stream",
     "text": [
      "\r",
      " 10%|████████▎                                                                        | 50/488 [00:02<00:17, 25.63it/s]"
     ]
    },
    {
     "name": "stdout",
     "output_type": "stream",
     "text": [
      "Saved frame47.jpg\n",
      "Saved frame number : 0\n",
      "Saved frame48.jpg\n",
      "Saved frame number : 0\n",
      "Saved frame49.jpg\n",
      "Saved frame number : 0\n",
      "Saved frame50.jpg\n",
      "Saved frame number : 0\n"
     ]
    },
    {
     "name": "stderr",
     "output_type": "stream",
     "text": [
      "\r",
      " 11%|████████▊                                                                        | 53/488 [00:02<00:17, 24.95it/s]"
     ]
    },
    {
     "name": "stdout",
     "output_type": "stream",
     "text": [
      "Saved frame51.jpg\n",
      "Saved frame number : 0\n",
      "Saved frame52.jpg\n"
     ]
    },
    {
     "name": "stderr",
     "output_type": "stream",
     "text": [
      "\r",
      " 11%|█████████▎                                                                       | 56/488 [00:02<00:17, 24.38it/s]"
     ]
    },
    {
     "name": "stdout",
     "output_type": "stream",
     "text": [
      "Saved frame number : 0\n",
      "Saved frame53.jpg\n",
      "Saved frame number : 0\n",
      "Saved frame54.jpg\n",
      "Saved frame number : 0\n",
      "Saved frame55.jpg\n",
      "Saved frame number : 0\n",
      "Saved frame56.jpg\n",
      "Saved frame number : 0\n",
      "Saved frame57.jpg\n"
     ]
    },
    {
     "name": "stderr",
     "output_type": "stream",
     "text": [
      "\r",
      " 12%|█████████▊                                                                       | 59/488 [00:02<00:17, 24.67it/s]"
     ]
    },
    {
     "name": "stdout",
     "output_type": "stream",
     "text": [
      "Saved frame number : 0\n",
      "Saved frame58.jpg\n",
      "Saved frame number : 0\n",
      "Saved frame59.jpg\n",
      "Saved frame number : 0\n",
      "Saved frame60.jpg\n",
      "Saved frame number : 0\n"
     ]
    },
    {
     "name": "stderr",
     "output_type": "stream",
     "text": [
      "\r",
      " 13%|██████████▎                                                                      | 62/488 [00:02<00:17, 24.71it/s]"
     ]
    },
    {
     "name": "stdout",
     "output_type": "stream",
     "text": [
      "Saved frame61.jpg\n",
      "Saved frame number : 0\n",
      "Saved frame62.jpg\n"
     ]
    },
    {
     "name": "stderr",
     "output_type": "stream",
     "text": [
      "\r",
      " 13%|██████████▊                                                                      | 65/488 [00:02<00:17, 23.93it/s]"
     ]
    },
    {
     "name": "stdout",
     "output_type": "stream",
     "text": [
      "Saved frame number : 0\n",
      "Saved frame63.jpg\n",
      "Saved frame number : 0\n",
      "Saved frame64.jpg\n",
      "Saved frame number : 0\n",
      "Saved frame65.jpg\n",
      "Saved frame number : 0\n",
      "Saved frame66.jpg\n",
      "Saved frame number : 0\n"
     ]
    },
    {
     "name": "stderr",
     "output_type": "stream",
     "text": [
      "\r",
      " 14%|███████████▎                                                                     | 68/488 [00:02<00:18, 23.08it/s]"
     ]
    },
    {
     "name": "stdout",
     "output_type": "stream",
     "text": [
      "Saved frame67.jpg\n",
      "Saved frame number : 0\n",
      "Saved frame68.jpg\n",
      "Saved frame number : 0\n",
      "Saved frame69.jpg\n",
      "Saved frame number : 0\n"
     ]
    },
    {
     "name": "stderr",
     "output_type": "stream",
     "text": [
      "\r",
      " 15%|███████████▊                                                                     | 71/488 [00:03<00:18, 22.58it/s]"
     ]
    },
    {
     "name": "stdout",
     "output_type": "stream",
     "text": [
      "Saved frame70.jpg\n",
      "Saved frame number : 0\n",
      "Saved frame71.jpg\n"
     ]
    },
    {
     "name": "stderr",
     "output_type": "stream",
     "text": [
      "\r",
      " 15%|████████████▎                                                                    | 74/488 [00:03<00:18, 22.80it/s]"
     ]
    },
    {
     "name": "stdout",
     "output_type": "stream",
     "text": [
      "Saved frame number : 0\n",
      "Saved frame72.jpg\n",
      "Saved frame number : 0\n",
      "Saved frame73.jpg\n",
      "Saved frame number : 0\n",
      "Saved frame74.jpg\n",
      "Saved frame number : 0\n"
     ]
    },
    {
     "name": "stderr",
     "output_type": "stream",
     "text": [
      "\r",
      " 16%|████████████▊                                                                    | 77/488 [00:03<00:17, 23.65it/s]"
     ]
    },
    {
     "name": "stdout",
     "output_type": "stream",
     "text": [
      "Saved frame75.jpg\n",
      "Saved frame number : 0\n",
      "Saved frame76.jpg\n",
      "Saved frame number : 0\n"
     ]
    },
    {
     "name": "stderr",
     "output_type": "stream",
     "text": [
      "\r",
      " 16%|█████████████▎                                                                   | 80/488 [00:03<00:16, 24.24it/s]"
     ]
    },
    {
     "name": "stdout",
     "output_type": "stream",
     "text": [
      "Saved frame77.jpg\n",
      "Saved frame number : 0\n",
      "Saved frame78.jpg\n",
      "Saved frame number : 0\n",
      "Saved frame79.jpg\n",
      "Saved frame number : 0\n",
      "Saved frame80.jpg\n"
     ]
    },
    {
     "name": "stderr",
     "output_type": "stream",
     "text": [
      "\r",
      " 17%|█████████████▊                                                                   | 83/488 [00:03<00:16, 24.60it/s]"
     ]
    },
    {
     "name": "stdout",
     "output_type": "stream",
     "text": [
      "Saved frame number : 0\n",
      "Saved frame81.jpg\n",
      "Saved frame number : 0\n",
      "Saved frame82.jpg\n"
     ]
    },
    {
     "name": "stderr",
     "output_type": "stream",
     "text": [
      "\r",
      " 18%|██████████████▎                                                                  | 86/488 [00:03<00:16, 24.62it/s]"
     ]
    },
    {
     "name": "stdout",
     "output_type": "stream",
     "text": [
      "Saved frame number : 0\n",
      "Saved frame83.jpg\n",
      "Saved frame number : 0\n",
      "Saved frame84.jpg\n",
      "Saved frame number : 0\n",
      "Saved frame85.jpg\n",
      "Saved frame number : 0\n",
      "Saved frame86.jpg\n",
      "Saved frame number : 0\n",
      "Saved frame87.jpg\n"
     ]
    },
    {
     "name": "stderr",
     "output_type": "stream",
     "text": [
      " 19%|███████████████▎                                                                 | 92/488 [00:03<00:15, 24.79it/s]"
     ]
    },
    {
     "name": "stdout",
     "output_type": "stream",
     "text": [
      "Saved frame number : 0\n",
      "Saved frame88.jpg\n",
      "Saved frame number : 0\n",
      "Saved frame89.jpg\n",
      "Saved frame number : 0\n",
      "Saved frame90.jpg\n",
      "Saved frame number : 0\n",
      "Saved frame91.jpg\n",
      "Saved frame number : 0\n",
      "Saved frame92.jpg\n",
      "Saved frame number : 0\n"
     ]
    },
    {
     "name": "stderr",
     "output_type": "stream",
     "text": [
      "\r",
      " 19%|███████████████▊                                                                 | 95/488 [00:04<00:16, 24.45it/s]"
     ]
    },
    {
     "name": "stdout",
     "output_type": "stream",
     "text": [
      "Saved frame93.jpg\n",
      "Saved frame number : 0\n",
      "Saved frame94.jpg\n",
      "Saved frame number : 0\n",
      "Saved frame95.jpg\n",
      "Saved frame number : 0\n",
      "Saved frame96.jpg\n"
     ]
    },
    {
     "name": "stderr",
     "output_type": "stream",
     "text": [
      "\r",
      " 20%|████████████████▎                                                                | 98/488 [00:04<00:16, 23.98it/s]"
     ]
    },
    {
     "name": "stdout",
     "output_type": "stream",
     "text": [
      "Saved frame number : 0\n",
      "Saved frame97.jpg\n",
      "Saved frame number : 0\n"
     ]
    },
    {
     "name": "stderr",
     "output_type": "stream",
     "text": [
      "\r",
      " 21%|████████████████▌                                                               | 101/488 [00:04<00:16, 24.07it/s]"
     ]
    },
    {
     "name": "stdout",
     "output_type": "stream",
     "text": [
      "Saved frame98.jpg\n",
      "Saved frame number : 0\n",
      "Saved frame99.jpg\n",
      "Saved frame number : 0\n",
      "Saved frame100.jpg\n",
      "Saved frame number : 0\n",
      "Saved frame101.jpg\n",
      "Saved frame number : 0\n",
      "Saved frame102.jpg\n",
      "Saved frame number : 0\n"
     ]
    },
    {
     "name": "stderr",
     "output_type": "stream",
     "text": [
      " 22%|█████████████████▌                                                              | 107/488 [00:04<00:15, 24.04it/s]"
     ]
    },
    {
     "name": "stdout",
     "output_type": "stream",
     "text": [
      "Saved frame103.jpg\n",
      "Saved frame number : 0\n",
      "Saved frame104.jpg\n",
      "Saved frame number : 0\n",
      "Saved frame105.jpg\n",
      "Saved frame number : 0\n",
      "Saved frame106.jpg\n",
      "Saved frame number : 0\n",
      "Saved frame107.jpg\n",
      "Saved frame number : 0\n"
     ]
    },
    {
     "name": "stderr",
     "output_type": "stream",
     "text": [
      "\r",
      " 23%|██████████████████                                                              | 110/488 [00:04<00:15, 24.05it/s]"
     ]
    },
    {
     "name": "stdout",
     "output_type": "stream",
     "text": [
      "Saved frame108.jpg\n",
      "Saved frame number : 0\n",
      "Saved frame109.jpg\n",
      "Saved frame number : 0\n",
      "Saved frame110.jpg\n",
      "Saved frame number : 0\n",
      "Saved frame111.jpg\n",
      "Saved frame number : 0\n"
     ]
    },
    {
     "name": "stderr",
     "output_type": "stream",
     "text": [
      "\r",
      " 23%|██████████████████▌                                                             | 113/488 [00:04<00:15, 24.17it/s]"
     ]
    },
    {
     "name": "stdout",
     "output_type": "stream",
     "text": [
      "Saved frame112.jpg\n",
      "Saved frame number : 0\n"
     ]
    },
    {
     "name": "stderr",
     "output_type": "stream",
     "text": [
      "\r",
      " 24%|███████████████████                                                             | 116/488 [00:04<00:15, 23.79it/s]"
     ]
    },
    {
     "name": "stdout",
     "output_type": "stream",
     "text": [
      "Saved frame113.jpg\n",
      "Saved frame number : 0\n",
      "Saved frame114.jpg\n",
      "Saved frame number : 0\n",
      "Saved frame115.jpg\n",
      "Saved frame number : 0\n",
      "Saved frame116.jpg\n",
      "Saved frame number : 0\n",
      "Saved frame117.jpg\n"
     ]
    },
    {
     "name": "stderr",
     "output_type": "stream",
     "text": [
      " 25%|████████████████████                                                            | 122/488 [00:05<00:15, 22.99it/s]"
     ]
    },
    {
     "name": "stdout",
     "output_type": "stream",
     "text": [
      "Saved frame number : 0\n",
      "Saved frame118.jpg\n",
      "Saved frame number : 0\n",
      "Saved frame119.jpg\n",
      "Saved frame number : 0\n",
      "Saved frame120.jpg\n",
      "Saved frame number : 0\n",
      "Saved frame121.jpg\n",
      "Saved frame number : 0\n"
     ]
    },
    {
     "name": "stderr",
     "output_type": "stream",
     "text": [
      "\r",
      " 26%|████████████████████▍                                                           | 125/488 [00:05<00:16, 22.17it/s]"
     ]
    },
    {
     "name": "stdout",
     "output_type": "stream",
     "text": [
      "Saved frame122.jpg\n",
      "Saved frame number : 0\n",
      "Saved frame123.jpg\n",
      "Saved frame number : 0\n",
      "Saved frame124.jpg\n",
      "Saved frame number : 0\n",
      "Saved frame125.jpg\n",
      "Saved frame number : 0\n",
      "Saved frame126.jpg\n",
      "Saved frame number : 0\n"
     ]
    },
    {
     "name": "stderr",
     "output_type": "stream",
     "text": [
      " 27%|█████████████████████▍                                                          | 131/488 [00:05<00:15, 22.41it/s]"
     ]
    },
    {
     "name": "stdout",
     "output_type": "stream",
     "text": [
      "Saved frame127.jpg\n",
      "Saved frame number : 0\n",
      "Saved frame128.jpg\n",
      "Saved frame number : 0\n",
      "Saved frame129.jpg\n",
      "Saved frame number : 0\n",
      "Saved frame130.jpg\n",
      "Saved frame number : 0\n",
      "Saved frame131.jpg\n",
      "Saved frame number : 0\n"
     ]
    },
    {
     "name": "stderr",
     "output_type": "stream",
     "text": [
      " 28%|██████████████████████▍                                                         | 137/488 [00:05<00:15, 22.91it/s]"
     ]
    },
    {
     "name": "stdout",
     "output_type": "stream",
     "text": [
      "Saved frame132.jpg\n",
      "Saved frame number : 0\n",
      "Saved frame133.jpg\n",
      "Saved frame number : 0\n",
      "Saved frame134.jpg\n",
      "Saved frame number : 0\n",
      "Saved frame135.jpg\n",
      "Saved frame number : 0\n",
      "Saved frame136.jpg\n"
     ]
    },
    {
     "name": "stderr",
     "output_type": "stream",
     "text": [
      "\r",
      " 29%|██████████████████████▉                                                         | 140/488 [00:06<00:14, 23.46it/s]"
     ]
    },
    {
     "name": "stdout",
     "output_type": "stream",
     "text": [
      "Saved frame number : 0\n",
      "Saved frame137.jpg\n",
      "Saved frame number : 0\n",
      "Saved frame138.jpg\n",
      "Saved frame number : 0\n",
      "Saved frame139.jpg\n",
      "Saved frame number : 0\n",
      "Saved frame140.jpg\n",
      "Saved frame number : 0\n",
      "Saved frame141.jpg\n",
      "Saved frame number : 0\n"
     ]
    },
    {
     "name": "stderr",
     "output_type": "stream",
     "text": [
      " 30%|███████████████████████▉                                                        | 146/488 [00:06<00:13, 24.61it/s]"
     ]
    },
    {
     "name": "stdout",
     "output_type": "stream",
     "text": [
      "Saved frame142.jpg\n",
      "Saved frame number : 0\n",
      "Saved frame143.jpg\n",
      "Saved frame number : 0\n",
      "Saved frame144.jpg\n",
      "Saved frame number : 0\n",
      "Saved frame145.jpg\n",
      "Saved frame number : 0\n",
      "Saved frame146.jpg\n",
      "Saved frame number : 0\n",
      "Saved frame147.jpg\n"
     ]
    },
    {
     "name": "stderr",
     "output_type": "stream",
     "text": [
      " 31%|████████████████████████▉                                                       | 152/488 [00:06<00:12, 25.89it/s]"
     ]
    },
    {
     "name": "stdout",
     "output_type": "stream",
     "text": [
      "Saved frame number : 0\n",
      "Saved frame148.jpg\n",
      "Saved frame number : 0\n",
      "Saved frame149.jpg\n",
      "Saved frame number : 0\n",
      "Saved frame150.jpg\n",
      "Saved frame number : 0\n",
      "Saved frame151.jpg\n",
      "Saved frame number : 0\n",
      "Saved frame152.jpg\n",
      "Saved frame number : 0\n"
     ]
    },
    {
     "name": "stderr",
     "output_type": "stream",
     "text": [
      " 32%|█████████████████████████▉                                                      | 158/488 [00:06<00:12, 27.18it/s]"
     ]
    },
    {
     "name": "stdout",
     "output_type": "stream",
     "text": [
      "Saved frame153.jpg\n",
      "Saved frame number : 0\n",
      "Saved frame154.jpg\n",
      "Saved frame number : 0\n",
      "Saved frame155.jpg\n",
      "Saved frame number : 0\n",
      "Saved frame156.jpg\n",
      "Saved frame number : 0\n",
      "Saved frame157.jpg\n",
      "Saved frame number : 0\n",
      "Saved frame158.jpg\n",
      "Saved frame number : 0\n"
     ]
    },
    {
     "name": "stderr",
     "output_type": "stream",
     "text": [
      " 34%|██████████████████████████▉                                                     | 164/488 [00:06<00:11, 27.64it/s]"
     ]
    },
    {
     "name": "stdout",
     "output_type": "stream",
     "text": [
      "Saved frame159.jpg\n",
      "Saved frame number : 0\n",
      "Saved frame160.jpg\n",
      "Saved frame number : 0\n",
      "Saved frame161.jpg\n",
      "Saved frame number : 0\n",
      "Saved frame162.jpg\n",
      "Saved frame number : 0\n",
      "Saved frame163.jpg\n",
      "Saved frame number : 0\n",
      "Saved frame164.jpg\n"
     ]
    },
    {
     "name": "stderr",
     "output_type": "stream",
     "text": [
      " 35%|███████████████████████████▊                                                    | 170/488 [00:07<00:11, 26.74it/s]"
     ]
    },
    {
     "name": "stdout",
     "output_type": "stream",
     "text": [
      "Saved frame number : 0\n",
      "Saved frame165.jpg\n",
      "Saved frame number : 0\n",
      "Saved frame166.jpg\n",
      "Saved frame number : 0\n",
      "Saved frame167.jpg\n",
      "Saved frame number : 0\n",
      "Saved frame168.jpg\n",
      "Saved frame number : 0\n",
      "Saved frame169.jpg\n",
      "Saved frame number : 0\n"
     ]
    },
    {
     "name": "stderr",
     "output_type": "stream",
     "text": [
      "\r",
      " 35%|████████████████████████████▎                                                   | 173/488 [00:07<00:12, 25.61it/s]"
     ]
    },
    {
     "name": "stdout",
     "output_type": "stream",
     "text": [
      "Saved frame170.jpg\n",
      "Saved frame number : 0\n",
      "Saved frame171.jpg\n",
      "Saved frame number : 0\n",
      "Saved frame172.jpg\n",
      "Saved frame number : 0\n",
      "Saved frame173.jpg\n",
      "Saved frame number : 0\n",
      "Saved frame174.jpg\n",
      "Saved frame number : 0\n"
     ]
    },
    {
     "name": "stderr",
     "output_type": "stream",
     "text": [
      " 37%|█████████████████████████████▎                                                  | 179/488 [00:07<00:13, 23.54it/s]"
     ]
    },
    {
     "name": "stdout",
     "output_type": "stream",
     "text": [
      "Saved frame175.jpg\n",
      "Saved frame number : 0\n",
      "Saved frame176.jpg\n",
      "Saved frame number : 0\n",
      "Saved frame177.jpg\n",
      "Saved frame number : 0\n",
      "Saved frame178.jpg\n",
      "Saved frame number : 0\n",
      "Saved frame179.jpg\n"
     ]
    },
    {
     "name": "stderr",
     "output_type": "stream",
     "text": [
      "\r",
      " 37%|█████████████████████████████▊                                                  | 182/488 [00:07<00:14, 21.60it/s]"
     ]
    },
    {
     "name": "stdout",
     "output_type": "stream",
     "text": [
      "Saved frame number : 0\n",
      "Saved frame180.jpg\n",
      "Saved frame number : 0\n",
      "Saved frame181.jpg\n",
      "Saved frame number : 0\n",
      "Saved frame182.jpg\n",
      "Saved frame number : 0\n",
      "Saved frame183.jpg\n",
      "Saved frame number : 0\n"
     ]
    },
    {
     "name": "stderr",
     "output_type": "stream",
     "text": [
      " 39%|██████████████████████████████▊                                                 | 188/488 [00:08<00:14, 21.09it/s]"
     ]
    },
    {
     "name": "stdout",
     "output_type": "stream",
     "text": [
      "Saved frame184.jpg\n",
      "Saved frame number : 0\n",
      "Saved frame185.jpg\n",
      "Saved frame number : 0\n",
      "Saved frame186.jpg\n",
      "Saved frame number : 0\n",
      "Saved frame187.jpg\n",
      "Saved frame number : 0\n",
      "Saved frame188.jpg\n"
     ]
    },
    {
     "name": "stderr",
     "output_type": "stream",
     "text": [
      "\r",
      " 39%|███████████████████████████████▎                                                | 191/488 [00:08<00:14, 21.21it/s]"
     ]
    },
    {
     "name": "stdout",
     "output_type": "stream",
     "text": [
      "Saved frame number : 0\n",
      "Saved frame189.jpg\n",
      "Saved frame number : 0\n",
      "Saved frame190.jpg\n",
      "Saved frame number : 0\n",
      "Saved frame191.jpg\n",
      "Saved frame number : 0\n",
      "Saved frame192.jpg\n",
      "Saved frame number : 0\n"
     ]
    },
    {
     "name": "stderr",
     "output_type": "stream",
     "text": [
      " 40%|████████████████████████████████▎                                               | 197/488 [00:08<00:13, 21.65it/s]"
     ]
    },
    {
     "name": "stdout",
     "output_type": "stream",
     "text": [
      "Saved frame193.jpg\n",
      "Saved frame number : 0\n",
      "Saved frame194.jpg\n",
      "Saved frame number : 0\n",
      "Saved frame195.jpg\n",
      "Saved frame number : 0\n",
      "Saved frame196.jpg\n",
      "Saved frame number : 0\n",
      "Saved frame197.jpg\n"
     ]
    },
    {
     "name": "stderr",
     "output_type": "stream",
     "text": [
      "\r",
      " 41%|████████████████████████████████▊                                               | 200/488 [00:08<00:13, 21.93it/s]"
     ]
    },
    {
     "name": "stdout",
     "output_type": "stream",
     "text": [
      "Saved frame number : 0\n",
      "Saved frame198.jpg\n",
      "Saved frame number : 0\n",
      "Saved frame199.jpg\n",
      "Saved frame number : 0\n",
      "Saved frame200.jpg\n",
      "Saved frame number : 0\n",
      "Saved frame201.jpg\n",
      "Saved frame number : 0\n"
     ]
    },
    {
     "name": "stderr",
     "output_type": "stream",
     "text": [
      " 42%|█████████████████████████████████▊                                              | 206/488 [00:08<00:12, 21.96it/s]"
     ]
    },
    {
     "name": "stdout",
     "output_type": "stream",
     "text": [
      "Saved frame202.jpg\n",
      "Saved frame number : 0\n",
      "Saved frame203.jpg\n",
      "Saved frame number : 0\n",
      "Saved frame204.jpg\n",
      "Saved frame number : 0\n",
      "Saved frame205.jpg\n",
      "Saved frame number : 0\n",
      "Saved frame206.jpg\n",
      "Saved frame number : 0\n"
     ]
    },
    {
     "name": "stderr",
     "output_type": "stream",
     "text": [
      " 43%|██████████████████████████████████▊                                             | 212/488 [00:09<00:11, 23.23it/s]"
     ]
    },
    {
     "name": "stdout",
     "output_type": "stream",
     "text": [
      "Saved frame207.jpg\n",
      "Saved frame number : 0\n",
      "Saved frame208.jpg\n",
      "Saved frame number : 0\n",
      "Saved frame209.jpg\n",
      "Saved frame number : 0\n",
      "Saved frame210.jpg\n",
      "Saved frame number : 0\n",
      "Saved frame211.jpg\n",
      "Saved frame number : 0\n"
     ]
    },
    {
     "name": "stderr",
     "output_type": "stream",
     "text": [
      " 45%|███████████████████████████████████▋                                            | 218/488 [00:09<00:10, 24.61it/s]"
     ]
    },
    {
     "name": "stdout",
     "output_type": "stream",
     "text": [
      "Saved frame212.jpg\n",
      "Saved frame number : 0\n",
      "Saved frame213.jpg\n",
      "Saved frame number : 0\n",
      "Saved frame214.jpg\n",
      "Saved frame number : 0\n",
      "Saved frame215.jpg\n",
      "Saved frame number : 0\n",
      "Saved frame216.jpg\n",
      "Saved frame number : 0\n",
      "Saved frame217.jpg\n"
     ]
    },
    {
     "name": "stderr",
     "output_type": "stream",
     "text": [
      "\r",
      " 45%|████████████████████████████████████▍                                           | 222/488 [00:09<00:10, 26.29it/s]"
     ]
    },
    {
     "name": "stdout",
     "output_type": "stream",
     "text": [
      "Saved frame number : 0\n",
      "Saved frame218.jpg\n",
      "Saved frame number : 0\n",
      "Saved frame219.jpg\n",
      "Saved frame number : 0\n",
      "Saved frame220.jpg\n",
      "Saved frame number : 0\n",
      "Saved frame221.jpg\n",
      "Saved frame number : 0\n",
      "Saved frame222.jpg\n",
      "Saved frame number : 0\n",
      "Saved frame223.jpg\n",
      "Saved frame number : 0\n"
     ]
    },
    {
     "name": "stderr",
     "output_type": "stream",
     "text": [
      " 47%|█████████████████████████████████████▍                                          | 228/488 [00:09<00:09, 27.50it/s]"
     ]
    },
    {
     "name": "stdout",
     "output_type": "stream",
     "text": [
      "Saved frame224.jpg\n",
      "Saved frame number : 0\n",
      "Saved frame225.jpg\n",
      "Saved frame number : 0\n",
      "Saved frame226.jpg\n",
      "Saved frame number : 0\n",
      "Saved frame227.jpg\n",
      "Saved frame number : 0\n",
      "Saved frame228.jpg\n",
      "Saved frame number : 0\n",
      "Saved frame229.jpg\n",
      "Saved frame number : 0\n"
     ]
    },
    {
     "name": "stderr",
     "output_type": "stream",
     "text": [
      " 48%|██████████████████████████████████████▎                                         | 234/488 [00:09<00:09, 26.84it/s]"
     ]
    },
    {
     "name": "stdout",
     "output_type": "stream",
     "text": [
      "Saved frame230.jpg\n",
      "Saved frame number : 0\n",
      "Saved frame231.jpg\n",
      "Saved frame number : 0\n",
      "Saved frame232.jpg\n",
      "Saved frame number : 0\n",
      "Saved frame233.jpg\n",
      "Saved frame number : 0\n",
      "Saved frame234.jpg\n",
      "Saved frame number : 0\n",
      "Saved frame235.jpg\n"
     ]
    },
    {
     "name": "stderr",
     "output_type": "stream",
     "text": [
      " 49%|███████████████████████████████████████▎                                        | 240/488 [00:10<00:09, 26.34it/s]"
     ]
    },
    {
     "name": "stdout",
     "output_type": "stream",
     "text": [
      "Saved frame number : 0\n",
      "Saved frame236.jpg\n",
      "Saved frame number : 0\n",
      "Saved frame237.jpg\n",
      "Saved frame number : 0\n",
      "Saved frame238.jpg\n",
      "Saved frame number : 0\n",
      "Saved frame239.jpg\n",
      "Saved frame number : 0\n",
      "Saved frame240.jpg\n",
      "Saved frame number : 0\n"
     ]
    },
    {
     "name": "stderr",
     "output_type": "stream",
     "text": [
      " 50%|████████████████████████████████████████▎                                       | 246/488 [00:10<00:09, 24.87it/s]"
     ]
    },
    {
     "name": "stdout",
     "output_type": "stream",
     "text": [
      "Saved frame241.jpg\n",
      "Saved frame number : 0\n",
      "Saved frame242.jpg\n",
      "Saved frame number : 0\n",
      "Saved frame243.jpg\n",
      "Saved frame number : 0\n",
      "Saved frame244.jpg\n",
      "Saved frame number : 0\n",
      "Saved frame245.jpg\n",
      "Saved frame number : 0\n"
     ]
    },
    {
     "name": "stderr",
     "output_type": "stream",
     "text": [
      "\r",
      " 51%|████████████████████████████████████████▊                                       | 249/488 [00:10<00:09, 24.87it/s]"
     ]
    },
    {
     "name": "stdout",
     "output_type": "stream",
     "text": [
      "Saved frame246.jpg\n",
      "Saved frame number : 0\n",
      "Saved frame247.jpg\n",
      "Saved frame number : 0\n",
      "Saved frame248.jpg\n",
      "Saved frame number : 0\n",
      "Saved frame249.jpg\n",
      "Saved frame number : 0\n",
      "Saved frame250.jpg\n",
      "Saved frame number : 0\n"
     ]
    },
    {
     "name": "stderr",
     "output_type": "stream",
     "text": [
      " 52%|█████████████████████████████████████████▊                                      | 255/488 [00:10<00:09, 23.92it/s]"
     ]
    },
    {
     "name": "stdout",
     "output_type": "stream",
     "text": [
      "Saved frame251.jpg\n",
      "Saved frame number : 0\n",
      "Saved frame252.jpg\n",
      "Saved frame number : 0\n",
      "Saved frame253.jpg\n",
      "Saved frame number : 0\n",
      "Saved frame254.jpg\n",
      "Saved frame number : 0\n",
      "Saved frame255.jpg\n",
      "Saved frame number : 0\n"
     ]
    },
    {
     "name": "stderr",
     "output_type": "stream",
     "text": [
      " 53%|██████████████████████████████████████████▊                                     | 261/488 [00:11<00:09, 23.19it/s]"
     ]
    },
    {
     "name": "stdout",
     "output_type": "stream",
     "text": [
      "Saved frame256.jpg\n",
      "Saved frame number : 0\n",
      "Saved frame257.jpg\n",
      "Saved frame number : 0\n",
      "Saved frame258.jpg\n",
      "Saved frame number : 0\n",
      "Saved frame259.jpg\n",
      "Saved frame number : 0\n",
      "Saved frame260.jpg\n",
      "Saved frame number : 0\n"
     ]
    },
    {
     "name": "stderr",
     "output_type": "stream",
     "text": [
      "\r",
      " 54%|███████████████████████████████████████████▎                                    | 264/488 [00:11<00:10, 22.05it/s]"
     ]
    },
    {
     "name": "stdout",
     "output_type": "stream",
     "text": [
      "Saved frame261.jpg\n",
      "Saved frame number : 0\n",
      "Saved frame262.jpg\n",
      "Saved frame number : 0\n",
      "Saved frame263.jpg\n",
      "Saved frame number : 0\n",
      "Saved frame264.jpg\n",
      "Saved frame number : 0\n",
      "Saved frame265.jpg\n"
     ]
    },
    {
     "name": "stderr",
     "output_type": "stream",
     "text": [
      " 55%|████████████████████████████████████████████▎                                   | 270/488 [00:11<00:10, 21.23it/s]"
     ]
    },
    {
     "name": "stdout",
     "output_type": "stream",
     "text": [
      "Saved frame number : 0\n",
      "Saved frame266.jpg\n",
      "Saved frame number : 0\n",
      "Saved frame267.jpg\n",
      "Saved frame number : 0\n",
      "Saved frame268.jpg\n",
      "Saved frame number : 0\n",
      "Saved frame269.jpg\n",
      "Saved frame number : 0\n"
     ]
    },
    {
     "name": "stderr",
     "output_type": "stream",
     "text": [
      "\r",
      " 56%|████████████████████████████████████████████▊                                   | 273/488 [00:11<00:10, 21.35it/s]"
     ]
    },
    {
     "name": "stdout",
     "output_type": "stream",
     "text": [
      "Saved frame270.jpg\n",
      "Saved frame number : 0\n",
      "Saved frame271.jpg\n",
      "Saved frame number : 0\n",
      "Saved frame272.jpg\n",
      "Saved frame number : 0\n",
      "Saved frame273.jpg\n",
      "Saved frame number : 0\n",
      "Saved frame274.jpg\n",
      "Saved frame number : 0\n"
     ]
    },
    {
     "name": "stderr",
     "output_type": "stream",
     "text": [
      " 57%|█████████████████████████████████████████████▋                                  | 279/488 [00:11<00:09, 21.48it/s]"
     ]
    },
    {
     "name": "stdout",
     "output_type": "stream",
     "text": [
      "Saved frame275.jpg\n",
      "Saved frame number : 0\n",
      "Saved frame276.jpg\n",
      "Saved frame number : 0\n",
      "Saved frame277.jpg\n",
      "Saved frame number : 0\n",
      "Saved frame278.jpg\n",
      "Saved frame number : 0\n",
      "Saved frame279.jpg\n"
     ]
    },
    {
     "name": "stderr",
     "output_type": "stream",
     "text": [
      " 58%|██████████████████████████████████████████████▋                                 | 285/488 [00:12<00:09, 22.31it/s]"
     ]
    },
    {
     "name": "stdout",
     "output_type": "stream",
     "text": [
      "Saved frame number : 0\n",
      "Saved frame280.jpg\n",
      "Saved frame number : 0\n",
      "Saved frame281.jpg\n",
      "Saved frame number : 0\n",
      "Saved frame282.jpg\n",
      "Saved frame number : 0\n",
      "Saved frame283.jpg\n",
      "Saved frame number : 0\n",
      "Saved frame284.jpg\n"
     ]
    },
    {
     "name": "stderr",
     "output_type": "stream",
     "text": [
      "\r",
      " 59%|███████████████████████████████████████████████▏                                | 288/488 [00:12<00:09, 22.20it/s]"
     ]
    },
    {
     "name": "stdout",
     "output_type": "stream",
     "text": [
      "Saved frame number : 0\n",
      "Saved frame285.jpg\n",
      "Saved frame number : 0\n",
      "Saved frame286.jpg\n",
      "Saved frame number : 0\n",
      "Saved frame287.jpg\n",
      "Saved frame number : 0\n",
      "Saved frame288.jpg\n",
      "Saved frame number : 0\n",
      "Saved frame289.jpg\n"
     ]
    },
    {
     "name": "stderr",
     "output_type": "stream",
     "text": [
      " 60%|████████████████████████████████████████████████▏                               | 294/488 [00:12<00:08, 22.16it/s]"
     ]
    },
    {
     "name": "stdout",
     "output_type": "stream",
     "text": [
      "Saved frame number : 0\n",
      "Saved frame290.jpg\n",
      "Saved frame number : 0\n",
      "Saved frame291.jpg\n",
      "Saved frame number : 0\n",
      "Saved frame292.jpg\n",
      "Saved frame number : 0\n",
      "Saved frame293.jpg\n",
      "Saved frame number : 0\n"
     ]
    },
    {
     "name": "stderr",
     "output_type": "stream",
     "text": [
      "\r",
      " 61%|████████████████████████████████████████████████▋                               | 297/488 [00:12<00:08, 22.54it/s]"
     ]
    },
    {
     "name": "stdout",
     "output_type": "stream",
     "text": [
      "Saved frame294.jpg\n",
      "Saved frame number : 0\n",
      "Saved frame295.jpg\n",
      "Saved frame number : 0\n",
      "Saved frame296.jpg\n",
      "Saved frame number : 0\n",
      "Saved frame297.jpg\n",
      "Saved frame number : 0\n",
      "Saved frame298.jpg\n",
      "Saved frame number : 0\n"
     ]
    },
    {
     "name": "stderr",
     "output_type": "stream",
     "text": [
      " 62%|█████████████████████████████████████████████████▋                              | 303/488 [00:12<00:07, 23.40it/s]"
     ]
    },
    {
     "name": "stdout",
     "output_type": "stream",
     "text": [
      "Saved frame299.jpg\n",
      "Saved frame number : 0\n",
      "Saved frame300.jpg\n",
      "Saved frame number : 0\n",
      "Saved frame301.jpg\n",
      "Saved frame number : 0\n",
      "Saved frame302.jpg\n",
      "Saved frame number : 0\n",
      "Saved frame303.jpg\n",
      "Saved frame number : 0\n"
     ]
    },
    {
     "name": "stderr",
     "output_type": "stream",
     "text": [
      " 63%|██████████████████████████████████████████████████▋                             | 309/488 [00:13<00:07, 22.75it/s]"
     ]
    },
    {
     "name": "stdout",
     "output_type": "stream",
     "text": [
      "Saved frame304.jpg\n",
      "Saved frame number : 0\n",
      "Saved frame305.jpg\n",
      "Saved frame number : 0\n",
      "Saved frame306.jpg\n",
      "Saved frame number : 0\n",
      "Saved frame307.jpg\n",
      "Saved frame number : 0\n",
      "Saved frame308.jpg\n",
      "Saved frame number : 0\n"
     ]
    },
    {
     "name": "stderr",
     "output_type": "stream",
     "text": [
      "\r",
      " 64%|███████████████████████████████████████████████████▏                            | 312/488 [00:13<00:07, 22.51it/s]"
     ]
    },
    {
     "name": "stdout",
     "output_type": "stream",
     "text": [
      "Saved frame309.jpg\n",
      "Saved frame number : 0\n",
      "Saved frame310.jpg\n",
      "Saved frame number : 0\n",
      "Saved frame311.jpg\n",
      "Saved frame number : 0\n",
      "Saved frame312.jpg\n",
      "Saved frame number : 0\n",
      "Saved frame313.jpg\n",
      "Saved frame number : 0\n"
     ]
    },
    {
     "name": "stderr",
     "output_type": "stream",
     "text": [
      " 65%|████████████████████████████████████████████████████▏                           | 318/488 [00:13<00:07, 22.43it/s]"
     ]
    },
    {
     "name": "stdout",
     "output_type": "stream",
     "text": [
      "Saved frame314.jpg\n",
      "Saved frame number : 0\n",
      "Saved frame315.jpg\n",
      "Saved frame number : 0\n",
      "Saved frame316.jpg\n",
      "Saved frame number : 0\n",
      "Saved frame317.jpg\n",
      "Saved frame number : 0\n",
      "Saved frame318.jpg\n",
      "Saved frame number : 0\n"
     ]
    },
    {
     "name": "stderr",
     "output_type": "stream",
     "text": [
      " 66%|█████████████████████████████████████████████████████                           | 324/488 [00:13<00:07, 23.10it/s]"
     ]
    },
    {
     "name": "stdout",
     "output_type": "stream",
     "text": [
      "Saved frame319.jpg\n",
      "Saved frame number : 0\n",
      "Saved frame320.jpg\n",
      "Saved frame number : 0\n",
      "Saved frame321.jpg\n",
      "Saved frame number : 0\n",
      "Saved frame322.jpg\n",
      "Saved frame number : 0\n",
      "Saved frame323.jpg\n",
      "Saved frame number : 0\n"
     ]
    },
    {
     "name": "stderr",
     "output_type": "stream",
     "text": [
      "\r",
      " 67%|█████████████████████████████████████████████████████▌                          | 327/488 [00:13<00:06, 23.04it/s]"
     ]
    },
    {
     "name": "stdout",
     "output_type": "stream",
     "text": [
      "Saved frame324.jpg\n",
      "Saved frame number : 0\n",
      "Saved frame325.jpg\n",
      "Saved frame number : 0\n",
      "Saved frame326.jpg\n",
      "Saved frame number : 0\n",
      "Saved frame327.jpg\n",
      "Saved frame number : 0\n",
      "Saved frame328.jpg\n",
      "Saved frame number : 0\n"
     ]
    },
    {
     "name": "stderr",
     "output_type": "stream",
     "text": [
      " 68%|██████████████████████████████████████████████████████▌                         | 333/488 [00:14<00:06, 23.37it/s]"
     ]
    },
    {
     "name": "stdout",
     "output_type": "stream",
     "text": [
      "Saved frame329.jpg\n",
      "Saved frame number : 0\n",
      "Saved frame330.jpg\n",
      "Saved frame number : 0\n",
      "Saved frame331.jpg\n",
      "Saved frame number : 0\n",
      "Saved frame332.jpg\n",
      "Saved frame number : 0\n",
      "Saved frame333.jpg\n",
      "Saved frame number : 0\n"
     ]
    },
    {
     "name": "stderr",
     "output_type": "stream",
     "text": [
      " 69%|███████████████████████████████████████████████████████▌                        | 339/488 [00:14<00:06, 24.28it/s]"
     ]
    },
    {
     "name": "stdout",
     "output_type": "stream",
     "text": [
      "Saved frame334.jpg\n",
      "Saved frame number : 0\n",
      "Saved frame335.jpg\n",
      "Saved frame number : 0\n",
      "Saved frame336.jpg\n",
      "Saved frame number : 0\n",
      "Saved frame337.jpg\n",
      "Saved frame number : 0\n",
      "Saved frame338.jpg\n",
      "Saved frame number : 0\n"
     ]
    },
    {
     "name": "stderr",
     "output_type": "stream",
     "text": [
      "\r",
      " 70%|████████████████████████████████████████████████████████                        | 342/488 [00:14<00:06, 23.26it/s]"
     ]
    },
    {
     "name": "stdout",
     "output_type": "stream",
     "text": [
      "Saved frame339.jpg\n",
      "Saved frame number : 0\n",
      "Saved frame340.jpg\n",
      "Saved frame number : 0\n",
      "Saved frame341.jpg\n",
      "Saved frame number : 0\n",
      "Saved frame342.jpg\n"
     ]
    },
    {
     "name": "stderr",
     "output_type": "stream",
     "text": [
      " 71%|█████████████████████████████████████████████████████████                       | 348/488 [00:14<00:06, 21.36it/s]"
     ]
    },
    {
     "name": "stdout",
     "output_type": "stream",
     "text": [
      "Saved frame number : 0\n",
      "Saved frame343.jpg\n",
      "Saved frame number : 0\n",
      "Saved frame344.jpg\n",
      "Saved frame number : 0\n",
      "Saved frame345.jpg\n",
      "Saved frame number : 0\n",
      "Saved frame346.jpg\n",
      "Saved frame number : 0\n",
      "Saved frame347.jpg\n",
      "Saved frame number : 0\n"
     ]
    },
    {
     "name": "stderr",
     "output_type": "stream",
     "text": [
      "\r",
      " 72%|█████████████████████████████████████████████████████████▌                      | 351/488 [00:15<00:06, 22.47it/s]"
     ]
    },
    {
     "name": "stdout",
     "output_type": "stream",
     "text": [
      "Saved frame348.jpg\n",
      "Saved frame number : 0\n",
      "Saved frame349.jpg\n",
      "Saved frame number : 0\n",
      "Saved frame350.jpg\n",
      "Saved frame number : 0\n",
      "Saved frame351.jpg\n",
      "Saved frame number : 0\n",
      "Saved frame352.jpg\n",
      "Saved frame number : 0\n"
     ]
    },
    {
     "name": "stderr",
     "output_type": "stream",
     "text": [
      " 73%|██████████████████████████████████████████████████████████▌                     | 357/488 [00:15<00:05, 23.65it/s]"
     ]
    },
    {
     "name": "stdout",
     "output_type": "stream",
     "text": [
      "Saved frame353.jpg\n",
      "Saved frame number : 0\n",
      "Saved frame354.jpg\n",
      "Saved frame number : 0\n",
      "Saved frame355.jpg\n",
      "Saved frame number : 0\n",
      "Saved frame356.jpg\n",
      "Saved frame number : 0\n",
      "Saved frame357.jpg\n",
      "Saved frame number : 0\n",
      "Saved frame358.jpg\n"
     ]
    },
    {
     "name": "stderr",
     "output_type": "stream",
     "text": [
      " 74%|███████████████████████████████████████████████████████████▌                    | 363/488 [00:15<00:05, 23.38it/s]"
     ]
    },
    {
     "name": "stdout",
     "output_type": "stream",
     "text": [
      "Saved frame number : 0\n",
      "Saved frame359.jpg\n",
      "Saved frame number : 0\n",
      "Saved frame360.jpg\n",
      "Saved frame number : 0\n",
      "Saved frame361.jpg\n",
      "Saved frame number : 0\n",
      "Saved frame362.jpg\n",
      "Saved frame number : 0\n"
     ]
    },
    {
     "name": "stderr",
     "output_type": "stream",
     "text": [
      "\r",
      " 75%|████████████████████████████████████████████████████████████                    | 366/488 [00:15<00:05, 22.57it/s]"
     ]
    },
    {
     "name": "stdout",
     "output_type": "stream",
     "text": [
      "Saved frame363.jpg\n",
      "Saved frame number : 0\n",
      "Saved frame364.jpg\n",
      "Saved frame number : 0\n",
      "Saved frame365.jpg\n",
      "Saved frame number : 0\n",
      "Saved frame366.jpg\n",
      "Saved frame number : 0\n",
      "Saved frame367.jpg\n"
     ]
    },
    {
     "name": "stderr",
     "output_type": "stream",
     "text": [
      " 76%|████████████████████████████████████████████████████████████▉                   | 372/488 [00:15<00:05, 21.57it/s]"
     ]
    },
    {
     "name": "stdout",
     "output_type": "stream",
     "text": [
      "Saved frame number : 0\n",
      "Saved frame368.jpg\n",
      "Saved frame number : 0\n",
      "Saved frame369.jpg\n",
      "Saved frame number : 0\n",
      "Saved frame370.jpg\n",
      "Saved frame number : 0\n",
      "Saved frame371.jpg\n",
      "Saved frame number : 0\n"
     ]
    },
    {
     "name": "stderr",
     "output_type": "stream",
     "text": [
      "\r",
      " 77%|█████████████████████████████████████████████████████████████▍                  | 375/488 [00:16<00:05, 22.02it/s]"
     ]
    },
    {
     "name": "stdout",
     "output_type": "stream",
     "text": [
      "Saved frame372.jpg\n",
      "Saved frame number : 0\n",
      "Saved frame373.jpg\n",
      "Saved frame number : 0\n",
      "Saved frame374.jpg\n",
      "Saved frame number : 0\n",
      "Saved frame375.jpg\n",
      "Saved frame number : 0\n",
      "Saved frame376.jpg\n"
     ]
    },
    {
     "name": "stderr",
     "output_type": "stream",
     "text": [
      " 78%|██████████████████████████████████████████████████████████████▍                 | 381/488 [00:16<00:04, 22.07it/s]"
     ]
    },
    {
     "name": "stdout",
     "output_type": "stream",
     "text": [
      "Saved frame number : 0\n",
      "Saved frame377.jpg\n",
      "Saved frame number : 0\n",
      "Saved frame378.jpg\n",
      "Saved frame number : 0\n",
      "Saved frame379.jpg\n",
      "Saved frame number : 0\n",
      "Saved frame380.jpg\n",
      "Saved frame number : 0\n"
     ]
    },
    {
     "name": "stderr",
     "output_type": "stream",
     "text": [
      "\r",
      " 79%|██████████████████████████████████████████████████████████████▉                 | 384/488 [00:16<00:04, 22.10it/s]"
     ]
    },
    {
     "name": "stdout",
     "output_type": "stream",
     "text": [
      "Saved frame381.jpg\n",
      "Saved frame number : 0\n",
      "Saved frame382.jpg\n",
      "Saved frame number : 0\n",
      "Saved frame383.jpg\n",
      "Saved frame number : 0\n",
      "Saved frame384.jpg\n",
      "Saved frame number : 0\n",
      "Saved frame385.jpg\n",
      "Saved frame number : 0\n"
     ]
    },
    {
     "name": "stderr",
     "output_type": "stream",
     "text": [
      " 80%|███████████████████████████████████████████████████████████████▉                | 390/488 [00:16<00:04, 22.91it/s]"
     ]
    },
    {
     "name": "stdout",
     "output_type": "stream",
     "text": [
      "Saved frame386.jpg\n",
      "Saved frame number : 0\n",
      "Saved frame387.jpg\n",
      "Saved frame number : 0\n",
      "Saved frame388.jpg\n",
      "Saved frame number : 0\n",
      "Saved frame389.jpg\n",
      "Saved frame number : 0\n",
      "Saved frame390.jpg\n",
      "Saved frame number : 0\n"
     ]
    },
    {
     "name": "stderr",
     "output_type": "stream",
     "text": [
      " 81%|████████████████████████████████████████████████████████████████▉               | 396/488 [00:17<00:03, 23.11it/s]"
     ]
    },
    {
     "name": "stdout",
     "output_type": "stream",
     "text": [
      "Saved frame391.jpg\n",
      "Saved frame number : 0\n",
      "Saved frame392.jpg\n",
      "Saved frame number : 0\n",
      "Saved frame393.jpg\n",
      "Saved frame number : 0\n",
      "Saved frame394.jpg\n",
      "Saved frame number : 0\n",
      "Saved frame395.jpg\n"
     ]
    },
    {
     "name": "stderr",
     "output_type": "stream",
     "text": [
      " 82%|█████████████████████████████████████████████████████████████████▉              | 402/488 [00:17<00:03, 25.21it/s]"
     ]
    },
    {
     "name": "stdout",
     "output_type": "stream",
     "text": [
      "Saved frame number : 0\n",
      "Saved frame396.jpg\n",
      "Saved frame number : 0\n",
      "Saved frame397.jpg\n",
      "Saved frame number : 0\n",
      "Saved frame398.jpg\n",
      "Saved frame number : 0\n",
      "Saved frame399.jpg\n",
      "Saved frame number : 0\n",
      "Saved frame400.jpg\n",
      "Saved frame number : 0\n",
      "Saved frame401.jpg\n"
     ]
    },
    {
     "name": "stderr",
     "output_type": "stream",
     "text": [
      " 84%|██████████████████████████████████████████████████████████████████▉             | 408/488 [00:17<00:03, 26.43it/s]"
     ]
    },
    {
     "name": "stdout",
     "output_type": "stream",
     "text": [
      "Saved frame number : 0\n",
      "Saved frame402.jpg\n",
      "Saved frame number : 0\n",
      "Saved frame403.jpg\n",
      "Saved frame number : 0\n",
      "Saved frame404.jpg\n",
      "Saved frame number : 0\n",
      "Saved frame405.jpg\n",
      "Saved frame number : 0\n",
      "Saved frame406.jpg\n",
      "Saved frame number : 0\n",
      "Saved frame407.jpg\n"
     ]
    },
    {
     "name": "stderr",
     "output_type": "stream",
     "text": [
      "\r",
      " 84%|███████████████████████████████████████████████████████████████████▍            | 411/488 [00:17<00:03, 24.55it/s]"
     ]
    },
    {
     "name": "stdout",
     "output_type": "stream",
     "text": [
      "Saved frame number : 0\n",
      "Saved frame408.jpg\n",
      "Saved frame number : 0\n",
      "Saved frame409.jpg\n",
      "Saved frame number : 0\n",
      "Saved frame410.jpg\n",
      "Saved frame number : 0\n",
      "Saved frame411.jpg\n",
      "Saved frame number : 0\n"
     ]
    },
    {
     "name": "stderr",
     "output_type": "stream",
     "text": [
      " 85%|████████████████████████████████████████████████████████████████████▎           | 417/488 [00:17<00:03, 23.45it/s]"
     ]
    },
    {
     "name": "stdout",
     "output_type": "stream",
     "text": [
      "Saved frame412.jpg\n",
      "Saved frame number : 0\n",
      "Saved frame413.jpg\n",
      "Saved frame number : 0\n",
      "Saved frame414.jpg\n",
      "Saved frame number : 0\n",
      "Saved frame415.jpg\n",
      "Saved frame number : 0\n",
      "Saved frame416.jpg\n",
      "Saved frame number : 0\n"
     ]
    },
    {
     "name": "stderr",
     "output_type": "stream",
     "text": [
      " 87%|█████████████████████████████████████████████████████████████████████▎          | 423/488 [00:18<00:02, 23.88it/s]"
     ]
    },
    {
     "name": "stdout",
     "output_type": "stream",
     "text": [
      "Saved frame417.jpg\n",
      "Saved frame number : 0\n",
      "Saved frame418.jpg\n",
      "Saved frame number : 0\n",
      "Saved frame419.jpg\n",
      "Saved frame number : 0\n",
      "Saved frame420.jpg\n",
      "Saved frame number : 0\n",
      "Saved frame421.jpg\n",
      "Saved frame number : 0\n",
      "Saved frame422.jpg\n"
     ]
    },
    {
     "name": "stderr",
     "output_type": "stream",
     "text": [
      "\r",
      " 87%|█████████████████████████████████████████████████████████████████████▊          | 426/488 [00:18<00:02, 24.60it/s]"
     ]
    },
    {
     "name": "stdout",
     "output_type": "stream",
     "text": [
      "Saved frame number : 0\n",
      "Saved frame423.jpg\n",
      "Saved frame number : 0\n",
      "Saved frame424.jpg\n",
      "Saved frame number : 0\n",
      "Saved frame425.jpg\n",
      "Saved frame number : 0\n",
      "Saved frame426.jpg\n",
      "Saved frame number : 0\n",
      "Saved frame427.jpg\n",
      "Saved frame number : 0\n"
     ]
    },
    {
     "name": "stderr",
     "output_type": "stream",
     "text": [
      " 89%|██████████████████████████████████████████████████████████████████████▊         | 432/488 [00:18<00:02, 25.30it/s]"
     ]
    },
    {
     "name": "stdout",
     "output_type": "stream",
     "text": [
      "Saved frame428.jpg\n",
      "Saved frame number : 0\n",
      "Saved frame429.jpg\n",
      "Saved frame number : 0\n",
      "Saved frame430.jpg\n",
      "Saved frame number : 0\n",
      "Saved frame431.jpg\n",
      "Saved frame number : 0\n",
      "Saved frame432.jpg\n",
      "Saved frame number : 0\n"
     ]
    },
    {
     "name": "stderr",
     "output_type": "stream",
     "text": [
      " 90%|███████████████████████████████████████████████████████████████████████▊        | 438/488 [00:18<00:01, 25.65it/s]"
     ]
    },
    {
     "name": "stdout",
     "output_type": "stream",
     "text": [
      "Saved frame433.jpg\n",
      "Saved frame number : 0\n",
      "Saved frame434.jpg\n",
      "Saved frame number : 0\n",
      "Saved frame435.jpg\n",
      "Saved frame number : 0\n",
      "Saved frame436.jpg\n",
      "Saved frame number : 0\n",
      "Saved frame437.jpg\n",
      "Saved frame number : 0\n",
      "Saved frame438.jpg\n"
     ]
    },
    {
     "name": "stderr",
     "output_type": "stream",
     "text": [
      " 91%|████████████████████████████████████████████████████████████████████████▊       | 444/488 [00:18<00:01, 25.57it/s]"
     ]
    },
    {
     "name": "stdout",
     "output_type": "stream",
     "text": [
      "Saved frame number : 0\n",
      "Saved frame439.jpg\n",
      "Saved frame number : 0\n",
      "Saved frame440.jpg\n",
      "Saved frame number : 0\n",
      "Saved frame441.jpg\n",
      "Saved frame number : 0\n",
      "Saved frame442.jpg\n",
      "Saved frame number : 0\n",
      "Saved frame443.jpg\n",
      "Saved frame number : 0\n"
     ]
    },
    {
     "name": "stderr",
     "output_type": "stream",
     "text": [
      "\r",
      " 92%|█████████████████████████████████████████████████████████████████████████▎      | 447/488 [00:19<00:01, 24.92it/s]"
     ]
    },
    {
     "name": "stdout",
     "output_type": "stream",
     "text": [
      "Saved frame444.jpg\n",
      "Saved frame number : 0\n",
      "Saved frame445.jpg\n",
      "Saved frame number : 0\n",
      "Saved frame446.jpg\n",
      "Saved frame number : 0\n",
      "Saved frame447.jpg\n",
      "Saved frame number : 0\n",
      "Saved frame448.jpg\n",
      "Saved frame number : 0\n"
     ]
    },
    {
     "name": "stderr",
     "output_type": "stream",
     "text": [
      " 93%|██████████████████████████████████████████████████████████████████████████▎     | 453/488 [00:19<00:01, 24.30it/s]"
     ]
    },
    {
     "name": "stdout",
     "output_type": "stream",
     "text": [
      "Saved frame449.jpg\n",
      "Saved frame number : 0\n",
      "Saved frame450.jpg\n",
      "Saved frame number : 0\n",
      "Saved frame451.jpg\n",
      "Saved frame number : 0\n",
      "Saved frame452.jpg\n",
      "Saved frame number : 0\n",
      "Saved frame453.jpg\n",
      "Saved frame number : 0\n"
     ]
    },
    {
     "name": "stderr",
     "output_type": "stream",
     "text": [
      " 94%|███████████████████████████████████████████████████████████████████████████▏    | 459/488 [00:19<00:01, 22.64it/s]"
     ]
    },
    {
     "name": "stdout",
     "output_type": "stream",
     "text": [
      "Saved frame454.jpg\n",
      "Saved frame number : 0\n",
      "Saved frame455.jpg\n",
      "Saved frame number : 0\n",
      "Saved frame456.jpg\n",
      "Saved frame number : 0\n",
      "Saved frame457.jpg\n",
      "Saved frame number : 0\n",
      "Saved frame458.jpg\n"
     ]
    },
    {
     "name": "stderr",
     "output_type": "stream",
     "text": [
      "\r",
      " 95%|███████████████████████████████████████████████████████████████████████████▋    | 462/488 [00:19<00:01, 22.04it/s]"
     ]
    },
    {
     "name": "stdout",
     "output_type": "stream",
     "text": [
      "Saved frame number : 0\n",
      "Saved frame459.jpg\n",
      "Saved frame number : 0\n",
      "Saved frame460.jpg\n",
      "Saved frame number : 0\n",
      "Saved frame461.jpg\n",
      "Saved frame number : 0\n",
      "Saved frame462.jpg\n",
      "Saved frame number : 0\n"
     ]
    },
    {
     "name": "stderr",
     "output_type": "stream",
     "text": [
      " 96%|████████████████████████████████████████████████████████████████████████████▋   | 468/488 [00:20<00:00, 21.44it/s]"
     ]
    },
    {
     "name": "stdout",
     "output_type": "stream",
     "text": [
      "Saved frame463.jpg\n",
      "Saved frame number : 0\n",
      "Saved frame464.jpg\n",
      "Saved frame number : 0\n",
      "Saved frame465.jpg\n",
      "Saved frame number : 0\n",
      "Saved frame466.jpg\n",
      "Saved frame number : 0\n",
      "Saved frame467.jpg\n"
     ]
    },
    {
     "name": "stderr",
     "output_type": "stream",
     "text": [
      "\r",
      " 97%|█████████████████████████████████████████████████████████████████████████████▏  | 471/488 [00:20<00:00, 21.55it/s]"
     ]
    },
    {
     "name": "stdout",
     "output_type": "stream",
     "text": [
      "Saved frame number : 0\n",
      "Saved frame468.jpg\n",
      "Saved frame number : 0\n",
      "Saved frame469.jpg\n",
      "Saved frame number : 0\n",
      "Saved frame470.jpg\n",
      "Saved frame number : 0\n",
      "Saved frame471.jpg\n",
      "Saved frame number : 0\n"
     ]
    },
    {
     "name": "stderr",
     "output_type": "stream",
     "text": [
      " 98%|██████████████████████████████████████████████████████████████████████████████▏ | 477/488 [00:20<00:00, 21.21it/s]"
     ]
    },
    {
     "name": "stdout",
     "output_type": "stream",
     "text": [
      "Saved frame472.jpg\n",
      "Saved frame number : 0\n",
      "Saved frame473.jpg\n",
      "Saved frame number : 0\n",
      "Saved frame474.jpg\n",
      "Saved frame number : 0\n",
      "Saved frame475.jpg\n",
      "Saved frame number : 0\n",
      "Saved frame476.jpg\n"
     ]
    },
    {
     "name": "stderr",
     "output_type": "stream",
     "text": [
      "\r",
      " 98%|██████████████████████████████████████████████████████████████████████████████▋ | 480/488 [00:20<00:00, 21.71it/s]"
     ]
    },
    {
     "name": "stdout",
     "output_type": "stream",
     "text": [
      "Saved frame number : 0\n",
      "Saved frame477.jpg\n",
      "Saved frame number : 0\n",
      "Saved frame478.jpg\n",
      "Saved frame number : 0\n",
      "Saved frame479.jpg\n",
      "Saved frame number : 0\n",
      "Saved frame480.jpg\n",
      "Saved frame number : 0\n",
      "Saved frame481.jpg\n",
      "Saved frame number : 0\n"
     ]
    },
    {
     "name": "stderr",
     "output_type": "stream",
     "text": [
      "100%|███████████████████████████████████████████████████████████████████████████████▋| 486/488 [00:20<00:00, 21.88it/s]"
     ]
    },
    {
     "name": "stdout",
     "output_type": "stream",
     "text": [
      "Saved frame482.jpg\n",
      "Saved frame number : 0\n",
      "Saved frame483.jpg\n",
      "Saved frame number : 0\n",
      "Saved frame484.jpg\n",
      "Saved frame number : 0\n",
      "Saved frame485.jpg\n",
      "Saved frame number : 0\n",
      "Saved frame486.jpg\n"
     ]
    },
    {
     "name": "stderr",
     "output_type": "stream",
     "text": [
      "100%|████████████████████████████████████████████████████████████████████████████████| 488/488 [00:20<00:00, 23.31it/s]\n"
     ]
    },
    {
     "name": "stdout",
     "output_type": "stream",
     "text": [
      "Saved frame number : 0\n",
      "Saved frame487.jpg\n",
      "Iterating: 1 folder\n"
     ]
    },
    {
     "name": "stderr",
     "output_type": "stream",
     "text": [
      "  1%|▌                                                                                 | 3/492 [00:00<00:19, 25.71it/s]"
     ]
    },
    {
     "name": "stdout",
     "output_type": "stream",
     "text": [
      "Saved frame number : 0\n",
      "Saved frame488.jpg\n",
      "Saved frame number : 0\n",
      "Saved frame489.jpg\n",
      "Saved frame number : 0\n",
      "Saved frame490.jpg\n",
      "Saved frame number : 0\n",
      "Saved frame491.jpg\n",
      "Saved frame number : 0\n",
      "Saved frame492.jpg\n",
      "Saved frame number : 0\n"
     ]
    },
    {
     "name": "stderr",
     "output_type": "stream",
     "text": [
      "  2%|█▌                                                                                | 9/492 [00:00<00:19, 25.21it/s]"
     ]
    },
    {
     "name": "stdout",
     "output_type": "stream",
     "text": [
      "Saved frame493.jpg\n",
      "Saved frame number : 0\n",
      "Saved frame494.jpg\n",
      "Saved frame number : 0\n",
      "Saved frame495.jpg\n",
      "Saved frame number : 0\n",
      "Saved frame496.jpg\n",
      "Saved frame number : 0\n",
      "Saved frame497.jpg\n",
      "Saved frame number : 0\n"
     ]
    },
    {
     "name": "stderr",
     "output_type": "stream",
     "text": [
      "  3%|██▍                                                                              | 15/492 [00:00<00:19, 25.01it/s]"
     ]
    },
    {
     "name": "stdout",
     "output_type": "stream",
     "text": [
      "Saved frame498.jpg\n",
      "Saved frame number : 0\n",
      "Saved frame499.jpg\n",
      "Saved frame number : 0\n",
      "Saved frame500.jpg\n",
      "Saved frame number : 0\n",
      "Saved frame501.jpg\n",
      "Saved frame number : 0\n",
      "Saved frame502.jpg\n",
      "Saved frame number : 0\n"
     ]
    },
    {
     "name": "stderr",
     "output_type": "stream",
     "text": [
      "\r",
      "  4%|██▉                                                                              | 18/492 [00:00<00:18, 25.46it/s]"
     ]
    },
    {
     "name": "stdout",
     "output_type": "stream",
     "text": [
      "Saved frame503.jpg\n",
      "Saved frame number : 0\n",
      "Saved frame504.jpg\n",
      "Saved frame number : 0\n",
      "Saved frame505.jpg\n",
      "Saved frame number : 0\n",
      "Saved frame506.jpg\n",
      "Saved frame number : 0\n",
      "Saved frame507.jpg\n",
      "Saved frame number : 0\n"
     ]
    },
    {
     "name": "stderr",
     "output_type": "stream",
     "text": [
      "\r",
      "  4%|███▍                                                                             | 21/492 [00:00<00:18, 25.97it/s]"
     ]
    },
    {
     "name": "stdout",
     "output_type": "stream",
     "text": [
      "Saved frame508.jpg\n"
     ]
    },
    {
     "name": "stderr",
     "output_type": "stream",
     "text": [
      "\r",
      "  5%|███▉                                                                             | 24/492 [00:00<00:18, 25.68it/s]"
     ]
    },
    {
     "name": "stdout",
     "output_type": "stream",
     "text": [
      "Saved frame number : 0\n",
      "Saved frame509.jpg\n",
      "Saved frame number : 0\n",
      "Saved frame510.jpg\n",
      "Saved frame number : 0\n",
      "Saved frame511.jpg\n",
      "Saved frame number : 0\n",
      "Saved frame512.jpg\n",
      "Saved frame number : 0\n",
      "Saved frame513.jpg\n",
      "Saved frame number : 0\n"
     ]
    },
    {
     "name": "stderr",
     "output_type": "stream",
     "text": [
      "  6%|████▉                                                                            | 30/492 [00:01<00:17, 25.69it/s]"
     ]
    },
    {
     "name": "stdout",
     "output_type": "stream",
     "text": [
      "Saved frame514.jpg\n",
      "Saved frame number : 0\n",
      "Saved frame515.jpg\n",
      "Saved frame number : 0\n",
      "Saved frame516.jpg\n",
      "Saved frame number : 0\n",
      "Saved frame517.jpg\n",
      "Saved frame number : 0\n",
      "Saved frame518.jpg\n",
      "Saved frame number : 0\n"
     ]
    },
    {
     "name": "stderr",
     "output_type": "stream",
     "text": [
      "  7%|█████▉                                                                           | 36/492 [00:01<00:17, 25.54it/s]"
     ]
    },
    {
     "name": "stdout",
     "output_type": "stream",
     "text": [
      "Saved frame519.jpg\n",
      "Saved frame number : 0\n",
      "Saved frame520.jpg\n",
      "Saved frame number : 0\n",
      "Saved frame521.jpg\n",
      "Saved frame number : 0\n",
      "Saved frame522.jpg\n",
      "Saved frame number : 0\n",
      "Saved frame523.jpg\n",
      "Saved frame number : 0\n",
      "Saved frame524.jpg\n"
     ]
    },
    {
     "name": "stderr",
     "output_type": "stream",
     "text": [
      "  9%|██████▉                                                                          | 42/492 [00:01<00:18, 24.71it/s]"
     ]
    },
    {
     "name": "stdout",
     "output_type": "stream",
     "text": [
      "Saved frame number : 0\n",
      "Saved frame525.jpg\n",
      "Saved frame number : 0\n",
      "Saved frame526.jpg\n",
      "Saved frame number : 0\n",
      "Saved frame527.jpg\n",
      "Saved frame number : 0\n",
      "Saved frame528.jpg\n",
      "Saved frame number : 0\n",
      "Saved frame529.jpg\n"
     ]
    },
    {
     "name": "stderr",
     "output_type": "stream",
     "text": [
      "\r",
      "  9%|███████▍                                                                         | 45/492 [00:01<00:17, 25.19it/s]"
     ]
    },
    {
     "name": "stdout",
     "output_type": "stream",
     "text": [
      "Saved frame number : 0\n",
      "Saved frame530.jpg\n",
      "Saved frame number : 0\n",
      "Saved frame531.jpg\n",
      "Saved frame number : 0\n",
      "Saved frame532.jpg\n",
      "Saved frame number : 0\n",
      "Saved frame533.jpg\n",
      "Saved frame number : 0\n",
      "Saved frame534.jpg\n",
      "Saved frame number : 0\n"
     ]
    },
    {
     "name": "stderr",
     "output_type": "stream",
     "text": [
      " 10%|████████▍                                                                        | 51/492 [00:02<00:17, 25.84it/s]"
     ]
    },
    {
     "name": "stdout",
     "output_type": "stream",
     "text": [
      "Saved frame535.jpg\n",
      "Saved frame number : 0\n",
      "Saved frame536.jpg\n",
      "Saved frame number : 0\n",
      "Saved frame537.jpg\n",
      "Saved frame number : 0\n",
      "Saved frame538.jpg\n",
      "Saved frame number : 0\n",
      "Saved frame539.jpg\n",
      "Saved frame number : 0\n",
      "Saved frame540.jpg\n"
     ]
    },
    {
     "name": "stderr",
     "output_type": "stream",
     "text": [
      " 12%|█████████▍                                                                       | 57/492 [00:02<00:16, 25.75it/s]"
     ]
    },
    {
     "name": "stdout",
     "output_type": "stream",
     "text": [
      "Saved frame number : 0\n",
      "Saved frame541.jpg\n",
      "Saved frame number : 0\n",
      "Saved frame542.jpg\n",
      "Saved frame number : 0\n",
      "Saved frame543.jpg\n",
      "Saved frame number : 0\n",
      "Saved frame544.jpg\n",
      "Saved frame number : 0\n",
      "Saved frame545.jpg\n",
      "Saved frame number : 0\n"
     ]
    },
    {
     "name": "stderr",
     "output_type": "stream",
     "text": [
      " 13%|██████████▎                                                                      | 63/492 [00:02<00:16, 25.45it/s]"
     ]
    },
    {
     "name": "stdout",
     "output_type": "stream",
     "text": [
      "Saved frame546.jpg\n",
      "Saved frame number : 0\n",
      "Saved frame547.jpg\n",
      "Saved frame number : 0\n",
      "Saved frame548.jpg\n",
      "Saved frame number : 0\n",
      "Saved frame549.jpg\n",
      "Saved frame number : 0\n",
      "Saved frame550.jpg\n",
      "Saved frame number : 0\n"
     ]
    },
    {
     "name": "stderr",
     "output_type": "stream",
     "text": [
      "\r",
      " 13%|██████████▊                                                                      | 66/492 [00:02<00:17, 24.96it/s]"
     ]
    },
    {
     "name": "stdout",
     "output_type": "stream",
     "text": [
      "Saved frame551.jpg\n",
      "Saved frame number : 0\n",
      "Saved frame552.jpg\n",
      "Saved frame number : 0\n",
      "Saved frame553.jpg\n",
      "Saved frame number : 0\n",
      "Saved frame554.jpg\n",
      "Saved frame number : 0\n",
      "Saved frame555.jpg\n",
      "Saved frame number : 0\n"
     ]
    },
    {
     "name": "stderr",
     "output_type": "stream",
     "text": [
      " 15%|███████████▊                                                                     | 72/492 [00:02<00:17, 24.65it/s]"
     ]
    },
    {
     "name": "stdout",
     "output_type": "stream",
     "text": [
      "Saved frame556.jpg\n",
      "Saved frame number : 0\n",
      "Saved frame557.jpg\n",
      "Saved frame number : 0\n",
      "Saved frame558.jpg\n",
      "Saved frame number : 0\n",
      "Saved frame559.jpg\n",
      "Saved frame number : 0\n",
      "Saved frame560.jpg\n",
      "Saved frame number : 0\n",
      "Saved frame561.jpg\n"
     ]
    },
    {
     "name": "stderr",
     "output_type": "stream",
     "text": [
      " 16%|████████████▊                                                                    | 78/492 [00:03<00:16, 25.35it/s]"
     ]
    },
    {
     "name": "stdout",
     "output_type": "stream",
     "text": [
      "Saved frame number : 0\n",
      "Saved frame562.jpg\n",
      "Saved frame number : 0\n",
      "Saved frame563.jpg\n",
      "Saved frame number : 0\n",
      "Saved frame564.jpg\n",
      "Saved frame number : 0\n",
      "Saved frame565.jpg\n",
      "Saved frame number : 0\n",
      "Saved frame566.jpg\n",
      "Saved frame number : 0\n"
     ]
    },
    {
     "name": "stderr",
     "output_type": "stream",
     "text": [
      " 17%|█████████████▊                                                                   | 84/492 [00:03<00:15, 26.02it/s]"
     ]
    },
    {
     "name": "stdout",
     "output_type": "stream",
     "text": [
      "Saved frame567.jpg\n",
      "Saved frame number : 0\n",
      "Saved frame568.jpg\n",
      "Saved frame number : 0\n",
      "Saved frame569.jpg\n",
      "Saved frame number : 0\n",
      "Saved frame570.jpg\n",
      "Saved frame number : 0\n",
      "Saved frame571.jpg\n",
      "Saved frame number : 0\n",
      "Saved frame572.jpg\n"
     ]
    },
    {
     "name": "stderr",
     "output_type": "stream",
     "text": [
      " 18%|██████████████▊                                                                  | 90/492 [00:03<00:15, 26.63it/s]"
     ]
    },
    {
     "name": "stdout",
     "output_type": "stream",
     "text": [
      "Saved frame number : 0\n",
      "Saved frame573.jpg\n",
      "Saved frame number : 0\n",
      "Saved frame574.jpg\n",
      "Saved frame number : 0\n",
      "Saved frame575.jpg\n",
      "Saved frame number : 0\n",
      "Saved frame576.jpg\n",
      "Saved frame number : 0\n",
      "Saved frame577.jpg\n",
      "Saved frame number : 0\n"
     ]
    },
    {
     "name": "stderr",
     "output_type": "stream",
     "text": [
      " 20%|███████████████▊                                                                 | 96/492 [00:03<00:14, 26.55it/s]"
     ]
    },
    {
     "name": "stdout",
     "output_type": "stream",
     "text": [
      "Saved frame578.jpg\n",
      "Saved frame number : 0\n",
      "Saved frame579.jpg\n",
      "Saved frame number : 0\n",
      "Saved frame580.jpg\n",
      "Saved frame number : 0\n",
      "Saved frame581.jpg\n",
      "Saved frame number : 0\n",
      "Saved frame582.jpg\n",
      "Saved frame number : 0\n",
      "Saved frame583.jpg\n"
     ]
    },
    {
     "name": "stderr",
     "output_type": "stream",
     "text": [
      " 21%|████████████████▌                                                               | 102/492 [00:03<00:14, 26.72it/s]"
     ]
    },
    {
     "name": "stdout",
     "output_type": "stream",
     "text": [
      "Saved frame number : 0\n",
      "Saved frame584.jpg\n",
      "Saved frame number : 0\n",
      "Saved frame585.jpg\n",
      "Saved frame number : 0\n",
      "Saved frame586.jpg\n",
      "Saved frame number : 0\n",
      "Saved frame587.jpg\n",
      "Saved frame number : 0\n",
      "Saved frame588.jpg\n",
      "Saved frame number : 0\n",
      "Saved frame589.jpg\n"
     ]
    },
    {
     "name": "stderr",
     "output_type": "stream",
     "text": [
      " 22%|█████████████████▌                                                              | 108/492 [00:04<00:14, 27.40it/s]"
     ]
    },
    {
     "name": "stdout",
     "output_type": "stream",
     "text": [
      "Saved frame number : 0\n",
      "Saved frame590.jpg\n",
      "Saved frame number : 0\n",
      "Saved frame591.jpg\n",
      "Saved frame number : 0\n",
      "Saved frame592.jpg\n",
      "Saved frame number : 0\n",
      "Saved frame593.jpg\n",
      "Saved frame number : 0\n",
      "Saved frame594.jpg\n",
      "Saved frame number : 0\n",
      "Saved frame595.jpg\n"
     ]
    },
    {
     "name": "stderr",
     "output_type": "stream",
     "text": [
      " 23%|██████████████████▌                                                             | 114/492 [00:04<00:13, 27.16it/s]"
     ]
    },
    {
     "name": "stdout",
     "output_type": "stream",
     "text": [
      "Saved frame number : 0\n",
      "Saved frame596.jpg\n",
      "Saved frame number : 0\n",
      "Saved frame597.jpg\n",
      "Saved frame number : 0\n",
      "Saved frame598.jpg\n",
      "Saved frame number : 0\n",
      "Saved frame599.jpg\n",
      "Saved frame number : 0\n",
      "Saved frame600.jpg\n",
      "Saved frame number : 0\n",
      "Saved frame601.jpg\n"
     ]
    },
    {
     "name": "stderr",
     "output_type": "stream",
     "text": [
      "\r",
      " 24%|███████████████████                                                             | 117/492 [00:04<00:13, 26.99it/s]"
     ]
    },
    {
     "name": "stdout",
     "output_type": "stream",
     "text": [
      "Saved frame number : 0\n",
      "Saved frame602.jpg\n",
      "Saved frame number : 0\n",
      "Saved frame603.jpg\n",
      "Saved frame number : 0\n",
      "Saved frame604.jpg\n",
      "Saved frame number : 0\n",
      "Saved frame605.jpg\n",
      "Saved frame number : 0\n",
      "Saved frame606.jpg\n"
     ]
    },
    {
     "name": "stderr",
     "output_type": "stream",
     "text": [
      " 25%|████████████████████                                                            | 123/492 [00:04<00:14, 25.72it/s]"
     ]
    },
    {
     "name": "stdout",
     "output_type": "stream",
     "text": [
      "Saved frame number : 0\n",
      "Saved frame607.jpg\n",
      "Saved frame number : 0\n",
      "Saved frame608.jpg\n",
      "Saved frame number : 0\n",
      "Saved frame609.jpg\n",
      "Saved frame number : 0\n",
      "Saved frame610.jpg\n",
      "Saved frame number : 0\n",
      "Saved frame611.jpg\n",
      "Saved frame number : 0\n"
     ]
    },
    {
     "name": "stderr",
     "output_type": "stream",
     "text": [
      " 26%|████████████████████▉                                                           | 129/492 [00:05<00:14, 24.98it/s]"
     ]
    },
    {
     "name": "stdout",
     "output_type": "stream",
     "text": [
      "Saved frame612.jpg\n",
      "Saved frame number : 0\n",
      "Saved frame613.jpg\n",
      "Saved frame number : 0\n",
      "Saved frame614.jpg\n",
      "Saved frame number : 0\n",
      "Saved frame615.jpg\n",
      "Saved frame number : 0\n",
      "Saved frame616.jpg\n",
      "Saved frame number : 0\n"
     ]
    },
    {
     "name": "stderr",
     "output_type": "stream",
     "text": [
      "\r",
      " 27%|█████████████████████▍                                                          | 132/492 [00:05<00:14, 24.76it/s]"
     ]
    },
    {
     "name": "stdout",
     "output_type": "stream",
     "text": [
      "Saved frame617.jpg\n",
      "Saved frame number : 0\n",
      "Saved frame618.jpg\n",
      "Saved frame number : 0\n",
      "Saved frame619.jpg\n",
      "Saved frame number : 0\n",
      "Saved frame620.jpg\n",
      "Saved frame number : 0\n",
      "Saved frame621.jpg\n",
      "Saved frame number : 0\n"
     ]
    },
    {
     "name": "stderr",
     "output_type": "stream",
     "text": [
      " 28%|██████████████████████▍                                                         | 138/492 [00:05<00:14, 24.73it/s]"
     ]
    },
    {
     "name": "stdout",
     "output_type": "stream",
     "text": [
      "Saved frame622.jpg\n",
      "Saved frame number : 0\n",
      "Saved frame623.jpg\n",
      "Saved frame number : 0\n",
      "Saved frame624.jpg\n",
      "Saved frame number : 0\n",
      "Saved frame625.jpg\n",
      "Saved frame number : 0\n",
      "Saved frame626.jpg\n",
      "Saved frame number : 0\n"
     ]
    },
    {
     "name": "stderr",
     "output_type": "stream",
     "text": [
      " 29%|███████████████████████▍                                                        | 144/492 [00:05<00:14, 24.75it/s]"
     ]
    },
    {
     "name": "stdout",
     "output_type": "stream",
     "text": [
      "Saved frame627.jpg\n",
      "Saved frame number : 0\n",
      "Saved frame628.jpg\n",
      "Saved frame number : 0\n",
      "Saved frame629.jpg\n",
      "Saved frame number : 0\n",
      "Saved frame630.jpg\n",
      "Saved frame number : 0\n",
      "Saved frame631.jpg\n",
      "Saved frame number : 0\n",
      "Saved frame632.jpg\n"
     ]
    },
    {
     "name": "stderr",
     "output_type": "stream",
     "text": [
      " 30%|████████████████████████▍                                                       | 150/492 [00:05<00:13, 25.87it/s]"
     ]
    },
    {
     "name": "stdout",
     "output_type": "stream",
     "text": [
      "Saved frame number : 0\n",
      "Saved frame633.jpg\n",
      "Saved frame number : 0\n",
      "Saved frame634.jpg\n",
      "Saved frame number : 0\n",
      "Saved frame635.jpg\n",
      "Saved frame number : 0\n",
      "Saved frame636.jpg\n",
      "Saved frame number : 0\n",
      "Saved frame637.jpg\n",
      "Saved frame number : 0\n",
      "Saved frame638.jpg\n"
     ]
    },
    {
     "name": "stderr",
     "output_type": "stream",
     "text": [
      " 32%|█████████████████████████▎                                                      | 156/492 [00:06<00:12, 26.68it/s]"
     ]
    },
    {
     "name": "stdout",
     "output_type": "stream",
     "text": [
      "Saved frame number : 0\n",
      "Saved frame639.jpg\n",
      "Saved frame number : 0\n",
      "Saved frame640.jpg\n",
      "Saved frame number : 0\n",
      "Saved frame641.jpg\n",
      "Saved frame number : 0\n",
      "Saved frame642.jpg\n",
      "Saved frame number : 0\n",
      "Saved frame643.jpg\n",
      "Saved frame number : 0\n"
     ]
    },
    {
     "name": "stderr",
     "output_type": "stream",
     "text": [
      " 33%|██████████████████████████▎                                                     | 162/492 [00:06<00:12, 26.16it/s]"
     ]
    },
    {
     "name": "stdout",
     "output_type": "stream",
     "text": [
      "Saved frame644.jpg\n",
      "Saved frame number : 0\n",
      "Saved frame645.jpg\n",
      "Saved frame number : 0\n",
      "Saved frame646.jpg\n",
      "Saved frame number : 0\n",
      "Saved frame647.jpg\n",
      "Saved frame number : 0\n",
      "Saved frame648.jpg\n",
      "Saved frame number : 0\n",
      "Saved frame649.jpg\n"
     ]
    },
    {
     "name": "stderr",
     "output_type": "stream",
     "text": [
      "\r",
      " 34%|██████████████████████████▊                                                     | 165/492 [00:06<00:12, 25.82it/s]"
     ]
    },
    {
     "name": "stdout",
     "output_type": "stream",
     "text": [
      "Saved frame number : 0\n",
      "Saved frame650.jpg\n",
      "Saved frame number : 0\n",
      "Saved frame651.jpg\n",
      "Saved frame number : 0\n",
      "Saved frame652.jpg\n",
      "Saved frame number : 0\n",
      "Saved frame653.jpg\n",
      "Saved frame number : 0\n",
      "Saved frame654.jpg\n"
     ]
    },
    {
     "name": "stderr",
     "output_type": "stream",
     "text": [
      " 35%|███████████████████████████▊                                                    | 171/492 [00:06<00:12, 25.60it/s]"
     ]
    },
    {
     "name": "stdout",
     "output_type": "stream",
     "text": [
      "Saved frame number : 0\n",
      "Saved frame655.jpg\n",
      "Saved frame number : 0\n",
      "Saved frame656.jpg\n",
      "Saved frame number : 0\n",
      "Saved frame657.jpg\n",
      "Saved frame number : 0\n",
      "Saved frame658.jpg\n",
      "Saved frame number : 0\n",
      "Saved frame659.jpg\n"
     ]
    },
    {
     "name": "stderr",
     "output_type": "stream",
     "text": [
      " 36%|████████████████████████████▊                                                   | 177/492 [00:06<00:12, 25.22it/s]"
     ]
    },
    {
     "name": "stdout",
     "output_type": "stream",
     "text": [
      "Saved frame number : 0\n",
      "Saved frame660.jpg\n",
      "Saved frame number : 0\n",
      "Saved frame661.jpg\n",
      "Saved frame number : 0\n",
      "Saved frame662.jpg\n",
      "Saved frame number : 0\n",
      "Saved frame663.jpg\n",
      "Saved frame number : 0\n",
      "Saved frame664.jpg\n",
      "Saved frame number : 0\n"
     ]
    },
    {
     "name": "stderr",
     "output_type": "stream",
     "text": [
      "\r",
      " 37%|█████████████████████████████▎                                                  | 180/492 [00:07<00:12, 25.14it/s]"
     ]
    },
    {
     "name": "stdout",
     "output_type": "stream",
     "text": [
      "Saved frame665.jpg\n",
      "Saved frame number : 0\n",
      "Saved frame666.jpg\n",
      "Saved frame number : 0\n",
      "Saved frame667.jpg\n",
      "Saved frame number : 0\n",
      "Saved frame668.jpg\n",
      "Saved frame number : 0\n",
      "Saved frame669.jpg\n",
      "Saved frame number : 0\n"
     ]
    },
    {
     "name": "stderr",
     "output_type": "stream",
     "text": [
      " 38%|██████████████████████████████▏                                                 | 186/492 [00:07<00:12, 24.62it/s]"
     ]
    },
    {
     "name": "stdout",
     "output_type": "stream",
     "text": [
      "Saved frame670.jpg\n",
      "Saved frame number : 0\n",
      "Saved frame671.jpg\n",
      "Saved frame number : 0\n",
      "Saved frame672.jpg\n",
      "Saved frame number : 0\n",
      "Saved frame673.jpg\n",
      "Saved frame number : 0\n",
      "Saved frame674.jpg\n",
      "Saved frame number : 0\n"
     ]
    },
    {
     "name": "stderr",
     "output_type": "stream",
     "text": [
      " 39%|███████████████████████████████▏                                                | 192/492 [00:07<00:12, 24.23it/s]"
     ]
    },
    {
     "name": "stdout",
     "output_type": "stream",
     "text": [
      "Saved frame675.jpg\n",
      "Saved frame number : 0\n",
      "Saved frame676.jpg\n",
      "Saved frame number : 0\n",
      "Saved frame677.jpg\n",
      "Saved frame number : 0\n",
      "Saved frame678.jpg\n",
      "Saved frame number : 0\n",
      "Saved frame679.jpg\n",
      "Saved frame number : 0\n"
     ]
    },
    {
     "name": "stderr",
     "output_type": "stream",
     "text": [
      "\r",
      " 40%|███████████████████████████████▋                                                | 195/492 [00:07<00:12, 24.13it/s]"
     ]
    },
    {
     "name": "stdout",
     "output_type": "stream",
     "text": [
      "Saved frame680.jpg\n",
      "Saved frame number : 0\n",
      "Saved frame681.jpg\n",
      "Saved frame number : 0\n",
      "Saved frame682.jpg\n",
      "Saved frame number : 0\n",
      "Saved frame683.jpg\n",
      "Saved frame number : 0\n",
      "Saved frame684.jpg\n",
      "Saved frame number : 0\n"
     ]
    },
    {
     "name": "stderr",
     "output_type": "stream",
     "text": [
      " 41%|████████████████████████████████▋                                               | 201/492 [00:07<00:12, 23.59it/s]"
     ]
    },
    {
     "name": "stdout",
     "output_type": "stream",
     "text": [
      "Saved frame685.jpg\n",
      "Saved frame number : 0\n",
      "Saved frame686.jpg\n",
      "Saved frame number : 0\n",
      "Saved frame687.jpg\n",
      "Saved frame number : 0\n",
      "Saved frame688.jpg\n",
      "Saved frame number : 0\n",
      "Saved frame689.jpg\n",
      "Saved frame number : 0\n"
     ]
    },
    {
     "name": "stderr",
     "output_type": "stream",
     "text": [
      " 42%|█████████████████████████████████▋                                              | 207/492 [00:08<00:12, 23.34it/s]"
     ]
    },
    {
     "name": "stdout",
     "output_type": "stream",
     "text": [
      "Saved frame690.jpg\n",
      "Saved frame number : 0\n",
      "Saved frame691.jpg\n",
      "Saved frame number : 0\n",
      "Saved frame692.jpg\n",
      "Saved frame number : 0\n",
      "Saved frame693.jpg\n",
      "Saved frame number : 0\n",
      "Saved frame694.jpg\n",
      "Saved frame number : 0\n"
     ]
    },
    {
     "name": "stderr",
     "output_type": "stream",
     "text": [
      " 43%|██████████████████████████████████▋                                             | 213/492 [00:08<00:11, 24.32it/s]"
     ]
    },
    {
     "name": "stdout",
     "output_type": "stream",
     "text": [
      "Saved frame695.jpg\n",
      "Saved frame number : 0\n",
      "Saved frame696.jpg\n",
      "Saved frame number : 0\n",
      "Saved frame697.jpg\n",
      "Saved frame number : 0\n",
      "Saved frame698.jpg\n",
      "Saved frame number : 0\n",
      "Saved frame699.jpg\n",
      "Saved frame number : 0\n",
      "Saved frame700.jpg\n"
     ]
    },
    {
     "name": "stderr",
     "output_type": "stream",
     "text": [
      "\r",
      " 44%|███████████████████████████████████                                             | 216/492 [00:08<00:11, 24.54it/s]"
     ]
    },
    {
     "name": "stdout",
     "output_type": "stream",
     "text": [
      "Saved frame number : 0\n",
      "Saved frame701.jpg\n",
      "Saved frame number : 0\n",
      "Saved frame702.jpg\n",
      "Saved frame number : 0\n",
      "Saved frame703.jpg\n",
      "Saved frame number : 0\n",
      "Saved frame704.jpg\n",
      "Saved frame number : 0\n",
      "Saved frame705.jpg\n",
      "Saved frame number : 0\n"
     ]
    },
    {
     "name": "stderr",
     "output_type": "stream",
     "text": [
      " 45%|████████████████████████████████████                                            | 222/492 [00:08<00:10, 26.15it/s]"
     ]
    },
    {
     "name": "stdout",
     "output_type": "stream",
     "text": [
      "Saved frame706.jpg\n",
      "Saved frame number : 0\n",
      "Saved frame707.jpg\n",
      "Saved frame number : 0\n",
      "Saved frame708.jpg\n",
      "Saved frame number : 0\n",
      "Saved frame709.jpg\n",
      "Saved frame number : 0\n",
      "Saved frame710.jpg\n",
      "Saved frame number : 0\n",
      "Saved frame711.jpg\n",
      "Saved frame number : 0\n"
     ]
    },
    {
     "name": "stderr",
     "output_type": "stream",
     "text": [
      " 46%|█████████████████████████████████████                                           | 228/492 [00:08<00:09, 27.10it/s]"
     ]
    },
    {
     "name": "stdout",
     "output_type": "stream",
     "text": [
      "Saved frame712.jpg\n",
      "Saved frame number : 0\n",
      "Saved frame713.jpg\n",
      "Saved frame number : 0\n",
      "Saved frame714.jpg\n",
      "Saved frame number : 0\n",
      "Saved frame715.jpg\n",
      "Saved frame number : 0\n",
      "Saved frame716.jpg\n",
      "Saved frame number : 0\n",
      "Saved frame717.jpg\n",
      "Saved frame number : 0\n"
     ]
    },
    {
     "name": "stderr",
     "output_type": "stream",
     "text": [
      " 48%|██████████████████████████████████████                                          | 234/492 [00:09<00:09, 26.50it/s]"
     ]
    },
    {
     "name": "stdout",
     "output_type": "stream",
     "text": [
      "Saved frame718.jpg\n",
      "Saved frame number : 0\n",
      "Saved frame719.jpg\n",
      "Saved frame number : 0\n",
      "Saved frame720.jpg\n",
      "Saved frame number : 0\n",
      "Saved frame721.jpg\n",
      "Saved frame number : 0\n",
      "Saved frame722.jpg\n",
      "Saved frame number : 0\n",
      "Saved frame723.jpg\n"
     ]
    },
    {
     "name": "stderr",
     "output_type": "stream",
     "text": [
      " 49%|███████████████████████████████████████                                         | 240/492 [00:09<00:09, 25.98it/s]"
     ]
    },
    {
     "name": "stdout",
     "output_type": "stream",
     "text": [
      "Saved frame number : 0\n",
      "Saved frame724.jpg\n",
      "Saved frame number : 0\n",
      "Saved frame725.jpg\n",
      "Saved frame number : 0\n",
      "Saved frame726.jpg\n",
      "Saved frame number : 0\n",
      "Saved frame727.jpg\n",
      "Saved frame number : 0\n",
      "Saved frame728.jpg\n",
      "Saved frame number : 0\n"
     ]
    },
    {
     "name": "stderr",
     "output_type": "stream",
     "text": [
      " 50%|████████████████████████████████████████                                        | 246/492 [00:09<00:09, 25.80it/s]"
     ]
    },
    {
     "name": "stdout",
     "output_type": "stream",
     "text": [
      "Saved frame729.jpg\n",
      "Saved frame number : 0\n",
      "Saved frame730.jpg\n",
      "Saved frame number : 0\n",
      "Saved frame731.jpg\n",
      "Saved frame number : 0\n",
      "Saved frame732.jpg\n",
      "Saved frame number : 0\n",
      "Saved frame733.jpg\n",
      "Saved frame number : 0\n"
     ]
    },
    {
     "name": "stderr",
     "output_type": "stream",
     "text": [
      "\r",
      " 51%|████████████████████████████████████████▍                                       | 249/492 [00:09<00:09, 25.57it/s]"
     ]
    },
    {
     "name": "stdout",
     "output_type": "stream",
     "text": [
      "Saved frame734.jpg\n",
      "Saved frame number : 0\n",
      "Saved frame735.jpg\n",
      "Saved frame number : 0\n",
      "Saved frame736.jpg\n",
      "Saved frame number : 0\n",
      "Saved frame737.jpg\n",
      "Saved frame number : 0\n",
      "Saved frame738.jpg\n",
      "Saved frame number : 0\n"
     ]
    },
    {
     "name": "stderr",
     "output_type": "stream",
     "text": [
      " 52%|█████████████████████████████████████████▍                                      | 255/492 [00:10<00:09, 24.63it/s]"
     ]
    },
    {
     "name": "stdout",
     "output_type": "stream",
     "text": [
      "Saved frame739.jpg\n",
      "Saved frame number : 0\n",
      "Saved frame740.jpg\n",
      "Saved frame number : 0\n",
      "Saved frame741.jpg\n",
      "Saved frame number : 0\n",
      "Saved frame742.jpg\n",
      "Saved frame number : 0\n",
      "Saved frame743.jpg\n",
      "Saved frame number : 0\n"
     ]
    },
    {
     "name": "stderr",
     "output_type": "stream",
     "text": [
      " 53%|██████████████████████████████████████████▍                                     | 261/492 [00:10<00:09, 23.58it/s]"
     ]
    },
    {
     "name": "stdout",
     "output_type": "stream",
     "text": [
      "Saved frame744.jpg\n",
      "Saved frame number : 0\n",
      "Saved frame745.jpg\n",
      "Saved frame number : 0\n",
      "Saved frame746.jpg\n",
      "Saved frame number : 0\n",
      "Saved frame747.jpg\n",
      "Saved frame number : 0\n",
      "Saved frame748.jpg\n",
      "Saved frame number : 0\n"
     ]
    },
    {
     "name": "stderr",
     "output_type": "stream",
     "text": [
      "\r",
      " 54%|██████████████████████████████████████████▉                                     | 264/492 [00:10<00:09, 22.95it/s]"
     ]
    },
    {
     "name": "stdout",
     "output_type": "stream",
     "text": [
      "Saved frame749.jpg\n",
      "Saved frame number : 0\n",
      "Saved frame750.jpg\n",
      "Saved frame number : 0\n",
      "Saved frame751.jpg\n",
      "Saved frame number : 0\n",
      "Saved frame752.jpg\n",
      "Saved frame number : 0\n",
      "Saved frame753.jpg\n",
      "Saved frame number : 0\n"
     ]
    },
    {
     "name": "stderr",
     "output_type": "stream",
     "text": [
      " 55%|███████████████████████████████████████████▉                                    | 270/492 [00:10<00:09, 22.35it/s]"
     ]
    },
    {
     "name": "stdout",
     "output_type": "stream",
     "text": [
      "Saved frame754.jpg\n",
      "Saved frame number : 0\n",
      "Saved frame755.jpg\n",
      "Saved frame number : 0\n",
      "Saved frame756.jpg\n",
      "Saved frame number : 0\n",
      "Saved frame757.jpg\n",
      "Saved frame number : 0\n",
      "Saved frame758.jpg\n"
     ]
    },
    {
     "name": "stderr",
     "output_type": "stream",
     "text": [
      "\r",
      " 55%|████████████████████████████████████████████▍                                   | 273/492 [00:10<00:09, 22.33it/s]"
     ]
    },
    {
     "name": "stdout",
     "output_type": "stream",
     "text": [
      "Saved frame number : 0\n",
      "Saved frame759.jpg\n",
      "Saved frame number : 0\n",
      "Saved frame760.jpg\n",
      "Saved frame number : 0\n",
      "Saved frame761.jpg\n",
      "Saved frame number : 0\n",
      "Saved frame762.jpg\n",
      "Saved frame number : 0\n"
     ]
    },
    {
     "name": "stderr",
     "output_type": "stream",
     "text": [
      " 57%|█████████████████████████████████████████████▎                                  | 279/492 [00:11<00:09, 22.54it/s]"
     ]
    },
    {
     "name": "stdout",
     "output_type": "stream",
     "text": [
      "Saved frame763.jpg\n",
      "Saved frame number : 0\n",
      "Saved frame764.jpg\n",
      "Saved frame number : 0\n",
      "Saved frame765.jpg\n",
      "Saved frame number : 0\n",
      "Saved frame766.jpg\n",
      "Saved frame number : 0\n",
      "Saved frame767.jpg\n",
      "Saved frame number : 0\n"
     ]
    },
    {
     "name": "stderr",
     "output_type": "stream",
     "text": [
      " 58%|██████████████████████████████████████████████▎                                 | 285/492 [00:11<00:08, 23.38it/s]"
     ]
    },
    {
     "name": "stdout",
     "output_type": "stream",
     "text": [
      "Saved frame768.jpg\n",
      "Saved frame number : 0\n",
      "Saved frame769.jpg\n",
      "Saved frame number : 0\n",
      "Saved frame770.jpg\n",
      "Saved frame number : 0\n",
      "Saved frame771.jpg\n",
      "Saved frame number : 0\n",
      "Saved frame772.jpg\n",
      "Saved frame number : 0\n"
     ]
    },
    {
     "name": "stderr",
     "output_type": "stream",
     "text": [
      "\r",
      " 59%|██████████████████████████████████████████████▊                                 | 288/492 [00:11<00:08, 22.73it/s]"
     ]
    },
    {
     "name": "stdout",
     "output_type": "stream",
     "text": [
      "Saved frame773.jpg\n",
      "Saved frame number : 0\n",
      "Saved frame774.jpg\n",
      "Saved frame number : 0\n",
      "Saved frame775.jpg\n",
      "Saved frame number : 0\n",
      "Saved frame776.jpg\n",
      "Saved frame number : 0\n",
      "Saved frame777.jpg\n"
     ]
    },
    {
     "name": "stderr",
     "output_type": "stream",
     "text": [
      " 60%|███████████████████████████████████████████████▊                                | 294/492 [00:11<00:08, 22.43it/s]"
     ]
    },
    {
     "name": "stdout",
     "output_type": "stream",
     "text": [
      "Saved frame number : 0\n",
      "Saved frame778.jpg\n",
      "Saved frame number : 0\n",
      "Saved frame779.jpg\n",
      "Saved frame number : 0\n",
      "Saved frame780.jpg\n",
      "Saved frame number : 0\n",
      "Saved frame781.jpg\n",
      "Saved frame number : 0\n",
      "Saved frame782.jpg\n"
     ]
    },
    {
     "name": "stderr",
     "output_type": "stream",
     "text": [
      "\r",
      " 60%|████████████████████████████████████████████████▎                               | 297/492 [00:11<00:08, 21.99it/s]"
     ]
    },
    {
     "name": "stdout",
     "output_type": "stream",
     "text": [
      "Saved frame number : 0\n",
      "Saved frame783.jpg\n",
      "Saved frame number : 0\n",
      "Saved frame784.jpg\n",
      "Saved frame number : 0\n",
      "Saved frame785.jpg\n",
      "Saved frame number : 0\n",
      "Saved frame786.jpg\n",
      "Saved frame number : 0\n"
     ]
    },
    {
     "name": "stderr",
     "output_type": "stream",
     "text": [
      " 62%|█████████████████████████████████████████████████▎                              | 303/492 [00:12<00:09, 20.90it/s]"
     ]
    },
    {
     "name": "stdout",
     "output_type": "stream",
     "text": [
      "Saved frame787.jpg\n",
      "Saved frame number : 0\n",
      "Saved frame788.jpg\n",
      "Saved frame number : 0\n",
      "Saved frame789.jpg\n",
      "Saved frame number : 0\n",
      "Saved frame790.jpg\n",
      "Saved frame number : 0\n"
     ]
    },
    {
     "name": "stderr",
     "output_type": "stream",
     "text": [
      "\r",
      " 62%|█████████████████████████████████████████████████▊                              | 306/492 [00:12<00:09, 20.10it/s]"
     ]
    },
    {
     "name": "stdout",
     "output_type": "stream",
     "text": [
      "Saved frame791.jpg\n",
      "Saved frame number : 0\n",
      "Saved frame792.jpg\n",
      "Saved frame number : 0\n",
      "Saved frame793.jpg\n",
      "Saved frame number : 0\n",
      "Saved frame794.jpg\n",
      "Saved frame number : 0\n",
      "Saved frame795.jpg\n"
     ]
    },
    {
     "name": "stderr",
     "output_type": "stream",
     "text": [
      " 63%|██████████████████████████████████████████████████▋                             | 312/492 [00:12<00:08, 20.19it/s]"
     ]
    },
    {
     "name": "stdout",
     "output_type": "stream",
     "text": [
      "Saved frame number : 0\n",
      "Saved frame796.jpg\n",
      "Saved frame number : 0\n",
      "Saved frame797.jpg\n",
      "Saved frame number : 0\n",
      "Saved frame798.jpg\n",
      "Saved frame number : 0\n",
      "Saved frame799.jpg\n"
     ]
    },
    {
     "name": "stderr",
     "output_type": "stream",
     "text": [
      "\r",
      " 64%|███████████████████████████████████████████████████▏                            | 315/492 [00:12<00:08, 21.24it/s]"
     ]
    },
    {
     "name": "stdout",
     "output_type": "stream",
     "text": [
      "Saved frame number : 0\n",
      "Saved frame800.jpg\n",
      "Saved frame number : 0\n",
      "Saved frame801.jpg\n",
      "Saved frame number : 0\n",
      "Saved frame802.jpg\n",
      "Saved frame number : 0\n",
      "Saved frame803.jpg\n",
      "Saved frame number : 0\n"
     ]
    },
    {
     "name": "stderr",
     "output_type": "stream",
     "text": [
      "\r",
      " 65%|███████████████████████████████████████████████████▋                            | 318/492 [00:12<00:08, 20.61it/s]"
     ]
    },
    {
     "name": "stdout",
     "output_type": "stream",
     "text": [
      "Saved frame804.jpg\n",
      "Saved frame number : 0\n",
      "Saved frame805.jpg\n",
      "Saved frame number : 0\n",
      "Saved frame806.jpg\n",
      "Saved frame number : 0\n",
      "Saved frame807.jpg\n",
      "Saved frame number : 0\n"
     ]
    },
    {
     "name": "stderr",
     "output_type": "stream",
     "text": [
      " 66%|████████████████████████████████████████████████████▌                           | 323/492 [00:13<00:08, 19.63it/s]"
     ]
    },
    {
     "name": "stdout",
     "output_type": "stream",
     "text": [
      "Saved frame808.jpg\n",
      "Saved frame number : 0\n",
      "Saved frame809.jpg\n",
      "Saved frame number : 0\n",
      "Saved frame810.jpg\n",
      "Saved frame number : 0\n",
      "Saved frame811.jpg\n",
      "Saved frame number : 0\n",
      "Saved frame812.jpg\n"
     ]
    },
    {
     "name": "stderr",
     "output_type": "stream",
     "text": [
      " 67%|█████████████████████████████████████████████████████▍                          | 329/492 [00:13<00:07, 21.85it/s]"
     ]
    },
    {
     "name": "stdout",
     "output_type": "stream",
     "text": [
      "Saved frame number : 0\n",
      "Saved frame813.jpg\n",
      "Saved frame number : 0\n",
      "Saved frame814.jpg\n",
      "Saved frame number : 0\n",
      "Saved frame815.jpg\n",
      "Saved frame number : 0\n",
      "Saved frame816.jpg\n",
      "Saved frame number : 0\n"
     ]
    },
    {
     "name": "stderr",
     "output_type": "stream",
     "text": [
      "\r",
      " 67%|█████████████████████████████████████████████████████▉                          | 332/492 [00:13<00:07, 22.18it/s]"
     ]
    },
    {
     "name": "stdout",
     "output_type": "stream",
     "text": [
      "Saved frame817.jpg\n",
      "Saved frame number : 0\n",
      "Saved frame818.jpg\n",
      "Saved frame number : 0\n",
      "Saved frame819.jpg\n",
      "Saved frame number : 0\n",
      "Saved frame820.jpg\n",
      "Saved frame number : 0\n",
      "Saved frame821.jpg\n",
      "Saved frame number : 0\n"
     ]
    },
    {
     "name": "stderr",
     "output_type": "stream",
     "text": [
      " 69%|██████████████████████████████████████████████████████▉                         | 338/492 [00:13<00:06, 22.44it/s]"
     ]
    },
    {
     "name": "stdout",
     "output_type": "stream",
     "text": [
      "Saved frame822.jpg\n",
      "Saved frame number : 0\n",
      "Saved frame823.jpg\n",
      "Saved frame number : 0\n",
      "Saved frame824.jpg\n",
      "Saved frame number : 0\n",
      "Saved frame825.jpg\n",
      "Saved frame number : 0\n",
      "Saved frame826.jpg\n"
     ]
    },
    {
     "name": "stderr",
     "output_type": "stream",
     "text": [
      "\r",
      " 69%|███████████████████████████████████████████████████████▍                        | 341/492 [00:13<00:06, 22.09it/s]"
     ]
    },
    {
     "name": "stdout",
     "output_type": "stream",
     "text": [
      "Saved frame number : 0\n",
      "Saved frame827.jpg\n",
      "Saved frame number : 0\n",
      "Saved frame828.jpg\n",
      "Saved frame number : 0\n",
      "Saved frame829.jpg\n",
      "Saved frame number : 0\n",
      "Saved frame830.jpg\n",
      "Saved frame number : 0\n"
     ]
    },
    {
     "name": "stderr",
     "output_type": "stream",
     "text": [
      " 71%|████████████████████████████████████████████████████████▍                       | 347/492 [00:14<00:06, 22.86it/s]"
     ]
    },
    {
     "name": "stdout",
     "output_type": "stream",
     "text": [
      "Saved frame831.jpg\n",
      "Saved frame number : 0\n",
      "Saved frame832.jpg\n",
      "Saved frame number : 0\n",
      "Saved frame833.jpg\n",
      "Saved frame number : 0\n",
      "Saved frame834.jpg\n",
      "Saved frame number : 0\n",
      "Saved frame835.jpg\n"
     ]
    },
    {
     "name": "stderr",
     "output_type": "stream",
     "text": [
      " 72%|█████████████████████████████████████████████████████████▍                      | 353/492 [00:14<00:06, 22.65it/s]"
     ]
    },
    {
     "name": "stdout",
     "output_type": "stream",
     "text": [
      "Saved frame number : 0\n",
      "Saved frame836.jpg\n",
      "Saved frame number : 0\n",
      "Saved frame837.jpg\n",
      "Saved frame number : 0\n",
      "Saved frame838.jpg\n",
      "Saved frame number : 0\n",
      "Saved frame839.jpg\n",
      "Saved frame number : 0\n",
      "Saved frame840.jpg\n"
     ]
    },
    {
     "name": "stderr",
     "output_type": "stream",
     "text": [
      "\r",
      " 72%|█████████████████████████████████████████████████████████▉                      | 356/492 [00:14<00:05, 23.44it/s]"
     ]
    },
    {
     "name": "stdout",
     "output_type": "stream",
     "text": [
      "Saved frame number : 0\n",
      "Saved frame841.jpg\n",
      "Saved frame number : 0\n",
      "Saved frame842.jpg\n",
      "Saved frame number : 0\n",
      "Saved frame843.jpg\n",
      "Saved frame number : 0\n",
      "Saved frame844.jpg\n",
      "Saved frame number : 0\n",
      "Saved frame845.jpg\n",
      "Saved frame number : 0\n"
     ]
    },
    {
     "name": "stderr",
     "output_type": "stream",
     "text": [
      " 74%|██████████████████████████████████████████████████████████▊                     | 362/492 [00:14<00:05, 22.55it/s]"
     ]
    },
    {
     "name": "stdout",
     "output_type": "stream",
     "text": [
      "Saved frame846.jpg\n",
      "Saved frame number : 0\n",
      "Saved frame847.jpg\n",
      "Saved frame number : 0\n",
      "Saved frame848.jpg\n",
      "Saved frame number : 0\n",
      "Saved frame849.jpg\n",
      "Saved frame number : 0\n",
      "Saved frame850.jpg\n"
     ]
    },
    {
     "name": "stderr",
     "output_type": "stream",
     "text": [
      " 75%|███████████████████████████████████████████████████████████▊                    | 368/492 [00:15<00:05, 22.35it/s]"
     ]
    },
    {
     "name": "stdout",
     "output_type": "stream",
     "text": [
      "Saved frame number : 0\n",
      "Saved frame851.jpg\n",
      "Saved frame number : 0\n",
      "Saved frame852.jpg\n",
      "Saved frame number : 0\n",
      "Saved frame853.jpg\n",
      "Saved frame number : 0\n",
      "Saved frame854.jpg\n",
      "Saved frame number : 0\n",
      "Saved frame855.jpg\n"
     ]
    },
    {
     "name": "stderr",
     "output_type": "stream",
     "text": [
      "\r",
      " 75%|████████████████████████████████████████████████████████████▎                   | 371/492 [00:15<00:05, 22.95it/s]"
     ]
    },
    {
     "name": "stdout",
     "output_type": "stream",
     "text": [
      "Saved frame number : 0\n",
      "Saved frame856.jpg\n",
      "Saved frame number : 0\n",
      "Saved frame857.jpg\n",
      "Saved frame number : 0\n",
      "Saved frame858.jpg\n",
      "Saved frame number : 0\n",
      "Saved frame859.jpg\n",
      "Saved frame number : 0\n"
     ]
    },
    {
     "name": "stderr",
     "output_type": "stream",
     "text": [
      " 77%|█████████████████████████████████████████████████████████████▎                  | 377/492 [00:15<00:05, 21.17it/s]"
     ]
    },
    {
     "name": "stdout",
     "output_type": "stream",
     "text": [
      "Saved frame860.jpg\n",
      "Saved frame number : 0\n",
      "Saved frame861.jpg\n",
      "Saved frame number : 0\n",
      "Saved frame862.jpg\n",
      "Saved frame number : 0\n",
      "Saved frame863.jpg\n",
      "Saved frame number : 0\n",
      "Saved frame864.jpg\n"
     ]
    },
    {
     "name": "stderr",
     "output_type": "stream",
     "text": [
      "\r",
      " 77%|█████████████████████████████████████████████████████████████▊                  | 380/492 [00:15<00:06, 18.14it/s]"
     ]
    },
    {
     "name": "stdout",
     "output_type": "stream",
     "text": [
      "Saved frame number : 0\n",
      "Saved frame865.jpg\n",
      "Saved frame number : 0\n",
      "Saved frame866.jpg\n",
      "Saved frame number : 0\n",
      "Saved frame867.jpg\n",
      "Saved frame number : 0\n"
     ]
    },
    {
     "name": "stderr",
     "output_type": "stream",
     "text": [
      "\r",
      " 78%|██████████████████████████████████████████████████████████████▎                 | 383/492 [00:15<00:05, 19.00it/s]"
     ]
    },
    {
     "name": "stdout",
     "output_type": "stream",
     "text": [
      "Saved frame868.jpg\n",
      "Saved frame number : 0\n",
      "Saved frame869.jpg\n",
      "Saved frame number : 0\n",
      "Saved frame870.jpg\n",
      "Saved frame number : 0\n",
      "Saved frame871.jpg\n"
     ]
    },
    {
     "name": "stderr",
     "output_type": "stream",
     "text": [
      " 79%|██████████████████████████████████████████████████████████████▉                 | 387/492 [00:16<00:05, 17.95it/s]"
     ]
    },
    {
     "name": "stdout",
     "output_type": "stream",
     "text": [
      "Saved frame number : 0\n",
      "Saved frame872.jpg\n",
      "Saved frame number : 0\n",
      "Saved frame873.jpg\n",
      "Saved frame number : 0\n",
      "Saved frame874.jpg\n",
      "Saved frame number : 0\n",
      "Saved frame875.jpg\n"
     ]
    },
    {
     "name": "stderr",
     "output_type": "stream",
     "text": [
      " 80%|███████████████████████████████████████████████████████████████▉                | 393/492 [00:16<00:04, 20.36it/s]"
     ]
    },
    {
     "name": "stdout",
     "output_type": "stream",
     "text": [
      "Saved frame number : 0\n",
      "Saved frame876.jpg\n",
      "Saved frame number : 0\n",
      "Saved frame877.jpg\n",
      "Saved frame number : 0\n",
      "Saved frame878.jpg\n",
      "Saved frame number : 0\n",
      "Saved frame879.jpg\n",
      "Saved frame number : 0\n",
      "Saved frame880.jpg\n"
     ]
    },
    {
     "name": "stderr",
     "output_type": "stream",
     "text": [
      "\r",
      " 80%|████████████████████████████████████████████████████████████████▍               | 396/492 [00:16<00:04, 21.36it/s]"
     ]
    },
    {
     "name": "stdout",
     "output_type": "stream",
     "text": [
      "Saved frame number : 0\n",
      "Saved frame881.jpg\n",
      "Saved frame number : 0\n",
      "Saved frame882.jpg\n",
      "Saved frame number : 0\n",
      "Saved frame883.jpg\n",
      "Saved frame number : 0\n",
      "Saved frame884.jpg\n",
      "Saved frame number : 0\n",
      "Saved frame885.jpg\n"
     ]
    },
    {
     "name": "stderr",
     "output_type": "stream",
     "text": [
      " 82%|█████████████████████████████████████████████████████████████████▎              | 402/492 [00:16<00:03, 23.52it/s]"
     ]
    },
    {
     "name": "stdout",
     "output_type": "stream",
     "text": [
      "Saved frame number : 0\n",
      "Saved frame886.jpg\n",
      "Saved frame number : 0\n",
      "Saved frame887.jpg\n",
      "Saved frame number : 0\n",
      "Saved frame888.jpg\n",
      "Saved frame number : 0\n",
      "Saved frame889.jpg\n",
      "Saved frame number : 0\n",
      "Saved frame890.jpg\n"
     ]
    },
    {
     "name": "stderr",
     "output_type": "stream",
     "text": [
      " 83%|██████████████████████████████████████████████████████████████████▎             | 408/492 [00:17<00:03, 23.24it/s]"
     ]
    },
    {
     "name": "stdout",
     "output_type": "stream",
     "text": [
      "Saved frame number : 0\n",
      "Saved frame891.jpg\n",
      "Saved frame number : 0\n",
      "Saved frame892.jpg\n",
      "Saved frame number : 0\n",
      "Saved frame893.jpg\n",
      "Saved frame number : 0\n",
      "Saved frame894.jpg\n",
      "Saved frame number : 0\n",
      "Saved frame895.jpg\n"
     ]
    },
    {
     "name": "stderr",
     "output_type": "stream",
     "text": [
      "\r",
      " 84%|██████████████████████████████████████████████████████████████████▊             | 411/492 [00:17<00:03, 23.42it/s]"
     ]
    },
    {
     "name": "stdout",
     "output_type": "stream",
     "text": [
      "Saved frame number : 0\n",
      "Saved frame896.jpg\n",
      "Saved frame number : 0\n",
      "Saved frame897.jpg\n",
      "Saved frame number : 0\n",
      "Saved frame898.jpg\n",
      "Saved frame number : 0\n",
      "Saved frame899.jpg\n",
      "Saved frame number : 0\n",
      "Saved frame900.jpg\n"
     ]
    },
    {
     "name": "stderr",
     "output_type": "stream",
     "text": [
      " 85%|███████████████████████████████████████████████████████████████████▊            | 417/492 [00:17<00:03, 23.29it/s]"
     ]
    },
    {
     "name": "stdout",
     "output_type": "stream",
     "text": [
      "Saved frame number : 0\n",
      "Saved frame901.jpg\n",
      "Saved frame number : 0\n",
      "Saved frame902.jpg\n",
      "Saved frame number : 0\n",
      "Saved frame903.jpg\n",
      "Saved frame number : 0\n",
      "Saved frame904.jpg\n",
      "Saved frame number : 0\n"
     ]
    },
    {
     "name": "stderr",
     "output_type": "stream",
     "text": [
      "\r",
      " 85%|████████████████████████████████████████████████████████████████████▎           | 420/492 [00:17<00:03, 22.41it/s]"
     ]
    },
    {
     "name": "stdout",
     "output_type": "stream",
     "text": [
      "Saved frame905.jpg\n",
      "Saved frame number : 0\n",
      "Saved frame906.jpg\n",
      "Saved frame number : 0\n",
      "Saved frame907.jpg\n",
      "Saved frame number : 0\n",
      "Saved frame908.jpg\n",
      "Saved frame number : 0\n",
      "Saved frame909.jpg\n",
      "Saved frame number : 0\n"
     ]
    },
    {
     "name": "stderr",
     "output_type": "stream",
     "text": [
      " 87%|█████████████████████████████████████████████████████████████████████▎          | 426/492 [00:17<00:02, 23.17it/s]"
     ]
    },
    {
     "name": "stdout",
     "output_type": "stream",
     "text": [
      "Saved frame910.jpg\n",
      "Saved frame number : 0\n",
      "Saved frame911.jpg\n",
      "Saved frame number : 0\n",
      "Saved frame912.jpg\n",
      "Saved frame number : 0\n",
      "Saved frame913.jpg\n",
      "Saved frame number : 0\n",
      "Saved frame914.jpg\n"
     ]
    },
    {
     "name": "stderr",
     "output_type": "stream",
     "text": [
      "\r",
      " 87%|█████████████████████████████████████████████████████████████████████▊          | 429/492 [00:18<00:03, 20.34it/s]"
     ]
    },
    {
     "name": "stdout",
     "output_type": "stream",
     "text": [
      "Saved frame number : 0\n",
      "Saved frame915.jpg\n",
      "Saved frame number : 0\n",
      "Saved frame916.jpg\n",
      "Saved frame number : 0\n",
      "Saved frame917.jpg\n",
      "Saved frame number : 0\n"
     ]
    },
    {
     "name": "stderr",
     "output_type": "stream",
     "text": [
      " 88%|██████████████████████████████████████████████████████████████████████▌         | 434/492 [00:18<00:03, 17.91it/s]"
     ]
    },
    {
     "name": "stdout",
     "output_type": "stream",
     "text": [
      "Saved frame918.jpg\n",
      "Saved frame number : 0\n",
      "Saved frame919.jpg\n",
      "Saved frame number : 0\n",
      "Saved frame920.jpg\n",
      "Saved frame number : 0\n",
      "Saved frame921.jpg\n"
     ]
    },
    {
     "name": "stderr",
     "output_type": "stream",
     "text": [
      " 89%|███████████████████████████████████████████████████████████████████████▏        | 438/492 [00:18<00:03, 17.75it/s]"
     ]
    },
    {
     "name": "stdout",
     "output_type": "stream",
     "text": [
      "Saved frame number : 0\n",
      "Saved frame922.jpg\n",
      "Saved frame number : 0\n",
      "Saved frame923.jpg\n",
      "Saved frame number : 0\n",
      "Saved frame924.jpg\n",
      "Saved frame number : 0\n",
      "Saved frame925.jpg\n"
     ]
    },
    {
     "name": "stderr",
     "output_type": "stream",
     "text": [
      "\r",
      " 90%|███████████████████████████████████████████████████████████████████████▋        | 441/492 [00:18<00:02, 19.89it/s]"
     ]
    },
    {
     "name": "stdout",
     "output_type": "stream",
     "text": [
      "Saved frame number : 0\n",
      "Saved frame926.jpg\n",
      "Saved frame number : 0\n",
      "Saved frame927.jpg\n",
      "Saved frame number : 0\n",
      "Saved frame928.jpg\n",
      "Saved frame number : 0\n",
      "Saved frame929.jpg\n",
      "Saved frame number : 0\n",
      "Saved frame930.jpg\n",
      "Saved frame number : 0\n"
     ]
    },
    {
     "name": "stderr",
     "output_type": "stream",
     "text": [
      " 91%|████████████████████████████████████████████████████████████████████████▋       | 447/492 [00:18<00:02, 21.97it/s]"
     ]
    },
    {
     "name": "stdout",
     "output_type": "stream",
     "text": [
      "Saved frame931.jpg\n",
      "Saved frame number : 0\n",
      "Saved frame932.jpg\n",
      "Saved frame number : 0\n",
      "Saved frame933.jpg\n",
      "Saved frame number : 0\n",
      "Saved frame934.jpg\n",
      "Saved frame number : 0\n",
      "Saved frame935.jpg\n",
      "Saved frame number : 0\n"
     ]
    },
    {
     "name": "stderr",
     "output_type": "stream",
     "text": [
      "\r",
      " 91%|█████████████████████████████████████████████████████████████████████████▏      | 450/492 [00:19<00:01, 22.09it/s]"
     ]
    },
    {
     "name": "stdout",
     "output_type": "stream",
     "text": [
      "Saved frame936.jpg\n",
      "Saved frame number : 0\n",
      "Saved frame937.jpg\n",
      "Saved frame number : 0\n",
      "Saved frame938.jpg\n",
      "Saved frame number : 0\n",
      "Saved frame939.jpg\n"
     ]
    },
    {
     "name": "stderr",
     "output_type": "stream",
     "text": [
      " 93%|██████████████████████████████████████████████████████████████████████████▏     | 456/492 [00:19<00:01, 19.66it/s]"
     ]
    },
    {
     "name": "stdout",
     "output_type": "stream",
     "text": [
      "Saved frame number : 0\n",
      "Saved frame940.jpg\n",
      "Saved frame number : 0\n",
      "Saved frame941.jpg\n",
      "Saved frame number : 0\n",
      "Saved frame942.jpg\n",
      "Saved frame number : 0\n",
      "Saved frame943.jpg\n",
      "Saved frame number : 0\n"
     ]
    },
    {
     "name": "stderr",
     "output_type": "stream",
     "text": [
      "\r",
      " 93%|██████████████████████████████████████████████████████████████████████████▋     | 459/492 [00:19<00:01, 18.98it/s]"
     ]
    },
    {
     "name": "stdout",
     "output_type": "stream",
     "text": [
      "Saved frame944.jpg\n",
      "Saved frame number : 0\n",
      "Saved frame945.jpg\n",
      "Saved frame number : 0\n",
      "Saved frame946.jpg\n"
     ]
    },
    {
     "name": "stderr",
     "output_type": "stream",
     "text": [
      " 94%|███████████████████████████████████████████████████████████████████████████▎    | 463/492 [00:19<00:01, 17.89it/s]"
     ]
    },
    {
     "name": "stdout",
     "output_type": "stream",
     "text": [
      "Saved frame number : 0\n",
      "Saved frame947.jpg\n",
      "Saved frame number : 0\n",
      "Saved frame948.jpg\n",
      "Saved frame number : 0\n",
      "Saved frame949.jpg\n",
      "Saved frame number : 0\n",
      "Saved frame950.jpg\n",
      "Saved frame number : 0\n"
     ]
    },
    {
     "name": "stderr",
     "output_type": "stream",
     "text": [
      "\r",
      " 95%|███████████████████████████████████████████████████████████████████████████▊    | 466/492 [00:20<00:01, 18.94it/s]"
     ]
    },
    {
     "name": "stdout",
     "output_type": "stream",
     "text": [
      "Saved frame951.jpg\n",
      "Saved frame number : 0\n",
      "Saved frame952.jpg\n",
      "Saved frame number : 0\n",
      "Saved frame953.jpg\n",
      "Saved frame number : 0\n",
      "Saved frame954.jpg\n",
      "Saved frame number : 0\n",
      "Saved frame955.jpg\n"
     ]
    },
    {
     "name": "stderr",
     "output_type": "stream",
     "text": [
      " 96%|████████████████████████████████████████████████████████████████████████████▋   | 472/492 [00:20<00:00, 20.31it/s]"
     ]
    },
    {
     "name": "stdout",
     "output_type": "stream",
     "text": [
      "Saved frame number : 0\n",
      "Saved frame956.jpg\n",
      "Saved frame number : 0\n",
      "Saved frame957.jpg\n",
      "Saved frame number : 0\n",
      "Saved frame958.jpg\n",
      "Saved frame number : 0\n",
      "Saved frame959.jpg\n",
      "Saved frame number : 0\n"
     ]
    },
    {
     "name": "stderr",
     "output_type": "stream",
     "text": [
      "\r",
      " 97%|█████████████████████████████████████████████████████████████████████████████▏  | 475/492 [00:20<00:00, 19.45it/s]"
     ]
    },
    {
     "name": "stdout",
     "output_type": "stream",
     "text": [
      "Saved frame960.jpg\n",
      "Saved frame number : 0\n",
      "Saved frame961.jpg\n",
      "Saved frame number : 0\n",
      "Saved frame962.jpg\n",
      "Saved frame number : 0\n"
     ]
    },
    {
     "name": "stderr",
     "output_type": "stream",
     "text": [
      " 97%|█████████████████████████████████████████████████████████████████████████████▉  | 479/492 [00:20<00:00, 16.85it/s]"
     ]
    },
    {
     "name": "stdout",
     "output_type": "stream",
     "text": [
      "Saved frame963.jpg\n",
      "Saved frame number : 0\n",
      "Saved frame964.jpg\n",
      "Saved frame number : 0\n",
      "Saved frame965.jpg\n",
      "Saved frame number : 0\n",
      "Saved frame966.jpg\n"
     ]
    },
    {
     "name": "stderr",
     "output_type": "stream",
     "text": [
      "\r",
      " 98%|██████████████████████████████████████████████████████████████████████████████▏ | 481/492 [00:20<00:00, 16.04it/s]"
     ]
    },
    {
     "name": "stdout",
     "output_type": "stream",
     "text": [
      "Saved frame number : 0\n",
      "Saved frame967.jpg\n",
      "Saved frame number : 0\n",
      "Saved frame968.jpg\n",
      "Saved frame number : 0\n",
      "Saved frame969.jpg\n",
      "Saved frame number : 0\n"
     ]
    },
    {
     "name": "stderr",
     "output_type": "stream",
     "text": [
      " 99%|███████████████████████████████████████████████████████████████████████████████ | 486/492 [00:21<00:00, 18.20it/s]"
     ]
    },
    {
     "name": "stdout",
     "output_type": "stream",
     "text": [
      "Saved frame970.jpg\n",
      "Saved frame number : 0\n",
      "Saved frame971.jpg\n",
      "Saved frame number : 0\n",
      "Saved frame972.jpg\n",
      "Saved frame number : 0\n",
      "Saved frame973.jpg\n",
      "Saved frame number : 0\n",
      "Saved frame974.jpg\n"
     ]
    },
    {
     "name": "stderr",
     "output_type": "stream",
     "text": [
      "\r",
      " 99%|███████████████████████████████████████████████████████████████████████████████▌| 489/492 [00:21<00:00, 19.09it/s]"
     ]
    },
    {
     "name": "stdout",
     "output_type": "stream",
     "text": [
      "Saved frame number : 0\n",
      "Saved frame975.jpg\n",
      "Saved frame number : 0\n",
      "Saved frame976.jpg\n",
      "Saved frame number : 0\n",
      "Saved frame977.jpg\n",
      "Saved frame number : 0\n",
      "Saved frame978.jpg\n",
      "Saved frame number : 0\n"
     ]
    },
    {
     "name": "stderr",
     "output_type": "stream",
     "text": [
      "100%|████████████████████████████████████████████████████████████████████████████████| 492/492 [00:21<00:00, 22.96it/s]\n"
     ]
    },
    {
     "name": "stdout",
     "output_type": "stream",
     "text": [
      "Saved frame979.jpg\n",
      "Iterating: 2 folder\n"
     ]
    },
    {
     "name": "stderr",
     "output_type": "stream",
     "text": [
      "  1%|▌                                                                                 | 3/492 [00:00<00:19, 24.88it/s]"
     ]
    },
    {
     "name": "stdout",
     "output_type": "stream",
     "text": [
      "Saved frame number : 0\n",
      "Saved frame980.jpg\n",
      "Saved frame number : 0\n",
      "Saved frame981.jpg\n",
      "Saved frame number : 0\n",
      "Saved frame982.jpg\n",
      "Saved frame number : 0\n",
      "Saved frame983.jpg\n",
      "Saved frame number : 0\n",
      "Saved frame984.jpg\n"
     ]
    },
    {
     "name": "stderr",
     "output_type": "stream",
     "text": [
      "  2%|█▌                                                                                | 9/492 [00:00<00:19, 25.07it/s]"
     ]
    },
    {
     "name": "stdout",
     "output_type": "stream",
     "text": [
      "Saved frame number : 0\n",
      "Saved frame985.jpg\n",
      "Saved frame number : 0\n",
      "Saved frame986.jpg\n",
      "Saved frame number : 0\n",
      "Saved frame987.jpg\n",
      "Saved frame number : 0\n",
      "Saved frame988.jpg\n",
      "Saved frame number : 0\n",
      "Saved frame989.jpg\n"
     ]
    },
    {
     "name": "stderr",
     "output_type": "stream",
     "text": [
      "  3%|██▍                                                                              | 15/492 [00:00<00:18, 25.76it/s]"
     ]
    },
    {
     "name": "stdout",
     "output_type": "stream",
     "text": [
      "Saved frame number : 0\n",
      "Saved frame990.jpg\n",
      "Saved frame number : 0\n",
      "Saved frame991.jpg\n",
      "Saved frame number : 0\n",
      "Saved frame992.jpg\n",
      "Saved frame number : 0\n",
      "Saved frame993.jpg\n",
      "Saved frame number : 0\n",
      "Saved frame994.jpg\n",
      "Saved frame number : 0\n"
     ]
    },
    {
     "name": "stderr",
     "output_type": "stream",
     "text": [
      "\r",
      "  4%|██▉                                                                              | 18/492 [00:00<00:18, 26.01it/s]"
     ]
    },
    {
     "name": "stdout",
     "output_type": "stream",
     "text": [
      "Saved frame995.jpg\n",
      "Saved frame number : 0\n",
      "Saved frame996.jpg\n",
      "Saved frame number : 0\n",
      "Saved frame997.jpg\n",
      "Saved frame number : 0\n",
      "Saved frame998.jpg\n",
      "Saved frame number : 0\n",
      "Saved frame999.jpg\n",
      "Saved frame number : 0\n"
     ]
    },
    {
     "name": "stderr",
     "output_type": "stream",
     "text": [
      "\r",
      "  4%|███▍                                                                             | 21/492 [00:00<00:17, 26.32it/s]"
     ]
    },
    {
     "name": "stdout",
     "output_type": "stream",
     "text": [
      "Saved frame1000.jpg\n"
     ]
    },
    {
     "name": "stderr",
     "output_type": "stream",
     "text": [
      "\r",
      "  5%|███▉                                                                             | 24/492 [00:00<00:17, 26.07it/s]"
     ]
    },
    {
     "name": "stdout",
     "output_type": "stream",
     "text": [
      "Saved frame number : 0\n",
      "Saved frame1001.jpg\n",
      "Saved frame number : 0\n",
      "Saved frame1002.jpg\n",
      "Saved frame number : 0\n",
      "Saved frame1003.jpg\n",
      "Saved frame number : 0\n",
      "Saved frame1004.jpg\n",
      "Saved frame number : 0\n",
      "Saved frame1005.jpg\n",
      "Saved frame number : 0\n"
     ]
    },
    {
     "name": "stderr",
     "output_type": "stream",
     "text": [
      "  6%|████▉                                                                            | 30/492 [00:01<00:17, 26.05it/s]"
     ]
    },
    {
     "name": "stdout",
     "output_type": "stream",
     "text": [
      "Saved frame1006.jpg\n",
      "Saved frame number : 0\n",
      "Saved frame1007.jpg\n",
      "Saved frame number : 0\n",
      "Saved frame1008.jpg\n",
      "Saved frame number : 0\n",
      "Saved frame1009.jpg\n",
      "Saved frame number : 0\n",
      "Saved frame1010.jpg\n",
      "Saved frame number : 0\n",
      "Saved frame1011.jpg\n"
     ]
    },
    {
     "name": "stderr",
     "output_type": "stream",
     "text": [
      "  7%|█████▉                                                                           | 36/492 [00:01<00:17, 25.55it/s]"
     ]
    },
    {
     "name": "stdout",
     "output_type": "stream",
     "text": [
      "Saved frame number : 0\n",
      "Saved frame1012.jpg\n",
      "Saved frame number : 0\n",
      "Saved frame1013.jpg\n",
      "Saved frame number : 0\n",
      "Saved frame1014.jpg\n",
      "Saved frame number : 0\n",
      "Saved frame1015.jpg\n",
      "Saved frame number : 0\n",
      "Saved frame1016.jpg\n",
      "Saved frame number : 0\n"
     ]
    },
    {
     "name": "stderr",
     "output_type": "stream",
     "text": [
      "  9%|██████▉                                                                          | 42/492 [00:01<00:17, 25.99it/s]"
     ]
    },
    {
     "name": "stdout",
     "output_type": "stream",
     "text": [
      "Saved frame1017.jpg\n",
      "Saved frame number : 0\n",
      "Saved frame1018.jpg\n",
      "Saved frame number : 0\n",
      "Saved frame1019.jpg\n",
      "Saved frame number : 0\n",
      "Saved frame1020.jpg\n",
      "Saved frame number : 0\n",
      "Saved frame1021.jpg\n",
      "Saved frame number : 0\n",
      "Saved frame1022.jpg\n"
     ]
    },
    {
     "name": "stderr",
     "output_type": "stream",
     "text": [
      " 10%|███████▉                                                                         | 48/492 [00:01<00:17, 26.10it/s]"
     ]
    },
    {
     "name": "stdout",
     "output_type": "stream",
     "text": [
      "Saved frame number : 0\n",
      "Saved frame1023.jpg\n",
      "Saved frame number : 0\n",
      "Saved frame1024.jpg\n",
      "Saved frame number : 0\n",
      "Saved frame1025.jpg\n",
      "Saved frame number : 0\n",
      "Saved frame1026.jpg\n",
      "Saved frame number : 0\n",
      "Saved frame1027.jpg\n",
      "Saved frame number : 0\n"
     ]
    },
    {
     "name": "stderr",
     "output_type": "stream",
     "text": [
      "\r",
      " 10%|████████▍                                                                        | 51/492 [00:01<00:16, 26.13it/s]"
     ]
    },
    {
     "name": "stdout",
     "output_type": "stream",
     "text": [
      "Saved frame1028.jpg\n",
      "Saved frame number : 0\n",
      "Saved frame1029.jpg\n",
      "Saved frame number : 0\n",
      "Saved frame1030.jpg\n",
      "Saved frame number : 0\n",
      "Saved frame1031.jpg\n",
      "Saved frame number : 0\n",
      "Saved frame1032.jpg\n",
      "Saved frame number : 0\n"
     ]
    },
    {
     "name": "stderr",
     "output_type": "stream",
     "text": [
      "\r",
      " 11%|████████▉                                                                        | 54/492 [00:02<00:16, 26.34it/s]"
     ]
    },
    {
     "name": "stdout",
     "output_type": "stream",
     "text": [
      "Saved frame1033.jpg\n"
     ]
    },
    {
     "name": "stderr",
     "output_type": "stream",
     "text": [
      "\r",
      " 12%|█████████▍                                                                       | 57/492 [00:02<00:16, 26.54it/s]"
     ]
    },
    {
     "name": "stdout",
     "output_type": "stream",
     "text": [
      "Saved frame number : 0\n",
      "Saved frame1034.jpg\n",
      "Saved frame number : 0\n",
      "Saved frame1035.jpg\n",
      "Saved frame number : 0\n",
      "Saved frame1036.jpg\n",
      "Saved frame number : 0\n",
      "Saved frame1037.jpg\n",
      "Saved frame number : 0\n",
      "Saved frame1038.jpg\n",
      "Saved frame number : 0\n"
     ]
    },
    {
     "name": "stderr",
     "output_type": "stream",
     "text": [
      " 13%|██████████▎                                                                      | 63/492 [00:02<00:16, 25.69it/s]"
     ]
    },
    {
     "name": "stdout",
     "output_type": "stream",
     "text": [
      "Saved frame1039.jpg\n",
      "Saved frame number : 0\n",
      "Saved frame1040.jpg\n",
      "Saved frame number : 0\n",
      "Saved frame1041.jpg\n",
      "Saved frame number : 0\n",
      "Saved frame1042.jpg\n",
      "Saved frame number : 0\n",
      "Saved frame1043.jpg\n",
      "Saved frame number : 0\n"
     ]
    },
    {
     "name": "stderr",
     "output_type": "stream",
     "text": [
      " 14%|███████████▎                                                                     | 69/492 [00:02<00:16, 24.95it/s]"
     ]
    },
    {
     "name": "stdout",
     "output_type": "stream",
     "text": [
      "Saved frame1044.jpg\n",
      "Saved frame number : 0\n",
      "Saved frame1045.jpg\n",
      "Saved frame number : 0\n",
      "Saved frame1046.jpg\n",
      "Saved frame number : 0\n",
      "Saved frame1047.jpg\n",
      "Saved frame number : 0\n",
      "Saved frame1048.jpg\n",
      "Saved frame number : 0\n"
     ]
    },
    {
     "name": "stderr",
     "output_type": "stream",
     "text": [
      "\r",
      " 15%|███████████▊                                                                     | 72/492 [00:02<00:17, 24.61it/s]"
     ]
    },
    {
     "name": "stdout",
     "output_type": "stream",
     "text": [
      "Saved frame1049.jpg\n",
      "Saved frame number : 0\n",
      "Saved frame1050.jpg\n",
      "Saved frame number : 0\n",
      "Saved frame1051.jpg\n",
      "Saved frame number : 0\n",
      "Saved frame1052.jpg\n",
      "Saved frame number : 0\n",
      "Saved frame1053.jpg\n",
      "Saved frame number : 0\n"
     ]
    },
    {
     "name": "stderr",
     "output_type": "stream",
     "text": [
      " 16%|████████████▊                                                                    | 78/492 [00:03<00:16, 25.62it/s]"
     ]
    },
    {
     "name": "stdout",
     "output_type": "stream",
     "text": [
      "Saved frame1054.jpg\n",
      "Saved frame number : 0\n",
      "Saved frame1055.jpg\n",
      "Saved frame number : 0\n",
      "Saved frame1056.jpg\n",
      "Saved frame number : 0\n",
      "Saved frame1057.jpg\n",
      "Saved frame number : 0\n",
      "Saved frame1058.jpg\n",
      "Saved frame number : 0\n",
      "Saved frame1059.jpg\n"
     ]
    },
    {
     "name": "stderr",
     "output_type": "stream",
     "text": [
      " 17%|█████████████▊                                                                   | 84/492 [00:03<00:17, 23.72it/s]"
     ]
    },
    {
     "name": "stdout",
     "output_type": "stream",
     "text": [
      "Saved frame number : 0\n",
      "Saved frame1060.jpg\n",
      "Saved frame number : 0\n",
      "Saved frame1061.jpg\n",
      "Saved frame number : 0\n",
      "Saved frame1062.jpg\n",
      "Saved frame number : 0\n",
      "Saved frame1063.jpg\n"
     ]
    },
    {
     "name": "stderr",
     "output_type": "stream",
     "text": [
      "\r",
      " 18%|██████████████▎                                                                  | 87/492 [00:03<00:19, 21.03it/s]"
     ]
    },
    {
     "name": "stdout",
     "output_type": "stream",
     "text": [
      "Saved frame number : 0\n",
      "Saved frame1064.jpg\n",
      "Saved frame number : 0\n",
      "Saved frame1065.jpg\n",
      "Saved frame number : 0\n",
      "Saved frame1066.jpg\n",
      "Saved frame number : 0\n",
      "Saved frame1067.jpg\n",
      "Saved frame number : 0\n"
     ]
    },
    {
     "name": "stderr",
     "output_type": "stream",
     "text": [
      " 19%|███████████████▎                                                                 | 93/492 [00:03<00:17, 23.15it/s]"
     ]
    },
    {
     "name": "stdout",
     "output_type": "stream",
     "text": [
      "Saved frame1068.jpg\n",
      "Saved frame number : 0\n",
      "Saved frame1069.jpg\n",
      "Saved frame number : 0\n",
      "Saved frame1070.jpg\n",
      "Saved frame number : 0\n",
      "Saved frame1071.jpg\n",
      "Saved frame number : 0\n",
      "Saved frame1072.jpg\n",
      "Saved frame number : 0\n"
     ]
    },
    {
     "name": "stderr",
     "output_type": "stream",
     "text": [
      "\r",
      " 20%|███████████████▊                                                                 | 96/492 [00:03<00:20, 19.17it/s]"
     ]
    },
    {
     "name": "stdout",
     "output_type": "stream",
     "text": [
      "Saved frame1073.jpg\n",
      "Saved frame number : 0\n",
      "Saved frame1074.jpg\n",
      "Saved frame number : 0\n",
      "Saved frame1075.jpg\n",
      "Saved frame number : 0\n",
      "Saved frame1076.jpg\n",
      "Saved frame number : 0\n"
     ]
    },
    {
     "name": "stderr",
     "output_type": "stream",
     "text": [
      " 21%|████████████████▌                                                               | 102/492 [00:04<00:17, 22.48it/s]"
     ]
    },
    {
     "name": "stdout",
     "output_type": "stream",
     "text": [
      "Saved frame1077.jpg\n",
      "Saved frame number : 0\n",
      "Saved frame1078.jpg\n",
      "Saved frame number : 0\n",
      "Saved frame1079.jpg\n",
      "Saved frame number : 0\n",
      "Saved frame1080.jpg\n",
      "Saved frame number : 0\n",
      "Saved frame1081.jpg\n",
      "Saved frame number : 0\n",
      "Saved frame1082.jpg\n",
      "Saved frame number : 0\n"
     ]
    },
    {
     "name": "stderr",
     "output_type": "stream",
     "text": [
      " 22%|█████████████████▋                                                              | 109/492 [00:04<00:14, 25.54it/s]"
     ]
    },
    {
     "name": "stdout",
     "output_type": "stream",
     "text": [
      "Saved frame1083.jpg\n",
      "Saved frame number : 0\n",
      "Saved frame1084.jpg\n",
      "Saved frame number : 0\n",
      "Saved frame1085.jpg\n",
      "Saved frame number : 0\n",
      "Saved frame1086.jpg\n",
      "Saved frame number : 0\n",
      "Saved frame1087.jpg\n",
      "Saved frame number : 0\n",
      "Saved frame1088.jpg\n",
      "Saved frame number : 0\n"
     ]
    },
    {
     "name": "stderr",
     "output_type": "stream",
     "text": [
      " 23%|██████████████████▋                                                             | 115/492 [00:04<00:14, 26.41it/s]"
     ]
    },
    {
     "name": "stdout",
     "output_type": "stream",
     "text": [
      "Saved frame1089.jpg\n",
      "Saved frame number : 0\n",
      "Saved frame1090.jpg\n",
      "Saved frame number : 0\n",
      "Saved frame1091.jpg\n",
      "Saved frame number : 0\n",
      "Saved frame1092.jpg\n",
      "Saved frame number : 0\n",
      "Saved frame1093.jpg\n",
      "Saved frame number : 0\n",
      "Saved frame1094.jpg\n"
     ]
    },
    {
     "name": "stderr",
     "output_type": "stream",
     "text": [
      "\r",
      " 24%|███████████████████▏                                                            | 118/492 [00:04<00:14, 26.41it/s]"
     ]
    },
    {
     "name": "stdout",
     "output_type": "stream",
     "text": [
      "Saved frame number : 0\n",
      "Saved frame1095.jpg\n",
      "Saved frame number : 0\n",
      "Saved frame1096.jpg\n",
      "Saved frame number : 0\n",
      "Saved frame1097.jpg\n",
      "Saved frame number : 0\n",
      "Saved frame1098.jpg\n",
      "Saved frame number : 0\n",
      "Saved frame1099.jpg\n",
      "Saved frame number : 0\n"
     ]
    },
    {
     "name": "stderr",
     "output_type": "stream",
     "text": [
      " 25%|████████████████████▏                                                           | 124/492 [00:04<00:14, 25.19it/s]"
     ]
    },
    {
     "name": "stdout",
     "output_type": "stream",
     "text": [
      "Saved frame1100.jpg\n",
      "Saved frame number : 0\n",
      "Saved frame1101.jpg\n",
      "Saved frame number : 0\n",
      "Saved frame1102.jpg\n",
      "Saved frame number : 0\n",
      "Saved frame1103.jpg\n",
      "Saved frame number : 0\n",
      "Saved frame1104.jpg\n",
      "Saved frame number : 0\n"
     ]
    },
    {
     "name": "stderr",
     "output_type": "stream",
     "text": [
      " 26%|█████████████████████▏                                                          | 130/492 [00:05<00:14, 24.33it/s]"
     ]
    },
    {
     "name": "stdout",
     "output_type": "stream",
     "text": [
      "Saved frame1105.jpg\n",
      "Saved frame number : 0\n",
      "Saved frame1106.jpg\n",
      "Saved frame number : 0\n",
      "Saved frame1107.jpg\n",
      "Saved frame number : 0\n",
      "Saved frame1108.jpg\n",
      "Saved frame number : 0\n",
      "Saved frame1109.jpg\n",
      "Saved frame number : 0\n"
     ]
    },
    {
     "name": "stderr",
     "output_type": "stream",
     "text": [
      "\r",
      " 27%|█████████████████████▋                                                          | 133/492 [00:05<00:14, 24.55it/s]"
     ]
    },
    {
     "name": "stdout",
     "output_type": "stream",
     "text": [
      "Saved frame1110.jpg\n",
      "Saved frame number : 0\n",
      "Saved frame1111.jpg\n",
      "Saved frame number : 0\n",
      "Saved frame1112.jpg\n",
      "Saved frame number : 0\n",
      "Saved frame1113.jpg\n",
      "Saved frame number : 0\n",
      "Saved frame1114.jpg\n",
      "Saved frame number : 0\n"
     ]
    },
    {
     "name": "stderr",
     "output_type": "stream",
     "text": [
      " 28%|██████████████████████▌                                                         | 139/492 [00:05<00:14, 24.11it/s]"
     ]
    },
    {
     "name": "stdout",
     "output_type": "stream",
     "text": [
      "Saved frame1115.jpg\n",
      "Saved frame number : 0\n",
      "Saved frame1116.jpg\n",
      "Saved frame number : 0\n",
      "Saved frame1117.jpg\n",
      "Saved frame number : 0\n",
      "Saved frame1118.jpg\n",
      "Saved frame number : 0\n",
      "Saved frame1119.jpg\n",
      "Saved frame number : 0\n"
     ]
    },
    {
     "name": "stderr",
     "output_type": "stream",
     "text": [
      "\r",
      " 29%|███████████████████████                                                         | 142/492 [00:05<00:15, 23.18it/s]"
     ]
    },
    {
     "name": "stdout",
     "output_type": "stream",
     "text": [
      "Saved frame1120.jpg\n",
      "Saved frame number : 0\n",
      "Saved frame1121.jpg\n",
      "Saved frame number : 0\n",
      "Saved frame1122.jpg\n",
      "Saved frame number : 0\n",
      "Saved frame1123.jpg\n"
     ]
    },
    {
     "name": "stderr",
     "output_type": "stream",
     "text": [
      " 30%|████████████████████████                                                        | 148/492 [00:06<00:15, 22.22it/s]"
     ]
    },
    {
     "name": "stdout",
     "output_type": "stream",
     "text": [
      "Saved frame number : 0\n",
      "Saved frame1124.jpg\n",
      "Saved frame number : 0\n",
      "Saved frame1125.jpg\n",
      "Saved frame number : 0\n",
      "Saved frame1126.jpg\n",
      "Saved frame number : 0\n",
      "Saved frame1127.jpg\n",
      "Saved frame number : 0\n",
      "Saved frame1128.jpg\n",
      "Saved frame number : 0\n"
     ]
    },
    {
     "name": "stderr",
     "output_type": "stream",
     "text": [
      " 31%|█████████████████████████                                                       | 154/492 [00:06<00:14, 24.11it/s]"
     ]
    },
    {
     "name": "stdout",
     "output_type": "stream",
     "text": [
      "Saved frame1129.jpg\n",
      "Saved frame number : 0\n",
      "Saved frame1130.jpg\n",
      "Saved frame number : 0\n",
      "Saved frame1131.jpg\n",
      "Saved frame number : 0\n",
      "Saved frame1132.jpg\n",
      "Saved frame number : 0\n",
      "Saved frame1133.jpg\n",
      "Saved frame number : 0\n"
     ]
    },
    {
     "name": "stderr",
     "output_type": "stream",
     "text": [
      " 33%|██████████████████████████                                                      | 160/492 [00:06<00:13, 25.19it/s]"
     ]
    },
    {
     "name": "stdout",
     "output_type": "stream",
     "text": [
      "Saved frame1134.jpg\n",
      "Saved frame number : 0\n",
      "Saved frame1135.jpg\n",
      "Saved frame number : 0\n",
      "Saved frame1136.jpg\n",
      "Saved frame number : 0\n",
      "Saved frame1137.jpg\n",
      "Saved frame number : 0\n",
      "Saved frame1138.jpg\n",
      "Saved frame number : 0\n",
      "Saved frame1139.jpg\n"
     ]
    },
    {
     "name": "stderr",
     "output_type": "stream",
     "text": [
      "\r",
      " 33%|██████████████████████████▌                                                     | 163/492 [00:06<00:13, 25.28it/s]"
     ]
    },
    {
     "name": "stdout",
     "output_type": "stream",
     "text": [
      "Saved frame number : 0\n",
      "Saved frame1140.jpg\n",
      "Saved frame number : 0\n",
      "Saved frame1141.jpg\n",
      "Saved frame number : 0\n",
      "Saved frame1142.jpg\n",
      "Saved frame number : 0\n",
      "Saved frame1143.jpg\n",
      "Saved frame number : 0\n",
      "Saved frame1144.jpg\n",
      "Saved frame number : 0\n"
     ]
    },
    {
     "name": "stderr",
     "output_type": "stream",
     "text": [
      " 34%|███████████████████████████▍                                                    | 169/492 [00:06<00:12, 25.94it/s]"
     ]
    },
    {
     "name": "stdout",
     "output_type": "stream",
     "text": [
      "Saved frame1145.jpg\n",
      "Saved frame number : 0\n",
      "Saved frame1146.jpg\n",
      "Saved frame number : 0\n",
      "Saved frame1147.jpg\n",
      "Saved frame number : 0\n",
      "Saved frame1148.jpg\n",
      "Saved frame number : 0\n",
      "Saved frame1149.jpg\n",
      "Saved frame number : 0\n"
     ]
    },
    {
     "name": "stderr",
     "output_type": "stream",
     "text": [
      " 36%|████████████████████████████▍                                                   | 175/492 [00:07<00:13, 22.81it/s]"
     ]
    },
    {
     "name": "stdout",
     "output_type": "stream",
     "text": [
      "Saved frame1150.jpg\n",
      "Saved frame number : 0\n",
      "Saved frame1151.jpg\n",
      "Saved frame number : 0\n",
      "Saved frame1152.jpg\n",
      "Saved frame number : 0\n",
      "Saved frame1153.jpg\n",
      "Saved frame number : 0\n",
      "Saved frame1154.jpg\n"
     ]
    },
    {
     "name": "stderr",
     "output_type": "stream",
     "text": [
      "\r",
      " 36%|████████████████████████████▉                                                   | 178/492 [00:07<00:13, 22.70it/s]"
     ]
    },
    {
     "name": "stdout",
     "output_type": "stream",
     "text": [
      "Saved frame number : 0\n",
      "Saved frame1155.jpg\n",
      "Saved frame number : 0\n",
      "Saved frame1156.jpg\n",
      "Saved frame number : 0\n",
      "Saved frame1157.jpg\n",
      "Saved frame number : 0\n",
      "Saved frame1158.jpg\n",
      "Saved frame number : 0\n",
      "Saved frame1159.jpg\n"
     ]
    },
    {
     "name": "stderr",
     "output_type": "stream",
     "text": [
      " 37%|█████████████████████████████▉                                                  | 184/492 [00:07<00:13, 22.93it/s]"
     ]
    },
    {
     "name": "stdout",
     "output_type": "stream",
     "text": [
      "Saved frame number : 0\n",
      "Saved frame1160.jpg\n",
      "Saved frame number : 0\n",
      "Saved frame1161.jpg\n",
      "Saved frame number : 0\n",
      "Saved frame1162.jpg\n",
      "Saved frame number : 0\n",
      "Saved frame1163.jpg\n",
      "Saved frame number : 0\n",
      "Saved frame1164.jpg\n"
     ]
    },
    {
     "name": "stderr",
     "output_type": "stream",
     "text": [
      " 39%|██████████████████████████████▉                                                 | 190/492 [00:07<00:13, 23.12it/s]"
     ]
    },
    {
     "name": "stdout",
     "output_type": "stream",
     "text": [
      "Saved frame number : 0\n",
      "Saved frame1165.jpg\n",
      "Saved frame number : 0\n",
      "Saved frame1166.jpg\n",
      "Saved frame number : 0\n",
      "Saved frame1167.jpg\n",
      "Saved frame number : 0\n",
      "Saved frame1168.jpg\n",
      "Saved frame number : 0\n",
      "Saved frame1169.jpg\n"
     ]
    },
    {
     "name": "stderr",
     "output_type": "stream",
     "text": [
      "\r",
      " 39%|███████████████████████████████▍                                                | 193/492 [00:07<00:12, 23.37it/s]"
     ]
    },
    {
     "name": "stdout",
     "output_type": "stream",
     "text": [
      "Saved frame number : 0\n",
      "Saved frame1170.jpg\n",
      "Saved frame number : 0\n",
      "Saved frame1171.jpg\n",
      "Saved frame number : 0\n",
      "Saved frame1172.jpg\n",
      "Saved frame number : 0\n",
      "Saved frame1173.jpg\n",
      "Saved frame number : 0\n",
      "Saved frame1174.jpg\n"
     ]
    },
    {
     "name": "stderr",
     "output_type": "stream",
     "text": [
      " 40%|████████████████████████████████▎                                               | 199/492 [00:08<00:12, 23.70it/s]"
     ]
    },
    {
     "name": "stdout",
     "output_type": "stream",
     "text": [
      "Saved frame number : 0\n",
      "Saved frame1175.jpg\n",
      "Saved frame number : 0\n",
      "Saved frame1176.jpg\n",
      "Saved frame number : 0\n",
      "Saved frame1177.jpg\n",
      "Saved frame number : 0\n",
      "Saved frame1178.jpg\n",
      "Saved frame number : 0\n",
      "Saved frame1179.jpg\n",
      "Saved frame number : 0\n"
     ]
    },
    {
     "name": "stderr",
     "output_type": "stream",
     "text": [
      " 42%|█████████████████████████████████▎                                              | 205/492 [00:08<00:11, 24.30it/s]"
     ]
    },
    {
     "name": "stdout",
     "output_type": "stream",
     "text": [
      "Saved frame1180.jpg\n",
      "Saved frame number : 0\n",
      "Saved frame1181.jpg\n",
      "Saved frame number : 0\n",
      "Saved frame1182.jpg\n",
      "Saved frame number : 0\n",
      "Saved frame1183.jpg\n",
      "Saved frame number : 0\n",
      "Saved frame1184.jpg\n",
      "Saved frame number : 0\n"
     ]
    },
    {
     "name": "stderr",
     "output_type": "stream",
     "text": [
      " 43%|██████████████████████████████████▎                                             | 211/492 [00:08<00:11, 24.46it/s]"
     ]
    },
    {
     "name": "stdout",
     "output_type": "stream",
     "text": [
      "Saved frame1185.jpg\n",
      "Saved frame number : 0\n",
      "Saved frame1186.jpg\n",
      "Saved frame number : 0\n",
      "Saved frame1187.jpg\n",
      "Saved frame number : 0\n",
      "Saved frame1188.jpg\n",
      "Saved frame number : 0\n",
      "Saved frame1189.jpg\n",
      "Saved frame number : 0\n",
      "Saved frame1190.jpg\n"
     ]
    },
    {
     "name": "stderr",
     "output_type": "stream",
     "text": [
      "\r",
      " 43%|██████████████████████████████████▊                                             | 214/492 [00:08<00:11, 24.95it/s]"
     ]
    },
    {
     "name": "stdout",
     "output_type": "stream",
     "text": [
      "Saved frame number : 0\n",
      "Saved frame1191.jpg\n",
      "Saved frame number : 0\n",
      "Saved frame1192.jpg\n",
      "Saved frame number : 0\n",
      "Saved frame1193.jpg\n",
      "Saved frame number : 0\n",
      "Saved frame1194.jpg\n",
      "Saved frame number : 0\n",
      "Saved frame1195.jpg\n",
      "Saved frame number : 0\n"
     ]
    },
    {
     "name": "stderr",
     "output_type": "stream",
     "text": [
      " 45%|███████████████████████████████████▊                                            | 220/492 [00:08<00:10, 25.64it/s]"
     ]
    },
    {
     "name": "stdout",
     "output_type": "stream",
     "text": [
      "Saved frame1196.jpg\n",
      "Saved frame number : 0\n",
      "Saved frame1197.jpg\n",
      "Saved frame number : 0\n",
      "Saved frame1198.jpg\n",
      "Saved frame number : 0\n",
      "Saved frame1199.jpg\n",
      "Saved frame number : 0\n",
      "Saved frame1200.jpg\n",
      "Saved frame number : 0\n",
      "Saved frame1201.jpg\n",
      "Saved frame number : 0\n"
     ]
    },
    {
     "name": "stderr",
     "output_type": "stream",
     "text": [
      " 46%|████████████████████████████████████▋                                           | 226/492 [00:09<00:09, 26.83it/s]"
     ]
    },
    {
     "name": "stdout",
     "output_type": "stream",
     "text": [
      "Saved frame1202.jpg\n",
      "Saved frame number : 0\n",
      "Saved frame1203.jpg\n",
      "Saved frame number : 0\n",
      "Saved frame1204.jpg\n",
      "Saved frame number : 0\n",
      "Saved frame1205.jpg\n",
      "Saved frame number : 0\n",
      "Saved frame1206.jpg\n",
      "Saved frame number : 0\n",
      "Saved frame1207.jpg\n",
      "Saved frame number : 0\n"
     ]
    },
    {
     "name": "stderr",
     "output_type": "stream",
     "text": [
      " 47%|█████████████████████████████████████▋                                          | 232/492 [00:09<00:09, 26.82it/s]"
     ]
    },
    {
     "name": "stdout",
     "output_type": "stream",
     "text": [
      "Saved frame1208.jpg\n",
      "Saved frame number : 0\n",
      "Saved frame1209.jpg\n",
      "Saved frame number : 0\n",
      "Saved frame1210.jpg\n",
      "Saved frame number : 0\n",
      "Saved frame1211.jpg\n",
      "Saved frame number : 0\n",
      "Saved frame1212.jpg\n",
      "Saved frame number : 0\n",
      "Saved frame1213.jpg\n",
      "Saved frame number : 0\n"
     ]
    },
    {
     "name": "stderr",
     "output_type": "stream",
     "text": [
      " 48%|██████████████████████████████████████▋                                         | 238/492 [00:09<00:09, 26.96it/s]"
     ]
    },
    {
     "name": "stdout",
     "output_type": "stream",
     "text": [
      "Saved frame1214.jpg\n",
      "Saved frame number : 0\n",
      "Saved frame1215.jpg\n",
      "Saved frame number : 0\n",
      "Saved frame1216.jpg\n",
      "Saved frame number : 0\n",
      "Saved frame1217.jpg\n",
      "Saved frame number : 0\n",
      "Saved frame1218.jpg\n",
      "Saved frame number : 0\n",
      "Saved frame1219.jpg\n"
     ]
    },
    {
     "name": "stderr",
     "output_type": "stream",
     "text": [
      " 50%|███████████████████████████████████████▋                                        | 244/492 [00:09<00:10, 24.70it/s]"
     ]
    },
    {
     "name": "stdout",
     "output_type": "stream",
     "text": [
      "Saved frame number : 0\n",
      "Saved frame1220.jpg\n",
      "Saved frame number : 0\n",
      "Saved frame1221.jpg\n",
      "Saved frame number : 0\n",
      "Saved frame1222.jpg\n",
      "Saved frame number : 0\n",
      "Saved frame1223.jpg\n",
      "Saved frame number : 0\n"
     ]
    },
    {
     "name": "stderr",
     "output_type": "stream",
     "text": [
      "\r",
      " 50%|████████████████████████████████████████▏                                       | 247/492 [00:10<00:10, 22.94it/s]"
     ]
    },
    {
     "name": "stdout",
     "output_type": "stream",
     "text": [
      "Saved frame1224.jpg\n",
      "Saved frame number : 0\n",
      "Saved frame1225.jpg\n",
      "Saved frame number : 0\n",
      "Saved frame1226.jpg\n",
      "Saved frame number : 0\n",
      "Saved frame1227.jpg\n",
      "Saved frame number : 0\n",
      "Saved frame1228.jpg\n"
     ]
    },
    {
     "name": "stderr",
     "output_type": "stream",
     "text": [
      " 51%|█████████████████████████████████████████▏                                      | 253/492 [00:10<00:10, 23.02it/s]"
     ]
    },
    {
     "name": "stdout",
     "output_type": "stream",
     "text": [
      "Saved frame number : 0\n",
      "Saved frame1229.jpg\n",
      "Saved frame number : 0\n",
      "Saved frame1230.jpg\n",
      "Saved frame number : 0\n",
      "Saved frame1231.jpg\n",
      "Saved frame number : 0\n",
      "Saved frame1232.jpg\n",
      "Saved frame number : 0\n",
      "Saved frame1233.jpg\n"
     ]
    },
    {
     "name": "stderr",
     "output_type": "stream",
     "text": [
      "\r",
      " 52%|█████████████████████████████████████████▋                                      | 256/492 [00:10<00:11, 21.34it/s]"
     ]
    },
    {
     "name": "stdout",
     "output_type": "stream",
     "text": [
      "Saved frame number : 0\n",
      "Saved frame1234.jpg\n",
      "Saved frame number : 0\n",
      "Saved frame1235.jpg\n",
      "Saved frame number : 0\n",
      "Saved frame1236.jpg\n",
      "Saved frame number : 0\n",
      "Saved frame1237.jpg\n",
      "Saved frame number : 0\n"
     ]
    },
    {
     "name": "stderr",
     "output_type": "stream",
     "text": [
      " 53%|██████████████████████████████████████████▌                                     | 262/492 [00:10<00:10, 21.82it/s]"
     ]
    },
    {
     "name": "stdout",
     "output_type": "stream",
     "text": [
      "Saved frame1238.jpg\n",
      "Saved frame number : 0\n",
      "Saved frame1239.jpg\n",
      "Saved frame number : 0\n",
      "Saved frame1240.jpg\n",
      "Saved frame number : 0\n",
      "Saved frame1241.jpg\n",
      "Saved frame number : 0\n",
      "Saved frame1242.jpg\n"
     ]
    },
    {
     "name": "stderr",
     "output_type": "stream",
     "text": [
      "\r",
      " 54%|███████████████████████████████████████████                                     | 265/492 [00:10<00:10, 21.92it/s]"
     ]
    },
    {
     "name": "stdout",
     "output_type": "stream",
     "text": [
      "Saved frame number : 0\n",
      "Saved frame1243.jpg\n",
      "Saved frame number : 0\n",
      "Saved frame1244.jpg\n",
      "Saved frame number : 0\n",
      "Saved frame1245.jpg\n",
      "Saved frame number : 0\n",
      "Saved frame1246.jpg\n",
      "Saved frame number : 0\n"
     ]
    },
    {
     "name": "stderr",
     "output_type": "stream",
     "text": [
      " 55%|████████████████████████████████████████████                                    | 271/492 [00:11<00:10, 20.13it/s]"
     ]
    },
    {
     "name": "stdout",
     "output_type": "stream",
     "text": [
      "Saved frame1247.jpg\n",
      "Saved frame number : 0\n",
      "Saved frame1248.jpg\n",
      "Saved frame number : 0\n",
      "Saved frame1249.jpg\n",
      "Saved frame number : 0\n",
      "Saved frame1250.jpg\n",
      "Saved frame number : 0\n"
     ]
    },
    {
     "name": "stderr",
     "output_type": "stream",
     "text": [
      "\r",
      " 56%|████████████████████████████████████████████▌                                   | 274/492 [00:11<00:10, 20.60it/s]"
     ]
    },
    {
     "name": "stdout",
     "output_type": "stream",
     "text": [
      "Saved frame1251.jpg\n",
      "Saved frame number : 0\n",
      "Saved frame1252.jpg\n",
      "Saved frame number : 0\n",
      "Saved frame1253.jpg\n",
      "Saved frame number : 0\n",
      "Saved frame1254.jpg\n",
      "Saved frame number : 0\n",
      "Saved frame1255.jpg\n"
     ]
    },
    {
     "name": "stderr",
     "output_type": "stream",
     "text": [
      " 57%|█████████████████████████████████████████████▌                                  | 280/492 [00:11<00:09, 21.53it/s]"
     ]
    },
    {
     "name": "stdout",
     "output_type": "stream",
     "text": [
      "Saved frame number : 0\n",
      "Saved frame1256.jpg\n",
      "Saved frame number : 0\n",
      "Saved frame1257.jpg\n",
      "Saved frame number : 0\n",
      "Saved frame1258.jpg\n",
      "Saved frame number : 0\n",
      "Saved frame1259.jpg\n",
      "Saved frame number : 0\n",
      "Saved frame1260.jpg\n",
      "Saved frame number : 0\n"
     ]
    },
    {
     "name": "stderr",
     "output_type": "stream",
     "text": [
      " 58%|██████████████████████████████████████████████▌                                 | 286/492 [00:11<00:09, 22.59it/s]"
     ]
    },
    {
     "name": "stdout",
     "output_type": "stream",
     "text": [
      "Saved frame1261.jpg\n",
      "Saved frame number : 0\n",
      "Saved frame1262.jpg\n",
      "Saved frame number : 0\n",
      "Saved frame1263.jpg\n",
      "Saved frame number : 0\n",
      "Saved frame1264.jpg\n",
      "Saved frame number : 0\n",
      "Saved frame1265.jpg\n",
      "Saved frame number : 0\n"
     ]
    },
    {
     "name": "stderr",
     "output_type": "stream",
     "text": [
      "\r",
      " 59%|██████████████████████████████████████████████▉                                 | 289/492 [00:12<00:08, 22.76it/s]"
     ]
    },
    {
     "name": "stdout",
     "output_type": "stream",
     "text": [
      "Saved frame1266.jpg\n",
      "Saved frame number : 0\n",
      "Saved frame1267.jpg\n",
      "Saved frame number : 0\n",
      "Saved frame1268.jpg\n",
      "Saved frame number : 0\n",
      "Saved frame1269.jpg\n",
      "Saved frame number : 0\n",
      "Saved frame1270.jpg\n"
     ]
    },
    {
     "name": "stderr",
     "output_type": "stream",
     "text": [
      " 60%|███████████████████████████████████████████████▉                                | 295/492 [00:12<00:08, 22.12it/s]"
     ]
    },
    {
     "name": "stdout",
     "output_type": "stream",
     "text": [
      "Saved frame number : 0\n",
      "Saved frame1271.jpg\n",
      "Saved frame number : 0\n",
      "Saved frame1272.jpg\n",
      "Saved frame number : 0\n",
      "Saved frame1273.jpg\n",
      "Saved frame number : 0\n",
      "Saved frame1274.jpg\n",
      "Saved frame number : 0\n",
      "Saved frame1275.jpg\n"
     ]
    },
    {
     "name": "stderr",
     "output_type": "stream",
     "text": [
      "\r",
      " 61%|████████████████████████████████████████████████▍                               | 298/492 [00:12<00:08, 21.88it/s]"
     ]
    },
    {
     "name": "stdout",
     "output_type": "stream",
     "text": [
      "Saved frame number : 0\n",
      "Saved frame1276.jpg\n",
      "Saved frame number : 0\n",
      "Saved frame1277.jpg\n",
      "Saved frame number : 0\n",
      "Saved frame1278.jpg\n",
      "Saved frame number : 0\n",
      "Saved frame1279.jpg\n",
      "Saved frame number : 0\n"
     ]
    },
    {
     "name": "stderr",
     "output_type": "stream",
     "text": [
      " 62%|█████████████████████████████████████████████████▍                              | 304/492 [00:12<00:08, 22.33it/s]"
     ]
    },
    {
     "name": "stdout",
     "output_type": "stream",
     "text": [
      "Saved frame1280.jpg\n",
      "Saved frame number : 0\n",
      "Saved frame1281.jpg\n",
      "Saved frame number : 0\n",
      "Saved frame1282.jpg\n",
      "Saved frame number : 0\n",
      "Saved frame1283.jpg\n",
      "Saved frame number : 0\n",
      "Saved frame1284.jpg\n",
      "Saved frame number : 0\n"
     ]
    },
    {
     "name": "stderr",
     "output_type": "stream",
     "text": [
      " 63%|██████████████████████████████████████████████████▍                             | 310/492 [00:12<00:08, 22.60it/s]"
     ]
    },
    {
     "name": "stdout",
     "output_type": "stream",
     "text": [
      "Saved frame1285.jpg\n",
      "Saved frame number : 0\n",
      "Saved frame1286.jpg\n",
      "Saved frame number : 0\n",
      "Saved frame1287.jpg\n",
      "Saved frame number : 0\n",
      "Saved frame1288.jpg\n",
      "Saved frame number : 0\n",
      "Saved frame1289.jpg\n",
      "Saved frame number : 0\n"
     ]
    },
    {
     "name": "stderr",
     "output_type": "stream",
     "text": [
      "\r",
      " 64%|██████████████████████████████████████████████████▉                             | 313/492 [00:13<00:07, 22.71it/s]"
     ]
    },
    {
     "name": "stdout",
     "output_type": "stream",
     "text": [
      "Saved frame1290.jpg\n",
      "Saved frame number : 0\n",
      "Saved frame1291.jpg\n",
      "Saved frame number : 0\n",
      "Saved frame1292.jpg\n",
      "Saved frame number : 0\n",
      "Saved frame1293.jpg\n",
      "Saved frame number : 0\n",
      "Saved frame1294.jpg\n",
      "Saved frame number : 0\n"
     ]
    },
    {
     "name": "stderr",
     "output_type": "stream",
     "text": [
      " 65%|███████████████████████████████████████████████████▊                            | 319/492 [00:13<00:07, 23.33it/s]"
     ]
    },
    {
     "name": "stdout",
     "output_type": "stream",
     "text": [
      "Saved frame1295.jpg\n",
      "Saved frame number : 0\n",
      "Saved frame1296.jpg\n",
      "Saved frame number : 0\n",
      "Saved frame1297.jpg\n",
      "Saved frame number : 0\n",
      "Saved frame1298.jpg\n",
      "Saved frame number : 0\n",
      "Saved frame1299.jpg\n",
      "Saved frame number : 0\n"
     ]
    },
    {
     "name": "stderr",
     "output_type": "stream",
     "text": [
      " 66%|████████████████████████████████████████████████████▊                           | 325/492 [00:13<00:07, 23.50it/s]"
     ]
    },
    {
     "name": "stdout",
     "output_type": "stream",
     "text": [
      "Saved frame1300.jpg\n",
      "Saved frame number : 0\n",
      "Saved frame1301.jpg\n",
      "Saved frame number : 0\n",
      "Saved frame1302.jpg\n",
      "Saved frame number : 0\n",
      "Saved frame1303.jpg\n",
      "Saved frame number : 0\n",
      "Saved frame1304.jpg\n",
      "Saved frame number : 0\n"
     ]
    },
    {
     "name": "stderr",
     "output_type": "stream",
     "text": [
      "\r",
      " 67%|█████████████████████████████████████████████████████▎                          | 328/492 [00:13<00:06, 24.18it/s]"
     ]
    },
    {
     "name": "stdout",
     "output_type": "stream",
     "text": [
      "Saved frame1305.jpg\n",
      "Saved frame number : 0\n",
      "Saved frame1306.jpg\n",
      "Saved frame number : 0\n",
      "Saved frame1307.jpg\n",
      "Saved frame number : 0\n",
      "Saved frame1308.jpg\n",
      "Saved frame number : 0\n",
      "Saved frame1309.jpg\n",
      "Saved frame number : 0\n"
     ]
    },
    {
     "name": "stderr",
     "output_type": "stream",
     "text": [
      " 68%|██████████████████████████████████████████████████████▎                         | 334/492 [00:13<00:06, 24.32it/s]"
     ]
    },
    {
     "name": "stdout",
     "output_type": "stream",
     "text": [
      "Saved frame1310.jpg\n",
      "Saved frame number : 0\n",
      "Saved frame1311.jpg\n",
      "Saved frame number : 0\n",
      "Saved frame1312.jpg\n",
      "Saved frame number : 0\n",
      "Saved frame1313.jpg\n",
      "Saved frame number : 0\n",
      "Saved frame1314.jpg\n",
      "Saved frame number : 0\n"
     ]
    },
    {
     "name": "stderr",
     "output_type": "stream",
     "text": [
      " 69%|███████████████████████████████████████████████████████▎                        | 340/492 [00:14<00:06, 24.43it/s]"
     ]
    },
    {
     "name": "stdout",
     "output_type": "stream",
     "text": [
      "Saved frame1315.jpg\n",
      "Saved frame number : 0\n",
      "Saved frame1316.jpg\n",
      "Saved frame number : 0\n",
      "Saved frame1317.jpg\n",
      "Saved frame number : 0\n",
      "Saved frame1318.jpg\n",
      "Saved frame number : 0\n",
      "Saved frame1319.jpg\n",
      "Saved frame number : 0\n"
     ]
    },
    {
     "name": "stderr",
     "output_type": "stream",
     "text": [
      "\r",
      " 70%|███████████████████████████████████████████████████████▊                        | 343/492 [00:14<00:06, 24.56it/s]"
     ]
    },
    {
     "name": "stdout",
     "output_type": "stream",
     "text": [
      "Saved frame1320.jpg\n",
      "Saved frame number : 0\n",
      "Saved frame1321.jpg\n",
      "Saved frame number : 0\n",
      "Saved frame1322.jpg\n",
      "Saved frame number : 0\n",
      "Saved frame1323.jpg\n",
      "Saved frame number : 0\n",
      "Saved frame1324.jpg\n",
      "Saved frame number : 0\n"
     ]
    },
    {
     "name": "stderr",
     "output_type": "stream",
     "text": [
      " 71%|████████████████████████████████████████████████████████▋                       | 349/492 [00:14<00:05, 24.15it/s]"
     ]
    },
    {
     "name": "stdout",
     "output_type": "stream",
     "text": [
      "Saved frame1325.jpg\n",
      "Saved frame number : 0\n",
      "Saved frame1326.jpg\n",
      "Saved frame number : 0\n",
      "Saved frame1327.jpg\n",
      "Saved frame number : 0\n",
      "Saved frame1328.jpg\n",
      "Saved frame number : 0\n",
      "Saved frame1329.jpg\n",
      "Saved frame number : 0\n",
      "Saved frame1330.jpg\n"
     ]
    },
    {
     "name": "stderr",
     "output_type": "stream",
     "text": [
      " 72%|█████████████████████████████████████████████████████████▋                      | 355/492 [00:14<00:05, 24.30it/s]"
     ]
    },
    {
     "name": "stdout",
     "output_type": "stream",
     "text": [
      "Saved frame number : 0\n",
      "Saved frame1331.jpg\n",
      "Saved frame number : 0\n",
      "Saved frame1332.jpg\n",
      "Saved frame number : 0\n",
      "Saved frame1333.jpg\n",
      "Saved frame number : 0\n",
      "Saved frame1334.jpg\n",
      "Saved frame number : 0\n",
      "Saved frame1335.jpg\n"
     ]
    },
    {
     "name": "stderr",
     "output_type": "stream",
     "text": [
      " 73%|██████████████████████████████████████████████████████████▋                     | 361/492 [00:15<00:05, 24.68it/s]"
     ]
    },
    {
     "name": "stdout",
     "output_type": "stream",
     "text": [
      "Saved frame number : 0\n",
      "Saved frame1336.jpg\n",
      "Saved frame number : 0\n",
      "Saved frame1337.jpg\n",
      "Saved frame number : 0\n",
      "Saved frame1338.jpg\n",
      "Saved frame number : 0\n",
      "Saved frame1339.jpg\n",
      "Saved frame number : 0\n",
      "Saved frame1340.jpg\n"
     ]
    },
    {
     "name": "stderr",
     "output_type": "stream",
     "text": [
      "\r",
      " 74%|███████████████████████████████████████████████████████████▏                    | 364/492 [00:15<00:05, 24.32it/s]"
     ]
    },
    {
     "name": "stdout",
     "output_type": "stream",
     "text": [
      "Saved frame number : 0\n",
      "Saved frame1341.jpg\n",
      "Saved frame number : 0\n",
      "Saved frame1342.jpg\n",
      "Saved frame number : 0\n",
      "Saved frame1343.jpg\n",
      "Saved frame number : 0\n",
      "Saved frame1344.jpg\n",
      "Saved frame number : 0\n",
      "Saved frame1345.jpg\n"
     ]
    },
    {
     "name": "stderr",
     "output_type": "stream",
     "text": [
      " 75%|████████████████████████████████████████████████████████████▏                   | 370/492 [00:15<00:04, 24.54it/s]"
     ]
    },
    {
     "name": "stdout",
     "output_type": "stream",
     "text": [
      "Saved frame number : 0\n",
      "Saved frame1346.jpg\n",
      "Saved frame number : 0\n",
      "Saved frame1347.jpg\n",
      "Saved frame number : 0\n",
      "Saved frame1348.jpg\n",
      "Saved frame number : 0\n",
      "Saved frame1349.jpg\n",
      "Saved frame number : 0\n",
      "Saved frame1350.jpg\n"
     ]
    },
    {
     "name": "stderr",
     "output_type": "stream",
     "text": [
      " 76%|█████████████████████████████████████████████████████████████▏                  | 376/492 [00:15<00:04, 23.80it/s]"
     ]
    },
    {
     "name": "stdout",
     "output_type": "stream",
     "text": [
      "Saved frame number : 0\n",
      "Saved frame1351.jpg\n",
      "Saved frame number : 0\n",
      "Saved frame1352.jpg\n",
      "Saved frame number : 0\n",
      "Saved frame1353.jpg\n",
      "Saved frame number : 0\n",
      "Saved frame1354.jpg\n",
      "Saved frame number : 0\n",
      "Saved frame1355.jpg\n"
     ]
    },
    {
     "name": "stderr",
     "output_type": "stream",
     "text": [
      "\r",
      " 77%|█████████████████████████████████████████████████████████████▋                  | 379/492 [00:15<00:04, 22.76it/s]"
     ]
    },
    {
     "name": "stdout",
     "output_type": "stream",
     "text": [
      "Saved frame number : 0\n",
      "Saved frame1356.jpg\n",
      "Saved frame number : 0\n",
      "Saved frame1357.jpg\n",
      "Saved frame number : 0\n",
      "Saved frame1358.jpg\n",
      "Saved frame number : 0\n",
      "Saved frame1359.jpg\n",
      "Saved frame number : 0\n"
     ]
    },
    {
     "name": "stderr",
     "output_type": "stream",
     "text": [
      " 78%|██████████████████████████████████████████████████████████████▌                 | 385/492 [00:16<00:04, 22.58it/s]"
     ]
    },
    {
     "name": "stdout",
     "output_type": "stream",
     "text": [
      "Saved frame1360.jpg\n",
      "Saved frame number : 0\n",
      "Saved frame1361.jpg\n",
      "Saved frame number : 0\n",
      "Saved frame1362.jpg\n",
      "Saved frame number : 0\n",
      "Saved frame1363.jpg\n",
      "Saved frame number : 0\n",
      "Saved frame1364.jpg\n",
      "Saved frame number : 0\n"
     ]
    },
    {
     "name": "stderr",
     "output_type": "stream",
     "text": [
      "\r",
      " 79%|███████████████████████████████████████████████████████████████                 | 388/492 [00:16<00:04, 22.59it/s]"
     ]
    },
    {
     "name": "stdout",
     "output_type": "stream",
     "text": [
      "Saved frame1365.jpg\n",
      "Saved frame number : 0\n",
      "Saved frame1366.jpg\n",
      "Saved frame number : 0\n",
      "Saved frame1367.jpg\n",
      "Saved frame number : 0\n",
      "Saved frame1368.jpg\n",
      "Saved frame number : 0\n",
      "Saved frame1369.jpg\n",
      "Saved frame number : 0\n"
     ]
    },
    {
     "name": "stderr",
     "output_type": "stream",
     "text": [
      " 80%|████████████████████████████████████████████████████████████████                | 394/492 [00:16<00:04, 22.25it/s]"
     ]
    },
    {
     "name": "stdout",
     "output_type": "stream",
     "text": [
      "Saved frame1370.jpg\n",
      "Saved frame number : 0\n",
      "Saved frame1371.jpg\n",
      "Saved frame number : 0\n",
      "Saved frame1372.jpg\n",
      "Saved frame number : 0\n",
      "Saved frame1373.jpg\n",
      "Saved frame number : 0\n",
      "Saved frame1374.jpg\n"
     ]
    },
    {
     "name": "stderr",
     "output_type": "stream",
     "text": [
      " 81%|█████████████████████████████████████████████████████████████████               | 400/492 [00:16<00:03, 23.33it/s]"
     ]
    },
    {
     "name": "stdout",
     "output_type": "stream",
     "text": [
      "Saved frame number : 0\n",
      "Saved frame1375.jpg\n",
      "Saved frame number : 0\n",
      "Saved frame1376.jpg\n",
      "Saved frame number : 0\n",
      "Saved frame1377.jpg\n",
      "Saved frame number : 0\n",
      "Saved frame1378.jpg\n",
      "Saved frame number : 0\n",
      "Saved frame1379.jpg\n",
      "Saved frame number : 0\n"
     ]
    },
    {
     "name": "stderr",
     "output_type": "stream",
     "text": [
      "\r",
      " 82%|█████████████████████████████████████████████████████████████████▌              | 403/492 [00:16<00:03, 23.93it/s]"
     ]
    },
    {
     "name": "stdout",
     "output_type": "stream",
     "text": [
      "Saved frame1380.jpg\n",
      "Saved frame number : 0\n",
      "Saved frame1381.jpg\n",
      "Saved frame number : 0\n",
      "Saved frame1382.jpg\n",
      "Saved frame number : 0\n",
      "Saved frame1383.jpg\n",
      "Saved frame number : 0\n",
      "Saved frame1384.jpg\n",
      "Saved frame number : 0\n"
     ]
    },
    {
     "name": "stderr",
     "output_type": "stream",
     "text": [
      "\r",
      " 83%|██████████████████████████████████████████████████████████████████              | 406/492 [00:16<00:03, 24.29it/s]"
     ]
    },
    {
     "name": "stdout",
     "output_type": "stream",
     "text": [
      "Saved frame1385.jpg\n",
      "Saved frame number : 0\n",
      "Saved frame1386.jpg\n",
      "Saved frame number : 0\n",
      "Saved frame1387.jpg\n",
      "Saved frame number : 0\n"
     ]
    },
    {
     "name": "stderr",
     "output_type": "stream",
     "text": [
      " 84%|██████████████████████████████████████████████████████████████████▉             | 412/492 [00:17<00:03, 21.27it/s]"
     ]
    },
    {
     "name": "stdout",
     "output_type": "stream",
     "text": [
      "Saved frame1388.jpg\n",
      "Saved frame number : 0\n",
      "Saved frame1389.jpg\n",
      "Saved frame number : 0\n",
      "Saved frame1390.jpg\n",
      "Saved frame number : 0\n",
      "Saved frame1391.jpg\n",
      "Saved frame number : 0\n",
      "Saved frame1392.jpg\n",
      "Saved frame number : 0\n"
     ]
    },
    {
     "name": "stderr",
     "output_type": "stream",
     "text": [
      " 85%|███████████████████████████████████████████████████████████████████▉            | 418/492 [00:17<00:03, 22.32it/s]"
     ]
    },
    {
     "name": "stdout",
     "output_type": "stream",
     "text": [
      "Saved frame1393.jpg\n",
      "Saved frame number : 0\n",
      "Saved frame1394.jpg\n",
      "Saved frame number : 0\n",
      "Saved frame1395.jpg\n",
      "Saved frame number : 0\n",
      "Saved frame1396.jpg\n",
      "Saved frame number : 0\n",
      "Saved frame1397.jpg\n",
      "Saved frame number : 0\n"
     ]
    },
    {
     "name": "stderr",
     "output_type": "stream",
     "text": [
      "\r",
      " 86%|████████████████████████████████████████████████████████████████████▍           | 421/492 [00:17<00:03, 22.76it/s]"
     ]
    },
    {
     "name": "stdout",
     "output_type": "stream",
     "text": [
      "Saved frame1398.jpg\n",
      "Saved frame number : 0\n",
      "Saved frame1399.jpg\n",
      "Saved frame number : 0\n",
      "Saved frame1400.jpg\n",
      "Saved frame number : 0\n",
      "Saved frame1401.jpg\n",
      "Saved frame number : 0\n",
      "Saved frame1402.jpg\n",
      "Saved frame number : 0\n"
     ]
    },
    {
     "name": "stderr",
     "output_type": "stream",
     "text": [
      " 87%|█████████████████████████████████████████████████████████████████████▍          | 427/492 [00:17<00:02, 23.14it/s]"
     ]
    },
    {
     "name": "stdout",
     "output_type": "stream",
     "text": [
      "Saved frame1403.jpg\n",
      "Saved frame number : 0\n",
      "Saved frame1404.jpg\n",
      "Saved frame number : 0\n",
      "Saved frame1405.jpg\n",
      "Saved frame number : 0\n",
      "Saved frame1406.jpg\n",
      "Saved frame number : 0\n",
      "Saved frame1407.jpg\n",
      "Saved frame number : 0\n"
     ]
    },
    {
     "name": "stderr",
     "output_type": "stream",
     "text": [
      " 88%|██████████████████████████████████████████████████████████████████████▍         | 433/492 [00:18<00:02, 23.72it/s]"
     ]
    },
    {
     "name": "stdout",
     "output_type": "stream",
     "text": [
      "Saved frame1408.jpg\n",
      "Saved frame number : 0\n",
      "Saved frame1409.jpg\n",
      "Saved frame number : 0\n",
      "Saved frame1410.jpg\n",
      "Saved frame number : 0\n",
      "Saved frame1411.jpg\n",
      "Saved frame number : 0\n",
      "Saved frame1412.jpg\n",
      "Saved frame number : 0\n"
     ]
    },
    {
     "name": "stderr",
     "output_type": "stream",
     "text": [
      "\r",
      " 89%|██████████████████████████████████████████████████████████████████████▉         | 436/492 [00:18<00:02, 24.17it/s]"
     ]
    },
    {
     "name": "stdout",
     "output_type": "stream",
     "text": [
      "Saved frame1413.jpg\n",
      "Saved frame number : 0\n",
      "Saved frame1414.jpg\n",
      "Saved frame number : 0\n",
      "Saved frame1415.jpg\n",
      "Saved frame number : 0\n",
      "Saved frame1416.jpg\n",
      "Saved frame number : 0\n",
      "Saved frame1417.jpg\n",
      "Saved frame number : 0\n"
     ]
    },
    {
     "name": "stderr",
     "output_type": "stream",
     "text": [
      " 90%|███████████████████████████████████████████████████████████████████████▊        | 442/492 [00:18<00:02, 24.56it/s]"
     ]
    },
    {
     "name": "stdout",
     "output_type": "stream",
     "text": [
      "Saved frame1418.jpg\n",
      "Saved frame number : 0\n",
      "Saved frame1419.jpg\n",
      "Saved frame number : 0\n",
      "Saved frame1420.jpg\n",
      "Saved frame number : 0\n",
      "Saved frame1421.jpg\n",
      "Saved frame number : 0\n",
      "Saved frame1422.jpg\n",
      "Saved frame number : 0\n"
     ]
    },
    {
     "name": "stderr",
     "output_type": "stream",
     "text": [
      " 91%|████████████████████████████████████████████████████████████████████████▊       | 448/492 [00:18<00:01, 24.14it/s]"
     ]
    },
    {
     "name": "stdout",
     "output_type": "stream",
     "text": [
      "Saved frame1423.jpg\n",
      "Saved frame number : 0\n",
      "Saved frame1424.jpg\n",
      "Saved frame number : 0\n",
      "Saved frame1425.jpg\n",
      "Saved frame number : 0\n",
      "Saved frame1426.jpg\n",
      "Saved frame number : 0\n",
      "Saved frame1427.jpg\n",
      "Saved frame number : 0\n"
     ]
    },
    {
     "name": "stderr",
     "output_type": "stream",
     "text": [
      "\r",
      " 92%|█████████████████████████████████████████████████████████████████████████▎      | 451/492 [00:18<00:01, 24.23it/s]"
     ]
    },
    {
     "name": "stdout",
     "output_type": "stream",
     "text": [
      "Saved frame1428.jpg\n",
      "Saved frame number : 0\n",
      "Saved frame1429.jpg\n",
      "Saved frame number : 0\n",
      "Saved frame1430.jpg\n",
      "Saved frame number : 0\n",
      "Saved frame1431.jpg\n",
      "Saved frame number : 0\n",
      "Saved frame1432.jpg\n",
      "Saved frame number : 0\n"
     ]
    },
    {
     "name": "stderr",
     "output_type": "stream",
     "text": [
      " 93%|██████████████████████████████████████████████████████████████████████████▎     | 457/492 [00:19<00:01, 23.03it/s]"
     ]
    },
    {
     "name": "stdout",
     "output_type": "stream",
     "text": [
      "Saved frame1433.jpg\n",
      "Saved frame number : 0\n",
      "Saved frame1434.jpg\n",
      "Saved frame number : 0\n",
      "Saved frame1435.jpg\n",
      "Saved frame number : 0\n",
      "Saved frame1436.jpg\n",
      "Saved frame number : 0\n",
      "Saved frame1437.jpg\n"
     ]
    },
    {
     "name": "stderr",
     "output_type": "stream",
     "text": [
      "\r",
      " 93%|██████████████████████████████████████████████████████████████████████████▊     | 460/492 [00:19<00:01, 22.14it/s]"
     ]
    },
    {
     "name": "stdout",
     "output_type": "stream",
     "text": [
      "Saved frame number : 0\n",
      "Saved frame1438.jpg\n",
      "Saved frame number : 0\n",
      "Saved frame1439.jpg\n",
      "Saved frame number : 0\n",
      "Saved frame1440.jpg\n",
      "Saved frame number : 0\n",
      "Saved frame1441.jpg\n",
      "Saved frame number : 0\n"
     ]
    },
    {
     "name": "stderr",
     "output_type": "stream",
     "text": [
      " 95%|███████████████████████████████████████████████████████████████████████████▊    | 466/492 [00:19<00:01, 21.73it/s]"
     ]
    },
    {
     "name": "stdout",
     "output_type": "stream",
     "text": [
      "Saved frame1442.jpg\n",
      "Saved frame number : 0\n",
      "Saved frame1443.jpg\n",
      "Saved frame number : 0\n",
      "Saved frame1444.jpg\n",
      "Saved frame number : 0\n",
      "Saved frame1445.jpg\n",
      "Saved frame number : 0\n",
      "Saved frame1446.jpg\n"
     ]
    },
    {
     "name": "stderr",
     "output_type": "stream",
     "text": [
      "\r",
      " 95%|████████████████████████████████████████████████████████████████████████████▎   | 469/492 [00:19<00:01, 20.99it/s]"
     ]
    },
    {
     "name": "stdout",
     "output_type": "stream",
     "text": [
      "Saved frame number : 0\n",
      "Saved frame1447.jpg\n",
      "Saved frame number : 0\n",
      "Saved frame1448.jpg\n",
      "Saved frame number : 0\n",
      "Saved frame1449.jpg\n",
      "Saved frame number : 0\n",
      "Saved frame1450.jpg\n",
      "Saved frame number : 0\n"
     ]
    },
    {
     "name": "stderr",
     "output_type": "stream",
     "text": [
      " 97%|█████████████████████████████████████████████████████████████████████████████▏  | 475/492 [00:20<00:00, 21.24it/s]"
     ]
    },
    {
     "name": "stdout",
     "output_type": "stream",
     "text": [
      "Saved frame1451.jpg\n",
      "Saved frame number : 0\n",
      "Saved frame1452.jpg\n",
      "Saved frame number : 0\n",
      "Saved frame1453.jpg\n",
      "Saved frame number : 0\n",
      "Saved frame1454.jpg\n",
      "Saved frame number : 0\n",
      "Saved frame1455.jpg\n"
     ]
    },
    {
     "name": "stderr",
     "output_type": "stream",
     "text": [
      "\r",
      " 97%|█████████████████████████████████████████████████████████████████████████████▋  | 478/492 [00:20<00:00, 21.04it/s]"
     ]
    },
    {
     "name": "stdout",
     "output_type": "stream",
     "text": [
      "Saved frame number : 0\n",
      "Saved frame1456.jpg\n",
      "Saved frame number : 0\n",
      "Saved frame1457.jpg\n",
      "Saved frame number : 0\n",
      "Saved frame1458.jpg\n",
      "Saved frame number : 0\n",
      "Saved frame1459.jpg\n",
      "Saved frame number : 0\n"
     ]
    },
    {
     "name": "stderr",
     "output_type": "stream",
     "text": [
      " 98%|██████████████████████████████████████████████████████████████████████████████▋ | 484/492 [00:20<00:00, 20.90it/s]"
     ]
    },
    {
     "name": "stdout",
     "output_type": "stream",
     "text": [
      "Saved frame1460.jpg\n",
      "Saved frame number : 0\n",
      "Saved frame1461.jpg\n",
      "Saved frame number : 0\n",
      "Saved frame1462.jpg\n",
      "Saved frame number : 0\n",
      "Saved frame1463.jpg\n",
      "Saved frame number : 0\n",
      "Saved frame1464.jpg\n"
     ]
    },
    {
     "name": "stderr",
     "output_type": "stream",
     "text": [
      "\r",
      " 99%|███████████████████████████████████████████████████████████████████████████████▏| 487/492 [00:20<00:00, 21.03it/s]"
     ]
    },
    {
     "name": "stdout",
     "output_type": "stream",
     "text": [
      "Saved frame number : 0\n",
      "Saved frame1465.jpg\n",
      "Saved frame number : 0\n",
      "Saved frame1466.jpg\n",
      "Saved frame number : 0\n",
      "Saved frame1467.jpg\n",
      "Saved frame number : 0\n",
      "Saved frame1468.jpg\n",
      "Saved frame number : 0\n"
     ]
    },
    {
     "name": "stderr",
     "output_type": "stream",
     "text": [
      "100%|████████████████████████████████████████████████████████████████████████████████| 492/492 [00:20<00:00, 23.55it/s]\n"
     ]
    },
    {
     "name": "stdout",
     "output_type": "stream",
     "text": [
      "Saved frame1469.jpg\n",
      "Saved frame number : 0\n",
      "Saved frame1470.jpg\n",
      "Saved frame number : 0\n",
      "Saved frame1471.jpg\n",
      "Iterating: 3 folder\n"
     ]
    },
    {
     "name": "stderr",
     "output_type": "stream",
     "text": [
      "\r",
      "  0%|                                                                                          | 0/492 [00:00<?, ?it/s]"
     ]
    },
    {
     "name": "stdout",
     "output_type": "stream",
     "text": [
      "Saved frame number : 0\n",
      "Saved frame1472.jpg\n",
      "Saved frame number : 0\n",
      "Saved frame1473.jpg\n"
     ]
    },
    {
     "name": "stderr",
     "output_type": "stream",
     "text": [
      "\r",
      "  1%|▌                                                                                 | 3/492 [00:00<00:19, 24.89it/s]"
     ]
    },
    {
     "name": "stdout",
     "output_type": "stream",
     "text": [
      "Saved frame number : 0\n",
      "Saved frame1474.jpg\n",
      "Saved frame number : 0\n",
      "Saved frame1475.jpg\n",
      "Saved frame number : 0\n",
      "Saved frame1476.jpg\n",
      "Saved frame number : 0\n"
     ]
    },
    {
     "name": "stderr",
     "output_type": "stream",
     "text": [
      "\r",
      "  1%|█                                                                                 | 6/492 [00:00<00:19, 24.58it/s]"
     ]
    },
    {
     "name": "stdout",
     "output_type": "stream",
     "text": [
      "Saved frame1477.jpg\n",
      "Saved frame number : 0\n",
      "Saved frame1478.jpg\n"
     ]
    },
    {
     "name": "stderr",
     "output_type": "stream",
     "text": [
      "\r",
      "  2%|█▌                                                                                | 9/492 [00:00<00:19, 24.61it/s]"
     ]
    },
    {
     "name": "stdout",
     "output_type": "stream",
     "text": [
      "Saved frame number : 0\n",
      "Saved frame1479.jpg\n",
      "Saved frame number : 0\n",
      "Saved frame1480.jpg\n",
      "Saved frame number : 0\n",
      "Saved frame1481.jpg\n",
      "Saved frame number : 0\n"
     ]
    },
    {
     "name": "stderr",
     "output_type": "stream",
     "text": [
      "\r",
      "  2%|█▉                                                                               | 12/492 [00:00<00:20, 23.91it/s]"
     ]
    },
    {
     "name": "stdout",
     "output_type": "stream",
     "text": [
      "Saved frame1482.jpg\n",
      "Saved frame number : 0\n",
      "Saved frame1483.jpg\n"
     ]
    },
    {
     "name": "stderr",
     "output_type": "stream",
     "text": [
      "\r",
      "  3%|██▍                                                                              | 15/492 [00:00<00:19, 23.91it/s]"
     ]
    },
    {
     "name": "stdout",
     "output_type": "stream",
     "text": [
      "Saved frame number : 0\n",
      "Saved frame1484.jpg\n",
      "Saved frame number : 0\n",
      "Saved frame1485.jpg\n",
      "Saved frame number : 0\n",
      "Saved frame1486.jpg\n",
      "Saved frame number : 0\n",
      "Saved frame1487.jpg\n",
      "Saved frame number : 0\n",
      "Saved frame1488.jpg\n"
     ]
    },
    {
     "name": "stderr",
     "output_type": "stream",
     "text": [
      "  4%|███▍                                                                             | 21/492 [00:00<00:18, 25.01it/s]"
     ]
    },
    {
     "name": "stdout",
     "output_type": "stream",
     "text": [
      "Saved frame number : 0\n",
      "Saved frame1489.jpg\n",
      "Saved frame number : 0\n",
      "Saved frame1490.jpg\n",
      "Saved frame number : 0\n",
      "Saved frame1491.jpg\n",
      "Saved frame number : 0\n",
      "Saved frame1492.jpg\n",
      "Saved frame number : 0\n",
      "Saved frame1493.jpg\n",
      "Saved frame number : 0\n"
     ]
    },
    {
     "name": "stderr",
     "output_type": "stream",
     "text": [
      "\r",
      "  5%|███▉                                                                             | 24/492 [00:00<00:18, 25.05it/s]"
     ]
    },
    {
     "name": "stdout",
     "output_type": "stream",
     "text": [
      "Saved frame1494.jpg\n",
      "Saved frame number : 0\n",
      "Saved frame1495.jpg\n",
      "Saved frame number : 0\n",
      "Saved frame1496.jpg\n",
      "Saved frame number : 0\n",
      "Saved frame1497.jpg\n",
      "Saved frame number : 0\n"
     ]
    },
    {
     "name": "stderr",
     "output_type": "stream",
     "text": [
      "\r",
      "  5%|████▍                                                                            | 27/492 [00:01<00:18, 25.18it/s]"
     ]
    },
    {
     "name": "stdout",
     "output_type": "stream",
     "text": [
      "Saved frame1498.jpg\n",
      "Saved frame number : 0\n"
     ]
    },
    {
     "name": "stderr",
     "output_type": "stream",
     "text": [
      "\r",
      "  6%|████▉                                                                            | 30/492 [00:01<00:18, 24.52it/s]"
     ]
    },
    {
     "name": "stdout",
     "output_type": "stream",
     "text": [
      "Saved frame1499.jpg\n",
      "Saved frame number : 0\n",
      "Saved frame1500.jpg\n",
      "Saved frame number : 0\n",
      "Saved frame1501.jpg\n",
      "Saved frame number : 0\n",
      "Saved frame1502.jpg\n",
      "Saved frame number : 0\n",
      "Saved frame1503.jpg\n"
     ]
    },
    {
     "name": "stderr",
     "output_type": "stream",
     "text": [
      "  7%|█████▉                                                                           | 36/492 [00:01<00:19, 23.22it/s]"
     ]
    },
    {
     "name": "stdout",
     "output_type": "stream",
     "text": [
      "Saved frame number : 0\n",
      "Saved frame1504.jpg\n",
      "Saved frame number : 0\n",
      "Saved frame1505.jpg\n",
      "Saved frame number : 0\n",
      "Saved frame1506.jpg\n",
      "Saved frame number : 0\n",
      "Saved frame1507.jpg\n",
      "Saved frame number : 0\n",
      "Saved frame1508.jpg\n",
      "Saved frame number : 0\n"
     ]
    },
    {
     "name": "stderr",
     "output_type": "stream",
     "text": [
      "\r",
      "  8%|██████▍                                                                          | 39/492 [00:01<00:19, 23.64it/s]"
     ]
    },
    {
     "name": "stdout",
     "output_type": "stream",
     "text": [
      "Saved frame1509.jpg\n",
      "Saved frame number : 0\n",
      "Saved frame1510.jpg\n",
      "Saved frame number : 0\n",
      "Saved frame1511.jpg\n",
      "Saved frame number : 0\n",
      "Saved frame1512.jpg\n"
     ]
    },
    {
     "name": "stderr",
     "output_type": "stream",
     "text": [
      "\r",
      "  9%|██████▉                                                                          | 42/492 [00:01<00:18, 23.71it/s]"
     ]
    },
    {
     "name": "stdout",
     "output_type": "stream",
     "text": [
      "Saved frame number : 0\n",
      "Saved frame1513.jpg\n",
      "Saved frame number : 0\n"
     ]
    },
    {
     "name": "stderr",
     "output_type": "stream",
     "text": [
      "\r",
      "  9%|███████▍                                                                         | 45/492 [00:01<00:18, 24.10it/s]"
     ]
    },
    {
     "name": "stdout",
     "output_type": "stream",
     "text": [
      "Saved frame1514.jpg\n",
      "Saved frame number : 0\n",
      "Saved frame1515.jpg\n",
      "Saved frame number : 0\n",
      "Saved frame1516.jpg\n",
      "Saved frame number : 0\n",
      "Saved frame1517.jpg\n",
      "Saved frame number : 0\n"
     ]
    },
    {
     "name": "stderr",
     "output_type": "stream",
     "text": [
      "\r",
      " 10%|███████▉                                                                         | 48/492 [00:01<00:18, 24.38it/s]"
     ]
    },
    {
     "name": "stdout",
     "output_type": "stream",
     "text": [
      "Saved frame1518.jpg\n",
      "Saved frame number : 0\n",
      "Saved frame1519.jpg\n"
     ]
    },
    {
     "name": "stderr",
     "output_type": "stream",
     "text": [
      "\r",
      " 10%|████████▍                                                                        | 51/492 [00:02<00:17, 24.64it/s]"
     ]
    },
    {
     "name": "stdout",
     "output_type": "stream",
     "text": [
      "Saved frame number : 0\n",
      "Saved frame1520.jpg\n",
      "Saved frame number : 0\n",
      "Saved frame1521.jpg\n",
      "Saved frame number : 0\n",
      "Saved frame1522.jpg\n",
      "Saved frame number : 0\n",
      "Saved frame1523.jpg\n",
      "Saved frame number : 0\n",
      "Saved frame1524.jpg\n",
      "Saved frame number : 0\n"
     ]
    },
    {
     "name": "stderr",
     "output_type": "stream",
     "text": [
      " 12%|█████████▍                                                                       | 57/492 [00:02<00:17, 25.10it/s]"
     ]
    },
    {
     "name": "stdout",
     "output_type": "stream",
     "text": [
      "Saved frame1525.jpg\n",
      "Saved frame number : 0\n",
      "Saved frame1526.jpg\n",
      "Saved frame number : 0\n",
      "Saved frame1527.jpg\n",
      "Saved frame number : 0\n",
      "Saved frame1528.jpg\n",
      "Saved frame number : 0\n",
      "Saved frame1529.jpg\n",
      "Saved frame number : 0\n",
      "Saved frame1530.jpg\n"
     ]
    },
    {
     "name": "stderr",
     "output_type": "stream",
     "text": [
      " 13%|██████████▎                                                                      | 63/492 [00:02<00:17, 24.94it/s]"
     ]
    },
    {
     "name": "stdout",
     "output_type": "stream",
     "text": [
      "Saved frame number : 0\n",
      "Saved frame1531.jpg\n",
      "Saved frame number : 0\n",
      "Saved frame1532.jpg\n",
      "Saved frame number : 0\n",
      "Saved frame1533.jpg\n",
      "Saved frame number : 0\n",
      "Saved frame1534.jpg\n",
      "Saved frame number : 0\n",
      "Saved frame1535.jpg\n"
     ]
    },
    {
     "name": "stderr",
     "output_type": "stream",
     "text": [
      "\r",
      " 13%|██████████▊                                                                      | 66/492 [00:02<00:17, 24.31it/s]"
     ]
    },
    {
     "name": "stdout",
     "output_type": "stream",
     "text": [
      "Saved frame number : 0\n",
      "Saved frame1536.jpg\n",
      "Saved frame number : 0\n",
      "Saved frame1537.jpg\n",
      "Saved frame number : 0\n",
      "Saved frame1538.jpg\n",
      "Saved frame number : 0\n",
      "Saved frame1539.jpg\n",
      "Saved frame number : 0\n"
     ]
    },
    {
     "name": "stderr",
     "output_type": "stream",
     "text": [
      " 15%|███████████▊                                                                     | 72/492 [00:02<00:17, 23.42it/s]"
     ]
    },
    {
     "name": "stdout",
     "output_type": "stream",
     "text": [
      "Saved frame1540.jpg\n",
      "Saved frame number : 0\n",
      "Saved frame1541.jpg\n",
      "Saved frame number : 0\n",
      "Saved frame1542.jpg\n",
      "Saved frame number : 0\n",
      "Saved frame1543.jpg\n",
      "Saved frame number : 0\n",
      "Saved frame1544.jpg\n",
      "Saved frame number : 0\n"
     ]
    },
    {
     "name": "stderr",
     "output_type": "stream",
     "text": [
      "\r",
      " 15%|████████████▎                                                                    | 75/492 [00:03<00:17, 23.67it/s]"
     ]
    },
    {
     "name": "stdout",
     "output_type": "stream",
     "text": [
      "Saved frame1545.jpg\n",
      "Saved frame number : 0\n",
      "Saved frame1546.jpg\n",
      "Saved frame number : 0\n",
      "Saved frame1547.jpg\n",
      "Saved frame number : 0\n",
      "Saved frame1548.jpg\n",
      "Saved frame number : 0\n"
     ]
    },
    {
     "name": "stderr",
     "output_type": "stream",
     "text": [
      "\r",
      " 16%|████████████▊                                                                    | 78/492 [00:03<00:17, 24.13it/s]"
     ]
    },
    {
     "name": "stdout",
     "output_type": "stream",
     "text": [
      "Saved frame1549.jpg\n",
      "Saved frame number : 0\n"
     ]
    },
    {
     "name": "stderr",
     "output_type": "stream",
     "text": [
      "\r",
      " 16%|█████████████▎                                                                   | 81/492 [00:03<00:16, 24.40it/s]"
     ]
    },
    {
     "name": "stdout",
     "output_type": "stream",
     "text": [
      "Saved frame1550.jpg\n",
      "Saved frame number : 0\n",
      "Saved frame1551.jpg\n",
      "Saved frame number : 0\n",
      "Saved frame1552.jpg\n",
      "Saved frame number : 0\n",
      "Saved frame1553.jpg\n",
      "Saved frame number : 0\n"
     ]
    },
    {
     "name": "stderr",
     "output_type": "stream",
     "text": [
      "\r",
      " 17%|█████████████▊                                                                   | 84/492 [00:03<00:16, 24.95it/s]"
     ]
    },
    {
     "name": "stdout",
     "output_type": "stream",
     "text": [
      "Saved frame1554.jpg\n",
      "Saved frame number : 0\n",
      "Saved frame1555.jpg\n"
     ]
    },
    {
     "name": "stderr",
     "output_type": "stream",
     "text": [
      "\r",
      " 18%|██████████████▎                                                                  | 87/492 [00:03<00:15, 25.35it/s]"
     ]
    },
    {
     "name": "stdout",
     "output_type": "stream",
     "text": [
      "Saved frame number : 0\n",
      "Saved frame1556.jpg\n",
      "Saved frame number : 0\n",
      "Saved frame1557.jpg\n",
      "Saved frame number : 0\n",
      "Saved frame1558.jpg\n",
      "Saved frame number : 0\n",
      "Saved frame1559.jpg\n",
      "Saved frame number : 0\n",
      "Saved frame1560.jpg\n",
      "Saved frame number : 0\n"
     ]
    },
    {
     "name": "stderr",
     "output_type": "stream",
     "text": [
      " 19%|███████████████▎                                                                 | 93/492 [00:03<00:15, 25.71it/s]"
     ]
    },
    {
     "name": "stdout",
     "output_type": "stream",
     "text": [
      "Saved frame1561.jpg\n",
      "Saved frame number : 0\n",
      "Saved frame1562.jpg\n",
      "Saved frame number : 0\n",
      "Saved frame1563.jpg\n",
      "Saved frame number : 0\n",
      "Saved frame1564.jpg\n",
      "Saved frame number : 0\n",
      "Saved frame1565.jpg\n",
      "Saved frame number : 0\n"
     ]
    },
    {
     "name": "stderr",
     "output_type": "stream",
     "text": [
      "\r",
      " 20%|███████████████▊                                                                 | 96/492 [00:03<00:16, 24.46it/s]"
     ]
    },
    {
     "name": "stdout",
     "output_type": "stream",
     "text": [
      "Saved frame1566.jpg\n",
      "Saved frame number : 0\n",
      "Saved frame1567.jpg\n",
      "Saved frame number : 0\n",
      "Saved frame1568.jpg\n",
      "Saved frame number : 0\n",
      "Saved frame1569.jpg\n",
      "Saved frame number : 0\n"
     ]
    },
    {
     "name": "stderr",
     "output_type": "stream",
     "text": [
      "\r",
      " 20%|████████████████▎                                                                | 99/492 [00:04<00:16, 23.99it/s]"
     ]
    },
    {
     "name": "stdout",
     "output_type": "stream",
     "text": [
      "Saved frame1570.jpg\n"
     ]
    },
    {
     "name": "stderr",
     "output_type": "stream",
     "text": [
      "\r",
      " 21%|████████████████▌                                                               | 102/492 [00:04<00:16, 24.13it/s]"
     ]
    },
    {
     "name": "stdout",
     "output_type": "stream",
     "text": [
      "Saved frame number : 0\n",
      "Saved frame1571.jpg\n",
      "Saved frame number : 0\n",
      "Saved frame1572.jpg\n",
      "Saved frame number : 0\n",
      "Saved frame1573.jpg\n",
      "Saved frame number : 0\n",
      "Saved frame1574.jpg\n",
      "Saved frame number : 0\n",
      "Saved frame1575.jpg\n",
      "Saved frame number : 0\n"
     ]
    },
    {
     "name": "stderr",
     "output_type": "stream",
     "text": [
      " 22%|█████████████████▌                                                              | 108/492 [00:04<00:15, 24.51it/s]"
     ]
    },
    {
     "name": "stdout",
     "output_type": "stream",
     "text": [
      "Saved frame1576.jpg\n",
      "Saved frame number : 0\n",
      "Saved frame1577.jpg\n",
      "Saved frame number : 0\n",
      "Saved frame1578.jpg\n",
      "Saved frame number : 0\n",
      "Saved frame1579.jpg\n",
      "Saved frame number : 0\n",
      "Saved frame1580.jpg\n",
      "Saved frame number : 0\n"
     ]
    },
    {
     "name": "stderr",
     "output_type": "stream",
     "text": [
      " 23%|██████████████████▌                                                             | 114/492 [00:04<00:15, 24.93it/s]"
     ]
    },
    {
     "name": "stdout",
     "output_type": "stream",
     "text": [
      "Saved frame1581.jpg\n",
      "Saved frame number : 0\n",
      "Saved frame1582.jpg\n",
      "Saved frame number : 0\n",
      "Saved frame1583.jpg\n",
      "Saved frame number : 0\n",
      "Saved frame1584.jpg\n",
      "Saved frame number : 0\n",
      "Saved frame1585.jpg\n",
      "Saved frame number : 0\n"
     ]
    },
    {
     "name": "stderr",
     "output_type": "stream",
     "text": [
      " 24%|███████████████████▌                                                            | 120/492 [00:04<00:14, 24.85it/s]"
     ]
    },
    {
     "name": "stdout",
     "output_type": "stream",
     "text": [
      "Saved frame1586.jpg\n",
      "Saved frame number : 0\n",
      "Saved frame1587.jpg\n",
      "Saved frame number : 0\n",
      "Saved frame1588.jpg\n",
      "Saved frame number : 0\n",
      "Saved frame1589.jpg\n",
      "Saved frame number : 0\n",
      "Saved frame1590.jpg\n",
      "Saved frame number : 0\n",
      "Saved frame1591.jpg\n"
     ]
    },
    {
     "name": "stderr",
     "output_type": "stream",
     "text": [
      "\r",
      " 25%|████████████████████                                                            | 123/492 [00:05<00:14, 25.04it/s]"
     ]
    },
    {
     "name": "stdout",
     "output_type": "stream",
     "text": [
      "Saved frame number : 0\n",
      "Saved frame1592.jpg\n",
      "Saved frame number : 0\n",
      "Saved frame1593.jpg\n",
      "Saved frame number : 0\n",
      "Saved frame1594.jpg\n",
      "Saved frame number : 0\n",
      "Saved frame1595.jpg\n",
      "Saved frame number : 0\n",
      "Saved frame1596.jpg\n",
      "Saved frame number : 0\n"
     ]
    },
    {
     "name": "stderr",
     "output_type": "stream",
     "text": [
      " 26%|████████████████████▉                                                           | 129/492 [00:05<00:15, 24.17it/s]"
     ]
    },
    {
     "name": "stdout",
     "output_type": "stream",
     "text": [
      "Saved frame1597.jpg\n",
      "Saved frame number : 0\n",
      "Saved frame1598.jpg\n",
      "Saved frame number : 0\n",
      "Saved frame1599.jpg\n",
      "Saved frame number : 0\n",
      "Saved frame1600.jpg\n",
      "Saved frame number : 0\n",
      "Saved frame1601.jpg\n",
      "Saved frame number : 0\n"
     ]
    },
    {
     "name": "stderr",
     "output_type": "stream",
     "text": [
      " 27%|█████████████████████▉                                                          | 135/492 [00:05<00:15, 23.69it/s]"
     ]
    },
    {
     "name": "stdout",
     "output_type": "stream",
     "text": [
      "Saved frame1602.jpg\n",
      "Saved frame number : 0\n",
      "Saved frame1603.jpg\n",
      "Saved frame number : 0\n",
      "Saved frame1604.jpg\n",
      "Saved frame number : 0\n",
      "Saved frame1605.jpg\n",
      "Saved frame number : 0\n",
      "Saved frame1606.jpg\n",
      "Saved frame number : 0\n"
     ]
    },
    {
     "name": "stderr",
     "output_type": "stream",
     "text": [
      "\r",
      " 28%|██████████████████████▍                                                         | 138/492 [00:05<00:15, 23.48it/s]"
     ]
    },
    {
     "name": "stdout",
     "output_type": "stream",
     "text": [
      "Saved frame1607.jpg\n",
      "Saved frame number : 0\n",
      "Saved frame1608.jpg\n",
      "Saved frame number : 0\n",
      "Saved frame1609.jpg\n",
      "Saved frame number : 0\n",
      "Saved frame1610.jpg\n",
      "Saved frame number : 0\n",
      "Saved frame1611.jpg\n",
      "Saved frame number : 0\n"
     ]
    },
    {
     "name": "stderr",
     "output_type": "stream",
     "text": [
      " 29%|███████████████████████▍                                                        | 144/492 [00:05<00:14, 23.61it/s]"
     ]
    },
    {
     "name": "stdout",
     "output_type": "stream",
     "text": [
      "Saved frame1612.jpg\n",
      "Saved frame number : 0\n",
      "Saved frame1613.jpg\n",
      "Saved frame number : 0\n",
      "Saved frame1614.jpg\n",
      "Saved frame number : 0\n",
      "Saved frame1615.jpg\n",
      "Saved frame number : 0\n",
      "Saved frame1616.jpg\n",
      "Saved frame number : 0\n"
     ]
    },
    {
     "name": "stderr",
     "output_type": "stream",
     "text": [
      " 30%|████████████████████████▍                                                       | 150/492 [00:06<00:13, 25.30it/s]"
     ]
    },
    {
     "name": "stdout",
     "output_type": "stream",
     "text": [
      "Saved frame1617.jpg\n",
      "Saved frame number : 0\n",
      "Saved frame1618.jpg\n",
      "Saved frame number : 0\n",
      "Saved frame1619.jpg\n",
      "Saved frame number : 0\n",
      "Saved frame1620.jpg\n",
      "Saved frame number : 0\n",
      "Saved frame1621.jpg\n",
      "Saved frame number : 0\n",
      "Saved frame1622.jpg\n",
      "Saved frame number : 0\n"
     ]
    },
    {
     "name": "stderr",
     "output_type": "stream",
     "text": [
      " 32%|█████████████████████████▎                                                      | 156/492 [00:06<00:13, 25.26it/s]"
     ]
    },
    {
     "name": "stdout",
     "output_type": "stream",
     "text": [
      "Saved frame1623.jpg\n",
      "Saved frame number : 0\n",
      "Saved frame1624.jpg\n",
      "Saved frame number : 0\n",
      "Saved frame1625.jpg\n",
      "Saved frame number : 0\n",
      "Saved frame1626.jpg\n",
      "Saved frame number : 0\n",
      "Saved frame1627.jpg\n",
      "Saved frame number : 0\n"
     ]
    },
    {
     "name": "stderr",
     "output_type": "stream",
     "text": [
      "\r",
      " 32%|█████████████████████████▊                                                      | 159/492 [00:06<00:14, 23.71it/s]"
     ]
    },
    {
     "name": "stdout",
     "output_type": "stream",
     "text": [
      "Saved frame1628.jpg\n",
      "Saved frame number : 0\n",
      "Saved frame1629.jpg\n",
      "Saved frame number : 0\n",
      "Saved frame1630.jpg\n",
      "Saved frame number : 0\n",
      "Saved frame1631.jpg\n",
      "Saved frame number : 0\n",
      "Saved frame1632.jpg\n",
      "Saved frame number : 0\n"
     ]
    },
    {
     "name": "stderr",
     "output_type": "stream",
     "text": [
      "\r",
      " 33%|██████████████████████████▎                                                     | 162/492 [00:06<00:14, 23.16it/s]"
     ]
    },
    {
     "name": "stdout",
     "output_type": "stream",
     "text": [
      "Saved frame1633.jpg\n",
      "Saved frame number : 0\n",
      "Saved frame1634.jpg\n",
      "Saved frame number : 0\n",
      "Saved frame1635.jpg\n"
     ]
    },
    {
     "name": "stderr",
     "output_type": "stream",
     "text": [
      " 34%|███████████████████████████▎                                                    | 168/492 [00:07<00:15, 20.47it/s]"
     ]
    },
    {
     "name": "stdout",
     "output_type": "stream",
     "text": [
      "Saved frame number : 0\n",
      "Saved frame1636.jpg\n",
      "Saved frame number : 0\n",
      "Saved frame1637.jpg\n",
      "Saved frame number : 0\n",
      "Saved frame1638.jpg\n",
      "Saved frame number : 0\n",
      "Saved frame1639.jpg\n",
      "Saved frame number : 0\n"
     ]
    },
    {
     "name": "stderr",
     "output_type": "stream",
     "text": [
      "\r",
      " 35%|███████████████████████████▊                                                    | 171/492 [00:07<00:15, 20.60it/s]"
     ]
    },
    {
     "name": "stdout",
     "output_type": "stream",
     "text": [
      "Saved frame1640.jpg\n",
      "Saved frame number : 0\n",
      "Saved frame1641.jpg\n",
      "Saved frame number : 0\n",
      "Saved frame1642.jpg\n",
      "Saved frame number : 0\n",
      "Saved frame1643.jpg\n",
      "Saved frame number : 0\n",
      "Saved frame1644.jpg\n",
      "Saved frame number : 0\n"
     ]
    },
    {
     "name": "stderr",
     "output_type": "stream",
     "text": [
      " 36%|████████████████████████████▊                                                   | 177/492 [00:07<00:14, 22.18it/s]"
     ]
    },
    {
     "name": "stdout",
     "output_type": "stream",
     "text": [
      "Saved frame1645.jpg\n",
      "Saved frame number : 0\n",
      "Saved frame1646.jpg\n",
      "Saved frame number : 0\n",
      "Saved frame1647.jpg\n",
      "Saved frame number : 0\n",
      "Saved frame1648.jpg\n",
      "Saved frame number : 0\n",
      "Saved frame1649.jpg\n",
      "Saved frame number : 0\n"
     ]
    },
    {
     "name": "stderr",
     "output_type": "stream",
     "text": [
      " 37%|█████████████████████████████▊                                                  | 183/492 [00:07<00:14, 22.05it/s]"
     ]
    },
    {
     "name": "stdout",
     "output_type": "stream",
     "text": [
      "Saved frame1650.jpg\n",
      "Saved frame number : 0\n",
      "Saved frame1651.jpg\n",
      "Saved frame number : 0\n",
      "Saved frame1652.jpg\n",
      "Saved frame number : 0\n",
      "Saved frame1653.jpg\n",
      "Saved frame number : 0\n",
      "Saved frame1654.jpg\n"
     ]
    },
    {
     "name": "stderr",
     "output_type": "stream",
     "text": [
      "\r",
      " 38%|██████████████████████████████▏                                                 | 186/492 [00:07<00:13, 22.47it/s]"
     ]
    },
    {
     "name": "stdout",
     "output_type": "stream",
     "text": [
      "Saved frame number : 0\n",
      "Saved frame1655.jpg\n",
      "Saved frame number : 0\n",
      "Saved frame1656.jpg\n",
      "Saved frame number : 0\n",
      "Saved frame1657.jpg\n",
      "Saved frame number : 0\n",
      "Saved frame1658.jpg\n",
      "Saved frame number : 0\n"
     ]
    },
    {
     "name": "stderr",
     "output_type": "stream",
     "text": [
      " 39%|███████████████████████████████▏                                                | 192/492 [00:08<00:13, 22.77it/s]"
     ]
    },
    {
     "name": "stdout",
     "output_type": "stream",
     "text": [
      "Saved frame1659.jpg\n",
      "Saved frame number : 0\n",
      "Saved frame1660.jpg\n",
      "Saved frame number : 0\n",
      "Saved frame1661.jpg\n",
      "Saved frame number : 0\n",
      "Saved frame1662.jpg\n",
      "Saved frame number : 0\n",
      "Saved frame1663.jpg\n",
      "Saved frame number : 0\n"
     ]
    },
    {
     "name": "stderr",
     "output_type": "stream",
     "text": [
      "\r",
      " 40%|███████████████████████████████▋                                                | 195/492 [00:08<00:12, 23.27it/s]"
     ]
    },
    {
     "name": "stdout",
     "output_type": "stream",
     "text": [
      "Saved frame1664.jpg\n",
      "Saved frame number : 0\n",
      "Saved frame1665.jpg\n",
      "Saved frame number : 0\n",
      "Saved frame1666.jpg\n",
      "Saved frame number : 0\n",
      "Saved frame1667.jpg\n",
      "Saved frame number : 0\n",
      "Saved frame1668.jpg\n",
      "Saved frame number : 0\n"
     ]
    },
    {
     "name": "stderr",
     "output_type": "stream",
     "text": [
      " 41%|████████████████████████████████▋                                               | 201/492 [00:08<00:12, 23.51it/s]"
     ]
    },
    {
     "name": "stdout",
     "output_type": "stream",
     "text": [
      "Saved frame1669.jpg\n",
      "Saved frame number : 0\n",
      "Saved frame1670.jpg\n",
      "Saved frame number : 0\n",
      "Saved frame1671.jpg\n",
      "Saved frame number : 0\n",
      "Saved frame1672.jpg\n",
      "Saved frame number : 0\n",
      "Saved frame1673.jpg\n",
      "Saved frame number : 0\n"
     ]
    },
    {
     "name": "stderr",
     "output_type": "stream",
     "text": [
      " 42%|█████████████████████████████████▋                                              | 207/492 [00:08<00:12, 22.60it/s]"
     ]
    },
    {
     "name": "stdout",
     "output_type": "stream",
     "text": [
      "Saved frame1674.jpg\n",
      "Saved frame number : 0\n",
      "Saved frame1675.jpg\n",
      "Saved frame number : 0\n",
      "Saved frame1676.jpg\n",
      "Saved frame number : 0\n",
      "Saved frame1677.jpg\n",
      "Saved frame number : 0\n",
      "Saved frame1678.jpg\n"
     ]
    },
    {
     "name": "stderr",
     "output_type": "stream",
     "text": [
      "\r",
      " 43%|██████████████████████████████████▏                                             | 210/492 [00:08<00:13, 21.09it/s]"
     ]
    },
    {
     "name": "stdout",
     "output_type": "stream",
     "text": [
      "Saved frame number : 0\n",
      "Saved frame1679.jpg\n",
      "Saved frame number : 0\n",
      "Saved frame1680.jpg\n",
      "Saved frame number : 0\n",
      "Saved frame1681.jpg\n",
      "Saved frame number : 0\n",
      "Saved frame1682.jpg\n",
      "Saved frame number : 0\n"
     ]
    },
    {
     "name": "stderr",
     "output_type": "stream",
     "text": [
      "\r",
      " 43%|██████████████████████████████████▋                                             | 213/492 [00:09<00:13, 20.59it/s]"
     ]
    },
    {
     "name": "stdout",
     "output_type": "stream",
     "text": [
      "Saved frame1683.jpg\n",
      "Saved frame number : 0\n",
      "Saved frame1684.jpg\n",
      "Saved frame number : 0\n",
      "Saved frame1685.jpg\n",
      "Saved frame number : 0\n",
      "Saved frame1686.jpg\n",
      "Saved frame number : 0\n"
     ]
    },
    {
     "name": "stderr",
     "output_type": "stream",
     "text": [
      " 45%|███████████████████████████████████▌                                            | 219/492 [00:09<00:13, 20.65it/s]"
     ]
    },
    {
     "name": "stdout",
     "output_type": "stream",
     "text": [
      "Saved frame1687.jpg\n",
      "Saved frame number : 0\n",
      "Saved frame1688.jpg\n",
      "Saved frame number : 0\n",
      "Saved frame1689.jpg\n",
      "Saved frame number : 0\n",
      "Saved frame1690.jpg\n",
      "Saved frame number : 0\n",
      "Saved frame1691.jpg\n"
     ]
    },
    {
     "name": "stderr",
     "output_type": "stream",
     "text": [
      " 46%|████████████████████████████████████▌                                           | 225/492 [00:09<00:12, 22.06it/s]"
     ]
    },
    {
     "name": "stdout",
     "output_type": "stream",
     "text": [
      "Saved frame number : 0\n",
      "Saved frame1692.jpg\n",
      "Saved frame number : 0\n",
      "Saved frame1693.jpg\n",
      "Saved frame number : 0\n",
      "Saved frame1694.jpg\n",
      "Saved frame number : 0\n",
      "Saved frame1695.jpg\n",
      "Saved frame number : 0\n",
      "Saved frame1696.jpg\n"
     ]
    },
    {
     "name": "stderr",
     "output_type": "stream",
     "text": [
      "\r",
      " 46%|█████████████████████████████████████                                           | 228/492 [00:09<00:11, 22.67it/s]"
     ]
    },
    {
     "name": "stdout",
     "output_type": "stream",
     "text": [
      "Saved frame number : 0\n",
      "Saved frame1697.jpg\n",
      "Saved frame number : 0\n",
      "Saved frame1698.jpg\n",
      "Saved frame number : 0\n",
      "Saved frame1699.jpg\n",
      "Saved frame number : 0\n",
      "Saved frame1700.jpg\n",
      "Saved frame number : 0\n",
      "Saved frame1701.jpg\n",
      "Saved frame number : 0\n"
     ]
    },
    {
     "name": "stderr",
     "output_type": "stream",
     "text": [
      " 48%|██████████████████████████████████████                                          | 234/492 [00:09<00:10, 24.45it/s]"
     ]
    },
    {
     "name": "stdout",
     "output_type": "stream",
     "text": [
      "Saved frame1702.jpg\n",
      "Saved frame number : 0\n",
      "Saved frame1703.jpg\n",
      "Saved frame number : 0\n",
      "Saved frame1704.jpg\n",
      "Saved frame number : 0\n",
      "Saved frame1705.jpg\n",
      "Saved frame number : 0\n",
      "Saved frame1706.jpg\n",
      "Saved frame number : 0\n",
      "Saved frame1707.jpg\n"
     ]
    },
    {
     "name": "stderr",
     "output_type": "stream",
     "text": [
      " 49%|███████████████████████████████████████                                         | 240/492 [00:10<00:10, 24.71it/s]"
     ]
    },
    {
     "name": "stdout",
     "output_type": "stream",
     "text": [
      "Saved frame number : 0\n",
      "Saved frame1708.jpg\n",
      "Saved frame number : 0\n",
      "Saved frame1709.jpg\n",
      "Saved frame number : 0\n",
      "Saved frame1710.jpg\n",
      "Saved frame number : 0\n",
      "Saved frame1711.jpg\n",
      "Saved frame number : 0\n",
      "Saved frame1712.jpg\n"
     ]
    },
    {
     "name": "stderr",
     "output_type": "stream",
     "text": [
      " 50%|████████████████████████████████████████                                        | 246/492 [00:10<00:09, 25.11it/s]"
     ]
    },
    {
     "name": "stdout",
     "output_type": "stream",
     "text": [
      "Saved frame number : 0\n",
      "Saved frame1713.jpg\n",
      "Saved frame number : 0\n",
      "Saved frame1714.jpg\n",
      "Saved frame number : 0\n",
      "Saved frame1715.jpg\n",
      "Saved frame number : 0\n",
      "Saved frame1716.jpg\n",
      "Saved frame number : 0\n",
      "Saved frame1717.jpg\n",
      "Saved frame number : 0\n"
     ]
    },
    {
     "name": "stderr",
     "output_type": "stream",
     "text": [
      "\r",
      " 51%|████████████████████████████████████████▍                                       | 249/492 [00:10<00:09, 24.60it/s]"
     ]
    },
    {
     "name": "stdout",
     "output_type": "stream",
     "text": [
      "Saved frame1718.jpg\n",
      "Saved frame number : 0\n",
      "Saved frame1719.jpg\n",
      "Saved frame number : 0\n",
      "Saved frame1720.jpg\n",
      "Saved frame number : 0\n",
      "Saved frame1721.jpg\n",
      "Saved frame number : 0\n",
      "Saved frame1722.jpg\n",
      "Saved frame number : 0\n"
     ]
    },
    {
     "name": "stderr",
     "output_type": "stream",
     "text": [
      " 52%|█████████████████████████████████████████▍                                      | 255/492 [00:10<00:09, 24.08it/s]"
     ]
    },
    {
     "name": "stdout",
     "output_type": "stream",
     "text": [
      "Saved frame1723.jpg\n",
      "Saved frame number : 0\n",
      "Saved frame1724.jpg\n",
      "Saved frame number : 0\n",
      "Saved frame1725.jpg\n",
      "Saved frame number : 0\n",
      "Saved frame1726.jpg\n",
      "Saved frame number : 0\n",
      "Saved frame1727.jpg\n"
     ]
    },
    {
     "name": "stderr",
     "output_type": "stream",
     "text": [
      "\r",
      " 52%|█████████████████████████████████████████▉                                      | 258/492 [00:10<00:10, 23.27it/s]"
     ]
    },
    {
     "name": "stdout",
     "output_type": "stream",
     "text": [
      "Saved frame number : 0\n",
      "Saved frame1728.jpg\n",
      "Saved frame number : 0\n",
      "Saved frame1729.jpg\n",
      "Saved frame number : 0\n",
      "Saved frame1730.jpg\n",
      "Saved frame number : 0\n",
      "Saved frame1731.jpg\n",
      "Saved frame number : 0\n"
     ]
    },
    {
     "name": "stderr",
     "output_type": "stream",
     "text": [
      " 54%|██████████████████████████████████████████▉                                     | 264/492 [00:11<00:10, 22.63it/s]"
     ]
    },
    {
     "name": "stdout",
     "output_type": "stream",
     "text": [
      "Saved frame1732.jpg\n",
      "Saved frame number : 0\n",
      "Saved frame1733.jpg\n",
      "Saved frame number : 0\n",
      "Saved frame1734.jpg\n",
      "Saved frame number : 0\n",
      "Saved frame1735.jpg\n",
      "Saved frame number : 0\n",
      "Saved frame1736.jpg\n",
      "Saved frame number : 0\n"
     ]
    },
    {
     "name": "stderr",
     "output_type": "stream",
     "text": [
      " 55%|███████████████████████████████████████████▉                                    | 270/492 [00:11<00:10, 22.13it/s]"
     ]
    },
    {
     "name": "stdout",
     "output_type": "stream",
     "text": [
      "Saved frame1737.jpg\n",
      "Saved frame number : 0\n",
      "Saved frame1738.jpg\n",
      "Saved frame number : 0\n",
      "Saved frame1739.jpg\n",
      "Saved frame number : 0\n",
      "Saved frame1740.jpg\n",
      "Saved frame number : 0\n",
      "Saved frame1741.jpg\n"
     ]
    },
    {
     "name": "stderr",
     "output_type": "stream",
     "text": [
      "\r",
      " 55%|████████████████████████████████████████████▍                                   | 273/492 [00:11<00:10, 20.42it/s]"
     ]
    },
    {
     "name": "stdout",
     "output_type": "stream",
     "text": [
      "Saved frame number : 0\n",
      "Saved frame1742.jpg\n",
      "Saved frame number : 0\n",
      "Saved frame1743.jpg\n",
      "Saved frame number : 0\n",
      "Saved frame1744.jpg\n",
      "Saved frame number : 0\n",
      "Saved frame1745.jpg\n"
     ]
    },
    {
     "name": "stderr",
     "output_type": "stream",
     "text": [
      " 57%|█████████████████████████████████████████████▎                                  | 279/492 [00:11<00:10, 21.10it/s]"
     ]
    },
    {
     "name": "stdout",
     "output_type": "stream",
     "text": [
      "Saved frame number : 0\n",
      "Saved frame1746.jpg\n",
      "Saved frame number : 0\n",
      "Saved frame1747.jpg\n",
      "Saved frame number : 0\n",
      "Saved frame1748.jpg\n",
      "Saved frame number : 0\n",
      "Saved frame1749.jpg\n",
      "Saved frame number : 0\n",
      "Saved frame1750.jpg\n"
     ]
    },
    {
     "name": "stderr",
     "output_type": "stream",
     "text": [
      "\r",
      " 57%|█████████████████████████████████████████████▊                                  | 282/492 [00:12<00:09, 21.13it/s]"
     ]
    },
    {
     "name": "stdout",
     "output_type": "stream",
     "text": [
      "Saved frame number : 0\n",
      "Saved frame1751.jpg\n",
      "Saved frame number : 0\n",
      "Saved frame1752.jpg\n",
      "Saved frame number : 0\n",
      "Saved frame1753.jpg\n",
      "Saved frame number : 0\n",
      "Saved frame1754.jpg\n",
      "Saved frame number : 0\n"
     ]
    },
    {
     "name": "stderr",
     "output_type": "stream",
     "text": [
      " 59%|██████████████████████████████████████████████▊                                 | 288/492 [00:12<00:09, 21.48it/s]"
     ]
    },
    {
     "name": "stdout",
     "output_type": "stream",
     "text": [
      "Saved frame1755.jpg\n",
      "Saved frame number : 0\n",
      "Saved frame1756.jpg\n",
      "Saved frame number : 0\n",
      "Saved frame1757.jpg\n",
      "Saved frame number : 0\n",
      "Saved frame1758.jpg\n",
      "Saved frame number : 0\n",
      "Saved frame1759.jpg\n"
     ]
    },
    {
     "name": "stderr",
     "output_type": "stream",
     "text": [
      "\r",
      " 59%|███████████████████████████████████████████████▎                                | 291/492 [00:12<00:09, 21.62it/s]"
     ]
    },
    {
     "name": "stdout",
     "output_type": "stream",
     "text": [
      "Saved frame number : 0\n",
      "Saved frame1760.jpg\n",
      "Saved frame number : 0\n",
      "Saved frame1761.jpg\n",
      "Saved frame number : 0\n",
      "Saved frame1762.jpg\n",
      "Saved frame number : 0\n",
      "Saved frame1763.jpg\n",
      "Saved frame number : 0\n"
     ]
    },
    {
     "name": "stderr",
     "output_type": "stream",
     "text": [
      " 60%|████████████████████████████████████████████████▎                               | 297/492 [00:12<00:08, 21.89it/s]"
     ]
    },
    {
     "name": "stdout",
     "output_type": "stream",
     "text": [
      "Saved frame1764.jpg\n",
      "Saved frame number : 0\n",
      "Saved frame1765.jpg\n",
      "Saved frame number : 0\n",
      "Saved frame1766.jpg\n",
      "Saved frame number : 0\n",
      "Saved frame1767.jpg\n",
      "Saved frame number : 0\n",
      "Saved frame1768.jpg\n",
      "Saved frame number : 0\n"
     ]
    },
    {
     "name": "stderr",
     "output_type": "stream",
     "text": [
      "\r",
      " 61%|████████████████████████████████████████████████▊                               | 300/492 [00:12<00:08, 21.93it/s]"
     ]
    },
    {
     "name": "stdout",
     "output_type": "stream",
     "text": [
      "Saved frame1769.jpg\n",
      "Saved frame number : 0\n",
      "Saved frame1770.jpg\n",
      "Saved frame number : 0\n",
      "Saved frame1771.jpg\n",
      "Saved frame number : 0\n",
      "Saved frame1772.jpg\n",
      "Saved frame number : 0\n",
      "Saved frame1773.jpg\n",
      "Saved frame number : 0\n"
     ]
    },
    {
     "name": "stderr",
     "output_type": "stream",
     "text": [
      " 62%|█████████████████████████████████████████████████▊                              | 306/492 [00:13<00:08, 22.65it/s]"
     ]
    },
    {
     "name": "stdout",
     "output_type": "stream",
     "text": [
      "Saved frame1774.jpg\n",
      "Saved frame number : 0\n",
      "Saved frame1775.jpg\n",
      "Saved frame number : 0\n",
      "Saved frame1776.jpg\n",
      "Saved frame number : 0\n",
      "Saved frame1777.jpg\n",
      "Saved frame number : 0\n",
      "Saved frame1778.jpg\n",
      "Saved frame number : 0\n"
     ]
    },
    {
     "name": "stderr",
     "output_type": "stream",
     "text": [
      " 63%|██████████████████████████████████████████████████▋                             | 312/492 [00:13<00:07, 22.97it/s]"
     ]
    },
    {
     "name": "stdout",
     "output_type": "stream",
     "text": [
      "Saved frame1779.jpg\n",
      "Saved frame number : 0\n",
      "Saved frame1780.jpg\n",
      "Saved frame number : 0\n",
      "Saved frame1781.jpg\n",
      "Saved frame number : 0\n",
      "Saved frame1782.jpg\n",
      "Saved frame number : 0\n",
      "Saved frame1783.jpg\n",
      "Saved frame number : 0\n"
     ]
    },
    {
     "name": "stderr",
     "output_type": "stream",
     "text": [
      "\r",
      " 64%|███████████████████████████████████████████████████▏                            | 315/492 [00:13<00:07, 23.07it/s]"
     ]
    },
    {
     "name": "stdout",
     "output_type": "stream",
     "text": [
      "Saved frame1784.jpg\n",
      "Saved frame number : 0\n",
      "Saved frame1785.jpg\n",
      "Saved frame number : 0\n",
      "Saved frame1786.jpg\n",
      "Saved frame number : 0\n",
      "Saved frame1787.jpg\n",
      "Saved frame number : 0\n",
      "Saved frame1788.jpg\n"
     ]
    },
    {
     "name": "stderr",
     "output_type": "stream",
     "text": [
      " 65%|████████████████████████████████████████████████████▏                           | 321/492 [00:13<00:07, 23.00it/s]"
     ]
    },
    {
     "name": "stdout",
     "output_type": "stream",
     "text": [
      "Saved frame number : 0\n",
      "Saved frame1789.jpg\n",
      "Saved frame number : 0\n",
      "Saved frame1790.jpg\n",
      "Saved frame number : 0\n",
      "Saved frame1791.jpg\n",
      "Saved frame number : 0\n",
      "Saved frame1792.jpg\n",
      "Saved frame number : 0\n",
      "Saved frame1793.jpg\n"
     ]
    },
    {
     "name": "stderr",
     "output_type": "stream",
     "text": [
      " 66%|█████████████████████████████████████████████████████▏                          | 327/492 [00:14<00:07, 22.55it/s]"
     ]
    },
    {
     "name": "stdout",
     "output_type": "stream",
     "text": [
      "Saved frame number : 0\n",
      "Saved frame1794.jpg\n",
      "Saved frame number : 0\n",
      "Saved frame1795.jpg\n",
      "Saved frame number : 0\n",
      "Saved frame1796.jpg\n",
      "Saved frame number : 0\n",
      "Saved frame1797.jpg\n",
      "Saved frame number : 0\n",
      "Saved frame1798.jpg\n"
     ]
    },
    {
     "name": "stderr",
     "output_type": "stream",
     "text": [
      "\r",
      " 67%|█████████████████████████████████████████████████████▋                          | 330/492 [00:14<00:07, 21.64it/s]"
     ]
    },
    {
     "name": "stdout",
     "output_type": "stream",
     "text": [
      "Saved frame number : 0\n",
      "Saved frame1799.jpg\n",
      "Saved frame number : 0\n",
      "Saved frame1800.jpg\n",
      "Saved frame number : 0\n",
      "Saved frame1801.jpg\n",
      "Saved frame number : 0\n",
      "Saved frame1802.jpg\n",
      "Saved frame number : 0\n"
     ]
    },
    {
     "name": "stderr",
     "output_type": "stream",
     "text": [
      "\r",
      " 68%|██████████████████████████████████████████████████████▏                         | 333/492 [00:14<00:07, 21.14it/s]"
     ]
    },
    {
     "name": "stdout",
     "output_type": "stream",
     "text": [
      "Saved frame1803.jpg\n",
      "Saved frame number : 0\n",
      "Saved frame1804.jpg\n",
      "Saved frame number : 0\n",
      "Saved frame1805.jpg\n",
      "Saved frame number : 0\n",
      "Saved frame1806.jpg\n",
      "Saved frame number : 0\n"
     ]
    },
    {
     "name": "stderr",
     "output_type": "stream",
     "text": [
      " 69%|███████████████████████████████████████████████████████                         | 339/492 [00:14<00:07, 20.70it/s]"
     ]
    },
    {
     "name": "stdout",
     "output_type": "stream",
     "text": [
      "Saved frame1807.jpg\n",
      "Saved frame number : 0\n",
      "Saved frame1808.jpg\n",
      "Saved frame number : 0\n",
      "Saved frame1809.jpg\n",
      "Saved frame number : 0\n",
      "Saved frame1810.jpg\n",
      "Saved frame number : 0\n"
     ]
    },
    {
     "name": "stderr",
     "output_type": "stream",
     "text": [
      "\r",
      " 70%|███████████████████████████████████████████████████████▌                        | 342/492 [00:14<00:07, 19.73it/s]"
     ]
    },
    {
     "name": "stdout",
     "output_type": "stream",
     "text": [
      "Saved frame1811.jpg\n",
      "Saved frame number : 0\n",
      "Saved frame1812.jpg\n",
      "Saved frame number : 0\n",
      "Saved frame1813.jpg\n",
      "Saved frame number : 0\n",
      "Saved frame1814.jpg\n",
      "Saved frame number : 0\n",
      "Saved frame1815.jpg\n",
      "Saved frame number : 0\n"
     ]
    },
    {
     "name": "stderr",
     "output_type": "stream",
     "text": [
      " 71%|████████████████████████████████████████████████████████▌                       | 348/492 [00:15<00:06, 21.41it/s]"
     ]
    },
    {
     "name": "stdout",
     "output_type": "stream",
     "text": [
      "Saved frame1816.jpg\n",
      "Saved frame number : 0\n",
      "Saved frame1817.jpg\n",
      "Saved frame number : 0\n",
      "Saved frame1818.jpg\n",
      "Saved frame number : 0\n",
      "Saved frame1819.jpg\n",
      "Saved frame number : 0\n",
      "Saved frame1820.jpg\n",
      "Saved frame number : 0\n"
     ]
    },
    {
     "name": "stderr",
     "output_type": "stream",
     "text": [
      " 72%|█████████████████████████████████████████████████████████▌                      | 354/492 [00:15<00:05, 23.20it/s]"
     ]
    },
    {
     "name": "stdout",
     "output_type": "stream",
     "text": [
      "Saved frame1821.jpg\n",
      "Saved frame number : 0\n",
      "Saved frame1822.jpg\n",
      "Saved frame number : 0\n",
      "Saved frame1823.jpg\n",
      "Saved frame number : 0\n",
      "Saved frame1824.jpg\n",
      "Saved frame number : 0\n",
      "Saved frame1825.jpg\n",
      "Saved frame number : 0\n"
     ]
    },
    {
     "name": "stderr",
     "output_type": "stream",
     "text": [
      "\r",
      " 73%|██████████████████████████████████████████████████████████                      | 357/492 [00:15<00:05, 23.40it/s]"
     ]
    },
    {
     "name": "stdout",
     "output_type": "stream",
     "text": [
      "Saved frame1826.jpg\n",
      "Saved frame number : 0\n",
      "Saved frame1827.jpg\n",
      "Saved frame number : 0\n",
      "Saved frame1828.jpg\n",
      "Saved frame number : 0\n",
      "Saved frame1829.jpg\n",
      "Saved frame number : 0\n",
      "Saved frame1830.jpg\n",
      "Saved frame number : 0\n"
     ]
    },
    {
     "name": "stderr",
     "output_type": "stream",
     "text": [
      " 74%|███████████████████████████████████████████████████████████                     | 363/492 [00:15<00:05, 22.20it/s]"
     ]
    },
    {
     "name": "stdout",
     "output_type": "stream",
     "text": [
      "Saved frame1831.jpg\n",
      "Saved frame number : 0\n",
      "Saved frame1832.jpg\n",
      "Saved frame number : 0\n",
      "Saved frame1833.jpg\n",
      "Saved frame number : 0\n",
      "Saved frame1834.jpg\n",
      "Saved frame number : 0\n"
     ]
    },
    {
     "name": "stderr",
     "output_type": "stream",
     "text": [
      "\r",
      " 74%|███████████████████████████████████████████████████████████▌                    | 366/492 [00:15<00:05, 22.03it/s]"
     ]
    },
    {
     "name": "stdout",
     "output_type": "stream",
     "text": [
      "Saved frame1835.jpg\n",
      "Saved frame number : 0\n",
      "Saved frame1836.jpg\n",
      "Saved frame number : 0\n",
      "Saved frame1837.jpg\n",
      "Saved frame number : 0\n",
      "Saved frame1838.jpg\n",
      "Saved frame number : 0\n",
      "Saved frame1839.jpg\n",
      "Saved frame number : 0\n"
     ]
    },
    {
     "name": "stderr",
     "output_type": "stream",
     "text": [
      " 76%|████████████████████████████████████████████████████████████▍                   | 372/492 [00:16<00:05, 21.65it/s]"
     ]
    },
    {
     "name": "stdout",
     "output_type": "stream",
     "text": [
      "Saved frame1840.jpg\n",
      "Saved frame number : 0\n",
      "Saved frame1841.jpg\n",
      "Saved frame number : 0\n",
      "Saved frame1842.jpg\n",
      "Saved frame number : 0\n",
      "Saved frame1843.jpg\n",
      "Saved frame number : 0\n",
      "Saved frame1844.jpg\n"
     ]
    },
    {
     "name": "stderr",
     "output_type": "stream",
     "text": [
      " 77%|█████████████████████████████████████████████████████████████▍                  | 378/492 [00:16<00:05, 21.86it/s]"
     ]
    },
    {
     "name": "stdout",
     "output_type": "stream",
     "text": [
      "Saved frame number : 0\n",
      "Saved frame1845.jpg\n",
      "Saved frame number : 0\n",
      "Saved frame1846.jpg\n",
      "Saved frame number : 0\n",
      "Saved frame1847.jpg\n",
      "Saved frame number : 0\n",
      "Saved frame1848.jpg\n",
      "Saved frame number : 0\n",
      "Saved frame1849.jpg\n"
     ]
    },
    {
     "name": "stderr",
     "output_type": "stream",
     "text": [
      "\r",
      " 77%|█████████████████████████████████████████████████████████████▉                  | 381/492 [00:16<00:05, 21.80it/s]"
     ]
    },
    {
     "name": "stdout",
     "output_type": "stream",
     "text": [
      "Saved frame number : 0\n",
      "Saved frame1850.jpg\n",
      "Saved frame number : 0\n",
      "Saved frame1851.jpg\n",
      "Saved frame number : 0\n",
      "Saved frame1852.jpg\n",
      "Saved frame number : 0\n",
      "Saved frame1853.jpg\n",
      "Saved frame number : 0\n"
     ]
    },
    {
     "name": "stderr",
     "output_type": "stream",
     "text": [
      "\r",
      " 78%|██████████████████████████████████████████████████████████████▍                 | 384/492 [00:16<00:05, 20.59it/s]"
     ]
    },
    {
     "name": "stdout",
     "output_type": "stream",
     "text": [
      "Saved frame1854.jpg\n",
      "Saved frame number : 0\n",
      "Saved frame1855.jpg\n",
      "Saved frame number : 0\n",
      "Saved frame1856.jpg\n",
      "Saved frame number : 0\n",
      "Saved frame1857.jpg\n",
      "Saved frame number : 0\n"
     ]
    },
    {
     "name": "stderr",
     "output_type": "stream",
     "text": [
      " 79%|███████████████████████████████████████████████████████████████▎                | 389/492 [00:17<00:05, 18.52it/s]"
     ]
    },
    {
     "name": "stdout",
     "output_type": "stream",
     "text": [
      "Saved frame1858.jpg\n",
      "Saved frame number : 0\n",
      "Saved frame1859.jpg\n",
      "Saved frame number : 0\n",
      "Saved frame1860.jpg\n",
      "Saved frame number : 0\n",
      "Saved frame1861.jpg\n"
     ]
    },
    {
     "name": "stderr",
     "output_type": "stream",
     "text": [
      " 80%|███████████████████████████████████████████████████████████████▉                | 393/492 [00:17<00:05, 18.59it/s]"
     ]
    },
    {
     "name": "stdout",
     "output_type": "stream",
     "text": [
      "Saved frame number : 0\n",
      "Saved frame1862.jpg\n",
      "Saved frame number : 0\n",
      "Saved frame1863.jpg\n",
      "Saved frame number : 0\n",
      "Saved frame1864.jpg\n",
      "Saved frame number : 0\n",
      "Saved frame1865.jpg\n",
      "Saved frame number : 0\n"
     ]
    },
    {
     "name": "stderr",
     "output_type": "stream",
     "text": [
      " 81%|████████████████████████████████████████████████████████████████▉               | 399/492 [00:17<00:04, 20.78it/s]"
     ]
    },
    {
     "name": "stdout",
     "output_type": "stream",
     "text": [
      "Saved frame1866.jpg\n",
      "Saved frame number : 0\n",
      "Saved frame1867.jpg\n",
      "Saved frame number : 0\n",
      "Saved frame1868.jpg\n",
      "Saved frame number : 0\n",
      "Saved frame1869.jpg\n",
      "Saved frame number : 0\n",
      "Saved frame1870.jpg\n",
      "Saved frame number : 0\n"
     ]
    },
    {
     "name": "stderr",
     "output_type": "stream",
     "text": [
      "\r",
      " 82%|█████████████████████████████████████████████████████████████████▎              | 402/492 [00:17<00:04, 21.25it/s]"
     ]
    },
    {
     "name": "stdout",
     "output_type": "stream",
     "text": [
      "Saved frame1871.jpg\n",
      "Saved frame number : 0\n",
      "Saved frame1872.jpg\n",
      "Saved frame number : 0\n",
      "Saved frame1873.jpg\n",
      "Saved frame number : 0\n",
      "Saved frame1874.jpg\n",
      "Saved frame number : 0\n",
      "Saved frame1875.jpg\n",
      "Saved frame number : 0\n"
     ]
    },
    {
     "name": "stderr",
     "output_type": "stream",
     "text": [
      " 83%|██████████████████████████████████████████████████████████████████▎             | 408/492 [00:17<00:03, 22.99it/s]"
     ]
    },
    {
     "name": "stdout",
     "output_type": "stream",
     "text": [
      "Saved frame1876.jpg\n",
      "Saved frame number : 0\n",
      "Saved frame1877.jpg\n",
      "Saved frame number : 0\n",
      "Saved frame1878.jpg\n",
      "Saved frame number : 0\n",
      "Saved frame1879.jpg\n",
      "Saved frame number : 0\n",
      "Saved frame1880.jpg\n"
     ]
    },
    {
     "name": "stderr",
     "output_type": "stream",
     "text": [
      "\r",
      " 84%|██████████████████████████████████████████████████████████████████▊             | 411/492 [00:18<00:04, 18.42it/s]"
     ]
    },
    {
     "name": "stdout",
     "output_type": "stream",
     "text": [
      "Saved frame number : 0\n",
      "Saved frame1881.jpg\n",
      "Saved frame number : 0\n",
      "Saved frame1882.jpg\n",
      "Saved frame number : 0\n",
      "Saved frame1883.jpg\n"
     ]
    },
    {
     "name": "stderr",
     "output_type": "stream",
     "text": [
      " 85%|███████████████████████████████████████████████████████████████████▋            | 416/492 [00:18<00:03, 19.90it/s]"
     ]
    },
    {
     "name": "stdout",
     "output_type": "stream",
     "text": [
      "Saved frame number : 0\n",
      "Saved frame1884.jpg\n",
      "Saved frame number : 0\n",
      "Saved frame1885.jpg\n",
      "Saved frame number : 0\n",
      "Saved frame1886.jpg\n",
      "Saved frame number : 0\n",
      "Saved frame1887.jpg\n",
      "Saved frame number : 0\n"
     ]
    },
    {
     "name": "stderr",
     "output_type": "stream",
     "text": [
      "\r",
      " 85%|████████████████████████████████████████████████████████████████████▏           | 419/492 [00:18<00:03, 20.25it/s]"
     ]
    },
    {
     "name": "stdout",
     "output_type": "stream",
     "text": [
      "Saved frame1888.jpg\n",
      "Saved frame number : 0\n",
      "Saved frame1889.jpg\n",
      "Saved frame number : 0\n",
      "Saved frame1890.jpg\n",
      "Saved frame number : 0\n",
      "Saved frame1891.jpg\n",
      "Saved frame number : 0\n",
      "Saved frame1892.jpg\n"
     ]
    },
    {
     "name": "stderr",
     "output_type": "stream",
     "text": [
      " 86%|█████████████████████████████████████████████████████████████████████           | 425/492 [00:18<00:03, 20.85it/s]"
     ]
    },
    {
     "name": "stdout",
     "output_type": "stream",
     "text": [
      "Saved frame number : 0\n",
      "Saved frame1893.jpg\n",
      "Saved frame number : 0\n",
      "Saved frame1894.jpg\n",
      "Saved frame number : 0\n",
      "Saved frame1895.jpg\n",
      "Saved frame number : 0\n",
      "Saved frame1896.jpg\n",
      "Saved frame number : 0\n"
     ]
    },
    {
     "name": "stderr",
     "output_type": "stream",
     "text": [
      "\r",
      " 87%|█████████████████████████████████████████████████████████████████████▌          | 428/492 [00:18<00:02, 21.59it/s]"
     ]
    },
    {
     "name": "stdout",
     "output_type": "stream",
     "text": [
      "Saved frame1897.jpg\n",
      "Saved frame number : 0\n",
      "Saved frame1898.jpg\n",
      "Saved frame number : 0\n",
      "Saved frame1899.jpg\n",
      "Saved frame number : 0\n",
      "Saved frame1900.jpg\n",
      "Saved frame number : 0\n",
      "Saved frame1901.jpg\n",
      "Saved frame number : 0\n"
     ]
    },
    {
     "name": "stderr",
     "output_type": "stream",
     "text": [
      " 88%|██████████████████████████████████████████████████████████████████████▌         | 434/492 [00:19<00:02, 21.96it/s]"
     ]
    },
    {
     "name": "stdout",
     "output_type": "stream",
     "text": [
      "Saved frame1902.jpg\n",
      "Saved frame number : 0\n",
      "Saved frame1903.jpg\n",
      "Saved frame number : 0\n",
      "Saved frame1904.jpg\n",
      "Saved frame number : 0\n",
      "Saved frame1905.jpg\n",
      "Saved frame number : 0\n",
      "Saved frame1906.jpg\n"
     ]
    },
    {
     "name": "stderr",
     "output_type": "stream",
     "text": [
      "\r",
      " 89%|███████████████████████████████████████████████████████████████████████         | 437/492 [00:19<00:02, 21.48it/s]"
     ]
    },
    {
     "name": "stdout",
     "output_type": "stream",
     "text": [
      "Saved frame number : 0\n",
      "Saved frame1907.jpg\n",
      "Saved frame number : 0\n",
      "Saved frame1908.jpg\n",
      "Saved frame number : 0\n",
      "Saved frame1909.jpg\n",
      "Saved frame number : 0\n",
      "Saved frame1910.jpg\n"
     ]
    },
    {
     "name": "stderr",
     "output_type": "stream",
     "text": [
      " 90%|████████████████████████████████████████████████████████████████████████        | 443/492 [00:19<00:02, 21.03it/s]"
     ]
    },
    {
     "name": "stdout",
     "output_type": "stream",
     "text": [
      "Saved frame number : 0\n",
      "Saved frame1911.jpg\n",
      "Saved frame number : 0\n",
      "Saved frame1912.jpg\n",
      "Saved frame number : 0\n",
      "Saved frame1913.jpg\n",
      "Saved frame number : 0\n",
      "Saved frame1914.jpg\n",
      "Saved frame number : 0\n",
      "Saved frame1915.jpg\n"
     ]
    },
    {
     "name": "stderr",
     "output_type": "stream",
     "text": [
      "\r",
      " 91%|████████████████████████████████████████████████████████████████████████▌       | 446/492 [00:19<00:02, 20.47it/s]"
     ]
    },
    {
     "name": "stdout",
     "output_type": "stream",
     "text": [
      "Saved frame number : 0\n",
      "Saved frame1916.jpg\n",
      "Saved frame number : 0\n",
      "Saved frame1917.jpg\n",
      "Saved frame number : 0\n",
      "Saved frame1918.jpg\n",
      "Saved frame number : 0\n",
      "Saved frame1919.jpg\n",
      "Saved frame number : 0\n"
     ]
    },
    {
     "name": "stderr",
     "output_type": "stream",
     "text": [
      " 92%|█████████████████████████████████████████████████████████████████████████▍      | 452/492 [00:20<00:01, 21.03it/s]"
     ]
    },
    {
     "name": "stdout",
     "output_type": "stream",
     "text": [
      "Saved frame1920.jpg\n",
      "Saved frame number : 0\n",
      "Saved frame1921.jpg\n",
      "Saved frame number : 0\n",
      "Saved frame1922.jpg\n",
      "Saved frame number : 0\n",
      "Saved frame1923.jpg\n",
      "Saved frame number : 0\n",
      "Saved frame1924.jpg\n"
     ]
    },
    {
     "name": "stderr",
     "output_type": "stream",
     "text": [
      "\r",
      " 92%|█████████████████████████████████████████████████████████████████████████▉      | 455/492 [00:20<00:01, 21.57it/s]"
     ]
    },
    {
     "name": "stdout",
     "output_type": "stream",
     "text": [
      "Saved frame number : 0\n",
      "Saved frame1925.jpg\n",
      "Saved frame number : 0\n",
      "Saved frame1926.jpg\n",
      "Saved frame number : 0\n",
      "Saved frame1927.jpg\n",
      "Saved frame number : 0\n",
      "Saved frame1928.jpg\n",
      "Saved frame number : 0\n"
     ]
    },
    {
     "name": "stderr",
     "output_type": "stream",
     "text": [
      " 94%|██████████████████████████████████████████████████████████████████████████▉     | 461/492 [00:20<00:01, 20.83it/s]"
     ]
    },
    {
     "name": "stdout",
     "output_type": "stream",
     "text": [
      "Saved frame1929.jpg\n",
      "Saved frame number : 0\n",
      "Saved frame1930.jpg\n",
      "Saved frame number : 0\n",
      "Saved frame1931.jpg\n",
      "Saved frame number : 0\n",
      "Saved frame1932.jpg\n",
      "Saved frame number : 0\n",
      "Saved frame1933.jpg\n"
     ]
    },
    {
     "name": "stderr",
     "output_type": "stream",
     "text": [
      "\r",
      " 94%|███████████████████████████████████████████████████████████████████████████▍    | 464/492 [00:20<00:01, 20.68it/s]"
     ]
    },
    {
     "name": "stdout",
     "output_type": "stream",
     "text": [
      "Saved frame number : 0\n",
      "Saved frame1934.jpg\n",
      "Saved frame number : 0\n",
      "Saved frame1935.jpg\n",
      "Saved frame number : 0\n",
      "Saved frame1936.jpg\n",
      "Saved frame number : 0\n",
      "Saved frame1937.jpg\n"
     ]
    },
    {
     "name": "stderr",
     "output_type": "stream",
     "text": [
      " 96%|████████████████████████████████████████████████████████████████████████████▍   | 470/492 [00:20<00:01, 20.75it/s]"
     ]
    },
    {
     "name": "stdout",
     "output_type": "stream",
     "text": [
      "Saved frame number : 0\n",
      "Saved frame1938.jpg\n",
      "Saved frame number : 0\n",
      "Saved frame1939.jpg\n",
      "Saved frame number : 0\n",
      "Saved frame1940.jpg\n",
      "Saved frame number : 0\n",
      "Saved frame1941.jpg\n",
      "Saved frame number : 0\n",
      "Saved frame1942.jpg\n"
     ]
    },
    {
     "name": "stderr",
     "output_type": "stream",
     "text": [
      " 97%|█████████████████████████████████████████████████████████████████████████████▍  | 476/492 [00:21<00:00, 21.06it/s]"
     ]
    },
    {
     "name": "stdout",
     "output_type": "stream",
     "text": [
      "Saved frame number : 0\n",
      "Saved frame1943.jpg\n",
      "Saved frame number : 0\n",
      "Saved frame1944.jpg\n",
      "Saved frame number : 0\n",
      "Saved frame1945.jpg\n",
      "Saved frame number : 0\n",
      "Saved frame1946.jpg\n",
      "Saved frame number : 0\n",
      "Saved frame1947.jpg\n"
     ]
    },
    {
     "name": "stderr",
     "output_type": "stream",
     "text": [
      "\r",
      " 97%|█████████████████████████████████████████████████████████████████████████████▉  | 479/492 [00:21<00:00, 21.09it/s]"
     ]
    },
    {
     "name": "stdout",
     "output_type": "stream",
     "text": [
      "Saved frame number : 0\n",
      "Saved frame1948.jpg\n",
      "Saved frame number : 0\n",
      "Saved frame1949.jpg\n",
      "Saved frame number : 0\n",
      "Saved frame1950.jpg\n",
      "Saved frame number : 0\n",
      "Saved frame1951.jpg\n",
      "Saved frame number : 0\n",
      "Saved frame1952.jpg\n"
     ]
    },
    {
     "name": "stderr",
     "output_type": "stream",
     "text": [
      " 99%|██████████████████████████████████████████████████████████████████████████████▊ | 485/492 [00:21<00:00, 20.89it/s]"
     ]
    },
    {
     "name": "stdout",
     "output_type": "stream",
     "text": [
      "Saved frame number : 0\n",
      "Saved frame1953.jpg\n",
      "Saved frame number : 0\n",
      "Saved frame1954.jpg\n",
      "Saved frame number : 0\n",
      "Saved frame1955.jpg\n",
      "Saved frame number : 0\n",
      "Saved frame1956.jpg\n",
      "Saved frame number : 0\n"
     ]
    },
    {
     "name": "stderr",
     "output_type": "stream",
     "text": [
      "\r",
      " 99%|███████████████████████████████████████████████████████████████████████████████▎| 488/492 [00:21<00:00, 20.55it/s]"
     ]
    },
    {
     "name": "stdout",
     "output_type": "stream",
     "text": [
      "Saved frame1957.jpg\n",
      "Saved frame number : 0\n",
      "Saved frame1958.jpg\n",
      "Saved frame number : 0\n",
      "Saved frame1959.jpg\n",
      "Saved frame number : 0\n",
      "Saved frame1960.jpg\n",
      "Saved frame number : 0\n",
      "Saved frame1961.jpg\n"
     ]
    },
    {
     "name": "stderr",
     "output_type": "stream",
     "text": [
      "100%|████████████████████████████████████████████████████████████████████████████████| 492/492 [00:21<00:00, 22.39it/s]\n"
     ]
    },
    {
     "name": "stdout",
     "output_type": "stream",
     "text": [
      "Saved frame number : 0\n",
      "Saved frame1962.jpg\n",
      "Saved frame number : 0\n",
      "Saved frame1963.jpg\n",
      "Iterating: 4 folder\n"
     ]
    },
    {
     "name": "stderr",
     "output_type": "stream",
     "text": [
      "\r",
      "  0%|                                                                                          | 0/492 [00:00<?, ?it/s]"
     ]
    },
    {
     "name": "stdout",
     "output_type": "stream",
     "text": [
      "Saved frame number : 0\n",
      "Saved frame1964.jpg\n",
      "Saved frame number : 0\n",
      "Saved frame1965.jpg\n",
      "Saved frame number : 0\n"
     ]
    },
    {
     "name": "stderr",
     "output_type": "stream",
     "text": [
      "\r",
      "  1%|▌                                                                                 | 3/492 [00:00<00:20, 23.32it/s]"
     ]
    },
    {
     "name": "stdout",
     "output_type": "stream",
     "text": [
      "Saved frame1966.jpg\n",
      "Saved frame number : 0\n",
      "Saved frame1967.jpg\n",
      "Saved frame number : 0\n",
      "Saved frame1968.jpg\n"
     ]
    },
    {
     "name": "stderr",
     "output_type": "stream",
     "text": [
      "\r",
      "  1%|█                                                                                 | 6/492 [00:00<00:20, 23.32it/s]"
     ]
    },
    {
     "name": "stdout",
     "output_type": "stream",
     "text": [
      "Saved frame number : 0\n",
      "Saved frame1969.jpg\n",
      "Saved frame number : 0\n",
      "Saved frame1970.jpg\n",
      "Saved frame number : 0\n"
     ]
    },
    {
     "name": "stderr",
     "output_type": "stream",
     "text": [
      "\r",
      "  2%|█▌                                                                                | 9/492 [00:00<00:21, 22.91it/s]"
     ]
    },
    {
     "name": "stdout",
     "output_type": "stream",
     "text": [
      "Saved frame1971.jpg\n",
      "Saved frame number : 0\n",
      "Saved frame1972.jpg\n",
      "Saved frame number : 0\n"
     ]
    },
    {
     "name": "stderr",
     "output_type": "stream",
     "text": [
      "\r",
      "  2%|█▉                                                                               | 12/492 [00:00<00:21, 22.53it/s]"
     ]
    },
    {
     "name": "stdout",
     "output_type": "stream",
     "text": [
      "Saved frame1973.jpg\n",
      "Saved frame number : 0\n",
      "Saved frame1974.jpg\n",
      "Saved frame number : 0\n",
      "Saved frame1975.jpg\n",
      "Saved frame number : 0\n",
      "Saved frame1976.jpg\n",
      "Saved frame number : 0\n",
      "Saved frame1977.jpg\n"
     ]
    },
    {
     "name": "stderr",
     "output_type": "stream",
     "text": [
      "\r",
      "  3%|██▍                                                                              | 15/492 [00:00<00:22, 20.76it/s]"
     ]
    },
    {
     "name": "stdout",
     "output_type": "stream",
     "text": [
      "Saved frame number : 0\n",
      "Saved frame1978.jpg\n",
      "Saved frame number : 0\n",
      "Saved frame1979.jpg\n"
     ]
    },
    {
     "name": "stderr",
     "output_type": "stream",
     "text": [
      "\r",
      "  4%|██▉                                                                              | 18/492 [00:00<00:23, 20.47it/s]"
     ]
    },
    {
     "name": "stdout",
     "output_type": "stream",
     "text": [
      "Saved frame number : 0\n",
      "Saved frame1980.jpg\n",
      "Saved frame number : 0\n",
      "Saved frame1981.jpg\n"
     ]
    },
    {
     "name": "stderr",
     "output_type": "stream",
     "text": [
      "\r",
      "  4%|███▍                                                                             | 21/492 [00:00<00:21, 21.77it/s]"
     ]
    },
    {
     "name": "stdout",
     "output_type": "stream",
     "text": [
      "Saved frame number : 0\n",
      "Saved frame1982.jpg\n",
      "Saved frame number : 0\n",
      "Saved frame1983.jpg\n",
      "Saved frame number : 0\n",
      "Saved frame1984.jpg\n",
      "Saved frame number : 0\n",
      "Saved frame1985.jpg\n",
      "Saved frame number : 0\n",
      "Saved frame1986.jpg\n"
     ]
    },
    {
     "name": "stderr",
     "output_type": "stream",
     "text": [
      "\r",
      "  5%|███▉                                                                             | 24/492 [00:01<00:21, 21.98it/s]"
     ]
    },
    {
     "name": "stdout",
     "output_type": "stream",
     "text": [
      "Saved frame number : 0\n",
      "Saved frame1987.jpg\n",
      "Saved frame number : 0\n",
      "Saved frame1988.jpg\n",
      "Saved frame number : 0\n",
      "Saved frame1989.jpg\n"
     ]
    },
    {
     "name": "stderr",
     "output_type": "stream",
     "text": [
      "\r",
      "  5%|████▍                                                                            | 27/492 [00:01<00:21, 22.08it/s]"
     ]
    },
    {
     "name": "stdout",
     "output_type": "stream",
     "text": [
      "Saved frame number : 0\n",
      "Saved frame1990.jpg\n",
      "Saved frame number : 0\n",
      "Saved frame1991.jpg\n"
     ]
    },
    {
     "name": "stderr",
     "output_type": "stream",
     "text": [
      "\r",
      "  6%|████▉                                                                            | 30/492 [00:01<00:20, 22.34it/s]"
     ]
    },
    {
     "name": "stdout",
     "output_type": "stream",
     "text": [
      "Saved frame number : 0\n",
      "Saved frame1992.jpg\n",
      "Saved frame number : 0\n",
      "Saved frame1993.jpg\n",
      "Saved frame number : 0\n"
     ]
    },
    {
     "name": "stderr",
     "output_type": "stream",
     "text": [
      "\r",
      "  7%|█████▍                                                                           | 33/492 [00:01<00:20, 22.61it/s]"
     ]
    },
    {
     "name": "stdout",
     "output_type": "stream",
     "text": [
      "Saved frame1994.jpg\n",
      "Saved frame number : 0\n",
      "Saved frame1995.jpg\n",
      "Saved frame number : 0\n",
      "Saved frame1996.jpg\n",
      "Saved frame number : 0\n",
      "Saved frame1997.jpg\n",
      "Saved frame number : 0\n",
      "Saved frame1998.jpg\n",
      "Saved frame number : 0\n"
     ]
    },
    {
     "name": "stderr",
     "output_type": "stream",
     "text": [
      "\r",
      "  7%|█████▉                                                                           | 36/492 [00:01<00:19, 22.97it/s]"
     ]
    },
    {
     "name": "stdout",
     "output_type": "stream",
     "text": [
      "Saved frame1999.jpg\n",
      "Saved frame number : 0\n",
      "Saved frame2000.jpg\n",
      "Saved frame number : 0\n",
      "Saved frame2001.jpg\n"
     ]
    },
    {
     "name": "stderr",
     "output_type": "stream",
     "text": [
      "\r",
      "  8%|██████▍                                                                          | 39/492 [00:01<00:19, 23.18it/s]"
     ]
    },
    {
     "name": "stdout",
     "output_type": "stream",
     "text": [
      "Saved frame number : 0\n",
      "Saved frame2002.jpg\n",
      "Saved frame number : 0\n",
      "Saved frame2003.jpg\n",
      "Saved frame number : 0\n"
     ]
    },
    {
     "name": "stderr",
     "output_type": "stream",
     "text": [
      "\r",
      "  9%|██████▉                                                                          | 42/492 [00:01<00:19, 23.38it/s]"
     ]
    },
    {
     "name": "stdout",
     "output_type": "stream",
     "text": [
      "Saved frame2004.jpg\n",
      "Saved frame number : 0\n",
      "Saved frame2005.jpg\n",
      "Saved frame number : 0\n",
      "Saved frame2006.jpg\n"
     ]
    },
    {
     "name": "stderr",
     "output_type": "stream",
     "text": [
      "\r",
      "  9%|███████▍                                                                         | 45/492 [00:02<00:19, 22.72it/s]"
     ]
    },
    {
     "name": "stdout",
     "output_type": "stream",
     "text": [
      "Saved frame number : 0\n",
      "Saved frame2007.jpg\n",
      "Saved frame number : 0\n",
      "Saved frame2008.jpg\n"
     ]
    },
    {
     "name": "stderr",
     "output_type": "stream",
     "text": [
      "\r",
      " 10%|███████▉                                                                         | 48/492 [00:02<00:19, 23.16it/s]"
     ]
    },
    {
     "name": "stdout",
     "output_type": "stream",
     "text": [
      "Saved frame number : 0\n",
      "Saved frame2009.jpg\n",
      "Saved frame number : 0\n",
      "Saved frame2010.jpg\n",
      "Saved frame number : 0\n",
      "Saved frame2011.jpg\n",
      "Saved frame number : 0\n",
      "Saved frame2012.jpg\n",
      "Saved frame number : 0\n",
      "Saved frame2013.jpg\n"
     ]
    },
    {
     "name": "stderr",
     "output_type": "stream",
     "text": [
      "\r",
      " 10%|████████▍                                                                        | 51/492 [00:02<00:18, 23.32it/s]"
     ]
    },
    {
     "name": "stdout",
     "output_type": "stream",
     "text": [
      "Saved frame number : 0\n",
      "Saved frame2014.jpg\n",
      "Saved frame number : 0\n",
      "Saved frame2015.jpg\n",
      "Saved frame number : 0\n",
      "Saved frame2016.jpg\n",
      "Saved frame number : 0\n"
     ]
    },
    {
     "name": "stderr",
     "output_type": "stream",
     "text": [
      "\r",
      " 11%|████████▉                                                                        | 54/492 [00:02<00:18, 23.75it/s]"
     ]
    },
    {
     "name": "stdout",
     "output_type": "stream",
     "text": [
      "Saved frame2017.jpg\n",
      "Saved frame number : 0\n",
      "Saved frame2018.jpg\n"
     ]
    },
    {
     "name": "stderr",
     "output_type": "stream",
     "text": [
      "\r",
      " 12%|█████████▍                                                                       | 57/492 [00:02<00:18, 23.68it/s]"
     ]
    },
    {
     "name": "stdout",
     "output_type": "stream",
     "text": [
      "Saved frame number : 0\n",
      "Saved frame2019.jpg\n",
      "Saved frame number : 0\n",
      "Saved frame2020.jpg\n",
      "Saved frame number : 0\n",
      "Saved frame2021.jpg\n",
      "Saved frame number : 0\n"
     ]
    },
    {
     "name": "stderr",
     "output_type": "stream",
     "text": [
      "\r",
      " 12%|█████████▉                                                                       | 60/492 [00:02<00:18, 23.98it/s]"
     ]
    },
    {
     "name": "stdout",
     "output_type": "stream",
     "text": [
      "Saved frame2022.jpg\n",
      "Saved frame number : 0\n",
      "Saved frame2023.jpg\n",
      "Saved frame number : 0\n",
      "Saved frame2024.jpg\n",
      "Saved frame number : 0\n",
      "Saved frame2025.jpg\n",
      "Saved frame number : 0\n"
     ]
    },
    {
     "name": "stderr",
     "output_type": "stream",
     "text": [
      "\r",
      " 13%|██████████▎                                                                      | 63/492 [00:02<00:19, 22.25it/s]"
     ]
    },
    {
     "name": "stdout",
     "output_type": "stream",
     "text": [
      "Saved frame2026.jpg\n",
      "Saved frame number : 0\n",
      "Saved frame2027.jpg\n"
     ]
    },
    {
     "name": "stderr",
     "output_type": "stream",
     "text": [
      "\r",
      " 13%|██████████▊                                                                      | 66/492 [00:02<00:19, 21.36it/s]"
     ]
    },
    {
     "name": "stdout",
     "output_type": "stream",
     "text": [
      "Saved frame number : 0\n",
      "Saved frame2028.jpg\n",
      "Saved frame number : 0\n",
      "Saved frame2029.jpg\n",
      "Saved frame number : 0\n",
      "Saved frame2030.jpg\n",
      "Saved frame number : 0\n",
      "Saved frame2031.jpg\n",
      "Saved frame number : 0\n"
     ]
    },
    {
     "name": "stderr",
     "output_type": "stream",
     "text": [
      "\r",
      " 14%|███████████▎                                                                     | 69/492 [00:03<00:19, 21.51it/s]"
     ]
    },
    {
     "name": "stdout",
     "output_type": "stream",
     "text": [
      "Saved frame2032.jpg\n",
      "Saved frame number : 0\n",
      "Saved frame2033.jpg\n",
      "Saved frame number : 0\n",
      "Saved frame2034.jpg\n"
     ]
    },
    {
     "name": "stderr",
     "output_type": "stream",
     "text": [
      "\r",
      " 15%|███████████▊                                                                     | 72/492 [00:03<00:20, 20.54it/s]"
     ]
    },
    {
     "name": "stdout",
     "output_type": "stream",
     "text": [
      "Saved frame number : 0\n",
      "Saved frame2035.jpg\n",
      "Saved frame number : 0\n"
     ]
    },
    {
     "name": "stderr",
     "output_type": "stream",
     "text": [
      "\r",
      " 15%|████████████▎                                                                    | 75/492 [00:03<00:19, 21.12it/s]"
     ]
    },
    {
     "name": "stdout",
     "output_type": "stream",
     "text": [
      "Saved frame2036.jpg\n",
      "Saved frame number : 0\n",
      "Saved frame2037.jpg\n",
      "Saved frame number : 0\n",
      "Saved frame2038.jpg\n",
      "Saved frame number : 0\n",
      "Saved frame2039.jpg\n",
      "Saved frame number : 0\n",
      "Saved frame2040.jpg\n",
      "Saved frame number : 0\n"
     ]
    },
    {
     "name": "stderr",
     "output_type": "stream",
     "text": [
      " 16%|█████████████▎                                                                   | 81/492 [00:03<00:18, 22.30it/s]"
     ]
    },
    {
     "name": "stdout",
     "output_type": "stream",
     "text": [
      "Saved frame2041.jpg\n",
      "Saved frame number : 0\n",
      "Saved frame2042.jpg\n",
      "Saved frame number : 0\n",
      "Saved frame2043.jpg\n",
      "Saved frame number : 0\n",
      "Saved frame2044.jpg\n",
      "Saved frame number : 0\n",
      "Saved frame2045.jpg\n",
      "Saved frame number : 0\n"
     ]
    },
    {
     "name": "stderr",
     "output_type": "stream",
     "text": [
      "\r",
      " 17%|█████████████▊                                                                   | 84/492 [00:03<00:18, 22.50it/s]"
     ]
    },
    {
     "name": "stdout",
     "output_type": "stream",
     "text": [
      "Saved frame2046.jpg\n",
      "Saved frame number : 0\n",
      "Saved frame2047.jpg\n",
      "Saved frame number : 0\n",
      "Saved frame2048.jpg\n",
      "Saved frame number : 0\n",
      "Saved frame2049.jpg\n"
     ]
    },
    {
     "name": "stderr",
     "output_type": "stream",
     "text": [
      "\r",
      " 18%|██████████████▎                                                                  | 87/492 [00:03<00:18, 22.38it/s]"
     ]
    },
    {
     "name": "stdout",
     "output_type": "stream",
     "text": [
      "Saved frame number : 0\n",
      "Saved frame2050.jpg\n",
      "Saved frame number : 0\n"
     ]
    },
    {
     "name": "stderr",
     "output_type": "stream",
     "text": [
      "\r",
      " 18%|██████████████▊                                                                  | 90/492 [00:04<00:17, 22.76it/s]"
     ]
    },
    {
     "name": "stdout",
     "output_type": "stream",
     "text": [
      "Saved frame2051.jpg\n",
      "Saved frame number : 0\n",
      "Saved frame2052.jpg\n",
      "Saved frame number : 0\n",
      "Saved frame2053.jpg\n",
      "Saved frame number : 0\n",
      "Saved frame2054.jpg\n",
      "Saved frame number : 0\n",
      "Saved frame2055.jpg\n",
      "Saved frame number : 0\n"
     ]
    },
    {
     "name": "stderr",
     "output_type": "stream",
     "text": [
      " 20%|███████████████▊                                                                 | 96/492 [00:04<00:16, 23.31it/s]"
     ]
    },
    {
     "name": "stdout",
     "output_type": "stream",
     "text": [
      "Saved frame2056.jpg\n",
      "Saved frame number : 0\n",
      "Saved frame2057.jpg\n",
      "Saved frame number : 0\n",
      "Saved frame2058.jpg\n",
      "Saved frame number : 0\n",
      "Saved frame2059.jpg\n",
      "Saved frame number : 0\n",
      "Saved frame2060.jpg\n",
      "Saved frame number : 0\n"
     ]
    },
    {
     "name": "stderr",
     "output_type": "stream",
     "text": [
      "\r",
      " 20%|████████████████▎                                                                | 99/492 [00:04<00:16, 23.61it/s]"
     ]
    },
    {
     "name": "stdout",
     "output_type": "stream",
     "text": [
      "Saved frame2061.jpg\n",
      "Saved frame number : 0\n",
      "Saved frame2062.jpg\n",
      "Saved frame number : 0\n",
      "Saved frame2063.jpg\n",
      "Saved frame number : 0\n",
      "Saved frame2064.jpg\n",
      "Saved frame number : 0\n"
     ]
    },
    {
     "name": "stderr",
     "output_type": "stream",
     "text": [
      "\r",
      " 21%|████████████████▌                                                               | 102/492 [00:04<00:16, 24.15it/s]"
     ]
    },
    {
     "name": "stdout",
     "output_type": "stream",
     "text": [
      "Saved frame2065.jpg\n",
      "Saved frame number : 0\n",
      "Saved frame2066.jpg\n"
     ]
    },
    {
     "name": "stderr",
     "output_type": "stream",
     "text": [
      "\r",
      " 21%|█████████████████                                                               | 105/492 [00:04<00:15, 24.20it/s]"
     ]
    },
    {
     "name": "stdout",
     "output_type": "stream",
     "text": [
      "Saved frame number : 0\n",
      "Saved frame2067.jpg\n",
      "Saved frame number : 0\n",
      "Saved frame2068.jpg\n",
      "Saved frame number : 0\n",
      "Saved frame2069.jpg\n",
      "Saved frame number : 0\n"
     ]
    },
    {
     "name": "stderr",
     "output_type": "stream",
     "text": [
      "\r",
      " 22%|█████████████████▌                                                              | 108/492 [00:04<00:15, 24.43it/s]"
     ]
    },
    {
     "name": "stdout",
     "output_type": "stream",
     "text": [
      "Saved frame2070.jpg\n",
      "Saved frame number : 0\n",
      "Saved frame2071.jpg\n",
      "Saved frame number : 0\n"
     ]
    },
    {
     "name": "stderr",
     "output_type": "stream",
     "text": [
      "\r",
      " 23%|██████████████████                                                              | 111/492 [00:04<00:16, 23.80it/s]"
     ]
    },
    {
     "name": "stdout",
     "output_type": "stream",
     "text": [
      "Saved frame2072.jpg\n",
      "Saved frame number : 0\n",
      "Saved frame2073.jpg\n",
      "Saved frame number : 0\n",
      "Saved frame2074.jpg\n",
      "Saved frame number : 0\n",
      "Saved frame2075.jpg\n",
      "Saved frame number : 0\n",
      "Saved frame2076.jpg\n"
     ]
    },
    {
     "name": "stderr",
     "output_type": "stream",
     "text": [
      "\r",
      " 23%|██████████████████▌                                                             | 114/492 [00:05<00:16, 23.47it/s]"
     ]
    },
    {
     "name": "stdout",
     "output_type": "stream",
     "text": [
      "Saved frame number : 0\n",
      "Saved frame2077.jpg\n",
      "Saved frame number : 0\n",
      "Saved frame2078.jpg\n",
      "Saved frame number : 0\n",
      "Saved frame2079.jpg\n",
      "Saved frame number : 0\n"
     ]
    },
    {
     "name": "stderr",
     "output_type": "stream",
     "text": [
      "\r",
      " 24%|███████████████████                                                             | 117/492 [00:05<00:16, 23.19it/s]"
     ]
    },
    {
     "name": "stdout",
     "output_type": "stream",
     "text": [
      "Saved frame2080.jpg\n",
      "Saved frame number : 0\n"
     ]
    },
    {
     "name": "stderr",
     "output_type": "stream",
     "text": [
      "\r",
      " 24%|███████████████████▌                                                            | 120/492 [00:05<00:16, 22.60it/s]"
     ]
    },
    {
     "name": "stdout",
     "output_type": "stream",
     "text": [
      "Saved frame2081.jpg\n",
      "Saved frame number : 0\n",
      "Saved frame2082.jpg\n",
      "Saved frame number : 0\n",
      "Saved frame2083.jpg\n",
      "Saved frame number : 0\n",
      "Saved frame2084.jpg\n",
      "Saved frame number : 0\n",
      "Saved frame2085.jpg\n"
     ]
    },
    {
     "name": "stderr",
     "output_type": "stream",
     "text": [
      "\r",
      " 25%|████████████████████                                                            | 123/492 [00:05<00:16, 22.50it/s]"
     ]
    },
    {
     "name": "stdout",
     "output_type": "stream",
     "text": [
      "Saved frame number : 0\n",
      "Saved frame2086.jpg\n",
      "Saved frame number : 0\n",
      "Saved frame2087.jpg\n",
      "Saved frame number : 0\n",
      "Saved frame2088.jpg\n",
      "Saved frame number : 0\n"
     ]
    },
    {
     "name": "stderr",
     "output_type": "stream",
     "text": [
      "\r",
      " 26%|████████████████████▍                                                           | 126/492 [00:05<00:16, 22.63it/s]"
     ]
    },
    {
     "name": "stdout",
     "output_type": "stream",
     "text": [
      "Saved frame2089.jpg\n",
      "Saved frame number : 0\n"
     ]
    },
    {
     "name": "stderr",
     "output_type": "stream",
     "text": [
      "\r",
      " 26%|████████████████████▉                                                           | 129/492 [00:05<00:16, 22.13it/s]"
     ]
    },
    {
     "name": "stdout",
     "output_type": "stream",
     "text": [
      "Saved frame2090.jpg\n",
      "Saved frame number : 0\n",
      "Saved frame2091.jpg\n",
      "Saved frame number : 0\n",
      "Saved frame2092.jpg\n",
      "Saved frame number : 0\n",
      "Saved frame2093.jpg\n",
      "Saved frame number : 0\n",
      "Saved frame2094.jpg\n",
      "Saved frame number : 0\n"
     ]
    },
    {
     "name": "stderr",
     "output_type": "stream",
     "text": [
      " 27%|█████████████████████▉                                                          | 135/492 [00:05<00:15, 23.24it/s]"
     ]
    },
    {
     "name": "stdout",
     "output_type": "stream",
     "text": [
      "Saved frame2095.jpg\n",
      "Saved frame number : 0\n",
      "Saved frame2096.jpg\n",
      "Saved frame number : 0\n",
      "Saved frame2097.jpg\n",
      "Saved frame number : 0\n",
      "Saved frame2098.jpg\n",
      "Saved frame number : 0\n",
      "Saved frame2099.jpg\n",
      "Saved frame number : 0\n"
     ]
    },
    {
     "name": "stderr",
     "output_type": "stream",
     "text": [
      "\r",
      " 28%|██████████████████████▍                                                         | 138/492 [00:06<00:15, 22.58it/s]"
     ]
    },
    {
     "name": "stdout",
     "output_type": "stream",
     "text": [
      "Saved frame2100.jpg\n",
      "Saved frame number : 0\n",
      "Saved frame2101.jpg\n",
      "Saved frame number : 0\n",
      "Saved frame2102.jpg\n",
      "Saved frame number : 0\n",
      "Saved frame2103.jpg\n"
     ]
    },
    {
     "name": "stderr",
     "output_type": "stream",
     "text": [
      " 29%|███████████████████████▍                                                        | 144/492 [00:06<00:16, 21.56it/s]"
     ]
    },
    {
     "name": "stdout",
     "output_type": "stream",
     "text": [
      "Saved frame number : 0\n",
      "Saved frame2104.jpg\n",
      "Saved frame number : 0\n",
      "Saved frame2105.jpg\n",
      "Saved frame number : 0\n",
      "Saved frame2106.jpg\n",
      "Saved frame number : 0\n",
      "Saved frame2107.jpg\n",
      "Saved frame number : 0\n",
      "Saved frame2108.jpg\n"
     ]
    },
    {
     "name": "stderr",
     "output_type": "stream",
     "text": [
      "\r",
      " 30%|███████████████████████▉                                                        | 147/492 [00:06<00:15, 22.70it/s]"
     ]
    },
    {
     "name": "stdout",
     "output_type": "stream",
     "text": [
      "Saved frame number : 0\n",
      "Saved frame2109.jpg\n",
      "Saved frame number : 0\n",
      "Saved frame2110.jpg\n",
      "Saved frame number : 0\n",
      "Saved frame2111.jpg\n",
      "Saved frame number : 0\n",
      "Saved frame2112.jpg\n",
      "Saved frame number : 0\n"
     ]
    },
    {
     "name": "stderr",
     "output_type": "stream",
     "text": [
      "\r",
      " 30%|████████████████████████▍                                                       | 150/492 [00:06<00:14, 23.95it/s]"
     ]
    },
    {
     "name": "stdout",
     "output_type": "stream",
     "text": [
      "Saved frame2113.jpg\n",
      "Saved frame number : 0\n"
     ]
    },
    {
     "name": "stderr",
     "output_type": "stream",
     "text": [
      "\r",
      " 31%|████████████████████████▉                                                       | 153/492 [00:06<00:13, 24.57it/s]"
     ]
    },
    {
     "name": "stdout",
     "output_type": "stream",
     "text": [
      "Saved frame2114.jpg\n",
      "Saved frame number : 0\n",
      "Saved frame2115.jpg\n",
      "Saved frame number : 0\n",
      "Saved frame2116.jpg\n",
      "Saved frame number : 0\n",
      "Saved frame2117.jpg\n",
      "Saved frame number : 0\n",
      "Saved frame2118.jpg\n"
     ]
    },
    {
     "name": "stderr",
     "output_type": "stream",
     "text": [
      "\r",
      " 32%|█████████████████████████▎                                                      | 156/492 [00:06<00:13, 25.07it/s]"
     ]
    },
    {
     "name": "stdout",
     "output_type": "stream",
     "text": [
      "Saved frame number : 0\n",
      "Saved frame2119.jpg\n"
     ]
    },
    {
     "name": "stderr",
     "output_type": "stream",
     "text": [
      "\r",
      " 32%|█████████████████████████▊                                                      | 159/492 [00:06<00:13, 24.70it/s]"
     ]
    },
    {
     "name": "stdout",
     "output_type": "stream",
     "text": [
      "Saved frame number : 0\n",
      "Saved frame2120.jpg\n",
      "Saved frame number : 0\n",
      "Saved frame2121.jpg\n",
      "Saved frame number : 0\n",
      "Saved frame2122.jpg\n",
      "Saved frame number : 0\n",
      "Saved frame2123.jpg\n",
      "Saved frame number : 0\n",
      "Saved frame2124.jpg\n"
     ]
    },
    {
     "name": "stderr",
     "output_type": "stream",
     "text": [
      " 34%|██████████████████████████▊                                                     | 165/492 [00:07<00:13, 24.13it/s]"
     ]
    },
    {
     "name": "stdout",
     "output_type": "stream",
     "text": [
      "Saved frame number : 0\n",
      "Saved frame2125.jpg\n",
      "Saved frame number : 0\n",
      "Saved frame2126.jpg\n",
      "Saved frame number : 0\n",
      "Saved frame2127.jpg\n",
      "Saved frame number : 0\n",
      "Saved frame2128.jpg\n",
      "Saved frame number : 0\n",
      "Saved frame2129.jpg\n"
     ]
    },
    {
     "name": "stderr",
     "output_type": "stream",
     "text": [
      "\r",
      " 34%|███████████████████████████▎                                                    | 168/492 [00:07<00:13, 24.89it/s]"
     ]
    },
    {
     "name": "stdout",
     "output_type": "stream",
     "text": [
      "Saved frame number : 0\n",
      "Saved frame2130.jpg\n",
      "Saved frame number : 0\n",
      "Saved frame2131.jpg\n",
      "Saved frame number : 0\n",
      "Saved frame2132.jpg\n",
      "Saved frame number : 0\n",
      "Saved frame2133.jpg\n",
      "Saved frame number : 0\n"
     ]
    },
    {
     "name": "stderr",
     "output_type": "stream",
     "text": [
      "\r",
      " 35%|███████████████████████████▊                                                    | 171/492 [00:07<00:13, 24.33it/s]"
     ]
    },
    {
     "name": "stdout",
     "output_type": "stream",
     "text": [
      "Saved frame2134.jpg\n"
     ]
    },
    {
     "name": "stderr",
     "output_type": "stream",
     "text": [
      "\r",
      " 35%|████████████████████████████▎                                                   | 174/492 [00:07<00:13, 24.43it/s]"
     ]
    },
    {
     "name": "stdout",
     "output_type": "stream",
     "text": [
      "Saved frame number : 0\n",
      "Saved frame2135.jpg\n",
      "Saved frame number : 0\n",
      "Saved frame2136.jpg\n",
      "Saved frame number : 0\n",
      "Saved frame2137.jpg\n",
      "Saved frame number : 0\n",
      "Saved frame2138.jpg\n",
      "Saved frame number : 0\n",
      "Saved frame2139.jpg\n"
     ]
    },
    {
     "name": "stderr",
     "output_type": "stream",
     "text": [
      " 37%|█████████████████████████████▎                                                  | 180/492 [00:07<00:13, 23.66it/s]"
     ]
    },
    {
     "name": "stdout",
     "output_type": "stream",
     "text": [
      "Saved frame number : 0\n",
      "Saved frame2140.jpg\n",
      "Saved frame number : 0\n",
      "Saved frame2141.jpg\n",
      "Saved frame number : 0\n",
      "Saved frame2142.jpg\n",
      "Saved frame number : 0\n",
      "Saved frame2143.jpg\n",
      "Saved frame number : 0\n",
      "Saved frame2144.jpg\n"
     ]
    },
    {
     "name": "stderr",
     "output_type": "stream",
     "text": [
      "\r",
      " 37%|█████████████████████████████▊                                                  | 183/492 [00:08<00:13, 22.45it/s]"
     ]
    },
    {
     "name": "stdout",
     "output_type": "stream",
     "text": [
      "Saved frame number : 0\n",
      "Saved frame2145.jpg\n",
      "Saved frame number : 0\n",
      "Saved frame2146.jpg\n",
      "Saved frame number : 0\n",
      "Saved frame2147.jpg\n",
      "Saved frame number : 0\n",
      "Saved frame2148.jpg\n",
      "Saved frame number : 0\n"
     ]
    },
    {
     "name": "stderr",
     "output_type": "stream",
     "text": [
      " 38%|██████████████████████████████▋                                                 | 189/492 [00:08<00:13, 21.79it/s]"
     ]
    },
    {
     "name": "stdout",
     "output_type": "stream",
     "text": [
      "Saved frame2149.jpg\n",
      "Saved frame number : 0\n",
      "Saved frame2150.jpg\n",
      "Saved frame number : 0\n",
      "Saved frame2151.jpg\n",
      "Saved frame number : 0\n",
      "Saved frame2152.jpg\n",
      "Saved frame number : 0\n",
      "Saved frame2153.jpg\n"
     ]
    },
    {
     "name": "stderr",
     "output_type": "stream",
     "text": [
      "\r",
      " 39%|███████████████████████████████▏                                                | 192/492 [00:08<00:14, 21.37it/s]"
     ]
    },
    {
     "name": "stdout",
     "output_type": "stream",
     "text": [
      "Saved frame number : 0\n",
      "Saved frame2154.jpg\n",
      "Saved frame number : 0\n",
      "Saved frame2155.jpg\n",
      "Saved frame number : 0\n",
      "Saved frame2156.jpg\n",
      "Saved frame number : 0\n"
     ]
    },
    {
     "name": "stderr",
     "output_type": "stream",
     "text": [
      "\r",
      " 40%|███████████████████████████████▋                                                | 195/492 [00:08<00:13, 21.95it/s]"
     ]
    },
    {
     "name": "stdout",
     "output_type": "stream",
     "text": [
      "Saved frame2157.jpg\n",
      "Saved frame number : 0\n",
      "Saved frame2158.jpg\n"
     ]
    },
    {
     "name": "stderr",
     "output_type": "stream",
     "text": [
      "\r",
      " 40%|████████████████████████████████▏                                               | 198/492 [00:08<00:12, 22.76it/s]"
     ]
    },
    {
     "name": "stdout",
     "output_type": "stream",
     "text": [
      "Saved frame number : 0\n",
      "Saved frame2159.jpg\n",
      "Saved frame number : 0\n",
      "Saved frame2160.jpg\n",
      "Saved frame number : 0\n",
      "Saved frame2161.jpg\n",
      "Saved frame number : 0\n",
      "Saved frame2162.jpg\n",
      "Saved frame number : 0\n",
      "Saved frame2163.jpg\n",
      "Saved frame number : 0\n"
     ]
    },
    {
     "name": "stderr",
     "output_type": "stream",
     "text": [
      "\r",
      " 41%|████████████████████████████████▋                                               | 201/492 [00:08<00:12, 23.03it/s]"
     ]
    },
    {
     "name": "stdout",
     "output_type": "stream",
     "text": [
      "Saved frame2164.jpg\n",
      "Saved frame number : 0\n",
      "Saved frame2165.jpg\n",
      "Saved frame number : 0\n",
      "Saved frame2166.jpg\n",
      "Saved frame number : 0\n"
     ]
    },
    {
     "name": "stderr",
     "output_type": "stream",
     "text": [
      "\r",
      " 41%|█████████████████████████████████▏                                              | 204/492 [00:08<00:12, 23.18it/s]"
     ]
    },
    {
     "name": "stdout",
     "output_type": "stream",
     "text": [
      "Saved frame2167.jpg\n",
      "Saved frame number : 0\n",
      "Saved frame2168.jpg\n",
      "Saved frame number : 0\n"
     ]
    },
    {
     "name": "stderr",
     "output_type": "stream",
     "text": [
      "\r",
      " 42%|█████████████████████████████████▋                                              | 207/492 [00:09<00:12, 23.22it/s]"
     ]
    },
    {
     "name": "stdout",
     "output_type": "stream",
     "text": [
      "Saved frame2169.jpg\n",
      "Saved frame number : 0\n",
      "Saved frame2170.jpg\n",
      "Saved frame number : 0\n",
      "Saved frame2171.jpg\n",
      "Saved frame number : 0\n"
     ]
    },
    {
     "name": "stderr",
     "output_type": "stream",
     "text": [
      "\r",
      " 43%|██████████████████████████████████▏                                             | 210/492 [00:09<00:11, 23.74it/s]"
     ]
    },
    {
     "name": "stdout",
     "output_type": "stream",
     "text": [
      "Saved frame2172.jpg\n",
      "Saved frame number : 0\n",
      "Saved frame2173.jpg\n",
      "Saved frame number : 0\n"
     ]
    },
    {
     "name": "stderr",
     "output_type": "stream",
     "text": [
      "\r",
      " 43%|██████████████████████████████████▋                                             | 213/492 [00:09<00:11, 23.94it/s]"
     ]
    },
    {
     "name": "stdout",
     "output_type": "stream",
     "text": [
      "Saved frame2174.jpg\n",
      "Saved frame number : 0\n",
      "Saved frame2175.jpg\n",
      "Saved frame number : 0\n",
      "Saved frame2176.jpg\n",
      "Saved frame number : 0\n",
      "Saved frame2177.jpg\n",
      "Saved frame number : 0\n",
      "Saved frame2178.jpg\n"
     ]
    },
    {
     "name": "stderr",
     "output_type": "stream",
     "text": [
      "\r",
      " 44%|███████████████████████████████████                                             | 216/492 [00:09<00:11, 23.31it/s]"
     ]
    },
    {
     "name": "stdout",
     "output_type": "stream",
     "text": [
      "Saved frame number : 0\n",
      "Saved frame2179.jpg\n",
      "Saved frame number : 0\n",
      "Saved frame2180.jpg\n",
      "Saved frame number : 0\n",
      "Saved frame2181.jpg\n",
      "Saved frame number : 0\n"
     ]
    },
    {
     "name": "stderr",
     "output_type": "stream",
     "text": [
      "\r",
      " 45%|███████████████████████████████████▌                                            | 219/492 [00:09<00:11, 23.33it/s]"
     ]
    },
    {
     "name": "stdout",
     "output_type": "stream",
     "text": [
      "Saved frame2182.jpg\n",
      "Saved frame number : 0\n",
      "Saved frame2183.jpg\n"
     ]
    },
    {
     "name": "stderr",
     "output_type": "stream",
     "text": [
      "\r",
      " 45%|████████████████████████████████████                                            | 222/492 [00:09<00:11, 23.43it/s]"
     ]
    },
    {
     "name": "stdout",
     "output_type": "stream",
     "text": [
      "Saved frame number : 0\n",
      "Saved frame2184.jpg\n",
      "Saved frame number : 0\n",
      "Saved frame2185.jpg\n",
      "Saved frame number : 0\n",
      "Saved frame2186.jpg\n",
      "Saved frame number : 0\n"
     ]
    },
    {
     "name": "stderr",
     "output_type": "stream",
     "text": [
      "\r",
      " 46%|████████████████████████████████████▌                                           | 225/492 [00:09<00:11, 23.73it/s]"
     ]
    },
    {
     "name": "stdout",
     "output_type": "stream",
     "text": [
      "Saved frame2187.jpg\n",
      "Saved frame number : 0\n",
      "Saved frame2188.jpg\n",
      "Saved frame number : 0\n"
     ]
    },
    {
     "name": "stderr",
     "output_type": "stream",
     "text": [
      "\r",
      " 46%|█████████████████████████████████████                                           | 228/492 [00:09<00:11, 23.77it/s]"
     ]
    },
    {
     "name": "stdout",
     "output_type": "stream",
     "text": [
      "Saved frame2189.jpg\n",
      "Saved frame number : 0\n",
      "Saved frame2190.jpg\n",
      "Saved frame number : 0\n",
      "Saved frame2191.jpg\n",
      "Saved frame number : 0\n",
      "Saved frame2192.jpg\n",
      "Saved frame number : 0\n",
      "Saved frame2193.jpg\n",
      "Saved frame number : 0\n"
     ]
    },
    {
     "name": "stderr",
     "output_type": "stream",
     "text": [
      "\r",
      " 47%|█████████████████████████████████████▌                                          | 231/492 [00:10<00:10, 24.09it/s]"
     ]
    },
    {
     "name": "stdout",
     "output_type": "stream",
     "text": [
      "Saved frame2194.jpg\n",
      "Saved frame number : 0\n",
      "Saved frame2195.jpg\n",
      "Saved frame number : 0\n",
      "Saved frame2196.jpg\n",
      "Saved frame number : 0\n"
     ]
    },
    {
     "name": "stderr",
     "output_type": "stream",
     "text": [
      "\r",
      " 48%|██████████████████████████████████████                                          | 234/492 [00:10<00:10, 24.08it/s]"
     ]
    },
    {
     "name": "stdout",
     "output_type": "stream",
     "text": [
      "Saved frame2197.jpg\n",
      "Saved frame number : 0\n",
      "Saved frame2198.jpg\n",
      "Saved frame number : 0\n"
     ]
    },
    {
     "name": "stderr",
     "output_type": "stream",
     "text": [
      "\r",
      " 48%|██████████████████████████████████████▌                                         | 237/492 [00:10<00:10, 23.79it/s]"
     ]
    },
    {
     "name": "stdout",
     "output_type": "stream",
     "text": [
      "Saved frame2199.jpg\n",
      "Saved frame number : 0\n",
      "Saved frame2200.jpg\n",
      "Saved frame number : 0\n",
      "Saved frame2201.jpg\n",
      "Saved frame number : 0\n"
     ]
    },
    {
     "name": "stderr",
     "output_type": "stream",
     "text": [
      "\r",
      " 49%|███████████████████████████████████████                                         | 240/492 [00:10<00:10, 23.53it/s]"
     ]
    },
    {
     "name": "stdout",
     "output_type": "stream",
     "text": [
      "Saved frame2202.jpg\n",
      "Saved frame number : 0\n",
      "Saved frame2203.jpg\n",
      "Saved frame number : 0\n"
     ]
    },
    {
     "name": "stderr",
     "output_type": "stream",
     "text": [
      "\r",
      " 49%|███████████████████████████████████████▌                                        | 243/492 [00:10<00:10, 23.19it/s]"
     ]
    },
    {
     "name": "stdout",
     "output_type": "stream",
     "text": [
      "Saved frame2204.jpg\n",
      "Saved frame number : 0\n",
      "Saved frame2205.jpg\n",
      "Saved frame number : 0\n",
      "Saved frame2206.jpg\n",
      "Saved frame number : 0\n",
      "Saved frame2207.jpg\n",
      "Saved frame number : 0\n",
      "Saved frame2208.jpg\n",
      "Saved frame number : 0\n"
     ]
    },
    {
     "name": "stderr",
     "output_type": "stream",
     "text": [
      "\r",
      " 50%|████████████████████████████████████████                                        | 246/492 [00:10<00:10, 23.34it/s]"
     ]
    },
    {
     "name": "stdout",
     "output_type": "stream",
     "text": [
      "Saved frame2209.jpg\n",
      "Saved frame number : 0\n",
      "Saved frame2210.jpg\n",
      "Saved frame number : 0\n",
      "Saved frame2211.jpg\n",
      "Saved frame number : 0\n"
     ]
    },
    {
     "name": "stderr",
     "output_type": "stream",
     "text": [
      "\r",
      " 51%|████████████████████████████████████████▍                                       | 249/492 [00:10<00:10, 22.90it/s]"
     ]
    },
    {
     "name": "stdout",
     "output_type": "stream",
     "text": [
      "Saved frame2212.jpg\n",
      "Saved frame number : 0\n",
      "Saved frame2213.jpg\n",
      "Saved frame number : 0\n"
     ]
    },
    {
     "name": "stderr",
     "output_type": "stream",
     "text": [
      "\r",
      " 51%|████████████████████████████████████████▉                                       | 252/492 [00:10<00:10, 22.92it/s]"
     ]
    },
    {
     "name": "stdout",
     "output_type": "stream",
     "text": [
      "Saved frame2214.jpg\n",
      "Saved frame number : 0\n",
      "Saved frame2215.jpg\n",
      "Saved frame number : 0\n",
      "Saved frame2216.jpg\n",
      "Saved frame number : 0\n"
     ]
    },
    {
     "name": "stderr",
     "output_type": "stream",
     "text": [
      "\r",
      " 52%|█████████████████████████████████████████▍                                      | 255/492 [00:11<00:10, 22.75it/s]"
     ]
    },
    {
     "name": "stdout",
     "output_type": "stream",
     "text": [
      "Saved frame2217.jpg\n",
      "Saved frame number : 0\n",
      "Saved frame2218.jpg\n",
      "Saved frame number : 0\n"
     ]
    },
    {
     "name": "stderr",
     "output_type": "stream",
     "text": [
      "\r",
      " 52%|█████████████████████████████████████████▉                                      | 258/492 [00:11<00:10, 22.64it/s]"
     ]
    },
    {
     "name": "stdout",
     "output_type": "stream",
     "text": [
      "Saved frame2219.jpg\n",
      "Saved frame number : 0\n",
      "Saved frame2220.jpg\n",
      "Saved frame number : 0\n",
      "Saved frame2221.jpg\n",
      "Saved frame number : 0\n",
      "Saved frame2222.jpg\n",
      "Saved frame number : 0\n",
      "Saved frame2223.jpg\n"
     ]
    },
    {
     "name": "stderr",
     "output_type": "stream",
     "text": [
      "\r",
      " 53%|██████████████████████████████████████████▍                                     | 261/492 [00:11<00:10, 22.38it/s]"
     ]
    },
    {
     "name": "stdout",
     "output_type": "stream",
     "text": [
      "Saved frame number : 0\n",
      "Saved frame2224.jpg\n",
      "Saved frame number : 0\n",
      "Saved frame2225.jpg\n",
      "Saved frame number : 0\n",
      "Saved frame2226.jpg\n"
     ]
    },
    {
     "name": "stderr",
     "output_type": "stream",
     "text": [
      "\r",
      " 54%|██████████████████████████████████████████▉                                     | 264/492 [00:11<00:10, 22.06it/s]"
     ]
    },
    {
     "name": "stdout",
     "output_type": "stream",
     "text": [
      "Saved frame number : 0\n",
      "Saved frame2227.jpg\n",
      "Saved frame number : 0\n",
      "Saved frame2228.jpg\n"
     ]
    },
    {
     "name": "stderr",
     "output_type": "stream",
     "text": [
      "\r",
      " 54%|███████████████████████████████████████████▍                                    | 267/492 [00:11<00:10, 21.60it/s]"
     ]
    },
    {
     "name": "stdout",
     "output_type": "stream",
     "text": [
      "Saved frame number : 0\n",
      "Saved frame2229.jpg\n",
      "Saved frame number : 0\n",
      "Saved frame2230.jpg\n",
      "Saved frame number : 0\n",
      "Saved frame2231.jpg\n",
      "Saved frame number : 0\n",
      "Saved frame2232.jpg\n",
      "Saved frame number : 0\n"
     ]
    },
    {
     "name": "stderr",
     "output_type": "stream",
     "text": [
      "\r",
      " 55%|███████████████████████████████████████████▉                                    | 270/492 [00:11<00:10, 21.37it/s]"
     ]
    },
    {
     "name": "stdout",
     "output_type": "stream",
     "text": [
      "Saved frame2233.jpg\n",
      "Saved frame number : 0\n",
      "Saved frame2234.jpg\n",
      "Saved frame number : 0\n"
     ]
    },
    {
     "name": "stderr",
     "output_type": "stream",
     "text": [
      "\r",
      " 55%|████████████████████████████████████████████▍                                   | 273/492 [00:11<00:10, 21.32it/s]"
     ]
    },
    {
     "name": "stdout",
     "output_type": "stream",
     "text": [
      "Saved frame2235.jpg\n",
      "Saved frame number : 0\n",
      "Saved frame2236.jpg\n",
      "Saved frame number : 0\n",
      "Saved frame2237.jpg\n"
     ]
    },
    {
     "name": "stderr",
     "output_type": "stream",
     "text": [
      "\r",
      " 56%|████████████████████████████████████████████▉                                   | 276/492 [00:12<00:10, 21.28it/s]"
     ]
    },
    {
     "name": "stdout",
     "output_type": "stream",
     "text": [
      "Saved frame number : 0\n",
      "Saved frame2238.jpg\n",
      "Saved frame number : 0\n",
      "Saved frame2239.jpg\n"
     ]
    },
    {
     "name": "stderr",
     "output_type": "stream",
     "text": [
      "\r",
      " 57%|█████████████████████████████████████████████▎                                  | 279/492 [00:12<00:09, 21.76it/s]"
     ]
    },
    {
     "name": "stdout",
     "output_type": "stream",
     "text": [
      "Saved frame number : 0\n",
      "Saved frame2240.jpg\n",
      "Saved frame number : 0\n",
      "Saved frame2241.jpg\n",
      "Saved frame number : 0\n",
      "Saved frame2242.jpg\n",
      "Saved frame number : 0\n",
      "Saved frame2243.jpg\n",
      "Saved frame number : 0\n",
      "Saved frame2244.jpg\n"
     ]
    },
    {
     "name": "stderr",
     "output_type": "stream",
     "text": [
      "\r",
      " 57%|█████████████████████████████████████████████▊                                  | 282/492 [00:12<00:09, 21.40it/s]"
     ]
    },
    {
     "name": "stdout",
     "output_type": "stream",
     "text": [
      "Saved frame number : 0\n",
      "Saved frame2245.jpg\n",
      "Saved frame number : 0\n",
      "Saved frame2246.jpg\n",
      "Saved frame number : 0\n",
      "Saved frame2247.jpg\n"
     ]
    },
    {
     "name": "stderr",
     "output_type": "stream",
     "text": [
      "\r",
      " 58%|██████████████████████████████████████████████▎                                 | 285/492 [00:12<00:09, 22.03it/s]"
     ]
    },
    {
     "name": "stdout",
     "output_type": "stream",
     "text": [
      "Saved frame number : 0\n",
      "Saved frame2248.jpg\n",
      "Saved frame number : 0\n"
     ]
    },
    {
     "name": "stderr",
     "output_type": "stream",
     "text": [
      "\r",
      " 59%|██████████████████████████████████████████████▊                                 | 288/492 [00:12<00:09, 22.06it/s]"
     ]
    },
    {
     "name": "stdout",
     "output_type": "stream",
     "text": [
      "Saved frame2249.jpg\n",
      "Saved frame number : 0\n",
      "Saved frame2250.jpg\n",
      "Saved frame number : 0\n",
      "Saved frame2251.jpg\n",
      "Saved frame number : 0\n",
      "Saved frame2252.jpg\n",
      "Saved frame number : 0\n",
      "Saved frame2253.jpg\n"
     ]
    },
    {
     "name": "stderr",
     "output_type": "stream",
     "text": [
      "\r",
      " 59%|███████████████████████████████████████████████▎                                | 291/492 [00:12<00:09, 21.33it/s]"
     ]
    },
    {
     "name": "stdout",
     "output_type": "stream",
     "text": [
      "Saved frame number : 0\n",
      "Saved frame2254.jpg\n",
      "Saved frame number : 0\n",
      "Saved frame2255.jpg\n",
      "Saved frame number : 0\n",
      "Saved frame2256.jpg\n",
      "Saved frame number : 0\n"
     ]
    },
    {
     "name": "stderr",
     "output_type": "stream",
     "text": [
      "\r",
      " 60%|███████████████████████████████████████████████▊                                | 294/492 [00:12<00:09, 21.15it/s]"
     ]
    },
    {
     "name": "stdout",
     "output_type": "stream",
     "text": [
      "Saved frame2257.jpg\n",
      "Saved frame number : 0\n"
     ]
    },
    {
     "name": "stderr",
     "output_type": "stream",
     "text": [
      "\r",
      " 60%|████████████████████████████████████████████████▎                               | 297/492 [00:13<00:09, 21.12it/s]"
     ]
    },
    {
     "name": "stdout",
     "output_type": "stream",
     "text": [
      "Saved frame2258.jpg\n",
      "Saved frame number : 0\n",
      "Saved frame2259.jpg\n",
      "Saved frame number : 0\n",
      "Saved frame2260.jpg\n",
      "Saved frame number : 0\n",
      "Saved frame2261.jpg\n",
      "Saved frame number : 0\n",
      "Saved frame2262.jpg\n"
     ]
    },
    {
     "name": "stderr",
     "output_type": "stream",
     "text": [
      "\r",
      " 61%|████████████████████████████████████████████████▊                               | 300/492 [00:13<00:09, 20.53it/s]"
     ]
    },
    {
     "name": "stdout",
     "output_type": "stream",
     "text": [
      "Saved frame number : 0\n",
      "Saved frame2263.jpg\n",
      "Saved frame number : 0\n",
      "Saved frame2264.jpg\n",
      "Saved frame number : 0\n",
      "Saved frame2265.jpg\n",
      "Saved frame number : 0\n"
     ]
    },
    {
     "name": "stderr",
     "output_type": "stream",
     "text": [
      "\r",
      " 62%|█████████████████████████████████████████████████▎                              | 303/492 [00:13<00:08, 21.16it/s]"
     ]
    },
    {
     "name": "stdout",
     "output_type": "stream",
     "text": [
      "Saved frame2266.jpg\n",
      "Saved frame number : 0\n",
      "Saved frame2267.jpg\n"
     ]
    },
    {
     "name": "stderr",
     "output_type": "stream",
     "text": [
      "\r",
      " 62%|█████████████████████████████████████████████████▊                              | 306/492 [00:13<00:08, 21.08it/s]"
     ]
    },
    {
     "name": "stdout",
     "output_type": "stream",
     "text": [
      "Saved frame number : 0\n",
      "Saved frame2268.jpg\n",
      "Saved frame number : 0\n",
      "Saved frame2269.jpg\n",
      "Saved frame number : 0\n",
      "Saved frame2270.jpg\n",
      "Saved frame number : 0\n",
      "Saved frame2271.jpg\n",
      "Saved frame number : 0\n"
     ]
    },
    {
     "name": "stderr",
     "output_type": "stream",
     "text": [
      "\r",
      " 63%|██████████████████████████████████████████████████▏                             | 309/492 [00:13<00:08, 21.61it/s]"
     ]
    },
    {
     "name": "stdout",
     "output_type": "stream",
     "text": [
      "Saved frame2272.jpg\n",
      "Saved frame number : 0\n",
      "Saved frame2273.jpg\n",
      "Saved frame number : 0\n",
      "Saved frame2274.jpg\n",
      "Saved frame number : 0\n"
     ]
    },
    {
     "name": "stderr",
     "output_type": "stream",
     "text": [
      "\r",
      " 63%|██████████████████████████████████████████████████▋                             | 312/492 [00:13<00:08, 21.43it/s]"
     ]
    },
    {
     "name": "stdout",
     "output_type": "stream",
     "text": [
      "Saved frame2275.jpg\n",
      "Saved frame number : 0\n",
      "Saved frame2276.jpg\n"
     ]
    },
    {
     "name": "stderr",
     "output_type": "stream",
     "text": [
      "\r",
      " 64%|███████████████████████████████████████████████████▏                            | 315/492 [00:13<00:08, 21.33it/s]"
     ]
    },
    {
     "name": "stdout",
     "output_type": "stream",
     "text": [
      "Saved frame number : 0\n",
      "Saved frame2277.jpg\n",
      "Saved frame number : 0\n",
      "Saved frame2278.jpg\n",
      "Saved frame number : 0\n",
      "Saved frame2279.jpg\n",
      "Saved frame number : 0\n",
      "Saved frame2280.jpg\n",
      "Saved frame number : 0\n"
     ]
    },
    {
     "name": "stderr",
     "output_type": "stream",
     "text": [
      "\r",
      " 65%|███████████████████████████████████████████████████▋                            | 318/492 [00:14<00:08, 21.32it/s]"
     ]
    },
    {
     "name": "stdout",
     "output_type": "stream",
     "text": [
      "Saved frame2281.jpg\n",
      "Saved frame number : 0\n",
      "Saved frame2282.jpg\n",
      "Saved frame number : 0\n",
      "Saved frame2283.jpg\n",
      "Saved frame number : 0\n"
     ]
    },
    {
     "name": "stderr",
     "output_type": "stream",
     "text": [
      "\r",
      " 65%|████████████████████████████████████████████████████▏                           | 321/492 [00:14<00:08, 20.94it/s]"
     ]
    },
    {
     "name": "stdout",
     "output_type": "stream",
     "text": [
      "Saved frame2284.jpg\n",
      "Saved frame number : 0\n",
      "Saved frame2285.jpg\n"
     ]
    },
    {
     "name": "stderr",
     "output_type": "stream",
     "text": [
      "\r",
      " 66%|████████████████████████████████████████████████████▋                           | 324/492 [00:14<00:08, 20.60it/s]"
     ]
    },
    {
     "name": "stdout",
     "output_type": "stream",
     "text": [
      "Saved frame number : 0\n",
      "Saved frame2286.jpg\n",
      "Saved frame number : 0\n",
      "Saved frame2287.jpg\n",
      "Saved frame number : 0\n",
      "Saved frame2288.jpg\n",
      "Saved frame number : 0\n",
      "Saved frame2289.jpg\n",
      "Saved frame number : 0\n"
     ]
    },
    {
     "name": "stderr",
     "output_type": "stream",
     "text": [
      "\r",
      " 66%|█████████████████████████████████████████████████████▏                          | 327/492 [00:14<00:07, 20.73it/s]"
     ]
    },
    {
     "name": "stdout",
     "output_type": "stream",
     "text": [
      "Saved frame2290.jpg\n",
      "Saved frame number : 0\n",
      "Saved frame2291.jpg\n",
      "Saved frame number : 0\n",
      "Saved frame2292.jpg\n"
     ]
    },
    {
     "name": "stderr",
     "output_type": "stream",
     "text": [
      "\r",
      " 67%|█████████████████████████████████████████████████████▋                          | 330/492 [00:14<00:07, 21.17it/s]"
     ]
    },
    {
     "name": "stdout",
     "output_type": "stream",
     "text": [
      "Saved frame number : 0\n",
      "Saved frame2293.jpg\n",
      "Saved frame number : 0\n",
      "Saved frame2294.jpg\n"
     ]
    },
    {
     "name": "stderr",
     "output_type": "stream",
     "text": [
      "\r",
      " 68%|██████████████████████████████████████████████████████▏                         | 333/492 [00:14<00:07, 21.51it/s]"
     ]
    },
    {
     "name": "stdout",
     "output_type": "stream",
     "text": [
      "Saved frame number : 0\n",
      "Saved frame2295.jpg\n",
      "Saved frame number : 0\n",
      "Saved frame2296.jpg\n",
      "Saved frame number : 0\n",
      "Saved frame2297.jpg\n"
     ]
    },
    {
     "name": "stderr",
     "output_type": "stream",
     "text": [
      "\r",
      " 68%|██████████████████████████████████████████████████████▋                         | 336/492 [00:14<00:07, 21.58it/s]"
     ]
    },
    {
     "name": "stdout",
     "output_type": "stream",
     "text": [
      "Saved frame number : 0\n",
      "Saved frame2298.jpg\n",
      "Saved frame number : 0\n",
      "Saved frame2299.jpg\n",
      "Saved frame number : 0\n",
      "Saved frame2300.jpg\n",
      "Saved frame number : 0\n",
      "Saved frame2301.jpg\n",
      "Saved frame number : 0\n"
     ]
    },
    {
     "name": "stderr",
     "output_type": "stream",
     "text": [
      "\r",
      " 69%|███████████████████████████████████████████████████████                         | 339/492 [00:15<00:07, 21.79it/s]"
     ]
    },
    {
     "name": "stdout",
     "output_type": "stream",
     "text": [
      "Saved frame2302.jpg\n",
      "Saved frame number : 0\n",
      "Saved frame2303.jpg\n",
      "Saved frame number : 0\n"
     ]
    },
    {
     "name": "stderr",
     "output_type": "stream",
     "text": [
      "\r",
      " 70%|███████████████████████████████████████████████████████▌                        | 342/492 [00:15<00:07, 21.19it/s]"
     ]
    },
    {
     "name": "stdout",
     "output_type": "stream",
     "text": [
      "Saved frame2304.jpg\n",
      "Saved frame number : 0\n",
      "Saved frame2305.jpg\n",
      "Saved frame number : 0\n",
      "Saved frame2306.jpg\n",
      "Saved frame number : 0\n",
      "Saved frame2307.jpg\n",
      "Saved frame number : 0\n"
     ]
    },
    {
     "name": "stderr",
     "output_type": "stream",
     "text": [
      "\r",
      " 70%|████████████████████████████████████████████████████████                        | 345/492 [00:15<00:07, 20.84it/s]"
     ]
    },
    {
     "name": "stdout",
     "output_type": "stream",
     "text": [
      "Saved frame2308.jpg\n",
      "Saved frame number : 0\n",
      "Saved frame2309.jpg\n",
      "Saved frame number : 0\n",
      "Saved frame2310.jpg\n"
     ]
    },
    {
     "name": "stderr",
     "output_type": "stream",
     "text": [
      "\r",
      " 71%|████████████████████████████████████████████████████████▌                       | 348/492 [00:15<00:06, 20.90it/s]"
     ]
    },
    {
     "name": "stdout",
     "output_type": "stream",
     "text": [
      "Saved frame number : 0\n",
      "Saved frame2311.jpg\n",
      "Saved frame number : 0\n",
      "Saved frame2312.jpg\n"
     ]
    },
    {
     "name": "stderr",
     "output_type": "stream",
     "text": [
      "\r",
      " 71%|█████████████████████████████████████████████████████████                       | 351/492 [00:15<00:06, 21.38it/s]"
     ]
    },
    {
     "name": "stdout",
     "output_type": "stream",
     "text": [
      "Saved frame number : 0\n",
      "Saved frame2313.jpg\n",
      "Saved frame number : 0\n",
      "Saved frame2314.jpg\n",
      "Saved frame number : 0\n",
      "Saved frame2315.jpg\n",
      "Saved frame number : 0\n",
      "Saved frame2316.jpg\n",
      "Saved frame number : 0\n"
     ]
    },
    {
     "name": "stderr",
     "output_type": "stream",
     "text": [
      "\r",
      " 72%|█████████████████████████████████████████████████████████▌                      | 354/492 [00:15<00:06, 21.88it/s]"
     ]
    },
    {
     "name": "stdout",
     "output_type": "stream",
     "text": [
      "Saved frame2317.jpg\n",
      "Saved frame number : 0\n",
      "Saved frame2318.jpg\n",
      "Saved frame number : 0\n",
      "Saved frame2319.jpg\n",
      "Saved frame number : 0\n"
     ]
    },
    {
     "name": "stderr",
     "output_type": "stream",
     "text": [
      "\r",
      " 73%|██████████████████████████████████████████████████████████                      | 357/492 [00:15<00:05, 22.65it/s]"
     ]
    },
    {
     "name": "stdout",
     "output_type": "stream",
     "text": [
      "Saved frame2320.jpg\n",
      "Saved frame number : 0\n",
      "Saved frame2321.jpg\n",
      "Saved frame number : 0\n"
     ]
    },
    {
     "name": "stderr",
     "output_type": "stream",
     "text": [
      "\r",
      " 73%|██████████████████████████████████████████████████████████▌                     | 360/492 [00:16<00:05, 22.84it/s]"
     ]
    },
    {
     "name": "stdout",
     "output_type": "stream",
     "text": [
      "Saved frame2322.jpg\n",
      "Saved frame number : 0\n",
      "Saved frame2323.jpg\n",
      "Saved frame number : 0\n",
      "Saved frame2324.jpg\n",
      "Saved frame number : 0\n"
     ]
    },
    {
     "name": "stderr",
     "output_type": "stream",
     "text": [
      "\r",
      " 74%|███████████████████████████████████████████████████████████                     | 363/492 [00:16<00:05, 22.29it/s]"
     ]
    },
    {
     "name": "stdout",
     "output_type": "stream",
     "text": [
      "Saved frame2325.jpg\n",
      "Saved frame number : 0\n",
      "Saved frame2326.jpg\n",
      "Saved frame number : 0\n",
      "Saved frame2327.jpg\n",
      "Saved frame number : 0\n",
      "Saved frame2328.jpg\n",
      "Saved frame number : 0\n"
     ]
    },
    {
     "name": "stderr",
     "output_type": "stream",
     "text": [
      "\r",
      " 74%|███████████████████████████████████████████████████████████▌                    | 366/492 [00:16<00:05, 21.66it/s]"
     ]
    },
    {
     "name": "stdout",
     "output_type": "stream",
     "text": [
      "Saved frame2329.jpg\n",
      "Saved frame number : 0\n",
      "Saved frame2330.jpg\n",
      "Saved frame number : 0\n"
     ]
    },
    {
     "name": "stderr",
     "output_type": "stream",
     "text": [
      "\r",
      " 75%|████████████████████████████████████████████████████████████                    | 369/492 [00:16<00:05, 21.20it/s]"
     ]
    },
    {
     "name": "stdout",
     "output_type": "stream",
     "text": [
      "Saved frame2331.jpg\n",
      "Saved frame number : 0\n",
      "Saved frame2332.jpg\n",
      "Saved frame number : 0\n",
      "Saved frame2333.jpg\n"
     ]
    },
    {
     "name": "stderr",
     "output_type": "stream",
     "text": [
      "\r",
      " 76%|████████████████████████████████████████████████████████████▍                   | 372/492 [00:16<00:05, 21.31it/s]"
     ]
    },
    {
     "name": "stdout",
     "output_type": "stream",
     "text": [
      "Saved frame number : 0\n",
      "Saved frame2334.jpg\n",
      "Saved frame number : 0\n",
      "Saved frame2335.jpg\n",
      "Saved frame number : 0\n",
      "Saved frame2336.jpg\n",
      "Saved frame number : 0\n",
      "Saved frame2337.jpg\n",
      "Saved frame number : 0\n"
     ]
    },
    {
     "name": "stderr",
     "output_type": "stream",
     "text": [
      "\r",
      " 76%|████████████████████████████████████████████████████████████▉                   | 375/492 [00:16<00:05, 21.56it/s]"
     ]
    },
    {
     "name": "stdout",
     "output_type": "stream",
     "text": [
      "Saved frame2338.jpg\n",
      "Saved frame number : 0\n",
      "Saved frame2339.jpg\n",
      "Saved frame number : 0\n"
     ]
    },
    {
     "name": "stderr",
     "output_type": "stream",
     "text": [
      "\r",
      " 77%|█████████████████████████████████████████████████████████████▍                  | 378/492 [00:16<00:05, 21.36it/s]"
     ]
    },
    {
     "name": "stdout",
     "output_type": "stream",
     "text": [
      "Saved frame2340.jpg\n",
      "Saved frame number : 0\n",
      "Saved frame2341.jpg\n",
      "Saved frame number : 0\n",
      "Saved frame2342.jpg\n"
     ]
    },
    {
     "name": "stderr",
     "output_type": "stream",
     "text": [
      "\r",
      " 77%|█████████████████████████████████████████████████████████████▉                  | 381/492 [00:17<00:05, 21.21it/s]"
     ]
    },
    {
     "name": "stdout",
     "output_type": "stream",
     "text": [
      "Saved frame number : 0\n",
      "Saved frame2343.jpg\n",
      "Saved frame number : 0\n",
      "Saved frame2344.jpg\n",
      "Saved frame number : 0\n",
      "Saved frame2345.jpg\n",
      "Saved frame number : 0\n",
      "Saved frame2346.jpg\n",
      "Saved frame number : 0\n"
     ]
    },
    {
     "name": "stderr",
     "output_type": "stream",
     "text": [
      "\r",
      " 78%|██████████████████████████████████████████████████████████████▍                 | 384/492 [00:17<00:05, 21.40it/s]"
     ]
    },
    {
     "name": "stdout",
     "output_type": "stream",
     "text": [
      "Saved frame2347.jpg\n",
      "Saved frame number : 0\n",
      "Saved frame2348.jpg\n",
      "Saved frame number : 0\n"
     ]
    },
    {
     "name": "stderr",
     "output_type": "stream",
     "text": [
      "\r",
      " 79%|██████████████████████████████████████████████████████████████▉                 | 387/492 [00:17<00:04, 21.20it/s]"
     ]
    },
    {
     "name": "stdout",
     "output_type": "stream",
     "text": [
      "Saved frame2349.jpg\n",
      "Saved frame number : 0\n",
      "Saved frame2350.jpg\n",
      "Saved frame number : 0\n",
      "Saved frame2351.jpg\n"
     ]
    },
    {
     "name": "stderr",
     "output_type": "stream",
     "text": [
      "\r",
      " 79%|███████████████████████████████████████████████████████████████▍                | 390/492 [00:17<00:04, 21.15it/s]"
     ]
    },
    {
     "name": "stdout",
     "output_type": "stream",
     "text": [
      "Saved frame number : 0\n",
      "Saved frame2352.jpg\n",
      "Saved frame number : 0\n",
      "Saved frame2353.jpg\n",
      "Saved frame number : 0\n",
      "Saved frame2354.jpg\n",
      "Saved frame number : 0\n",
      "Saved frame2355.jpg\n",
      "Saved frame number : 0\n"
     ]
    },
    {
     "name": "stderr",
     "output_type": "stream",
     "text": [
      "\r",
      " 80%|███████████████████████████████████████████████████████████████▉                | 393/492 [00:17<00:04, 21.11it/s]"
     ]
    },
    {
     "name": "stdout",
     "output_type": "stream",
     "text": [
      "Saved frame2356.jpg\n",
      "Saved frame number : 0\n",
      "Saved frame2357.jpg\n",
      "Saved frame number : 0\n"
     ]
    },
    {
     "name": "stderr",
     "output_type": "stream",
     "text": [
      "\r",
      " 80%|████████████████████████████████████████████████████████████████▍               | 396/492 [00:17<00:04, 21.00it/s]"
     ]
    },
    {
     "name": "stdout",
     "output_type": "stream",
     "text": [
      "Saved frame2358.jpg\n",
      "Saved frame number : 0\n",
      "Saved frame2359.jpg\n",
      "Saved frame number : 0\n",
      "Saved frame2360.jpg\n"
     ]
    },
    {
     "name": "stderr",
     "output_type": "stream",
     "text": [
      "\r",
      " 81%|████████████████████████████████████████████████████████████████▉               | 399/492 [00:17<00:04, 21.74it/s]"
     ]
    },
    {
     "name": "stdout",
     "output_type": "stream",
     "text": [
      "Saved frame number : 0\n",
      "Saved frame2361.jpg\n",
      "Saved frame number : 0\n",
      "Saved frame2362.jpg\n",
      "Saved frame number : 0\n"
     ]
    },
    {
     "name": "stderr",
     "output_type": "stream",
     "text": [
      "\r",
      " 82%|█████████████████████████████████████████████████████████████████▎              | 402/492 [00:17<00:03, 22.64it/s]"
     ]
    },
    {
     "name": "stdout",
     "output_type": "stream",
     "text": [
      "Saved frame2363.jpg\n",
      "Saved frame number : 0\n",
      "Saved frame2364.jpg\n",
      "Saved frame number : 0\n",
      "Saved frame2365.jpg\n",
      "Saved frame number : 0\n",
      "Saved frame2366.jpg\n",
      "Saved frame number : 0\n",
      "Saved frame2367.jpg\n",
      "Saved frame number : 0\n"
     ]
    },
    {
     "name": "stderr",
     "output_type": "stream",
     "text": [
      "\r",
      " 82%|█████████████████████████████████████████████████████████████████▊              | 405/492 [00:18<00:03, 22.70it/s]"
     ]
    },
    {
     "name": "stdout",
     "output_type": "stream",
     "text": [
      "Saved frame2368.jpg\n",
      "Saved frame number : 0\n",
      "Saved frame2369.jpg\n",
      "Saved frame number : 0\n",
      "Saved frame2370.jpg\n"
     ]
    },
    {
     "name": "stderr",
     "output_type": "stream",
     "text": [
      "\r",
      " 83%|██████████████████████████████████████████████████████████████████▎             | 408/492 [00:18<00:03, 22.83it/s]"
     ]
    },
    {
     "name": "stdout",
     "output_type": "stream",
     "text": [
      "Saved frame number : 0\n",
      "Saved frame2371.jpg\n",
      "Saved frame number : 0\n",
      "Saved frame2372.jpg\n",
      "Saved frame number : 0\n"
     ]
    },
    {
     "name": "stderr",
     "output_type": "stream",
     "text": [
      "\r",
      " 84%|██████████████████████████████████████████████████████████████████▊             | 411/492 [00:18<00:03, 22.71it/s]"
     ]
    },
    {
     "name": "stdout",
     "output_type": "stream",
     "text": [
      "Saved frame2373.jpg\n",
      "Saved frame number : 0\n",
      "Saved frame2374.jpg\n",
      "Saved frame number : 0\n"
     ]
    },
    {
     "name": "stderr",
     "output_type": "stream",
     "text": [
      "\r",
      " 84%|███████████████████████████████████████████████████████████████████▎            | 414/492 [00:18<00:03, 22.58it/s]"
     ]
    },
    {
     "name": "stdout",
     "output_type": "stream",
     "text": [
      "Saved frame2375.jpg\n",
      "Saved frame number : 0\n",
      "Saved frame2376.jpg\n",
      "Saved frame number : 0\n",
      "Saved frame2377.jpg\n",
      "Saved frame number : 0\n",
      "Saved frame2378.jpg\n",
      "Saved frame number : 0\n",
      "Saved frame2379.jpg\n",
      "Saved frame number : 0\n"
     ]
    },
    {
     "name": "stderr",
     "output_type": "stream",
     "text": [
      "\r",
      " 85%|███████████████████████████████████████████████████████████████████▊            | 417/492 [00:18<00:03, 22.55it/s]"
     ]
    },
    {
     "name": "stdout",
     "output_type": "stream",
     "text": [
      "Saved frame2380.jpg\n",
      "Saved frame number : 0\n",
      "Saved frame2381.jpg\n",
      "Saved frame number : 0\n",
      "Saved frame2382.jpg\n"
     ]
    },
    {
     "name": "stderr",
     "output_type": "stream",
     "text": [
      "\r",
      " 85%|████████████████████████████████████████████████████████████████████▎           | 420/492 [00:18<00:03, 22.42it/s]"
     ]
    },
    {
     "name": "stdout",
     "output_type": "stream",
     "text": [
      "Saved frame number : 0\n",
      "Saved frame2383.jpg\n",
      "Saved frame number : 0\n",
      "Saved frame2384.jpg\n",
      "Saved frame number : 0\n"
     ]
    },
    {
     "name": "stderr",
     "output_type": "stream",
     "text": [
      "\r",
      " 86%|████████████████████████████████████████████████████████████████████▊           | 423/492 [00:18<00:03, 22.59it/s]"
     ]
    },
    {
     "name": "stdout",
     "output_type": "stream",
     "text": [
      "Saved frame2385.jpg\n",
      "Saved frame number : 0\n",
      "Saved frame2386.jpg\n",
      "Saved frame number : 0\n"
     ]
    },
    {
     "name": "stderr",
     "output_type": "stream",
     "text": [
      "\r",
      " 87%|█████████████████████████████████████████████████████████████████████▎          | 426/492 [00:19<00:02, 22.49it/s]"
     ]
    },
    {
     "name": "stdout",
     "output_type": "stream",
     "text": [
      "Saved frame2387.jpg\n",
      "Saved frame number : 0\n",
      "Saved frame2388.jpg\n",
      "Saved frame number : 0\n",
      "Saved frame2389.jpg\n",
      "Saved frame number : 0\n",
      "Saved frame2390.jpg\n",
      "Saved frame number : 0\n",
      "Saved frame2391.jpg\n"
     ]
    },
    {
     "name": "stderr",
     "output_type": "stream",
     "text": [
      "\r",
      " 87%|█████████████████████████████████████████████████████████████████████▊          | 429/492 [00:19<00:02, 22.08it/s]"
     ]
    },
    {
     "name": "stdout",
     "output_type": "stream",
     "text": [
      "Saved frame number : 0\n",
      "Saved frame2392.jpg\n",
      "Saved frame number : 0\n",
      "Saved frame2393.jpg\n",
      "Saved frame number : 0\n"
     ]
    },
    {
     "name": "stderr",
     "output_type": "stream",
     "text": [
      "\r",
      " 88%|██████████████████████████████████████████████████████████████████████▏         | 432/492 [00:19<00:02, 21.81it/s]"
     ]
    },
    {
     "name": "stdout",
     "output_type": "stream",
     "text": [
      "Saved frame2394.jpg\n",
      "Saved frame number : 0\n",
      "Saved frame2395.jpg\n",
      "Saved frame number : 0\n"
     ]
    },
    {
     "name": "stderr",
     "output_type": "stream",
     "text": [
      "\r",
      " 88%|██████████████████████████████████████████████████████████████████████▋         | 435/492 [00:19<00:02, 21.95it/s]"
     ]
    },
    {
     "name": "stdout",
     "output_type": "stream",
     "text": [
      "Saved frame2396.jpg\n",
      "Saved frame number : 0\n",
      "Saved frame2397.jpg\n",
      "Saved frame number : 0\n",
      "Saved frame2398.jpg\n",
      "Saved frame number : 0\n",
      "Saved frame2399.jpg\n",
      "Saved frame number : 0\n",
      "Saved frame2400.jpg\n",
      "Saved frame number : 0\n"
     ]
    },
    {
     "name": "stderr",
     "output_type": "stream",
     "text": [
      "\r",
      " 89%|███████████████████████████████████████████████████████████████████████▏        | 438/492 [00:19<00:02, 22.19it/s]"
     ]
    },
    {
     "name": "stdout",
     "output_type": "stream",
     "text": [
      "Saved frame2401.jpg\n",
      "Saved frame number : 0\n",
      "Saved frame2402.jpg\n",
      "Saved frame number : 0\n",
      "Saved frame2403.jpg\n"
     ]
    },
    {
     "name": "stderr",
     "output_type": "stream",
     "text": [
      "\r",
      " 90%|███████████████████████████████████████████████████████████████████████▋        | 441/492 [00:19<00:02, 21.88it/s]"
     ]
    },
    {
     "name": "stdout",
     "output_type": "stream",
     "text": [
      "Saved frame number : 0\n",
      "Saved frame2404.jpg\n",
      "Saved frame number : 0\n",
      "Saved frame2405.jpg\n"
     ]
    },
    {
     "name": "stderr",
     "output_type": "stream",
     "text": [
      "\r",
      " 90%|████████████████████████████████████████████████████████████████████████▏       | 444/492 [00:19<00:02, 22.15it/s]"
     ]
    },
    {
     "name": "stdout",
     "output_type": "stream",
     "text": [
      "Saved frame number : 0\n",
      "Saved frame2406.jpg\n",
      "Saved frame number : 0\n",
      "Saved frame2407.jpg\n",
      "Saved frame number : 0\n",
      "Saved frame2408.jpg\n"
     ]
    },
    {
     "name": "stderr",
     "output_type": "stream",
     "text": [
      "\r",
      " 91%|████████████████████████████████████████████████████████████████████████▋       | 447/492 [00:19<00:02, 22.31it/s]"
     ]
    },
    {
     "name": "stdout",
     "output_type": "stream",
     "text": [
      "Saved frame number : 0\n",
      "Saved frame2409.jpg\n",
      "Saved frame number : 0\n",
      "Saved frame2410.jpg\n",
      "Saved frame number : 0\n",
      "Saved frame2411.jpg\n",
      "Saved frame number : 0\n",
      "Saved frame2412.jpg\n",
      "Saved frame number : 0\n"
     ]
    },
    {
     "name": "stderr",
     "output_type": "stream",
     "text": [
      "\r",
      " 91%|█████████████████████████████████████████████████████████████████████████▏      | 450/492 [00:20<00:01, 21.81it/s]"
     ]
    },
    {
     "name": "stdout",
     "output_type": "stream",
     "text": [
      "Saved frame2413.jpg\n",
      "Saved frame number : 0\n",
      "Saved frame2414.jpg\n",
      "Saved frame number : 0\n"
     ]
    },
    {
     "name": "stderr",
     "output_type": "stream",
     "text": [
      "\r",
      " 92%|█████████████████████████████████████████████████████████████████████████▋      | 453/492 [00:20<00:01, 21.53it/s]"
     ]
    },
    {
     "name": "stdout",
     "output_type": "stream",
     "text": [
      "Saved frame2415.jpg\n",
      "Saved frame number : 0\n",
      "Saved frame2416.jpg\n",
      "Saved frame number : 0\n",
      "Saved frame2417.jpg\n"
     ]
    },
    {
     "name": "stderr",
     "output_type": "stream",
     "text": [
      "\r",
      " 93%|██████████████████████████████████████████████████████████████████████████▏     | 456/492 [00:20<00:01, 22.06it/s]"
     ]
    },
    {
     "name": "stdout",
     "output_type": "stream",
     "text": [
      "Saved frame number : 0\n",
      "Saved frame2418.jpg\n",
      "Saved frame number : 0\n",
      "Saved frame2419.jpg\n",
      "Saved frame number : 0\n",
      "Saved frame2420.jpg\n",
      "Saved frame number : 0\n",
      "Saved frame2421.jpg\n",
      "Saved frame number : 0\n"
     ]
    },
    {
     "name": "stderr",
     "output_type": "stream",
     "text": [
      "\r",
      " 93%|██████████████████████████████████████████████████████████████████████████▋     | 459/492 [00:20<00:01, 21.45it/s]"
     ]
    },
    {
     "name": "stdout",
     "output_type": "stream",
     "text": [
      "Saved frame2422.jpg\n",
      "Saved frame number : 0\n",
      "Saved frame2423.jpg\n",
      "Saved frame number : 0\n"
     ]
    },
    {
     "name": "stderr",
     "output_type": "stream",
     "text": [
      "\r",
      " 94%|███████████████████████████████████████████████████████████████████████████     | 462/492 [00:20<00:01, 20.38it/s]"
     ]
    },
    {
     "name": "stdout",
     "output_type": "stream",
     "text": [
      "Saved frame2424.jpg\n",
      "Saved frame number : 0\n",
      "Saved frame2425.jpg\n",
      "Saved frame number : 0\n",
      "Saved frame2426.jpg\n",
      "Saved frame number : 0\n",
      "Saved frame2427.jpg\n",
      "Saved frame number : 0\n"
     ]
    },
    {
     "name": "stderr",
     "output_type": "stream",
     "text": [
      "\r",
      " 95%|███████████████████████████████████████████████████████████████████████████▌    | 465/492 [00:20<00:01, 19.88it/s]"
     ]
    },
    {
     "name": "stdout",
     "output_type": "stream",
     "text": [
      "Saved frame2428.jpg\n",
      "Saved frame number : 0\n",
      "Saved frame2429.jpg\n"
     ]
    },
    {
     "name": "stderr",
     "output_type": "stream",
     "text": [
      "\r",
      " 95%|████████████████████████████████████████████████████████████████████████████    | 468/492 [00:21<00:01, 18.95it/s]"
     ]
    },
    {
     "name": "stdout",
     "output_type": "stream",
     "text": [
      "Saved frame number : 0\n",
      "Saved frame2430.jpg\n",
      "Saved frame number : 0\n",
      "Saved frame2431.jpg\n"
     ]
    },
    {
     "name": "stderr",
     "output_type": "stream",
     "text": [
      "\r",
      " 96%|████████████████████████████████████████████████████████████████████████████▍   | 470/492 [00:21<00:01, 19.02it/s]"
     ]
    },
    {
     "name": "stdout",
     "output_type": "stream",
     "text": [
      "Saved frame number : 0\n",
      "Saved frame2432.jpg\n",
      "Saved frame number : 0\n",
      "Saved frame2433.jpg\n",
      "Saved frame number : 0\n"
     ]
    },
    {
     "name": "stderr",
     "output_type": "stream",
     "text": [
      "\r",
      " 96%|████████████████████████████████████████████████████████████████████████████▋   | 472/492 [00:21<00:01, 19.13it/s]"
     ]
    },
    {
     "name": "stdout",
     "output_type": "stream",
     "text": [
      "Saved frame2434.jpg\n",
      "Saved frame number : 0\n",
      "Saved frame2435.jpg\n",
      "Saved frame number : 0\n"
     ]
    },
    {
     "name": "stderr",
     "output_type": "stream",
     "text": [
      "\r",
      " 96%|█████████████████████████████████████████████████████████████████████████████   | 474/492 [00:21<00:00, 19.26it/s]"
     ]
    },
    {
     "name": "stdout",
     "output_type": "stream",
     "text": [
      "Saved frame2436.jpg\n",
      "Saved frame number : 0\n",
      "Saved frame2437.jpg\n",
      "Saved frame number : 0\n"
     ]
    },
    {
     "name": "stderr",
     "output_type": "stream",
     "text": [
      "\r",
      " 97%|█████████████████████████████████████████████████████████████████████████████▍  | 476/492 [00:21<00:00, 19.07it/s]"
     ]
    },
    {
     "name": "stdout",
     "output_type": "stream",
     "text": [
      "Saved frame2438.jpg\n",
      "Saved frame number : 0\n",
      "Saved frame2439.jpg\n",
      "Saved frame number : 0\n",
      "Saved frame2440.jpg\n",
      "Saved frame number : 0\n",
      "Saved frame2441.jpg\n",
      "Saved frame number : 0\n"
     ]
    },
    {
     "name": "stderr",
     "output_type": "stream",
     "text": [
      "\r",
      " 97%|█████████████████████████████████████████████████████████████████████████████▉  | 479/492 [00:21<00:00, 19.70it/s]"
     ]
    },
    {
     "name": "stdout",
     "output_type": "stream",
     "text": [
      "Saved frame2442.jpg\n",
      "Saved frame number : 0\n",
      "Saved frame2443.jpg\n",
      "Saved frame number : 0\n"
     ]
    },
    {
     "name": "stderr",
     "output_type": "stream",
     "text": [
      "\r",
      " 98%|██████████████████████████████████████████████████████████████████████████████▏ | 481/492 [00:21<00:00, 19.64it/s]"
     ]
    },
    {
     "name": "stdout",
     "output_type": "stream",
     "text": [
      "Saved frame2444.jpg\n",
      "Saved frame number : 0\n",
      "Saved frame2445.jpg\n",
      "Saved frame number : 0\n"
     ]
    },
    {
     "name": "stderr",
     "output_type": "stream",
     "text": [
      "\r",
      " 98%|██████████████████████████████████████████████████████████████████████████████▌ | 483/492 [00:21<00:00, 19.49it/s]"
     ]
    },
    {
     "name": "stdout",
     "output_type": "stream",
     "text": [
      "Saved frame2446.jpg\n",
      "Saved frame number : 0\n",
      "Saved frame2447.jpg\n",
      "Saved frame number : 0\n"
     ]
    },
    {
     "name": "stderr",
     "output_type": "stream",
     "text": [
      "\r",
      " 99%|██████████████████████████████████████████████████████████████████████████████▊ | 485/492 [00:21<00:00, 19.33it/s]"
     ]
    },
    {
     "name": "stdout",
     "output_type": "stream",
     "text": [
      "Saved frame2448.jpg\n",
      "Saved frame number : 0\n",
      "Saved frame2449.jpg\n",
      "Saved frame number : 0\n"
     ]
    },
    {
     "name": "stderr",
     "output_type": "stream",
     "text": [
      "\r",
      " 99%|███████████████████████████████████████████████████████████████████████████████▎| 488/492 [00:22<00:00, 19.50it/s]"
     ]
    },
    {
     "name": "stdout",
     "output_type": "stream",
     "text": [
      "Saved frame2450.jpg\n",
      "Saved frame number : 0\n",
      "Saved frame2451.jpg\n",
      "Saved frame number : 0\n",
      "Saved frame2452.jpg\n"
     ]
    },
    {
     "name": "stderr",
     "output_type": "stream",
     "text": [
      "\r",
      "100%|███████████████████████████████████████████████████████████████████████████████▋| 490/492 [00:22<00:00, 19.34it/s]"
     ]
    },
    {
     "name": "stdout",
     "output_type": "stream",
     "text": [
      "Saved frame number : 0\n",
      "Saved frame2453.jpg\n",
      "Saved frame number : 0\n"
     ]
    },
    {
     "name": "stderr",
     "output_type": "stream",
     "text": [
      "100%|████████████████████████████████████████████████████████████████████████████████| 492/492 [00:22<00:00, 22.07it/s]\n"
     ]
    },
    {
     "name": "stdout",
     "output_type": "stream",
     "text": [
      "Saved frame2454.jpg\n",
      "Saved frame number : 0\n",
      "Saved frame2455.jpg\n",
      "Iterating: 5 folder\n"
     ]
    },
    {
     "name": "stderr",
     "output_type": "stream",
     "text": [
      "\r",
      "  0%|                                                                                          | 0/492 [00:00<?, ?it/s]"
     ]
    },
    {
     "name": "stdout",
     "output_type": "stream",
     "text": [
      "Saved frame number : 0\n",
      "Saved frame2456.jpg\n",
      "Saved frame number : 0\n",
      "Saved frame2457.jpg\n",
      "Saved frame number : 0\n"
     ]
    },
    {
     "name": "stderr",
     "output_type": "stream",
     "text": [
      "\r",
      "  1%|▌                                                                                 | 3/492 [00:00<00:20, 23.50it/s]"
     ]
    },
    {
     "name": "stdout",
     "output_type": "stream",
     "text": [
      "Saved frame2458.jpg\n",
      "Saved frame number : 0\n",
      "Saved frame2459.jpg\n",
      "Saved frame number : 0\n",
      "Saved frame2460.jpg\n"
     ]
    },
    {
     "name": "stderr",
     "output_type": "stream",
     "text": [
      "\r",
      "  1%|█                                                                                 | 6/492 [00:00<00:20, 24.11it/s]"
     ]
    },
    {
     "name": "stdout",
     "output_type": "stream",
     "text": [
      "Saved frame number : 0\n",
      "Saved frame2461.jpg\n",
      "Saved frame number : 0\n",
      "Saved frame2462.jpg\n",
      "Saved frame number : 0\n"
     ]
    },
    {
     "name": "stderr",
     "output_type": "stream",
     "text": [
      "\r",
      "  2%|█▌                                                                                | 9/492 [00:00<00:19, 24.53it/s]"
     ]
    },
    {
     "name": "stdout",
     "output_type": "stream",
     "text": [
      "Saved frame2463.jpg\n",
      "Saved frame number : 0\n",
      "Saved frame2464.jpg\n",
      "Saved frame number : 0\n",
      "Saved frame2465.jpg\n",
      "Saved frame number : 0\n",
      "Saved frame2466.jpg\n",
      "Saved frame number : 0\n"
     ]
    },
    {
     "name": "stderr",
     "output_type": "stream",
     "text": [
      "\r",
      "  2%|█▉                                                                               | 12/492 [00:00<00:19, 24.51it/s]"
     ]
    },
    {
     "name": "stdout",
     "output_type": "stream",
     "text": [
      "Saved frame2467.jpg\n",
      "Saved frame number : 0\n"
     ]
    },
    {
     "name": "stderr",
     "output_type": "stream",
     "text": [
      "\r",
      "  3%|██▍                                                                              | 15/492 [00:00<00:19, 23.99it/s]"
     ]
    },
    {
     "name": "stdout",
     "output_type": "stream",
     "text": [
      "Saved frame2468.jpg\n",
      "Saved frame number : 0\n",
      "Saved frame2469.jpg\n",
      "Saved frame number : 0\n",
      "Saved frame2470.jpg\n",
      "Saved frame number : 0\n",
      "Saved frame2471.jpg\n",
      "Saved frame number : 0\n",
      "Saved frame2472.jpg\n",
      "Saved frame number : 0\n"
     ]
    },
    {
     "name": "stderr",
     "output_type": "stream",
     "text": [
      "\r",
      "  4%|██▉                                                                              | 18/492 [00:00<00:19, 24.28it/s]"
     ]
    },
    {
     "name": "stdout",
     "output_type": "stream",
     "text": [
      "Saved frame2473.jpg\n",
      "Saved frame number : 0\n",
      "Saved frame2474.jpg\n",
      "Saved frame number : 0\n",
      "Saved frame2475.jpg\n",
      "Saved frame number : 0\n"
     ]
    },
    {
     "name": "stderr",
     "output_type": "stream",
     "text": [
      "\r",
      "  4%|███▍                                                                             | 21/492 [00:00<00:19, 24.15it/s]"
     ]
    },
    {
     "name": "stdout",
     "output_type": "stream",
     "text": [
      "Saved frame2476.jpg\n",
      "Saved frame number : 0\n",
      "Saved frame2477.jpg\n",
      "Saved frame number : 0\n"
     ]
    },
    {
     "name": "stderr",
     "output_type": "stream",
     "text": [
      "\r",
      "  5%|███▉                                                                             | 24/492 [00:00<00:19, 24.00it/s]"
     ]
    },
    {
     "name": "stdout",
     "output_type": "stream",
     "text": [
      "Saved frame2478.jpg\n",
      "Saved frame number : 0\n",
      "Saved frame2479.jpg\n",
      "Saved frame number : 0\n",
      "Saved frame2480.jpg\n",
      "Saved frame number : 0\n",
      "Saved frame2481.jpg\n",
      "Saved frame number : 0\n"
     ]
    },
    {
     "name": "stderr",
     "output_type": "stream",
     "text": [
      "\r",
      "  5%|████▍                                                                            | 27/492 [00:01<00:20, 23.10it/s]"
     ]
    },
    {
     "name": "stdout",
     "output_type": "stream",
     "text": [
      "Saved frame2482.jpg\n",
      "Saved frame number : 0\n",
      "Saved frame2483.jpg\n",
      "Saved frame number : 0\n",
      "Saved frame2484.jpg\n",
      "Saved frame number : 0\n"
     ]
    },
    {
     "name": "stderr",
     "output_type": "stream",
     "text": [
      "\r",
      "  6%|████▉                                                                            | 30/492 [00:01<00:21, 21.67it/s]"
     ]
    },
    {
     "name": "stdout",
     "output_type": "stream",
     "text": [
      "Saved frame2485.jpg\n",
      "Saved frame number : 0\n",
      "Saved frame2486.jpg\n"
     ]
    },
    {
     "name": "stderr",
     "output_type": "stream",
     "text": [
      "\r",
      "  7%|█████▍                                                                           | 33/492 [00:01<00:22, 20.15it/s]"
     ]
    },
    {
     "name": "stdout",
     "output_type": "stream",
     "text": [
      "Saved frame number : 0\n",
      "Saved frame2487.jpg\n",
      "Saved frame number : 0\n",
      "Saved frame2488.jpg\n",
      "Saved frame number : 0\n",
      "Saved frame2489.jpg\n",
      "Saved frame number : 0\n",
      "Saved frame2490.jpg\n",
      "Saved frame number : 0\n"
     ]
    },
    {
     "name": "stderr",
     "output_type": "stream",
     "text": [
      "\r",
      "  7%|█████▉                                                                           | 36/492 [00:01<00:22, 20.20it/s]"
     ]
    },
    {
     "name": "stdout",
     "output_type": "stream",
     "text": [
      "Saved frame2491.jpg\n",
      "Saved frame number : 0\n",
      "Saved frame2492.jpg\n",
      "Saved frame number : 0\n",
      "Saved frame2493.jpg\n"
     ]
    },
    {
     "name": "stderr",
     "output_type": "stream",
     "text": [
      "\r",
      "  8%|██████▍                                                                          | 39/492 [00:01<00:21, 20.70it/s]"
     ]
    },
    {
     "name": "stdout",
     "output_type": "stream",
     "text": [
      "Saved frame number : 0\n",
      "Saved frame2494.jpg\n",
      "Saved frame number : 0\n",
      "Saved frame2495.jpg\n"
     ]
    },
    {
     "name": "stderr",
     "output_type": "stream",
     "text": [
      "\r",
      "  9%|██████▉                                                                          | 42/492 [00:01<00:20, 21.76it/s]"
     ]
    },
    {
     "name": "stdout",
     "output_type": "stream",
     "text": [
      "Saved frame number : 0\n",
      "Saved frame2496.jpg\n",
      "Saved frame number : 0\n",
      "Saved frame2497.jpg\n",
      "Saved frame number : 0\n",
      "Saved frame2498.jpg\n",
      "Saved frame number : 0\n",
      "Saved frame2499.jpg\n"
     ]
    },
    {
     "name": "stderr",
     "output_type": "stream",
     "text": [
      "\r",
      "  9%|███████▍                                                                         | 45/492 [00:01<00:19, 22.46it/s]"
     ]
    },
    {
     "name": "stdout",
     "output_type": "stream",
     "text": [
      "Saved frame number : 0\n",
      "Saved frame2500.jpg\n"
     ]
    },
    {
     "name": "stderr",
     "output_type": "stream",
     "text": [
      "\r",
      " 10%|███████▉                                                                         | 48/492 [00:02<00:19, 23.34it/s]"
     ]
    },
    {
     "name": "stdout",
     "output_type": "stream",
     "text": [
      "Saved frame number : 0\n",
      "Saved frame2501.jpg\n",
      "Saved frame number : 0\n",
      "Saved frame2502.jpg\n",
      "Saved frame number : 0\n",
      "Saved frame2503.jpg\n",
      "Saved frame number : 0\n",
      "Saved frame2504.jpg\n",
      "Saved frame number : 0\n",
      "Saved frame2505.jpg\n",
      "Saved frame number : 0\n"
     ]
    },
    {
     "name": "stderr",
     "output_type": "stream",
     "text": [
      " 11%|████████▉                                                                        | 54/492 [00:02<00:18, 24.21it/s]"
     ]
    },
    {
     "name": "stdout",
     "output_type": "stream",
     "text": [
      "Saved frame2506.jpg\n",
      "Saved frame number : 0\n",
      "Saved frame2507.jpg\n",
      "Saved frame number : 0\n",
      "Saved frame2508.jpg\n",
      "Saved frame number : 0\n",
      "Saved frame2509.jpg\n",
      "Saved frame number : 0\n",
      "Saved frame2510.jpg\n",
      "Saved frame number : 0\n"
     ]
    },
    {
     "name": "stderr",
     "output_type": "stream",
     "text": [
      "\r",
      " 12%|█████████▍                                                                       | 57/492 [00:02<00:17, 24.28it/s]"
     ]
    },
    {
     "name": "stdout",
     "output_type": "stream",
     "text": [
      "Saved frame2511.jpg\n",
      "Saved frame number : 0\n",
      "Saved frame2512.jpg\n",
      "Saved frame number : 0\n",
      "Saved frame2513.jpg\n",
      "Saved frame number : 0\n",
      "Saved frame2514.jpg\n",
      "Saved frame number : 0\n"
     ]
    },
    {
     "name": "stderr",
     "output_type": "stream",
     "text": [
      "\r",
      " 12%|█████████▉                                                                       | 60/492 [00:02<00:17, 24.66it/s]"
     ]
    },
    {
     "name": "stdout",
     "output_type": "stream",
     "text": [
      "Saved frame2515.jpg\n",
      "Saved frame number : 0\n",
      "Saved frame2516.jpg\n"
     ]
    },
    {
     "name": "stderr",
     "output_type": "stream",
     "text": [
      "\r",
      " 13%|██████████▎                                                                      | 63/492 [00:02<00:18, 23.83it/s]"
     ]
    },
    {
     "name": "stdout",
     "output_type": "stream",
     "text": [
      "Saved frame number : 0\n",
      "Saved frame2517.jpg\n",
      "Saved frame number : 0\n",
      "Saved frame2518.jpg\n",
      "Saved frame number : 0\n",
      "Saved frame2519.jpg\n",
      "Saved frame number : 0\n",
      "Saved frame2520.jpg\n"
     ]
    },
    {
     "name": "stderr",
     "output_type": "stream",
     "text": [
      "\r",
      " 13%|██████████▊                                                                      | 66/492 [00:02<00:19, 22.16it/s]"
     ]
    },
    {
     "name": "stdout",
     "output_type": "stream",
     "text": [
      "Saved frame number : 0\n",
      "Saved frame2521.jpg\n",
      "Saved frame number : 0\n",
      "Saved frame2522.jpg\n",
      "Saved frame number : 0\n",
      "Saved frame2523.jpg\n",
      "Saved frame number : 0\n"
     ]
    },
    {
     "name": "stderr",
     "output_type": "stream",
     "text": [
      "\r",
      " 14%|███████████▎                                                                     | 69/492 [00:03<00:18, 22.39it/s]"
     ]
    },
    {
     "name": "stdout",
     "output_type": "stream",
     "text": [
      "Saved frame2524.jpg\n",
      "Saved frame number : 0\n"
     ]
    },
    {
     "name": "stderr",
     "output_type": "stream",
     "text": [
      "\r",
      " 15%|███████████▊                                                                     | 72/492 [00:03<00:18, 22.26it/s]"
     ]
    },
    {
     "name": "stdout",
     "output_type": "stream",
     "text": [
      "Saved frame2525.jpg\n",
      "Saved frame number : 0\n",
      "Saved frame2526.jpg\n",
      "Saved frame number : 0\n",
      "Saved frame2527.jpg\n",
      "Saved frame number : 0\n",
      "Saved frame2528.jpg\n",
      "Saved frame number : 0\n",
      "Saved frame2529.jpg\n",
      "Saved frame number : 0\n"
     ]
    },
    {
     "name": "stderr",
     "output_type": "stream",
     "text": [
      " 16%|████████████▊                                                                    | 78/492 [00:03<00:17, 23.27it/s]"
     ]
    },
    {
     "name": "stdout",
     "output_type": "stream",
     "text": [
      "Saved frame2530.jpg\n",
      "Saved frame number : 0\n",
      "Saved frame2531.jpg\n",
      "Saved frame number : 0\n",
      "Saved frame2532.jpg\n",
      "Saved frame number : 0\n",
      "Saved frame2533.jpg\n",
      "Saved frame number : 0\n",
      "Saved frame2534.jpg\n",
      "Saved frame number : 0\n"
     ]
    },
    {
     "name": "stderr",
     "output_type": "stream",
     "text": [
      "\r",
      " 16%|█████████████▎                                                                   | 81/492 [00:03<00:17, 23.73it/s]"
     ]
    },
    {
     "name": "stdout",
     "output_type": "stream",
     "text": [
      "Saved frame2535.jpg\n",
      "Saved frame number : 0\n",
      "Saved frame2536.jpg\n",
      "Saved frame number : 0\n",
      "Saved frame2537.jpg\n",
      "Saved frame number : 0\n",
      "Saved frame2538.jpg\n",
      "Saved frame number : 0\n"
     ]
    },
    {
     "name": "stderr",
     "output_type": "stream",
     "text": [
      "\r",
      " 17%|█████████████▊                                                                   | 84/492 [00:03<00:16, 24.29it/s]"
     ]
    },
    {
     "name": "stdout",
     "output_type": "stream",
     "text": [
      "Saved frame2539.jpg\n",
      "Saved frame number : 0\n",
      "Saved frame2540.jpg\n"
     ]
    },
    {
     "name": "stderr",
     "output_type": "stream",
     "text": [
      "\r",
      " 18%|██████████████▎                                                                  | 87/492 [00:03<00:16, 23.88it/s]"
     ]
    },
    {
     "name": "stdout",
     "output_type": "stream",
     "text": [
      "Saved frame number : 0\n",
      "Saved frame2541.jpg\n",
      "Saved frame number : 0\n",
      "Saved frame2542.jpg\n",
      "Saved frame number : 0\n",
      "Saved frame2543.jpg\n",
      "Saved frame number : 0\n",
      "Saved frame2544.jpg\n",
      "Saved frame number : 0"
     ]
    },
    {
     "name": "stderr",
     "output_type": "stream",
     "text": [
      "\r",
      " 18%|██████████████▊                                                                  | 90/492 [00:03<00:18, 21.80it/s]"
     ]
    },
    {
     "name": "stdout",
     "output_type": "stream",
     "text": [
      "\n",
      "Saved frame2545.jpg\n",
      "Saved frame number : 0\n",
      "Saved frame2546.jpg\n",
      "Saved frame number : 0\n",
      "Saved frame2547.jpg"
     ]
    },
    {
     "name": "stderr",
     "output_type": "stream",
     "text": [
      "\r",
      " 19%|███████████████▎                                                                 | 93/492 [00:04<00:19, 20.38it/s]"
     ]
    },
    {
     "name": "stdout",
     "output_type": "stream",
     "text": [
      "\n",
      "Saved frame number : 0\n",
      "Saved frame2548.jpg\n"
     ]
    },
    {
     "name": "stderr",
     "output_type": "stream",
     "text": [
      "\r",
      " 20%|███████████████▊                                                                 | 96/492 [00:04<00:18, 20.87it/s]"
     ]
    },
    {
     "name": "stdout",
     "output_type": "stream",
     "text": [
      "Saved frame number : 0\n",
      "Saved frame2549.jpg\n",
      "Saved frame number : 0\n",
      "Saved frame2550.jpg\n",
      "Saved frame number : 0\n",
      "Saved frame2551.jpg\n",
      "Saved frame number : 0\n",
      "Saved frame2552.jpg\n",
      "Saved frame number : 0\n",
      "Saved frame2553.jpg\n"
     ]
    },
    {
     "name": "stderr",
     "output_type": "stream",
     "text": [
      "\r",
      " 20%|████████████████▎                                                                | 99/492 [00:04<00:18, 21.74it/s]"
     ]
    },
    {
     "name": "stdout",
     "output_type": "stream",
     "text": [
      "Saved frame number : 0\n",
      "Saved frame2554.jpg\n",
      "Saved frame number : 0\n",
      "Saved frame2555.jpg\n",
      "Saved frame number : 0\n",
      "Saved frame2556.jpg\n"
     ]
    },
    {
     "name": "stderr",
     "output_type": "stream",
     "text": [
      "\r",
      " 21%|████████████████▌                                                               | 102/492 [00:04<00:17, 22.24it/s]"
     ]
    },
    {
     "name": "stdout",
     "output_type": "stream",
     "text": [
      "Saved frame number : 0\n",
      "Saved frame2557.jpg\n",
      "Saved frame number : 0\n",
      "Saved frame2558.jpg\n"
     ]
    },
    {
     "name": "stderr",
     "output_type": "stream",
     "text": [
      "\r",
      " 21%|█████████████████                                                               | 105/492 [00:04<00:17, 22.70it/s]"
     ]
    },
    {
     "name": "stdout",
     "output_type": "stream",
     "text": [
      "Saved frame number : 0\n",
      "Saved frame2559.jpg\n",
      "Saved frame number : 0\n",
      "Saved frame2560.jpg\n",
      "Saved frame number : 0\n",
      "Saved frame2561.jpg\n"
     ]
    },
    {
     "name": "stderr",
     "output_type": "stream",
     "text": [
      "\r",
      " 22%|█████████████████▌                                                              | 108/492 [00:04<00:16, 23.59it/s]"
     ]
    },
    {
     "name": "stdout",
     "output_type": "stream",
     "text": [
      "Saved frame number : 0\n",
      "Saved frame2562.jpg\n",
      "Saved frame number : 0\n",
      "Saved frame2563.jpg\n",
      "Saved frame number : 0\n"
     ]
    },
    {
     "name": "stderr",
     "output_type": "stream",
     "text": [
      "\r",
      " 23%|██████████████████                                                              | 111/492 [00:04<00:16, 23.78it/s]"
     ]
    },
    {
     "name": "stdout",
     "output_type": "stream",
     "text": [
      "Saved frame2564.jpg\n",
      "Saved frame number : 0\n",
      "Saved frame2565.jpg\n",
      "Saved frame number : 0\n",
      "Saved frame2566.jpg\n",
      "Saved frame number : 0\n",
      "Saved frame2567.jpg\n",
      "Saved frame number : 0\n",
      "Saved frame2568.jpg\n",
      "Saved frame number : 0\n"
     ]
    },
    {
     "name": "stderr",
     "output_type": "stream",
     "text": [
      "\r",
      " 23%|██████████████████▌                                                             | 114/492 [00:04<00:15, 23.87it/s]"
     ]
    },
    {
     "name": "stdout",
     "output_type": "stream",
     "text": [
      "Saved frame2569.jpg\n",
      "Saved frame number : 0\n",
      "Saved frame2570.jpg\n",
      "Saved frame number : 0\n"
     ]
    },
    {
     "name": "stderr",
     "output_type": "stream",
     "text": [
      "\r",
      " 24%|███████████████████                                                             | 117/492 [00:05<00:16, 22.78it/s]"
     ]
    },
    {
     "name": "stdout",
     "output_type": "stream",
     "text": [
      "Saved frame2571.jpg\n",
      "Saved frame number : 0\n",
      "Saved frame2572.jpg\n",
      "Saved frame number : 0\n",
      "Saved frame2573.jpg\n"
     ]
    },
    {
     "name": "stderr",
     "output_type": "stream",
     "text": [
      "\r",
      " 24%|███████████████████▌                                                            | 120/492 [00:05<00:15, 23.53it/s]"
     ]
    },
    {
     "name": "stdout",
     "output_type": "stream",
     "text": [
      "Saved frame number : 0\n",
      "Saved frame2574.jpg\n",
      "Saved frame number : 0\n",
      "Saved frame2575.jpg\n",
      "Saved frame number : 0\n"
     ]
    },
    {
     "name": "stderr",
     "output_type": "stream",
     "text": [
      "\r",
      " 25%|████████████████████                                                            | 123/492 [00:05<00:15, 23.69it/s]"
     ]
    },
    {
     "name": "stdout",
     "output_type": "stream",
     "text": [
      "Saved frame2576.jpg\n",
      "Saved frame number : 0\n",
      "Saved frame2577.jpg\n",
      "Saved frame number : 0\n",
      "Saved frame2578.jpg\n",
      "Saved frame number : 0\n",
      "Saved frame2579.jpg\n",
      "Saved frame number : 0\n",
      "Saved frame2580.jpg\n",
      "Saved frame number : 0\n"
     ]
    },
    {
     "name": "stderr",
     "output_type": "stream",
     "text": [
      "\r",
      " 26%|████████████████████▍                                                           | 126/492 [00:05<00:15, 23.20it/s]"
     ]
    },
    {
     "name": "stdout",
     "output_type": "stream",
     "text": [
      "Saved frame2581.jpg\n",
      "Saved frame number : 0\n",
      "Saved frame2582.jpg\n",
      "Saved frame number : 0\n",
      "Saved frame2583.jpg\n"
     ]
    },
    {
     "name": "stderr",
     "output_type": "stream",
     "text": [
      "\r",
      " 26%|████████████████████▉                                                           | 129/492 [00:05<00:15, 23.13it/s]"
     ]
    },
    {
     "name": "stdout",
     "output_type": "stream",
     "text": [
      "Saved frame number : 0\n",
      "Saved frame2584.jpg\n",
      "Saved frame number : 0\n",
      "Saved frame2585.jpg\n",
      "Saved frame number : 0\n"
     ]
    },
    {
     "name": "stderr",
     "output_type": "stream",
     "text": [
      "\r",
      " 27%|█████████████████████▍                                                          | 132/492 [00:05<00:15, 23.02it/s]"
     ]
    },
    {
     "name": "stdout",
     "output_type": "stream",
     "text": [
      "Saved frame2586.jpg\n",
      "Saved frame number : 0\n",
      "Saved frame2587.jpg\n",
      "Saved frame number : 0\n"
     ]
    },
    {
     "name": "stderr",
     "output_type": "stream",
     "text": [
      "\r",
      " 27%|█████████████████████▉                                                          | 135/492 [00:05<00:15, 23.27it/s]"
     ]
    },
    {
     "name": "stdout",
     "output_type": "stream",
     "text": [
      "Saved frame2588.jpg\n",
      "Saved frame number : 0\n",
      "Saved frame2589.jpg\n",
      "Saved frame number : 0\n",
      "Saved frame2590.jpg\n",
      "Saved frame number : 0\n",
      "Saved frame2591.jpg\n",
      "Saved frame number : 0\n",
      "Saved frame2592.jpg\n",
      "Saved frame number : 0\n"
     ]
    },
    {
     "name": "stderr",
     "output_type": "stream",
     "text": [
      "\r",
      " 28%|██████████████████████▍                                                         | 138/492 [00:06<00:15, 23.45it/s]"
     ]
    },
    {
     "name": "stdout",
     "output_type": "stream",
     "text": [
      "Saved frame2593.jpg\n",
      "Saved frame number : 0\n",
      "Saved frame2594.jpg\n",
      "Saved frame number : 0\n",
      "Saved frame2595.jpg\n",
      "Saved frame number : 0\n"
     ]
    },
    {
     "name": "stderr",
     "output_type": "stream",
     "text": [
      "\r",
      " 29%|██████████████████████▉                                                         | 141/492 [00:06<00:15, 23.30it/s]"
     ]
    },
    {
     "name": "stdout",
     "output_type": "stream",
     "text": [
      "Saved frame2596.jpg\n",
      "Saved frame number : 0\n",
      "Saved frame2597.jpg\n",
      "Saved frame number : 0\n"
     ]
    },
    {
     "name": "stderr",
     "output_type": "stream",
     "text": [
      "\r",
      " 29%|███████████████████████▍                                                        | 144/492 [00:06<00:14, 23.42it/s]"
     ]
    },
    {
     "name": "stdout",
     "output_type": "stream",
     "text": [
      "Saved frame2598.jpg\n",
      "Saved frame number : 0\n",
      "Saved frame2599.jpg\n",
      "Saved frame number : 0\n",
      "Saved frame2600.jpg\n"
     ]
    },
    {
     "name": "stderr",
     "output_type": "stream",
     "text": [
      "\r",
      " 30%|███████████████████████▉                                                        | 147/492 [00:06<00:14, 23.83it/s]"
     ]
    },
    {
     "name": "stdout",
     "output_type": "stream",
     "text": [
      "Saved frame number : 0\n",
      "Saved frame2601.jpg\n",
      "Saved frame number : 0\n",
      "Saved frame2602.jpg\n",
      "Saved frame number : 0\n"
     ]
    },
    {
     "name": "stderr",
     "output_type": "stream",
     "text": [
      "\r",
      " 30%|████████████████████████▍                                                       | 150/492 [00:06<00:13, 24.67it/s]"
     ]
    },
    {
     "name": "stdout",
     "output_type": "stream",
     "text": [
      "Saved frame2603.jpg\n",
      "Saved frame number : 0\n",
      "Saved frame2604.jpg\n",
      "Saved frame number : 0\n",
      "Saved frame2605.jpg\n",
      "Saved frame number : 0\n"
     ]
    },
    {
     "name": "stderr",
     "output_type": "stream",
     "text": [
      "\r",
      " 31%|████████████████████████▉                                                       | 153/492 [00:06<00:13, 25.22it/s]"
     ]
    },
    {
     "name": "stdout",
     "output_type": "stream",
     "text": [
      "Saved frame2606.jpg\n",
      "Saved frame number : 0\n",
      "Saved frame2607.jpg\n",
      "Saved frame number : 0\n",
      "Saved frame2608.jpg\n"
     ]
    },
    {
     "name": "stderr",
     "output_type": "stream",
     "text": [
      "\r",
      " 32%|█████████████████████████▎                                                      | 156/492 [00:06<00:13, 25.75it/s]"
     ]
    },
    {
     "name": "stdout",
     "output_type": "stream",
     "text": [
      "Saved frame number : 0\n",
      "Saved frame2609.jpg\n",
      "Saved frame number : 0\n",
      "Saved frame2610.jpg\n",
      "Saved frame number : 0\n",
      "Saved frame2611.jpg\n",
      "Saved frame number : 0\n",
      "Saved frame2612.jpg\n",
      "Saved frame number : 0\n",
      "Saved frame2613.jpg\n",
      "Saved frame number : 0\n"
     ]
    },
    {
     "name": "stderr",
     "output_type": "stream",
     "text": [
      " 33%|██████████████████████████▎                                                     | 162/492 [00:06<00:12, 27.12it/s]"
     ]
    },
    {
     "name": "stdout",
     "output_type": "stream",
     "text": [
      "Saved frame2614.jpg\n",
      "Saved frame number : 0\n",
      "Saved frame2615.jpg\n",
      "Saved frame number : 0\n",
      "Saved frame2616.jpg\n",
      "Saved frame number : 0\n",
      "Saved frame2617.jpg\n",
      "Saved frame number : 0\n",
      "Saved frame2618.jpg\n",
      "Saved frame number : 0\n",
      "Saved frame2619.jpg\n",
      "Saved frame number : 0\n"
     ]
    },
    {
     "name": "stderr",
     "output_type": "stream",
     "text": [
      "\r",
      " 34%|██████████████████████████▊                                                     | 165/492 [00:07<00:12, 26.76it/s]"
     ]
    },
    {
     "name": "stdout",
     "output_type": "stream",
     "text": [
      "Saved frame2620.jpg\n",
      "Saved frame number : 0\n",
      "Saved frame2621.jpg\n",
      "Saved frame number : 0\n",
      "Saved frame2622.jpg\n",
      "Saved frame number : 0\n"
     ]
    },
    {
     "name": "stderr",
     "output_type": "stream",
     "text": [
      "\r",
      " 34%|███████████████████████████▎                                                    | 168/492 [00:07<00:11, 27.13it/s]"
     ]
    },
    {
     "name": "stdout",
     "output_type": "stream",
     "text": [
      "Saved frame2623.jpg\n",
      "Saved frame number : 0\n",
      "Saved frame2624.jpg\n",
      "Saved frame number : 0\n",
      "Saved frame2625.jpg\n"
     ]
    },
    {
     "name": "stderr",
     "output_type": "stream",
     "text": [
      "\r",
      " 35%|███████████████████████████▊                                                    | 171/492 [00:07<00:12, 25.53it/s]"
     ]
    },
    {
     "name": "stdout",
     "output_type": "stream",
     "text": [
      "Saved frame number : 0\n",
      "Saved frame2626.jpg\n",
      "Saved frame number : 0\n",
      "Saved frame2627.jpg\n",
      "Saved frame number : 0\n"
     ]
    },
    {
     "name": "stderr",
     "output_type": "stream",
     "text": [
      "\r",
      " 35%|████████████████████████████▎                                                   | 174/492 [00:07<00:12, 24.52it/s]"
     ]
    },
    {
     "name": "stdout",
     "output_type": "stream",
     "text": [
      "Saved frame2628.jpg\n",
      "Saved frame number : 0\n",
      "Saved frame2629.jpg\n",
      "Saved frame number : 0\n"
     ]
    },
    {
     "name": "stderr",
     "output_type": "stream",
     "text": [
      "\r",
      " 36%|████████████████████████████▊                                                   | 177/492 [00:07<00:13, 23.53it/s]"
     ]
    },
    {
     "name": "stdout",
     "output_type": "stream",
     "text": [
      "Saved frame2630.jpg\n",
      "Saved frame number : 0\n",
      "Saved frame2631.jpg\n",
      "Saved frame number : 0\n",
      "Saved frame2632.jpg\n",
      "Saved frame number : 0\n",
      "Saved frame2633.jpg\n",
      "Saved frame number : 0\n",
      "Saved frame2634.jpg\n",
      "Saved frame number : 0\n"
     ]
    },
    {
     "name": "stderr",
     "output_type": "stream",
     "text": [
      "\r",
      " 37%|█████████████████████████████▎                                                  | 180/492 [00:07<00:13, 23.48it/s]"
     ]
    },
    {
     "name": "stdout",
     "output_type": "stream",
     "text": [
      "Saved frame2635.jpg\n",
      "Saved frame number : 0\n",
      "Saved frame2636.jpg\n",
      "Saved frame number : 0\n",
      "Saved frame2637.jpg\n"
     ]
    },
    {
     "name": "stderr",
     "output_type": "stream",
     "text": [
      "\r",
      " 37%|█████████████████████████████▊                                                  | 183/492 [00:07<00:13, 23.43it/s]"
     ]
    },
    {
     "name": "stdout",
     "output_type": "stream",
     "text": [
      "Saved frame number : 0\n",
      "Saved frame2638.jpg\n",
      "Saved frame number : 0\n",
      "Saved frame2639.jpg\n",
      "Saved frame number : 0\n"
     ]
    },
    {
     "name": "stderr",
     "output_type": "stream",
     "text": [
      "\r",
      " 38%|██████████████████████████████▏                                                 | 186/492 [00:07<00:13, 23.13it/s]"
     ]
    },
    {
     "name": "stdout",
     "output_type": "stream",
     "text": [
      "Saved frame2640.jpg\n",
      "Saved frame number : 0\n",
      "Saved frame2641.jpg\n",
      "Saved frame number : 0\n",
      "Saved frame2642.jpg\n"
     ]
    },
    {
     "name": "stderr",
     "output_type": "stream",
     "text": [
      "\r",
      " 38%|██████████████████████████████▋                                                 | 189/492 [00:08<00:13, 23.03it/s]"
     ]
    },
    {
     "name": "stdout",
     "output_type": "stream",
     "text": [
      "Saved frame number : 0\n",
      "Saved frame2643.jpg\n",
      "Saved frame number : 0\n",
      "Saved frame2644.jpg\n",
      "Saved frame number : 0\n",
      "Saved frame2645.jpg\n",
      "Saved frame number : 0\n",
      "Saved frame2646.jpg\n",
      "Saved frame number : 0\n"
     ]
    },
    {
     "name": "stderr",
     "output_type": "stream",
     "text": [
      "\r",
      " 39%|███████████████████████████████▏                                                | 192/492 [00:08<00:13, 22.39it/s]"
     ]
    },
    {
     "name": "stdout",
     "output_type": "stream",
     "text": [
      "Saved frame2647.jpg\n",
      "Saved frame number : 0\n",
      "Saved frame2648.jpg\n",
      "Saved frame number : 0\n",
      "Saved frame2649.jpg\n",
      "Saved frame number : 0\n"
     ]
    },
    {
     "name": "stderr",
     "output_type": "stream",
     "text": [
      "\r",
      " 40%|███████████████████████████████▋                                                | 195/492 [00:08<00:12, 23.24it/s]"
     ]
    },
    {
     "name": "stdout",
     "output_type": "stream",
     "text": [
      "Saved frame2650.jpg\n",
      "Saved frame number : 0\n",
      "Saved frame2651.jpg\n",
      "Saved frame number : 0\n"
     ]
    },
    {
     "name": "stderr",
     "output_type": "stream",
     "text": [
      "\r",
      " 40%|████████████████████████████████▏                                               | 198/492 [00:08<00:12, 23.21it/s]"
     ]
    },
    {
     "name": "stdout",
     "output_type": "stream",
     "text": [
      "Saved frame2652.jpg\n",
      "Saved frame number : 0\n",
      "Saved frame2653.jpg\n",
      "Saved frame number : 0\n",
      "Saved frame2654.jpg\n",
      "Saved frame number : 0\n"
     ]
    },
    {
     "name": "stderr",
     "output_type": "stream",
     "text": [
      "\r",
      " 41%|████████████████████████████████▋                                               | 201/492 [00:08<00:12, 22.97it/s]"
     ]
    },
    {
     "name": "stdout",
     "output_type": "stream",
     "text": [
      "Saved frame2655.jpg\n",
      "Saved frame number : 0\n",
      "Saved frame2656.jpg\n"
     ]
    },
    {
     "name": "stderr",
     "output_type": "stream",
     "text": [
      "\r",
      " 41%|█████████████████████████████████▏                                              | 204/492 [00:08<00:12, 23.29it/s]"
     ]
    },
    {
     "name": "stdout",
     "output_type": "stream",
     "text": [
      "Saved frame number : 0\n",
      "Saved frame2657.jpg\n",
      "Saved frame number : 0\n",
      "Saved frame2658.jpg\n",
      "Saved frame number : 0\n",
      "Saved frame2659.jpg\n",
      "Saved frame number : 0\n",
      "Saved frame2660.jpg\n",
      "Saved frame number : 0\n",
      "Saved frame2661.jpg\n"
     ]
    },
    {
     "name": "stderr",
     "output_type": "stream",
     "text": [
      "\r",
      " 42%|█████████████████████████████████▋                                              | 207/492 [00:08<00:12, 23.14it/s]"
     ]
    },
    {
     "name": "stdout",
     "output_type": "stream",
     "text": [
      "Saved frame number : 0\n",
      "Saved frame2662.jpg\n",
      "Saved frame number : 0\n",
      "Saved frame2663.jpg\n",
      "Saved frame number : 0\n",
      "Saved frame2664.jpg\n",
      "Saved frame number : 0\n"
     ]
    },
    {
     "name": "stderr",
     "output_type": "stream",
     "text": [
      "\r",
      " 43%|██████████████████████████████████▏                                             | 210/492 [00:08<00:11, 23.80it/s]"
     ]
    },
    {
     "name": "stdout",
     "output_type": "stream",
     "text": [
      "Saved frame2665.jpg\n",
      "Saved frame number : 0\n",
      "Saved frame2666.jpg\n",
      "Saved frame number : 0\n"
     ]
    },
    {
     "name": "stderr",
     "output_type": "stream",
     "text": [
      "\r",
      " 43%|██████████████████████████████████▋                                             | 213/492 [00:09<00:11, 23.71it/s]"
     ]
    },
    {
     "name": "stdout",
     "output_type": "stream",
     "text": [
      "Saved frame2667.jpg\n",
      "Saved frame number : 0\n",
      "Saved frame2668.jpg\n",
      "Saved frame number : 0\n",
      "Saved frame2669.jpg\n"
     ]
    },
    {
     "name": "stderr",
     "output_type": "stream",
     "text": [
      "\r",
      " 44%|███████████████████████████████████                                             | 216/492 [00:09<00:11, 23.53it/s]"
     ]
    },
    {
     "name": "stdout",
     "output_type": "stream",
     "text": [
      "Saved frame number : 0\n",
      "Saved frame2670.jpg\n",
      "Saved frame number : 0\n",
      "Saved frame2671.jpg\n",
      "Saved frame number : 0\n"
     ]
    },
    {
     "name": "stderr",
     "output_type": "stream",
     "text": [
      "\r",
      " 45%|███████████████████████████████████▌                                            | 219/492 [00:09<00:11, 23.69it/s]"
     ]
    },
    {
     "name": "stdout",
     "output_type": "stream",
     "text": [
      "Saved frame2672.jpg\n",
      "Saved frame number : 0\n",
      "Saved frame2673.jpg\n",
      "Saved frame number : 0\n",
      "Saved frame2674.jpg\n"
     ]
    },
    {
     "name": "stderr",
     "output_type": "stream",
     "text": [
      "\r",
      " 45%|████████████████████████████████████                                            | 222/492 [00:09<00:11, 24.54it/s]"
     ]
    },
    {
     "name": "stdout",
     "output_type": "stream",
     "text": [
      "Saved frame number : 0\n",
      "Saved frame2675.jpg\n",
      "Saved frame number : 0\n",
      "Saved frame2676.jpg\n",
      "Saved frame number : 0\n",
      "Saved frame2677.jpg\n",
      "Saved frame number : 0\n",
      "Saved frame2678.jpg\n",
      "Saved frame number : 0\n",
      "Saved frame2679.jpg\n",
      "Saved frame number : 0\n"
     ]
    },
    {
     "name": "stderr",
     "output_type": "stream",
     "text": [
      "\r",
      " 46%|████████████████████████████████████▌                                           | 225/492 [00:09<00:10, 25.13it/s]"
     ]
    },
    {
     "name": "stdout",
     "output_type": "stream",
     "text": [
      "Saved frame2680.jpg\n",
      "Saved frame number : 0\n",
      "Saved frame2681.jpg\n",
      "Saved frame number : 0\n",
      "Saved frame2682.jpg\n",
      "Saved frame number : 0\n"
     ]
    },
    {
     "name": "stderr",
     "output_type": "stream",
     "text": [
      "\r",
      " 46%|█████████████████████████████████████                                           | 228/492 [00:09<00:10, 25.89it/s]"
     ]
    },
    {
     "name": "stdout",
     "output_type": "stream",
     "text": [
      "Saved frame2683.jpg\n",
      "Saved frame number : 0\n",
      "Saved frame2684.jpg\n",
      "Saved frame number : 0\n",
      "Saved frame2685.jpg\n"
     ]
    },
    {
     "name": "stderr",
     "output_type": "stream",
     "text": [
      "\r",
      " 47%|█████████████████████████████████████▌                                          | 231/492 [00:09<00:10, 25.77it/s]"
     ]
    },
    {
     "name": "stdout",
     "output_type": "stream",
     "text": [
      "Saved frame number : 0\n",
      "Saved frame2686.jpg\n",
      "Saved frame number : 0\n",
      "Saved frame2687.jpg\n",
      "Saved frame number : 0\n",
      "Saved frame2688.jpg\n"
     ]
    },
    {
     "name": "stderr",
     "output_type": "stream",
     "text": [
      "\r",
      " 48%|██████████████████████████████████████                                          | 234/492 [00:09<00:09, 25.81it/s]"
     ]
    },
    {
     "name": "stdout",
     "output_type": "stream",
     "text": [
      "Saved frame number : 0\n",
      "Saved frame2689.jpg\n",
      "Saved frame number : 0\n",
      "Saved frame2690.jpg\n",
      "Saved frame number : 0\n"
     ]
    },
    {
     "name": "stderr",
     "output_type": "stream",
     "text": [
      "\r",
      " 48%|██████████████████████████████████████▌                                         | 237/492 [00:10<00:09, 25.79it/s]"
     ]
    },
    {
     "name": "stdout",
     "output_type": "stream",
     "text": [
      "Saved frame2691.jpg\n",
      "Saved frame number : 0\n",
      "Saved frame2692.jpg\n",
      "Saved frame number : 0\n",
      "Saved frame2693.jpg\n",
      "Saved frame number : 0\n"
     ]
    },
    {
     "name": "stderr",
     "output_type": "stream",
     "text": [
      "\r",
      " 49%|███████████████████████████████████████                                         | 240/492 [00:10<00:09, 26.03it/s]"
     ]
    },
    {
     "name": "stdout",
     "output_type": "stream",
     "text": [
      "Saved frame2694.jpg\n",
      "Saved frame number : 0\n",
      "Saved frame2695.jpg\n",
      "Saved frame number : 0\n",
      "Saved frame2696.jpg\n"
     ]
    },
    {
     "name": "stderr",
     "output_type": "stream",
     "text": [
      "\r",
      " 49%|███████████████████████████████████████▌                                        | 243/492 [00:10<00:09, 25.47it/s]"
     ]
    },
    {
     "name": "stdout",
     "output_type": "stream",
     "text": [
      "Saved frame number : 0\n",
      "Saved frame2697.jpg\n",
      "Saved frame number : 0\n",
      "Saved frame2698.jpg\n",
      "Saved frame number : 0\n"
     ]
    },
    {
     "name": "stderr",
     "output_type": "stream",
     "text": [
      "\r",
      " 50%|████████████████████████████████████████                                        | 246/492 [00:10<00:09, 24.97it/s]"
     ]
    },
    {
     "name": "stdout",
     "output_type": "stream",
     "text": [
      "Saved frame2699.jpg\n",
      "Saved frame number : 0\n",
      "Saved frame2700.jpg\n",
      "Saved frame number : 0\n",
      "Saved frame2701.jpg\n",
      "Saved frame number : 0\n",
      "Saved frame2702.jpg\n",
      "Saved frame number : 0\n",
      "Saved frame2703.jpg\n",
      "Saved frame number : 0\n"
     ]
    },
    {
     "name": "stderr",
     "output_type": "stream",
     "text": [
      "\r",
      " 51%|████████████████████████████████████████▍                                       | 249/492 [00:10<00:09, 24.54it/s]"
     ]
    },
    {
     "name": "stdout",
     "output_type": "stream",
     "text": [
      "Saved frame2704.jpg\n",
      "Saved frame number : 0\n",
      "Saved frame2705.jpg\n",
      "Saved frame number : 0\n",
      "Saved frame2706.jpg\n"
     ]
    },
    {
     "name": "stderr",
     "output_type": "stream",
     "text": [
      "\r",
      " 51%|████████████████████████████████████████▉                                       | 252/492 [00:10<00:09, 24.16it/s]"
     ]
    },
    {
     "name": "stdout",
     "output_type": "stream",
     "text": [
      "Saved frame number : 0\n",
      "Saved frame2707.jpg\n",
      "Saved frame number : 0\n",
      "Saved frame2708.jpg\n",
      "Saved frame number : 0\n"
     ]
    },
    {
     "name": "stderr",
     "output_type": "stream",
     "text": [
      "\r",
      " 52%|█████████████████████████████████████████▍                                      | 255/492 [00:10<00:10, 23.34it/s]"
     ]
    },
    {
     "name": "stdout",
     "output_type": "stream",
     "text": [
      "Saved frame2709.jpg\n",
      "Saved frame number : 0\n",
      "Saved frame2710.jpg\n",
      "Saved frame number : 0\n"
     ]
    },
    {
     "name": "stderr",
     "output_type": "stream",
     "text": [
      "\r",
      " 52%|█████████████████████████████████████████▉                                      | 258/492 [00:10<00:10, 22.91it/s]"
     ]
    },
    {
     "name": "stdout",
     "output_type": "stream",
     "text": [
      "Saved frame2711.jpg\n",
      "Saved frame number : 0\n",
      "Saved frame2712.jpg\n",
      "Saved frame number : 0\n",
      "Saved frame2713.jpg\n",
      "Saved frame number : 0\n",
      "Saved frame2714.jpg\n",
      "Saved frame number : 0\n",
      "Saved frame2715.jpg\n"
     ]
    },
    {
     "name": "stderr",
     "output_type": "stream",
     "text": [
      "\r",
      " 53%|██████████████████████████████████████████▍                                     | 261/492 [00:11<00:10, 21.64it/s]"
     ]
    },
    {
     "name": "stdout",
     "output_type": "stream",
     "text": [
      "Saved frame number : 0\n",
      "Saved frame2716.jpg\n",
      "Saved frame number : 0\n",
      "Saved frame2717.jpg\n"
     ]
    },
    {
     "name": "stderr",
     "output_type": "stream",
     "text": [
      "\r",
      " 54%|██████████████████████████████████████████▉                                     | 264/492 [00:11<00:10, 21.18it/s]"
     ]
    },
    {
     "name": "stdout",
     "output_type": "stream",
     "text": [
      "Saved frame number : 0\n",
      "Saved frame2718.jpg\n",
      "Saved frame number : 0\n",
      "Saved frame2719.jpg\n",
      "Saved frame number : 0\n",
      "Saved frame2720.jpg\n",
      "Saved frame number : 0\n",
      "Saved frame2721.jpg\n",
      "Saved frame number : 0\n"
     ]
    },
    {
     "name": "stderr",
     "output_type": "stream",
     "text": [
      "\r",
      " 54%|███████████████████████████████████████████▍                                    | 267/492 [00:11<00:10, 21.27it/s]"
     ]
    },
    {
     "name": "stdout",
     "output_type": "stream",
     "text": [
      "Saved frame2722.jpg\n",
      "Saved frame number : 0\n",
      "Saved frame2723.jpg\n",
      "Saved frame number : 0\n",
      "Saved frame2724.jpg\n",
      "Saved frame number : 0\n"
     ]
    },
    {
     "name": "stderr",
     "output_type": "stream",
     "text": [
      "\r",
      " 55%|███████████████████████████████████████████▉                                    | 270/492 [00:11<00:10, 21.85it/s]"
     ]
    },
    {
     "name": "stdout",
     "output_type": "stream",
     "text": [
      "Saved frame2725.jpg\n",
      "Saved frame number : 0\n",
      "Saved frame2726.jpg\n",
      "Saved frame number : 0\n"
     ]
    },
    {
     "name": "stderr",
     "output_type": "stream",
     "text": [
      "\r",
      " 55%|████████████████████████████████████████████▍                                   | 273/492 [00:11<00:10, 21.32it/s]"
     ]
    },
    {
     "name": "stdout",
     "output_type": "stream",
     "text": [
      "Saved frame2727.jpg\n",
      "Saved frame number : 0\n",
      "Saved frame2728.jpg\n",
      "Saved frame number : 0\n"
     ]
    },
    {
     "name": "stderr",
     "output_type": "stream",
     "text": [
      "\r",
      " 56%|████████████████████████████████████████████▉                                   | 276/492 [00:11<00:10, 21.42it/s]"
     ]
    },
    {
     "name": "stdout",
     "output_type": "stream",
     "text": [
      "Saved frame2729.jpg\n",
      "Saved frame number : 0\n",
      "Saved frame2730.jpg\n",
      "Saved frame number : 0\n",
      "Saved frame2731.jpg\n",
      "Saved frame number : 0\n",
      "Saved frame2732.jpg\n",
      "Saved frame number : 0\n",
      "Saved frame2733.jpg\n"
     ]
    },
    {
     "name": "stderr",
     "output_type": "stream",
     "text": [
      "\r",
      " 57%|█████████████████████████████████████████████▎                                  | 279/492 [00:11<00:09, 21.44it/s]"
     ]
    },
    {
     "name": "stdout",
     "output_type": "stream",
     "text": [
      "Saved frame number : 0\n",
      "Saved frame2734.jpg\n",
      "Saved frame number : 0\n",
      "Saved frame2735.jpg\n",
      "Saved frame number : 0\n"
     ]
    },
    {
     "name": "stderr",
     "output_type": "stream",
     "text": [
      "\r",
      " 57%|█████████████████████████████████████████████▊                                  | 282/492 [00:12<00:09, 22.02it/s]"
     ]
    },
    {
     "name": "stdout",
     "output_type": "stream",
     "text": [
      "Saved frame2736.jpg\n",
      "Saved frame number : 0\n",
      "Saved frame2737.jpg\n",
      "Saved frame number : 0\n",
      "Saved frame2738.jpg\n"
     ]
    },
    {
     "name": "stderr",
     "output_type": "stream",
     "text": [
      "\r",
      " 58%|██████████████████████████████████████████████▎                                 | 285/492 [00:12<00:09, 22.39it/s]"
     ]
    },
    {
     "name": "stdout",
     "output_type": "stream",
     "text": [
      "Saved frame number : 0\n",
      "Saved frame2739.jpg\n",
      "Saved frame number : 0\n",
      "Saved frame2740.jpg\n",
      "Saved frame number : 0\n"
     ]
    },
    {
     "name": "stderr",
     "output_type": "stream",
     "text": [
      "\r",
      " 59%|██████████████████████████████████████████████▊                                 | 288/492 [00:12<00:09, 22.56it/s]"
     ]
    },
    {
     "name": "stdout",
     "output_type": "stream",
     "text": [
      "Saved frame2741.jpg\n",
      "Saved frame number : 0\n",
      "Saved frame2742.jpg\n",
      "Saved frame number : 0\n",
      "Saved frame2743.jpg\n",
      "Saved frame number : 0\n",
      "Saved frame2744.jpg\n",
      "Saved frame number : 0\n",
      "Saved frame2745.jpg\n"
     ]
    },
    {
     "name": "stderr",
     "output_type": "stream",
     "text": [
      "\r",
      " 59%|███████████████████████████████████████████████▎                                | 291/492 [00:12<00:09, 22.08it/s]"
     ]
    },
    {
     "name": "stdout",
     "output_type": "stream",
     "text": [
      "Saved frame number : 0\n",
      "Saved frame2746.jpg\n",
      "Saved frame number : 0\n",
      "Saved frame2747.jpg\n",
      "Saved frame number : 0\n"
     ]
    },
    {
     "name": "stderr",
     "output_type": "stream",
     "text": [
      "\r",
      " 60%|███████████████████████████████████████████████▊                                | 294/492 [00:12<00:08, 22.34it/s]"
     ]
    },
    {
     "name": "stdout",
     "output_type": "stream",
     "text": [
      "Saved frame2748.jpg\n",
      "Saved frame number : 0\n",
      "Saved frame2749.jpg\n",
      "Saved frame number : 0\n"
     ]
    },
    {
     "name": "stderr",
     "output_type": "stream",
     "text": [
      "\r",
      " 60%|████████████████████████████████████████████████▎                               | 297/492 [00:12<00:08, 22.27it/s]"
     ]
    },
    {
     "name": "stdout",
     "output_type": "stream",
     "text": [
      "Saved frame2750.jpg\n",
      "Saved frame number : 0\n",
      "Saved frame2751.jpg\n",
      "Saved frame number : 0\n",
      "Saved frame2752.jpg\n",
      "Saved frame number : 0\n",
      "Saved frame2753.jpg\n",
      "Saved frame number : 0\n",
      "Saved frame2754.jpg\n"
     ]
    },
    {
     "name": "stderr",
     "output_type": "stream",
     "text": [
      "\r",
      " 61%|████████████████████████████████████████████████▊                               | 300/492 [00:12<00:08, 21.70it/s]"
     ]
    },
    {
     "name": "stdout",
     "output_type": "stream",
     "text": [
      "Saved frame number : 0\n",
      "Saved frame2755.jpg\n",
      "Saved frame number : 0\n",
      "Saved frame2756.jpg\n",
      "Saved frame number : 0\n"
     ]
    },
    {
     "name": "stderr",
     "output_type": "stream",
     "text": [
      "\r",
      " 62%|█████████████████████████████████████████████████▎                              | 303/492 [00:13<00:08, 21.63it/s]"
     ]
    },
    {
     "name": "stdout",
     "output_type": "stream",
     "text": [
      "Saved frame2757.jpg\n",
      "Saved frame number : 0\n",
      "Saved frame2758.jpg\n",
      "Saved frame number : 0\n"
     ]
    },
    {
     "name": "stderr",
     "output_type": "stream",
     "text": [
      "\r",
      " 62%|█████████████████████████████████████████████████▊                              | 306/492 [00:13<00:08, 21.64it/s]"
     ]
    },
    {
     "name": "stdout",
     "output_type": "stream",
     "text": [
      "Saved frame2759.jpg\n",
      "Saved frame number : 0\n",
      "Saved frame2760.jpg\n",
      "Saved frame number : 0\n",
      "Saved frame2761.jpg\n",
      "Saved frame number : 0\n",
      "Saved frame2762.jpg\n",
      "Saved frame number : 0\n",
      "Saved frame2763.jpg\n",
      "Saved frame number : 0\n"
     ]
    },
    {
     "name": "stderr",
     "output_type": "stream",
     "text": [
      "\r",
      " 63%|██████████████████████████████████████████████████▏                             | 309/492 [00:13<00:08, 22.21it/s]"
     ]
    },
    {
     "name": "stdout",
     "output_type": "stream",
     "text": [
      "Saved frame2764.jpg\n",
      "Saved frame number : 0\n",
      "Saved frame2765.jpg\n",
      "Saved frame number : 0\n",
      "Saved frame2766.jpg\n",
      "Saved frame number : 0\n"
     ]
    },
    {
     "name": "stderr",
     "output_type": "stream",
     "text": [
      "\r",
      " 63%|██████████████████████████████████████████████████▋                             | 312/492 [00:13<00:07, 22.63it/s]"
     ]
    },
    {
     "name": "stdout",
     "output_type": "stream",
     "text": [
      "Saved frame2767.jpg\n",
      "Saved frame number : 0\n",
      "Saved frame2768.jpg\n",
      "Saved frame number : 0\n"
     ]
    },
    {
     "name": "stderr",
     "output_type": "stream",
     "text": [
      "\r",
      " 64%|███████████████████████████████████████████████████▏                            | 315/492 [00:13<00:07, 22.18it/s]"
     ]
    },
    {
     "name": "stdout",
     "output_type": "stream",
     "text": [
      "Saved frame2769.jpg\n",
      "Saved frame number : 0\n",
      "Saved frame2770.jpg\n",
      "Saved frame number : 0\n",
      "Saved frame2771.jpg\n"
     ]
    },
    {
     "name": "stderr",
     "output_type": "stream",
     "text": [
      "\r",
      " 65%|███████████████████████████████████████████████████▋                            | 318/492 [00:13<00:07, 22.26it/s]"
     ]
    },
    {
     "name": "stdout",
     "output_type": "stream",
     "text": [
      "Saved frame number : 0\n",
      "Saved frame2772.jpg\n",
      "Saved frame number : 0\n",
      "Saved frame2773.jpg\n"
     ]
    },
    {
     "name": "stderr",
     "output_type": "stream",
     "text": [
      "\r",
      " 65%|████████████████████████████████████████████████████▏                           | 321/492 [00:13<00:07, 22.36it/s]"
     ]
    },
    {
     "name": "stdout",
     "output_type": "stream",
     "text": [
      "Saved frame number : 0\n",
      "Saved frame2774.jpg\n",
      "Saved frame number : 0\n",
      "Saved frame2775.jpg\n",
      "Saved frame number : 0\n",
      "Saved frame2776.jpg\n",
      "Saved frame number : 0\n",
      "Saved frame2777.jpg\n",
      "Saved frame number : 0\n"
     ]
    },
    {
     "name": "stderr",
     "output_type": "stream",
     "text": [
      "\r",
      " 66%|████████████████████████████████████████████████████▋                           | 324/492 [00:13<00:07, 22.59it/s]"
     ]
    },
    {
     "name": "stdout",
     "output_type": "stream",
     "text": [
      "Saved frame2778.jpg\n",
      "Saved frame number : 0\n",
      "Saved frame2779.jpg\n",
      "Saved frame number : 0\n",
      "Saved frame2780.jpg\n",
      "Saved frame number : 0\n",
      "Saved frame2781.jpg\n"
     ]
    },
    {
     "name": "stderr",
     "output_type": "stream",
     "text": [
      "\r",
      " 66%|█████████████████████████████████████████████████████▏                          | 327/492 [00:14<00:07, 23.12it/s]"
     ]
    },
    {
     "name": "stdout",
     "output_type": "stream",
     "text": [
      "Saved frame number : 0\n",
      "Saved frame2782.jpg\n",
      "Saved frame number : 0\n"
     ]
    },
    {
     "name": "stderr",
     "output_type": "stream",
     "text": [
      "\r",
      " 67%|█████████████████████████████████████████████████████▋                          | 330/492 [00:14<00:06, 23.18it/s]"
     ]
    },
    {
     "name": "stdout",
     "output_type": "stream",
     "text": [
      "Saved frame2783.jpg\n",
      "Saved frame number : 0\n",
      "Saved frame2784.jpg\n",
      "Saved frame number : 0\n",
      "Saved frame2785.jpg\n",
      "Saved frame number : 0\n",
      "Saved frame2786.jpg\n",
      "Saved frame number : 0\n",
      "Saved frame2787.jpg\n",
      "Saved frame number : 0\n"
     ]
    },
    {
     "name": "stderr",
     "output_type": "stream",
     "text": [
      " 68%|██████████████████████████████████████████████████████▋                         | 336/492 [00:14<00:06, 23.13it/s]"
     ]
    },
    {
     "name": "stdout",
     "output_type": "stream",
     "text": [
      "Saved frame2788.jpg\n",
      "Saved frame number : 0\n",
      "Saved frame2789.jpg\n",
      "Saved frame number : 0\n",
      "Saved frame2790.jpg\n",
      "Saved frame number : 0\n",
      "Saved frame2791.jpg\n",
      "Saved frame number : 0\n",
      "Saved frame2792.jpg\n",
      "Saved frame number : 0\n"
     ]
    },
    {
     "name": "stderr",
     "output_type": "stream",
     "text": [
      "\r",
      " 69%|███████████████████████████████████████████████████████                         | 339/492 [00:14<00:06, 22.98it/s]"
     ]
    },
    {
     "name": "stdout",
     "output_type": "stream",
     "text": [
      "Saved frame2793.jpg\n",
      "Saved frame number : 0\n",
      "Saved frame2794.jpg\n",
      "Saved frame number : 0\n",
      "Saved frame2795.jpg\n",
      "Saved frame number : 0\n",
      "Saved frame2796.jpg\n"
     ]
    },
    {
     "name": "stderr",
     "output_type": "stream",
     "text": [
      "\r",
      " 70%|███████████████████████████████████████████████████████▌                        | 342/492 [00:14<00:06, 22.71it/s]"
     ]
    },
    {
     "name": "stdout",
     "output_type": "stream",
     "text": [
      "Saved frame number : 0\n",
      "Saved frame2797.jpg\n"
     ]
    },
    {
     "name": "stderr",
     "output_type": "stream",
     "text": [
      "\r",
      " 70%|████████████████████████████████████████████████████████                        | 345/492 [00:14<00:06, 22.43it/s]"
     ]
    },
    {
     "name": "stdout",
     "output_type": "stream",
     "text": [
      "Saved frame number : 0\n",
      "Saved frame2798.jpg\n",
      "Saved frame number : 0\n",
      "Saved frame2799.jpg\n",
      "Saved frame number : 0\n",
      "Saved frame2800.jpg\n",
      "Saved frame number : 0\n",
      "Saved frame2801.jpg\n",
      "Saved frame number : 0\n"
     ]
    },
    {
     "name": "stderr",
     "output_type": "stream",
     "text": [
      "\r",
      " 71%|████████████████████████████████████████████████████████▌                       | 348/492 [00:15<00:06, 21.90it/s]"
     ]
    },
    {
     "name": "stdout",
     "output_type": "stream",
     "text": [
      "Saved frame2802.jpg\n",
      "Saved frame number : 0\n",
      "Saved frame2803.jpg\n",
      "Saved frame number : 0\n",
      "Saved frame2804.jpg\n",
      "Saved frame number : 0\n",
      "Saved frame2805.jpg\n",
      "Saved frame number : 0\n"
     ]
    },
    {
     "name": "stderr",
     "output_type": "stream",
     "text": [
      "\r",
      " 71%|█████████████████████████████████████████████████████████                       | 351/492 [00:15<00:06, 22.86it/s]"
     ]
    },
    {
     "name": "stdout",
     "output_type": "stream",
     "text": [
      "Saved frame2806.jpg\n",
      "Saved frame number : 0\n"
     ]
    },
    {
     "name": "stderr",
     "output_type": "stream",
     "text": [
      "\r",
      " 72%|█████████████████████████████████████████████████████████▌                      | 354/492 [00:15<00:05, 23.32it/s]"
     ]
    },
    {
     "name": "stdout",
     "output_type": "stream",
     "text": [
      "Saved frame2807.jpg\n",
      "Saved frame number : 0\n",
      "Saved frame2808.jpg\n",
      "Saved frame number : 0\n",
      "Saved frame2809.jpg\n",
      "Saved frame number : 0\n",
      "Saved frame2810.jpg\n",
      "Saved frame number : 0\n",
      "Saved frame2811.jpg\n",
      "Saved frame number : 0\n"
     ]
    },
    {
     "name": "stderr",
     "output_type": "stream",
     "text": [
      " 73%|██████████████████████████████████████████████████████████▌                     | 360/492 [00:15<00:05, 24.11it/s]"
     ]
    },
    {
     "name": "stdout",
     "output_type": "stream",
     "text": [
      "Saved frame2812.jpg\n",
      "Saved frame number : 0\n",
      "Saved frame2813.jpg\n",
      "Saved frame number : 0\n",
      "Saved frame2814.jpg\n",
      "Saved frame number : 0\n",
      "Saved frame2815.jpg\n",
      "Saved frame number : 0\n",
      "Saved frame2816.jpg\n",
      "Saved frame number : 0\n"
     ]
    },
    {
     "name": "stderr",
     "output_type": "stream",
     "text": [
      "\r",
      " 74%|███████████████████████████████████████████████████████████                     | 363/492 [00:15<00:05, 22.89it/s]"
     ]
    },
    {
     "name": "stdout",
     "output_type": "stream",
     "text": [
      "Saved frame2817.jpg\n",
      "Saved frame number : 0\n",
      "Saved frame2818.jpg\n",
      "Saved frame number : 0\n",
      "Saved frame2819.jpg\n",
      "Saved frame number : 0\n",
      "Saved frame2820.jpg\n"
     ]
    },
    {
     "name": "stderr",
     "output_type": "stream",
     "text": [
      "\r",
      " 74%|███████████████████████████████████████████████████████████▌                    | 366/492 [00:15<00:05, 22.25it/s]"
     ]
    },
    {
     "name": "stdout",
     "output_type": "stream",
     "text": [
      "Saved frame number : 0\n",
      "Saved frame2821.jpg\n"
     ]
    },
    {
     "name": "stderr",
     "output_type": "stream",
     "text": [
      "\r",
      " 75%|████████████████████████████████████████████████████████████                    | 369/492 [00:15<00:05, 22.06it/s]"
     ]
    },
    {
     "name": "stdout",
     "output_type": "stream",
     "text": [
      "Saved frame number : 0\n",
      "Saved frame2822.jpg\n",
      "Saved frame number : 0\n",
      "Saved frame2823.jpg\n",
      "Saved frame number : 0\n",
      "Saved frame2824.jpg\n",
      "Saved frame number : 0\n",
      "Saved frame2825.jpg\n",
      "Saved frame number : 0\n"
     ]
    },
    {
     "name": "stderr",
     "output_type": "stream",
     "text": [
      "\r",
      " 76%|████████████████████████████████████████████████████████████▍                   | 372/492 [00:16<00:05, 21.65it/s]"
     ]
    },
    {
     "name": "stdout",
     "output_type": "stream",
     "text": [
      "Saved frame2826.jpg\n",
      "Saved frame number : 0\n",
      "Saved frame2827.jpg\n",
      "Saved frame number : 0\n",
      "Saved frame2828.jpg\n",
      "Saved frame number : 0\n",
      "Saved frame2829.jpg\n"
     ]
    },
    {
     "name": "stderr",
     "output_type": "stream",
     "text": [
      "\r",
      " 76%|████████████████████████████████████████████████████████████▉                   | 375/492 [00:16<00:05, 21.84it/s]"
     ]
    },
    {
     "name": "stdout",
     "output_type": "stream",
     "text": [
      "Saved frame number : 0\n",
      "Saved frame2830.jpg\n",
      "Saved frame number : 0\n"
     ]
    },
    {
     "name": "stderr",
     "output_type": "stream",
     "text": [
      "\r",
      " 77%|█████████████████████████████████████████████████████████████▍                  | 378/492 [00:16<00:05, 22.31it/s]"
     ]
    },
    {
     "name": "stdout",
     "output_type": "stream",
     "text": [
      "Saved frame2831.jpg\n",
      "Saved frame number : 0\n",
      "Saved frame2832.jpg\n",
      "Saved frame number : 0\n",
      "Saved frame2833.jpg\n",
      "Saved frame number : 0\n",
      "Saved frame2834.jpg\n",
      "Saved frame number : 0\n",
      "Saved frame2835.jpg\n"
     ]
    },
    {
     "name": "stderr",
     "output_type": "stream",
     "text": [
      " 78%|██████████████████████████████████████████████████████████████▍                 | 384/492 [00:16<00:04, 22.36it/s]"
     ]
    },
    {
     "name": "stdout",
     "output_type": "stream",
     "text": [
      "Saved frame number : 0\n",
      "Saved frame2836.jpg\n",
      "Saved frame number : 0\n",
      "Saved frame2837.jpg\n",
      "Saved frame number : 0\n",
      "Saved frame2838.jpg\n",
      "Saved frame number : 0\n",
      "Saved frame2839.jpg\n",
      "Saved frame number : 0\n",
      "Saved frame2840.jpg\n"
     ]
    },
    {
     "name": "stderr",
     "output_type": "stream",
     "text": [
      "\r",
      " 79%|██████████████████████████████████████████████████████████████▉                 | 387/492 [00:16<00:04, 21.48it/s]"
     ]
    },
    {
     "name": "stdout",
     "output_type": "stream",
     "text": [
      "Saved frame number : 0\n",
      "Saved frame2841.jpg\n",
      "Saved frame number : 0\n",
      "Saved frame2842.jpg\n",
      "Saved frame number : 0\n",
      "Saved frame2843.jpg\n",
      "Saved frame number : 0\n",
      "Saved frame2844.jpg\n",
      "Saved frame number : 0\n"
     ]
    },
    {
     "name": "stderr",
     "output_type": "stream",
     "text": [
      " 80%|███████████████████████████████████████████████████████████████▉                | 393/492 [00:17<00:04, 21.95it/s]"
     ]
    },
    {
     "name": "stdout",
     "output_type": "stream",
     "text": [
      "Saved frame2845.jpg\n",
      "Saved frame number : 0\n",
      "Saved frame2846.jpg\n",
      "Saved frame number : 0\n",
      "Saved frame2847.jpg\n",
      "Saved frame number : 0\n",
      "Saved frame2848.jpg\n",
      "Saved frame number : 0\n",
      "Saved frame2849.jpg\n"
     ]
    },
    {
     "name": "stderr",
     "output_type": "stream",
     "text": [
      "\r",
      " 80%|████████████████████████████████████████████████████████████████▍               | 396/492 [00:17<00:04, 20.60it/s]"
     ]
    },
    {
     "name": "stdout",
     "output_type": "stream",
     "text": [
      "Saved frame number : 0\n",
      "Saved frame2850.jpg\n",
      "Saved frame number : 0\n",
      "Saved frame2851.jpg\n",
      "Saved frame number : 0\n",
      "Saved frame2852.jpg\n",
      "Saved frame number : 0\n"
     ]
    },
    {
     "name": "stderr",
     "output_type": "stream",
     "text": [
      "\r",
      " 81%|████████████████████████████████████████████████████████████████▉               | 399/492 [00:17<00:04, 21.53it/s]"
     ]
    },
    {
     "name": "stdout",
     "output_type": "stream",
     "text": [
      "Saved frame2853.jpg\n",
      "Saved frame number : 0\n",
      "Saved frame2854.jpg\n"
     ]
    },
    {
     "name": "stderr",
     "output_type": "stream",
     "text": [
      "\r",
      " 82%|█████████████████████████████████████████████████████████████████▎              | 402/492 [00:17<00:04, 22.04it/s]"
     ]
    },
    {
     "name": "stdout",
     "output_type": "stream",
     "text": [
      "Saved frame number : 0\n",
      "Saved frame2855.jpg\n",
      "Saved frame number : 0\n",
      "Saved frame2856.jpg\n",
      "Saved frame number : 0\n",
      "Saved frame2857.jpg\n",
      "Saved frame number : 0\n",
      "Saved frame2858.jpg\n",
      "Saved frame number : 0\n"
     ]
    },
    {
     "name": "stderr",
     "output_type": "stream",
     "text": [
      "\r",
      " 82%|█████████████████████████████████████████████████████████████████▊              | 405/492 [00:17<00:03, 22.01it/s]"
     ]
    },
    {
     "name": "stdout",
     "output_type": "stream",
     "text": [
      "Saved frame2859.jpg\n",
      "Saved frame number : 0\n",
      "Saved frame2860.jpg\n",
      "Saved frame number : 0\n",
      "Saved frame2861.jpg\n",
      "Saved frame number : 0\n",
      "Saved frame2862.jpg\n",
      "Saved frame number : 0\n"
     ]
    },
    {
     "name": "stderr",
     "output_type": "stream",
     "text": [
      "\r",
      " 83%|██████████████████████████████████████████████████████████████████▎             | 408/492 [00:17<00:03, 22.80it/s]"
     ]
    },
    {
     "name": "stdout",
     "output_type": "stream",
     "text": [
      "Saved frame2863.jpg\n",
      "Saved frame number : 0\n"
     ]
    },
    {
     "name": "stderr",
     "output_type": "stream",
     "text": [
      "\r",
      " 84%|██████████████████████████████████████████████████████████████████▊             | 411/492 [00:17<00:03, 22.85it/s]"
     ]
    },
    {
     "name": "stdout",
     "output_type": "stream",
     "text": [
      "Saved frame2864.jpg\n",
      "Saved frame number : 0\n",
      "Saved frame2865.jpg\n",
      "Saved frame number : 0\n",
      "Saved frame2866.jpg\n",
      "Saved frame number : 0\n",
      "Saved frame2867.jpg\n",
      "Saved frame number : 0\n",
      "Saved frame2868.jpg\n",
      "Saved frame number : 0\n"
     ]
    },
    {
     "name": "stderr",
     "output_type": "stream",
     "text": [
      " 85%|███████████████████████████████████████████████████████████████████▊            | 417/492 [00:18<00:03, 22.81it/s]"
     ]
    },
    {
     "name": "stdout",
     "output_type": "stream",
     "text": [
      "Saved frame2869.jpg\n",
      "Saved frame number : 0\n",
      "Saved frame2870.jpg\n",
      "Saved frame number : 0\n",
      "Saved frame2871.jpg\n",
      "Saved frame number : 0\n",
      "Saved frame2872.jpg\n",
      "Saved frame number : 0\n",
      "Saved frame2873.jpg\n"
     ]
    },
    {
     "name": "stderr",
     "output_type": "stream",
     "text": [
      "\r",
      " 85%|████████████████████████████████████████████████████████████████████▎           | 420/492 [00:18<00:03, 22.80it/s]"
     ]
    },
    {
     "name": "stdout",
     "output_type": "stream",
     "text": [
      "Saved frame number : 0\n",
      "Saved frame2874.jpg\n",
      "Saved frame number : 0\n",
      "Saved frame2875.jpg\n",
      "Saved frame number : 0\n",
      "Saved frame2876.jpg\n",
      "Saved frame number : 0\n",
      "Saved frame2877.jpg\n"
     ]
    },
    {
     "name": "stderr",
     "output_type": "stream",
     "text": [
      "\r",
      " 86%|████████████████████████████████████████████████████████████████████▊           | 423/492 [00:18<00:03, 22.96it/s]"
     ]
    },
    {
     "name": "stdout",
     "output_type": "stream",
     "text": [
      "Saved frame number : 0\n",
      "Saved frame2878.jpg\n"
     ]
    },
    {
     "name": "stderr",
     "output_type": "stream",
     "text": [
      "\r",
      " 87%|█████████████████████████████████████████████████████████████████████▎          | 426/492 [00:18<00:02, 22.75it/s]"
     ]
    },
    {
     "name": "stdout",
     "output_type": "stream",
     "text": [
      "Saved frame number : 0\n",
      "Saved frame2879.jpg\n",
      "Saved frame number : 0\n",
      "Saved frame2880.jpg\n",
      "Saved frame number : 0\n",
      "Saved frame2881.jpg\n",
      "Saved frame number : 0\n",
      "Saved frame2882.jpg\n",
      "Saved frame number : 0\n",
      "Saved frame2883.jpg\n"
     ]
    },
    {
     "name": "stderr",
     "output_type": "stream",
     "text": [
      "\r",
      " 87%|█████████████████████████████████████████████████████████████████████▊          | 429/492 [00:18<00:02, 22.56it/s]"
     ]
    },
    {
     "name": "stdout",
     "output_type": "stream",
     "text": [
      "Saved frame number : 0\n",
      "Saved frame2884.jpg\n",
      "Saved frame number : 0\n",
      "Saved frame2885.jpg\n",
      "Saved frame number : 0\n",
      "Saved frame2886.jpg\n",
      "Saved frame number : 0\n"
     ]
    },
    {
     "name": "stderr",
     "output_type": "stream",
     "text": [
      "\r",
      " 88%|██████████████████████████████████████████████████████████████████████▏         | 432/492 [00:18<00:02, 23.10it/s]"
     ]
    },
    {
     "name": "stdout",
     "output_type": "stream",
     "text": [
      "Saved frame2887.jpg\n",
      "Saved frame number : 0\n",
      "Saved frame2888.jpg\n"
     ]
    },
    {
     "name": "stderr",
     "output_type": "stream",
     "text": [
      "\r",
      " 88%|██████████████████████████████████████████████████████████████████████▋         | 435/492 [00:18<00:02, 22.54it/s]"
     ]
    },
    {
     "name": "stdout",
     "output_type": "stream",
     "text": [
      "Saved frame number : 0\n",
      "Saved frame2889.jpg\n",
      "Saved frame number : 0\n",
      "Saved frame2890.jpg\n",
      "Saved frame number : 0\n",
      "Saved frame2891.jpg\n"
     ]
    },
    {
     "name": "stderr",
     "output_type": "stream",
     "text": [
      "\r",
      " 89%|███████████████████████████████████████████████████████████████████████▏        | 438/492 [00:19<00:02, 23.13it/s]"
     ]
    },
    {
     "name": "stdout",
     "output_type": "stream",
     "text": [
      "Saved frame number : 0\n",
      "Saved frame2892.jpg\n",
      "Saved frame number : 0\n",
      "Saved frame2893.jpg\n"
     ]
    },
    {
     "name": "stderr",
     "output_type": "stream",
     "text": [
      "\r",
      " 90%|███████████████████████████████████████████████████████████████████████▋        | 441/492 [00:19<00:02, 23.08it/s]"
     ]
    },
    {
     "name": "stdout",
     "output_type": "stream",
     "text": [
      "Saved frame number : 0\n",
      "Saved frame2894.jpg\n",
      "Saved frame number : 0\n",
      "Saved frame2895.jpg\n",
      "Saved frame number : 0\n",
      "Saved frame2896.jpg\n",
      "Saved frame number : 0\n",
      "Saved frame2897.jpg\n",
      "Saved frame number : 0\n",
      "Saved frame2898.jpg\n"
     ]
    },
    {
     "name": "stderr",
     "output_type": "stream",
     "text": [
      "\r",
      " 90%|████████████████████████████████████████████████████████████████████████▏       | 444/492 [00:19<00:02, 22.99it/s]"
     ]
    },
    {
     "name": "stdout",
     "output_type": "stream",
     "text": [
      "Saved frame number : 0\n",
      "Saved frame2899.jpg\n",
      "Saved frame number : 0\n",
      "Saved frame2900.jpg\n",
      "Saved frame number : 0\n",
      "Saved frame2901.jpg\n"
     ]
    },
    {
     "name": "stderr",
     "output_type": "stream",
     "text": [
      "\r",
      " 91%|████████████████████████████████████████████████████████████████████████▋       | 447/492 [00:19<00:01, 22.98it/s]"
     ]
    },
    {
     "name": "stdout",
     "output_type": "stream",
     "text": [
      "Saved frame number : 0\n",
      "Saved frame2902.jpg\n",
      "Saved frame number : 0\n",
      "Saved frame2903.jpg\n"
     ]
    },
    {
     "name": "stderr",
     "output_type": "stream",
     "text": [
      "\r",
      " 91%|█████████████████████████████████████████████████████████████████████████▏      | 450/492 [00:19<00:01, 21.97it/s]"
     ]
    },
    {
     "name": "stdout",
     "output_type": "stream",
     "text": [
      "Saved frame number : 0\n",
      "Saved frame2904.jpg\n",
      "Saved frame number : 0\n",
      "Saved frame2905.jpg\n",
      "Saved frame number : 0\n",
      "Saved frame2906.jpg\n",
      "Saved frame number : 0\n",
      "Saved frame2907.jpg\n"
     ]
    },
    {
     "name": "stderr",
     "output_type": "stream",
     "text": [
      "\r",
      " 92%|█████████████████████████████████████████████████████████████████████████▋      | 453/492 [00:19<00:01, 21.18it/s]"
     ]
    },
    {
     "name": "stdout",
     "output_type": "stream",
     "text": [
      "Saved frame number : 0\n",
      "Saved frame2908.jpg\n",
      "Saved frame number : 0\n",
      "Saved frame2909.jpg\n",
      "Saved frame number : 0\n",
      "Saved frame2910.jpg\n"
     ]
    },
    {
     "name": "stderr",
     "output_type": "stream",
     "text": [
      "\r",
      " 93%|██████████████████████████████████████████████████████████████████████████▏     | 456/492 [00:19<00:01, 21.92it/s]"
     ]
    },
    {
     "name": "stdout",
     "output_type": "stream",
     "text": [
      "Saved frame number : 0\n",
      "Saved frame2911.jpg\n",
      "Saved frame number : 0\n",
      "Saved frame2912.jpg\n"
     ]
    },
    {
     "name": "stderr",
     "output_type": "stream",
     "text": [
      "\r",
      " 93%|██████████████████████████████████████████████████████████████████████████▋     | 459/492 [00:20<00:01, 20.75it/s]"
     ]
    },
    {
     "name": "stdout",
     "output_type": "stream",
     "text": [
      "Saved frame number : 0\n",
      "Saved frame2913.jpg\n",
      "Saved frame number : 0\n",
      "Saved frame2914.jpg\n",
      "Saved frame number : 0\n",
      "Saved frame2915.jpg\n",
      "Saved frame number : 0\n",
      "Saved frame2916.jpg\n"
     ]
    },
    {
     "name": "stderr",
     "output_type": "stream",
     "text": [
      "\r",
      " 94%|███████████████████████████████████████████████████████████████████████████     | 462/492 [00:20<00:01, 20.00it/s]"
     ]
    },
    {
     "name": "stdout",
     "output_type": "stream",
     "text": [
      "Saved frame number : 0\n",
      "Saved frame2917.jpg\n",
      "Saved frame number : 0\n",
      "Saved frame2918.jpg\n",
      "Saved frame number : 0\n"
     ]
    },
    {
     "name": "stderr",
     "output_type": "stream",
     "text": [
      "\r",
      " 95%|███████████████████████████████████████████████████████████████████████████▌    | 465/492 [00:20<00:01, 20.02it/s]"
     ]
    },
    {
     "name": "stdout",
     "output_type": "stream",
     "text": [
      "Saved frame2919.jpg\n",
      "Saved frame number : 0\n",
      "Saved frame2920.jpg\n",
      "Saved frame number : 0\n",
      "Saved frame2921.jpg\n",
      "Saved frame number : 0\n",
      "Saved frame2922.jpg\n",
      "Saved frame number : 0\n"
     ]
    },
    {
     "name": "stderr",
     "output_type": "stream",
     "text": [
      "\r",
      " 95%|████████████████████████████████████████████████████████████████████████████    | 468/492 [00:20<00:01, 19.95it/s]"
     ]
    },
    {
     "name": "stdout",
     "output_type": "stream",
     "text": [
      "Saved frame2923.jpg\n",
      "Saved frame number : 0\n",
      "Saved frame2924.jpg\n",
      "Saved frame number : 0\n"
     ]
    },
    {
     "name": "stderr",
     "output_type": "stream",
     "text": [
      "\r",
      " 96%|████████████████████████████████████████████████████████████████████████████▌   | 471/492 [00:20<00:01, 20.39it/s]"
     ]
    },
    {
     "name": "stdout",
     "output_type": "stream",
     "text": [
      "Saved frame2925.jpg\n",
      "Saved frame number : 0\n",
      "Saved frame2926.jpg\n",
      "Saved frame number : 0\n",
      "Saved frame2927.jpg\n"
     ]
    },
    {
     "name": "stderr",
     "output_type": "stream",
     "text": [
      "\r",
      " 96%|█████████████████████████████████████████████████████████████████████████████   | 474/492 [00:20<00:00, 21.14it/s]"
     ]
    },
    {
     "name": "stdout",
     "output_type": "stream",
     "text": [
      "Saved frame number : 0\n",
      "Saved frame2928.jpg\n",
      "Saved frame number : 0\n",
      "Saved frame2929.jpg\n",
      "Saved frame number : 0\n",
      "Saved frame2930.jpg\n",
      "Saved frame number : 0\n",
      "Saved frame2931.jpg\n",
      "Saved frame number : 0\n"
     ]
    },
    {
     "name": "stderr",
     "output_type": "stream",
     "text": [
      "\r",
      " 97%|█████████████████████████████████████████████████████████████████████████████▌  | 477/492 [00:20<00:00, 21.29it/s]"
     ]
    },
    {
     "name": "stdout",
     "output_type": "stream",
     "text": [
      "Saved frame2932.jpg\n",
      "Saved frame number : 0\n",
      "Saved frame2933.jpg\n",
      "Saved frame number : 0\n",
      "Saved frame2934.jpg\n"
     ]
    },
    {
     "name": "stderr",
     "output_type": "stream",
     "text": [
      "\r",
      " 98%|██████████████████████████████████████████████████████████████████████████████  | 480/492 [00:21<00:00, 21.03it/s]"
     ]
    },
    {
     "name": "stdout",
     "output_type": "stream",
     "text": [
      "Saved frame number : 0\n",
      "Saved frame2935.jpg\n",
      "Saved frame number : 0\n",
      "Saved frame2936.jpg\n"
     ]
    },
    {
     "name": "stderr",
     "output_type": "stream",
     "text": [
      "\r",
      " 98%|██████████████████████████████████████████████████████████████████████████████▌ | 483/492 [00:21<00:00, 20.82it/s]"
     ]
    },
    {
     "name": "stdout",
     "output_type": "stream",
     "text": [
      "Saved frame number : 0\n",
      "Saved frame2937.jpg\n",
      "Saved frame number : 0\n",
      "Saved frame2938.jpg\n",
      "Saved frame number : 0\n",
      "Saved frame2939.jpg\n",
      "Saved frame number : 0\n",
      "Saved frame2940.jpg\n",
      "Saved frame number : 0\n"
     ]
    },
    {
     "name": "stderr",
     "output_type": "stream",
     "text": [
      "\r",
      " 99%|███████████████████████████████████████████████████████████████████████████████ | 486/492 [00:21<00:00, 21.06it/s]"
     ]
    },
    {
     "name": "stdout",
     "output_type": "stream",
     "text": [
      "Saved frame2941.jpg\n",
      "Saved frame number : 0\n",
      "Saved frame2942.jpg\n",
      "Saved frame number : 0\n",
      "Saved frame2943.jpg\n"
     ]
    },
    {
     "name": "stderr",
     "output_type": "stream",
     "text": [
      "\r",
      " 99%|███████████████████████████████████████████████████████████████████████████████▌| 489/492 [00:21<00:00, 20.16it/s]"
     ]
    },
    {
     "name": "stdout",
     "output_type": "stream",
     "text": [
      "Saved frame number : 0\n",
      "Saved frame2944.jpg\n",
      "Saved frame number : 0\n"
     ]
    },
    {
     "name": "stderr",
     "output_type": "stream",
     "text": [
      "100%|████████████████████████████████████████████████████████████████████████████████| 492/492 [00:21<00:00, 22.76it/s]\n"
     ]
    },
    {
     "name": "stdout",
     "output_type": "stream",
     "text": [
      "Saved frame2945.jpg\n",
      "Saved frame number : 0\n",
      "Saved frame2946.jpg\n",
      "Saved frame number : 0\n",
      "Saved frame2947.jpg\n",
      "Iterating: 6 folder\n"
     ]
    },
    {
     "name": "stderr",
     "output_type": "stream",
     "text": [
      "\r",
      "  0%|                                                                                          | 0/492 [00:00<?, ?it/s]"
     ]
    },
    {
     "name": "stdout",
     "output_type": "stream",
     "text": [
      "Saved frame number : 0\n",
      "Saved frame2948.jpg\n",
      "Saved frame number : 0\n"
     ]
    },
    {
     "name": "stderr",
     "output_type": "stream",
     "text": [
      "\r",
      "  1%|▌                                                                                 | 3/492 [00:00<00:20, 24.06it/s]"
     ]
    },
    {
     "name": "stdout",
     "output_type": "stream",
     "text": [
      "Saved frame2949.jpg\n",
      "Saved frame number : 0\n",
      "Saved frame2950.jpg\n",
      "Saved frame number : 0\n",
      "Saved frame2951.jpg\n",
      "Saved frame number : 0\n",
      "Saved frame2952.jpg\n",
      "Saved frame number : 0\n"
     ]
    },
    {
     "name": "stderr",
     "output_type": "stream",
     "text": [
      "\r",
      "  1%|█                                                                                 | 6/492 [00:00<00:20, 23.62it/s]"
     ]
    },
    {
     "name": "stdout",
     "output_type": "stream",
     "text": [
      "Saved frame2953.jpg\n",
      "Saved frame number : 0\n"
     ]
    },
    {
     "name": "stderr",
     "output_type": "stream",
     "text": [
      "\r",
      "  2%|█▌                                                                                | 9/492 [00:00<00:20, 23.82it/s]"
     ]
    },
    {
     "name": "stdout",
     "output_type": "stream",
     "text": [
      "Saved frame2954.jpg\n",
      "Saved frame number : 0\n",
      "Saved frame2955.jpg\n",
      "Saved frame number : 0\n",
      "Saved frame2956.jpg\n",
      "Saved frame number : 0\n",
      "Saved frame2957.jpg\n",
      "Saved frame number : 0\n",
      "Saved frame2958.jpg\n",
      "Saved frame number : 0\n"
     ]
    },
    {
     "name": "stderr",
     "output_type": "stream",
     "text": [
      "  3%|██▍                                                                              | 15/492 [00:00<00:19, 24.29it/s]"
     ]
    },
    {
     "name": "stdout",
     "output_type": "stream",
     "text": [
      "Saved frame2959.jpg\n",
      "Saved frame number : 0\n",
      "Saved frame2960.jpg\n",
      "Saved frame number : 0\n",
      "Saved frame2961.jpg\n",
      "Saved frame number : 0\n",
      "Saved frame2962.jpg\n",
      "Saved frame number : 0\n",
      "Saved frame2963.jpg\n",
      "Saved frame number : 0\n",
      "Saved frame2964.jpg\n"
     ]
    },
    {
     "name": "stderr",
     "output_type": "stream",
     "text": [
      "\r",
      "  4%|██▉                                                                              | 18/492 [00:00<00:19, 24.55it/s]"
     ]
    },
    {
     "name": "stdout",
     "output_type": "stream",
     "text": [
      "Saved frame number : 0\n",
      "Saved frame2965.jpg\n",
      "Saved frame number : 0\n",
      "Saved frame2966.jpg\n",
      "Saved frame number : 0\n",
      "Saved frame2967.jpg\n",
      "Saved frame number : 0\n"
     ]
    },
    {
     "name": "stderr",
     "output_type": "stream",
     "text": [
      "\r",
      "  4%|███▍                                                                             | 21/492 [00:00<00:19, 24.65it/s]"
     ]
    },
    {
     "name": "stdout",
     "output_type": "stream",
     "text": [
      "Saved frame2968.jpg\n",
      "Saved frame number : 0\n",
      "Saved frame2969.jpg\n"
     ]
    },
    {
     "name": "stderr",
     "output_type": "stream",
     "text": [
      "\r",
      "  5%|███▉                                                                             | 24/492 [00:00<00:19, 24.03it/s]"
     ]
    },
    {
     "name": "stdout",
     "output_type": "stream",
     "text": [
      "Saved frame number : 0\n",
      "Saved frame2970.jpg\n",
      "Saved frame number : 0\n",
      "Saved frame2971.jpg\n",
      "Saved frame number : 0\n",
      "Saved frame2972.jpg\n",
      "Saved frame number : 0\n"
     ]
    },
    {
     "name": "stderr",
     "output_type": "stream",
     "text": [
      "\r",
      "  5%|████▍                                                                            | 27/492 [00:01<00:19, 24.47it/s]"
     ]
    },
    {
     "name": "stdout",
     "output_type": "stream",
     "text": [
      "Saved frame2973.jpg\n",
      "Saved frame number : 0\n",
      "Saved frame2974.jpg\n"
     ]
    },
    {
     "name": "stderr",
     "output_type": "stream",
     "text": [
      "\r",
      "  6%|████▉                                                                            | 30/492 [00:01<00:18, 24.96it/s]"
     ]
    },
    {
     "name": "stdout",
     "output_type": "stream",
     "text": [
      "Saved frame number : 0\n",
      "Saved frame2975.jpg\n",
      "Saved frame number : 0\n",
      "Saved frame2976.jpg\n",
      "Saved frame number : 0\n",
      "Saved frame2977.jpg\n",
      "Saved frame number : 0\n",
      "Saved frame2978.jpg\n",
      "Saved frame number : 0\n",
      "Saved frame2979.jpg\n"
     ]
    },
    {
     "name": "stderr",
     "output_type": "stream",
     "text": [
      "  7%|█████▉                                                                           | 36/492 [00:01<00:19, 23.39it/s]"
     ]
    },
    {
     "name": "stdout",
     "output_type": "stream",
     "text": [
      "Saved frame number : 0\n",
      "Saved frame2980.jpg\n",
      "Saved frame number : 0\n",
      "Saved frame2981.jpg\n",
      "Saved frame number : 0\n",
      "Saved frame2982.jpg\n",
      "Saved frame number : 0\n",
      "Saved frame2983.jpg\n",
      "Saved frame number : 0\n"
     ]
    },
    {
     "name": "stderr",
     "output_type": "stream",
     "text": [
      "\r",
      "  8%|██████▍                                                                          | 39/492 [00:01<00:19, 23.32it/s]"
     ]
    },
    {
     "name": "stdout",
     "output_type": "stream",
     "text": [
      "Saved frame2984.jpg\n",
      "Saved frame number : 0\n",
      "Saved frame2985.jpg\n",
      "Saved frame number : 0\n",
      "Saved frame2986.jpg\n",
      "Saved frame number : 0\n",
      "Saved frame2987.jpg\n",
      "Saved frame number : 0\n",
      "Saved frame2988.jpg\n",
      "Saved frame number : 0\n"
     ]
    },
    {
     "name": "stderr",
     "output_type": "stream",
     "text": [
      "  9%|███████▍                                                                         | 45/492 [00:01<00:18, 23.76it/s]"
     ]
    },
    {
     "name": "stdout",
     "output_type": "stream",
     "text": [
      "Saved frame2989.jpg\n",
      "Saved frame number : 0\n",
      "Saved frame2990.jpg\n",
      "Saved frame number : 0\n",
      "Saved frame2991.jpg\n",
      "Saved frame number : 0\n",
      "Saved frame2992.jpg\n",
      "Saved frame number : 0\n",
      "Saved frame2993.jpg\n",
      "Saved frame number : 0\n"
     ]
    },
    {
     "name": "stderr",
     "output_type": "stream",
     "text": [
      " 10%|████████▍                                                                        | 51/492 [00:02<00:18, 23.93it/s]"
     ]
    },
    {
     "name": "stdout",
     "output_type": "stream",
     "text": [
      "Saved frame2994.jpg\n",
      "Saved frame number : 0\n",
      "Saved frame2995.jpg\n",
      "Saved frame number : 0\n",
      "Saved frame2996.jpg\n",
      "Saved frame number : 0\n",
      "Saved frame2997.jpg\n",
      "Saved frame number : 0\n",
      "Saved frame2998.jpg\n",
      "Saved frame number : 0\n"
     ]
    },
    {
     "name": "stderr",
     "output_type": "stream",
     "text": [
      "\r",
      " 11%|████████▉                                                                        | 54/492 [00:02<00:17, 24.57it/s]"
     ]
    },
    {
     "name": "stdout",
     "output_type": "stream",
     "text": [
      "Saved frame2999.jpg\n",
      "Saved frame number : 0\n",
      "Saved frame3000.jpg\n",
      "Saved frame number : 0\n",
      "Saved frame3001.jpg\n",
      "Saved frame number : 0\n",
      "Saved frame3002.jpg\n",
      "Saved frame number : 0\n",
      "Saved frame3003.jpg\n",
      "Saved frame number : 0\n"
     ]
    },
    {
     "name": "stderr",
     "output_type": "stream",
     "text": [
      "\r",
      " 12%|█████████▍                                                                       | 57/492 [00:02<00:17, 24.60it/s]"
     ]
    },
    {
     "name": "stdout",
     "output_type": "stream",
     "text": [
      "Saved frame3004.jpg\n"
     ]
    },
    {
     "name": "stderr",
     "output_type": "stream",
     "text": [
      "\r",
      " 12%|█████████▉                                                                       | 60/492 [00:02<00:18, 23.85it/s]"
     ]
    },
    {
     "name": "stdout",
     "output_type": "stream",
     "text": [
      "Saved frame number : 0\n",
      "Saved frame3005.jpg\n",
      "Saved frame number : 0\n",
      "Saved frame3006.jpg\n",
      "Saved frame number : 0\n",
      "Saved frame3007.jpg\n",
      "Saved frame number : 0\n",
      "Saved frame3008.jpg\n",
      "Saved frame number : 0\n"
     ]
    },
    {
     "name": "stderr",
     "output_type": "stream",
     "text": [
      " 13%|██████████▊                                                                      | 66/492 [00:02<00:18, 23.29it/s]"
     ]
    },
    {
     "name": "stdout",
     "output_type": "stream",
     "text": [
      "Saved frame3009.jpg\n",
      "Saved frame number : 0\n",
      "Saved frame3010.jpg\n",
      "Saved frame number : 0\n",
      "Saved frame3011.jpg\n",
      "Saved frame number : 0\n",
      "Saved frame3012.jpg\n",
      "Saved frame number : 0\n",
      "Saved frame3013.jpg\n",
      "Saved frame number : 0\n"
     ]
    },
    {
     "name": "stderr",
     "output_type": "stream",
     "text": [
      "\r",
      " 14%|███████████▎                                                                     | 69/492 [00:02<00:18, 22.77it/s]"
     ]
    },
    {
     "name": "stdout",
     "output_type": "stream",
     "text": [
      "Saved frame3014.jpg\n",
      "Saved frame number : 0\n",
      "Saved frame3015.jpg\n",
      "Saved frame number : 0\n",
      "Saved frame3016.jpg\n",
      "Saved frame number : 0\n",
      "Saved frame3017.jpg\n",
      "Saved frame number : 0\n",
      "Saved frame3018.jpg\n"
     ]
    },
    {
     "name": "stderr",
     "output_type": "stream",
     "text": [
      " 15%|████████████▎                                                                    | 75/492 [00:03<00:17, 23.68it/s]"
     ]
    },
    {
     "name": "stdout",
     "output_type": "stream",
     "text": [
      "Saved frame number : 0\n",
      "Saved frame3019.jpg\n",
      "Saved frame number : 0\n",
      "Saved frame3020.jpg\n",
      "Saved frame number : 0\n",
      "Saved frame3021.jpg\n",
      "Saved frame number : 0\n",
      "Saved frame3022.jpg\n",
      "Saved frame number : 0\n",
      "Saved frame3023.jpg\n",
      "Saved frame number : 0\n"
     ]
    },
    {
     "name": "stderr",
     "output_type": "stream",
     "text": [
      " 16%|█████████████▎                                                                   | 81/492 [00:03<00:16, 24.76it/s]"
     ]
    },
    {
     "name": "stdout",
     "output_type": "stream",
     "text": [
      "Saved frame3024.jpg\n",
      "Saved frame number : 0\n",
      "Saved frame3025.jpg\n",
      "Saved frame number : 0\n",
      "Saved frame3026.jpg\n",
      "Saved frame number : 0\n",
      "Saved frame3027.jpg\n",
      "Saved frame number : 0\n",
      "Saved frame3028.jpg\n",
      "Saved frame number : 0\n",
      "Saved frame3029.jpg\n"
     ]
    },
    {
     "name": "stderr",
     "output_type": "stream",
     "text": [
      "\r",
      " 17%|█████████████▊                                                                   | 84/492 [00:03<00:16, 24.91it/s]"
     ]
    },
    {
     "name": "stdout",
     "output_type": "stream",
     "text": [
      "Saved frame number : 0\n",
      "Saved frame3030.jpg\n",
      "Saved frame number : 0\n",
      "Saved frame3031.jpg\n",
      "Saved frame number : 0\n",
      "Saved frame3032.jpg\n",
      "Saved frame number : 0\n",
      "Saved frame3033.jpg\n"
     ]
    },
    {
     "name": "stderr",
     "output_type": "stream",
     "text": [
      "\r",
      " 18%|██████████████▎                                                                  | 87/492 [00:03<00:16, 24.71it/s]"
     ]
    },
    {
     "name": "stdout",
     "output_type": "stream",
     "text": [
      "Saved frame number : 0\n",
      "Saved frame3034.jpg\n"
     ]
    },
    {
     "name": "stderr",
     "output_type": "stream",
     "text": [
      "\r",
      " 18%|██████████████▊                                                                  | 90/492 [00:03<00:16, 24.45it/s]"
     ]
    },
    {
     "name": "stdout",
     "output_type": "stream",
     "text": [
      "Saved frame number : 0\n",
      "Saved frame3035.jpg\n",
      "Saved frame number : 0\n",
      "Saved frame3036.jpg\n",
      "Saved frame number : 0\n",
      "Saved frame3037.jpg\n",
      "Saved frame number : 0\n",
      "Saved frame3038.jpg\n",
      "Saved frame number : 0\n",
      "Saved frame3039.jpg\n"
     ]
    },
    {
     "name": "stderr",
     "output_type": "stream",
     "text": [
      " 20%|███████████████▊                                                                 | 96/492 [00:03<00:16, 24.27it/s]"
     ]
    },
    {
     "name": "stdout",
     "output_type": "stream",
     "text": [
      "Saved frame number : 0\n",
      "Saved frame3040.jpg\n",
      "Saved frame number : 0\n",
      "Saved frame3041.jpg\n",
      "Saved frame number : 0\n",
      "Saved frame3042.jpg\n",
      "Saved frame number : 0\n",
      "Saved frame3043.jpg\n",
      "Saved frame number : 0\n",
      "Saved frame3044.jpg\n"
     ]
    },
    {
     "name": "stderr",
     "output_type": "stream",
     "text": [
      "\r",
      " 20%|████████████████▎                                                                | 99/492 [00:04<00:16, 24.38it/s]"
     ]
    },
    {
     "name": "stdout",
     "output_type": "stream",
     "text": [
      "Saved frame number : 0\n",
      "Saved frame3045.jpg\n",
      "Saved frame number : 0\n",
      "Saved frame3046.jpg\n",
      "Saved frame number : 0\n",
      "Saved frame3047.jpg\n",
      "Saved frame number : 0\n",
      "Saved frame3048.jpg\n",
      "Saved frame number : 0\n"
     ]
    },
    {
     "name": "stderr",
     "output_type": "stream",
     "text": [
      "\r",
      " 21%|████████████████▌                                                               | 102/492 [00:04<00:15, 25.20it/s]"
     ]
    },
    {
     "name": "stdout",
     "output_type": "stream",
     "text": [
      "Saved frame3049.jpg\n",
      "Saved frame number : 0\n"
     ]
    },
    {
     "name": "stderr",
     "output_type": "stream",
     "text": [
      "\r",
      " 21%|█████████████████                                                               | 105/492 [00:04<00:15, 25.29it/s]"
     ]
    },
    {
     "name": "stdout",
     "output_type": "stream",
     "text": [
      "Saved frame3050.jpg\n",
      "Saved frame number : 0\n",
      "Saved frame3051.jpg\n",
      "Saved frame number : 0\n",
      "Saved frame3052.jpg\n",
      "Saved frame number : 0\n",
      "Saved frame3053.jpg\n",
      "Saved frame number : 0\n",
      "Saved frame3054.jpg\n"
     ]
    },
    {
     "name": "stderr",
     "output_type": "stream",
     "text": [
      "\r",
      " 22%|█████████████████▌                                                              | 108/492 [00:04<00:14, 25.87it/s]"
     ]
    },
    {
     "name": "stdout",
     "output_type": "stream",
     "text": [
      "Saved frame number : 0\n",
      "Saved frame3055.jpg\n"
     ]
    },
    {
     "name": "stderr",
     "output_type": "stream",
     "text": [
      "\r",
      " 23%|██████████████████                                                              | 111/492 [00:04<00:15, 24.86it/s]"
     ]
    },
    {
     "name": "stdout",
     "output_type": "stream",
     "text": [
      "Saved frame number : 0\n",
      "Saved frame3056.jpg\n",
      "Saved frame number : 0\n",
      "Saved frame3057.jpg\n",
      "Saved frame number : 0\n",
      "Saved frame3058.jpg\n",
      "Saved frame number : 0\n",
      "Saved frame3059.jpg\n",
      "Saved frame number : 0\n",
      "Saved frame3060.jpg\n",
      "Saved frame number : 0\n"
     ]
    },
    {
     "name": "stderr",
     "output_type": "stream",
     "text": [
      " 24%|███████████████████                                                             | 117/492 [00:04<00:15, 24.45it/s]"
     ]
    },
    {
     "name": "stdout",
     "output_type": "stream",
     "text": [
      "Saved frame3061.jpg\n",
      "Saved frame number : 0\n",
      "Saved frame3062.jpg\n",
      "Saved frame number : 0\n",
      "Saved frame3063.jpg\n",
      "Saved frame number : 0\n",
      "Saved frame3064.jpg\n",
      "Saved frame number : 0\n",
      "Saved frame3065.jpg\n",
      "Saved frame number : 0\n"
     ]
    },
    {
     "name": "stderr",
     "output_type": "stream",
     "text": [
      "\r",
      " 24%|███████████████████▌                                                            | 120/492 [00:04<00:15, 24.63it/s]"
     ]
    },
    {
     "name": "stdout",
     "output_type": "stream",
     "text": [
      "Saved frame3066.jpg\n",
      "Saved frame number : 0\n",
      "Saved frame3067.jpg\n",
      "Saved frame number : 0\n",
      "Saved frame3068.jpg\n",
      "Saved frame number : 0\n",
      "Saved frame3069.jpg\n"
     ]
    },
    {
     "name": "stderr",
     "output_type": "stream",
     "text": [
      "\r",
      " 25%|████████████████████                                                            | 123/492 [00:05<00:15, 24.34it/s]"
     ]
    },
    {
     "name": "stdout",
     "output_type": "stream",
     "text": [
      "Saved frame number : 0\n",
      "Saved frame3070.jpg\n",
      "Saved frame number : 0\n"
     ]
    },
    {
     "name": "stderr",
     "output_type": "stream",
     "text": [
      "\r",
      " 26%|████████████████████▍                                                           | 126/492 [00:05<00:15, 24.14it/s]"
     ]
    },
    {
     "name": "stdout",
     "output_type": "stream",
     "text": [
      "Saved frame3071.jpg\n",
      "Saved frame number : 0\n",
      "Saved frame3072.jpg\n",
      "Saved frame number : 0\n",
      "Saved frame3073.jpg\n",
      "Saved frame number : 0\n",
      "Saved frame3074.jpg\n",
      "Saved frame number : 0\n",
      "Saved frame3075.jpg\n",
      "Saved frame number : 0\n"
     ]
    },
    {
     "name": "stderr",
     "output_type": "stream",
     "text": [
      " 27%|█████████████████████▍                                                          | 132/492 [00:05<00:14, 24.39it/s]"
     ]
    },
    {
     "name": "stdout",
     "output_type": "stream",
     "text": [
      "Saved frame3076.jpg\n",
      "Saved frame number : 0\n",
      "Saved frame3077.jpg\n",
      "Saved frame number : 0\n",
      "Saved frame3078.jpg\n",
      "Saved frame number : 0\n",
      "Saved frame3079.jpg\n",
      "Saved frame number : 0\n",
      "Saved frame3080.jpg\n",
      "Saved frame number : 0\n"
     ]
    },
    {
     "name": "stderr",
     "output_type": "stream",
     "text": [
      "\r",
      " 27%|█████████████████████▉                                                          | 135/492 [00:05<00:14, 24.23it/s]"
     ]
    },
    {
     "name": "stdout",
     "output_type": "stream",
     "text": [
      "Saved frame3081.jpg\n",
      "Saved frame number : 0\n",
      "Saved frame3082.jpg\n",
      "Saved frame number : 0\n",
      "Saved frame3083.jpg\n",
      "Saved frame number : 0\n",
      "Saved frame3084.jpg\n",
      "Saved frame number : 0\n"
     ]
    },
    {
     "name": "stderr",
     "output_type": "stream",
     "text": [
      "\r",
      " 28%|██████████████████████▍                                                         | 138/492 [00:05<00:14, 23.84it/s]"
     ]
    },
    {
     "name": "stdout",
     "output_type": "stream",
     "text": [
      "Saved frame3085.jpg\n",
      "Saved frame number : 0\n"
     ]
    },
    {
     "name": "stderr",
     "output_type": "stream",
     "text": [
      "\r",
      " 29%|██████████████████████▉                                                         | 141/492 [00:05<00:14, 23.57it/s]"
     ]
    },
    {
     "name": "stdout",
     "output_type": "stream",
     "text": [
      "Saved frame3086.jpg\n",
      "Saved frame number : 0\n",
      "Saved frame3087.jpg\n",
      "Saved frame number : 0\n",
      "Saved frame3088.jpg\n",
      "Saved frame number : 0\n",
      "Saved frame3089.jpg\n",
      "Saved frame number : 0"
     ]
    },
    {
     "name": "stderr",
     "output_type": "stream",
     "text": [
      "\r",
      " 29%|███████████████████████▍                                                        | 144/492 [00:06<00:18, 19.31it/s]"
     ]
    },
    {
     "name": "stdout",
     "output_type": "stream",
     "text": [
      "\n",
      "Saved frame3090.jpg\n",
      "Saved frame number : 0\n",
      "Saved frame3091.jpg\n",
      "Saved frame number : 0\n",
      "Saved frame3092.jpg\n",
      "Saved frame number : 0\n",
      "Saved frame3093.jpg\n",
      "Saved frame number : 0\n"
     ]
    },
    {
     "name": "stderr",
     "output_type": "stream",
     "text": [
      " 30%|████████████████████████▍                                                       | 150/492 [00:06<00:15, 22.27it/s]"
     ]
    },
    {
     "name": "stdout",
     "output_type": "stream",
     "text": [
      "Saved frame3094.jpg\n",
      "Saved frame number : 0\n",
      "Saved frame3095.jpg\n",
      "Saved frame number : 0\n",
      "Saved frame3096.jpg\n",
      "Saved frame number : 0\n",
      "Saved frame3097.jpg\n",
      "Saved frame number : 0\n",
      "Saved frame3098.jpg\n",
      "Saved frame number : 0\n",
      "Saved frame3099.jpg\n"
     ]
    },
    {
     "name": "stderr",
     "output_type": "stream",
     "text": [
      " 32%|█████████████████████████▎                                                      | 156/492 [00:06<00:13, 24.31it/s]"
     ]
    },
    {
     "name": "stdout",
     "output_type": "stream",
     "text": [
      "Saved frame number : 0\n",
      "Saved frame3100.jpg\n",
      "Saved frame number : 0\n",
      "Saved frame3101.jpg\n",
      "Saved frame number : 0\n",
      "Saved frame3102.jpg\n",
      "Saved frame number : 0\n",
      "Saved frame3103.jpg\n",
      "Saved frame number : 0\n",
      "Saved frame3104.jpg\n",
      "Saved frame number : 0\n"
     ]
    },
    {
     "name": "stderr",
     "output_type": "stream",
     "text": [
      " 33%|██████████████████████████▎                                                     | 162/492 [00:06<00:13, 25.04it/s]"
     ]
    },
    {
     "name": "stdout",
     "output_type": "stream",
     "text": [
      "Saved frame3105.jpg\n",
      "Saved frame number : 0\n",
      "Saved frame3106.jpg\n",
      "Saved frame number : 0\n",
      "Saved frame3107.jpg\n",
      "Saved frame number : 0\n",
      "Saved frame3108.jpg\n",
      "Saved frame number : 0\n",
      "Saved frame3109.jpg\n",
      "Saved frame number : 0\n"
     ]
    },
    {
     "name": "stderr",
     "output_type": "stream",
     "text": [
      " 34%|███████████████████████████▎                                                    | 168/492 [00:06<00:12, 25.78it/s]"
     ]
    },
    {
     "name": "stdout",
     "output_type": "stream",
     "text": [
      "Saved frame3110.jpg\n",
      "Saved frame number : 0\n",
      "Saved frame3111.jpg\n",
      "Saved frame number : 0\n",
      "Saved frame3112.jpg\n",
      "Saved frame number : 0\n",
      "Saved frame3113.jpg\n",
      "Saved frame number : 0\n",
      "Saved frame3114.jpg\n",
      "Saved frame number : 0\n",
      "Saved frame3115.jpg\n"
     ]
    },
    {
     "name": "stderr",
     "output_type": "stream",
     "text": [
      "\r",
      " 35%|███████████████████████████▊                                                    | 171/492 [00:07<00:12, 24.86it/s]"
     ]
    },
    {
     "name": "stdout",
     "output_type": "stream",
     "text": [
      "Saved frame number : 0\n",
      "Saved frame3116.jpg\n",
      "Saved frame number : 0\n",
      "Saved frame3117.jpg\n",
      "Saved frame number : 0\n",
      "Saved frame3118.jpg\n",
      "Saved frame number : 0\n",
      "Saved frame3119.jpg\n",
      "Saved frame number : 0\n",
      "Saved frame3120.jpg\n"
     ]
    },
    {
     "name": "stderr",
     "output_type": "stream",
     "text": [
      " 36%|████████████████████████████▊                                                   | 177/492 [00:07<00:13, 23.28it/s]"
     ]
    },
    {
     "name": "stdout",
     "output_type": "stream",
     "text": [
      "Saved frame number : 0\n",
      "Saved frame3121.jpg\n",
      "Saved frame number : 0\n",
      "Saved frame3122.jpg\n",
      "Saved frame number : 0\n",
      "Saved frame3123.jpg\n",
      "Saved frame number : 0\n",
      "Saved frame3124.jpg\n",
      "Saved frame number : 0\n"
     ]
    },
    {
     "name": "stderr",
     "output_type": "stream",
     "text": [
      "\r",
      " 37%|█████████████████████████████▎                                                  | 180/492 [00:07<00:13, 22.97it/s]"
     ]
    },
    {
     "name": "stdout",
     "output_type": "stream",
     "text": [
      "Saved frame3125.jpg\n",
      "Saved frame number : 0\n",
      "Saved frame3126.jpg\n",
      "Saved frame number : 0\n",
      "Saved frame3127.jpg\n",
      "Saved frame number : 0\n",
      "Saved frame3128.jpg\n",
      "Saved frame number : 0\n",
      "Saved frame3129.jpg\n"
     ]
    },
    {
     "name": "stderr",
     "output_type": "stream",
     "text": [
      " 38%|██████████████████████████████▏                                                 | 186/492 [00:07<00:14, 21.71it/s]"
     ]
    },
    {
     "name": "stdout",
     "output_type": "stream",
     "text": [
      "Saved frame number : 0\n",
      "Saved frame3130.jpg\n",
      "Saved frame number : 0\n",
      "Saved frame3131.jpg\n",
      "Saved frame number : 0\n",
      "Saved frame3132.jpg\n",
      "Saved frame number : 0\n",
      "Saved frame3133.jpg\n",
      "Saved frame number : 0\n"
     ]
    },
    {
     "name": "stderr",
     "output_type": "stream",
     "text": [
      "\r",
      " 38%|██████████████████████████████▋                                                 | 189/492 [00:07<00:13, 21.83it/s]"
     ]
    },
    {
     "name": "stdout",
     "output_type": "stream",
     "text": [
      "Saved frame3134.jpg\n",
      "Saved frame number : 0\n",
      "Saved frame3135.jpg\n",
      "Saved frame number : 0\n",
      "Saved frame3136.jpg\n",
      "Saved frame number : 0\n",
      "Saved frame3137.jpg\n",
      "Saved frame number : 0\n",
      "Saved frame3138.jpg\n",
      "Saved frame number : 0\n"
     ]
    },
    {
     "name": "stderr",
     "output_type": "stream",
     "text": [
      " 40%|███████████████████████████████▋                                                | 195/492 [00:08<00:13, 22.18it/s]"
     ]
    },
    {
     "name": "stdout",
     "output_type": "stream",
     "text": [
      "Saved frame3139.jpg\n",
      "Saved frame number : 0\n",
      "Saved frame3140.jpg\n",
      "Saved frame number : 0\n",
      "Saved frame3141.jpg\n",
      "Saved frame number : 0\n",
      "Saved frame3142.jpg\n",
      "Saved frame number : 0\n",
      "Saved frame3143.jpg\n",
      "Saved frame number : 0\n"
     ]
    },
    {
     "name": "stderr",
     "output_type": "stream",
     "text": [
      "\r",
      " 40%|████████████████████████████████▏                                               | 198/492 [00:08<00:12, 22.80it/s]"
     ]
    },
    {
     "name": "stdout",
     "output_type": "stream",
     "text": [
      "Saved frame3144.jpg\n",
      "Saved frame number : 0\n",
      "Saved frame3145.jpg\n",
      "Saved frame number : 0\n",
      "Saved frame3146.jpg\n",
      "Saved frame number : 0\n",
      "Saved frame3147.jpg\n",
      "Saved frame number : 0\n",
      "Saved frame3148.jpg"
     ]
    },
    {
     "name": "stderr",
     "output_type": "stream",
     "text": [
      " 41%|█████████████████████████████████▏                                              | 204/492 [00:08<00:12, 22.55it/s]"
     ]
    },
    {
     "name": "stdout",
     "output_type": "stream",
     "text": [
      "\n",
      "Saved frame number : 0\n",
      "Saved frame3149.jpg\n",
      "Saved frame number : 0\n",
      "Saved frame3150.jpg\n",
      "Saved frame number : 0\n",
      "Saved frame3151.jpg\n",
      "Saved frame number : 0\n",
      "Saved frame3152.jpg\n",
      "Saved frame number : 0\n"
     ]
    },
    {
     "name": "stderr",
     "output_type": "stream",
     "text": [
      " 43%|██████████████████████████████████▏                                             | 210/492 [00:08<00:12, 22.31it/s]"
     ]
    },
    {
     "name": "stdout",
     "output_type": "stream",
     "text": [
      "Saved frame3153.jpg\n",
      "Saved frame number : 0\n",
      "Saved frame3154.jpg\n",
      "Saved frame number : 0\n",
      "Saved frame3155.jpg\n",
      "Saved frame number : 0\n",
      "Saved frame3156.jpg\n",
      "Saved frame number : 0\n",
      "Saved frame3157.jpg\n"
     ]
    },
    {
     "name": "stderr",
     "output_type": "stream",
     "text": [
      "\r",
      " 43%|██████████████████████████████████▋                                             | 213/492 [00:09<00:12, 22.35it/s]"
     ]
    },
    {
     "name": "stdout",
     "output_type": "stream",
     "text": [
      "Saved frame number : 0\n",
      "Saved frame3158.jpg\n",
      "Saved frame number : 0\n",
      "Saved frame3159.jpg\n",
      "Saved frame number : 0\n",
      "Saved frame3160.jpg\n",
      "Saved frame number : 0\n",
      "Saved frame3161.jpg\n",
      "Saved frame number : 0\n",
      "Saved frame3162.jpg\n"
     ]
    },
    {
     "name": "stderr",
     "output_type": "stream",
     "text": [
      " 45%|███████████████████████████████████▌                                            | 219/492 [00:09<00:11, 23.31it/s]"
     ]
    },
    {
     "name": "stdout",
     "output_type": "stream",
     "text": [
      "Saved frame number : 0\n",
      "Saved frame3163.jpg\n",
      "Saved frame number : 0\n",
      "Saved frame3164.jpg\n",
      "Saved frame number : 0\n",
      "Saved frame3165.jpg\n",
      "Saved frame number : 0\n",
      "Saved frame3166.jpg\n",
      "Saved frame number : 0\n",
      "Saved frame3167.jpg\n",
      "Saved frame number : 0\n"
     ]
    },
    {
     "name": "stderr",
     "output_type": "stream",
     "text": [
      " 46%|████████████████████████████████████▌                                           | 225/492 [00:09<00:11, 24.21it/s]"
     ]
    },
    {
     "name": "stdout",
     "output_type": "stream",
     "text": [
      "Saved frame3168.jpg\n",
      "Saved frame number : 0\n",
      "Saved frame3169.jpg\n",
      "Saved frame number : 0\n",
      "Saved frame3170.jpg\n",
      "Saved frame number : 0\n",
      "Saved frame3171.jpg\n",
      "Saved frame number : 0\n",
      "Saved frame3172.jpg\n",
      "Saved frame number : 0\n"
     ]
    },
    {
     "name": "stderr",
     "output_type": "stream",
     "text": [
      " 47%|█████████████████████████████████████▌                                          | 231/492 [00:09<00:10, 24.20it/s]"
     ]
    },
    {
     "name": "stdout",
     "output_type": "stream",
     "text": [
      "Saved frame3173.jpg\n",
      "Saved frame number : 0\n",
      "Saved frame3174.jpg\n",
      "Saved frame number : 0\n",
      "Saved frame3175.jpg\n",
      "Saved frame number : 0\n",
      "Saved frame3176.jpg\n",
      "Saved frame number : 0\n",
      "Saved frame3177.jpg\n",
      "Saved frame number : 0\n",
      "Saved frame3178.jpg\n"
     ]
    },
    {
     "name": "stderr",
     "output_type": "stream",
     "text": [
      "\r",
      " 48%|██████████████████████████████████████                                          | 234/492 [00:09<00:10, 24.73it/s]"
     ]
    },
    {
     "name": "stdout",
     "output_type": "stream",
     "text": [
      "Saved frame number : 0\n",
      "Saved frame3179.jpg\n",
      "Saved frame number : 0\n",
      "Saved frame3180.jpg\n",
      "Saved frame number : 0\n",
      "Saved frame3181.jpg\n",
      "Saved frame number : 0\n",
      "Saved frame3182.jpg\n",
      "Saved frame number : 0\n",
      "Saved frame3183.jpg\n",
      "Saved frame number : 0\n"
     ]
    },
    {
     "name": "stderr",
     "output_type": "stream",
     "text": [
      " 49%|███████████████████████████████████████                                         | 240/492 [00:10<00:10, 25.10it/s]"
     ]
    },
    {
     "name": "stdout",
     "output_type": "stream",
     "text": [
      "Saved frame3184.jpg\n",
      "Saved frame number : 0\n",
      "Saved frame3185.jpg\n",
      "Saved frame number : 0\n",
      "Saved frame3186.jpg\n",
      "Saved frame number : 0\n",
      "Saved frame3187.jpg\n",
      "Saved frame number : 0\n",
      "Saved frame3188.jpg\n",
      "Saved frame number : 0\n"
     ]
    },
    {
     "name": "stderr",
     "output_type": "stream",
     "text": [
      " 50%|████████████████████████████████████████                                        | 246/492 [00:10<00:10, 24.25it/s]"
     ]
    },
    {
     "name": "stdout",
     "output_type": "stream",
     "text": [
      "Saved frame3189.jpg\n",
      "Saved frame number : 0\n",
      "Saved frame3190.jpg\n",
      "Saved frame number : 0\n",
      "Saved frame3191.jpg\n",
      "Saved frame number : 0\n",
      "Saved frame3192.jpg\n",
      "Saved frame number : 0\n",
      "Saved frame3193.jpg\n",
      "Saved frame number : 0\n"
     ]
    },
    {
     "name": "stderr",
     "output_type": "stream",
     "text": [
      "\r",
      " 51%|████████████████████████████████████████▍                                       | 249/492 [00:10<00:09, 24.39it/s]"
     ]
    },
    {
     "name": "stdout",
     "output_type": "stream",
     "text": [
      "Saved frame3194.jpg\n",
      "Saved frame number : 0\n",
      "Saved frame3195.jpg\n",
      "Saved frame number : 0\n",
      "Saved frame3196.jpg\n",
      "Saved frame number : 0\n",
      "Saved frame3197.jpg\n",
      "Saved frame number : 0\n",
      "Saved frame3198.jpg\n",
      "Saved frame number : 0\n"
     ]
    },
    {
     "name": "stderr",
     "output_type": "stream",
     "text": [
      " 52%|█████████████████████████████████████████▍                                      | 255/492 [00:10<00:10, 23.66it/s]"
     ]
    },
    {
     "name": "stdout",
     "output_type": "stream",
     "text": [
      "Saved frame3199.jpg\n",
      "Saved frame number : 0\n",
      "Saved frame3200.jpg\n",
      "Saved frame number : 0\n",
      "Saved frame3201.jpg\n",
      "Saved frame number : 0\n",
      "Saved frame3202.jpg\n",
      "Saved frame number : 0\n",
      "Saved frame3203.jpg\n"
     ]
    },
    {
     "name": "stderr",
     "output_type": "stream",
     "text": [
      "\r",
      " 52%|█████████████████████████████████████████▉                                      | 258/492 [00:10<00:10, 23.28it/s]"
     ]
    },
    {
     "name": "stdout",
     "output_type": "stream",
     "text": [
      "Saved frame number : 0\n",
      "Saved frame3204.jpg\n",
      "Saved frame number : 0\n",
      "Saved frame3205.jpg\n",
      "Saved frame number : 0\n",
      "Saved frame3206.jpg\n",
      "Saved frame number : 0\n",
      "Saved frame3207.jpg\n",
      "Saved frame number : 0\n"
     ]
    },
    {
     "name": "stderr",
     "output_type": "stream",
     "text": [
      " 54%|██████████████████████████████████████████▉                                     | 264/492 [00:11<00:10, 21.13it/s]"
     ]
    },
    {
     "name": "stdout",
     "output_type": "stream",
     "text": [
      "Saved frame3208.jpg\n",
      "Saved frame number : 0\n",
      "Saved frame3209.jpg\n",
      "Saved frame number : 0\n",
      "Saved frame3210.jpg\n",
      "Saved frame number : 0\n",
      "Saved frame3211.jpg\n",
      "Saved frame number : 0\n"
     ]
    },
    {
     "name": "stderr",
     "output_type": "stream",
     "text": [
      "\r",
      " 54%|███████████████████████████████████████████▍                                    | 267/492 [00:11<00:11, 20.13it/s]"
     ]
    },
    {
     "name": "stdout",
     "output_type": "stream",
     "text": [
      "Saved frame3212.jpg\n",
      "Saved frame number : 0\n",
      "Saved frame3213.jpg\n",
      "Saved frame number : 0\n",
      "Saved frame3214.jpg\n",
      "Saved frame number : 0\n",
      "Saved frame3215.jpg\n",
      "Saved frame number : 0\n"
     ]
    },
    {
     "name": "stderr",
     "output_type": "stream",
     "text": [
      " 55%|████████████████████████████████████████████▏                                   | 272/492 [00:11<00:11, 18.86it/s]"
     ]
    },
    {
     "name": "stdout",
     "output_type": "stream",
     "text": [
      "Saved frame3216.jpg\n",
      "Saved frame number : 0\n",
      "Saved frame3217.jpg\n",
      "Saved frame number : 0\n",
      "Saved frame3218.jpg\n",
      "Saved frame number : 0\n",
      "Saved frame3219.jpg\n",
      "Saved frame number : 0\n"
     ]
    },
    {
     "name": "stderr",
     "output_type": "stream",
     "text": [
      "\r",
      " 56%|████████████████████████████████████████████▋                                   | 275/492 [00:11<00:11, 19.07it/s]"
     ]
    },
    {
     "name": "stdout",
     "output_type": "stream",
     "text": [
      "Saved frame3220.jpg\n",
      "Saved frame number : 0\n",
      "Saved frame3221.jpg\n",
      "Saved frame number : 0\n",
      "Saved frame3222.jpg\n",
      "Saved frame number : 0\n",
      "Saved frame3223.jpg\n",
      "Saved frame number : 0\n",
      "Saved frame3224.jpg\n"
     ]
    },
    {
     "name": "stderr",
     "output_type": "stream",
     "text": [
      " 57%|█████████████████████████████████████████████▋                                  | 281/492 [00:12<00:10, 21.07it/s]"
     ]
    },
    {
     "name": "stdout",
     "output_type": "stream",
     "text": [
      "Saved frame number : 0\n",
      "Saved frame3225.jpg\n",
      "Saved frame number : 0\n",
      "Saved frame3226.jpg\n",
      "Saved frame number : 0\n",
      "Saved frame3227.jpg\n",
      "Saved frame number : 0\n",
      "Saved frame3228.jpg\n",
      "Saved frame number : 0\n",
      "Saved frame3229.jpg\n"
     ]
    },
    {
     "name": "stderr",
     "output_type": "stream",
     "text": [
      " 58%|██████████████████████████████████████████████▋                                 | 287/492 [00:12<00:09, 22.46it/s]"
     ]
    },
    {
     "name": "stdout",
     "output_type": "stream",
     "text": [
      "Saved frame number : 0\n",
      "Saved frame3230.jpg\n",
      "Saved frame number : 0\n",
      "Saved frame3231.jpg\n",
      "Saved frame number : 0\n",
      "Saved frame3232.jpg\n",
      "Saved frame number : 0\n",
      "Saved frame3233.jpg\n",
      "Saved frame number : 0\n",
      "Saved frame3234.jpg\n",
      "Saved frame number : 0\n"
     ]
    },
    {
     "name": "stderr",
     "output_type": "stream",
     "text": [
      "\r",
      " 59%|███████████████████████████████████████████████▏                                | 290/492 [00:12<00:08, 22.78it/s]"
     ]
    },
    {
     "name": "stdout",
     "output_type": "stream",
     "text": [
      "Saved frame3235.jpg\n",
      "Saved frame number : 0\n",
      "Saved frame3236.jpg\n",
      "Saved frame number : 0\n",
      "Saved frame3237.jpg\n",
      "Saved frame number : 0\n",
      "Saved frame3238.jpg\n",
      "Saved frame number : 0\n",
      "Saved frame3239.jpg\n"
     ]
    },
    {
     "name": "stderr",
     "output_type": "stream",
     "text": [
      " 60%|████████████████████████████████████████████████▏                               | 296/492 [00:12<00:08, 21.86it/s]"
     ]
    },
    {
     "name": "stdout",
     "output_type": "stream",
     "text": [
      "Saved frame number : 0\n",
      "Saved frame3240.jpg\n",
      "Saved frame number : 0\n",
      "Saved frame3241.jpg\n",
      "Saved frame number : 0\n",
      "Saved frame3242.jpg\n",
      "Saved frame number : 0\n",
      "Saved frame3243.jpg\n",
      "Saved frame number : 0\n"
     ]
    },
    {
     "name": "stderr",
     "output_type": "stream",
     "text": [
      "\r",
      " 61%|████████████████████████████████████████████████▌                               | 299/492 [00:12<00:09, 20.37it/s]"
     ]
    },
    {
     "name": "stdout",
     "output_type": "stream",
     "text": [
      "Saved frame3244.jpg\n",
      "Saved frame number : 0\n",
      "Saved frame3245.jpg\n",
      "Saved frame number : 0\n",
      "Saved frame3246.jpg\n",
      "Saved frame number : 0\n",
      "Saved frame3247.jpg\n"
     ]
    },
    {
     "name": "stderr",
     "output_type": "stream",
     "text": [
      " 62%|█████████████████████████████████████████████████▍                              | 304/492 [00:13<00:09, 19.54it/s]"
     ]
    },
    {
     "name": "stdout",
     "output_type": "stream",
     "text": [
      "Saved frame number : 0\n",
      "Saved frame3248.jpg\n",
      "Saved frame number : 0\n",
      "Saved frame3249.jpg\n",
      "Saved frame number : 0\n",
      "Saved frame3250.jpg\n",
      "Saved frame number : 0\n",
      "Saved frame3251.jpg\n",
      "Saved frame number : 0\n"
     ]
    },
    {
     "name": "stderr",
     "output_type": "stream",
     "text": [
      "\r",
      " 62%|█████████████████████████████████████████████████▉                              | 307/492 [00:13<00:08, 20.71it/s]"
     ]
    },
    {
     "name": "stdout",
     "output_type": "stream",
     "text": [
      "Saved frame3252.jpg\n",
      "Saved frame number : 0\n",
      "Saved frame3253.jpg\n",
      "Saved frame number : 0\n",
      "Saved frame3254.jpg\n",
      "Saved frame number : 0\n",
      "Saved frame3255.jpg\n",
      "Saved frame number : 0\n",
      "Saved frame3256.jpg\n",
      "Saved frame number : 0\n"
     ]
    },
    {
     "name": "stderr",
     "output_type": "stream",
     "text": [
      " 64%|██████████████████████████████████████████████████▉                             | 313/492 [00:13<00:08, 21.87it/s]"
     ]
    },
    {
     "name": "stdout",
     "output_type": "stream",
     "text": [
      "Saved frame3257.jpg\n",
      "Saved frame number : 0\n",
      "Saved frame3258.jpg\n",
      "Saved frame number : 0\n",
      "Saved frame3259.jpg\n",
      "Saved frame number : 0\n",
      "Saved frame3260.jpg\n",
      "Saved frame number : 0\n",
      "Saved frame3261.jpg\n",
      "Saved frame number : 0\n"
     ]
    },
    {
     "name": "stderr",
     "output_type": "stream",
     "text": [
      "\r",
      " 64%|███████████████████████████████████████████████████▍                            | 316/492 [00:13<00:07, 22.16it/s]"
     ]
    },
    {
     "name": "stdout",
     "output_type": "stream",
     "text": [
      "Saved frame3262.jpg\n",
      "Saved frame number : 0\n",
      "Saved frame3263.jpg\n",
      "Saved frame number : 0\n",
      "Saved frame3264.jpg\n",
      "Saved frame number : 0\n",
      "Saved frame3265.jpg\n",
      "Saved frame number : 0\n"
     ]
    },
    {
     "name": "stderr",
     "output_type": "stream",
     "text": [
      " 65%|████████████████████████████████████████████████████▎                           | 322/492 [00:13<00:08, 20.79it/s]"
     ]
    },
    {
     "name": "stdout",
     "output_type": "stream",
     "text": [
      "Saved frame3266.jpg\n",
      "Saved frame number : 0\n",
      "Saved frame3267.jpg\n",
      "Saved frame number : 0\n",
      "Saved frame3268.jpg\n",
      "Saved frame number : 0\n",
      "Saved frame3269.jpg\n",
      "Saved frame number : 0\n",
      "Saved frame3270.jpg\n",
      "Saved frame number : 0\n"
     ]
    },
    {
     "name": "stderr",
     "output_type": "stream",
     "text": [
      " 67%|█████████████████████████████████████████████████████▎                          | 328/492 [00:14<00:07, 22.01it/s]"
     ]
    },
    {
     "name": "stdout",
     "output_type": "stream",
     "text": [
      "Saved frame3271.jpg\n",
      "Saved frame number : 0\n",
      "Saved frame3272.jpg\n",
      "Saved frame number : 0\n",
      "Saved frame3273.jpg\n",
      "Saved frame number : 0\n",
      "Saved frame3274.jpg\n",
      "Saved frame number : 0\n",
      "Saved frame3275.jpg\n",
      "Saved frame number : 0\n"
     ]
    },
    {
     "name": "stderr",
     "output_type": "stream",
     "text": [
      "\r",
      " 67%|█████████████████████████████████████████████████████▊                          | 331/492 [00:14<00:07, 22.53it/s]"
     ]
    },
    {
     "name": "stdout",
     "output_type": "stream",
     "text": [
      "Saved frame3276.jpg\n",
      "Saved frame number : 0\n",
      "Saved frame3277.jpg\n",
      "Saved frame number : 0\n",
      "Saved frame3278.jpg\n",
      "Saved frame number : 0\n",
      "Saved frame3279.jpg\n",
      "Saved frame number : 0\n",
      "Saved frame3280.jpg\n",
      "Saved frame number : 0\n"
     ]
    },
    {
     "name": "stderr",
     "output_type": "stream",
     "text": [
      " 68%|██████████████████████████████████████████████████████▊                         | 337/492 [00:14<00:06, 22.55it/s]"
     ]
    },
    {
     "name": "stdout",
     "output_type": "stream",
     "text": [
      "Saved frame3281.jpg\n",
      "Saved frame number : 0\n",
      "Saved frame3282.jpg\n",
      "Saved frame number : 0\n",
      "Saved frame3283.jpg\n",
      "Saved frame number : 0\n",
      "Saved frame3284.jpg\n",
      "Saved frame number : 0\n",
      "Saved frame3285.jpg\n",
      "Saved frame number : 0\n"
     ]
    },
    {
     "name": "stderr",
     "output_type": "stream",
     "text": [
      " 70%|███████████████████████████████████████████████████████▊                        | 343/492 [00:14<00:06, 22.67it/s]"
     ]
    },
    {
     "name": "stdout",
     "output_type": "stream",
     "text": [
      "Saved frame3286.jpg\n",
      "Saved frame number : 0\n",
      "Saved frame3287.jpg\n",
      "Saved frame number : 0\n",
      "Saved frame3288.jpg\n",
      "Saved frame number : 0\n",
      "Saved frame3289.jpg\n",
      "Saved frame number : 0\n",
      "Saved frame3290.jpg\n",
      "Saved frame number : 0\n"
     ]
    },
    {
     "name": "stderr",
     "output_type": "stream",
     "text": [
      "\r",
      " 70%|████████████████████████████████████████████████████████▎                       | 346/492 [00:15<00:06, 22.81it/s]"
     ]
    },
    {
     "name": "stdout",
     "output_type": "stream",
     "text": [
      "Saved frame3291.jpg\n",
      "Saved frame number : 0\n",
      "Saved frame3292.jpg\n",
      "Saved frame number : 0\n",
      "Saved frame3293.jpg\n",
      "Saved frame number : 0\n",
      "Saved frame3294.jpg\n",
      "Saved frame number : 0\n",
      "Saved frame3295.jpg\n",
      "Saved frame number : 0\n"
     ]
    },
    {
     "name": "stderr",
     "output_type": "stream",
     "text": [
      " 72%|█████████████████████████████████████████████████████████▏                      | 352/492 [00:15<00:06, 23.02it/s]"
     ]
    },
    {
     "name": "stdout",
     "output_type": "stream",
     "text": [
      "Saved frame3296.jpg\n",
      "Saved frame number : 0\n",
      "Saved frame3297.jpg\n",
      "Saved frame number : 0\n",
      "Saved frame3298.jpg\n",
      "Saved frame number : 0\n",
      "Saved frame3299.jpg\n",
      "Saved frame number : 0\n",
      "Saved frame3300.jpg\n",
      "Saved frame number : 0\n"
     ]
    },
    {
     "name": "stderr",
     "output_type": "stream",
     "text": [
      " 73%|██████████████████████████████████████████████████████████▏                     | 358/492 [00:15<00:05, 24.02it/s]"
     ]
    },
    {
     "name": "stdout",
     "output_type": "stream",
     "text": [
      "Saved frame3301.jpg\n",
      "Saved frame number : 0\n",
      "Saved frame3302.jpg\n",
      "Saved frame number : 0\n",
      "Saved frame3303.jpg\n",
      "Saved frame number : 0\n",
      "Saved frame3304.jpg\n",
      "Saved frame number : 0\n",
      "Saved frame3305.jpg\n",
      "Saved frame number : 0\n",
      "Saved frame3306.jpg\n"
     ]
    },
    {
     "name": "stderr",
     "output_type": "stream",
     "text": [
      "\r",
      " 73%|██████████████████████████████████████████████████████████▋                     | 361/492 [00:15<00:05, 23.97it/s]"
     ]
    },
    {
     "name": "stdout",
     "output_type": "stream",
     "text": [
      "Saved frame number : 0\n",
      "Saved frame3307.jpg\n",
      "Saved frame number : 0\n",
      "Saved frame3308.jpg\n",
      "Saved frame number : 0\n",
      "Saved frame3309.jpg\n",
      "Saved frame number : 0\n",
      "Saved frame3310.jpg\n",
      "Saved frame number : 0\n"
     ]
    },
    {
     "name": "stderr",
     "output_type": "stream",
     "text": [
      " 75%|███████████████████████████████████████████████████████████▋                    | 367/492 [00:15<00:05, 22.75it/s]"
     ]
    },
    {
     "name": "stdout",
     "output_type": "stream",
     "text": [
      "Saved frame3311.jpg\n",
      "Saved frame number : 0\n",
      "Saved frame3312.jpg\n",
      "Saved frame number : 0\n",
      "Saved frame3313.jpg\n",
      "Saved frame number : 0\n",
      "Saved frame3314.jpg\n",
      "Saved frame number : 0\n",
      "Saved frame3315.jpg\n"
     ]
    },
    {
     "name": "stderr",
     "output_type": "stream",
     "text": [
      "\r",
      " 75%|████████████████████████████████████████████████████████████▏                   | 370/492 [00:16<00:05, 22.20it/s]"
     ]
    },
    {
     "name": "stdout",
     "output_type": "stream",
     "text": [
      "Saved frame number : 0\n",
      "Saved frame3316.jpg\n",
      "Saved frame number : 0\n",
      "Saved frame3317.jpg\n",
      "Saved frame number : 0\n",
      "Saved frame3318.jpg\n",
      "Saved frame number : 0\n",
      "Saved frame3319.jpg\n",
      "Saved frame number : 0\n"
     ]
    },
    {
     "name": "stderr",
     "output_type": "stream",
     "text": [
      " 76%|█████████████████████████████████████████████████████████████▏                  | 376/492 [00:16<00:05, 22.65it/s]"
     ]
    },
    {
     "name": "stdout",
     "output_type": "stream",
     "text": [
      "Saved frame3320.jpg\n",
      "Saved frame number : 0\n",
      "Saved frame3321.jpg\n",
      "Saved frame number : 0\n",
      "Saved frame3322.jpg\n",
      "Saved frame number : 0\n",
      "Saved frame3323.jpg\n",
      "Saved frame number : 0\n",
      "Saved frame3324.jpg\n",
      "Saved frame number : 0\n"
     ]
    },
    {
     "name": "stderr",
     "output_type": "stream",
     "text": [
      " 78%|██████████████████████████████████████████████████████████████                  | 382/492 [00:16<00:04, 22.73it/s]"
     ]
    },
    {
     "name": "stdout",
     "output_type": "stream",
     "text": [
      "Saved frame3325.jpg\n",
      "Saved frame number : 0\n",
      "Saved frame3326.jpg\n",
      "Saved frame number : 0\n",
      "Saved frame3327.jpg\n",
      "Saved frame number : 0\n",
      "Saved frame3328.jpg\n",
      "Saved frame number : 0\n",
      "Saved frame3329.jpg\n",
      "Saved frame number : 0\n"
     ]
    },
    {
     "name": "stderr",
     "output_type": "stream",
     "text": [
      "\r",
      " 78%|██████████████████████████████████████████████████████████████▌                 | 385/492 [00:16<00:04, 22.69it/s]"
     ]
    },
    {
     "name": "stdout",
     "output_type": "stream",
     "text": [
      "Saved frame3330.jpg\n",
      "Saved frame number : 0\n",
      "Saved frame3331.jpg\n",
      "Saved frame number : 0\n",
      "Saved frame3332.jpg\n",
      "Saved frame number : 0\n",
      "Saved frame3333.jpg\n",
      "Saved frame number : 0\n",
      "Saved frame3334.jpg\n"
     ]
    },
    {
     "name": "stderr",
     "output_type": "stream",
     "text": [
      " 79%|███████████████████████████████████████████████████████████████▌                | 391/492 [00:16<00:04, 22.37it/s]"
     ]
    },
    {
     "name": "stdout",
     "output_type": "stream",
     "text": [
      "Saved frame number : 0\n",
      "Saved frame3335.jpg\n",
      "Saved frame number : 0\n",
      "Saved frame3336.jpg\n",
      "Saved frame number : 0\n",
      "Saved frame3337.jpg\n",
      "Saved frame number : 0\n",
      "Saved frame3338.jpg\n",
      "Saved frame number : 0\n",
      "Saved frame3339.jpg\n"
     ]
    },
    {
     "name": "stderr",
     "output_type": "stream",
     "text": [
      " 81%|████████████████████████████████████████████████████████████████▌               | 397/492 [00:17<00:04, 23.07it/s]"
     ]
    },
    {
     "name": "stdout",
     "output_type": "stream",
     "text": [
      "Saved frame number : 0\n",
      "Saved frame3340.jpg\n",
      "Saved frame number : 0\n",
      "Saved frame3341.jpg\n",
      "Saved frame number : 0\n",
      "Saved frame3342.jpg\n",
      "Saved frame number : 0\n",
      "Saved frame3343.jpg\n",
      "Saved frame number : 0\n",
      "Saved frame3344.jpg\n"
     ]
    },
    {
     "name": "stderr",
     "output_type": "stream",
     "text": [
      "\r",
      " 81%|█████████████████████████████████████████████████████████████████               | 400/492 [00:17<00:03, 23.04it/s]"
     ]
    },
    {
     "name": "stdout",
     "output_type": "stream",
     "text": [
      "Saved frame number : 0\n",
      "Saved frame3345.jpg\n",
      "Saved frame number : 0\n",
      "Saved frame3346.jpg\n",
      "Saved frame number : 0\n",
      "Saved frame3347.jpg\n",
      "Saved frame number : 0\n",
      "Saved frame3348.jpg\n",
      "Saved frame number : 0\n",
      "Saved frame3349.jpg\n"
     ]
    },
    {
     "name": "stderr",
     "output_type": "stream",
     "text": [
      " 83%|██████████████████████████████████████████████████████████████████              | 406/492 [00:17<00:03, 23.71it/s]"
     ]
    },
    {
     "name": "stdout",
     "output_type": "stream",
     "text": [
      "Saved frame number : 0\n",
      "Saved frame3350.jpg\n",
      "Saved frame number : 0\n",
      "Saved frame3351.jpg\n",
      "Saved frame number : 0\n",
      "Saved frame3352.jpg\n",
      "Saved frame number : 0\n",
      "Saved frame3353.jpg\n",
      "Saved frame number : 0\n",
      "Saved frame3354.jpg\n"
     ]
    },
    {
     "name": "stderr",
     "output_type": "stream",
     "text": [
      " 84%|██████████████████████████████████████████████████████████████████▉             | 412/492 [00:17<00:03, 23.51it/s]"
     ]
    },
    {
     "name": "stdout",
     "output_type": "stream",
     "text": [
      "Saved frame number : 0\n",
      "Saved frame3355.jpg\n",
      "Saved frame number : 0\n",
      "Saved frame3356.jpg\n",
      "Saved frame number : 0\n",
      "Saved frame3357.jpg\n",
      "Saved frame number : 0\n",
      "Saved frame3358.jpg\n",
      "Saved frame number : 0\n",
      "Saved frame3359.jpg\n"
     ]
    },
    {
     "name": "stderr",
     "output_type": "stream",
     "text": [
      "\r",
      " 84%|███████████████████████████████████████████████████████████████████▍            | 415/492 [00:18<00:03, 22.86it/s]"
     ]
    },
    {
     "name": "stdout",
     "output_type": "stream",
     "text": [
      "Saved frame number : 0\n",
      "Saved frame3360.jpg\n",
      "Saved frame number : 0\n",
      "Saved frame3361.jpg\n",
      "Saved frame number : 0\n",
      "Saved frame3362.jpg\n",
      "Saved frame number : 0\n",
      "Saved frame3363.jpg\n",
      "Saved frame number : 0\n",
      "Saved frame3364.jpg\n"
     ]
    },
    {
     "name": "stderr",
     "output_type": "stream",
     "text": [
      " 86%|████████████████████████████████████████████████████████████████████▍           | 421/492 [00:18<00:03, 22.99it/s]"
     ]
    },
    {
     "name": "stdout",
     "output_type": "stream",
     "text": [
      "Saved frame number : 0\n",
      "Saved frame3365.jpg\n",
      "Saved frame number : 0\n",
      "Saved frame3366.jpg\n",
      "Saved frame number : 0\n",
      "Saved frame3367.jpg\n",
      "Saved frame number : 0\n",
      "Saved frame3368.jpg\n",
      "Saved frame number : 0\n",
      "Saved frame3369.jpg\n"
     ]
    },
    {
     "name": "stderr",
     "output_type": "stream",
     "text": [
      " 87%|█████████████████████████████████████████████████████████████████████▍          | 427/492 [00:18<00:02, 23.43it/s]"
     ]
    },
    {
     "name": "stdout",
     "output_type": "stream",
     "text": [
      "Saved frame number : 0\n",
      "Saved frame3370.jpg\n",
      "Saved frame number : 0\n",
      "Saved frame3371.jpg\n",
      "Saved frame number : 0\n",
      "Saved frame3372.jpg\n",
      "Saved frame number : 0\n",
      "Saved frame3373.jpg\n",
      "Saved frame number : 0\n",
      "Saved frame3374.jpg\n"
     ]
    },
    {
     "name": "stderr",
     "output_type": "stream",
     "text": [
      "\r",
      " 87%|█████████████████████████████████████████████████████████████████████▉          | 430/492 [00:18<00:02, 23.52it/s]"
     ]
    },
    {
     "name": "stdout",
     "output_type": "stream",
     "text": [
      "Saved frame number : 0\n",
      "Saved frame3375.jpg\n",
      "Saved frame number : 0\n",
      "Saved frame3376.jpg\n",
      "Saved frame number : 0\n",
      "Saved frame3377.jpg\n",
      "Saved frame number : 0\n",
      "Saved frame3378.jpg\n",
      "Saved frame number : 0\n",
      "Saved frame3379.jpg\n",
      "Saved frame number : 0\n"
     ]
    },
    {
     "name": "stderr",
     "output_type": "stream",
     "text": [
      " 89%|██████████████████████████████████████████████████████████████████████▉         | 436/492 [00:18<00:02, 24.09it/s]"
     ]
    },
    {
     "name": "stdout",
     "output_type": "stream",
     "text": [
      "Saved frame3380.jpg\n",
      "Saved frame number : 0\n",
      "Saved frame3381.jpg\n",
      "Saved frame number : 0\n",
      "Saved frame3382.jpg\n",
      "Saved frame number : 0\n",
      "Saved frame3383.jpg\n",
      "Saved frame number : 0\n",
      "Saved frame3384.jpg\n",
      "Saved frame number : 0\n",
      "Saved frame3385.jpg\n"
     ]
    },
    {
     "name": "stderr",
     "output_type": "stream",
     "text": [
      " 90%|███████████████████████████████████████████████████████████████████████▊        | 442/492 [00:19<00:02, 24.58it/s]"
     ]
    },
    {
     "name": "stdout",
     "output_type": "stream",
     "text": [
      "Saved frame number : 0\n",
      "Saved frame3386.jpg\n",
      "Saved frame number : 0\n",
      "Saved frame3387.jpg\n",
      "Saved frame number : 0\n",
      "Saved frame3388.jpg\n",
      "Saved frame number : 0\n",
      "Saved frame3389.jpg\n",
      "Saved frame number : 0\n",
      "Saved frame3390.jpg\n",
      "Saved frame number : 0\n"
     ]
    },
    {
     "name": "stderr",
     "output_type": "stream",
     "text": [
      " 91%|████████████████████████████████████████████████████████████████████████▊       | 448/492 [00:19<00:01, 23.78it/s]"
     ]
    },
    {
     "name": "stdout",
     "output_type": "stream",
     "text": [
      "Saved frame3391.jpg\n",
      "Saved frame number : 0\n",
      "Saved frame3392.jpg\n",
      "Saved frame number : 0\n",
      "Saved frame3393.jpg\n",
      "Saved frame number : 0\n",
      "Saved frame3394.jpg\n",
      "Saved frame number : 0\n",
      "Saved frame3395.jpg\n",
      "Saved frame number : 0\n"
     ]
    },
    {
     "name": "stderr",
     "output_type": "stream",
     "text": [
      "\r",
      " 92%|█████████████████████████████████████████████████████████████████████████▎      | 451/492 [00:19<00:01, 24.16it/s]"
     ]
    },
    {
     "name": "stdout",
     "output_type": "stream",
     "text": [
      "Saved frame3396.jpg\n",
      "Saved frame number : 0\n",
      "Saved frame3397.jpg\n",
      "Saved frame number : 0\n",
      "Saved frame3398.jpg\n",
      "Saved frame number : 0\n",
      "Saved frame3399.jpg\n",
      "Saved frame number : 0\n",
      "Saved frame3400.jpg\n",
      "Saved frame number : 0\n"
     ]
    },
    {
     "name": "stderr",
     "output_type": "stream",
     "text": [
      " 93%|██████████████████████████████████████████████████████████████████████████▎     | 457/492 [00:19<00:01, 23.39it/s]"
     ]
    },
    {
     "name": "stdout",
     "output_type": "stream",
     "text": [
      "Saved frame3401.jpg\n",
      "Saved frame number : 0\n",
      "Saved frame3402.jpg\n",
      "Saved frame number : 0\n",
      "Saved frame3403.jpg\n",
      "Saved frame number : 0\n",
      "Saved frame3404.jpg\n",
      "Saved frame number : 0\n",
      "Saved frame3405.jpg\n",
      "Saved frame number : 0\n"
     ]
    },
    {
     "name": "stderr",
     "output_type": "stream",
     "text": [
      " 94%|███████████████████████████████████████████████████████████████████████████▎    | 463/492 [00:20<00:01, 21.81it/s]"
     ]
    },
    {
     "name": "stdout",
     "output_type": "stream",
     "text": [
      "Saved frame3406.jpg\n",
      "Saved frame number : 0\n",
      "Saved frame3407.jpg\n",
      "Saved frame number : 0\n",
      "Saved frame3408.jpg\n",
      "Saved frame number : 0\n",
      "Saved frame3409.jpg\n",
      "Saved frame number : 0\n",
      "Saved frame3410.jpg\n"
     ]
    },
    {
     "name": "stderr",
     "output_type": "stream",
     "text": [
      "\r",
      " 95%|███████████████████████████████████████████████████████████████████████████▊    | 466/492 [00:20<00:01, 21.18it/s]"
     ]
    },
    {
     "name": "stdout",
     "output_type": "stream",
     "text": [
      "Saved frame number : 0\n",
      "Saved frame3411.jpg\n",
      "Saved frame number : 0\n",
      "Saved frame3412.jpg\n",
      "Saved frame number : 0\n",
      "Saved frame3413.jpg\n",
      "Saved frame number : 0\n",
      "Saved frame3414.jpg\n",
      "Saved frame number : 0\n"
     ]
    },
    {
     "name": "stderr",
     "output_type": "stream",
     "text": [
      " 96%|████████████████████████████████████████████████████████████████████████████▋   | 472/492 [00:20<00:00, 21.08it/s]"
     ]
    },
    {
     "name": "stdout",
     "output_type": "stream",
     "text": [
      "Saved frame3415.jpg\n",
      "Saved frame number : 0\n",
      "Saved frame3416.jpg\n",
      "Saved frame number : 0\n",
      "Saved frame3417.jpg\n",
      "Saved frame number : 0\n",
      "Saved frame3418.jpg\n",
      "Saved frame number : 0\n",
      "Saved frame3419.jpg\n"
     ]
    },
    {
     "name": "stderr",
     "output_type": "stream",
     "text": [
      "\r",
      " 97%|█████████████████████████████████████████████████████████████████████████████▏  | 475/492 [00:20<00:00, 21.35it/s]"
     ]
    },
    {
     "name": "stdout",
     "output_type": "stream",
     "text": [
      "Saved frame number : 0\n",
      "Saved frame3420.jpg\n",
      "Saved frame number : 0\n",
      "Saved frame3421.jpg\n",
      "Saved frame number : 0\n",
      "Saved frame3422.jpg\n",
      "Saved frame number : 0\n",
      "Saved frame3423.jpg\n",
      "Saved frame number : 0\n",
      "Saved frame3424.jpg\n"
     ]
    },
    {
     "name": "stderr",
     "output_type": "stream",
     "text": [
      " 98%|██████████████████████████████████████████████████████████████████████████████▏ | 481/492 [00:20<00:00, 21.70it/s]"
     ]
    },
    {
     "name": "stdout",
     "output_type": "stream",
     "text": [
      "Saved frame number : 0\n",
      "Saved frame3425.jpg\n",
      "Saved frame number : 0\n",
      "Saved frame3426.jpg\n",
      "Saved frame number : 0\n",
      "Saved frame3427.jpg\n",
      "Saved frame number : 0\n",
      "Saved frame3428.jpg\n",
      "Saved frame number : 0\n"
     ]
    },
    {
     "name": "stderr",
     "output_type": "stream",
     "text": [
      "\r",
      " 98%|██████████████████████████████████████████████████████████████████████████████▋ | 484/492 [00:21<00:00, 21.41it/s]"
     ]
    },
    {
     "name": "stdout",
     "output_type": "stream",
     "text": [
      "Saved frame3429.jpg\n",
      "Saved frame number : 0\n",
      "Saved frame3430.jpg\n",
      "Saved frame number : 0\n",
      "Saved frame3431.jpg\n",
      "Saved frame number : 0\n",
      "Saved frame3432.jpg\n",
      "Saved frame number : 0\n"
     ]
    },
    {
     "name": "stderr",
     "output_type": "stream",
     "text": [
      "100%|███████████████████████████████████████████████████████████████████████████████▋| 490/492 [00:21<00:00, 20.73it/s]"
     ]
    },
    {
     "name": "stdout",
     "output_type": "stream",
     "text": [
      "Saved frame3433.jpg\n",
      "Saved frame number : 0\n",
      "Saved frame3434.jpg\n",
      "Saved frame number : 0\n",
      "Saved frame3435.jpg\n",
      "Saved frame number : 0\n",
      "Saved frame3436.jpg\n",
      "Saved frame number : 0\n",
      "Saved frame3437.jpg\n"
     ]
    },
    {
     "name": "stderr",
     "output_type": "stream",
     "text": [
      "100%|████████████████████████████████████████████████████████████████████████████████| 492/492 [00:21<00:00, 22.91it/s]\n"
     ]
    },
    {
     "name": "stdout",
     "output_type": "stream",
     "text": [
      "Saved frame number : 0\n",
      "Saved frame3438.jpg\n",
      "Saved frame number : 0\n",
      "Saved frame3439.jpg\n",
      "Iterating: 7 folder\n"
     ]
    },
    {
     "name": "stderr",
     "output_type": "stream",
     "text": [
      "\r",
      "  0%|                                                                                          | 0/492 [00:00<?, ?it/s]"
     ]
    },
    {
     "name": "stdout",
     "output_type": "stream",
     "text": [
      "Saved frame number : 0\n",
      "Saved frame3440.jpg\n",
      "Saved frame number : 0\n",
      "Saved frame3441.jpg\n",
      "Saved frame number : 0\n"
     ]
    },
    {
     "name": "stderr",
     "output_type": "stream",
     "text": [
      "\r",
      "  1%|▌                                                                                 | 3/492 [00:00<00:22, 21.96it/s]"
     ]
    },
    {
     "name": "stdout",
     "output_type": "stream",
     "text": [
      "Saved frame3442.jpg\n",
      "Saved frame number : 0\n",
      "Saved frame3443.jpg\n",
      "Saved frame number : 0\n"
     ]
    },
    {
     "name": "stderr",
     "output_type": "stream",
     "text": [
      "\r",
      "  1%|█                                                                                 | 6/492 [00:00<00:21, 22.44it/s]"
     ]
    },
    {
     "name": "stdout",
     "output_type": "stream",
     "text": [
      "Saved frame3444.jpg\n",
      "Saved frame number : 0\n",
      "Saved frame3445.jpg\n",
      "Saved frame number : 0\n",
      "Saved frame3446.jpg\n",
      "Saved frame number : 0\n"
     ]
    },
    {
     "name": "stderr",
     "output_type": "stream",
     "text": [
      "\r",
      "  2%|█▌                                                                                | 9/492 [00:00<00:21, 22.99it/s]"
     ]
    },
    {
     "name": "stdout",
     "output_type": "stream",
     "text": [
      "Saved frame3447.jpg\n",
      "Saved frame number : 0\n",
      "Saved frame3448.jpg\n",
      "Saved frame number : 0\n"
     ]
    },
    {
     "name": "stderr",
     "output_type": "stream",
     "text": [
      "\r",
      "  2%|█▉                                                                               | 12/492 [00:00<00:21, 22.64it/s]"
     ]
    },
    {
     "name": "stdout",
     "output_type": "stream",
     "text": [
      "Saved frame3449.jpg\n",
      "Saved frame number : 0\n",
      "Saved frame3450.jpg\n",
      "Saved frame number : 0\n",
      "Saved frame3451.jpg\n",
      "Saved frame number : 0\n",
      "Saved frame3452.jpg\n",
      "Saved frame number : 0\n",
      "Saved frame3453.jpg\n"
     ]
    },
    {
     "name": "stderr",
     "output_type": "stream",
     "text": [
      "\r",
      "  3%|██▍                                                                              | 15/492 [00:00<00:21, 22.09it/s]"
     ]
    },
    {
     "name": "stdout",
     "output_type": "stream",
     "text": [
      "Saved frame number : 0\n",
      "Saved frame3454.jpg\n",
      "Saved frame number : 0\n",
      "Saved frame3455.jpg\n",
      "Saved frame number : 0\n"
     ]
    },
    {
     "name": "stderr",
     "output_type": "stream",
     "text": [
      "\r",
      "  4%|██▉                                                                              | 18/492 [00:00<00:21, 22.15it/s]"
     ]
    },
    {
     "name": "stdout",
     "output_type": "stream",
     "text": [
      "Saved frame3456.jpg\n",
      "Saved frame number : 0\n",
      "Saved frame3457.jpg\n",
      "Saved frame number : 0\n"
     ]
    },
    {
     "name": "stderr",
     "output_type": "stream",
     "text": [
      "\r",
      "  4%|███▍                                                                             | 21/492 [00:00<00:21, 22.09it/s]"
     ]
    },
    {
     "name": "stdout",
     "output_type": "stream",
     "text": [
      "Saved frame3458.jpg\n",
      "Saved frame number : 0\n",
      "Saved frame3459.jpg\n",
      "Saved frame number : 0\n",
      "Saved frame3460.jpg\n",
      "Saved frame number : 0\n",
      "Saved frame3461.jpg\n",
      "Saved frame number : 0\n",
      "Saved frame3462.jpg\n"
     ]
    },
    {
     "name": "stderr",
     "output_type": "stream",
     "text": [
      "\r",
      "  5%|███▉                                                                             | 24/492 [00:01<00:21, 21.74it/s]"
     ]
    },
    {
     "name": "stdout",
     "output_type": "stream",
     "text": [
      "Saved frame number : 0\n",
      "Saved frame3463.jpg\n",
      "Saved frame number : 0\n",
      "Saved frame3464.jpg\n",
      "Saved frame number : 0\n"
     ]
    },
    {
     "name": "stderr",
     "output_type": "stream",
     "text": [
      "\r",
      "  5%|████▍                                                                            | 27/492 [00:01<00:22, 21.00it/s]"
     ]
    },
    {
     "name": "stdout",
     "output_type": "stream",
     "text": [
      "Saved frame3465.jpg\n",
      "Saved frame number : 0\n",
      "Saved frame3466.jpg\n",
      "Saved frame number : 0\n",
      "Saved frame3467.jpg\n",
      "Saved frame number : 0\n",
      "Saved frame3468.jpg\n",
      "Saved frame number : 0\n"
     ]
    },
    {
     "name": "stderr",
     "output_type": "stream",
     "text": [
      "\r",
      "  6%|████▉                                                                            | 30/492 [00:01<00:23, 19.30it/s]"
     ]
    },
    {
     "name": "stdout",
     "output_type": "stream",
     "text": [
      "Saved frame3469.jpg\n",
      "Saved frame number : 0\n"
     ]
    },
    {
     "name": "stderr",
     "output_type": "stream",
     "text": [
      "\r",
      "  7%|█████▎                                                                           | 32/492 [00:01<00:23, 19.30it/s]"
     ]
    },
    {
     "name": "stdout",
     "output_type": "stream",
     "text": [
      "Saved frame3470.jpg\n",
      "Saved frame number : 0\n",
      "Saved frame3471.jpg\n",
      "Saved frame number : 0\n",
      "Saved frame3472.jpg\n",
      "Saved frame number : 0\n",
      "Saved frame3473.jpg\n",
      "Saved frame number : 0\n"
     ]
    },
    {
     "name": "stderr",
     "output_type": "stream",
     "text": [
      "  8%|██████                                                                           | 37/492 [00:01<00:23, 19.15it/s]"
     ]
    },
    {
     "name": "stdout",
     "output_type": "stream",
     "text": [
      "Saved frame3474.jpg\n",
      "Saved frame number : 0\n",
      "Saved frame3475.jpg\n",
      "Saved frame number : 0\n",
      "Saved frame3476.jpg\n",
      "Saved frame number : 0\n",
      "Saved frame3477.jpg\n",
      "Saved frame number : 0\n",
      "Saved frame3478.jpg\n"
     ]
    },
    {
     "name": "stderr",
     "output_type": "stream",
     "text": [
      "  9%|███████                                                                          | 43/492 [00:02<00:21, 21.14it/s]"
     ]
    },
    {
     "name": "stdout",
     "output_type": "stream",
     "text": [
      "Saved frame number : 0\n",
      "Saved frame3479.jpg\n",
      "Saved frame number : 0\n",
      "Saved frame3480.jpg\n",
      "Saved frame number : 0\n",
      "Saved frame3481.jpg\n",
      "Saved frame number : 0\n",
      "Saved frame3482.jpg\n",
      "Saved frame number : 0\n",
      "Saved frame3483.jpg\n"
     ]
    },
    {
     "name": "stderr",
     "output_type": "stream",
     "text": [
      "\r",
      "  9%|███████▌                                                                         | 46/492 [00:02<00:20, 22.09it/s]"
     ]
    },
    {
     "name": "stdout",
     "output_type": "stream",
     "text": [
      "Saved frame number : 0\n",
      "Saved frame3484.jpg\n",
      "Saved frame number : 0\n",
      "Saved frame3485.jpg\n",
      "Saved frame number : 0\n",
      "Saved frame3486.jpg\n",
      "Saved frame number : 0\n",
      "Saved frame3487.jpg\n",
      "Saved frame number : 0\n"
     ]
    },
    {
     "name": "stderr",
     "output_type": "stream",
     "text": [
      "\r",
      " 10%|████████                                                                         | 49/492 [00:02<00:19, 22.94it/s]"
     ]
    },
    {
     "name": "stdout",
     "output_type": "stream",
     "text": [
      "Saved frame3488.jpg\n",
      "Saved frame number : 0\n"
     ]
    },
    {
     "name": "stderr",
     "output_type": "stream",
     "text": [
      "\r",
      " 11%|████████▌                                                                        | 52/492 [00:02<00:18, 23.33it/s]"
     ]
    },
    {
     "name": "stdout",
     "output_type": "stream",
     "text": [
      "Saved frame3489.jpg\n",
      "Saved frame number : 0\n",
      "Saved frame3490.jpg\n",
      "Saved frame number : 0\n",
      "Saved frame3491.jpg\n",
      "Saved frame number : 0\n",
      "Saved frame3492.jpg\n",
      "Saved frame number : 0\n",
      "Saved frame3493.jpg\n",
      "Saved frame number : 0\n"
     ]
    },
    {
     "name": "stderr",
     "output_type": "stream",
     "text": [
      " 12%|█████████▌                                                                       | 58/492 [00:02<00:18, 23.40it/s]"
     ]
    },
    {
     "name": "stdout",
     "output_type": "stream",
     "text": [
      "Saved frame3494.jpg\n",
      "Saved frame number : 0\n",
      "Saved frame3495.jpg\n",
      "Saved frame number : 0\n",
      "Saved frame3496.jpg\n",
      "Saved frame number : 0\n",
      "Saved frame3497.jpg\n",
      "Saved frame number : 0\n",
      "Saved frame3498.jpg\n",
      "Saved frame number : 0\n"
     ]
    },
    {
     "name": "stderr",
     "output_type": "stream",
     "text": [
      "\r",
      " 12%|██████████                                                                       | 61/492 [00:02<00:19, 22.63it/s]"
     ]
    },
    {
     "name": "stdout",
     "output_type": "stream",
     "text": [
      "Saved frame3499.jpg\n",
      "Saved frame number : 0\n",
      "Saved frame3500.jpg\n",
      "Saved frame number : 0\n",
      "Saved frame3501.jpg\n",
      "Saved frame number : 0\n",
      "Saved frame3502.jpg\n"
     ]
    },
    {
     "name": "stderr",
     "output_type": "stream",
     "text": [
      "\r",
      " 13%|██████████▌                                                                      | 64/492 [00:02<00:19, 22.37it/s]"
     ]
    },
    {
     "name": "stdout",
     "output_type": "stream",
     "text": [
      "Saved frame number : 0\n",
      "Saved frame3503.jpg\n"
     ]
    },
    {
     "name": "stderr",
     "output_type": "stream",
     "text": [
      "\r",
      " 14%|███████████                                                                      | 67/492 [00:03<00:19, 22.05it/s]"
     ]
    },
    {
     "name": "stdout",
     "output_type": "stream",
     "text": [
      "Saved frame number : 0\n",
      "Saved frame3504.jpg\n",
      "Saved frame number : 0\n",
      "Saved frame3505.jpg\n",
      "Saved frame number : 0\n",
      "Saved frame3506.jpg\n",
      "Saved frame number : 0\n",
      "Saved frame3507.jpg\n",
      "Saved frame number : 0\n"
     ]
    },
    {
     "name": "stderr",
     "output_type": "stream",
     "text": [
      "\r",
      " 14%|███████████▌                                                                     | 70/492 [00:03<00:20, 20.96it/s]"
     ]
    },
    {
     "name": "stdout",
     "output_type": "stream",
     "text": [
      "Saved frame3508.jpg\n",
      "Saved frame number : 0\n",
      "Saved frame3509.jpg\n",
      "Saved frame number : 0\n",
      "Saved frame3510.jpg\n",
      "Saved frame number : 0\n",
      "Saved frame3511.jpg\n",
      "Saved frame number : 0\n"
     ]
    },
    {
     "name": "stderr",
     "output_type": "stream",
     "text": [
      " 15%|████████████▌                                                                    | 76/492 [00:03<00:19, 21.42it/s]"
     ]
    },
    {
     "name": "stdout",
     "output_type": "stream",
     "text": [
      "Saved frame3512.jpg\n",
      "Saved frame number : 0\n",
      "Saved frame3513.jpg\n",
      "Saved frame number : 0\n",
      "Saved frame3514.jpg\n",
      "Saved frame number : 0\n",
      "Saved frame3515.jpg\n",
      "Saved frame number : 0\n",
      "Saved frame3516.jpg\n"
     ]
    },
    {
     "name": "stderr",
     "output_type": "stream",
     "text": [
      "\r",
      " 16%|█████████████                                                                    | 79/492 [00:03<00:19, 21.49it/s]"
     ]
    },
    {
     "name": "stdout",
     "output_type": "stream",
     "text": [
      "Saved frame number : 0\n",
      "Saved frame3517.jpg\n",
      "Saved frame number : 0\n",
      "Saved frame3518.jpg\n",
      "Saved frame number : 0\n",
      "Saved frame3519.jpg\n",
      "Saved frame number : 0\n",
      "Saved frame3520.jpg\n",
      "Saved frame number : 0\n"
     ]
    },
    {
     "name": "stderr",
     "output_type": "stream",
     "text": [
      "\r",
      " 17%|█████████████▌                                                                   | 82/492 [00:03<00:19, 21.35it/s]"
     ]
    },
    {
     "name": "stdout",
     "output_type": "stream",
     "text": [
      "Saved frame3521.jpg\n",
      "Saved frame number : 0\n",
      "Saved frame3522.jpg\n",
      "Saved frame number : 0\n",
      "Saved frame3523.jpg\n",
      "Saved frame number : 0\n"
     ]
    },
    {
     "name": "stderr",
     "output_type": "stream",
     "text": [
      "\r",
      " 17%|█████████████▉                                                                   | 85/492 [00:03<00:20, 19.48it/s]"
     ]
    },
    {
     "name": "stdout",
     "output_type": "stream",
     "text": [
      "Saved frame3524.jpg\n"
     ]
    },
    {
     "name": "stderr",
     "output_type": "stream",
     "text": [
      "\r",
      " 18%|██████████████▍                                                                  | 88/492 [00:04<00:20, 19.46it/s]"
     ]
    },
    {
     "name": "stdout",
     "output_type": "stream",
     "text": [
      "Saved frame number : 0\n",
      "Saved frame3525.jpg\n",
      "Saved frame number : 0\n",
      "Saved frame3526.jpg\n",
      "Saved frame number : 0\n",
      "Saved frame3527.jpg\n",
      "Saved frame number : 0\n",
      "Saved frame3528.jpg\n",
      "Saved frame number : 0\n"
     ]
    },
    {
     "name": "stderr",
     "output_type": "stream",
     "text": [
      " 19%|███████████████▏                                                                 | 92/492 [00:04<00:20, 19.52it/s]"
     ]
    },
    {
     "name": "stdout",
     "output_type": "stream",
     "text": [
      "Saved frame3529.jpg\n",
      "Saved frame number : 0\n",
      "Saved frame3530.jpg\n",
      "Saved frame number : 0\n",
      "Saved frame3531.jpg\n",
      "Saved frame number : 0\n",
      "Saved frame3532.jpg\n",
      "Saved frame number : 0\n"
     ]
    },
    {
     "name": "stderr",
     "output_type": "stream",
     "text": [
      " 20%|███████████████▉                                                                 | 97/492 [00:04<00:19, 20.16it/s]"
     ]
    },
    {
     "name": "stdout",
     "output_type": "stream",
     "text": [
      "Saved frame3533.jpg\n",
      "Saved frame number : 0\n",
      "Saved frame3534.jpg\n",
      "Saved frame number : 0\n",
      "Saved frame3535.jpg\n",
      "Saved frame number : 0\n",
      "Saved frame3536.jpg\n",
      "Saved frame number : 0\n",
      "Saved frame3537.jpg\n",
      "Saved frame number : 0\n"
     ]
    },
    {
     "name": "stderr",
     "output_type": "stream",
     "text": [
      "\r",
      " 20%|████████████████▎                                                               | 100/492 [00:04<00:17, 22.00it/s]"
     ]
    },
    {
     "name": "stdout",
     "output_type": "stream",
     "text": [
      "Saved frame3538.jpg\n",
      "Saved frame number : 0\n",
      "Saved frame3539.jpg\n",
      "Saved frame number : 0\n",
      "Saved frame3540.jpg\n",
      "Saved frame number : 0\n",
      "Saved frame3541.jpg\n",
      "Saved frame number : 0\n"
     ]
    },
    {
     "name": "stderr",
     "output_type": "stream",
     "text": [
      "\r",
      " 21%|████████████████▋                                                               | 103/492 [00:04<00:17, 22.78it/s]"
     ]
    },
    {
     "name": "stdout",
     "output_type": "stream",
     "text": [
      "Saved frame3542.jpg\n",
      "Saved frame number : 0\n",
      "Saved frame3543.jpg\n"
     ]
    },
    {
     "name": "stderr",
     "output_type": "stream",
     "text": [
      "\r",
      " 22%|█████████████████▏                                                              | 106/492 [00:04<00:16, 23.12it/s]"
     ]
    },
    {
     "name": "stdout",
     "output_type": "stream",
     "text": [
      "Saved frame number : 0\n",
      "Saved frame3544.jpg\n",
      "Saved frame number : 0\n",
      "Saved frame3545.jpg\n",
      "Saved frame number : 0\n",
      "Saved frame3546.jpg\n",
      "Saved frame number : 0\n",
      "Saved frame3547.jpg\n"
     ]
    },
    {
     "name": "stderr",
     "output_type": "stream",
     "text": [
      "\r",
      " 22%|█████████████████▋                                                              | 109/492 [00:05<00:16, 23.63it/s]"
     ]
    },
    {
     "name": "stdout",
     "output_type": "stream",
     "text": [
      "Saved frame number : 0\n",
      "Saved frame3548.jpg\n"
     ]
    },
    {
     "name": "stderr",
     "output_type": "stream",
     "text": [
      "\r",
      " 23%|██████████████████▏                                                             | 112/492 [00:05<00:16, 23.37it/s]"
     ]
    },
    {
     "name": "stdout",
     "output_type": "stream",
     "text": [
      "Saved frame number : 0\n",
      "Saved frame3549.jpg\n",
      "Saved frame number : 0\n",
      "Saved frame3550.jpg\n",
      "Saved frame number : 0\n",
      "Saved frame3551.jpg\n",
      "Saved frame number : 0\n",
      "Saved frame3552.jpg\n",
      "Saved frame number : 0\n",
      "Saved frame3553.jpg\n"
     ]
    },
    {
     "name": "stderr",
     "output_type": "stream",
     "text": [
      "\r",
      " 23%|██████████████████▋                                                             | 115/492 [00:05<00:16, 22.45it/s]"
     ]
    },
    {
     "name": "stdout",
     "output_type": "stream",
     "text": [
      "Saved frame number : 0\n",
      "Saved frame3554.jpg\n",
      "Saved frame number : 0\n",
      "Saved frame3555.jpg\n",
      "Saved frame number : 0\n",
      "Saved frame3556.jpg\n",
      "Saved frame number : 0\n"
     ]
    },
    {
     "name": "stderr",
     "output_type": "stream",
     "text": [
      "\r",
      " 24%|███████████████████▏                                                            | 118/492 [00:05<00:16, 22.15it/s]"
     ]
    },
    {
     "name": "stdout",
     "output_type": "stream",
     "text": [
      "Saved frame3557.jpg\n",
      "Saved frame number : 0\n"
     ]
    },
    {
     "name": "stderr",
     "output_type": "stream",
     "text": [
      "\r",
      " 25%|███████████████████▋                                                            | 121/492 [00:05<00:16, 22.33it/s]"
     ]
    },
    {
     "name": "stdout",
     "output_type": "stream",
     "text": [
      "Saved frame3558.jpg\n",
      "Saved frame number : 0\n",
      "Saved frame3559.jpg\n",
      "Saved frame number : 0\n",
      "Saved frame3560.jpg\n",
      "Saved frame number : 0\n",
      "Saved frame3561.jpg\n",
      "Saved frame number : 0\n",
      "Saved frame3562.jpg\n"
     ]
    },
    {
     "name": "stderr",
     "output_type": "stream",
     "text": [
      "\r",
      " 25%|████████████████████▏                                                           | 124/492 [00:05<00:16, 21.92it/s]"
     ]
    },
    {
     "name": "stdout",
     "output_type": "stream",
     "text": [
      "Saved frame number : 0\n",
      "Saved frame3563.jpg\n",
      "Saved frame number : 0\n",
      "Saved frame3564.jpg\n",
      "Saved frame number : 0\n",
      "Saved frame3565.jpg\n",
      "Saved frame number : 0\n"
     ]
    },
    {
     "name": "stderr",
     "output_type": "stream",
     "text": [
      "\r",
      " 26%|████████████████████▋                                                           | 127/492 [00:05<00:17, 21.46it/s]"
     ]
    },
    {
     "name": "stdout",
     "output_type": "stream",
     "text": [
      "Saved frame3566.jpg\n",
      "Saved frame number : 0\n"
     ]
    },
    {
     "name": "stderr",
     "output_type": "stream",
     "text": [
      "\r",
      " 26%|█████████████████████▏                                                          | 130/492 [00:06<00:17, 20.71it/s]"
     ]
    },
    {
     "name": "stdout",
     "output_type": "stream",
     "text": [
      "Saved frame3567.jpg\n",
      "Saved frame number : 0\n",
      "Saved frame3568.jpg\n",
      "Saved frame number : 0\n",
      "Saved frame3569.jpg\n",
      "Saved frame number : 0\n",
      "Saved frame3570.jpg\n",
      "Saved frame number : 0\n"
     ]
    },
    {
     "name": "stderr",
     "output_type": "stream",
     "text": [
      "\r",
      " 27%|█████████████████████▋                                                          | 133/492 [00:06<00:17, 20.51it/s]"
     ]
    },
    {
     "name": "stdout",
     "output_type": "stream",
     "text": [
      "Saved frame3571.jpg\n",
      "Saved frame number : 0\n",
      "Saved frame3572.jpg\n",
      "Saved frame number : 0\n",
      "Saved frame3573.jpg\n",
      "Saved frame number : 0\n"
     ]
    },
    {
     "name": "stderr",
     "output_type": "stream",
     "text": [
      "\r",
      " 28%|██████████████████████                                                          | 136/492 [00:06<00:17, 20.21it/s]"
     ]
    },
    {
     "name": "stdout",
     "output_type": "stream",
     "text": [
      "Saved frame3574.jpg\n",
      "Saved frame number : 0\n",
      "Saved frame3575.jpg\n",
      "Saved frame number : 0\n",
      "Saved frame3576.jpg\n",
      "Saved frame number : 0\n",
      "Saved frame3577.jpg\n"
     ]
    },
    {
     "name": "stderr",
     "output_type": "stream",
     "text": [
      "\r",
      " 28%|██████████████████████▌                                                         | 139/492 [00:06<00:18, 19.46it/s]"
     ]
    },
    {
     "name": "stdout",
     "output_type": "stream",
     "text": [
      "Saved frame number : 0\n",
      "Saved frame3578.jpg\n",
      "Saved frame number : 0\n",
      "Saved frame3579.jpg\n"
     ]
    },
    {
     "name": "stderr",
     "output_type": "stream",
     "text": [
      "\r",
      " 29%|██████████████████████▉                                                         | 141/492 [00:06<00:18, 19.05it/s]"
     ]
    },
    {
     "name": "stdout",
     "output_type": "stream",
     "text": [
      "Saved frame number : 0\n",
      "Saved frame3580.jpg\n",
      "Saved frame number : 0\n",
      "Saved frame3581.jpg\n"
     ]
    },
    {
     "name": "stderr",
     "output_type": "stream",
     "text": [
      "\r",
      " 29%|███████████████████████▎                                                        | 143/492 [00:06<00:18, 19.06it/s]"
     ]
    },
    {
     "name": "stdout",
     "output_type": "stream",
     "text": [
      "Saved frame number : 0\n",
      "Saved frame3582.jpg\n",
      "Saved frame number : 0\n",
      "Saved frame3583.jpg\n"
     ]
    },
    {
     "name": "stderr",
     "output_type": "stream",
     "text": [
      "\r",
      " 30%|███████████████████████▋                                                        | 146/492 [00:06<00:17, 19.56it/s]"
     ]
    },
    {
     "name": "stdout",
     "output_type": "stream",
     "text": [
      "Saved frame number : 0\n",
      "Saved frame3584.jpg\n",
      "Saved frame number : 0\n",
      "Saved frame3585.jpg\n",
      "Saved frame number : 0\n",
      "Saved frame3586.jpg\n",
      "Saved frame number : 0\n",
      "Saved frame3587.jpg\n",
      "Saved frame number : 0\n"
     ]
    },
    {
     "name": "stderr",
     "output_type": "stream",
     "text": [
      " 31%|████████████████████████▋                                                       | 152/492 [00:07<00:15, 21.97it/s]"
     ]
    },
    {
     "name": "stdout",
     "output_type": "stream",
     "text": [
      "Saved frame3588.jpg\n",
      "Saved frame number : 0\n",
      "Saved frame3589.jpg\n",
      "Saved frame number : 0\n",
      "Saved frame3590.jpg\n",
      "Saved frame number : 0\n",
      "Saved frame3591.jpg\n",
      "Saved frame number : 0\n",
      "Saved frame3592.jpg\n",
      "Saved frame number : 0\n",
      "Saved frame3593.jpg\n"
     ]
    },
    {
     "name": "stderr",
     "output_type": "stream",
     "text": [
      "\r",
      " 32%|█████████████████████████▏                                                      | 155/492 [00:07<00:14, 23.19it/s]"
     ]
    },
    {
     "name": "stdout",
     "output_type": "stream",
     "text": [
      "Saved frame number : 0\n",
      "Saved frame3594.jpg\n",
      "Saved frame number : 0\n",
      "Saved frame3595.jpg\n",
      "Saved frame number : 0\n",
      "Saved frame3596.jpg\n",
      "Saved frame number : 0\n"
     ]
    },
    {
     "name": "stderr",
     "output_type": "stream",
     "text": [
      "\r",
      " 32%|█████████████████████████▋                                                      | 158/492 [00:07<00:13, 24.03it/s]"
     ]
    },
    {
     "name": "stdout",
     "output_type": "stream",
     "text": [
      "Saved frame3597.jpg\n",
      "Saved frame number : 0\n",
      "Saved frame3598.jpg\n",
      "Saved frame number : 0\n"
     ]
    },
    {
     "name": "stderr",
     "output_type": "stream",
     "text": [
      "\r",
      " 33%|██████████████████████████▏                                                     | 161/492 [00:07<00:13, 24.77it/s]"
     ]
    },
    {
     "name": "stdout",
     "output_type": "stream",
     "text": [
      "Saved frame3599.jpg\n",
      "Saved frame number : 0\n",
      "Saved frame3600.jpg\n",
      "Saved frame number : 0\n",
      "Saved frame3601.jpg\n",
      "Saved frame number : 0\n",
      "Saved frame3602.jpg\n"
     ]
    },
    {
     "name": "stderr",
     "output_type": "stream",
     "text": [
      "\r",
      " 33%|██████████████████████████▋                                                     | 164/492 [00:07<00:13, 25.17it/s]"
     ]
    },
    {
     "name": "stdout",
     "output_type": "stream",
     "text": [
      "Saved frame number : 0\n",
      "Saved frame3603.jpg\n",
      "Saved frame number : 0\n",
      "Saved frame3604.jpg\n"
     ]
    },
    {
     "name": "stderr",
     "output_type": "stream",
     "text": [
      "\r",
      " 34%|███████████████████████████▏                                                    | 167/492 [00:07<00:13, 24.64it/s]"
     ]
    },
    {
     "name": "stdout",
     "output_type": "stream",
     "text": [
      "Saved frame number : 0\n",
      "Saved frame3605.jpg\n",
      "Saved frame number : 0\n",
      "Saved frame3606.jpg\n",
      "Saved frame number : 0\n",
      "Saved frame3607.jpg\n",
      "Saved frame number : 0\n",
      "Saved frame3608.jpg\n",
      "Saved frame number : 0\n"
     ]
    },
    {
     "name": "stderr",
     "output_type": "stream",
     "text": [
      "\r",
      " 35%|███████████████████████████▋                                                    | 170/492 [00:07<00:14, 22.94it/s]"
     ]
    },
    {
     "name": "stdout",
     "output_type": "stream",
     "text": [
      "Saved frame3609.jpg\n",
      "Saved frame number : 0\n",
      "Saved frame3610.jpg\n",
      "Saved frame number : 0\n",
      "Saved frame3611.jpg\n"
     ]
    },
    {
     "name": "stderr",
     "output_type": "stream",
     "text": [
      "\r",
      " 35%|████████████████████████████▏                                                   | 173/492 [00:08<00:14, 22.13it/s]"
     ]
    },
    {
     "name": "stdout",
     "output_type": "stream",
     "text": [
      "Saved frame number : 0\n",
      "Saved frame3612.jpg\n",
      "Saved frame number : 0\n"
     ]
    },
    {
     "name": "stderr",
     "output_type": "stream",
     "text": [
      "\r",
      " 36%|████████████████████████████▌                                                   | 176/492 [00:08<00:14, 21.86it/s]"
     ]
    },
    {
     "name": "stdout",
     "output_type": "stream",
     "text": [
      "Saved frame3613.jpg\n",
      "Saved frame number : 0\n",
      "Saved frame3614.jpg\n",
      "Saved frame number : 0\n",
      "Saved frame3615.jpg\n",
      "Saved frame number : 0\n",
      "Saved frame3616.jpg\n",
      "Saved frame number : 0\n",
      "Saved frame3617.jpg\n"
     ]
    },
    {
     "name": "stderr",
     "output_type": "stream",
     "text": [
      "\r",
      " 36%|█████████████████████████████                                                   | 179/492 [00:08<00:14, 21.38it/s]"
     ]
    },
    {
     "name": "stdout",
     "output_type": "stream",
     "text": [
      "Saved frame number : 0\n",
      "Saved frame3618.jpg\n",
      "Saved frame number : 0\n",
      "Saved frame3619.jpg\n",
      "Saved frame number : 0\n"
     ]
    },
    {
     "name": "stderr",
     "output_type": "stream",
     "text": [
      "\r",
      " 37%|█████████████████████████████▌                                                  | 182/492 [00:08<00:14, 20.87it/s]"
     ]
    },
    {
     "name": "stdout",
     "output_type": "stream",
     "text": [
      "Saved frame3620.jpg\n",
      "Saved frame number : 0\n",
      "Saved frame3621.jpg\n",
      "Saved frame number : 0\n",
      "Saved frame3622.jpg\n",
      "Saved frame number : 0\n",
      "Saved frame3623.jpg\n",
      "Saved frame number : 0\n"
     ]
    },
    {
     "name": "stderr",
     "output_type": "stream",
     "text": [
      "\r",
      " 38%|██████████████████████████████                                                  | 185/492 [00:08<00:15, 19.89it/s]"
     ]
    },
    {
     "name": "stdout",
     "output_type": "stream",
     "text": [
      "Saved frame3624.jpg\n",
      "Saved frame number : 0\n",
      "Saved frame3625.jpg\n"
     ]
    },
    {
     "name": "stderr",
     "output_type": "stream",
     "text": [
      "\r",
      " 38%|██████████████████████████████▌                                                 | 188/492 [00:08<00:15, 19.33it/s]"
     ]
    },
    {
     "name": "stdout",
     "output_type": "stream",
     "text": [
      "Saved frame number : 0\n",
      "Saved frame3626.jpg\n",
      "Saved frame number : 0\n",
      "Saved frame3627.jpg\n",
      "Saved frame number : 0\n",
      "Saved frame3628.jpg\n",
      "Saved frame number : 0\n",
      "Saved frame3629.jpg\n",
      "Saved frame number : 0\n"
     ]
    },
    {
     "name": "stderr",
     "output_type": "stream",
     "text": [
      "\r",
      " 39%|███████████████████████████████                                                 | 191/492 [00:08<00:15, 19.73it/s]"
     ]
    },
    {
     "name": "stdout",
     "output_type": "stream",
     "text": [
      "Saved frame3630.jpg\n",
      "Saved frame number : 0\n",
      "Saved frame3631.jpg\n",
      "Saved frame number : 0\n",
      "Saved frame3632.jpg\n"
     ]
    },
    {
     "name": "stderr",
     "output_type": "stream",
     "text": [
      "\r",
      " 39%|███████████████████████████████▌                                                | 194/492 [00:09<00:14, 19.99it/s]"
     ]
    },
    {
     "name": "stdout",
     "output_type": "stream",
     "text": [
      "Saved frame number : 0\n",
      "Saved frame3633.jpg\n",
      "Saved frame number : 0\n",
      "Saved frame3634.jpg\n"
     ]
    },
    {
     "name": "stderr",
     "output_type": "stream",
     "text": [
      "\r",
      " 40%|████████████████████████████████                                                | 197/492 [00:09<00:14, 20.60it/s]"
     ]
    },
    {
     "name": "stdout",
     "output_type": "stream",
     "text": [
      "Saved frame number : 0\n",
      "Saved frame3635.jpg\n",
      "Saved frame number : 0\n",
      "Saved frame3636.jpg\n",
      "Saved frame number : 0\n",
      "Saved frame3637.jpg\n"
     ]
    },
    {
     "name": "stderr",
     "output_type": "stream",
     "text": [
      "\r",
      " 41%|████████████████████████████████▌                                               | 200/492 [00:09<00:13, 20.95it/s]"
     ]
    },
    {
     "name": "stdout",
     "output_type": "stream",
     "text": [
      "Saved frame number : 0\n",
      "Saved frame3638.jpg\n",
      "Saved frame number : 0\n",
      "Saved frame3639.jpg\n",
      "Saved frame number : 0\n",
      "Saved frame3640.jpg\n",
      "Saved frame number : 0\n",
      "Saved frame3641.jpg\n",
      "Saved frame number : 0\n"
     ]
    },
    {
     "name": "stderr",
     "output_type": "stream",
     "text": [
      "\r",
      " 41%|█████████████████████████████████                                               | 203/492 [00:09<00:13, 21.09it/s]"
     ]
    },
    {
     "name": "stdout",
     "output_type": "stream",
     "text": [
      "Saved frame3642.jpg\n",
      "Saved frame number : 0\n",
      "Saved frame3643.jpg\n",
      "Saved frame number : 0\n"
     ]
    },
    {
     "name": "stderr",
     "output_type": "stream",
     "text": [
      "\r",
      " 42%|█████████████████████████████████▍                                              | 206/492 [00:09<00:14, 19.79it/s]"
     ]
    },
    {
     "name": "stdout",
     "output_type": "stream",
     "text": [
      "Saved frame3644.jpg\n",
      "Saved frame number : 0\n",
      "Saved frame3645.jpg\n",
      "Saved frame number : 0\n",
      "Saved frame3646.jpg\n",
      "Saved frame number : 0\n",
      "Saved frame3647.jpg\n",
      "Saved frame number : 0\n"
     ]
    },
    {
     "name": "stderr",
     "output_type": "stream",
     "text": [
      "\r",
      " 42%|█████████████████████████████████▉                                              | 209/492 [00:09<00:14, 19.44it/s]"
     ]
    },
    {
     "name": "stdout",
     "output_type": "stream",
     "text": [
      "Saved frame3648.jpg\n",
      "Saved frame number : 0\n",
      "Saved frame3649.jpg\n",
      "Saved frame number : 0\n",
      "Saved frame3650.jpg\n"
     ]
    },
    {
     "name": "stderr",
     "output_type": "stream",
     "text": [
      "\r",
      " 43%|██████████████████████████████████▍                                             | 212/492 [00:09<00:13, 20.45it/s]"
     ]
    },
    {
     "name": "stdout",
     "output_type": "stream",
     "text": [
      "Saved frame number : 0\n",
      "Saved frame3651.jpg\n",
      "Saved frame number : 0\n",
      "Saved frame3652.jpg\n",
      "Saved frame number : 0\n"
     ]
    },
    {
     "name": "stderr",
     "output_type": "stream",
     "text": [
      "\r",
      " 44%|██████████████████████████████████▉                                             | 215/492 [00:10<00:13, 20.88it/s]"
     ]
    },
    {
     "name": "stdout",
     "output_type": "stream",
     "text": [
      "Saved frame3653.jpg\n",
      "Saved frame number : 0\n",
      "Saved frame3654.jpg\n",
      "Saved frame number : 0\n",
      "Saved frame3655.jpg\n"
     ]
    },
    {
     "name": "stderr",
     "output_type": "stream",
     "text": [
      "\r",
      " 44%|███████████████████████████████████▍                                            | 218/492 [00:10<00:12, 21.59it/s]"
     ]
    },
    {
     "name": "stdout",
     "output_type": "stream",
     "text": [
      "Saved frame number : 0\n",
      "Saved frame3656.jpg\n",
      "Saved frame number : 0\n",
      "Saved frame3657.jpg\n",
      "Saved frame number : 0\n",
      "Saved frame3658.jpg\n",
      "Saved frame number : 0\n",
      "Saved frame3659.jpg\n",
      "Saved frame number : 0\n"
     ]
    },
    {
     "name": "stderr",
     "output_type": "stream",
     "text": [
      "\r",
      " 45%|███████████████████████████████████▉                                            | 221/492 [00:10<00:12, 21.24it/s]"
     ]
    },
    {
     "name": "stdout",
     "output_type": "stream",
     "text": [
      "Saved frame3660.jpg\n",
      "Saved frame number : 0\n",
      "Saved frame3661.jpg\n",
      "Saved frame number : 0\n",
      "Saved frame3662.jpg\n",
      "Saved frame number : 0\n"
     ]
    },
    {
     "name": "stderr",
     "output_type": "stream",
     "text": [
      "\r",
      " 46%|████████████████████████████████████▍                                           | 224/492 [00:10<00:12, 21.59it/s]"
     ]
    },
    {
     "name": "stdout",
     "output_type": "stream",
     "text": [
      "Saved frame3663.jpg\n",
      "Saved frame number : 0\n",
      "Saved frame3664.jpg\n"
     ]
    },
    {
     "name": "stderr",
     "output_type": "stream",
     "text": [
      "\r",
      " 46%|████████████████████████████████████▉                                           | 227/492 [00:10<00:12, 21.89it/s]"
     ]
    },
    {
     "name": "stdout",
     "output_type": "stream",
     "text": [
      "Saved frame number : 0\n",
      "Saved frame3665.jpg\n",
      "Saved frame number : 0\n",
      "Saved frame3666.jpg\n",
      "Saved frame number : 0\n",
      "Saved frame3667.jpg\n",
      "Saved frame number : 0\n",
      "Saved frame3668.jpg\n",
      "Saved frame number : 0\n"
     ]
    },
    {
     "name": "stderr",
     "output_type": "stream",
     "text": [
      " 47%|█████████████████████████████████████▉                                          | 233/492 [00:10<00:12, 21.53it/s]"
     ]
    },
    {
     "name": "stdout",
     "output_type": "stream",
     "text": [
      "Saved frame3669.jpg\n",
      "Saved frame number : 0\n",
      "Saved frame3670.jpg\n",
      "Saved frame number : 0\n",
      "Saved frame3671.jpg\n",
      "Saved frame number : 0\n",
      "Saved frame3672.jpg\n",
      "Saved frame number : 0\n",
      "Saved frame3673.jpg\n"
     ]
    },
    {
     "name": "stderr",
     "output_type": "stream",
     "text": [
      "\r",
      " 48%|██████████████████████████████████████▎                                         | 236/492 [00:11<00:11, 21.75it/s]"
     ]
    },
    {
     "name": "stdout",
     "output_type": "stream",
     "text": [
      "Saved frame number : 0\n",
      "Saved frame3674.jpg\n",
      "Saved frame number : 0\n",
      "Saved frame3675.jpg\n",
      "Saved frame number : 0\n",
      "Saved frame3676.jpg\n",
      "Saved frame number : 0\n",
      "Saved frame3677.jpg\n"
     ]
    },
    {
     "name": "stderr",
     "output_type": "stream",
     "text": [
      "\r",
      " 49%|██████████████████████████████████████▊                                         | 239/492 [00:11<00:11, 22.24it/s]"
     ]
    },
    {
     "name": "stdout",
     "output_type": "stream",
     "text": [
      "Saved frame number : 0\n",
      "Saved frame3678.jpg\n"
     ]
    },
    {
     "name": "stderr",
     "output_type": "stream",
     "text": [
      "\r",
      " 49%|███████████████████████████████████████▎                                        | 242/492 [00:11<00:11, 22.25it/s]"
     ]
    },
    {
     "name": "stdout",
     "output_type": "stream",
     "text": [
      "Saved frame number : 0\n",
      "Saved frame3679.jpg\n",
      "Saved frame number : 0\n",
      "Saved frame3680.jpg\n",
      "Saved frame number : 0\n",
      "Saved frame3681.jpg\n",
      "Saved frame number : 0\n",
      "Saved frame3682.jpg\n",
      "Saved frame number : 0\n"
     ]
    },
    {
     "name": "stderr",
     "output_type": "stream",
     "text": [
      "\r",
      " 50%|███████████████████████████████████████▊                                        | 245/492 [00:11<00:11, 21.18it/s]"
     ]
    },
    {
     "name": "stdout",
     "output_type": "stream",
     "text": [
      "Saved frame3683.jpg\n",
      "Saved frame number : 0\n",
      "Saved frame3684.jpg\n",
      "Saved frame number : 0\n",
      "Saved frame3685.jpg\n",
      "Saved frame number : 0\n",
      "Saved frame3686.jpg\n",
      "Saved frame number : 0\n"
     ]
    },
    {
     "name": "stderr",
     "output_type": "stream",
     "text": [
      " 51%|████████████████████████████████████████▊                                       | 251/492 [00:11<00:11, 20.57it/s]"
     ]
    },
    {
     "name": "stdout",
     "output_type": "stream",
     "text": [
      "Saved frame3687.jpg\n",
      "Saved frame number : 0\n",
      "Saved frame3688.jpg\n",
      "Saved frame number : 0\n",
      "Saved frame3689.jpg\n",
      "Saved frame number : 0\n",
      "Saved frame3690.jpg\n",
      "Saved frame number : 0\n",
      "Saved frame3691.jpg\n"
     ]
    },
    {
     "name": "stderr",
     "output_type": "stream",
     "text": [
      "\r",
      " 52%|█████████████████████████████████████████▎                                      | 254/492 [00:11<00:11, 19.88it/s]"
     ]
    },
    {
     "name": "stdout",
     "output_type": "stream",
     "text": [
      "Saved frame number : 0\n",
      "Saved frame3692.jpg\n",
      "Saved frame number : 0\n",
      "Saved frame3693.jpg\n",
      "Saved frame number : 0\n",
      "Saved frame3694.jpg\n"
     ]
    },
    {
     "name": "stderr",
     "output_type": "stream",
     "text": [
      "\r",
      " 52%|█████████████████████████████████████████▊                                      | 257/492 [00:12<00:13, 16.82it/s]"
     ]
    },
    {
     "name": "stdout",
     "output_type": "stream",
     "text": [
      "Saved frame number : 0\n",
      "Saved frame3695.jpg\n",
      "Saved frame number : 0\n",
      "Saved frame3696.jpg\n",
      "Saved frame number : 0\n",
      "Saved frame3697.jpg\n",
      "Saved frame number : 0\n"
     ]
    },
    {
     "name": "stderr",
     "output_type": "stream",
     "text": [
      " 53%|██████████████████████████████████████████▍                                     | 261/492 [00:12<00:13, 17.06it/s]"
     ]
    },
    {
     "name": "stdout",
     "output_type": "stream",
     "text": [
      "Saved frame3698.jpg\n",
      "Saved frame number : 0\n",
      "Saved frame3699.jpg\n",
      "Saved frame number : 0\n",
      "Saved frame3700.jpg\n",
      "Saved frame number : 0\n",
      "Saved frame3701.jpg\n",
      "Saved frame number : 0\n"
     ]
    },
    {
     "name": "stderr",
     "output_type": "stream",
     "text": [
      "\r",
      " 54%|██████████████████████████████████████████▉                                     | 264/492 [00:12<00:12, 17.98it/s]"
     ]
    },
    {
     "name": "stdout",
     "output_type": "stream",
     "text": [
      "Saved frame3702.jpg\n",
      "Saved frame number : 0\n",
      "Saved frame3703.jpg\n",
      "Saved frame number : 0\n",
      "Saved frame3704.jpg\n",
      "Saved frame number : 0\n"
     ]
    },
    {
     "name": "stderr",
     "output_type": "stream",
     "text": [
      "\r",
      " 54%|███████████████████████████████████████████▍                                    | 267/492 [00:12<00:11, 18.95it/s]"
     ]
    },
    {
     "name": "stdout",
     "output_type": "stream",
     "text": [
      "Saved frame3705.jpg\n",
      "Saved frame number : 0\n",
      "Saved frame3706.jpg\n"
     ]
    },
    {
     "name": "stderr",
     "output_type": "stream",
     "text": [
      "\r",
      " 55%|███████████████████████████████████████████▉                                    | 270/492 [00:12<00:11, 19.94it/s]"
     ]
    },
    {
     "name": "stdout",
     "output_type": "stream",
     "text": [
      "Saved frame number : 0\n",
      "Saved frame3707.jpg\n",
      "Saved frame number : 0\n",
      "Saved frame3708.jpg\n",
      "Saved frame number : 0\n",
      "Saved frame3709.jpg\n",
      "Saved frame number : 0\n",
      "Saved frame3710.jpg\n",
      "Saved frame number : 0\n"
     ]
    },
    {
     "name": "stderr",
     "output_type": "stream",
     "text": [
      "\r",
      " 55%|████████████████████████████████████████████▍                                   | 273/492 [00:13<00:11, 19.73it/s]"
     ]
    },
    {
     "name": "stdout",
     "output_type": "stream",
     "text": [
      "Saved frame3711.jpg\n",
      "Saved frame number : 0\n",
      "Saved frame3712.jpg\n",
      "Saved frame number : 0\n",
      "Saved frame3713.jpg\n",
      "Saved frame number : 0\n"
     ]
    },
    {
     "name": "stderr",
     "output_type": "stream",
     "text": [
      "\r",
      " 56%|████████████████████████████████████████████▉                                   | 276/492 [00:13<00:10, 20.41it/s]"
     ]
    },
    {
     "name": "stdout",
     "output_type": "stream",
     "text": [
      "Saved frame3714.jpg\n",
      "Saved frame number : 0\n",
      "Saved frame3715.jpg\n"
     ]
    },
    {
     "name": "stderr",
     "output_type": "stream",
     "text": [
      "\r",
      " 57%|█████████████████████████████████████████████▎                                  | 279/492 [00:13<00:10, 20.30it/s]"
     ]
    },
    {
     "name": "stdout",
     "output_type": "stream",
     "text": [
      "Saved frame number : 0\n",
      "Saved frame3716.jpg\n",
      "Saved frame number : 0\n",
      "Saved frame3717.jpg\n",
      "Saved frame number : 0\n",
      "Saved frame3718.jpg\n",
      "Saved frame number : 0\n",
      "Saved frame3719.jpg\n",
      "Saved frame number : 0\n"
     ]
    },
    {
     "name": "stderr",
     "output_type": "stream",
     "text": [
      "\r",
      " 57%|█████████████████████████████████████████████▊                                  | 282/492 [00:13<00:10, 20.10it/s]"
     ]
    },
    {
     "name": "stdout",
     "output_type": "stream",
     "text": [
      "Saved frame3720.jpg\n",
      "Saved frame number : 0\n",
      "Saved frame3721.jpg\n",
      "Saved frame number : 0\n",
      "Saved frame3722.jpg\n",
      "Saved frame number : 0\n",
      "Saved frame3723.jpg\n",
      "Saved frame number : 0\n"
     ]
    },
    {
     "name": "stderr",
     "output_type": "stream",
     "text": [
      " 59%|██████████████████████████████████████████████▊                                 | 288/492 [00:13<00:10, 20.38it/s]"
     ]
    },
    {
     "name": "stdout",
     "output_type": "stream",
     "text": [
      "Saved frame3724.jpg\n",
      "Saved frame number : 0\n",
      "Saved frame3725.jpg\n",
      "Saved frame number : 0\n",
      "Saved frame3726.jpg\n",
      "Saved frame number : 0\n",
      "Saved frame3727.jpg\n",
      "Saved frame number : 0\n"
     ]
    },
    {
     "name": "stderr",
     "output_type": "stream",
     "text": [
      "\r",
      " 59%|███████████████████████████████████████████████▎                                | 291/492 [00:13<00:10, 19.91it/s]"
     ]
    },
    {
     "name": "stdout",
     "output_type": "stream",
     "text": [
      "Saved frame3728.jpg\n",
      "Saved frame number : 0\n",
      "Saved frame3729.jpg\n",
      "Saved frame number : 0\n",
      "Saved frame3730.jpg\n",
      "Saved frame number : 0\n",
      "Saved frame3731.jpg\n",
      "Saved frame number : 0\n"
     ]
    },
    {
     "name": "stderr",
     "output_type": "stream",
     "text": [
      " 60%|███████████████████████████████████████████████▉                                | 295/492 [00:14<00:10, 19.23it/s]"
     ]
    },
    {
     "name": "stdout",
     "output_type": "stream",
     "text": [
      "Saved frame3732.jpg\n",
      "Saved frame number : 0\n",
      "Saved frame3733.jpg\n",
      "Saved frame number : 0\n",
      "Saved frame3734.jpg\n",
      "Saved frame number : 0\n",
      "Saved frame3735.jpg\n",
      "Saved frame number : 0\n"
     ]
    },
    {
     "name": "stderr",
     "output_type": "stream",
     "text": [
      " 61%|████████████████████████████████████████████████▊                               | 300/492 [00:14<00:09, 19.62it/s]"
     ]
    },
    {
     "name": "stdout",
     "output_type": "stream",
     "text": [
      "Saved frame3736.jpg\n",
      "Saved frame number : 0\n",
      "Saved frame3737.jpg\n",
      "Saved frame number : 0\n",
      "Saved frame3738.jpg\n",
      "Saved frame number : 0\n",
      "Saved frame3739.jpg\n",
      "Saved frame number : 0\n",
      "Saved frame3740.jpg\n"
     ]
    },
    {
     "name": "stderr",
     "output_type": "stream",
     "text": [
      "\r",
      " 62%|█████████████████████████████████████████████████▎                              | 303/492 [00:14<00:09, 20.27it/s]"
     ]
    },
    {
     "name": "stdout",
     "output_type": "stream",
     "text": [
      "Saved frame number : 0\n",
      "Saved frame3741.jpg\n",
      "Saved frame number : 0\n",
      "Saved frame3742.jpg\n",
      "Saved frame number : 0\n",
      "Saved frame3743.jpg\n",
      "Saved frame number : 0\n",
      "Saved frame3744.jpg\n",
      "Saved frame number : 0\n"
     ]
    },
    {
     "name": "stderr",
     "output_type": "stream",
     "text": [
      " 63%|██████████████████████████████████████████████████▏                             | 309/492 [00:14<00:08, 20.77it/s]"
     ]
    },
    {
     "name": "stdout",
     "output_type": "stream",
     "text": [
      "Saved frame3745.jpg\n",
      "Saved frame number : 0\n",
      "Saved frame3746.jpg\n",
      "Saved frame number : 0\n",
      "Saved frame3747.jpg\n",
      "Saved frame number : 0\n",
      "Saved frame3748.jpg\n",
      "Saved frame number : 0\n",
      "Saved frame3749.jpg\n"
     ]
    },
    {
     "name": "stderr",
     "output_type": "stream",
     "text": [
      "\r",
      " 63%|██████████████████████████████████████████████████▋                             | 312/492 [00:14<00:08, 20.96it/s]"
     ]
    },
    {
     "name": "stdout",
     "output_type": "stream",
     "text": [
      "Saved frame number : 0\n",
      "Saved frame3750.jpg\n",
      "Saved frame number : 0\n",
      "Saved frame3751.jpg\n",
      "Saved frame number : 0\n",
      "Saved frame3752.jpg\n",
      "Saved frame number : 0\n",
      "Saved frame3753.jpg\n",
      "Saved frame number : 0\n"
     ]
    },
    {
     "name": "stderr",
     "output_type": "stream",
     "text": [
      " 65%|███████████████████████████████████████████████████▋                            | 318/492 [00:15<00:08, 20.50it/s]"
     ]
    },
    {
     "name": "stdout",
     "output_type": "stream",
     "text": [
      "Saved frame3754.jpg\n",
      "Saved frame number : 0\n",
      "Saved frame3755.jpg\n",
      "Saved frame number : 0\n",
      "Saved frame3756.jpg\n",
      "Saved frame number : 0\n",
      "Saved frame3757.jpg\n",
      "Saved frame number : 0\n"
     ]
    },
    {
     "name": "stderr",
     "output_type": "stream",
     "text": [
      "\r",
      " 65%|████████████████████████████████████████████████████▏                           | 321/492 [00:15<00:08, 20.11it/s]"
     ]
    },
    {
     "name": "stdout",
     "output_type": "stream",
     "text": [
      "Saved frame3758.jpg\n",
      "Saved frame number : 0\n",
      "Saved frame3759.jpg\n",
      "Saved frame number : 0\n",
      "Saved frame3760.jpg\n",
      "Saved frame number : 0\n",
      "Saved frame3761.jpg\n",
      "Saved frame number : 0\n"
     ]
    },
    {
     "name": "stderr",
     "output_type": "stream",
     "text": [
      "\r",
      " 66%|████████████████████████████████████████████████████▋                           | 324/492 [00:15<00:08, 19.54it/s]"
     ]
    },
    {
     "name": "stdout",
     "output_type": "stream",
     "text": [
      "Saved frame3762.jpg\n",
      "Saved frame number : 0\n",
      "Saved frame3763.jpg\n",
      "Saved frame number : 0\n",
      "Saved frame3764.jpg\n",
      "Saved frame number : 0\n",
      "Saved frame3765.jpg\n",
      "Saved frame number : 0\n"
     ]
    },
    {
     "name": "stderr",
     "output_type": "stream",
     "text": [
      " 67%|█████████████████████████████████████████████████████▋                          | 330/492 [00:15<00:08, 20.05it/s]"
     ]
    },
    {
     "name": "stdout",
     "output_type": "stream",
     "text": [
      "Saved frame3766.jpg\n",
      "Saved frame number : 0\n",
      "Saved frame3767.jpg\n",
      "Saved frame number : 0\n",
      "Saved frame3768.jpg\n",
      "Saved frame number : 0\n",
      "Saved frame3769.jpg\n",
      "Saved frame number : 0\n"
     ]
    },
    {
     "name": "stderr",
     "output_type": "stream",
     "text": [
      "\r",
      " 68%|██████████████████████████████████████████████████████▏                         | 333/492 [00:15<00:07, 20.17it/s]"
     ]
    },
    {
     "name": "stdout",
     "output_type": "stream",
     "text": [
      "Saved frame3770.jpg\n",
      "Saved frame number : 0\n",
      "Saved frame3771.jpg\n",
      "Saved frame number : 0\n",
      "Saved frame3772.jpg\n",
      "Saved frame number : 0\n",
      "Saved frame3773.jpg\n",
      "Saved frame number : 0\n",
      "Saved frame3774.jpg\n"
     ]
    },
    {
     "name": "stderr",
     "output_type": "stream",
     "text": [
      " 69%|███████████████████████████████████████████████████████                         | 339/492 [00:16<00:07, 20.82it/s]"
     ]
    },
    {
     "name": "stdout",
     "output_type": "stream",
     "text": [
      "Saved frame number : 0\n",
      "Saved frame3775.jpg\n",
      "Saved frame number : 0\n",
      "Saved frame3776.jpg\n",
      "Saved frame number : 0\n",
      "Saved frame3777.jpg\n",
      "Saved frame number : 0\n",
      "Saved frame3778.jpg\n",
      "Saved frame number : 0\n"
     ]
    },
    {
     "name": "stderr",
     "output_type": "stream",
     "text": [
      "\r",
      " 70%|███████████████████████████████████████████████████████▌                        | 342/492 [00:16<00:07, 20.37it/s]"
     ]
    },
    {
     "name": "stdout",
     "output_type": "stream",
     "text": [
      "Saved frame3779.jpg\n",
      "Saved frame number : 0\n",
      "Saved frame3780.jpg\n",
      "Saved frame number : 0\n",
      "Saved frame3781.jpg\n",
      "Saved frame number : 0\n",
      "Saved frame3782.jpg\n",
      "Saved frame number : 0\n"
     ]
    },
    {
     "name": "stderr",
     "output_type": "stream",
     "text": [
      " 71%|████████████████████████████████████████████████████████▌                       | 348/492 [00:16<00:07, 19.94it/s]"
     ]
    },
    {
     "name": "stdout",
     "output_type": "stream",
     "text": [
      "Saved frame3783.jpg\n",
      "Saved frame number : 0\n",
      "Saved frame3784.jpg\n",
      "Saved frame number : 0\n",
      "Saved frame3785.jpg\n",
      "Saved frame number : 0\n",
      "Saved frame3786.jpg\n",
      "Saved frame number : 0\n",
      "Saved frame3787.jpg\n"
     ]
    },
    {
     "name": "stderr",
     "output_type": "stream",
     "text": [
      "\r",
      " 71%|█████████████████████████████████████████████████████████                       | 351/492 [00:16<00:07, 19.86it/s]"
     ]
    },
    {
     "name": "stdout",
     "output_type": "stream",
     "text": [
      "Saved frame number : 0\n",
      "Saved frame3788.jpg\n",
      "Saved frame number : 0\n",
      "Saved frame3789.jpg\n",
      "Saved frame number : 0\n",
      "Saved frame3790.jpg\n",
      "Saved frame number : 0\n",
      "Saved frame3791.jpg\n"
     ]
    },
    {
     "name": "stderr",
     "output_type": "stream",
     "text": [
      " 72%|█████████████████████████████████████████████████████████▋                      | 355/492 [00:17<00:07, 19.25it/s]"
     ]
    },
    {
     "name": "stdout",
     "output_type": "stream",
     "text": [
      "Saved frame number : 0\n",
      "Saved frame3792.jpg\n",
      "Saved frame number : 0\n",
      "Saved frame3793.jpg\n",
      "Saved frame number : 0\n",
      "Saved frame3794.jpg\n",
      "Saved frame number : 0\n",
      "Saved frame3795.jpg\n",
      "Saved frame number : 0\n"
     ]
    },
    {
     "name": "stderr",
     "output_type": "stream",
     "text": [
      "\r",
      " 73%|██████████████████████████████████████████████████████████▏                     | 358/492 [00:17<00:06, 20.14it/s]"
     ]
    },
    {
     "name": "stdout",
     "output_type": "stream",
     "text": [
      "Saved frame3796.jpg\n",
      "Saved frame number : 0\n",
      "Saved frame3797.jpg\n",
      "Saved frame number : 0\n",
      "Saved frame3798.jpg\n",
      "Saved frame number : 0\n",
      "Saved frame3799.jpg\n",
      "Saved frame number : 0\n"
     ]
    },
    {
     "name": "stderr",
     "output_type": "stream",
     "text": [
      " 74%|███████████████████████████████████████████████████████████                     | 363/492 [00:17<00:06, 19.41it/s]"
     ]
    },
    {
     "name": "stdout",
     "output_type": "stream",
     "text": [
      "Saved frame3800.jpg\n",
      "Saved frame number : 0\n",
      "Saved frame3801.jpg\n",
      "Saved frame number : 0\n",
      "Saved frame3802.jpg\n",
      "Saved frame number : 0\n",
      "Saved frame3803.jpg\n",
      "Saved frame number : 0\n"
     ]
    },
    {
     "name": "stderr",
     "output_type": "stream",
     "text": [
      " 75%|████████████████████████████████████████████████████████████                    | 369/492 [00:17<00:05, 20.62it/s]"
     ]
    },
    {
     "name": "stdout",
     "output_type": "stream",
     "text": [
      "Saved frame3804.jpg\n",
      "Saved frame number : 0\n",
      "Saved frame3805.jpg\n",
      "Saved frame number : 0\n",
      "Saved frame3806.jpg\n",
      "Saved frame number : 0\n",
      "Saved frame3807.jpg\n",
      "Saved frame number : 0\n",
      "Saved frame3808.jpg\n"
     ]
    },
    {
     "name": "stderr",
     "output_type": "stream",
     "text": [
      "\r",
      " 76%|████████████████████████████████████████████████████████████▍                   | 372/492 [00:17<00:05, 20.75it/s]"
     ]
    },
    {
     "name": "stdout",
     "output_type": "stream",
     "text": [
      "Saved frame number : 0\n",
      "Saved frame3809.jpg\n",
      "Saved frame number : 0\n",
      "Saved frame3810.jpg\n",
      "Saved frame number : 0\n",
      "Saved frame3811.jpg\n",
      "Saved frame number : 0\n",
      "Saved frame3812.jpg\n",
      "Saved frame number : 0\n"
     ]
    },
    {
     "name": "stderr",
     "output_type": "stream",
     "text": [
      "\r",
      " 76%|████████████████████████████████████████████████████████████▉                   | 375/492 [00:18<00:05, 20.27it/s]"
     ]
    },
    {
     "name": "stdout",
     "output_type": "stream",
     "text": [
      "Saved frame3813.jpg\n",
      "Saved frame number : 0\n",
      "Saved frame3814.jpg\n",
      "Saved frame number : 0\n",
      "Saved frame3815.jpg\n",
      "Saved frame number : 0\n",
      "Saved frame3816.jpg\n",
      "Saved frame number : 0\n"
     ]
    },
    {
     "name": "stderr",
     "output_type": "stream",
     "text": [
      " 77%|█████████████████████████████████████████████████████████████▉                  | 381/492 [00:18<00:05, 19.86it/s]"
     ]
    },
    {
     "name": "stdout",
     "output_type": "stream",
     "text": [
      "Saved frame3817.jpg\n",
      "Saved frame number : 0\n",
      "Saved frame3818.jpg\n",
      "Saved frame number : 0\n",
      "Saved frame3819.jpg\n",
      "Saved frame number : 0\n",
      "Saved frame3820.jpg\n",
      "Saved frame number : 0\n",
      "Saved frame3821.jpg\n"
     ]
    },
    {
     "name": "stderr",
     "output_type": "stream",
     "text": [
      "\r",
      " 78%|██████████████████████████████████████████████████████████████▍                 | 384/492 [00:18<00:05, 19.96it/s]"
     ]
    },
    {
     "name": "stdout",
     "output_type": "stream",
     "text": [
      "Saved frame number : 0\n",
      "Saved frame3822.jpg\n",
      "Saved frame number : 0\n",
      "Saved frame3823.jpg\n",
      "Saved frame number : 0\n",
      "Saved frame3824.jpg\n",
      "Saved frame number : 0\n",
      "Saved frame3825.jpg\n",
      "Saved frame number : 0\n"
     ]
    },
    {
     "name": "stderr",
     "output_type": "stream",
     "text": [
      " 79%|███████████████████████████████████████████████████████████████▎                | 389/492 [00:18<00:05, 19.85it/s]"
     ]
    },
    {
     "name": "stdout",
     "output_type": "stream",
     "text": [
      "Saved frame3826.jpg\n",
      "Saved frame number : 0\n",
      "Saved frame3827.jpg\n",
      "Saved frame number : 0\n",
      "Saved frame3828.jpg\n",
      "Saved frame number : 0\n",
      "Saved frame3829.jpg\n",
      "Saved frame number : 0\n"
     ]
    },
    {
     "name": "stderr",
     "output_type": "stream",
     "text": [
      " 80%|████████████████████████████████████████████████████████████████▏               | 395/492 [00:19<00:04, 19.52it/s]"
     ]
    },
    {
     "name": "stdout",
     "output_type": "stream",
     "text": [
      "Saved frame3830.jpg\n",
      "Saved frame number : 0\n",
      "Saved frame3831.jpg\n",
      "Saved frame number : 0\n",
      "Saved frame3832.jpg\n",
      "Saved frame number : 0\n",
      "Saved frame3833.jpg\n",
      "Saved frame number : 0\n",
      "Saved frame3834.jpg\n"
     ]
    },
    {
     "name": "stderr",
     "output_type": "stream",
     "text": [
      "\r",
      " 81%|████████████████████████████████████████████████████████████████▋               | 398/492 [00:19<00:04, 19.76it/s]"
     ]
    },
    {
     "name": "stdout",
     "output_type": "stream",
     "text": [
      "Saved frame number : 0\n",
      "Saved frame3835.jpg\n",
      "Saved frame number : 0\n",
      "Saved frame3836.jpg\n",
      "Saved frame number : 0\n",
      "Saved frame3837.jpg\n",
      "Saved frame number : 0\n",
      "Saved frame3838.jpg\n",
      "Saved frame number : 0\n"
     ]
    },
    {
     "name": "stderr",
     "output_type": "stream",
     "text": [
      " 82%|█████████████████████████████████████████████████████████████████▌              | 403/492 [00:19<00:04, 19.65it/s]"
     ]
    },
    {
     "name": "stdout",
     "output_type": "stream",
     "text": [
      "Saved frame3839.jpg\n",
      "Saved frame number : 0\n",
      "Saved frame3840.jpg\n",
      "Saved frame number : 0\n",
      "Saved frame3841.jpg\n",
      "Saved frame number : 0\n",
      "Saved frame3842.jpg\n",
      "Saved frame number : 0\n"
     ]
    },
    {
     "name": "stderr",
     "output_type": "stream",
     "text": [
      "\r",
      " 83%|██████████████████████████████████████████████████████████████████              | 406/492 [00:19<00:04, 19.92it/s]"
     ]
    },
    {
     "name": "stdout",
     "output_type": "stream",
     "text": [
      "Saved frame3843.jpg\n",
      "Saved frame number : 0\n",
      "Saved frame3844.jpg\n",
      "Saved frame number : 0\n",
      "Saved frame3845.jpg\n",
      "Saved frame number : 0\n",
      "Saved frame3846.jpg\n",
      "Saved frame number : 0\n"
     ]
    },
    {
     "name": "stderr",
     "output_type": "stream",
     "text": [
      "\r",
      " 83%|██████████████████████████████████████████████████████████████████▌             | 409/492 [00:19<00:04, 20.46it/s]"
     ]
    },
    {
     "name": "stdout",
     "output_type": "stream",
     "text": [
      "Saved frame3847.jpg\n",
      "Saved frame number : 0\n",
      "Saved frame3848.jpg\n",
      "Saved frame number : 0\n",
      "Saved frame3849.jpg\n",
      "Saved frame number : 0\n",
      "Saved frame3850.jpg\n",
      "Saved frame number : 0\n"
     ]
    },
    {
     "name": "stderr",
     "output_type": "stream",
     "text": [
      " 84%|███████████████████████████████████████████████████████████████████▎            | 414/492 [00:20<00:04, 19.41it/s]"
     ]
    },
    {
     "name": "stdout",
     "output_type": "stream",
     "text": [
      "Saved frame3851.jpg\n",
      "Saved frame number : 0\n",
      "Saved frame3852.jpg\n",
      "Saved frame number : 0\n",
      "Saved frame3853.jpg\n",
      "Saved frame number : 0\n",
      "Saved frame3854.jpg\n",
      "Saved frame number : 0\n"
     ]
    },
    {
     "name": "stderr",
     "output_type": "stream",
     "text": [
      " 85%|████████████████████████████████████████████████████████████████████▏           | 419/492 [00:20<00:03, 19.48it/s]"
     ]
    },
    {
     "name": "stdout",
     "output_type": "stream",
     "text": [
      "Saved frame3855.jpg\n",
      "Saved frame number : 0\n",
      "Saved frame3856.jpg\n",
      "Saved frame number : 0\n",
      "Saved frame3857.jpg\n",
      "Saved frame number : 0\n",
      "Saved frame3858.jpg\n",
      "Saved frame number : 0\n"
     ]
    },
    {
     "name": "stderr",
     "output_type": "stream",
     "text": [
      " 86%|████████████████████████████████████████████████████████████████████▊           | 423/492 [00:20<00:03, 19.55it/s]"
     ]
    },
    {
     "name": "stdout",
     "output_type": "stream",
     "text": [
      "Saved frame3859.jpg\n",
      "Saved frame number : 0\n",
      "Saved frame3860.jpg\n",
      "Saved frame number : 0\n",
      "Saved frame3861.jpg\n",
      "Saved frame number : 0\n",
      "Saved frame3862.jpg\n",
      "Saved frame number : 0\n"
     ]
    },
    {
     "name": "stderr",
     "output_type": "stream",
     "text": [
      "\r",
      " 86%|█████████████████████████████████████████████████████████████████████           | 425/492 [00:20<00:03, 17.17it/s]"
     ]
    },
    {
     "name": "stdout",
     "output_type": "stream",
     "text": [
      "Saved frame3863.jpg\n",
      "Saved frame number : 0\n",
      "Saved frame3864.jpg\n",
      "Saved frame number : 0\n",
      "Saved frame3865.jpg\n",
      "Saved frame number : 0\n",
      "Saved frame3866.jpg\n"
     ]
    },
    {
     "name": "stderr",
     "output_type": "stream",
     "text": [
      " 87%|█████████████████████████████████████████████████████████████████████▉          | 430/492 [00:20<00:03, 18.43it/s]"
     ]
    },
    {
     "name": "stdout",
     "output_type": "stream",
     "text": [
      "Saved frame number : 0\n",
      "Saved frame3867.jpg\n",
      "Saved frame number : 0\n",
      "Saved frame3868.jpg\n",
      "Saved frame number : 0\n",
      "Saved frame3869.jpg\n",
      "Saved frame number : 0\n",
      "Saved frame3870.jpg\n"
     ]
    },
    {
     "name": "stderr",
     "output_type": "stream",
     "text": [
      " 88%|██████████████████████████████████████████████████████████████████████▋         | 435/492 [00:21<00:02, 19.07it/s]"
     ]
    },
    {
     "name": "stdout",
     "output_type": "stream",
     "text": [
      "Saved frame number : 0\n",
      "Saved frame3871.jpg\n",
      "Saved frame number : 0\n",
      "Saved frame3872.jpg\n",
      "Saved frame number : 0\n",
      "Saved frame3873.jpg\n",
      "Saved frame number : 0\n",
      "Saved frame3874.jpg\n",
      "Saved frame number : 0\n"
     ]
    },
    {
     "name": "stderr",
     "output_type": "stream",
     "text": [
      "\r",
      " 89%|███████████████████████████████████████████████████████████████████████▏        | 438/492 [00:21<00:02, 20.02it/s]"
     ]
    },
    {
     "name": "stdout",
     "output_type": "stream",
     "text": [
      "Saved frame3875.jpg\n",
      "Saved frame number : 0\n",
      "Saved frame3876.jpg\n",
      "Saved frame number : 0\n",
      "Saved frame3877.jpg\n",
      "Saved frame number : 0\n",
      "Saved frame3878.jpg\n",
      "Saved frame number : 0\n",
      "Saved frame3879.jpg\n"
     ]
    },
    {
     "name": "stderr",
     "output_type": "stream",
     "text": [
      " 90%|████████████████████████████████████████████████████████████████████████▏       | 444/492 [00:21<00:02, 19.72it/s]"
     ]
    },
    {
     "name": "stdout",
     "output_type": "stream",
     "text": [
      "Saved frame number : 0\n",
      "Saved frame3880.jpg\n",
      "Saved frame number : 0\n",
      "Saved frame3881.jpg\n",
      "Saved frame number : 0\n",
      "Saved frame3882.jpg\n",
      "Saved frame number : 0\n",
      "Saved frame3883.jpg\n",
      "Saved frame number : 0\n"
     ]
    },
    {
     "name": "stderr",
     "output_type": "stream",
     "text": [
      " 91%|█████████████████████████████████████████████████████████████████████████       | 449/492 [00:21<00:02, 19.86it/s]"
     ]
    },
    {
     "name": "stdout",
     "output_type": "stream",
     "text": [
      "Saved frame3884.jpg\n",
      "Saved frame number : 0\n",
      "Saved frame3885.jpg\n",
      "Saved frame number : 0\n",
      "Saved frame3886.jpg\n",
      "Saved frame number : 0\n",
      "Saved frame3887.jpg\n",
      "Saved frame number : 0\n",
      "Saved frame3888.jpg\n"
     ]
    },
    {
     "name": "stderr",
     "output_type": "stream",
     "text": [
      "\r",
      " 92%|█████████████████████████████████████████████████████████████████████████▍      | 452/492 [00:22<00:01, 20.01it/s]"
     ]
    },
    {
     "name": "stdout",
     "output_type": "stream",
     "text": [
      "Saved frame number : 0\n",
      "Saved frame3889.jpg\n",
      "Saved frame number : 0\n",
      "Saved frame3890.jpg\n",
      "Saved frame number : 0\n",
      "Saved frame3891.jpg\n",
      "Saved frame number : 0\n",
      "Saved frame3892.jpg\n",
      "Saved frame number : 0\n"
     ]
    },
    {
     "name": "stderr",
     "output_type": "stream",
     "text": [
      "\r",
      " 92%|█████████████████████████████████████████████████████████████████████████▉      | 455/492 [00:22<00:01, 20.07it/s]"
     ]
    },
    {
     "name": "stdout",
     "output_type": "stream",
     "text": [
      "Saved frame3893.jpg\n",
      "Saved frame number : 0\n",
      "Saved frame3894.jpg\n",
      "Saved frame number : 0\n",
      "Saved frame3895.jpg\n",
      "Saved frame number : 0\n",
      "Saved frame3896.jpg\n",
      "Saved frame number : 0\n"
     ]
    },
    {
     "name": "stderr",
     "output_type": "stream",
     "text": [
      " 93%|██████████████████████████████████████████████████████████████████████████▊     | 460/492 [00:22<00:01, 19.08it/s]"
     ]
    },
    {
     "name": "stdout",
     "output_type": "stream",
     "text": [
      "Saved frame3897.jpg\n",
      "Saved frame number : 0\n",
      "Saved frame3898.jpg\n",
      "Saved frame number : 0\n",
      "Saved frame3899.jpg\n",
      "Saved frame number : 0\n",
      "Saved frame3900.jpg\n"
     ]
    },
    {
     "name": "stderr",
     "output_type": "stream",
     "text": [
      " 94%|███████████████████████████████████████████████████████████████████████████▍    | 464/492 [00:22<00:01, 17.33it/s]"
     ]
    },
    {
     "name": "stdout",
     "output_type": "stream",
     "text": [
      "Saved frame number : 0\n",
      "Saved frame3901.jpg\n",
      "Saved frame number : 0\n",
      "Saved frame3902.jpg\n",
      "Saved frame number : 0\n",
      "Saved frame3903.jpg\n",
      "Saved frame number : 0\n",
      "Saved frame3904.jpg\n"
     ]
    },
    {
     "name": "stderr",
     "output_type": "stream",
     "text": [
      " 95%|████████████████████████████████████████████████████████████████████████████    | 468/492 [00:22<00:01, 17.15it/s]"
     ]
    },
    {
     "name": "stdout",
     "output_type": "stream",
     "text": [
      "Saved frame number : 0\n",
      "Saved frame3905.jpg\n",
      "Saved frame number : 0\n",
      "Saved frame3906.jpg\n",
      "Saved frame number : 0\n",
      "Saved frame3907.jpg\n",
      "Saved frame number : 0\n",
      "Saved frame3908.jpg\n"
     ]
    },
    {
     "name": "stderr",
     "output_type": "stream",
     "text": [
      " 96%|████████████████████████████████████████████████████████████████████████████▋   | 472/492 [00:23<00:01, 18.08it/s]"
     ]
    },
    {
     "name": "stdout",
     "output_type": "stream",
     "text": [
      "Saved frame number : 0\n",
      "Saved frame3909.jpg\n",
      "Saved frame number : 0\n",
      "Saved frame3910.jpg\n",
      "Saved frame number : 0\n",
      "Saved frame3911.jpg\n",
      "Saved frame number : 0\n",
      "Saved frame3912.jpg\n"
     ]
    },
    {
     "name": "stderr",
     "output_type": "stream",
     "text": [
      " 97%|█████████████████████████████████████████████████████████████████████████████▌  | 477/492 [00:23<00:00, 19.12it/s]"
     ]
    },
    {
     "name": "stdout",
     "output_type": "stream",
     "text": [
      "Saved frame number : 0\n",
      "Saved frame3913.jpg\n",
      "Saved frame number : 0\n",
      "Saved frame3914.jpg\n",
      "Saved frame number : 0\n",
      "Saved frame3915.jpg\n",
      "Saved frame number : 0\n",
      "Saved frame3916.jpg\n"
     ]
    },
    {
     "name": "stderr",
     "output_type": "stream",
     "text": [
      " 98%|██████████████████████████████████████████████████████████████████████████████▏ | 481/492 [00:23<00:00, 18.03it/s]"
     ]
    },
    {
     "name": "stdout",
     "output_type": "stream",
     "text": [
      "Saved frame number : 0\n",
      "Saved frame3917.jpg\n",
      "Saved frame number : 0\n",
      "Saved frame3918.jpg\n",
      "Saved frame number : 0\n",
      "Saved frame3919.jpg\n",
      "Saved frame number : 0\n",
      "Saved frame3920.jpg\n"
     ]
    },
    {
     "name": "stderr",
     "output_type": "stream",
     "text": [
      " 99%|██████████████████████████████████████████████████████████████████████████████▊ | 485/492 [00:23<00:00, 18.13it/s]"
     ]
    },
    {
     "name": "stdout",
     "output_type": "stream",
     "text": [
      "Saved frame number : 0\n",
      "Saved frame3921.jpg\n",
      "Saved frame number : 0\n",
      "Saved frame3922.jpg\n",
      "Saved frame number : 0\n",
      "Saved frame3923.jpg\n",
      "Saved frame number : 0\n",
      "Saved frame3924.jpg\n"
     ]
    },
    {
     "name": "stderr",
     "output_type": "stream",
     "text": [
      " 99%|███████████████████████████████████████████████████████████████████████████████▌| 489/492 [00:24<00:00, 18.33it/s]"
     ]
    },
    {
     "name": "stdout",
     "output_type": "stream",
     "text": [
      "Saved frame number : 0\n",
      "Saved frame3925.jpg\n",
      "Saved frame number : 0\n",
      "Saved frame3926.jpg\n",
      "Saved frame number : 0\n",
      "Saved frame3927.jpg\n",
      "Saved frame number : 0\n",
      "Saved frame3928.jpg\n"
     ]
    },
    {
     "name": "stderr",
     "output_type": "stream",
     "text": [
      "100%|████████████████████████████████████████████████████████████████████████████████| 492/492 [00:24<00:00, 20.31it/s]"
     ]
    },
    {
     "name": "stdout",
     "output_type": "stream",
     "text": [
      "Saved frame number : 0\n",
      "Saved frame3929.jpg\n",
      "Saved frame number : 0\n",
      "Saved frame3930.jpg\n",
      "Saved frame number : 0\n",
      "Saved frame3931.jpg\n"
     ]
    },
    {
     "name": "stderr",
     "output_type": "stream",
     "text": [
      "\n"
     ]
    }
   ],
   "source": [
    "# 프레임별로 추출\n",
    "\n",
    "import cv2\n",
    "import pandas as pd\n",
    "\n",
    "import os\n",
    "import pandas as pd\n",
    "import time\n",
    "from tqdm import tqdm\n",
    "from PIL import Image\n",
    "import numpy as np\n",
    "\n",
    "columnNames = list()\n",
    "\n",
    "columnNames.append('label')\n",
    "\n",
    "for i in range(784):\n",
    "    pixel = str(i)\n",
    "    columnNames.append(pixel)\n",
    "\n",
    "train_data = pd.DataFrame(columns = columnNames)\n",
    "\n",
    "num_images = 0\n",
    "count = 0\n",
    "\n",
    "for i in range(0, 8):\n",
    "\n",
    "    print(\"Iterating: \" + str(i) + \" folder\")\n",
    "    \n",
    "    for file in tqdm(os.listdir(str(i))):                  # 파일 위치 접근\n",
    "\n",
    "        video = cv2.VideoCapture(os.path.join(str(i), file))\n",
    "        \n",
    "        while(video.isOpened()):\n",
    "            ret, image = video.read()\n",
    "            if(video.get(cv2.CAP_PROP_POS_FRAMES) == video.get(cv2.CAP_PROP_FRAME_COUNT)):      # 현재프레임과 총프레임 비교\n",
    "                video.set(cv2.CAP_PROP_POS_FRAMES, 0)                           # 현재 프레임 0으로 초기화\n",
    "                print('Saved frame number : ' + str(int(video.get(1))))\n",
    "                cv2.imwrite(f'C:\\JupyterTest/{ i + 10 }/frame{count}.png', image)\n",
    "                print('Saved frame%d.jpg' % count)\n",
    "                count += 1\n",
    "                break"
   ]
  },
  {
   "cell_type": "code",
   "execution_count": 3,
   "id": "b147dec6",
   "metadata": {},
   "outputs": [
    {
     "name": "stdout",
     "output_type": "stream",
     "text": [
      "Iterating: 0 folder\n"
     ]
    },
    {
     "name": "stderr",
     "output_type": "stream",
     "text": [
      "100%|████████████████████████████████████████████████████████████████████████████████| 488/488 [00:52<00:00,  9.29it/s]\n"
     ]
    },
    {
     "name": "stdout",
     "output_type": "stream",
     "text": [
      "Iterating: 1 folder\n"
     ]
    },
    {
     "name": "stderr",
     "output_type": "stream",
     "text": [
      "100%|████████████████████████████████████████████████████████████████████████████████| 492/492 [00:58<00:00,  8.34it/s]\n"
     ]
    },
    {
     "name": "stdout",
     "output_type": "stream",
     "text": [
      "Iterating: 2 folder\n"
     ]
    },
    {
     "name": "stderr",
     "output_type": "stream",
     "text": [
      "100%|████████████████████████████████████████████████████████████████████████████████| 492/492 [01:09<00:00,  7.05it/s]\n"
     ]
    },
    {
     "name": "stdout",
     "output_type": "stream",
     "text": [
      "Iterating: 3 folder\n"
     ]
    },
    {
     "name": "stderr",
     "output_type": "stream",
     "text": [
      "100%|████████████████████████████████████████████████████████████████████████████████| 492/492 [01:19<00:00,  6.23it/s]\n"
     ]
    },
    {
     "name": "stdout",
     "output_type": "stream",
     "text": [
      "Iterating: 4 folder\n"
     ]
    },
    {
     "name": "stderr",
     "output_type": "stream",
     "text": [
      "100%|████████████████████████████████████████████████████████████████████████████████| 492/492 [01:33<00:00,  5.26it/s]\n"
     ]
    },
    {
     "name": "stdout",
     "output_type": "stream",
     "text": [
      "Iterating: 5 folder\n"
     ]
    },
    {
     "name": "stderr",
     "output_type": "stream",
     "text": [
      "100%|████████████████████████████████████████████████████████████████████████████████| 492/492 [01:46<00:00,  4.61it/s]\n"
     ]
    },
    {
     "name": "stdout",
     "output_type": "stream",
     "text": [
      "Iterating: 6 folder\n"
     ]
    },
    {
     "name": "stderr",
     "output_type": "stream",
     "text": [
      "100%|████████████████████████████████████████████████████████████████████████████████| 492/492 [01:58<00:00,  4.15it/s]\n"
     ]
    },
    {
     "name": "stdout",
     "output_type": "stream",
     "text": [
      "Iterating: 7 folder\n"
     ]
    },
    {
     "name": "stderr",
     "output_type": "stream",
     "text": [
      "100%|████████████████████████████████████████████████████████████████████████████████| 492/492 [02:11<00:00,  3.75it/s]\n"
     ]
    },
    {
     "ename": "PermissionError",
     "evalue": "[Errno 13] Permission denied",
     "output_type": "error",
     "traceback": [
      "\u001b[1;31m---------------------------------------------------------------------------\u001b[0m",
      "\u001b[1;31mPermissionError\u001b[0m                           Traceback (most recent call last)",
      "Input \u001b[1;32mIn [3]\u001b[0m, in \u001b[0;36m<cell line: 40>\u001b[1;34m()\u001b[0m\n\u001b[0;32m     36\u001b[0m         train_data\u001b[38;5;241m.\u001b[39mloc[num_images] \u001b[38;5;241m=\u001b[39m data\n\u001b[0;32m     38\u001b[0m         num_images \u001b[38;5;241m+\u001b[39m\u001b[38;5;241m=\u001b[39m \u001b[38;5;241m1\u001b[39m\n\u001b[1;32m---> 40\u001b[0m \u001b[43mtrain_data\u001b[49m\u001b[38;5;241;43m.\u001b[39;49m\u001b[43mto_csv\u001b[49m\u001b[43m(\u001b[49m\u001b[38;5;124;43m\"\u001b[39;49m\u001b[38;5;124;43mtrain_converted.csv\u001b[39;49m\u001b[38;5;124;43m\"\u001b[39;49m\u001b[43m,\u001b[49m\u001b[43m \u001b[49m\u001b[43mindex\u001b[49m\u001b[38;5;241;43m=\u001b[39;49m\u001b[38;5;28;43;01mFalse\u001b[39;49;00m\u001b[43m)\u001b[49m\n",
      "File \u001b[1;32mC:\\Anaconda3\\envs\\project\\lib\\site-packages\\pandas\\core\\generic.py:3551\u001b[0m, in \u001b[0;36mNDFrame.to_csv\u001b[1;34m(self, path_or_buf, sep, na_rep, float_format, columns, header, index, index_label, mode, encoding, compression, quoting, quotechar, line_terminator, chunksize, date_format, doublequote, escapechar, decimal, errors, storage_options)\u001b[0m\n\u001b[0;32m   3540\u001b[0m df \u001b[38;5;241m=\u001b[39m \u001b[38;5;28mself\u001b[39m \u001b[38;5;28;01mif\u001b[39;00m \u001b[38;5;28misinstance\u001b[39m(\u001b[38;5;28mself\u001b[39m, ABCDataFrame) \u001b[38;5;28;01melse\u001b[39;00m \u001b[38;5;28mself\u001b[39m\u001b[38;5;241m.\u001b[39mto_frame()\n\u001b[0;32m   3542\u001b[0m formatter \u001b[38;5;241m=\u001b[39m DataFrameFormatter(\n\u001b[0;32m   3543\u001b[0m     frame\u001b[38;5;241m=\u001b[39mdf,\n\u001b[0;32m   3544\u001b[0m     header\u001b[38;5;241m=\u001b[39mheader,\n\u001b[1;32m   (...)\u001b[0m\n\u001b[0;32m   3548\u001b[0m     decimal\u001b[38;5;241m=\u001b[39mdecimal,\n\u001b[0;32m   3549\u001b[0m )\n\u001b[1;32m-> 3551\u001b[0m \u001b[38;5;28;01mreturn\u001b[39;00m \u001b[43mDataFrameRenderer\u001b[49m\u001b[43m(\u001b[49m\u001b[43mformatter\u001b[49m\u001b[43m)\u001b[49m\u001b[38;5;241;43m.\u001b[39;49m\u001b[43mto_csv\u001b[49m\u001b[43m(\u001b[49m\n\u001b[0;32m   3552\u001b[0m \u001b[43m    \u001b[49m\u001b[43mpath_or_buf\u001b[49m\u001b[43m,\u001b[49m\n\u001b[0;32m   3553\u001b[0m \u001b[43m    \u001b[49m\u001b[43mline_terminator\u001b[49m\u001b[38;5;241;43m=\u001b[39;49m\u001b[43mline_terminator\u001b[49m\u001b[43m,\u001b[49m\n\u001b[0;32m   3554\u001b[0m \u001b[43m    \u001b[49m\u001b[43msep\u001b[49m\u001b[38;5;241;43m=\u001b[39;49m\u001b[43msep\u001b[49m\u001b[43m,\u001b[49m\n\u001b[0;32m   3555\u001b[0m \u001b[43m    \u001b[49m\u001b[43mencoding\u001b[49m\u001b[38;5;241;43m=\u001b[39;49m\u001b[43mencoding\u001b[49m\u001b[43m,\u001b[49m\n\u001b[0;32m   3556\u001b[0m \u001b[43m    \u001b[49m\u001b[43merrors\u001b[49m\u001b[38;5;241;43m=\u001b[39;49m\u001b[43merrors\u001b[49m\u001b[43m,\u001b[49m\n\u001b[0;32m   3557\u001b[0m \u001b[43m    \u001b[49m\u001b[43mcompression\u001b[49m\u001b[38;5;241;43m=\u001b[39;49m\u001b[43mcompression\u001b[49m\u001b[43m,\u001b[49m\n\u001b[0;32m   3558\u001b[0m \u001b[43m    \u001b[49m\u001b[43mquoting\u001b[49m\u001b[38;5;241;43m=\u001b[39;49m\u001b[43mquoting\u001b[49m\u001b[43m,\u001b[49m\n\u001b[0;32m   3559\u001b[0m \u001b[43m    \u001b[49m\u001b[43mcolumns\u001b[49m\u001b[38;5;241;43m=\u001b[39;49m\u001b[43mcolumns\u001b[49m\u001b[43m,\u001b[49m\n\u001b[0;32m   3560\u001b[0m \u001b[43m    \u001b[49m\u001b[43mindex_label\u001b[49m\u001b[38;5;241;43m=\u001b[39;49m\u001b[43mindex_label\u001b[49m\u001b[43m,\u001b[49m\n\u001b[0;32m   3561\u001b[0m \u001b[43m    \u001b[49m\u001b[43mmode\u001b[49m\u001b[38;5;241;43m=\u001b[39;49m\u001b[43mmode\u001b[49m\u001b[43m,\u001b[49m\n\u001b[0;32m   3562\u001b[0m \u001b[43m    \u001b[49m\u001b[43mchunksize\u001b[49m\u001b[38;5;241;43m=\u001b[39;49m\u001b[43mchunksize\u001b[49m\u001b[43m,\u001b[49m\n\u001b[0;32m   3563\u001b[0m \u001b[43m    \u001b[49m\u001b[43mquotechar\u001b[49m\u001b[38;5;241;43m=\u001b[39;49m\u001b[43mquotechar\u001b[49m\u001b[43m,\u001b[49m\n\u001b[0;32m   3564\u001b[0m \u001b[43m    \u001b[49m\u001b[43mdate_format\u001b[49m\u001b[38;5;241;43m=\u001b[39;49m\u001b[43mdate_format\u001b[49m\u001b[43m,\u001b[49m\n\u001b[0;32m   3565\u001b[0m \u001b[43m    \u001b[49m\u001b[43mdoublequote\u001b[49m\u001b[38;5;241;43m=\u001b[39;49m\u001b[43mdoublequote\u001b[49m\u001b[43m,\u001b[49m\n\u001b[0;32m   3566\u001b[0m \u001b[43m    \u001b[49m\u001b[43mescapechar\u001b[49m\u001b[38;5;241;43m=\u001b[39;49m\u001b[43mescapechar\u001b[49m\u001b[43m,\u001b[49m\n\u001b[0;32m   3567\u001b[0m \u001b[43m    \u001b[49m\u001b[43mstorage_options\u001b[49m\u001b[38;5;241;43m=\u001b[39;49m\u001b[43mstorage_options\u001b[49m\u001b[43m,\u001b[49m\n\u001b[0;32m   3568\u001b[0m \u001b[43m\u001b[49m\u001b[43m)\u001b[49m\n",
      "File \u001b[1;32mC:\\Anaconda3\\envs\\project\\lib\\site-packages\\pandas\\io\\formats\\format.py:1180\u001b[0m, in \u001b[0;36mDataFrameRenderer.to_csv\u001b[1;34m(self, path_or_buf, encoding, sep, columns, index_label, mode, compression, quoting, quotechar, line_terminator, chunksize, date_format, doublequote, escapechar, errors, storage_options)\u001b[0m\n\u001b[0;32m   1159\u001b[0m     created_buffer \u001b[38;5;241m=\u001b[39m \u001b[38;5;28;01mFalse\u001b[39;00m\n\u001b[0;32m   1161\u001b[0m csv_formatter \u001b[38;5;241m=\u001b[39m CSVFormatter(\n\u001b[0;32m   1162\u001b[0m     path_or_buf\u001b[38;5;241m=\u001b[39mpath_or_buf,\n\u001b[0;32m   1163\u001b[0m     line_terminator\u001b[38;5;241m=\u001b[39mline_terminator,\n\u001b[1;32m   (...)\u001b[0m\n\u001b[0;32m   1178\u001b[0m     formatter\u001b[38;5;241m=\u001b[39m\u001b[38;5;28mself\u001b[39m\u001b[38;5;241m.\u001b[39mfmt,\n\u001b[0;32m   1179\u001b[0m )\n\u001b[1;32m-> 1180\u001b[0m \u001b[43mcsv_formatter\u001b[49m\u001b[38;5;241;43m.\u001b[39;49m\u001b[43msave\u001b[49m\u001b[43m(\u001b[49m\u001b[43m)\u001b[49m\n\u001b[0;32m   1182\u001b[0m \u001b[38;5;28;01mif\u001b[39;00m created_buffer:\n\u001b[0;32m   1183\u001b[0m     \u001b[38;5;28;01massert\u001b[39;00m \u001b[38;5;28misinstance\u001b[39m(path_or_buf, StringIO)\n",
      "File \u001b[1;32mC:\\Anaconda3\\envs\\project\\lib\\site-packages\\pandas\\io\\formats\\csvs.py:261\u001b[0m, in \u001b[0;36mCSVFormatter.save\u001b[1;34m(self)\u001b[0m\n\u001b[0;32m    241\u001b[0m \u001b[38;5;28;01mwith\u001b[39;00m get_handle(\n\u001b[0;32m    242\u001b[0m     \u001b[38;5;28mself\u001b[39m\u001b[38;5;241m.\u001b[39mfilepath_or_buffer,\n\u001b[0;32m    243\u001b[0m     \u001b[38;5;28mself\u001b[39m\u001b[38;5;241m.\u001b[39mmode,\n\u001b[1;32m   (...)\u001b[0m\n\u001b[0;32m    249\u001b[0m \n\u001b[0;32m    250\u001b[0m     \u001b[38;5;66;03m# Note: self.encoding is irrelevant here\u001b[39;00m\n\u001b[0;32m    251\u001b[0m     \u001b[38;5;28mself\u001b[39m\u001b[38;5;241m.\u001b[39mwriter \u001b[38;5;241m=\u001b[39m csvlib\u001b[38;5;241m.\u001b[39mwriter(\n\u001b[0;32m    252\u001b[0m         handles\u001b[38;5;241m.\u001b[39mhandle,\n\u001b[0;32m    253\u001b[0m         lineterminator\u001b[38;5;241m=\u001b[39m\u001b[38;5;28mself\u001b[39m\u001b[38;5;241m.\u001b[39mline_terminator,\n\u001b[1;32m   (...)\u001b[0m\n\u001b[0;32m    258\u001b[0m         quotechar\u001b[38;5;241m=\u001b[39m\u001b[38;5;28mself\u001b[39m\u001b[38;5;241m.\u001b[39mquotechar,\n\u001b[0;32m    259\u001b[0m     )\n\u001b[1;32m--> 261\u001b[0m     \u001b[38;5;28;43mself\u001b[39;49m\u001b[38;5;241;43m.\u001b[39;49m\u001b[43m_save\u001b[49m\u001b[43m(\u001b[49m\u001b[43m)\u001b[49m\n",
      "File \u001b[1;32mC:\\Anaconda3\\envs\\project\\lib\\site-packages\\pandas\\io\\formats\\csvs.py:266\u001b[0m, in \u001b[0;36mCSVFormatter._save\u001b[1;34m(self)\u001b[0m\n\u001b[0;32m    264\u001b[0m \u001b[38;5;28;01mif\u001b[39;00m \u001b[38;5;28mself\u001b[39m\u001b[38;5;241m.\u001b[39m_need_to_save_header:\n\u001b[0;32m    265\u001b[0m     \u001b[38;5;28mself\u001b[39m\u001b[38;5;241m.\u001b[39m_save_header()\n\u001b[1;32m--> 266\u001b[0m \u001b[38;5;28;43mself\u001b[39;49m\u001b[38;5;241;43m.\u001b[39;49m\u001b[43m_save_body\u001b[49m\u001b[43m(\u001b[49m\u001b[43m)\u001b[49m\n",
      "File \u001b[1;32mC:\\Anaconda3\\envs\\project\\lib\\site-packages\\pandas\\io\\formats\\csvs.py:304\u001b[0m, in \u001b[0;36mCSVFormatter._save_body\u001b[1;34m(self)\u001b[0m\n\u001b[0;32m    302\u001b[0m \u001b[38;5;28;01mif\u001b[39;00m start_i \u001b[38;5;241m>\u001b[39m\u001b[38;5;241m=\u001b[39m end_i:\n\u001b[0;32m    303\u001b[0m     \u001b[38;5;28;01mbreak\u001b[39;00m\n\u001b[1;32m--> 304\u001b[0m \u001b[38;5;28;43mself\u001b[39;49m\u001b[38;5;241;43m.\u001b[39;49m\u001b[43m_save_chunk\u001b[49m\u001b[43m(\u001b[49m\u001b[43mstart_i\u001b[49m\u001b[43m,\u001b[49m\u001b[43m \u001b[49m\u001b[43mend_i\u001b[49m\u001b[43m)\u001b[49m\n",
      "File \u001b[1;32mC:\\Anaconda3\\envs\\project\\lib\\site-packages\\pandas\\io\\formats\\csvs.py:315\u001b[0m, in \u001b[0;36mCSVFormatter._save_chunk\u001b[1;34m(self, start_i, end_i)\u001b[0m\n\u001b[0;32m    312\u001b[0m data \u001b[38;5;241m=\u001b[39m [res\u001b[38;5;241m.\u001b[39miget_values(i) \u001b[38;5;28;01mfor\u001b[39;00m i \u001b[38;5;129;01min\u001b[39;00m \u001b[38;5;28mrange\u001b[39m(\u001b[38;5;28mlen\u001b[39m(res\u001b[38;5;241m.\u001b[39mitems))]\n\u001b[0;32m    314\u001b[0m ix \u001b[38;5;241m=\u001b[39m \u001b[38;5;28mself\u001b[39m\u001b[38;5;241m.\u001b[39mdata_index[slicer]\u001b[38;5;241m.\u001b[39m_format_native_types(\u001b[38;5;241m*\u001b[39m\u001b[38;5;241m*\u001b[39m\u001b[38;5;28mself\u001b[39m\u001b[38;5;241m.\u001b[39m_number_format)\n\u001b[1;32m--> 315\u001b[0m \u001b[43mlibwriters\u001b[49m\u001b[38;5;241;43m.\u001b[39;49m\u001b[43mwrite_csv_rows\u001b[49m\u001b[43m(\u001b[49m\n\u001b[0;32m    316\u001b[0m \u001b[43m    \u001b[49m\u001b[43mdata\u001b[49m\u001b[43m,\u001b[49m\n\u001b[0;32m    317\u001b[0m \u001b[43m    \u001b[49m\u001b[43mix\u001b[49m\u001b[43m,\u001b[49m\n\u001b[0;32m    318\u001b[0m \u001b[43m    \u001b[49m\u001b[38;5;28;43mself\u001b[39;49m\u001b[38;5;241;43m.\u001b[39;49m\u001b[43mnlevels\u001b[49m\u001b[43m,\u001b[49m\n\u001b[0;32m    319\u001b[0m \u001b[43m    \u001b[49m\u001b[38;5;28;43mself\u001b[39;49m\u001b[38;5;241;43m.\u001b[39;49m\u001b[43mcols\u001b[49m\u001b[43m,\u001b[49m\n\u001b[0;32m    320\u001b[0m \u001b[43m    \u001b[49m\u001b[38;5;28;43mself\u001b[39;49m\u001b[38;5;241;43m.\u001b[39;49m\u001b[43mwriter\u001b[49m\u001b[43m,\u001b[49m\n\u001b[0;32m    321\u001b[0m \u001b[43m\u001b[49m\u001b[43m)\u001b[49m\n",
      "File \u001b[1;32mC:\\Anaconda3\\envs\\project\\lib\\site-packages\\pandas\\_libs\\writers.pyx:72\u001b[0m, in \u001b[0;36mpandas._libs.writers.write_csv_rows\u001b[1;34m()\u001b[0m\n",
      "\u001b[1;31mPermissionError\u001b[0m: [Errno 13] Permission denied"
     ]
    }
   ],
   "source": [
    "import os\n",
    "import pandas as pd\n",
    "import time\n",
    "from tqdm import tqdm\n",
    "from PIL import Image\n",
    "import numpy as np\n",
    "\n",
    "columnNames = list()\n",
    "\n",
    "columnNames.append('label')\n",
    "\n",
    "for i in range(784):\n",
    "    pixel = str(i)\n",
    "    columnNames.append(pixel)\n",
    "\n",
    "train_data = pd.DataFrame(columns = columnNames)\n",
    "\n",
    "num_images = 0\n",
    "\n",
    "for i in range(0, 8):\n",
    "\n",
    "    print(\"Iterating: \" + str(i) + \" folder\")\n",
    "\n",
    "    for file in tqdm(os.listdir(str(i+10))):\n",
    "        img = Image.open(os.path.join(str(i+10), file))\n",
    "        img = img.resize((28, 28), Image.NEAREST)\n",
    "        img.load()\n",
    "        imgdata = np.asarray(img, dtype=\"int32\")\n",
    "       \n",
    "        data = []\n",
    "        data.append(str(i))\n",
    "        for y in range(28):\n",
    "            for x in range(28):\n",
    "                data.append(imgdata[x][y])\n",
    "\n",
    "        train_data.loc[num_images] = data\n",
    "\n",
    "        num_images += 1\n",
    "\n",
    "train_data.to_csv(\"train_converted.csv\", index=False)"
   ]
  },
  {
   "cell_type": "code",
   "execution_count": null,
   "id": "18e6fd19",
   "metadata": {},
   "outputs": [],
   "source": []
  }
 ],
 "metadata": {
  "kernelspec": {
   "display_name": "project",
   "language": "python",
   "name": "project"
  },
  "language_info": {
   "codemirror_mode": {
    "name": "ipython",
    "version": 3
   },
   "file_extension": ".py",
   "mimetype": "text/x-python",
   "name": "python",
   "nbconvert_exporter": "python",
   "pygments_lexer": "ipython3",
   "version": "3.9.7"
  }
 },
 "nbformat": 4,
 "nbformat_minor": 5
}
