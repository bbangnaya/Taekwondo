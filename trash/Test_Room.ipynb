{
 "cells": [
  {
   "cell_type": "code",
   "execution_count": 5,
   "id": "8948292e",
   "metadata": {},
   "outputs": [
    {
     "name": "stdout",
     "output_type": "stream",
     "text": [
      "10\n"
     ]
    }
   ],
   "source": [
    "Action_Num = [1,4,5,6,7,8,10,14]\n",
    "print(str(Action_Num[6]).zfill(2))"
   ]
  },
  {
   "cell_type": "code",
   "execution_count": 6,
   "id": "39538e27",
   "metadata": {},
   "outputs": [],
   "source": [
    "import os \n",
    "os.makedirs(\"a/b/c/d\")\n",
    "# a안에 b안에 c안에 d 폴더 생성\n",
    "# 하지만, a/b/c/d가 모두 이미 존재하는 폴더라면 오류 발생.\n"
   ]
  },
  {
   "cell_type": "code",
   "execution_count": null,
   "id": "a6c1fa78",
   "metadata": {},
   "outputs": [],
   "source": [
    "# 폴더생성 기본 코드\n",
    "import os \n",
    "os.mkdir(\"C:/Users/user/Desktop/Taekwondo/DataSet/GoodFolder1\") "
   ]
  },
  {
   "cell_type": "code",
   "execution_count": 5,
   "id": "28d763a6",
   "metadata": {},
   "outputs": [
    {
     "name": "stdout",
     "output_type": "stream",
     "text": [
      "현재 위치 : ./\n"
     ]
    }
   ],
   "source": [
    "# 현재 위치 알아내는 코드\n",
    "import os \n",
    "current_path = os.getcwd() \n",
    "print(\"현재 위치 : \" + current_path)\n",
    "\n",
    "# 출처: https://blockdmask.tistory.com/554 [개발자 지망생]"
   ]
  },
  {
   "cell_type": "code",
   "execution_count": null,
   "id": "ed3dafe1",
   "metadata": {},
   "outputs": [],
   "source": [
    "# 12프레임단위로 추출하는 코드\n",
    "import cv2\n",
    "for()\n",
    "vidcap = cv2.VideoCapture('C:/Users/user/Desktop/Taekwondo/test/A01')\n",
    "file_name = 'T38_A01_S01.mp4'\n",
    "count = 0\n",
    "\n",
    "while(vidcap.isOpened()):\n",
    "    ret, image = vidcap.read()\n",
    "    if(int(vidcap.get(1)) % 20 == 0):             # 여기가 프레임 수정하는 코드\n",
    "        print('Saved frame number : ' + str(int(vidcap.get(1))))\n",
    "        cv2.imwrite(\"../data/Taekwondo/train/frame%d.png\" % count, image)\n",
    "        print('Saved frame%d.jpg' % count)\n",
    "        count += 1\n",
    "        "
   ]
  },
  {
   "cell_type": "code",
   "execution_count": null,
   "id": "b0d27c0a",
   "metadata": {},
   "outputs": [],
   "source": [
    "for Set in range(2, 10):\n",
    "        os.mkdir(my_path + file_name + str(Set))\n",
    "    file_name = 'T38_A01_S01.mp4'\n",
    "    print('T%d_A%d_S%d.jpg',%Trainer, %Action,%Set)"
   ]
  },
  {
   "cell_type": "code",
   "execution_count": null,
   "id": "d018d515",
   "metadata": {},
   "outputs": [],
   "source": [
    "# 12프레임단위로 추출하는 코드\n",
    "import cv2\n",
    "vidcap = cv2.VideoCapture('C:/Users/user/Desktop/Taekwondo/test/A01/T38_A01_S01.mp4')\n",
    "\n",
    "Trainer= 1\n",
    "Action = 1\n",
    "Set = 0\n",
    "\n",
    "for Action in range(1,9):\n",
    "    video_path = \"C:/Users/user/Desktop/Taekwondo/DataSet/A01\"\n",
    "    \n",
    "    # 비디오 생성 경로 변경 코드 필요\n",
    "    \n",
    "    \n",
    "# 이미지 추출\n",
    "while(vidcap.isOpened()):\n",
    "    ret, image = vidcap.read()\n",
    "    if(int(vidcap.get(1)) % 12 == 0):             # 여기가 프레임 수정하는 코드\n",
    "        print('Saved frame number : ' + str(int(vidcap.get(1))))\n",
    "        cv2.imwrite('video_path + T%d_A%d_S%d.jpg', % Trainer, % Action,% Set, image)\n",
    "        # 바뀌는 비디오 경로 + 바뀌는 파일명\n",
    "        print('Saved frame%d.jpg' % count)\n",
    "        Set += 1    # 여기서 파일명을 바꿔준다."
   ]
  },
  {
   "cell_type": "code",
   "execution_count": 2,
   "id": "38c9feb7",
   "metadata": {},
   "outputs": [
    {
     "name": "stdout",
     "output_type": "stream",
     "text": [
      "Saved frame number : 12\n",
      "Saved T1_A1_S0.jpg\n",
      "Saved frame number : 24\n",
      "Saved T1_A1_S1.jpg\n",
      "Saved frame number : 24\n"
     ]
    },
    {
     "ename": "error",
     "evalue": "OpenCV(4.5.5) D:\\a\\opencv-python\\opencv-python\\opencv\\modules\\imgcodecs\\src\\loadsave.cpp:801: error: (-215:Assertion failed) !_img.empty() in function 'cv::imwrite'\n",
     "output_type": "error",
     "traceback": [
      "\u001b[1;31m---------------------------------------------------------------------------\u001b[0m",
      "\u001b[1;31merror\u001b[0m                                     Traceback (most recent call last)",
      "Input \u001b[1;32mIn [2]\u001b[0m, in \u001b[0;36m<cell line: 15>\u001b[1;34m()\u001b[0m\n\u001b[0;32m     18\u001b[0m \u001b[38;5;28mprint\u001b[39m(\u001b[38;5;124m'\u001b[39m\u001b[38;5;124mSaved frame number : \u001b[39m\u001b[38;5;124m'\u001b[39m \u001b[38;5;241m+\u001b[39m \u001b[38;5;28mstr\u001b[39m(\u001b[38;5;28mint\u001b[39m(vidcap\u001b[38;5;241m.\u001b[39mget(\u001b[38;5;241m1\u001b[39m))))\n\u001b[0;32m     19\u001b[0m \u001b[38;5;66;03m#cv2.imwrite('img_path + T%d_A%d_S%d.jpg' %(Trainer, Action, Set), image)\u001b[39;00m\n\u001b[1;32m---> 20\u001b[0m \u001b[43mcv2\u001b[49m\u001b[38;5;241;43m.\u001b[39;49m\u001b[43mimwrite\u001b[49m\u001b[43m(\u001b[49m\u001b[38;5;124;43m'\u001b[39;49m\u001b[38;5;124;43mC:/Users/user/Desktop/Taekwondo/DataSet/A01/T\u001b[39;49m\u001b[38;5;132;43;01m%d\u001b[39;49;00m\u001b[38;5;124;43m_A\u001b[39;49m\u001b[38;5;132;43;01m%d\u001b[39;49;00m\u001b[38;5;124;43m_S\u001b[39;49m\u001b[38;5;132;43;01m%d\u001b[39;49;00m\u001b[38;5;124;43m.jpg\u001b[39;49m\u001b[38;5;124;43m'\u001b[39;49m\u001b[43m \u001b[49m\u001b[38;5;241;43m%\u001b[39;49m\u001b[43m(\u001b[49m\u001b[43mTrainer\u001b[49m\u001b[43m,\u001b[49m\u001b[43m \u001b[49m\u001b[43mAction\u001b[49m\u001b[43m,\u001b[49m\u001b[43m \u001b[49m\u001b[43mSet\u001b[49m\u001b[43m)\u001b[49m\u001b[43m,\u001b[49m\u001b[43m \u001b[49m\u001b[43mimage\u001b[49m\u001b[43m)\u001b[49m\n\u001b[0;32m     21\u001b[0m \u001b[38;5;66;03m# 바뀌는 비디오 경로 + 바뀌는 파일명\u001b[39;00m\n\u001b[0;32m     22\u001b[0m \u001b[38;5;28mprint\u001b[39m(\u001b[38;5;124m'\u001b[39m\u001b[38;5;124mSaved T\u001b[39m\u001b[38;5;132;01m%d\u001b[39;00m\u001b[38;5;124m_A\u001b[39m\u001b[38;5;132;01m%d\u001b[39;00m\u001b[38;5;124m_S\u001b[39m\u001b[38;5;132;01m%d\u001b[39;00m\u001b[38;5;124m.jpg\u001b[39m\u001b[38;5;124m'\u001b[39m \u001b[38;5;241m%\u001b[39m(Trainer, Action, Set))\n",
      "\u001b[1;31merror\u001b[0m: OpenCV(4.5.5) D:\\a\\opencv-python\\opencv-python\\opencv\\modules\\imgcodecs\\src\\loadsave.cpp:801: error: (-215:Assertion failed) !_img.empty() in function 'cv::imwrite'\n"
     ]
    }
   ],
   "source": [
    "# 12프레임단위로 추출하는 코드(성공)\n",
    "import cv2\n",
    "vidcap = cv2.VideoCapture('C:/Users/user/Desktop/Taekwondo/test/A01/T38_A01_S01.mp4')\n",
    "# cv2.VideoCapture 공부해서 여러 파일 자동으로 읽어들일 수 있는지 확인\n",
    "\n",
    "Trainer= 1\n",
    "Action = 1\n",
    "Set = 0\n",
    "# 생성되는 이미지 파일경로, \n",
    "# for문으로 폴더내에 모든 영상추출하면 \n",
    "# 폴더생성 -> path 수정해서 추출\n",
    "img_path = \"C:/Users/user/Desktop/Taekwondo/DataSet/A01/\"\n",
    "    \n",
    "# 이미지 추출\n",
    "while(vidcap.isOpened()):\n",
    "    ret, image = vidcap.read()\n",
    "    if(int(vidcap.get(1)) % 12 == 0):             # 여기가 프레임 수정하는 코드\n",
    "        print('Saved frame number : ' + str(int(vidcap.get(1))))\n",
    "        #cv2.imwrite('img_path + T%d_A%d_S%d.jpg' %(Trainer, Action, Set), image)\n",
    "        cv2.imwrite('C:/Users/user/Desktop/Taekwondo/DataSet/A01/T%d_A%d_S%d.jpg' %(Trainer, Action, Set), image)\n",
    "        # 바뀌는 비디오 경로 + 바뀌는 파일명\n",
    "        print('Saved T%d_A%d_S%d.jpg' %(Trainer, Action, Set))\n",
    "        Set += 1    # 여기서 파일명을 바꿔준다."
   ]
  },
  {
   "cell_type": "code",
   "execution_count": 13,
   "id": "3f91c7b6",
   "metadata": {},
   "outputs": [
    {
     "name": "stdout",
     "output_type": "stream",
     "text": [
      "Saved frame number : 12\n",
      "Saved T1_A1_S0.jpg\n",
      "Saved frame number : 24\n",
      "Saved T1_A1_S1.jpg\n",
      "Saved frame number : 24\n"
     ]
    },
    {
     "ename": "error",
     "evalue": "OpenCV(4.5.5) D:\\a\\opencv-python\\opencv-python\\opencv\\modules\\imgcodecs\\src\\loadsave.cpp:801: error: (-215:Assertion failed) !_img.empty() in function 'cv::imwrite'\n",
     "output_type": "error",
     "traceback": [
      "\u001b[1;31m---------------------------------------------------------------------------\u001b[0m",
      "\u001b[1;31merror\u001b[0m                                     Traceback (most recent call last)",
      "Input \u001b[1;32mIn [13]\u001b[0m, in \u001b[0;36m<cell line: 15>\u001b[1;34m()\u001b[0m\n\u001b[0;32m     18\u001b[0m \u001b[38;5;28mprint\u001b[39m(\u001b[38;5;124m'\u001b[39m\u001b[38;5;124mSaved frame number : \u001b[39m\u001b[38;5;124m'\u001b[39m \u001b[38;5;241m+\u001b[39m \u001b[38;5;28mstr\u001b[39m(\u001b[38;5;28mint\u001b[39m(vidcap\u001b[38;5;241m.\u001b[39mget(\u001b[38;5;241m1\u001b[39m))))\n\u001b[0;32m     19\u001b[0m \u001b[38;5;66;03m# cv2.imwrite('img_path + T%d_A%d_S%d.jpg' %(Trainer, Action, Set), image)\u001b[39;00m\n\u001b[1;32m---> 20\u001b[0m \u001b[43mcv2\u001b[49m\u001b[38;5;241;43m.\u001b[39;49m\u001b[43mimwrite\u001b[49m\u001b[43m(\u001b[49m\u001b[38;5;124;43m'\u001b[39;49m\u001b[38;5;124;43mC:/Users/user/Desktop/Taekwondo/DataSet/A01/T\u001b[39;49m\u001b[38;5;132;43;01m%d\u001b[39;49;00m\u001b[38;5;124;43m_A\u001b[39;49m\u001b[38;5;132;43;01m%d\u001b[39;49;00m\u001b[38;5;124;43m_S\u001b[39;49m\u001b[38;5;132;43;01m%d\u001b[39;49;00m\u001b[38;5;124;43m.jpg\u001b[39;49m\u001b[38;5;124;43m'\u001b[39;49m\u001b[43m \u001b[49m\u001b[38;5;241;43m%\u001b[39;49m\u001b[43m(\u001b[49m\u001b[43mTrainer\u001b[49m\u001b[43m,\u001b[49m\u001b[43m \u001b[49m\u001b[43mAction\u001b[49m\u001b[43m,\u001b[49m\u001b[43m \u001b[49m\u001b[43mSet\u001b[49m\u001b[43m)\u001b[49m\u001b[43m,\u001b[49m\u001b[43m \u001b[49m\u001b[43mimage\u001b[49m\u001b[43m)\u001b[49m\n\u001b[0;32m     21\u001b[0m \u001b[38;5;66;03m# 바뀌는 비디오 경로 + 바뀌는 파일명\u001b[39;00m\n\u001b[0;32m     22\u001b[0m \u001b[38;5;28mprint\u001b[39m(\u001b[38;5;124m'\u001b[39m\u001b[38;5;124mSaved T\u001b[39m\u001b[38;5;132;01m%d\u001b[39;00m\u001b[38;5;124m_A\u001b[39m\u001b[38;5;132;01m%d\u001b[39;00m\u001b[38;5;124m_S\u001b[39m\u001b[38;5;132;01m%d\u001b[39;00m\u001b[38;5;124m.jpg\u001b[39m\u001b[38;5;124m'\u001b[39m \u001b[38;5;241m%\u001b[39m(Trainer, Action, Set))\n",
      "\u001b[1;31merror\u001b[0m: OpenCV(4.5.5) D:\\a\\opencv-python\\opencv-python\\opencv\\modules\\imgcodecs\\src\\loadsave.cpp:801: error: (-215:Assertion failed) !_img.empty() in function 'cv::imwrite'\n"
     ]
    }
   ],
   "source": [
    "# 12프레임단위로 추출하는 코드(성공+복사본)\n",
    "import cv2\n",
    "vidcap = cv2.VideoCapture('C:/Users/user/Desktop/Taekwondo/test/A01/T38_A01_S01.mp4')\n",
    "# cv2.VideoCapture 공부해서 여러 파일 자동으로 읽어들일 수 있는지 확인\n",
    "\n",
    "Trainer= 1\n",
    "Action = 1\n",
    "Set = 0\n",
    "# 생성되는 이미지 파일경로, \n",
    "# for문으로 폴더내에 모든 영상추출하면 \n",
    "# 폴더생성 -> path 수정해서 추출\n",
    "img_path = \"C:/Users/user/Desktop/Taekwondo/DataSet/A01\"\n",
    "    \n",
    "# 이미지 추출\n",
    "while(vidcap.isOpened()):\n",
    "    ret, image = vidcap.read()\n",
    "    if(int(vidcap.get(1)) % 12 == 0):             # 여기가 프레임 수정하는 코드\n",
    "        print('Saved frame number : ' + str(int(vidcap.get(1))))\n",
    "        # cv2.imwrite('img_path + T%d_A%d_S%d.jpg' %(Trainer, Action, Set), image)\n",
    "        cv2.imwrite('C:/Users/user/Desktop/Taekwondo/DataSet/A01/T%d_A%d_S%d.jpg' %(Trainer, Action, Set), image)\n",
    "        # 바뀌는 비디오 경로 + 바뀌는 파일명\n",
    "        print('Saved T%d_A%d_S%d.jpg' %(Trainer, Action, Set))\n",
    "        Set += 1    # 여기서 파일명을 바꿔준다."
   ]
  },
  {
   "cell_type": "code",
   "execution_count": 4,
   "id": "c19832ea",
   "metadata": {},
   "outputs": [
    {
     "ename": "SyntaxError",
     "evalue": "invalid syntax (3267929076.py, line 16)",
     "output_type": "error",
     "traceback": [
      "\u001b[1;36m  Input \u001b[1;32mIn [4]\u001b[1;36m\u001b[0m\n\u001b[1;33m    count++\u001b[0m\n\u001b[1;37m           ^\u001b[0m\n\u001b[1;31mSyntaxError\u001b[0m\u001b[1;31m:\u001b[0m invalid syntax\n"
     ]
    }
   ],
   "source": [
    "# 12프레임단위로 추출하는 코드(수정중)\n",
    "import cv2\n",
    "vidcap = cv2.VideoCapture('C:/Users/user/Desktop/Taekwondo/test/A01/T38_A01_S01.mp4')\n",
    "# cv2.VideoCapture 공부해서 여러 파일 자동으로 읽어들일 수 있는지 확인\n",
    "\n",
    "Trainer= 1\n",
    "Action = 1\n",
    "Set = 0\n",
    "# 생성되는 이미지 파일경로, \n",
    "# for문으로 폴더내에 모든 영상추출하면 \n",
    "# 폴더생성 -> path 수정해서 추출\n",
    "for Action in range(1,9):\n",
    "    count=0\n",
    "    img_path = \"C:/Users/user/Desktop/Taekwondo/DataSet/\" + \"folder_name + str(num).zfill(2)\"\n",
    "    img = \"/T%d_A%d_S%d_count\"\n",
    "    count++\n",
    "    \n",
    "# 이미지 추출\n",
    "while(vidcap.isOpened()):\n",
    "    ret, image = vidcap.read()\n",
    "    if(int(vidcap.get(1)) % 12 == 0):             # 여기가 프레임 수정하는 코드\n",
    "        print('Saved frame number : ' + str(int(vidcap.get(1))))\n",
    "        # cv2.imwrite('img_path + T%d_A%d_S%d.jpg' %(Trainer, Action, Set), image)\n",
    "        cv2.imwrite('C:/Users/user/Desktop/Taekwondo/DataSet/A01/T%d_A%d_S%d.jpg' %(Trainer, Action, Set), image)\n",
    "        # 바뀌는 비디오 경로 + 바뀌는 파일명\n",
    "        print('Saved T%d_A%d_S%d.jpg' %(Trainer, Action, Set))\n",
    "        Set += 1    # 여기서 파일명을 바꿔준다."
   ]
  },
  {
   "cell_type": "code",
   "execution_count": 4,
   "id": "687abc7f",
   "metadata": {},
   "outputs": [
    {
     "data": {
      "application/vnd.jupyter.widget-view+json": {
       "model_id": "306b22451988487a93d65b44d263d024",
       "version_major": 2,
       "version_minor": 0
      },
      "text/plain": [
       "iterate range 100:   0%|          | 0/100 [00:00<?, ?it/s]"
      ]
     },
     "metadata": {},
     "output_type": "display_data"
    }
   ],
   "source": [
    "from tqdm import notebook\n",
    "import time \n",
    "\n",
    "for i in notebook.tqdm(range(100), desc='iterate range 100'):\n",
    "    time.sleep(0.01)"
   ]
  },
  {
   "cell_type": "code",
   "execution_count": 20,
   "id": "18e6fd19",
   "metadata": {},
   "outputs": [
    {
     "name": "stdout",
     "output_type": "stream",
     "text": [
      "텐서의 크기 : torch.Size([1, 1, 28, 28])\n"
     ]
    }
   ],
   "source": [
    "# size 연구 \n",
    "import torch\n",
    "import torch.nn as nn\n",
    "\n",
    "# 배치 크기 × 채널 × 높이(height) × 너비(widht)의 크기의 텐서를 선언\n",
    "inputs = torch.Tensor(1, 1, 28, 28)\n",
    "print('텐서의 크기 : {}'.format(inputs.shape))"
   ]
  },
  {
   "cell_type": "code",
   "execution_count": 17,
   "id": "29af9f2c",
   "metadata": {},
   "outputs": [
    {
     "name": "stdout",
     "output_type": "stream",
     "text": [
      "Conv2d(1, 32, kernel_size=(3, 3), stride=(1, 1), padding=(1, 1))\n"
     ]
    }
   ],
   "source": [
    "# 합성곱층과 풀링 선언하기\n",
    "conv1 = nn.Conv2d(1, 32, 3, padding=1)\n",
    "print(conv1)"
   ]
  },
  {
   "cell_type": "code",
   "execution_count": 18,
   "id": "3bef52d6",
   "metadata": {},
   "outputs": [
    {
     "name": "stdout",
     "output_type": "stream",
     "text": [
      "MaxPool2d(kernel_size=2, stride=2, padding=0, dilation=1, ceil_mode=False)\n"
     ]
    }
   ],
   "source": [
    "pool = nn.MaxPool2d(2)\n",
    "print(pool)"
   ]
  },
  {
   "cell_type": "code",
   "execution_count": 21,
   "id": "e515cb05",
   "metadata": {},
   "outputs": [
    {
     "name": "stdout",
     "output_type": "stream",
     "text": [
      "torch.Size([1, 32, 28, 28])\n"
     ]
    }
   ],
   "source": [
    "out = conv1(inputs)\n",
    "print(out.shape)\n",
    "\n",
    "# inputs = torch.Tensor(1, 1, 32, 32) 은 오류가 없다.\n",
    "# inputs = torch.Tensor(1, 3, 32, 32) 이면 오류 뜬다.\n",
    "# RuntimeError: Given groups=1, weight of size [32, 1, 3, 3], expected input[1, 3, 32, 32] to have 1 channels, \n",
    "# but got 3 channels instead"
   ]
  },
  {
   "cell_type": "code",
   "execution_count": null,
   "id": "c971d749",
   "metadata": {},
   "outputs": [],
   "source": []
  }
 ],
 "metadata": {
  "kernelspec": {
   "display_name": "project",
   "language": "python",
   "name": "project"
  },
  "language_info": {
   "codemirror_mode": {
    "name": "ipython",
    "version": 3
   },
   "file_extension": ".py",
   "mimetype": "text/x-python",
   "name": "python",
   "nbconvert_exporter": "python",
   "pygments_lexer": "ipython3",
   "version": "3.9.7"
  }
 },
 "nbformat": 4,
 "nbformat_minor": 5
}
